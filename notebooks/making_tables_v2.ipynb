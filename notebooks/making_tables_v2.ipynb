{
 "cells": [
  {
   "cell_type": "markdown",
   "metadata": {},
   "source": [
    "# Version 2 of Virgo tables (Final$^4$ Version) - 9/14/2021\n",
    "\n",
    "* v2 has the same number of galaxies as v1.  \n",
    "  * actually, not true.  \n",
    "  * we had one missing galaxies that was supposed to be merged from two input sources, but we got rid of both. I am adding this back in starting at the review galaxy spreadsheet\n",
    "  \n",
    "  * JM found one source that was part of UGC04499\n",
    "  * we then matched the catalog to itself, looking for sources w/in 50\" of each other. \n",
    "    * we found 5 stars in this comparison, as well as 3 galaxies that need their centers adjusted\n",
    "  * we then looked for matches with Dustin Lang's catalog of Tycho and Gaia sources.  found 140 matches w/in 5\".  inspected these.  most are the saturated centers of bright galaxies (brings up issue with photometry for these gals..). Found 2 stars that we already had identified using the internal match.  we found another two sources that need to have coords updated.\n",
    "\n",
    "* The main difference is that we have cleaned the tables and eliminated duplicate columns.\n",
    "\n",
    "* we removed \"north\" in the table name\n",
    "\n",
    "* We decided NOT to fix the galaxy that was accidentally omitted b/c this will cause a string of chaotic events.  We are just going to leave that out :(\n",
    "\n",
    "\n",
    "\n",
    "## Complications\n",
    "* we will need a dictionary to relate the V2 VFIDs to the V1 VFIDs\n",
    "  * for example, the Halpha measurements are linked to the V1 ids.  maybe other things as well...\n",
    "  \n",
    "  \n",
    "# Procedure\n",
    "\n",
    "* update write_subtables_v2.py\n",
    "\n",
    "<div class=\"alert alert-block alert-info\">\n",
    "<b>Tip:</b> Use blue boxes (alert-info) for tips and notes. \n",
    "If it’s a note, you don’t have to include the word “Note”.\n",
    "</div>\n",
    "\n",
    "# this v2 tables are made in notebook: making-subtables-of-cleaned-sample"
   ]
  },
  {
   "cell_type": "code",
   "execution_count": 1,
   "metadata": {},
   "outputs": [],
   "source": [
    "import os"
   ]
  },
  {
   "cell_type": "code",
   "execution_count": 2,
   "metadata": {},
   "outputs": [],
   "source": [
    "os.chdir('/home/rfinn/research/Virgo/tables-north/v2/')"
   ]
  },
  {
   "cell_type": "code",
   "execution_count": 130,
   "metadata": {},
   "outputs": [
    {
     "name": "stdout",
     "output_type": "stream",
     "text": [
      "outdir =  /home/rfinn/research/Virgo/tables-north/v2/\n"
     ]
    }
   ],
   "source": [
    "%run ~/github/Virgo/programs/write_subtables_v2.py --version v2 --north"
   ]
  },
  {
   "cell_type": "code",
   "execution_count": 131,
   "metadata": {
    "scrolled": false
   },
   "outputs": [
    {
     "name": "stdout",
     "output_type": "stream",
     "text": [
      "number of galaxies with D25 measurement = 5732 (0.85%)\n",
      "number of galaxies using NSA V1 Petro TH90 = 470 (0.07%)\n",
      "number of galaxies using NSA V1 Petro TH90 = 56 (0.01%)\n",
      "number of galaxies using A100 sdss Petro TH90 = 262 (0.04%)\n",
      "number of galaxies with no size measurement = 260 (0.04%)\n",
      "adjusting radius for  --  galaxies based on legacy images\n",
      "number of galaxies with updated values of radius =  146\n",
      "could not match galaxy \n",
      "  VFID       RA       DEC      vr   radius radius_flag         objname         NSAID NSAIDV0 AGC          NEDname           HLflag NSAflag NSAV0flag A100flag COflag HAflag HAobsflag Z0MGSflag Steerflag unwiseflag               prefix                 name   confirm_name by-eye id updated in by_eye keep? fix_rad recenter outside_legacy    Comment     RA_new DEC_new radius_new\n",
      "-------- --------- --------- ------ ------ ----------- ----------------------- ----- ------- --- -------------------------- ------ ------- --------- -------- ------ ------ --------- --------- --------- ---------- ---------------------------------- -------- ------------ --------- ----------------- ----- ------- -------- -------------- -------------- ------ ------- ----------\n",
      "VFID3006 193.68324 28.931776 2359.8   30.0       FALSE SDSSJ125443.97+285554.3     0       0   0 SSTSL2 J125443.64+285552.9   TRUE   FALSE     FALSE    FALSE  FALSE  FALSE     FALSE     FALSE     FALSE       TRUE VFID3006-SSTSL2J125443.64+285552.9 VFID3006           --        --                --     1       1        0              0 radius too big     --      --         10\n",
      "could not match galaxy \n",
      "  VFID       RA       DEC      vr   radius radius_flag  objname  NSAID NSAIDV0 AGC          NEDname          HLflag NSAflag NSAV0flag A100flag COflag HAflag HAobsflag Z0MGSflag Steerflag unwiseflag               prefix                name   confirm_name by-eye id updated in by_eye keep? fix_rad recenter outside_legacy Comment RA_new DEC_new radius_new\n",
      "-------- --------- --------- ------ ------ ----------- --------- ----- ------- --- ------------------------- ------ ------- --------- -------- ------ ------ --------- --------- --------- ---------- --------------------------------- -------- ------------ --------- ----------------- ----- ------- -------- -------------- ------- ------ ------- ----------\n",
      "VFID4674 187.53159 12.608621 1222.6   30.0       FALSE VIRGOUCD1     0       0   0 WISEA J123007.55+123630.8   TRUE   FALSE     FALSE    FALSE  FALSE  FALSE     FALSE     FALSE     FALSE       TRUE VFID4674-WISEAJ123007.55+123630.8 VFID4674           --        --                --     1       1        0              0     ucd     --      --         10\n",
      "CALCULATING SFRS\n",
      "1.1938664808532806\n"
     ]
    },
    {
     "name": "stderr",
     "output_type": "stream",
     "text": [
      "/home/rfinn/github/Virgo/programs/write_subtables_v2.py:543: RuntimeWarning: divide by zero encountered in log10\n",
      "  self.logMHI = np.log10(2.3566e5*self.cat['HIflux'])+2*np.log10(self.cat['Dist']) #Dist^2\n",
      "/home/rfinn/github/Virgo/programs/write_subtables_v2.py:569: RuntimeWarning: divide by zero encountered in log10\n",
      "  logD25kpc=np.log10(D25obskpc.value) + 0.35*np.log10(self.cat['expAB_r'])\n",
      "/home/rfinn/anaconda3/lib/python3.7/site-packages/astropy/table/column.py:984: RuntimeWarning: invalid value encountered in less\n",
      "  result = getattr(super(), op)(other)\n",
      "/home/rfinn/github/Virgo/programs/write_subtables_v2.py:599: RuntimeWarning: invalid value encountered in subtract\n",
      "  self.HIdef_jones_bytype[flag] = 6.44 + 1.04*(2*logD25kpc[flag])- self.logMHI[flag]\n",
      "/home/rfinn/github/Virgo/programs/write_subtables_v2.py:601: RuntimeWarning: invalid value encountered in subtract\n",
      "  self.HIdef_jones_bytype[flag] = 7.53 + .81*(2*logD25kpc[flag]) - self.logMHI[flag]\n",
      "/home/rfinn/anaconda3/lib/python3.7/site-packages/astropy/table/column.py:984: RuntimeWarning: invalid value encountered in less_equal\n",
      "  result = getattr(super(), op)(other)\n",
      "/home/rfinn/anaconda3/lib/python3.7/site-packages/astropy/table/column.py:984: RuntimeWarning: invalid value encountered in greater_equal\n",
      "  result = getattr(super(), op)(other)\n",
      "/home/rfinn/github/Virgo/programs/write_subtables_v2.py:603: RuntimeWarning: invalid value encountered in subtract\n",
      "  self.HIdef_jones_bytype[flag] = 7.14 + .93*(2*logD25kpc[flag]) - self.logMHI[flag]\n",
      "/home/rfinn/github/Virgo/programs/write_subtables_v2.py:614: RuntimeWarning: invalid value encountered in subtract\n",
      "  self.HIdef_bos = logh2MHIref - self.logMHI\n"
     ]
    },
    {
     "name": "stdout",
     "output_type": "stream",
     "text": [
      "number of lines in z0MGS cat =  9151\n",
      "length of keepnorth_flag =  9151\n"
     ]
    },
    {
     "name": "stderr",
     "output_type": "stream",
     "text": [
      "WARNING: UnitsWarning: ''dex'' did not parse as fits unit: At col 0, Unit ''dex'' not supported by the FITS standard.  [astropy.units.core]\n",
      "WARNING: UnitsWarning: 'log(solMass)' did not parse as fits unit: 'log' is not a recognized function [astropy.units.core]\n",
      "WARNING: UnitsWarning: 'log(solMass/yr)' did not parse as fits unit: 'log' is not a recognized function [astropy.units.core]\n",
      "WARNING: Attribute `keywords` of type <class 'collections.OrderedDict'> cannot be added to FITS Header - skipping [astropy.io.fits.convenience]\n"
     ]
    },
    {
     "name": "stdout",
     "output_type": "stream",
     "text": [
      "CO sources with no match in mastertable:\n",
      "        NEDname                source_name         VH \n",
      "------------------------ ----------------------- -----\n",
      "                NGC 4214                 NGC4214 291.0\n",
      "                NGC 4244                 NGC4244 244.0\n",
      "SDSS J120958.40+462726.6 SDSSJ120958.40+462726.6 265.0\n",
      "number of galaxies with CO matches =  242\n",
      "number of duplicates =  7\n",
      "CO sources that are matched to multiple galaxies in the mastertable:\n",
      "         NEDname         \n",
      "-------------------------\n",
      "                 FGC 2028\n",
      "                UGC 06782\n",
      "                UGC 10770\n",
      "                 VCC 0632\n",
      "                 VCC 0967\n",
      "                 VCC 1550\n",
      "WISEA J080947.89+222730.3\n",
      "number of duplicates =  63\n",
      "number of lines in ha file after deleting rows =  418\n",
      "number of columns after removing cols =  224\n",
      "number of Halpha matches =  355\n",
      "calculating snr\n"
     ]
    },
    {
     "name": "stderr",
     "output_type": "stream",
     "text": [
      "/home/rfinn/github/Virgo/programs/write_subtables_v2.py:954: RuntimeWarning: invalid value encountered in true_divide\n",
      "  self.haflag = ((self.hatable['HF_R24']/self.hatable['HF_R24_ERR']) > 1.)\n",
      "/home/rfinn/anaconda3/lib/python3.7/site-packages/astropy/table/column.py:984: RuntimeWarning: invalid value encountered in greater\n",
      "  result = getattr(super(), op)(other)\n"
     ]
    },
    {
     "name": "stdout",
     "output_type": "stream",
     "text": [
      "setting HAflag\n",
      "no match to bok obs target  VFID2998\n",
      "after matching to spring 2021, number of halpha obs = 506\n",
      "writing hafile\n",
      "finished writing hafile\n",
      "creating dummy column for steer flag\n",
      "writing main table : /home/rfinn/research/Virgo/tables-north/v2/vf_v2_main.fits\n",
      "Number in sample =  6780\n",
      "Number with CO data =  242\n",
      "Number with A100 data = 2336 (0.345)\n",
      "Number with z0MGS matches = 2375 (0.350)\n",
      "problem finding steer flag\n",
      "Number with unwise matches = 6114 (0.902)\n",
      "Number with unWISE and NSA = 5236 (0.772)\n",
      "CO SOURCES\n",
      "\tNumber of CO sources in z0MGS = 236 (0.98)\n",
      "no steer flag\n",
      "\tNumber of CO sources with unWISE and NSA = 228 (0.94)\n"
     ]
    },
    {
     "name": "stderr",
     "output_type": "stream",
     "text": [
      "WARNING: UnitsWarning: '10+12Msun' did not parse as fits unit: At col 5, Unit 'Msun' not supported by the FITS standard. Did you mean Sun? [astropy.units.core]\n",
      "WARNING: UnitsWarning: '10+10Lsun' did not parse as fits unit: At col 5, Unit 'Lsun' not supported by the FITS standard. Did you mean Sun? [astropy.units.core]\n"
     ]
    }
   ],
   "source": [
    "c.runall()"
   ]
  },
  {
   "cell_type": "code",
   "execution_count": null,
   "metadata": {},
   "outputs": [],
   "source": []
  }
 ],
 "metadata": {
  "kernelspec": {
   "display_name": "Python 3",
   "language": "python",
   "name": "python3"
  },
  "language_info": {
   "codemirror_mode": {
    "name": "ipython",
    "version": 3
   },
   "file_extension": ".py",
   "mimetype": "text/x-python",
   "name": "python",
   "nbconvert_exporter": "python",
   "pygments_lexer": "ipython3",
   "version": "3.7.4"
  }
 },
 "nbformat": 4,
 "nbformat_minor": 2
}
