{
 "cells": [
  {
   "cell_type": "markdown",
   "metadata": {},
   "source": [
    "# Version 2 of Virgo tables (Final$^4$ Version) - 9/14/2021\n",
    "\n",
    "* v2 has the same number of galaxies as v1.  \n",
    "  * actually, not true.  \n",
    "  * we had one missing galaxies that was supposed to be merged from two input sources, but we got rid of both. I am adding this back in starting at the review galaxy spreadsheet\n",
    "  \n",
    "  * JM found one source that was part of UGC04499\n",
    "  * we then matched the catalog to itself, looking for sources w/in 50\" of each other. \n",
    "    * we found 5 stars in this comparison, as well as 3 galaxies that need their centers adjusted\n",
    "  * we then looked for matches with Dustin Lang's catalog of Tycho and Gaia sources.  found 140 matches w/in 5\".  inspected these.  most are the saturated centers of bright galaxies (brings up issue with photometry for these gals..). Found 2 stars that we already had identified using the internal match.  we found another two sources that need to have coords updated.\n",
    "\n",
    "* The main difference is that we have cleaned the tables and eliminated duplicate columns.\n",
    "\n",
    "* we removed \"north\" in the table name\n",
    "\n",
    "* We decided NOT to fix the galaxy that was accidentally omitted b/c this will cause a string of chaotic events.  We are just going to leave that out :(\n",
    "\n",
    "\n",
    "\n",
    "## Complications\n",
    "* we will need a dictionary to relate the V2 VFIDs to the V1 VFIDs\n",
    "  * for example, the Halpha measurements are linked to the V1 ids.  maybe other things as well...\n",
    "  \n",
    "  \n",
    "# Procedure\n",
    "\n",
    "* update write_subtables_v2.py\n",
    "\n",
    "<div class=\"alert alert-block alert-info\">\n",
    "<b>Tip:</b> Use blue boxes (alert-info) for tips and notes. \n",
    "If it’s a note, you don’t have to include the word “Note”.\n",
    "</div>\n",
    "\n",
    "# this v2 tables are made in notebook: making-subtables-of-cleaned-sample"
   ]
  },
  {
   "cell_type": "code",
   "execution_count": 1,
   "metadata": {},
   "outputs": [],
   "source": [
    "import os"
   ]
  },
  {
   "cell_type": "code",
   "execution_count": 2,
   "metadata": {},
   "outputs": [],
   "source": [
    "os.chdir('/home/rfinn/research/Virgo/tables-north/v2/')"
   ]
  },
  {
   "cell_type": "code",
   "execution_count": 12,
   "metadata": {},
   "outputs": [
    {
     "name": "stdout",
     "output_type": "stream",
     "text": [
      "outdir =  /home/rfinn/research/Virgo/tables-north/v2/\n"
     ]
    }
   ],
   "source": [
    "%run ~/github/Virgo/programs/write_subtables_v2.py --version v2 --north"
   ]
  },
  {
   "cell_type": "code",
   "execution_count": 13,
   "metadata": {
    "scrolled": false
   },
   "outputs": [
    {
     "name": "stdout",
     "output_type": "stream",
     "text": [
      "number of galaxies with D25 measurement = 5732 (0.85%)\n",
      "number of galaxies using NSA V1 Petro TH90 = 470 (0.07%)\n",
      "number of galaxies using NSA V1 Petro TH90 = 56 (0.01%)\n",
      "number of galaxies using A100 sdss Petro TH90 = 262 (0.04%)\n",
      "number of galaxies with no size measurement = 260 (0.04%)\n",
      "adjusting radius for  --  galaxies based on legacy images\n",
      "number of galaxies with updated values of radius =  146\n",
      "could not match galaxy \n",
      "  VFID       RA       DEC      vr   radius radius_flag         objname         NSAID NSAIDV0 AGC          NEDname           HLflag NSAflag NSAV0flag A100flag COflag HAflag HAobsflag Z0MGSflag Steerflag unwiseflag               prefix                 name   confirm_name by-eye id updated in by_eye keep? fix_rad recenter outside_legacy    Comment     RA_new DEC_new radius_new\n",
      "-------- --------- --------- ------ ------ ----------- ----------------------- ----- ------- --- -------------------------- ------ ------- --------- -------- ------ ------ --------- --------- --------- ---------- ---------------------------------- -------- ------------ --------- ----------------- ----- ------- -------- -------------- -------------- ------ ------- ----------\n",
      "VFID3006 193.68324 28.931776 2359.8   30.0       FALSE SDSSJ125443.97+285554.3     0       0   0 SSTSL2 J125443.64+285552.9   TRUE   FALSE     FALSE    FALSE  FALSE  FALSE     FALSE     FALSE     FALSE       TRUE VFID3006-SSTSL2J125443.64+285552.9 VFID3006           --        --                --     1       1        0              0 radius too big     --      --         10\n",
      "could not match galaxy \n",
      "  VFID       RA       DEC      vr   radius radius_flag  objname  NSAID NSAIDV0 AGC          NEDname          HLflag NSAflag NSAV0flag A100flag COflag HAflag HAobsflag Z0MGSflag Steerflag unwiseflag               prefix                name   confirm_name by-eye id updated in by_eye keep? fix_rad recenter outside_legacy Comment RA_new DEC_new radius_new\n",
      "-------- --------- --------- ------ ------ ----------- --------- ----- ------- --- ------------------------- ------ ------- --------- -------- ------ ------ --------- --------- --------- ---------- --------------------------------- -------- ------------ --------- ----------------- ----- ------- -------- -------------- ------- ------ ------- ----------\n",
      "VFID4674 187.53159 12.608621 1222.6   30.0       FALSE VIRGOUCD1     0       0   0 WISEA J123007.55+123630.8   TRUE   FALSE     FALSE    FALSE  FALSE  FALSE     FALSE     FALSE     FALSE       TRUE VFID4674-WISEAJ123007.55+123630.8 VFID4674           --        --                --     1       1        0              0     ucd     --      --         10\n"
     ]
    },
    {
     "name": "stderr",
     "output_type": "stream",
     "text": [
      "/home/rfinn/github/Virgo/programs/write_subtables_v2.py:575: RuntimeWarning: divide by zero encountered in log10\n",
      "  self.logMHI = np.log10(2.3566e5*self.cat['HIflux'])+2*np.log10(self.cat['Dist']) #Dist^2\n",
      "/home/rfinn/github/Virgo/programs/write_subtables_v2.py:601: RuntimeWarning: divide by zero encountered in log10\n",
      "  logD25kpc=np.log10(D25obskpc.value) + 0.35*np.log10(self.cat['expAB_r'])\n",
      "/home/rfinn/github/Virgo/programs/write_subtables_v2.py:631: RuntimeWarning: invalid value encountered in subtract\n",
      "  self.HIdef_jones_bytype[flag] = 6.44 + 1.04*(2*logD25kpc[flag])- self.logMHI[flag]\n",
      "/home/rfinn/github/Virgo/programs/write_subtables_v2.py:633: RuntimeWarning: invalid value encountered in subtract\n",
      "  self.HIdef_jones_bytype[flag] = 7.53 + .81*(2*logD25kpc[flag]) - self.logMHI[flag]\n",
      "/home/rfinn/github/Virgo/programs/write_subtables_v2.py:635: RuntimeWarning: invalid value encountered in subtract\n",
      "  self.HIdef_jones_bytype[flag] = 7.14 + .93*(2*logD25kpc[flag]) - self.logMHI[flag]\n",
      "/home/rfinn/github/Virgo/programs/write_subtables_v2.py:646: RuntimeWarning: invalid value encountered in subtract\n",
      "  self.HIdef_bos = logh2MHIref - self.logMHI\n"
     ]
    },
    {
     "name": "stdout",
     "output_type": "stream",
     "text": [
      "number of lines in z0MGS cat =  9151\n",
      "length of keepnorth_flag =  9151\n",
      "\n",
      "######################\n",
      "Running get_CO\n",
      "######################\n",
      "\n",
      "CO sources with no match in mastertable:\n",
      "        NEDname                source_name         VH \n",
      "------------------------ ----------------------- -----\n",
      "                NGC 4214                 NGC4214 291.0\n",
      "                NGC 4244                 NGC4244 244.0\n",
      "SDSS J120958.40+462726.6 SDSSJ120958.40+462726.6 265.0\n",
      "number of galaxies with CO matches =  242\n",
      "number of duplicates =  2\n",
      "CO sources that are matched to multiple galaxies in the mastertable:\n",
      " NEDname \n",
      "---------\n",
      "         \n",
      "UGC 10770\n",
      "\n",
      "######################\n",
      "Running get_CO_paper1\n",
      "######################\n",
      "\n",
      "Paper 1 CO sources with no match in mastertable:\n",
      "        NEDname                source_name           Vcosmic    \n",
      "------------------------ ----------------------- ---------------\n",
      "                NGC 4214                 NGC4214 212.29304477634\n",
      "                NGC 4244                 NGC4244 315.45714685652\n",
      "SDSS J120958.40+462726.6 SDSSJ120958.40+462726.6 506.91572760036\n",
      "number of galaxies with Paper 1 CO matches =  242\n",
      "number of duplicates =  2\n",
      "Paper 1 CO sources that are matched to multiple galaxies in the mastertable:\n",
      " NEDname \n",
      "---------\n",
      "         \n",
      "UGC 10770\n",
      "\n",
      "######################\n",
      "Running get_halpha\n",
      "######################\n",
      "\n",
      "number of duplicates =  63\n",
      "number of lines in ha file after deleting rows =  418\n",
      "number of columns after removing cols =  224\n",
      "number of Halpha matches =  355\n",
      "calculating snr\n"
     ]
    },
    {
     "name": "stderr",
     "output_type": "stream",
     "text": [
      "/home/rfinn/github/Virgo/programs/write_subtables_v2.py:1104: RuntimeWarning: invalid value encountered in true_divide\n",
      "  self.haflag = ((self.hatable['HF_R24']/self.hatable['HF_R24_ERR']) > 1.)\n"
     ]
    },
    {
     "name": "stdout",
     "output_type": "stream",
     "text": [
      "setting HAflag\n",
      "no match to bok obs target  VFID2998\n",
      "after matching to spring 2021, number of halpha obs = 506\n",
      "BOK 22A table colnames =  ['VFID_V1', 'Date', 'Primary', 'CO']\n",
      "after matching to spring 2022, number of halpha obs = 589\n",
      "writing hafile\n",
      "finished writing hafile\n",
      "creating dummy column for steer flag\n",
      "writing main table : /home/rfinn/research/Virgo/tables-north/v2/vf_v2_main.fits\n",
      "Number in sample =  6780\n",
      "Number with CO data =  242\n",
      "Number with A100 data = 2336 (0.345)\n",
      "Number with z0MGS matches = 2375 (0.350)\n",
      "problem finding steer flag\n",
      "Number with unwise matches = 6114 (0.902)\n",
      "Number with unWISE and NSA = 5236 (0.772)\n",
      "CO SOURCES\n",
      "\tNumber of CO sources in z0MGS = 236 (0.98)\n",
      "no steer flag\n",
      "\tNumber of CO sources with unWISE and NSA = 228 (0.94)\n"
     ]
    }
   ],
   "source": [
    "c.runall()"
   ]
  },
  {
   "cell_type": "code",
   "execution_count": 11,
   "metadata": {},
   "outputs": [
    {
     "data": {
      "text/html": [
       "&lt;Column name=&apos;VFID_V1&apos; dtype=&apos;str8&apos; length=6780&gt;\n",
       "<table>\n",
       "<tr><td>VFID0000</td></tr>\n",
       "<tr><td>VFID0001</td></tr>\n",
       "<tr><td>VFID0002</td></tr>\n",
       "<tr><td>VFID0003</td></tr>\n",
       "<tr><td>VFID0004</td></tr>\n",
       "<tr><td>VFID0005</td></tr>\n",
       "<tr><td>VFID0006</td></tr>\n",
       "<tr><td>VFID0007</td></tr>\n",
       "<tr><td>VFID0008</td></tr>\n",
       "<tr><td>VFID0009</td></tr>\n",
       "<tr><td>VFID0010</td></tr>\n",
       "<tr><td>VFID0011</td></tr>\n",
       "<tr><td>...</td></tr>\n",
       "<tr><td>VFID6785</td></tr>\n",
       "<tr><td>VFID6786</td></tr>\n",
       "<tr><td>VFID6787</td></tr>\n",
       "<tr><td>VFID6788</td></tr>\n",
       "<tr><td>VFID6789</td></tr>\n",
       "<tr><td>VFID6790</td></tr>\n",
       "<tr><td>VFID6791</td></tr>\n",
       "<tr><td>VFID6792</td></tr>\n",
       "<tr><td>VFID6793</td></tr>\n",
       "<tr><td>VFID6794</td></tr>\n",
       "<tr><td>VFID6795</td></tr>\n",
       "<tr><td>VFID6796</td></tr>\n",
       "</table>"
      ],
      "text/plain": [
       "<Column name='VFID_V1' dtype='str8' length=6780>\n",
       "VFID0000\n",
       "VFID0001\n",
       "VFID0002\n",
       "VFID0003\n",
       "VFID0004\n",
       "VFID0005\n",
       "VFID0006\n",
       "VFID0007\n",
       "VFID0008\n",
       "VFID0009\n",
       "VFID0010\n",
       "VFID0011\n",
       "     ...\n",
       "VFID6785\n",
       "VFID6786\n",
       "VFID6787\n",
       "VFID6788\n",
       "VFID6789\n",
       "VFID6790\n",
       "VFID6791\n",
       "VFID6792\n",
       "VFID6793\n",
       "VFID6794\n",
       "VFID6795\n",
       "VFID6796"
      ]
     },
     "execution_count": 11,
     "metadata": {},
     "output_type": "execute_result"
    }
   ],
   "source": [
    "c.hatable['VFID_V1']"
   ]
  },
  {
   "cell_type": "code",
   "execution_count": 14,
   "metadata": {},
   "outputs": [
    {
     "ename": "AttributeError",
     "evalue": "'catalog' object has no attribute 'main'",
     "output_type": "error",
     "traceback": [
      "\u001b[0;31m---------------------------------------------------------------------------\u001b[0m",
      "\u001b[0;31mAttributeError\u001b[0m                            Traceback (most recent call last)",
      "\u001b[0;32m<ipython-input-14-553f65fc4311>\u001b[0m in \u001b[0;36m<module>\u001b[0;34m\u001b[0m\n\u001b[0;32m----> 1\u001b[0;31m \u001b[0mc\u001b[0m\u001b[0;34m.\u001b[0m\u001b[0mmain\u001b[0m\u001b[0;34m.\u001b[0m\u001b[0mcolnames\u001b[0m\u001b[0;34m\u001b[0m\u001b[0;34m\u001b[0m\u001b[0m\n\u001b[0m",
      "\u001b[0;31mAttributeError\u001b[0m: 'catalog' object has no attribute 'main'"
     ]
    }
   ],
   "source": []
  },
  {
   "cell_type": "code",
   "execution_count": 15,
   "metadata": {},
   "outputs": [],
   "source": [
    "%run ~/github/Virgo/programs/readtablesv2.py"
   ]
  },
  {
   "cell_type": "code",
   "execution_count": 16,
   "metadata": {},
   "outputs": [
    {
     "data": {
      "text/html": [
       "<div><i>Table length=6780</i>\n",
       "<table id=\"table140599937967248\" class=\"table-striped table-bordered table-condensed\">\n",
       "<thead><tr><th>VFID</th><th>RA</th><th>DEC</th><th>vr</th><th>radius</th><th>radius_flag</th><th>objname</th><th>PGC</th><th>NSAIDV1</th><th>NSAIDV0</th><th>AGC</th><th>NEDname</th><th>HLflag</th><th>NSAV1flag</th><th>NSAV0flag</th><th>A100flag</th><th>VFID_V1</th><th>COflag</th><th>HAflag</th><th>HAobsflag</th><th>Z0MGSflag</th><th>Steerflag</th><th>unwiseflag</th><th>prefix</th></tr></thead>\n",
       "<thead><tr><th></th><th></th><th></th><th></th><th>arcsec</th><th></th><th></th><th></th><th></th><th></th><th></th><th></th><th></th><th></th><th></th><th></th><th></th><th></th><th></th><th></th><th></th><th></th><th></th><th></th></tr></thead>\n",
       "<thead><tr><th>bytes8</th><th>float64</th><th>float64</th><th>float64</th><th>float32</th><th>bool</th><th>bytes28</th><th>int32</th><th>int32</th><th>int32</th><th>int64</th><th>bytes30</th><th>bool</th><th>bool</th><th>bool</th><th>bool</th><th>bytes8</th><th>bool</th><th>bool</th><th>bool</th><th>bool</th><th>bool</th><th>bool</th><th>bytes36</th></tr></thead>\n",
       "<tr><td>VFID0000</td><td>185.86877249999998</td><td>74.9522485</td><td>1418.8</td><td>23.829847</td><td>True</td><td>NGC4363</td><td>40233</td><td>0</td><td>0</td><td>0</td><td>NGC 4363</td><td>True</td><td>False</td><td>False</td><td>False</td><td>VFID0000</td><td>False</td><td>False</td><td>False</td><td>True</td><td>True</td><td>False</td><td>VFID0000-NGC4363</td></tr>\n",
       "<tr><td>VFID0001</td><td>182.208</td><td>74.9042778</td><td>1331.5</td><td>49.6731</td><td>True</td><td>NGC4133</td><td>38578</td><td>0</td><td>0</td><td>0</td><td>NGC 4133</td><td>True</td><td>False</td><td>False</td><td>False</td><td>VFID0001</td><td>False</td><td>False</td><td>False</td><td>True</td><td>True</td><td>False</td><td>VFID0001-NGC4133</td></tr>\n",
       "<tr><td>VFID0002</td><td>145.944663</td><td>74.8595778</td><td>3049.4</td><td>62.3909</td><td>True</td><td>NGC2977</td><td>27845</td><td>0</td><td>0</td><td>0</td><td>NGC 2977</td><td>True</td><td>False</td><td>False</td><td>False</td><td>VFID0002</td><td>False</td><td>False</td><td>False</td><td>True</td><td>True</td><td>False</td><td>VFID0002-NGC2977</td></tr>\n",
       "<tr><td>VFID0003</td><td>185.5730835</td><td>74.8383889</td><td>1833.0</td><td>26.128908</td><td>True</td><td>PGC040048</td><td>40048</td><td>0</td><td>0</td><td>0</td><td>CGCG 352-030</td><td>True</td><td>False</td><td>False</td><td>False</td><td>VFID0003</td><td>False</td><td>False</td><td>False</td><td>True</td><td>True</td><td>False</td><td>VFID0003-CGCG352-030</td></tr>\n",
       "<tr><td>VFID0004</td><td>182.82775049999998</td><td>74.8082222</td><td>1683.0</td><td>40.937492</td><td>True</td><td>UGC07189</td><td>38805</td><td>0</td><td>0</td><td>0</td><td>UGC 07189</td><td>True</td><td>False</td><td>False</td><td>False</td><td>VFID0004</td><td>False</td><td>False</td><td>False</td><td>True</td><td>True</td><td>False</td><td>VFID0004-UGC07189</td></tr>\n",
       "<tr><td>VFID0005</td><td>173.1341835</td><td>74.6275401</td><td>1920.1</td><td>48.654305</td><td>True</td><td>NGC3752</td><td>35608</td><td>0</td><td>0</td><td>0</td><td>NGC 3752</td><td>True</td><td>False</td><td>False</td><td>False</td><td>VFID0005</td><td>False</td><td>False</td><td>False</td><td>True</td><td>True</td><td>True</td><td>VFID0005-NGC3752</td></tr>\n",
       "<tr><td>VFID0006</td><td>121.912404</td><td>74.5846308</td><td>2333.0</td><td>26.984928</td><td>True</td><td>UGC04202</td><td>22815</td><td>0</td><td>0</td><td>0</td><td>UGC 04202</td><td>True</td><td>False</td><td>False</td><td>False</td><td>VFID0006</td><td>False</td><td>False</td><td>False</td><td>True</td><td>True</td><td>False</td><td>VFID0006-UGC04202</td></tr>\n",
       "<tr><td>VFID0007</td><td>118.2363</td><td>74.576533</td><td>2346.0</td><td>23.448833</td><td>True</td><td>PGC022064</td><td>22064</td><td>0</td><td>0</td><td>0</td><td>KUG 0746+747</td><td>True</td><td>False</td><td>False</td><td>False</td><td>VFID0007</td><td>False</td><td>False</td><td>False</td><td>True</td><td>True</td><td>False</td><td>VFID0007-KUG0746+747</td></tr>\n",
       "<tr><td>VFID0008</td><td>274.943166</td><td>74.5683889</td><td>1484.5</td><td>99.56834</td><td>True</td><td>NGC6643</td><td>61742</td><td>0</td><td>0</td><td>0</td><td>NGC 6643</td><td>True</td><td>False</td><td>False</td><td>False</td><td>VFID0008</td><td>False</td><td>False</td><td>False</td><td>True</td><td>True</td><td>False</td><td>VFID0008-NGC6643</td></tr>\n",
       "<tr><td>...</td><td>...</td><td>...</td><td>...</td><td>...</td><td>...</td><td>...</td><td>...</td><td>...</td><td>...</td><td>...</td><td>...</td><td>...</td><td>...</td><td>...</td><td>...</td><td>...</td><td>...</td><td>...</td><td>...</td><td>...</td><td>...</td><td>...</td><td>...</td></tr>\n",
       "<tr><td>VFID6770</td><td>190.73862749999998</td><td>-1.2293804</td><td>3213.8</td><td>76.22918</td><td>True</td><td>UGC07883</td><td>42747</td><td>8920</td><td>1568</td><td>0</td><td>UGC 07883</td><td>True</td><td>True</td><td>True</td><td>False</td><td>VFID6787</td><td>False</td><td>False</td><td>False</td><td>True</td><td>True</td><td>True</td><td>VFID6770-UGC07883</td></tr>\n",
       "<tr><td>VFID6771</td><td>215.627868</td><td>-1.2293984</td><td>1745.2</td><td>15.926534</td><td>True</td><td>PGC1123741</td><td>1123741</td><td>631635</td><td>144960</td><td>0</td><td>WISEA J142230.70-011345.2</td><td>True</td><td>True</td><td>True</td><td>False</td><td>VFID6788</td><td>False</td><td>False</td><td>False</td><td>False</td><td>True</td><td>True</td><td>VFID6771-WISEAJ142230.70-011345.2</td></tr>\n",
       "<tr><td>VFID6772</td><td>163.18935</td><td>-1.2314</td><td>929.0</td><td>10.648694</td><td>True</td><td>PGC3286596</td><td>3286596</td><td>625465</td><td>138257</td><td>0</td><td>WISEA J105245.44-011353.0</td><td>True</td><td>True</td><td>True</td><td>False</td><td>VFID6789</td><td>False</td><td>False</td><td>False</td><td>False</td><td>True</td><td>True</td><td>VFID6772-WISEAJ105245.44-011353.0</td></tr>\n",
       "<tr><td>VFID6773</td><td>191.58748649999998</td><td>-1.2501285</td><td>2779.2</td><td>9.933933</td><td>True</td><td>PGC1123239</td><td>1123239</td><td>8840</td><td>1564</td><td>0</td><td>WISEA J124620.96-011500.3</td><td>True</td><td>True</td><td>True</td><td>False</td><td>VFID6790</td><td>False</td><td>False</td><td>False</td><td>False</td><td>True</td><td>True</td><td>VFID6773-WISEAJ124620.96-011500.3</td></tr>\n",
       "<tr><td>VFID6774</td><td>186.59453249999999</td><td>-1.2542672</td><td>1982.7</td><td>14.458434</td><td>True</td><td>PGC040683</td><td>40683</td><td>628312</td><td>141357</td><td>0</td><td>UM 501</td><td>True</td><td>True</td><td>True</td><td>False</td><td>VFID6791</td><td>False</td><td>False</td><td>False</td><td>False</td><td>True</td><td>True</td><td>VFID6774-UM501</td></tr>\n",
       "<tr><td>VFID6775</td><td>175.9398405</td><td>-1.2766024</td><td>1699.8</td><td>30.0</td><td>False</td><td>GAMA143446</td><td>5874065</td><td>0</td><td>0</td><td>0</td><td>GAMA 143446</td><td>True</td><td>False</td><td>False</td><td>False</td><td>VFID6792</td><td>False</td><td>False</td><td>False</td><td>False</td><td>True</td><td>True</td><td>VFID6775-GAMA143446</td></tr>\n",
       "<tr><td>VFID6776</td><td>170.0766</td><td>-1.2806</td><td>2758.0</td><td>10.394707</td><td>True</td><td>PGC3288547</td><td>3288547</td><td>659271</td><td>159635</td><td>0</td><td>WISEA J112018.30-011650.6</td><td>True</td><td>True</td><td>True</td><td>False</td><td>VFID6793</td><td>False</td><td>False</td><td>False</td><td>False</td><td>True</td><td>True</td><td>VFID6776-WISEAJ112018.30-011650.6</td></tr>\n",
       "<tr><td>VFID6777</td><td>183.4117005</td><td>-1.2935267</td><td>2430.5</td><td>7.6404905</td><td>True</td><td>PGC1122171</td><td>1122171</td><td>627938</td><td>140947</td><td>0</td><td>WISEA J121338.81-011736.9</td><td>True</td><td>True</td><td>True</td><td>False</td><td>VFID6794</td><td>False</td><td>False</td><td>False</td><td>False</td><td>True</td><td>True</td><td>VFID6777-WISEAJ121338.81-011736.9</td></tr>\n",
       "<tr><td>VFID6778</td><td>187.442571</td><td>-1.2951077</td><td>2260.5</td><td>19.369627</td><td>True</td><td>PGC135806</td><td>135806</td><td>19673</td><td>3481</td><td>0</td><td>WISEA J122946.30-011741.6</td><td>True</td><td>True</td><td>True</td><td>False</td><td>VFID6795</td><td>False</td><td>False</td><td>False</td><td>False</td><td>True</td><td>True</td><td>VFID6778-WISEAJ122946.30-011741.6</td></tr>\n",
       "<tr><td>VFID6779</td><td>180.2962065</td><td>-1.2961195</td><td>1487.4</td><td>26.008856</td><td>True</td><td>UGC07000</td><td>37914</td><td>695480</td><td>171514</td><td>0</td><td>UGC 07000</td><td>True</td><td>True</td><td>True</td><td>False</td><td>VFID6796</td><td>False</td><td>False</td><td>False</td><td>True</td><td>True</td><td>True</td><td>VFID6779-UGC07000</td></tr>\n",
       "</table></div>"
      ],
      "text/plain": [
       "<Table length=6780>\n",
       "  VFID           RA         ... unwiseflag               prefix             \n",
       "                            ...                                             \n",
       " bytes8       float64       ...    bool                 bytes36             \n",
       "-------- ------------------ ... ---------- ---------------------------------\n",
       "VFID0000 185.86877249999998 ...      False                  VFID0000-NGC4363\n",
       "VFID0001            182.208 ...      False                  VFID0001-NGC4133\n",
       "VFID0002         145.944663 ...      False                  VFID0002-NGC2977\n",
       "VFID0003        185.5730835 ...      False              VFID0003-CGCG352-030\n",
       "VFID0004 182.82775049999998 ...      False                 VFID0004-UGC07189\n",
       "VFID0005        173.1341835 ...       True                  VFID0005-NGC3752\n",
       "VFID0006         121.912404 ...      False                 VFID0006-UGC04202\n",
       "VFID0007           118.2363 ...      False              VFID0007-KUG0746+747\n",
       "VFID0008         274.943166 ...      False                  VFID0008-NGC6643\n",
       "     ...                ... ...        ...                               ...\n",
       "VFID6770 190.73862749999998 ...       True                 VFID6770-UGC07883\n",
       "VFID6771         215.627868 ...       True VFID6771-WISEAJ142230.70-011345.2\n",
       "VFID6772          163.18935 ...       True VFID6772-WISEAJ105245.44-011353.0\n",
       "VFID6773 191.58748649999998 ...       True VFID6773-WISEAJ124620.96-011500.3\n",
       "VFID6774 186.59453249999999 ...       True                    VFID6774-UM501\n",
       "VFID6775        175.9398405 ...       True               VFID6775-GAMA143446\n",
       "VFID6776           170.0766 ...       True VFID6776-WISEAJ112018.30-011650.6\n",
       "VFID6777        183.4117005 ...       True VFID6777-WISEAJ121338.81-011736.9\n",
       "VFID6778         187.442571 ...       True VFID6778-WISEAJ122946.30-011741.6\n",
       "VFID6779        180.2962065 ...       True                 VFID6779-UGC07000"
      ]
     },
     "execution_count": 16,
     "metadata": {},
     "output_type": "execute_result"
    }
   ],
   "source": [
    "v.main"
   ]
  },
  {
   "cell_type": "code",
   "execution_count": 18,
   "metadata": {},
   "outputs": [
    {
     "data": {
      "text/plain": [
       "28"
      ]
     },
     "execution_count": 18,
     "metadata": {},
     "output_type": "execute_result"
    }
   ],
   "source": [
    "sum(v.main['COflag'] & ~v.main['HAobsflag'])"
   ]
  },
  {
   "cell_type": "code",
   "execution_count": null,
   "metadata": {},
   "outputs": [],
   "source": []
  }
 ],
 "metadata": {
  "kernelspec": {
   "display_name": "Python 3",
   "language": "python",
   "name": "python3"
  },
  "language_info": {
   "codemirror_mode": {
    "name": "ipython",
    "version": 3
   },
   "file_extension": ".py",
   "mimetype": "text/x-python",
   "name": "python",
   "nbconvert_exporter": "python",
   "pygments_lexer": "ipython3",
   "version": "3.7.4"
  }
 },
 "nbformat": 4,
 "nbformat_minor": 2
}
