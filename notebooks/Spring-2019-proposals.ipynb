{
 "cells": [
  {
   "cell_type": "markdown",
   "metadata": {},
   "source": [
    "## Spring 2019 Observing Proposals ##\n",
    "\n",
    "* KPNO survey\n",
    "* KPNO regular\n",
    "* INT \n",
    "\n",
    "make this proposal about CO sample"
   ]
  },
  {
   "cell_type": "code",
   "execution_count": 1,
   "metadata": {
    "collapsed": true
   },
   "outputs": [],
   "source": [
    "import numpy as np\n",
    "from matplotlib import pyplot as plt\n",
    "%matplotlib inline\n",
    "from astropy.io import fits\n",
    "from astropy.coordinates import SkyCoord\n",
    "from astropy import units as u\n",
    "import warnings\n",
    "warnings.filterwarnings('ignore')\n",
    "\n",
    "from astropy.coordinates import ICRS, SkyCoord\n",
    "from astropy import units as u\n",
    "\n",
    "virgo_redshift = 0.0036 # from NED\n",
    "dist_mod = 5.*np.log10(virgo_redshift*3.e5/70.*1.e6)-5"
   ]
  },
  {
   "cell_type": "code",
   "execution_count": 18,
   "metadata": {
    "collapsed": false
   },
   "outputs": [],
   "source": [
    "tablepath = '/Users/rfinn/github/Virgo/tables/'\n",
    "nsafile=tablepath+'nsa.virgo.fits'\n",
    "nsa=fits.getdata(nsafile)\n",
    "# read in WISE catalog\n",
    "wisefile=tablepath+'nsa_wise.virgo.fits'\n",
    "wise=fits.getdata(wisefile)\n",
    "# read in John's stellar masses\n",
    "massfile=tablepath+'nsa_mstar.virgo.fits'\n",
    "jmass=fits.getdata(massfile)\n",
    "nsaco = fits.getdata(tablepath+'nsa_CO-Gianluca.virgo.fits')\n",
    "nsacoflag = (nsaco.CO == 'L') | (nsaco.CO == 'O')\n",
    "nsadict=dict((a,b) for a,b in zip(nsa.NSAID,np.arange(len(nsa.NSAID))))"
   ]
  },
  {
   "cell_type": "code",
   "execution_count": 7,
   "metadata": {
    "collapsed": false
   },
   "outputs": [],
   "source": [
    "co = fits.getdata('/Users/rfinn/github/Virgo/tables/CO-MasterFile-2018Feb16.fits')"
   ]
  },
  {
   "cell_type": "code",
   "execution_count": 8,
   "metadata": {
    "collapsed": false
   },
   "outputs": [
    {
     "name": "stdout",
     "output_type": "stream",
     "text": [
      "6044 227\n"
     ]
    }
   ],
   "source": [
    "# match CO catalog to NSA\n",
    "nsacat = SkyCoord(nsa.RA*u.degree,nsa.DEC*u.degree,frame='icrs')\n",
    "COcat = SkyCoord(co.RA*u.degree,co.DEC*u.degree,frame='icrs')\n",
    "index,dist2d,dist3d = nsacat.match_to_catalog_sky(COcat)\n",
    "# only keep matches with matched RA and Dec w/in 10 arcsec\n",
    "COflag = dist2d.degree < 10./3600# keep sources with matches w/in 10 arcsec\n",
    "matchedCO10=np.zeros(len(nsa),dtype=co.dtype)\n",
    "matchedCO10[COflag] = co[index[COflag]]\n",
    "print len(COflag), sum(COflag)\n",
    "codetect_flag = matchedCO10['CO_DETECT'] ==1"
   ]
  },
  {
   "cell_type": "markdown",
   "metadata": {},
   "source": [
    "CO sample is 227 galaxies."
   ]
  },
  {
   "cell_type": "markdown",
   "metadata": {},
   "source": [
    "we observed 24 CO galaxies in 8 clear nights.  to do 200, \n",
    "\n",
    "\n",
    "\n"
   ]
  },
  {
   "cell_type": "code",
   "execution_count": 10,
   "metadata": {
    "collapsed": false
   },
   "outputs": [
    {
     "name": "stdout",
     "output_type": "stream",
     "text": [
      "Nights remaining = 66.7\n",
      "Nights per year = 22.2\n"
     ]
    }
   ],
   "source": [
    "# number of nights required to finish CO sample\n",
    "print 'Nights remaining = %.1f'%(200.*8/24)\n",
    "print 'Nights per year = %.1f'%(200.*8/24/3.)"
   ]
  },
  {
   "cell_type": "code",
   "execution_count": 17,
   "metadata": {
    "collapsed": false
   },
   "outputs": [
    {
     "data": {
      "text/plain": [
       "154"
      ]
     },
     "execution_count": 17,
     "metadata": {},
     "output_type": "execute_result"
    }
   ],
   "source": [
    "sum(nsaco.CO == 'O')"
   ]
  },
  {
   "cell_type": "markdown",
   "metadata": {},
   "source": [
    "CO sample selection"
   ]
  },
  {
   "cell_type": "markdown",
   "metadata": {
    "collapsed": true
   },
   "source": [
    "## Plot positions of all CO Sources ##"
   ]
  },
  {
   "cell_type": "markdown",
   "metadata": {},
   "source": [
    "## Plot NUV-r versus stellar mass ##\n",
    "\n",
    "which galaxies are we targeting with H$\\alpha$"
   ]
  },
  {
   "cell_type": "markdown",
   "metadata": {},
   "source": [
    "## Redo Figure 1 ##\n",
    "\n",
    "repeat left panel, with CO sources colored by stellar mass"
   ]
  },
  {
   "cell_type": "code",
   "execution_count": null,
   "metadata": {
    "collapsed": true
   },
   "outputs": [],
   "source": []
  }
 ],
 "metadata": {
  "kernelspec": {
   "display_name": "Python [default]",
   "language": "python",
   "name": "python2"
  },
  "language_info": {
   "codemirror_mode": {
    "name": "ipython",
    "version": 2
   },
   "file_extension": ".py",
   "mimetype": "text/x-python",
   "name": "python",
   "nbconvert_exporter": "python",
   "pygments_lexer": "ipython2",
   "version": "2.7.13"
  }
 },
 "nbformat": 4,
 "nbformat_minor": 2
}
