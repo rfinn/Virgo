{
 "cells": [
  {
   "cell_type": "code",
   "execution_count": 1,
   "metadata": {},
   "outputs": [],
   "source": [
    "from astropy.io import fits, ascii\n",
    "from matplotlib import pyplot as plt\n",
    "from astropy.table import Table\n",
    "import os\n",
    "import numpy as np\n",
    "%matplotlib inline"
   ]
  },
  {
   "cell_type": "markdown",
   "metadata": {},
   "source": [
    "# Write out a sqlite version of the table #\n",
    "\n",
    "Benedetta showed me how they were using a database to keep everything organized.  Might be a good approach for this as well.\n",
    "\n",
    "Parent table should be just a few columns, like:\n",
    "- our internal id\n",
    "- RA\n",
    "- DEC\n",
    "- recession velocity\n",
    "  - HL if available, then NSA, then AGC\n",
    "- HL name\n",
    "- NSA id\n",
    "- AGC number\n",
    "- NED name, if available\n",
    "\n",
    "Supplemental catalogs:\n",
    "- hyperleda columns\n",
    "- agc columns\n",
    "- NSA columns\n",
    "- leroy columns\n",
    "- steer+ redshift-independent distances\n",
    "- local density estimates\n",
    "- filament classification (distance from spine)\n",
    "- CO properties\n",
    "- HI properties\n",
    "\n",
    "Further down the road:\n",
    "- halpha properties\n",
    "  - observed\n",
    "  - detected\n",
    "  - ha flux\n",
    "  - ha Re"
   ]
  },
  {
   "cell_type": "code",
   "execution_count": null,
   "metadata": {},
   "outputs": [],
   "source": []
  },
  {
   "cell_type": "markdown",
   "metadata": {},
   "source": [
    "# write out version of a100+sdss according to virgo criteria #\n",
    "\n",
    "de2000 > -35 and de2000 < 75 and  al2000 < 280./360.*24.  and al2000 > 100./360.*24. and v > 500 and v < 3300 and objtype='G'\n"
   ]
  },
  {
   "cell_type": "code",
   "execution_count": 47,
   "metadata": {},
   "outputs": [],
   "source": [
    "#a100 = fits.getdata('/home/rfinn/research/APPSS/tables/a100-sdss-wise-nsa-gswlc.fits')\n",
    "a100 = fits.getdata('/home/rfinn/research/APPSS/tables/a100-sdss-wise.fits')"
   ]
  },
  {
   "cell_type": "code",
   "execution_count": 48,
   "metadata": {},
   "outputs": [
    {
     "data": {
      "text/plain": [
       "(array([1217., 2119., 3511., 5575., 5458., 4851., 3808., 2996., 1344.,\n",
       "         842.]),\n",
       " array([ -430. ,  1395.3,  3220.6,  5045.9,  6871.2,  8696.5, 10521.8,\n",
       "        12347.1, 14172.4, 15997.7, 17823. ]),\n",
       " <a list of 10 Patch objects>)"
      ]
     },
     "execution_count": 48,
     "metadata": {},
     "output_type": "execute_result"
    },
    {
     "data": {
      "image/png": "[encoded data removed]",
      "text/plain": [
       "<Figure size 432x288 with 1 Axes>"
      ]
     },
     "metadata": {
      "needs_background": "light"
     },
     "output_type": "display_data"
    }
   ],
   "source": [
    "plt.figure()\n",
    "plt.hist(a100['Vhelio'])"
   ]
  },
  {
   "cell_type": "code",
   "execution_count": 50,
   "metadata": {},
   "outputs": [
    {
     "name": "stdout",
     "output_type": "stream",
     "text": [
      "2506\n",
      "2369\n"
     ]
    }
   ],
   "source": [
    "ra = a100['RAdeg_Use']\n",
    "dec = a100['DECdeg_Use']\n",
    "raOC = a100['RAdeg_OC']\n",
    "decOC = a100['DECdeg_OC']\n",
    "vel = a100['Vhelio']\n",
    "# also require that an optical counterpart has been identified\n",
    "\n",
    "flag = (dec > -35) & (dec < 75) & (ra < 280.) & (ra > 100.) & (vel > 500) & (vel < 3300)\n",
    "print(sum(flag))\n",
    "flag = flag & (raOC != 0) & (decOC != 0)\n",
    "print(sum(flag))"
   ]
  },
  {
   "cell_type": "code",
   "execution_count": 51,
   "metadata": {},
   "outputs": [],
   "source": [
    "a100virgo = a100[flag]\n",
    "a100virgo = Table(a100virgo)\n",
    "a100virgo.write('/home/rfinn/research/Virgo/tables/a100-sdss-wise-virgo.fits',format='fits',overwrite=True)"
   ]
  },
  {
   "cell_type": "markdown",
   "metadata": {},
   "source": [
    "# also write out a version of kitchen sink that DOES NOT include AGC only sources #\n",
    "\n",
    "- this will make it cleaner to describe b/c AGC is not published\n",
    "- this way we can say we match to the ALFALFA A100 catalog"
   ]
  },
  {
   "cell_type": "code",
   "execution_count": 30,
   "metadata": {},
   "outputs": [
    {
     "name": "stdout",
     "output_type": "stream",
     "text": [
      "number of AGC only =  107\n"
     ]
    }
   ],
   "source": [
    "t = fits.getdata('/home/rfinn/research/Virgo/supersample/clean_kitchen_sink.fits')\n",
    "agconly = t['AGCflag'] & ~t['HLflag'] & ~t['NSAflag']\n",
    "print('number of AGC only = ',sum(agconly))"
   ]
  },
  {
   "cell_type": "code",
   "execution_count": 35,
   "metadata": {},
   "outputs": [
    {
     "name": "stdout",
     "output_type": "stream",
     "text": [
      "9141\n"
     ]
    }
   ],
   "source": [
    "noagc = Table(t[t['HLflag'] | t['NSAflag']])\n",
    "noagc.write('/home/rfinn/research/Virgo/tables/clean-sample-woagc.fits',format='fits',overwrite=True)\n",
    "print(len(noagc))"
   ]
  },
  {
   "cell_type": "code",
   "execution_count": 32,
   "metadata": {},
   "outputs": [
    {
     "name": "stdout",
     "output_type": "stream",
     "text": [
      "107\n"
     ]
    }
   ],
   "source": [
    "agconly = Table(t[agconly])\n",
    "agconly.write('/home/rfinn/research/Virgo/tables/clean-sample-agconly.fits',format='fits',overwrite=True)\n",
    "print(len(agconly))"
   ]
  },
  {
   "cell_type": "code",
   "execution_count": 34,
   "metadata": {},
   "outputs": [
    {
     "data": {
      "text/plain": [
       "9248"
      ]
     },
     "execution_count": 34,
     "metadata": {},
     "output_type": "execute_result"
    }
   ],
   "source": [
    "len(t)"
   ]
  },
  {
   "cell_type": "markdown",
   "metadata": {},
   "source": [
    "# Then match a100 to virgo catalog in topcat #\n",
    "\n",
    "- clean kitchen sink, without AGC, contains 9141 galaxies.\n",
    "\n",
    "    - need to go back and redefine the combined RA, DEC and vel columns in kitchek sink table\n",
    "      - should be HL, NSA then AGC\n",
    "\n",
    "- A100 catalog\n",
    "    - limit to region in Virgo survey\n",
    "    - this is 2369 galaxies\n",
    "- match Virgo to A100\n",
    "    - Using RAdeg_Use, with max offset = 15arcsec and best match, tables 1 and 2, symmetric: we get 2325 pairs.  Same number of matches if we use RAdeg_OC.\n",
    "    - Table 1 = clean-sample-woagc.fits\n",
    "    - Table 2 = a100-sdss-wis-virgo.fits\n",
    "    - Sky match, 15 arcsec\n",
    "        - best match for each Table 1 row, join 1 and 2\n",
    "            - 2329 pairs\n",
    "        - all matches\n",
    "            - 2361 pairs\n",
    "        - best match, symmetric\n",
    "            - 2325 pairs!\n",
    "    - Did 1 or 2, Best match, symmetric\n",
    "        - 2325 matches\n",
    "        - 9185 rows in new catalog (9141 in clean-sample-woagc.fits)\n",
    "        - so 44 new sources.  Need to review those, and then leave this as final sample.\n",
    "        - saved as clean-sample-a100.fits\n",
    "- match to clean sample with agc\n",
    "    - Best match, symmetric, 15 arcsec\n",
    "    - table 1 or 2\n",
    "    - 2329 pairs, 9288 rows \n",
    "    - 9248 in clean_sample (so 40 new sources)\n",
    "    - this method gives us 63 additional sources, but it seems like we end up with the same number of HI sources\n",
    "    \n",
    "\n",
    "    \n",
    "            \n"
   ]
  },
  {
   "cell_type": "markdown",
   "metadata": {},
   "source": [
    "# read in clean sample with A100 #\n",
    "\n"
   ]
  },
  {
   "cell_type": "code",
   "execution_count": 53,
   "metadata": {},
   "outputs": [],
   "source": [
    "cat = fits.getdata('/home/rfinn/research/Virgo/tables/clean-sample-a100.fits')"
   ]
  },
  {
   "cell_type": "code",
   "execution_count": 74,
   "metadata": {},
   "outputs": [
    {
     "name": "stdout",
     "output_type": "stream",
     "text": [
      "          objname            objtype ...     logSFR22_KE     Separation\n",
      "---------------------------- ------- ... ------------------- ----------\n",
      "PGC720745                          G ...                 nan        nan\n",
      "PGC720820                          G ...                 nan        nan\n",
      "PGC721308                          G ...                 nan        nan\n",
      "PGC722090                          G ...                 nan        nan\n",
      "PGC722221                          G ...                 nan        nan\n",
      "PGC723997                          G ...                 nan        nan\n",
      "PGC727168                          G ...                 nan        nan\n",
      "PGC727305                          G ...                 nan        nan\n",
      "PGC729818                          G ...                 nan        nan\n",
      "PGC731537                          G ...                 nan        nan\n",
      "                         ...     ... ...                 ...        ...\n",
      "                                     ...  -1.876047927737872        nan\n",
      "                                     ...  -2.536589652094598        nan\n",
      "                                     ...   5.415371188010951        nan\n",
      "                                     ...   4.813311196682989        nan\n",
      "                                     ...   5.255509836244698        nan\n",
      "                                     ... -2.9316858783889757        nan\n",
      "                                     ...   4.905574638827652        nan\n",
      "                                     ... -3.2242588847165408        nan\n",
      "                                     ...   5.116727022801136        nan\n",
      "                                     ...  -1.341831254521999        nan\n",
      "                                     ...   4.563433723466389        nan\n",
      "Length = 9185 rows\n"
     ]
    }
   ],
   "source": [
    "print(Table(cat))"
   ]
  },
  {
   "cell_type": "code",
   "execution_count": 54,
   "metadata": {},
   "outputs": [
    {
     "data": {
      "text/plain": [
       "ColDefs(\n",
       "    name = 'objname'; format = '28A'\n",
       "    name = 'objtype'; format = 'A'\n",
       "    name = 'de2000'; format = 'D'\n",
       "    name = 'al2000'; format = 'D'\n",
       "    name = 'v'; format = 'D'\n",
       "    name = 'e_v'; format = 'D'\n",
       "    name = 'vopt_1'; format = 'D'\n",
       "    name = 'e_vopt'; format = 'D'\n",
       "    name = 'vrad'; format = 'D'\n",
       "    name = 'e_vrad'; format = 'D'\n",
       "    name = 'bt'; format = 'D'\n",
       "    name = 'e_bt'; format = 'D'\n",
       "    name = 'type_1'; format = '4A'\n",
       "    name = 'bar'; format = 'A'\n",
       "    name = 'ring'; format = 'A'\n",
       "    name = 'multiple'; format = 'A'\n",
       "    name = 'compactness'; format = 'A'\n",
       "    name = 't'; format = 'D'\n",
       "    name = 'e_t'; format = 'D'\n",
       "    name = 'logd25'; format = 'D'\n",
       "    name = 'e_logd25'; format = 'D'\n",
       "    name = 'logr25'; format = 'D'\n",
       "    name = 'e_logr25'; format = 'D'\n",
       "    name = 'pa'; format = 'D'\n",
       "    name = 'incl'; format = 'D'\n",
       "    name = 'logdc'; format = 'D'\n",
       "    name = 'btc'; format = 'D'\n",
       "    name = 'itc'; format = 'D'\n",
       "    name = 'ubtc'; format = 'D'\n",
       "    name = 'bvtc'; format = 'D'\n",
       "    name = 'm21c'; format = 'D'\n",
       "    name = 'hic'; format = 'D'\n",
       "    name = 'mabs'; format = 'D'\n",
       "    name = 'agnclass'; format = '4A'\n",
       "    name = 'kt'; format = 'D'\n",
       "    name = 'e_kt'; format = 'D'\n",
       "    name = 'it'; format = 'D'\n",
       "    name = 'e_it'; format = 'D'\n",
       "    name = 'ut'; format = 'D'\n",
       "    name = 'vt'; format = 'D'\n",
       "    name = 'mfir'; format = 'D'\n",
       "    name = 'e_ut'; format = 'D'\n",
       "    name = 'e_vt'; format = 'D'\n",
       "    name = 'RAdeg_1'; format = 'D'\n",
       "    name = 'AGCnr'; format = 'K'; null = -9223372036854775808\n",
       "    name = 'which'; format = 'A'\n",
       "    name = 'radeg_1a'; format = 'D'\n",
       "    name = 'decdeg'; format = 'D'\n",
       "    name = 'a'; format = 'D'\n",
       "    name = 'b'; format = 'D'\n",
       "    name = 'zmag'; format = 'D'\n",
       "    name = 'inccode'; format = 'K'; null = -9223372036854775808\n",
       "    name = 'posang'; format = 'K'; null = -9223372036854775808\n",
       "    name = 'description'; format = '8A'\n",
       "    name = 'bsteintype'; format = 'K'; null = -9223372036854775808\n",
       "    name = 'vopt_2'; format = 'K'; null = -9223372036854775808\n",
       "    name = 'verr'; format = 'K'; null = -9223372036854775808\n",
       "    name = 'extrc3'; format = 'K'; null = -9223372036854775808\n",
       "    name = 'extdirbe'; format = 'K'; null = -9223372036854775808\n",
       "    name = 'vsource'; format = 'K'; null = -9223372036854775808\n",
       "    name = 'ngcic'; format = '8A'\n",
       "    name = 'hiflux_1'; format = 'D'\n",
       "    name = 'rms_1'; format = 'D'\n",
       "    name = 'v21'; format = 'K'; null = -9223372036854775808\n",
       "    name = 'width'; format = 'K'; null = -9223372036854775808\n",
       "    name = 'widtherr'; format = 'K'; null = -9223372036854775808\n",
       "    name = 'widthcode'; format = '4A'\n",
       "    name = 'telcode'; format = 'A'\n",
       "    name = 'detcode'; format = 'K'; null = -9223372036854775808\n",
       "    name = 'hisource'; format = 'K'; null = -9223372036854775808\n",
       "    name = 'statuscode'; format = 'K'; null = -9223372036854775808\n",
       "    name = 'snr_1'; format = 'D'\n",
       "    name = 'ibandqual'; format = 'K'; null = -9223372036854775808\n",
       "    name = 'ibandsrc'; format = 'K'; null = -9223372036854775808\n",
       "    name = 'irasflag'; format = 'K'; null = -9223372036854775808\n",
       "    name = 'icluster'; format = 'K'; null = -9223372036854775808\n",
       "    name = 'hidata'; format = 'K'; null = -9223372036854775808\n",
       "    name = 'iposition'; format = 'K'; null = -9223372036854775808\n",
       "    name = 'ipalomar'; format = 'K'; null = -9223372036854775808\n",
       "    name = 'rc3flag'; format = 'K'; null = -9223372036854775808\n",
       "    name = 'irotcat'; format = 'K'; null = -9223372036854775808\n",
       "    name = 'newstuff'; format = 'K'; null = -9223372036854775808\n",
       "    name = 'vhelagc'; format = 'K'; null = -9223372036854775808\n",
       "    name = 'RA_1_1'; format = 'D'\n",
       "    name = 'DEC_1_1'; format = 'D'\n",
       "    name = 'HLflag'; format = 'L'\n",
       "    name = 'AGCflag'; format = 'L'\n",
       "    name = 'RA-HL-AGC'; format = 'E'\n",
       "    name = 'DEC-HL-AGC'; format = 'E'\n",
       "    name = 'HL-AGC-VEL'; format = 'E'\n",
       "    name = 'IAUNAME'; format = '19A'\n",
       "    name = 'SUBDIR'; format = '27A'\n",
       "    name = 'RA_2_1'; format = 'D'\n",
       "    name = 'DEC_2_1'; format = 'D'\n",
       "    name = 'ISDSS'; format = 'J'; null = -2147483648\n",
       "    name = 'INED'; format = 'J'; null = -2147483648\n",
       "    name = 'ISIXDF'; format = 'J'; null = -2147483648\n",
       "    name = 'IALFALFA'; format = 'J'; null = -2147483648\n",
       "    name = 'IZCAT'; format = 'J'; null = -2147483648\n",
       "    name = 'ITWODF'; format = 'J'; null = -2147483648\n",
       "    name = 'MAG'; format = 'E'\n",
       "    name = 'Z'; format = 'E'\n",
       "    name = 'ZSRC'; format = '7A'\n",
       "    name = 'SIZE'; format = 'E'\n",
       "    name = 'RUN_1'; format = 'I'; null = -32768\n",
       "    name = 'CAMCOL_1'; format = 'B'; null = 255\n",
       "    name = 'FIELD_1'; format = 'I'; null = -32768\n",
       "    name = 'RERUN'; format = '3A'\n",
       "    name = 'XPOS'; format = 'E'\n",
       "    name = 'YPOS'; format = 'E'\n",
       "    name = 'NSAID'; format = 'J'; null = -2147483648\n",
       "    name = 'ZDIST'; format = 'E'\n",
       "    name = 'SERSIC_NMGY'; format = '7E'\n",
       "    name = 'SERSIC_NMGY_IVAR'; format = '7E'\n",
       "    name = 'SERSIC_OK'; format = 'I'; null = -32768\n",
       "    name = 'SERSIC_RNMGY'; format = '7E'\n",
       "    name = 'SERSIC_ABSMAG'; format = '7E'\n",
       "    name = 'SERSIC_AMIVAR'; format = '7E'\n",
       "    name = 'EXTINCTION'; format = '7E'\n",
       "    name = 'SERSIC_KCORRECT'; format = '7E'\n",
       "    name = 'SERSIC_KCOEFF'; format = '5E'\n",
       "    name = 'SERSIC_MTOL'; format = '7E'\n",
       "    name = 'SERSIC_B300'; format = 'E'\n",
       "    name = 'SERSIC_B1000'; format = 'E'\n",
       "    name = 'SERSIC_METS'; format = 'E'\n",
       "    name = 'SERSIC_MASS'; format = 'E'\n",
       "    name = 'XCEN'; format = 'D'\n",
       "    name = 'YCEN'; format = 'D'\n",
       "    name = 'NPROF'; format = '7B'\n",
       "    name = 'PROFMEAN'; format = '105E'; dim = '(7,15)'\n",
       "    name = 'PROFMEAN_IVAR'; format = '105E'; dim = '(7,15)'\n",
       "    name = 'QSTOKES'; format = '105E'; dim = '(7,15)'\n",
       "    name = 'USTOKES'; format = '105E'; dim = '(7,15)'\n",
       "    name = 'BASTOKES'; format = '105E'; dim = '(7,15)'\n",
       "    name = 'PHISTOKES'; format = '105E'; dim = '(7,15)'\n",
       "    name = 'PETRO_FLUX'; format = '7E'\n",
       "    name = 'PETRO_FLUX_IVAR'; format = '7E'\n",
       "    name = 'FIBER_FLUX'; format = '7E'\n",
       "    name = 'FIBER_FLUX_IVAR'; format = '7E'\n",
       "    name = 'PETRO_BA50'; format = 'E'\n",
       "    name = 'PETRO_PHI50'; format = 'E'\n",
       "    name = 'PETRO_BA90'; format = 'E'\n",
       "    name = 'PETRO_PHI90'; format = 'E'\n",
       "    name = 'SERSIC_FLUX'; format = '7E'\n",
       "    name = 'SERSIC_FLUX_IVAR'; format = '7E'\n",
       "    name = 'SERSIC_N'; format = 'E'\n",
       "    name = 'SERSIC_BA'; format = 'E'\n",
       "    name = 'SERSIC_PHI'; format = 'E'\n",
       "    name = 'ASYMMETRY'; format = '7E'\n",
       "    name = 'CLUMPY'; format = '7E'\n",
       "    name = 'DFLAGS'; format = '7J'\n",
       "    name = 'AID'; format = 'J'; null = -2147483648\n",
       "    name = 'PID'; format = 'J'; null = -2147483648\n",
       "    name = 'DVERSION'; format = '8A'\n",
       "    name = 'PROFTHETA'; format = '15E'\n",
       "    name = 'PETRO_THETA'; format = 'E'\n",
       "    name = 'PETRO_TH50'; format = 'E'\n",
       "    name = 'PETRO_TH90'; format = 'E'\n",
       "    name = 'SERSIC_TH50'; format = 'E'\n",
       "    name = 'PLATE'; format = 'J'; null = -2147483648\n",
       "    name = 'FIBERID'; format = 'I'; null = -32768\n",
       "    name = 'MJD'; format = 'J'; null = -2147483648\n",
       "    name = 'RACAT'; format = 'D'\n",
       "    name = 'DECCAT'; format = 'D'\n",
       "    name = 'ZSDSSLINE'; format = 'E'\n",
       "    name = 'SURVEY'; format = '6A'\n",
       "    name = 'PROGRAMNAME'; format = '27A'\n",
       "    name = 'PLATEQUALITY'; format = '8A'\n",
       "    name = 'TILE'; format = 'J'; null = -2147483648\n",
       "    name = 'PLUG_RA'; format = 'D'\n",
       "    name = 'PLUG_DEC'; format = 'D'\n",
       "    name = 'ELPETRO_BA'; format = 'E'\n",
       "    name = 'ELPETRO_PHI'; format = 'E'\n",
       "    name = 'ELPETRO_FLUX_R'; format = 'E'\n",
       "    name = 'ELPETRO_FLUX_IVAR_R'; format = 'E'\n",
       "    name = 'ELPETRO_THETA_R'; format = 'E'\n",
       "    name = 'ELPETRO_TH50_R'; format = 'E'\n",
       "    name = 'ELPETRO_TH90_R'; format = 'E'\n",
       "    name = 'ELPETRO_THETA'; format = 'E'\n",
       "    name = 'ELPETRO_FLUX'; format = '7E'\n",
       "    name = 'ELPETRO_FLUX_IVAR'; format = '7E'\n",
       "    name = 'ELPETRO_TH50'; format = '7E'\n",
       "    name = 'ELPETRO_TH90'; format = '7E'\n",
       "    name = 'ELPETRO_APCORR_R'; format = 'E'\n",
       "    name = 'ELPETRO_APCORR'; format = '7E'\n",
       "    name = 'ELPETRO_APCORR_SELF'; format = '7E'\n",
       "    name = 'ELPETRO_NMGY'; format = '7E'\n",
       "    name = 'ELPETRO_NMGY_IVAR'; format = '7E'\n",
       "    name = 'ELPETRO_OK'; format = 'I'; null = -32768\n",
       "    name = 'ELPETRO_RNMGY'; format = '7E'\n",
       "    name = 'ELPETRO_ABSMAG'; format = '7E'\n",
       "    name = 'ELPETRO_AMIVAR'; format = '7E'\n",
       "    name = 'ELPETRO_KCORRECT'; format = '7E'\n",
       "    name = 'ELPETRO_KCOEFF'; format = '5E'\n",
       "    name = 'ELPETRO_MASS'; format = 'E'\n",
       "    name = 'ELPETRO_MTOL'; format = '7E'\n",
       "    name = 'ELPETRO_B300'; format = 'E'\n",
       "    name = 'ELPETRO_B1000'; format = 'E'\n",
       "    name = 'ELPETRO_METS'; format = 'E'\n",
       "    name = 'IN_DR7_LSS'; format = 'B'; null = 255\n",
       "    name = 'NSAflag'; format = 'L'\n",
       "    name = 'RA-COMBINED'; format = 'E'\n",
       "    name = 'DEC-COMBINED'; format = 'E'\n",
       "    name = 'HL-AGC-NSA-VEL'; format = 'E'\n",
       "    name = 'AGC'; format = 'K'; null = -9223372036854775808\n",
       "    name = 'Name'; format = '8A'\n",
       "    name = 'OrigSrcName'; format = '26A'\n",
       "    name = 'HISrcName'; format = '17A'\n",
       "    name = 'RAdeg_HI'; format = 'D'\n",
       "    name = 'DECdeg_HI'; format = 'D'\n",
       "    name = 'RAdeg_OC'; format = 'D'\n",
       "    name = 'DECdeg_OC'; format = 'D'\n",
       "    name = 'RAdeg_Use'; format = 'D'\n",
       "    name = 'DECdeg_Use'; format = 'D'\n",
       "    name = 'Vhelio'; format = 'K'; null = -9223372036854775808\n",
       "    name = 'sigV'; format = 'K'; null = -9223372036854775808\n",
       "    name = 'W50'; format = 'K'; null = -9223372036854775808\n",
       "    name = 'sigWtot'; format = 'K'; null = -9223372036854775808\n",
       "    name = 'sigWstat'; format = 'K'; null = -9223372036854775808\n",
       "    name = 'W20'; format = 'K'; null = -9223372036854775808\n",
       "    name = 'HIflux_2'; format = 'D'\n",
       "    name = 'sigflux'; format = 'D'\n",
       "    name = 'SNR_2'; format = 'D'\n",
       "    name = 'RMS_2'; format = 'D'\n",
       "    name = 'Dist'; format = 'D'\n",
       "    name = 'sigdist'; format = 'D'\n",
       "    name = 'logMH'; format = 'D'\n",
       "    name = 'siglogMH'; format = 'D'\n",
       "    name = 'HIcode'; format = 'K'; null = -9223372036854775808\n",
       "    name = 'objID_1'; format = 'K'; null = -9223372036854775808\n",
       "    name = 'parentID'; format = 'K'; null = -9223372036854775808\n",
       "    name = 'specObjID'; format = 'K'; null = -9223372036854775808\n",
       "    name = 'ra_1_2'; format = 'D'\n",
       "    name = 'dec_1_2'; format = 'D'\n",
       "    name = 'modelMag_u'; format = 'D'\n",
       "    name = 'modelMag_g'; format = 'D'\n",
       "    name = 'modelMag_r'; format = 'D'\n",
       "    name = 'modelMag_i'; format = 'D'\n",
       "    name = 'modelMag_z'; format = 'D'\n",
       "    name = 'modelMagErr_u'; format = 'D'\n",
       "    name = 'modelMagErr_g'; format = 'D'\n",
       "    name = 'modelMagErr_r'; format = 'D'\n",
       "    name = 'modelMagErr_i'; format = 'D'\n",
       "    name = 'modelMagErr_z'; format = 'D'\n",
       "    name = 'cModelMag_u'; format = 'D'\n",
       "    name = 'cModelMag_g'; format = 'D'\n",
       "    name = 'cModelMag_r'; format = 'D'\n",
       "    name = 'cModelMag_i'; format = 'D'\n",
       "    name = 'cModelMag_z'; format = 'D'\n",
       "    name = 'cModelMagErr_u'; format = 'D'\n",
       "    name = 'cModelMagErr_g'; format = 'D'\n",
       "    name = 'cModelMagErr_r'; format = 'D'\n",
       "    name = 'cModelMagErr_i'; format = 'D'\n",
       "    name = 'cModelMagErr_z'; format = 'D'\n",
       "    name = 'petroMag_u'; format = 'D'\n",
       "    name = 'petroMag_g'; format = 'D'\n",
       "    name = 'petroMag_r'; format = 'D'\n",
       "    name = 'petroMag_i'; format = 'D'\n",
       "    name = 'petroMag_z'; format = 'D'\n",
       "    name = 'petroMagErr_u'; format = 'D'\n",
       "    name = 'petroMagErr_g'; format = 'D'\n",
       "    name = 'petroMagErr_r'; format = 'D'\n",
       "    name = 'petroMagErr_i'; format = 'D'\n",
       "    name = 'petroMagErr_z'; format = 'D'\n",
       "    name = 'petroRad_u'; format = 'D'\n",
       "    name = 'petroRad_g'; format = 'D'\n",
       "    name = 'petroRad_r'; format = 'D'\n",
       "    name = 'petroRad_i'; format = 'D'\n",
       "    name = 'petroRad_z'; format = 'D'\n",
       "    name = 'petroR50_g'; format = 'D'\n",
       "    name = 'petroR50_r'; format = 'D'\n",
       "    name = 'petroR50_i'; format = 'D'\n",
       "    name = 'petroR90_g'; format = 'D'\n",
       "    name = 'petroR90_r'; format = 'D'\n",
       "    name = 'petroR90_i'; format = 'D'\n",
       "    name = 'extinction_u'; format = 'D'\n",
       "    name = 'extinction_g'; format = 'D'\n",
       "    name = 'extinction_r'; format = 'D'\n",
       "    name = 'extinction_i'; format = 'D'\n",
       "    name = 'extinction_z'; format = 'D'\n",
       "    name = 'expAB_g'; format = 'D'\n",
       "    name = 'expAB_r'; format = 'D'\n",
       "    name = 'expAB_i'; format = 'D'\n",
       "    name = 'expMag_g'; format = 'D'\n",
       "    name = 'expMag_r'; format = 'D'\n",
       "    name = 'expMag_i'; format = 'D'\n",
       "    name = 'flags_u'; format = 'K'; null = -9223372036854775808\n",
       "    name = 'flags_g'; format = 'K'; null = -9223372036854775808\n",
       "    name = 'flags_r'; format = 'K'; null = -9223372036854775808\n",
       "    name = 'flags_i'; format = 'K'; null = -9223372036854775808\n",
       "    name = 'flags_z'; format = 'K'; null = -9223372036854775808\n",
       "    name = 'flags'; format = 'K'; null = -9223372036854775808\n",
       "    name = 'lnLExp_r'; format = 'D'\n",
       "    name = 'lnLDeV_r'; format = 'D'\n",
       "    name = 'type_2'; format = 'K'; null = -9223372036854775808\n",
       "    name = 'fracDev_g'; format = 'D'\n",
       "    name = 'fracDev_r'; format = 'D'\n",
       "    name = 'fracDev_i'; format = 'D'\n",
       "    name = 'expRad_g'; format = 'D'\n",
       "    name = 'expRad_r'; format = 'D'\n",
       "    name = 'expRad_i'; format = 'D'\n",
       "    name = 'agcnum'; format = 'K'; null = -9223372036854775808\n",
       "    name = 'icode'; format = 'K'; null = -9223372036854775808\n",
       "    name = 'pcode'; format = 'A'\n",
       "    name = 'ipcode'; format = 'K'; null = -9223372036854775808\n",
       "    name = 'photoID'; format = 'K'; null = -9223372036854775808\n",
       "    name = 'spectID'; format = '18A'\n",
       "    name = 'sdss_z'; format = 'D'\n",
       "    name = 'absMag_g'; format = 'D'\n",
       "    name = 'absMag_i'; format = 'D'\n",
       "    name = 'gmag_corr'; format = 'D'\n",
       "    name = 'imag_corr'; format = 'D'\n",
       "    name = 'gmi_corr'; format = 'D'\n",
       "    name = 'absMag_g_corr'; format = 'D'\n",
       "    name = 'absMag_i_corr'; format = 'D'\n",
       "    name = 'gmi_no_int'; format = 'D'\n",
       "    name = 'G_Shao'; format = 'D'\n",
       "    name = 'I_Shao'; format = 'D'\n",
       "    name = 'gmi_Shao'; format = 'D'\n",
       "    name = 'gamma_g'; format = 'D'\n",
       "    name = 'gamma_i'; format = 'D'\n",
       "    name = 'photFlag_gi'; format = 'J'; null = -2147483648\n",
       "    name = 'logMstarTaylor'; format = 'E'\n",
       "    name = 'unwise_objid'; format = 'K'; null = -9223372036854775808\n",
       "    name = 'ra_2_2'; format = 'D'\n",
       "    name = 'dec_2_2'; format = 'D'\n",
       "    name = 'run_2'; format = 'I'; null = -32768\n",
       "    name = 'camcol_2'; format = 'B'; null = 255\n",
       "    name = 'field_2'; format = 'I'; null = -32768\n",
       "    name = 'raerr'; format = 'D'\n",
       "    name = 'decerr'; format = 'D'\n",
       "    name = 'pointsource'; format = 'B'; null = 255\n",
       "    name = 'treated_as_pointsource'; format = 'B'; null = 255\n",
       "    name = 'x'; format = 'E'\n",
       "    name = 'y'; format = 'E'\n",
       "    name = 'coadd_id'; format = '8A'\n",
       "    name = 'w1_nanomaggies'; format = 'E'\n",
       "    name = 'w1_nanomaggies_ivar'; format = 'E'\n",
       "    name = 'w1_mag'; format = 'E'\n",
       "    name = 'w1_mag_err'; format = 'E'\n",
       "    name = 'w1_prochi2'; format = 'E'\n",
       "    name = 'w1_pronpix'; format = 'E'\n",
       "    name = 'w1_profracflux'; format = 'E'\n",
       "    name = 'w1_proflux'; format = 'E'\n",
       "    name = 'w1_npix'; format = 'E'\n",
       "    name = 'w1_pronexp'; format = 'E'\n",
       "    name = 'w2_nanomaggies'; format = 'E'\n",
       "    name = 'w2_nanomaggies_ivar'; format = 'E'\n",
       "    name = 'w2_mag'; format = 'E'\n",
       "    name = 'w2_mag_err'; format = 'E'\n",
       "    name = 'w2_prochi2'; format = 'E'\n",
       "    name = 'w2_pronpix'; format = 'E'\n",
       "    name = 'w2_profracflux'; format = 'E'\n",
       "    name = 'w2_proflux'; format = 'E'\n",
       "    name = 'w2_npix'; format = 'E'\n",
       "    name = 'w2_pronexp'; format = 'E'\n",
       "    name = 'w3_nanomaggies'; format = 'E'\n",
       "    name = 'w3_nanomaggies_ivar'; format = 'E'\n",
       "    name = 'w3_mag'; format = 'E'\n",
       "    name = 'w3_mag_err'; format = 'E'\n",
       "    name = 'w3_prochi2'; format = 'E'\n",
       "    name = 'w3_pronpix'; format = 'E'\n",
       "    name = 'w3_profracflux'; format = 'E'\n",
       "    name = 'w3_proflux'; format = 'E'\n",
       "    name = 'w3_npix'; format = 'E'\n",
       "    name = 'w3_pronexp'; format = 'E'\n",
       "    name = 'w4_nanomaggies'; format = 'E'\n",
       "    name = 'w4_nanomaggies_ivar'; format = 'E'\n",
       "    name = 'w4_mag'; format = 'E'\n",
       "    name = 'w4_mag_err'; format = 'E'\n",
       "    name = 'w4_prochi2'; format = 'E'\n",
       "    name = 'w4_pronpix'; format = 'E'\n",
       "    name = 'w4_profracflux'; format = 'E'\n",
       "    name = 'w4_proflux'; format = 'E'\n",
       "    name = 'w4_npix'; format = 'E'\n",
       "    name = 'w4_pronexp'; format = 'E'\n",
       "    name = 'finn_index'; format = 'K'; null = -9223372036854775808\n",
       "    name = 'ra_finn'; format = 'D'\n",
       "    name = 'dec_finn'; format = 'D'\n",
       "    name = 'objID_2'; format = 'K'; null = -9223372036854775808\n",
       "    name = 'logLW1'; format = 'D'\n",
       "    name = 'logMstarCluver'; format = 'D'\n",
       "    name = 'logMstarMcGaugh'; format = 'D'\n",
       "    name = 'logL12'; format = 'D'\n",
       "    name = 'logSFR12'; format = 'D'\n",
       "    name = 'logL22'; format = 'D'\n",
       "    name = 'logSFR22'; format = 'D'\n",
       "    name = 'logSFR22_KE'; format = 'D'\n",
       "    name = 'Separation'; format = 'D'; unit = 'arcsec'\n",
       ")"
      ]
     },
     "execution_count": 54,
     "metadata": {},
     "output_type": "execute_result"
    }
   ],
   "source": [
    "cat.columns"
   ]
  },
  {
   "cell_type": "markdown",
   "metadata": {},
   "source": [
    "## published table ##\n",
    "\n",
    "- RA, DEC, velocity, our id, HL name, NSA id, A100 name\n",
    "- coordinates - \n",
    "  - HL, NSA, then A100\n",
    "- NED name\n",
    "- unWISE quantities, stellar mass and SFR\n",
    "- SGX, SGY, SGZ\n",
    "- closest filament\n",
    "- distance to filament"
   ]
  },
  {
   "cell_type": "markdown",
   "metadata": {},
   "source": [
    "## internal catalog ##"
   ]
  },
  {
   "cell_type": "code",
   "execution_count": null,
   "metadata": {},
   "outputs": [],
   "source": [
    "# published catalog\n",
    "\n",
    "# make HL flag\n",
    "\n",
    "# make NSA flag\n",
    "\n",
    "# make A100 flag\n",
    "\n",
    "# ra = RA_HL , then RA_NSA, then RA A100"
   ]
  },
  {
   "cell_type": "code",
   "execution_count": 55,
   "metadata": {},
   "outputs": [],
   "source": [
    "from astroquery.ned import Ned\n"
   ]
  },
  {
   "cell_type": "code",
   "execution_count": 81,
   "metadata": {},
   "outputs": [],
   "source": [
    "result_table = Ned.query_object(\"NGC 224\")"
   ]
  },
  {
   "cell_type": "code",
   "execution_count": 82,
   "metadata": {},
   "outputs": [
    {
     "name": "stdout",
     "output_type": "stream",
     "text": [
      "Object Name     RA        DEC    \n",
      "             degrees    degrees  \n",
      "----------- ---------- ----------\n",
      "MESSIER 031   10.68479   41.26906\n"
     ]
    }
   ],
   "source": [
    "print(result_table['Object Name','RA','DEC'])"
   ]
  },
  {
   "cell_type": "code",
   "execution_count": 99,
   "metadata": {},
   "outputs": [
    {
     "data": {
      "text/plain": [
       "'MESSIER 031'"
      ]
     },
     "execution_count": 99,
     "metadata": {},
     "output_type": "execute_result"
    }
   ],
   "source": [
    "result_table['Object Name'][0]"
   ]
  },
  {
   "cell_type": "code",
   "execution_count": 100,
   "metadata": {},
   "outputs": [],
   "source": [
    "t = np.array(result_table['Object Name'][0])"
   ]
  },
  {
   "cell_type": "code",
   "execution_count": 102,
   "metadata": {},
   "outputs": [
    {
     "name": "stdout",
     "output_type": "stream",
     "text": [
      "<U11\n"
     ]
    }
   ],
   "source": [
    "print(t.dtype)"
   ]
  },
  {
   "cell_type": "code",
   "execution_count": 89,
   "metadata": {},
   "outputs": [
    {
     "name": "stdout",
     "output_type": "stream",
     "text": [
      "[<MaskedColumn name='Object Name' dtype='bytes30' description='NED preferred name for the object' length=1>\n",
      "MESSIER 031, <MaskedColumn name='Object Name' dtype='bytes30' description='NED preferred name for the object' length=1>\n",
      "MESSIER 031, <MaskedColumn name='Object Name' dtype='bytes30' description='NED preferred name for the object' length=1>\n",
      "MESSIER 031]\n",
      "|S30\n"
     ]
    }
   ],
   "source": [
    "x=[]\n",
    "for i in range(3):\n",
    "    x.append(result_table['Object Name'])\n",
    "print(x)\n",
    "x = np.array(x)\n",
    "print(x.dtype)"
   ]
  },
  {
   "cell_type": "code",
   "execution_count": 64,
   "metadata": {},
   "outputs": [
    {
     "data": {
      "text/plain": [
       "'PGC720745'"
      ]
     },
     "execution_count": 64,
     "metadata": {},
     "output_type": "execute_result"
    }
   ],
   "source": [
    "cat['objname'][0]"
   ]
  },
  {
   "cell_type": "code",
   "execution_count": 71,
   "metadata": {},
   "outputs": [
    {
     "data": {
      "text/plain": [
       "0"
      ]
     },
     "execution_count": 71,
     "metadata": {},
     "output_type": "execute_result"
    }
   ],
   "source": [
    "combo_name = cat['objname']*cat['HLflag'] + cat['NSAID']"
   ]
  },
  {
   "cell_type": "code",
   "execution_count": 104,
   "metadata": {},
   "outputs": [],
   "source": [
    "NEDid = np.zeros(len(cat),dtype='S60')\n",
    "NEDid = []\n",
    "for i in range(50):\n",
    "    # check if HL id exists, look up NED name\n",
    "    # if yes, break\n",
    "    # if no NED comes back\n",
    "    # check if NSA ID exists for that galaxy. if yes, look up NED name\n",
    "    # if NED name is found, break\n",
    "    # if no NED name comes back\n",
    "    # check if A100 ID exists for that galaxy. if yes, look up NED name\n",
    "    # if no NED name comes back, then no NED name!\n",
    "    if cat['HLflag'][i]:\n",
    "        pass\n",
    "    elif cat['NSAflag']\n",
    "        t = Ned.query_object(cat['objname'][i])\n",
    "    #NEDid[i] = str(t['Object Name'][0]).rstrip()\n",
    "    try:\n",
    "        NEDid.append(t['Object Name'][0])\n",
    "    except IndexError:\n",
    "        NEDid.append('')"
   ]
  },
  {
   "cell_type": "code",
   "execution_count": 105,
   "metadata": {},
   "outputs": [
    {
     "data": {
      "text/plain": [
       "['',\n",
       " '2MASX J12083457-3008549',\n",
       " 'GALEXASC J130225.53-300632.6',\n",
       " 'WISEA J120521.43-300245.9',\n",
       " 'WISEA J132013.97-300210.6',\n",
       " '',\n",
       " 'WISEA J113231.73-293710.4',\n",
       " '',\n",
       " '',\n",
       " 'WISEA J142110.39-291504.7',\n",
       " '',\n",
       " '',\n",
       " '2MASX J14450161-2853052',\n",
       " '2MASS J15372939-2853067',\n",
       " 'WISEA J093846.03-284208.1',\n",
       " 'WISEA J120346.76-284014.7',\n",
       " 'LCSB S0995P',\n",
       " '',\n",
       " 'WISEA J103632.46-282159.1',\n",
       " 'WISEA J130056.11-282110.8',\n",
       " '',\n",
       " '',\n",
       " '',\n",
       " '',\n",
       " '',\n",
       " '',\n",
       " '',\n",
       " 'WISEA J065104.12-275632.2',\n",
       " '',\n",
       " 'WISEA J101025.43-275212.9',\n",
       " 'WISEA J124213.30-275210.6',\n",
       " '',\n",
       " 'SDSS J143956.60-004439.3',\n",
       " 'AM 1130-272',\n",
       " 'WISEA J103455.93-273823.9',\n",
       " '',\n",
       " '',\n",
       " 'WISEA J120157.57-272613.4',\n",
       " '',\n",
       " '2MASX J09512225-2720180',\n",
       " '',\n",
       " '',\n",
       " '',\n",
       " 'WISEA J103540.95-265822.5',\n",
       " '',\n",
       " 'WISEA J111419.99-265447.5',\n",
       " '2MASS J11505446-2654260',\n",
       " 'AM 1316-263',\n",
       " 'WISEA J103817.73-264641.3',\n",
       " '2MFGC 08182']"
      ]
     },
     "execution_count": 105,
     "metadata": {},
     "output_type": "execute_result"
    }
   ],
   "source": [
    "NEDid"
   ]
  },
  {
   "cell_type": "markdown",
   "metadata": {},
   "source": [
    "# Scratch work on how to merge class=4 sources efficiently #\n",
    "\n",
    "going to reassign range of columns from child to parent\n",
    "\n",
    "for HL, columns a:b"
   ]
  },
  {
   "cell_type": "code",
   "execution_count": 106,
   "metadata": {},
   "outputs": [],
   "source": [
    "t = fits.getdata('/home/rfinn/research/Virgo/supersample/smart_kitchen_sink.fits')\n"
   ]
  },
  {
   "cell_type": "code",
   "execution_count": 112,
   "metadata": {},
   "outputs": [],
   "source": [
    "T = Table(t)"
   ]
  },
  {
   "cell_type": "code",
   "execution_count": 151,
   "metadata": {},
   "outputs": [
    {
     "data": {
      "text/plain": [
       "['IAUNAME',\n",
       " 'SUBDIR',\n",
       " 'RA_2',\n",
       " 'DEC_2',\n",
       " 'ISDSS',\n",
       " 'INED',\n",
       " 'ISIXDF',\n",
       " 'IALFALFA',\n",
       " 'IZCAT',\n",
       " 'ITWODF',\n",
       " 'MAG',\n",
       " 'Z',\n",
       " 'ZSRC',\n",
       " 'SIZE',\n",
       " 'RUN',\n",
       " 'CAMCOL',\n",
       " 'FIELD',\n",
       " 'RERUN',\n",
       " 'XPOS',\n",
       " 'YPOS',\n",
       " 'NSAID',\n",
       " 'ZDIST',\n",
       " 'SERSIC_NMGY',\n",
       " 'SERSIC_NMGY_IVAR',\n",
       " 'SERSIC_OK',\n",
       " 'SERSIC_RNMGY',\n",
       " 'SERSIC_ABSMAG',\n",
       " 'SERSIC_AMIVAR',\n",
       " 'EXTINCTION',\n",
       " 'SERSIC_KCORRECT',\n",
       " 'SERSIC_KCOEFF',\n",
       " 'SERSIC_MTOL',\n",
       " 'SERSIC_B300',\n",
       " 'SERSIC_B1000',\n",
       " 'SERSIC_METS',\n",
       " 'SERSIC_MASS',\n",
       " 'XCEN',\n",
       " 'YCEN',\n",
       " 'NPROF',\n",
       " 'PROFMEAN',\n",
       " 'PROFMEAN_IVAR',\n",
       " 'QSTOKES',\n",
       " 'USTOKES',\n",
       " 'BASTOKES',\n",
       " 'PHISTOKES',\n",
       " 'PETRO_FLUX',\n",
       " 'PETRO_FLUX_IVAR',\n",
       " 'FIBER_FLUX',\n",
       " 'FIBER_FLUX_IVAR',\n",
       " 'PETRO_BA50',\n",
       " 'PETRO_PHI50',\n",
       " 'PETRO_BA90',\n",
       " 'PETRO_PHI90',\n",
       " 'SERSIC_FLUX',\n",
       " 'SERSIC_FLUX_IVAR',\n",
       " 'SERSIC_N',\n",
       " 'SERSIC_BA',\n",
       " 'SERSIC_PHI',\n",
       " 'ASYMMETRY',\n",
       " 'CLUMPY',\n",
       " 'DFLAGS',\n",
       " 'AID',\n",
       " 'PID',\n",
       " 'DVERSION',\n",
       " 'PROFTHETA',\n",
       " 'PETRO_THETA',\n",
       " 'PETRO_TH50',\n",
       " 'PETRO_TH90',\n",
       " 'SERSIC_TH50',\n",
       " 'PLATE',\n",
       " 'FIBERID',\n",
       " 'MJD',\n",
       " 'RACAT',\n",
       " 'DECCAT',\n",
       " 'ZSDSSLINE',\n",
       " 'SURVEY',\n",
       " 'PROGRAMNAME',\n",
       " 'PLATEQUALITY',\n",
       " 'TILE',\n",
       " 'PLUG_RA',\n",
       " 'PLUG_DEC',\n",
       " 'ELPETRO_BA',\n",
       " 'ELPETRO_PHI',\n",
       " 'ELPETRO_FLUX_R',\n",
       " 'ELPETRO_FLUX_IVAR_R',\n",
       " 'ELPETRO_THETA_R',\n",
       " 'ELPETRO_TH50_R',\n",
       " 'ELPETRO_TH90_R',\n",
       " 'ELPETRO_THETA',\n",
       " 'ELPETRO_FLUX',\n",
       " 'ELPETRO_FLUX_IVAR',\n",
       " 'ELPETRO_TH50',\n",
       " 'ELPETRO_TH90',\n",
       " 'ELPETRO_APCORR_R',\n",
       " 'ELPETRO_APCORR',\n",
       " 'ELPETRO_APCORR_SELF',\n",
       " 'ELPETRO_NMGY',\n",
       " 'ELPETRO_NMGY_IVAR',\n",
       " 'ELPETRO_OK',\n",
       " 'ELPETRO_RNMGY',\n",
       " 'ELPETRO_ABSMAG',\n",
       " 'ELPETRO_AMIVAR',\n",
       " 'ELPETRO_KCORRECT',\n",
       " 'ELPETRO_KCOEFF',\n",
       " 'ELPETRO_MASS',\n",
       " 'ELPETRO_MTOL',\n",
       " 'ELPETRO_B300',\n",
       " 'ELPETRO_B1000',\n",
       " 'ELPETRO_METS',\n",
       " 'IN_DR7_LSS']"
      ]
     },
     "execution_count": 151,
     "metadata": {},
     "output_type": "execute_result"
    }
   ],
   "source": [
    "T.colnames[90:200]"
   ]
  },
  {
   "cell_type": "code",
   "execution_count": 140,
   "metadata": {},
   "outputs": [
    {
     "data": {
      "text/plain": [
       "dtype('int64')"
      ]
     },
     "execution_count": 140,
     "metadata": {},
     "output_type": "execute_result"
    }
   ],
   "source": [
    "np.arange(44,83).dtype"
   ]
  },
  {
   "cell_type": "code",
   "execution_count": 152,
   "metadata": {},
   "outputs": [],
   "source": [
    "os.chdir('/home/rfinn/research/Virgo/supersample/')"
   ]
  },
  {
   "cell_type": "code",
   "execution_count": 209,
   "metadata": {
    "scrolled": true
   },
   "outputs": [
    {
     "name": "stdout",
     "output_type": "stream",
     "text": [
      "parents =  9311\n",
      "len(parentid) =  1\n",
      "9311 [9311] 1045\n",
      "False True [9311] 1\n",
      "parents =  1586.0\n",
      "len(parentid) =  1\n",
      "1586.0 [1586] 3472\n",
      "True True [1586] 1\n",
      "parents =  9695.0\n",
      "len(parentid) =  1\n",
      "9695.0 [9695] 5280\n",
      "False True [9695] 1\n",
      "parents =  6546.0\n",
      "len(parentid) =  1\n",
      "6546.0 [6546] 5282\n",
      "True True [6546] 1\n",
      "parents =  9305.0\n",
      "len(parentid) =  1\n",
      "9305.0 [9305] 6657\n",
      "False True [9305] 1\n",
      "parents =  9348.0\n",
      "len(parentid) =  1\n",
      "9348.0 [9348] 6662\n",
      "False True [9348] 1\n",
      "parents =  --\n"
     ]
    },
    {
     "name": "stderr",
     "output_type": "stream",
     "text": [
      "/home/rfinn/github/Virgo/programs/clean_kitchen_sink.py:51: UserWarning: Warning: converting a masked element to nan.\n",
      "  parentflag = self.byeye['galnumber'] == int(float(parents[i]))\n"
     ]
    },
    {
     "ename": "ValueError",
     "evalue": "cannot convert float NaN to integer",
     "output_type": "error",
     "traceback": [
      "\u001b[0;31m---------------------------------------------------------------------------\u001b[0m",
      "\u001b[0;31mValueError\u001b[0m                                Traceback (most recent call last)",
      "\u001b[0;32m~/github/Virgo/programs/clean_kitchen_sink.py\u001b[0m in \u001b[0;36m<module>\u001b[0;34m\u001b[0m\n\u001b[1;32m    136\u001b[0m \u001b[0;32mif\u001b[0m \u001b[0m__name__\u001b[0m \u001b[0;34m==\u001b[0m \u001b[0;34m'__main__'\u001b[0m\u001b[0;34m:\u001b[0m\u001b[0;34m\u001b[0m\u001b[0;34m\u001b[0m\u001b[0m\n\u001b[1;32m    137\u001b[0m     \u001b[0mc\u001b[0m \u001b[0;34m=\u001b[0m \u001b[0mcatalog\u001b[0m\u001b[0;34m(\u001b[0m\u001b[0mkitchen_sink\u001b[0m\u001b[0;34m,\u001b[0m\u001b[0mbyeye_classifications\u001b[0m\u001b[0;34m)\u001b[0m\u001b[0;34m\u001b[0m\u001b[0;34m\u001b[0m\u001b[0m\n\u001b[0;32m--> 138\u001b[0;31m     \u001b[0mc\u001b[0m\u001b[0;34m.\u001b[0m\u001b[0mmerge_class4\u001b[0m\u001b[0;34m(\u001b[0m\u001b[0;34m)\u001b[0m\u001b[0;34m\u001b[0m\u001b[0;34m\u001b[0m\u001b[0m\n\u001b[0m\u001b[1;32m    139\u001b[0m     \u001b[0mc\u001b[0m\u001b[0;34m.\u001b[0m\u001b[0mcut_catalog\u001b[0m\u001b[0;34m(\u001b[0m\u001b[0;34m)\u001b[0m\u001b[0;34m\u001b[0m\u001b[0;34m\u001b[0m\u001b[0m\n\u001b[1;32m    140\u001b[0m     \u001b[0;31m#c.catalog_for_z0MGS()\u001b[0m\u001b[0;34m\u001b[0m\u001b[0;34m\u001b[0m\u001b[0;34m\u001b[0m\u001b[0m\n",
      "\u001b[0;32m~/github/Virgo/programs/clean_kitchen_sink.py\u001b[0m in \u001b[0;36mmerge_class4\u001b[0;34m(self)\u001b[0m\n\u001b[1;32m     49\u001b[0m         \u001b[0;32mfor\u001b[0m \u001b[0mi\u001b[0m \u001b[0;32min\u001b[0m \u001b[0mrange\u001b[0m\u001b[0;34m(\u001b[0m\u001b[0mlen\u001b[0m\u001b[0;34m(\u001b[0m\u001b[0mHL4\u001b[0m\u001b[0;34m)\u001b[0m\u001b[0;34m)\u001b[0m\u001b[0;34m:\u001b[0m\u001b[0;34m\u001b[0m\u001b[0;34m\u001b[0m\u001b[0m\n\u001b[1;32m     50\u001b[0m             \u001b[0mprint\u001b[0m\u001b[0;34m(\u001b[0m\u001b[0;34m'parents = '\u001b[0m\u001b[0;34m,\u001b[0m\u001b[0mparents\u001b[0m\u001b[0;34m[\u001b[0m\u001b[0mi\u001b[0m\u001b[0;34m]\u001b[0m\u001b[0;34m)\u001b[0m\u001b[0;34m\u001b[0m\u001b[0;34m\u001b[0m\u001b[0m\n\u001b[0;32m---> 51\u001b[0;31m             \u001b[0mparentflag\u001b[0m \u001b[0;34m=\u001b[0m \u001b[0mself\u001b[0m\u001b[0;34m.\u001b[0m\u001b[0mbyeye\u001b[0m\u001b[0;34m[\u001b[0m\u001b[0;34m'galnumber'\u001b[0m\u001b[0;34m]\u001b[0m \u001b[0;34m==\u001b[0m \u001b[0mint\u001b[0m\u001b[0;34m(\u001b[0m\u001b[0mfloat\u001b[0m\u001b[0;34m(\u001b[0m\u001b[0mparents\u001b[0m\u001b[0;34m[\u001b[0m\u001b[0mi\u001b[0m\u001b[0;34m]\u001b[0m\u001b[0;34m)\u001b[0m\u001b[0;34m)\u001b[0m\u001b[0;34m\u001b[0m\u001b[0;34m\u001b[0m\u001b[0m\n\u001b[0m\u001b[1;32m     52\u001b[0m             \u001b[0mparentid\u001b[0m \u001b[0;34m=\u001b[0m \u001b[0mnp\u001b[0m\u001b[0;34m.\u001b[0m\u001b[0marange\u001b[0m\u001b[0;34m(\u001b[0m\u001b[0mlen\u001b[0m\u001b[0;34m(\u001b[0m\u001b[0mclass4\u001b[0m\u001b[0;34m)\u001b[0m\u001b[0;34m)\u001b[0m\u001b[0;34m[\u001b[0m\u001b[0mparentflag\u001b[0m\u001b[0;34m]\u001b[0m\u001b[0;34m\u001b[0m\u001b[0;34m\u001b[0m\u001b[0m\n\u001b[1;32m     53\u001b[0m             \u001b[0mprint\u001b[0m\u001b[0;34m(\u001b[0m\u001b[0;34m'len(parentid) = '\u001b[0m\u001b[0;34m,\u001b[0m\u001b[0mlen\u001b[0m\u001b[0;34m(\u001b[0m\u001b[0mparentid\u001b[0m\u001b[0;34m)\u001b[0m\u001b[0;34m)\u001b[0m\u001b[0;34m\u001b[0m\u001b[0;34m\u001b[0m\u001b[0m\n",
      "\u001b[0;31mValueError\u001b[0m: cannot convert float NaN to integer"
     ]
    }
   ],
   "source": [
    "%run ~/github/Virgo/programs/clean_kitchen_sink.py"
   ]
  },
  {
   "cell_type": "markdown",
   "metadata": {},
   "source": [
    "# Found a few entries that had class=4 but no parent identified.  Need to look at cutouts for:\n",
    "\n",
    "| Gal id | class | parent | new class | explanation |\n",
    "|--------|-------|--------|-----------|-------------|\n",
    "|8934 | 4 | N/A | 1 | looked like multiple sources but only one |\n",
    "|9017 | 4 | N/A | 1 | same as above |\n",
    "|9565 | 4 | 6303 | N/A| coords are offset, but vel is same |\n",
    "|9715 | 4 | 7765 | N/A| coords the same, but HL and NSA have BIG vel offset (1800 vs 3149) |\n",
    "\n",
    "Then:\n",
    "- update entry in google spreadsheet\n",
    "- download spreadsheet\n",
    "- collate the multiple sheets into one spreadsheet"
   ]
  },
  {
   "cell_type": "code",
   "execution_count": 210,
   "metadata": {},
   "outputs": [
    {
     "name": "stdout",
     "output_type": "stream",
     "text": [
      "Welcome!\n",
      "\n",
      "To build catalogs, try: \n",
      "\n",
      " \t s=sample()\n",
      " \t s.get_smart() \n",
      " \n",
      " OR\n",
      "\t s.run_it()\n",
      "\n",
      "\n",
      "To read table and plot images, try: \n",
      "\n",
      " \t t=fulltable()\n",
      " \t t.agc_only() )\n"
     ]
    }
   ],
   "source": [
    "os.chdir('/home/rfinn/research/Virgo/supersample/')\n",
    "%run ~/github/Virgo/programs/mksupersample.py"
   ]
  },
  {
   "cell_type": "code",
   "execution_count": 211,
   "metadata": {},
   "outputs": [
    {
     "name": "stdout",
     "output_type": "stream",
     "text": [
      "LENGTH GALIDS_IN_FOV =  9999\n"
     ]
    }
   ],
   "source": [
    "t = fulltable()"
   ]
  },
  {
   "cell_type": "code",
   "execution_count": 214,
   "metadata": {},
   "outputs": [
    {
     "name": "stdout",
     "output_type": "stream",
     "text": [
      "cutout image size is  60\n",
      "8934 :  [8934]\n",
      "cutout image size is  60\n",
      "9017 :  [9017]\n",
      "cutout image size is  60\n",
      "9565 :  [6303, 9565]\n",
      "cutout image size is  60\n",
      "9715 :  [7765, 9715]\n"
     ]
    },
    {
     "data": {
      "image/png": "[encoded data removed]",
      "text/plain": [
       "<Figure size 288x288 with 1 Axes>"
      ]
     },
     "metadata": {
      "needs_background": "light"
     },
     "output_type": "display_data"
    },
    {
     "data": {
      "image/png": "[encoded data removed]",
      "text/plain": [
       "<Figure size 288x288 with 1 Axes>"
      ]
     },
     "metadata": {
      "needs_background": "light"
     },
     "output_type": "display_data"
    },
    {
     "data": {
      "image/png": "[encoded data removed]",
      "text/plain": [
       "<Figure size 288x288 with 1 Axes>"
      ]
     },
     "metadata": {
      "needs_background": "light"
     },
     "output_type": "display_data"
    },
    {
     "data": {
      "image/png": "[encoded data removed]",
      "text/plain": [
       "<Figure size 288x288 with 1 Axes>"
      ]
     },
     "metadata": {
      "needs_background": "light"
     },
     "output_type": "display_data"
    }
   ],
   "source": [
    "ids = [8934, 9017, 9565, 9715]\n",
    "for i in ids:\n",
    "    a = t.one_gal(i,imsize=60,dssflag=False)\n",
    "    print(i,': ',a)"
   ]
  },
  {
   "cell_type": "markdown",
   "metadata": {},
   "source": [
    "# rerunning clean kitchen sink #"
   ]
  },
  {
   "cell_type": "code",
   "execution_count": 220,
   "metadata": {
    "scrolled": true
   },
   "outputs": [
    {
     "name": "stdout",
     "output_type": "stream",
     "text": [
      "1045 parents =  9311\n",
      "9311 [9311] 1045\n",
      "3472 parents =  1586.0\n",
      "1586.0 [1586] 3472\n",
      "5280 parents =  9695.0\n",
      "9695.0 [9695] 5280\n",
      "5282 parents =  6546.0\n",
      "6546.0 [6546] 5282\n",
      "6657 parents =  9305.0\n",
      "9305.0 [9305] 6657\n",
      "6662 parents =  9348.0\n",
      "9348.0 [9348] 6662\n",
      "9349 parents =  5265.0\n",
      "5265.0 [5265] 9349\n",
      "9378 parents =  1985.0\n",
      "1985.0 [1985] 9378\n",
      "9408 parents =  3104.0\n",
      "3104.0 [3104] 9408\n",
      "9411 parents =  1904.0\n",
      "1904.0 [1904] 9411\n",
      "9449 parents =  1832.0\n",
      "1832.0 [1832] 9449\n",
      "9565 parents =  6303.0\n",
      "6303.0 [6303] 9565\n",
      "9585 parents =  7543.0\n",
      "7543.0 [7543] 9585\n",
      "9623 parents =  5285.0\n",
      "5285.0 [5285] 9623\n",
      "9677 parents =  6661.0\n",
      "6661.0 [6661] 9677\n",
      "9689 parents =  9689.0\n",
      "9689.0 [9689] 9689\n",
      "9694 parents =  4429.0\n",
      "4429.0 [4429] 9694\n",
      "9710 parents =  7754.0\n",
      "7754.0 [7754] 9710\n",
      "9715 parents =  7765.0\n",
      "7765.0 [7765] 9715\n",
      "9738 parents =  5687.0\n",
      "5687.0 [5687] 9738\n",
      "9745 parents =  7391.0\n",
      "7391.0 [7391] 9745\n",
      "9747 parents =  5293.0\n",
      "5293.0 [5293] 9747\n",
      "9748 parents =  6910.0\n",
      "6910.0 [6910] 9748\n",
      "9754 parents =  3121.0\n",
      "3121.0 [3121] 9754\n",
      "9765 parents =  5267.0\n",
      "5267.0 [5267] 9765\n",
      "9766 parents =  3156.0\n",
      "3156.0 [3156] 9766\n",
      "9777 parents =  5174.0\n",
      "5174.0 [5174] 9777\n",
      "9782 parents =  4208.0\n",
      "4208.0 [4208] 9782\n",
      "9795 parents =  7954.0\n",
      "7954.0 [7954] 9795\n",
      "9803 parents =  268.0\n",
      "268.0 [268] 9803\n",
      "9811 parents =  6893.0\n",
      "6893.0 [6893] 9811\n",
      "9816 parents =  6392.0\n",
      "6392.0 [6392] 9816\n",
      "9818 parents =  5172.0\n",
      "5172.0 [5172] 9818\n",
      "9827 parents =  7665.0\n",
      "7665.0 [7665] 9827\n",
      "9844 parents =  3887.0\n",
      "3887.0 [3887] 9844\n",
      "9846 parents =  7918.0\n",
      "7918.0 [7918] 9846\n",
      "9853 parents =  7383.0\n",
      "7383.0 [7383] 9853\n",
      "9854 parents =  2386.0\n",
      "2386.0 [2386] 9854\n",
      "9868 parents =  6237.0\n",
      "6237.0 [6237] 9868\n",
      "9933 parents =  797.0\n",
      "797.0 [797] 9933\n",
      "9943 parents =  4389.0\n",
      "4389.0 [4389] 9943\n",
      "9966 parents =  3846.0\n",
      "3846.0 [3846] 9966\n",
      "9980 parents =  6279.0\n",
      "6279.0 [6279] 9980\n"
     ]
    }
   ],
   "source": [
    "os.chdir('/home/rfinn/research/Virgo/supersample/')\n",
    "%run ~/github/Virgo/programs/clean_kitchen_sink.py"
   ]
  },
  {
   "cell_type": "markdown",
   "metadata": {},
   "source": [
    "Looks like merging for class 4 objects proceeded without error.  Should check a few by comparing smart_kitchen_sink.fits with clean_kitchen_sink.fits"
   ]
  },
  {
   "cell_type": "code",
   "execution_count": 223,
   "metadata": {},
   "outputs": [
    {
     "data": {
      "text/html": [
       "<i>Row index=9331</i>\n",
       "<table id=\"table140373186447504\">\n",
       "<thead><tr><th>objname</th><th>objtype</th><th>de2000</th><th>al2000</th><th>v</th><th>e_v</th><th>vopt_1</th><th>e_vopt</th><th>vrad</th><th>e_vrad</th><th>bt</th><th>e_bt</th><th>type</th><th>bar</th><th>ring</th><th>multiple</th><th>compactness</th><th>t</th><th>e_t</th><th>logd25</th><th>e_logd25</th><th>logr25</th><th>e_logr25</th><th>pa</th><th>incl</th><th>logdc</th><th>btc</th><th>itc</th><th>ubtc</th><th>bvtc</th><th>m21c</th><th>hic</th><th>mabs</th><th>agnclass</th><th>kt</th><th>e_kt</th><th>it</th><th>e_it</th><th>ut</th><th>vt</th><th>mfir</th><th>e_ut</th><th>e_vt</th><th>RAdeg</th><th>AGCnr</th><th>which</th><th>radeg</th><th>decdeg</th><th>a</th><th>b</th><th>zmag</th><th>inccode</th><th>posang</th><th>description</th><th>bsteintype</th><th>vopt_2</th><th>verr</th><th>extrc3</th><th>extdirbe</th><th>vsource</th><th>ngcic</th><th>hiflux</th><th>rms</th><th>v21</th><th>width</th><th>widtherr</th><th>widthcode</th><th>telcode</th><th>detcode</th><th>hisource</th><th>statuscode</th><th>snr</th><th>ibandqual</th><th>ibandsrc</th><th>irasflag</th><th>icluster</th><th>hidata</th><th>iposition</th><th>ipalomar</th><th>rc3flag</th><th>irotcat</th><th>newstuff</th><th>vhelagc</th><th>RA_1</th><th>DEC_1</th><th>HLflag</th><th>AGCflag</th><th>RA-HL-AGC</th><th>DEC-HL-AGC</th><th>HL-AGC-VEL</th><th>IAUNAME</th><th>SUBDIR</th><th>RA_2</th><th>DEC_2</th><th>ISDSS</th><th>INED</th><th>ISIXDF</th><th>IALFALFA</th><th>IZCAT</th><th>ITWODF</th><th>MAG</th><th>Z</th><th>ZSRC</th><th>SIZE</th><th>RUN</th><th>CAMCOL</th><th>FIELD</th><th>RERUN</th><th>XPOS</th><th>YPOS</th><th>NSAID</th><th>ZDIST</th><th>SERSIC_NMGY [7]</th><th>SERSIC_NMGY_IVAR [7]</th><th>SERSIC_OK</th><th>SERSIC_RNMGY [7]</th><th>SERSIC_ABSMAG [7]</th><th>SERSIC_AMIVAR [7]</th><th>EXTINCTION [7]</th><th>SERSIC_KCORRECT [7]</th><th>SERSIC_KCOEFF [5]</th><th>SERSIC_MTOL [7]</th><th>SERSIC_B300</th><th>SERSIC_B1000</th><th>SERSIC_METS</th><th>SERSIC_MASS</th><th>XCEN</th><th>YCEN</th><th>NPROF [7]</th><th>PROFMEAN [15,7]</th><th>PROFMEAN_IVAR [15,7]</th><th>QSTOKES [15,7]</th><th>USTOKES [15,7]</th><th>BASTOKES [15,7]</th><th>PHISTOKES [15,7]</th><th>PETRO_FLUX [7]</th><th>PETRO_FLUX_IVAR [7]</th><th>FIBER_FLUX [7]</th><th>FIBER_FLUX_IVAR [7]</th><th>PETRO_BA50</th><th>PETRO_PHI50</th><th>PETRO_BA90</th><th>PETRO_PHI90</th><th>SERSIC_FLUX [7]</th><th>SERSIC_FLUX_IVAR [7]</th><th>SERSIC_N</th><th>SERSIC_BA</th><th>SERSIC_PHI</th><th>ASYMMETRY [7]</th><th>CLUMPY [7]</th><th>DFLAGS [7]</th><th>AID</th><th>PID</th><th>DVERSION</th><th>PROFTHETA [15]</th><th>PETRO_THETA</th><th>PETRO_TH50</th><th>PETRO_TH90</th><th>SERSIC_TH50</th><th>PLATE</th><th>FIBERID</th><th>MJD</th><th>RACAT</th><th>DECCAT</th><th>ZSDSSLINE</th><th>SURVEY</th><th>PROGRAMNAME</th><th>PLATEQUALITY</th><th>TILE</th><th>PLUG_RA</th><th>PLUG_DEC</th><th>ELPETRO_BA</th><th>ELPETRO_PHI</th><th>ELPETRO_FLUX_R</th><th>ELPETRO_FLUX_IVAR_R</th><th>ELPETRO_THETA_R</th><th>ELPETRO_TH50_R</th><th>ELPETRO_TH90_R</th><th>ELPETRO_THETA</th><th>ELPETRO_FLUX [7]</th><th>ELPETRO_FLUX_IVAR [7]</th><th>ELPETRO_TH50 [7]</th><th>ELPETRO_TH90 [7]</th><th>ELPETRO_APCORR_R</th><th>ELPETRO_APCORR [7]</th><th>ELPETRO_APCORR_SELF [7]</th><th>ELPETRO_NMGY [7]</th><th>ELPETRO_NMGY_IVAR [7]</th><th>ELPETRO_OK</th><th>ELPETRO_RNMGY [7]</th><th>ELPETRO_ABSMAG [7]</th><th>ELPETRO_AMIVAR [7]</th><th>ELPETRO_KCORRECT [7]</th><th>ELPETRO_KCOEFF [5]</th><th>ELPETRO_MASS</th><th>ELPETRO_MTOL [7]</th><th>ELPETRO_B300</th><th>ELPETRO_B1000</th><th>ELPETRO_METS</th><th>IN_DR7_LSS</th><th>NSAflag</th><th>RA-COMBINED</th><th>DEC-COMBINED</th><th>HL-AGC-NSA-VEL</th><th>galnumber</th></tr></thead>\n",
       "<thead><tr><th>str28</th><th>str1</th><th>float64</th><th>float64</th><th>float64</th><th>float64</th><th>float64</th><th>float64</th><th>float64</th><th>float64</th><th>float64</th><th>float64</th><th>str4</th><th>str1</th><th>str1</th><th>str1</th><th>str1</th><th>float64</th><th>float64</th><th>float64</th><th>float64</th><th>float64</th><th>float64</th><th>float64</th><th>float64</th><th>float64</th><th>float64</th><th>float64</th><th>float64</th><th>float64</th><th>float64</th><th>float64</th><th>float64</th><th>str4</th><th>float64</th><th>float64</th><th>float64</th><th>float64</th><th>float64</th><th>float64</th><th>float64</th><th>float64</th><th>float64</th><th>float64</th><th>int64</th><th>str1</th><th>float64</th><th>float64</th><th>float64</th><th>float64</th><th>float64</th><th>int64</th><th>int64</th><th>str8</th><th>int64</th><th>int64</th><th>int64</th><th>int64</th><th>int64</th><th>int64</th><th>str8</th><th>float64</th><th>float64</th><th>int64</th><th>int64</th><th>int64</th><th>str4</th><th>str1</th><th>int64</th><th>int64</th><th>int64</th><th>float64</th><th>int64</th><th>int64</th><th>int64</th><th>int64</th><th>int64</th><th>int64</th><th>int64</th><th>int64</th><th>int64</th><th>int64</th><th>int64</th><th>float64</th><th>float64</th><th>bool</th><th>bool</th><th>float32</th><th>float32</th><th>float32</th><th>str19</th><th>str27</th><th>float64</th><th>float64</th><th>int32</th><th>int32</th><th>int32</th><th>int32</th><th>int32</th><th>int32</th><th>float32</th><th>float32</th><th>str7</th><th>float32</th><th>int16</th><th>uint8</th><th>int16</th><th>str3</th><th>float32</th><th>float32</th><th>int32</th><th>float32</th><th>float32</th><th>float32</th><th>int16</th><th>float32</th><th>float32</th><th>float32</th><th>float32</th><th>float32</th><th>float32</th><th>float32</th><th>float32</th><th>float32</th><th>float32</th><th>float32</th><th>float64</th><th>float64</th><th>uint8</th><th>float32</th><th>float32</th><th>float32</th><th>float32</th><th>float32</th><th>float32</th><th>float32</th><th>float32</th><th>float32</th><th>float32</th><th>float32</th><th>float32</th><th>float32</th><th>float32</th><th>float32</th><th>float32</th><th>float32</th><th>float32</th><th>float32</th><th>float32</th><th>float32</th><th>int32</th><th>int32</th><th>int32</th><th>str8</th><th>float32</th><th>float32</th><th>float32</th><th>float32</th><th>float32</th><th>int32</th><th>int16</th><th>int32</th><th>float64</th><th>float64</th><th>float32</th><th>str6</th><th>str27</th><th>str8</th><th>int32</th><th>float64</th><th>float64</th><th>float32</th><th>float32</th><th>float32</th><th>float32</th><th>float32</th><th>float32</th><th>float32</th><th>float32</th><th>float32</th><th>float32</th><th>float32</th><th>float32</th><th>float32</th><th>float32</th><th>float32</th><th>float32</th><th>float32</th><th>int16</th><th>float32</th><th>float32</th><th>float32</th><th>float32</th><th>float32</th><th>float32</th><th>float32</th><th>float32</th><th>float32</th><th>float32</th><th>uint8</th><th>bool</th><th>float32</th><th>float32</th><th>float32</th><th>int64</th></tr></thead>\n",
       "<tr><td></td><td></td><td>0.0</td><td>0.0</td><td>0.0</td><td>0.0</td><td>0.0</td><td>0.0</td><td>0.0</td><td>0.0</td><td>0.0</td><td>0.0</td><td></td><td></td><td></td><td></td><td></td><td>0.0</td><td>0.0</td><td>0.0</td><td>0.0</td><td>0.0</td><td>0.0</td><td>0.0</td><td>0.0</td><td>0.0</td><td>0.0</td><td>0.0</td><td>0.0</td><td>0.0</td><td>0.0</td><td>0.0</td><td>0.0</td><td></td><td>0.0</td><td>0.0</td><td>0.0</td><td>0.0</td><td>0.0</td><td>0.0</td><td>0.0</td><td>0.0</td><td>0.0</td><td>0.0</td><td>739030</td><td>N</td><td>141.893341</td><td>18.445555</td><td>0.19</td><td>0.12</td><td>17.1</td><td>0</td><td>159</td><td>N/A</td><td>420</td><td>1438</td><td>36</td><td>0</td><td>0</td><td>-98</td><td>N/A</td><td>0.0</td><td>0.0</td><td>0</td><td>0</td><td>0</td><td>N/A</td><td>0</td><td>0</td><td>0</td><td>0</td><td>0.0</td><td>0</td><td>0</td><td>0</td><td>0</td><td>0</td><td>8</td><td>0</td><td>0</td><td>0</td><td>0</td><td>1438</td><td>141.893341</td><td>18.445555</td><td>False</td><td>True</td><td>141.89334</td><td>18.445555</td><td>1438.0</td><td></td><td></td><td>0.0</td><td>0.0</td><td>0</td><td>0</td><td>0</td><td>0</td><td>0</td><td>0</td><td>0.0</td><td>0.0</td><td></td><td>0.0</td><td>0</td><td>0</td><td>0</td><td></td><td>0.0</td><td>0.0</td><td>0</td><td>0.0</td><td>0.0 .. 0.0</td><td>0.0 .. 0.0</td><td>0</td><td>0.0 .. 0.0</td><td>0.0 .. 0.0</td><td>0.0 .. 0.0</td><td>0.0 .. 0.0</td><td>0.0 .. 0.0</td><td>0.0 .. 0.0</td><td>0.0 .. 0.0</td><td>0.0</td><td>0.0</td><td>0.0</td><td>0.0</td><td>0.0</td><td>0.0</td><td>0 .. 0</td><td>0.0 .. 0.0</td><td>0.0 .. 0.0</td><td>0.0 .. 0.0</td><td>0.0 .. 0.0</td><td>0.0 .. 0.0</td><td>0.0 .. 0.0</td><td>0.0 .. 0.0</td><td>0.0 .. 0.0</td><td>0.0 .. 0.0</td><td>0.0 .. 0.0</td><td>0.0</td><td>0.0</td><td>0.0</td><td>0.0</td><td>0.0 .. 0.0</td><td>0.0 .. 0.0</td><td>0.0</td><td>0.0</td><td>0.0</td><td>0.0 .. 0.0</td><td>0.0 .. 0.0</td><td>0 .. 0</td><td>0</td><td>0</td><td></td><td>0.0 .. 0.0</td><td>0.0</td><td>0.0</td><td>0.0</td><td>0.0</td><td>0</td><td>0</td><td>0</td><td>0.0</td><td>0.0</td><td>0.0</td><td></td><td></td><td></td><td>0</td><td>0.0</td><td>0.0</td><td>0.0</td><td>0.0</td><td>0.0</td><td>0.0</td><td>0.0</td><td>0.0</td><td>0.0</td><td>0.0</td><td>0.0 .. 0.0</td><td>0.0 .. 0.0</td><td>0.0 .. 0.0</td><td>0.0 .. 0.0</td><td>0.0</td><td>0.0 .. 0.0</td><td>0.0 .. 0.0</td><td>0.0 .. 0.0</td><td>0.0 .. 0.0</td><td>0</td><td>0.0 .. 0.0</td><td>0.0 .. 0.0</td><td>0.0 .. 0.0</td><td>0.0 .. 0.0</td><td>0.0 .. 0.0</td><td>0.0</td><td>0.0 .. 0.0</td><td>0.0</td><td>0.0</td><td>0.0</td><td>0</td><td>False</td><td>141.89334</td><td>18.445555</td><td>1438.0</td><td>9331</td></tr>\n",
       "</table>"
      ],
      "text/plain": [
       "<Row index=9331>\n",
       "objname objtype  de2000  al2000    v      e_v    vopt_1  e_vopt   vrad   e_vrad    bt     e_bt  type bar  ring multiple compactness    t      e_t    logd25 e_logd25  logr25 e_logr25    pa     incl   logdc    btc     itc     ubtc    bvtc    m21c    hic     mabs  agnclass    kt     e_kt     it     e_it     ut      vt     mfir    e_ut    e_vt   RAdeg  AGCnr  which   radeg      decdeg     a       b      zmag  inccode posang description bsteintype vopt_2  verr extrc3 extdirbe vsource ngcic  hiflux   rms    v21  width widtherr widthcode telcode detcode hisource statuscode   snr   ibandqual ibandsrc irasflag icluster hidata iposition ipalomar rc3flag irotcat newstuff vhelagc    RA_1      DEC_1   HLflag AGCflag RA-HL-AGC DEC-HL-AGC HL-AGC-VEL IAUNAME SUBDIR   RA_2   DEC_2  ISDSS  INED ISIXDF IALFALFA IZCAT ITWODF   MAG      Z    ZSRC   SIZE   RUN  CAMCOL FIELD RERUN   XPOS    YPOS  NSAID  ZDIST  SERSIC_NMGY [7] SERSIC_NMGY_IVAR [7] SERSIC_OK SERSIC_RNMGY [7] SERSIC_ABSMAG [7] SERSIC_AMIVAR [7] EXTINCTION [7] SERSIC_KCORRECT [7] SERSIC_KCOEFF [5] SERSIC_MTOL [7] SERSIC_B300 SERSIC_B1000 SERSIC_METS SERSIC_MASS   XCEN    YCEN  NPROF [7] PROFMEAN [15,7] PROFMEAN_IVAR [15,7] QSTOKES [15,7] USTOKES [15,7] BASTOKES [15,7] PHISTOKES [15,7] PETRO_FLUX [7] PETRO_FLUX_IVAR [7] FIBER_FLUX [7] FIBER_FLUX_IVAR [7] PETRO_BA50 PETRO_PHI50 PETRO_BA90 PETRO_PHI90 SERSIC_FLUX [7] SERSIC_FLUX_IVAR [7] SERSIC_N SERSIC_BA SERSIC_PHI ASYMMETRY [7] CLUMPY [7] DFLAGS [7]  AID   PID  DVERSION PROFTHETA [15] PETRO_THETA PETRO_TH50 PETRO_TH90 SERSIC_TH50 PLATE FIBERID  MJD   RACAT   DECCAT ZSDSSLINE SURVEY PROGRAMNAME PLATEQUALITY  TILE PLUG_RA PLUG_DEC ELPETRO_BA ELPETRO_PHI ELPETRO_FLUX_R ELPETRO_FLUX_IVAR_R ELPETRO_THETA_R ELPETRO_TH50_R ELPETRO_TH90_R ELPETRO_THETA ELPETRO_FLUX [7] ELPETRO_FLUX_IVAR [7] ELPETRO_TH50 [7] ELPETRO_TH90 [7] ELPETRO_APCORR_R ELPETRO_APCORR [7] ELPETRO_APCORR_SELF [7] ELPETRO_NMGY [7] ELPETRO_NMGY_IVAR [7] ELPETRO_OK ELPETRO_RNMGY [7] ELPETRO_ABSMAG [7] ELPETRO_AMIVAR [7] ELPETRO_KCORRECT [7] ELPETRO_KCOEFF [5] ELPETRO_MASS ELPETRO_MTOL [7] ELPETRO_B300 ELPETRO_B1000 ELPETRO_METS IN_DR7_LSS NSAflag RA-COMBINED DEC-COMBINED HL-AGC-NSA-VEL galnumber\n",
       " str28    str1  float64 float64 float64 float64 float64 float64 float64 float64 float64 float64 str4 str1 str1   str1       str1    float64 float64 float64 float64  float64 float64  float64 float64 float64 float64 float64 float64 float64 float64 float64 float64   str4   float64 float64 float64 float64 float64 float64 float64 float64 float64 float64 int64   str1  float64    float64  float64 float64 float64  int64  int64      str8      int64    int64  int64 int64   int64    int64   str8 float64 float64 int64 int64  int64      str4     str1   int64   int64     int64    float64   int64    int64    int64    int64   int64    int64    int64    int64   int64   int64    int64   float64    float64   bool    bool   float32   float32    float32    str19  str27  float64 float64 int32 int32 int32   int32   int32 int32  float32 float32 str7 float32 int16 uint8  int16  str3 float32 float32 int32 float32     float32           float32          int16       float32           float32           float32         float32           float32            float32          float32       float32     float32      float32     float32   float64 float64   uint8       float32           float32           float32        float32         float32         float32         float32           float32          float32           float32        float32     float32    float32     float32       float32           float32        float32   float32   float32      float32     float32     int32    int32 int32   str8      float32       float32    float32    float32     float32   int32  int16  int32 float64 float64  float32   str6     str27        str8     int32 float64 float64   float32     float32      float32           float32           float32        float32        float32        float32        float32             float32            float32          float32          float32           float32               float32             float32             float32          int16         float32           float32            float32             float32             float32         float32        float32        float32       float32      float32      uint8      bool    float32     float32       float32       int64  \n",
       "------- ------- ------- ------- ------- ------- ------- ------- ------- ------- ------- ------- ---- ---- ---- -------- ----------- ------- ------- ------- -------- ------- -------- ------- ------- ------- ------- ------- ------- ------- ------- ------- ------- -------- ------- ------- ------- ------- ------- ------- ------- ------- ------- ------- ------ ----- ---------- --------- ------- ------- ------- ------- ------ ----------- ---------- ------ ----- ------ -------- ------- ----- ------- ------- ----- ----- -------- --------- ------- ------- -------- ---------- ------- --------- -------- -------- -------- ------ --------- -------- ------- ------- -------- ------- ---------- --------- ------ ------- --------- ---------- ---------- ------- ------ ------- ------- ----- ----- ------ -------- ----- ------ ------- ------- ---- ------- ----- ------ ----- ----- ------- ------- ----- ------- --------------- -------------------- --------- ---------------- ----------------- ----------------- -------------- ------------------- ----------------- --------------- ----------- ------------ ----------- ----------- ------- ------- --------- --------------- -------------------- -------------- -------------- --------------- ---------------- -------------- ------------------- -------------- ------------------- ---------- ----------- ---------- ----------- --------------- -------------------- -------- --------- ---------- ------------- ---------- ---------- ----- ----- -------- -------------- ----------- ---------- ---------- ----------- ----- ------- ----- ------- ------- --------- ------ ----------- ------------ ----- ------- -------- ---------- ----------- -------------- ------------------- --------------- -------------- -------------- ------------- ---------------- --------------------- ---------------- ---------------- ---------------- ------------------ ----------------------- ---------------- --------------------- ---------- ----------------- ------------------ ------------------ -------------------- ------------------ ------------ ---------------- ------------ ------------- ------------ ---------- ------- ----------- ------------ -------------- ---------\n",
       "                    0.0     0.0     0.0     0.0     0.0     0.0     0.0     0.0     0.0     0.0                                         0.0     0.0     0.0      0.0     0.0      0.0     0.0     0.0     0.0     0.0     0.0     0.0     0.0     0.0     0.0     0.0              0.0     0.0     0.0     0.0     0.0     0.0     0.0     0.0     0.0     0.0 739030     N 141.893341 18.445555    0.19    0.12    17.1       0    159         N/A        420   1438    36      0        0     -98   N/A     0.0     0.0     0     0        0       N/A       0       0        0          0     0.0         0        0        0        0      0         8        0       0       0        0    1438 141.893341 18.445555  False    True 141.89334  18.445555     1438.0                    0.0     0.0     0     0      0        0     0      0     0.0     0.0          0.0     0      0     0           0.0     0.0     0     0.0      0.0 .. 0.0           0.0 .. 0.0         0       0.0 .. 0.0        0.0 .. 0.0        0.0 .. 0.0     0.0 .. 0.0          0.0 .. 0.0        0.0 .. 0.0      0.0 .. 0.0         0.0          0.0         0.0         0.0     0.0     0.0    0 .. 0      0.0 .. 0.0           0.0 .. 0.0     0.0 .. 0.0     0.0 .. 0.0      0.0 .. 0.0       0.0 .. 0.0     0.0 .. 0.0          0.0 .. 0.0     0.0 .. 0.0          0.0 .. 0.0        0.0         0.0        0.0         0.0      0.0 .. 0.0           0.0 .. 0.0      0.0       0.0        0.0    0.0 .. 0.0 0.0 .. 0.0     0 .. 0     0     0              0.0 .. 0.0         0.0        0.0        0.0         0.0     0       0     0     0.0     0.0       0.0                                     0     0.0      0.0        0.0         0.0            0.0                 0.0             0.0            0.0            0.0           0.0       0.0 .. 0.0            0.0 .. 0.0       0.0 .. 0.0       0.0 .. 0.0              0.0         0.0 .. 0.0              0.0 .. 0.0       0.0 .. 0.0            0.0 .. 0.0          0        0.0 .. 0.0         0.0 .. 0.0         0.0 .. 0.0           0.0 .. 0.0         0.0 .. 0.0          0.0       0.0 .. 0.0          0.0           0.0          0.0          0   False   141.89334    18.445555         1438.0      9331"
      ]
     },
     "execution_count": 223,
     "metadata": {},
     "output_type": "execute_result"
    }
   ],
   "source": [
    "c.kitchen[9331]"
   ]
  },
  {
   "cell_type": "markdown",
   "metadata": {},
   "source": [
    "# Fixing 8822 # "
   ]
  },
  {
   "cell_type": "code",
   "execution_count": 225,
   "metadata": {},
   "outputs": [
    {
     "name": "stdout",
     "output_type": "stream",
     "text": [
      "Welcome!\n",
      "\n",
      "To build catalogs, try: \n",
      "\n",
      " \t s=sample()\n",
      " \t s.get_smart() \n",
      " \n",
      " OR\n",
      "\t s.run_it()\n",
      "\n",
      "\n",
      "To read table and plot images, try: \n",
      "\n",
      " \t t=fulltable()\n",
      " \t t.agc_only() )\n",
      "LENGTH GALIDS_IN_FOV =  9999\n"
     ]
    },
    {
     "data": {
      "text/plain": [
       "<Figure size 432x288 with 0 Axes>"
      ]
     },
     "metadata": {},
     "output_type": "display_data"
    }
   ],
   "source": [
    "os.chdir('/home/rfinn/research/Virgo/supersample/')\n",
    "%run ~/github/Virgo/programs/mksupersample.py\n",
    "t = fulltable()"
   ]
  },
  {
   "cell_type": "code",
   "execution_count": 226,
   "metadata": {},
   "outputs": [
    {
     "name": "stdout",
     "output_type": "stream",
     "text": [
      "cutout image size is  60\n",
      "8822 :  [8822]\n"
     ]
    },
    {
     "data": {
      "image/png": "[encoded data removed]",
      "text/plain": [
       "<Figure size 288x288 with 1 Axes>"
      ]
     },
     "metadata": {
      "needs_background": "light"
     },
     "output_type": "display_data"
    }
   ],
   "source": [
    "ids = [8822]\n",
    "for i in ids:\n",
    "    a = t.one_gal(i,imsize=60,dssflag=False)\n",
    "    print(i,': ',a)"
   ]
  },
  {
   "cell_type": "markdown",
   "metadata": {},
   "source": [
    "The blue source is the CO target, but the intention was for the 8822."
   ]
  },
  {
   "cell_type": "code",
   "execution_count": 228,
   "metadata": {},
   "outputs": [
    {
     "data": {
      "text/plain": [
       "'UGC08656'"
      ]
     },
     "execution_count": 228,
     "metadata": {},
     "output_type": "execute_result"
    }
   ],
   "source": [
    "t.t['objname'][8822]"
   ]
  },
  {
   "cell_type": "markdown",
   "metadata": {},
   "source": [
    "so this source is ok.  We need to add the blue source in the catalog.\n",
    "\n",
    "The blue galaxy is UGC8656 NOTES01"
   ]
  },
  {
   "cell_type": "code",
   "execution_count": 229,
   "metadata": {},
   "outputs": [],
   "source": [
    "test = np.zeros_like(t.t[0])"
   ]
  },
  {
   "cell_type": "code",
   "execution_count": 233,
   "metadata": {},
   "outputs": [
    {
     "ename": "AttributeError",
     "evalue": "'numpy.ndarray' object has no attribute 'columns'",
     "output_type": "error",
     "traceback": [
      "\u001b[0;31m---------------------------------------------------------------------------\u001b[0m",
      "\u001b[0;31mAttributeError\u001b[0m                            Traceback (most recent call last)",
      "\u001b[0;32m<ipython-input-233-12cc77a71e45>\u001b[0m in \u001b[0;36m<module>\u001b[0;34m\u001b[0m\n\u001b[0;32m----> 1\u001b[0;31m \u001b[0mtest\u001b[0m\u001b[0;34m.\u001b[0m\u001b[0mcolumns\u001b[0m\u001b[0;34m\u001b[0m\u001b[0;34m\u001b[0m\u001b[0m\n\u001b[0m",
      "\u001b[0;31mAttributeError\u001b[0m: 'numpy.ndarray' object has no attribute 'columns'"
     ]
    }
   ],
   "source": [
    "test.columns"
   ]
  },
  {
   "cell_type": "code",
   "execution_count": 234,
   "metadata": {},
   "outputs": [
    {
     "ename": "AttributeError",
     "evalue": "recarray has no attribute colnames",
     "output_type": "error",
     "traceback": [
      "\u001b[0;31m---------------------------------------------------------------------------\u001b[0m",
      "\u001b[0;31mKeyError\u001b[0m                                  Traceback (most recent call last)",
      "\u001b[0;32m~/anaconda3/lib/python3.7/site-packages/numpy/core/records.py\u001b[0m in \u001b[0;36m__getattribute__\u001b[0;34m(self, attr)\u001b[0m\n\u001b[1;32m    463\u001b[0m         \u001b[0;32mtry\u001b[0m\u001b[0;34m:\u001b[0m\u001b[0;34m\u001b[0m\u001b[0;34m\u001b[0m\u001b[0m\n\u001b[0;32m--> 464\u001b[0;31m             \u001b[0mres\u001b[0m \u001b[0;34m=\u001b[0m \u001b[0mfielddict\u001b[0m\u001b[0;34m[\u001b[0m\u001b[0mattr\u001b[0m\u001b[0;34m]\u001b[0m\u001b[0;34m[\u001b[0m\u001b[0;34m:\u001b[0m\u001b[0;36m2\u001b[0m\u001b[0;34m]\u001b[0m\u001b[0;34m\u001b[0m\u001b[0;34m\u001b[0m\u001b[0m\n\u001b[0m\u001b[1;32m    465\u001b[0m         \u001b[0;32mexcept\u001b[0m \u001b[0;34m(\u001b[0m\u001b[0mTypeError\u001b[0m\u001b[0;34m,\u001b[0m \u001b[0mKeyError\u001b[0m\u001b[0;34m)\u001b[0m\u001b[0;34m:\u001b[0m\u001b[0;34m\u001b[0m\u001b[0;34m\u001b[0m\u001b[0m\n",
      "\u001b[0;31mKeyError\u001b[0m: 'colnames'",
      "\nDuring handling of the above exception, another exception occurred:\n",
      "\u001b[0;31mAttributeError\u001b[0m                            Traceback (most recent call last)",
      "\u001b[0;32m<ipython-input-234-25950c9a1b38>\u001b[0m in \u001b[0;36m<module>\u001b[0;34m\u001b[0m\n\u001b[0;32m----> 1\u001b[0;31m \u001b[0mt\u001b[0m\u001b[0;34m.\u001b[0m\u001b[0mt\u001b[0m\u001b[0;34m.\u001b[0m\u001b[0mcolnames\u001b[0m\u001b[0;34m\u001b[0m\u001b[0;34m\u001b[0m\u001b[0m\n\u001b[0m",
      "\u001b[0;32m~/anaconda3/lib/python3.7/site-packages/numpy/core/records.py\u001b[0m in \u001b[0;36m__getattribute__\u001b[0;34m(self, attr)\u001b[0m\n\u001b[1;32m    464\u001b[0m             \u001b[0mres\u001b[0m \u001b[0;34m=\u001b[0m \u001b[0mfielddict\u001b[0m\u001b[0;34m[\u001b[0m\u001b[0mattr\u001b[0m\u001b[0;34m]\u001b[0m\u001b[0;34m[\u001b[0m\u001b[0;34m:\u001b[0m\u001b[0;36m2\u001b[0m\u001b[0;34m]\u001b[0m\u001b[0;34m\u001b[0m\u001b[0;34m\u001b[0m\u001b[0m\n\u001b[1;32m    465\u001b[0m         \u001b[0;32mexcept\u001b[0m \u001b[0;34m(\u001b[0m\u001b[0mTypeError\u001b[0m\u001b[0;34m,\u001b[0m \u001b[0mKeyError\u001b[0m\u001b[0;34m)\u001b[0m\u001b[0;34m:\u001b[0m\u001b[0;34m\u001b[0m\u001b[0;34m\u001b[0m\u001b[0m\n\u001b[0;32m--> 466\u001b[0;31m             \u001b[0;32mraise\u001b[0m \u001b[0mAttributeError\u001b[0m\u001b[0;34m(\u001b[0m\u001b[0;34m\"recarray has no attribute %s\"\u001b[0m \u001b[0;34m%\u001b[0m \u001b[0mattr\u001b[0m\u001b[0;34m)\u001b[0m\u001b[0;34m\u001b[0m\u001b[0;34m\u001b[0m\u001b[0m\n\u001b[0m\u001b[1;32m    467\u001b[0m         \u001b[0mobj\u001b[0m \u001b[0;34m=\u001b[0m \u001b[0mself\u001b[0m\u001b[0;34m.\u001b[0m\u001b[0mgetfield\u001b[0m\u001b[0;34m(\u001b[0m\u001b[0;34m*\u001b[0m\u001b[0mres\u001b[0m\u001b[0;34m)\u001b[0m\u001b[0;34m\u001b[0m\u001b[0;34m\u001b[0m\u001b[0m\n\u001b[1;32m    468\u001b[0m \u001b[0;34m\u001b[0m\u001b[0m\n",
      "\u001b[0;31mAttributeError\u001b[0m: recarray has no attribute colnames"
     ]
    }
   ],
   "source": [
    "t.t.colnames"
   ]
  },
  {
   "cell_type": "code",
   "execution_count": null,
   "metadata": {},
   "outputs": [],
   "source": []
  }
 ],
 "metadata": {
  "kernelspec": {
   "display_name": "Python 3",
   "language": "python",
   "name": "python3"
  },
  "language_info": {
   "codemirror_mode": {
    "name": "ipython",
    "version": 3
   },
   "file_extension": ".py",
   "mimetype": "text/x-python",
   "name": "python",
   "nbconvert_exporter": "python",
   "pygments_lexer": "ipython3",
   "version": "3.7.4"
  }
 },
 "nbformat": 4,
 "nbformat_minor": 2
}
