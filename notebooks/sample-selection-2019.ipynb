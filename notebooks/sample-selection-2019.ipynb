{
 "cells": [
  {
   "cell_type": "markdown",
   "metadata": {},
   "source": [
    "# Selecting Master Sample for Virgo Filament Survey #\n",
    "\n",
    "### Post ISSI 2019 ###\n",
    "\n",
    "- Gianluca has made a master sample from Hyperleda\n",
    "- In Bern, we were trying to reproduce the steps he took to:\n",
    "    - cross-match with NSA, and \n",
    "    - remove spurious detections\n",
    "- Gianluca matched according to NED name.\n",
    "- RF is going to do the same thing but matching according to RA and DEC."
   ]
  },
  {
   "cell_type": "markdown",
   "metadata": {},
   "source": []
  }
 ],
 "metadata": {
  "kernelspec": {
   "display_name": "Python 3",
   "language": "python",
   "name": "python3"
  },
  "language_info": {
   "codemirror_mode": {
    "name": "ipython",
    "version": 3
   },
   "file_extension": ".py",
   "mimetype": "text/x-python",
   "name": "python",
   "nbconvert_exporter": "python",
   "pygments_lexer": "ipython3",
   "version": "3.7.3"
  }
 },
 "nbformat": 4,
 "nbformat_minor": 2
}
