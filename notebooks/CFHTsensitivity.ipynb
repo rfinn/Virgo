{
 "cells": [
  {
   "cell_type": "markdown",
   "metadata": {},
   "source": [
    "Need to estimate the exposure times for H$\\alpha$ observations of Virgo filament.\n",
    "\n",
    "Websites with techical information about Megacam\n",
    "\n",
    "* http://cfht.hawaii.edu/Instruments/\n",
    "* http://cfht.hawaii.edu/Instruments/Filters/\n",
    "* http://cfht.hawaii.edu/Instruments/Filters/curves/9603.png\n",
    "* http://cfht.hawaii.edu/Instruments/Filters/megaprime.html"
   ]
  },
  {
   "cell_type": "code",
   "execution_count": 14,
   "metadata": {
    "collapsed": false
   },
   "outputs": [],
   "source": [
    "import numpy as np\n",
    "from matplotlib import pyplot as plt\n",
    "%matplotlib inline\n",
    "from astropy.io import fits\n",
    "import sys\n",
    "sys.path.append('/Users/rfinn/Dropbox/pythonCode')\n",
    "import chary_elbaz_24um as chary"
   ]
  },
  {
   "cell_type": "markdown",
   "metadata": {},
   "source": [
    "## CFHT H$\\alpha$ Filters"
   ]
  },
  {
   "cell_type": "code",
   "execution_count": 36,
   "metadata": {
    "collapsed": false
   },
   "outputs": [
    {
     "name": "stdout",
     "output_type": "stream",
     "text": [
      "[ 6615.504  6628.63 ]\n"
     ]
    },
    {
     "data": {
      "text/plain": [
       "array([ 1279.91442871,  7130.88525391], dtype=float32)"
      ]
     },
     "execution_count": 36,
     "metadata": {},
     "output_type": "execute_result"
    }
   ],
   "source": [
    "wave = np.array([6591, 6719],'f')\n",
    "vr=np.array([2400.,3000.]) # recession velocity of filament\n",
    "z=vr/3.e5\n",
    "wave_rest=6563.\n",
    "wave_obs=wave_rest*(z+1)\n",
    "print wave_obs\n",
    "(wave/wave_rest -1)*3.e5"
   ]
  },
  {
   "cell_type": "code",
   "execution_count": 38,
   "metadata": {
    "collapsed": false
   },
   "outputs": [
    {
     "data": {
      "image/png": "[encoded data removed]",
      "text/plain": [
       "<matplotlib.figure.Figure at 0x10b8369d0>"
      ]
     },
     "metadata": {},
     "output_type": "display_data"
    }
   ],
   "source": [
    "t=np.loadtxt('cfh9603.dat',delimiter=',')\n",
    "fig=plt.figure(figsize=(6,6))\n",
    "plt.subplots_adjust(bottom=.15,left=.15)\n",
    "plt.plot(t[:,0],t[:,1],'k',label=r'$9603 \\ Filter$')\n",
    "x1=wave_rest/10.*(1+z[0])\n",
    "x2=wave_rest/10.*(1+z[1])\n",
    "#rect= plt.Rectangle((x1,0), (x2-x1), 100, color='.5',alpha=.5,label=r'$Observed \\ H\\alpha$')\n",
    "#fig.gca().add_artist(rect)\n",
    "plt.bar(x1,100,(x2-x1),color='b',label=r'$Observed \\ H\\alpha$')\n",
    "#plt.axvline(x=wave_rest/10.*(1+z[0]),color='0.5',label=r'$Observed \\ H\\alpha$')\n",
    "plt.legend(loc='upper left')\n",
    "\n",
    "#plt.axvline(x=wave_rest/10.*(1+z[0]),color='b',)\n",
    "#plt.axvline(x=wave_rest/10.*(1+z[1]),color='r')\n",
    "plt.xlabel('$Wavelength \\ (nm) $',fontsize=20)\n",
    "plt.ylabel('$Transmission \\ (\\%) $',fontsize=20)\n",
    "plt.savefig('FilterTransmission.eps')"
   ]
  },
  {
   "cell_type": "markdown",
   "metadata": {},
   "source": [
    "## Comparison with 0.9-m Exposure Times"
   ]
  },
  {
   "cell_type": "code",
   "execution_count": 3,
   "metadata": {
    "collapsed": false
   },
   "outputs": [
    {
     "name": "stdout",
     "output_type": "stream",
     "text": [
      "6.61224489796\n"
     ]
    }
   ],
   "source": [
    "tHa_09m = 100. # min\n",
    "tHa_CFHT = (.9/3.5)**2*tHa_09m\n",
    "print tHa_CFHT"
   ]
  },
  {
   "cell_type": "markdown",
   "metadata": {},
   "source": [
    "## Observing Times"
   ]
  },
  {
   "cell_type": "code",
   "execution_count": 72,
   "metadata": {
    "collapsed": false
   },
   "outputs": [
    {
     "name": "stdout",
     "output_type": "stream",
     "text": [
      "total on-source integration =  17.0\n",
      "total hours =  20.4\n",
      "estimate 2 =  20.1166666667\n"
     ]
    }
   ],
   "source": [
    "t_Ha = 15.\n",
    "n_Ha = 3\n",
    "t_r = t_Ha/3.\n",
    "n_r = 3.\n",
    "nfields = 17.\n",
    "overhead=1.2\n",
    "t_exp = (t_Ha*n_Ha + t_r*n_r)*nfields/60.\n",
    "# estimating overhead\n",
    "# 40 sec per exposure\n",
    "# 1 min between dithers\n",
    "# 5 min to acquire each pointings\n",
    "overhead2 = (40./60*(n_Ha + n_r)*nfields + 1.*(n_Ha-1)*nfields + 5.*nfields)/60.\n",
    "total=t_exp*overhead\n",
    "print 'total on-source integration = ',t_exp\n",
    "print 'total hours = ',total\n",
    "print 'estimate 2 = ',t_exp + overhead2"
   ]
  },
  {
   "cell_type": "markdown",
   "metadata": {},
   "source": [
    "## Estimate SFRs from 22um Fluxes"
   ]
  },
  {
   "cell_type": "markdown",
   "metadata": {},
   "source": [
    "* Use a conversion from WISE Mag 4 to flux (not sure where I got this)\n",
    "    * uses Eqn 2 and Table 1 from http://wise2.ipac.caltech.edu/docs/release/allsky/expsup/sec4_4h.html\n",
    "    * assumes $f_c = 1$, which is a reasonable average of the spectral shapes listed in Table 2.\n",
    "\n",
    "$$ fw4=8.363\\times 10^{(- W4MAG3/2.5)} \\times 10^6 $$\n",
    "\n",
    "* convert flux to SFR using Chary & Elbaz code\n",
    "\n",
    "* convert SFR to H-alpha line flux using kennicutt conversion\n",
    "    * https://ned.ipac.caltech.edu/level5/Sept01/Rosa/Rosa3.html\n",
    "\n",
    "$$ SFR(H\\alpha) \\ (M_\\odot/yr) = 7.9 \\times 10^{-42} L(H\\alpha) \\ (ergs/s) $$\n",
    "\n",
    "\n"
   ]
  },
  {
   "cell_type": "code",
   "execution_count": 3,
   "metadata": {
    "collapsed": false
   },
   "outputs": [],
   "source": [
    "nsafile='/Users/rfinn/research/NSA/nsa_v0_1_2.fits'\n",
    "nsa=fits.getdata(nsafile)\n",
    "# read in WISE catalog\n",
    "wisefile='/Users/rfinn/research/NSA/nsa_v0_1_2_wise.fits'\n",
    "wise=fits.getdata(wisefile)\n",
    "# read in John's stellar masses\n",
    "massfile='/Users/rfinn/research/NSA/nsa_v1_2_fsps_v2.4_miles_chab_charlot_sfhgrid01.fits'\n",
    "jmass=fits.getdata(massfile)\n"
   ]
  },
  {
   "cell_type": "code",
   "execution_count": 99,
   "metadata": {
    "collapsed": false
   },
   "outputs": [
    {
     "data": {
      "text/plain": [
       "<matplotlib.text.Text at 0x144b33650>"
      ]
     },
     "execution_count": 99,
     "metadata": {},
     "output_type": "execute_result"
    },
    {
     "data": {
      "image/png": "[encoded data removed]",
      "text/plain": [
       "<matplotlib.figure.Figure at 0x144b5b290>"
      ]
     },
     "metadata": {},
     "output_type": "display_data"
    }
   ],
   "source": [
    "# estimate SFR from WISE 22um fluxes\n",
    "ra_min=192\n",
    "dec_min=17\n",
    "dra=20\n",
    "ddec=32\n",
    "filamentflag = (nsa.RA > ra_min) & (nsa.RA < (ra_min + dra)) & (nsa.DEC > dec_min) & (nsa.DEC < (dec_min + ddec))\n",
    "wiseflag = (wise.W4MPRO > 0.1) & (wise.W4SNR > 2.) \n",
    "mflag = (jmass.MSTAR_50 > 9.) & (jmass.MSTAR_50 < 10.)\n",
    "wflag =  wiseflag & mflag &(nsa.ZDIST*3.e5 > 2200.) & (nsa.ZDIST*3.e5 < 3000.) & filamentflag\n",
    "\n",
    "plt.figure()\n",
    "plt.hist(wise.W4MPRO[wflag])\n",
    "plt.xlabel('W4MPRO')\n",
    "plt.ylabel('Number of Galaxies')"
   ]
  },
  {
   "cell_type": "code",
   "execution_count": 116,
   "metadata": {
    "collapsed": false
   },
   "outputs": [
    {
     "data": {
      "text/plain": [
       "<matplotlib.figure.Figure at 0x1443d5350>"
      ]
     },
     "metadata": {},
     "output_type": "display_data"
    }
   ],
   "source": [
    "plt.figure()\n",
    "z=nsa.ZDIST[wflag]\n",
    "fw4=8.363*10.**(-1.*wise.W4MAG_3[wflag]/2.5)*1.e6 # flux in micro-Jansky\n",
    "w4snr= wise.W4SNR[wflag]\n",
    "Re = nsa.SERSIC_TH50[wflag]\n",
    "ra = nsa.RA[wflag]\n",
    "dec = nsa.DEC[wflag]\n",
    "mstar=jmass.MSTAR_50[wflag]\n",
    "#for i in range(len(z)): print z[i], fw4[i]"
   ]
  },
  {
   "cell_type": "code",
   "execution_count": 117,
   "metadata": {
    "collapsed": false
   },
   "outputs": [
    {
     "name": "stdout",
     "output_type": "stream",
     "text": [
      "0 204.205375551 44.8817559246\n",
      "1 207.188182715 41.7099062661\n",
      "2 207.162504363 43.4122663437\n",
      "3 208.040875484 43.242986229\n",
      "4 208.257912357 39.5808092654\n",
      "5 208.103687132 39.5576150589\n",
      "6 207.85571539 40.2132408466\n",
      "7 200.088739887 41.4761486111\n",
      "8 202.207370365 46.2623842488\n",
      "9 202.041918305 46.6721054109\n",
      "10 202.140264956 46.4999151824\n",
      "11 202.138722612 46.9271746995\n",
      "12 210.350104112 36.8000666865\n",
      "13 209.987963583 38.2009296423\n",
      "14 200.735153556 28.3164212001\n",
      "15 208.145194681 38.705276569\n",
      "16 198.626820438 35.3875042731\n",
      "17 208.771231898 32.9028475617\n",
      "18 196.448233357 27.7342017513\n",
      "19 197.142974242 21.0497139316\n",
      "20 198.174169838 22.8298213652\n",
      "21 209.730455185 21.9884785312\n",
      "22 199.914012647 30.2565890407\n",
      "23 204.06522565 46.2000234052\n",
      "24 205.124032377 42.9927228239\n",
      "25 206.11823762 35.192588702\n",
      "26 208.202017165 37.4909313909\n",
      "27 208.498079533 39.7154857329\n",
      "28 210.198604018 48.4438973483\n",
      "29 194.458824331 29.6545410354\n",
      "30 203.74256655 45.7801038175\n",
      "31 204.602023275 33.1178733429\n",
      "32 206.577724311 43.8513547092\n",
      "33 208.392693919 37.522256077\n",
      "34 208.907712055 26.5493731324\n",
      "35 209.596156371 22.8883927738\n",
      "36 210.105446833 38.5207577066\n"
     ]
    }
   ],
   "source": [
    "for i in range(len(ra)): print i, ra[i], dec[i]"
   ]
  },
  {
   "cell_type": "code",
   "execution_count": 102,
   "metadata": {
    "collapsed": false
   },
   "outputs": [
    {
     "name": "stdout",
     "output_type": "stream",
     "text": [
      "Warning: attempt to extrapolate the 24um luminosity outside the model limits! (flux too low)\n",
      "Warning: attempt to extrapolate the 24um luminosity outside the model limits! (flux too low)\n"
     ]
    }
   ],
   "source": [
    "ceLIR,ceSFR = chary.chary_elbaz_24um(z,fw4) # routine wants flux in uJy"
   ]
  },
  {
   "cell_type": "code",
   "execution_count": 107,
   "metadata": {
    "collapsed": false
   },
   "outputs": [
    {
     "data": {
      "image/png": "[encoded data removed]",
      "text/plain": [
       "<matplotlib.figure.Figure at 0x144b31990>"
      ]
     },
     "metadata": {},
     "output_type": "display_data"
    }
   ],
   "source": [
    "plt.figure()\n",
    "plt.plot(fw4,ceSFR,'bo')\n",
    "plt.xlabel('$22 \\mu m \\ Flux \\ (\\mu Jy) $',fontsize=20)\n",
    "plt.ylabel('$SFR \\ (M_\\odot/yr) $',fontsize=20)\n",
    "plt.gca().set_yscale('log')"
   ]
  },
  {
   "cell_type": "code",
   "execution_count": 122,
   "metadata": {
    "collapsed": false
   },
   "outputs": [],
   "source": [
    "# use Halpha conversion rate to get a line flux from SFR\n",
    "kennconv=7.9e-42#Kenn 98 conversion fro SFR/yr / erg/s \n",
    "vr = 1000. #km/s\n",
    "dL = vr/70. # in Mpc\n",
    "dL = 16.\n",
    "dL_cm = 3.086e24 * dL\n",
    "# convert to erg/s in Halpha line\n",
    "LHa = np.zeros(len(ceSFR),dtype=np.float64)\n",
    "LHa = (ceSFR*(1./kennconv))\n",
    "fHa = LHa/(4*np.pi*dL_cm**2)\n",
    "sbHa = fHa/(4*np.pi*(1.*Re)**2)"
   ]
  },
  {
   "cell_type": "code",
   "execution_count": 126,
   "metadata": {
    "collapsed": false
   },
   "outputs": [
    {
     "data": {
      "image/png": "[encoded data removed]",
      "text/plain": [
       "<matplotlib.figure.Figure at 0x144fbed90>"
      ]
     },
     "metadata": {},
     "output_type": "display_data"
    }
   ],
   "source": [
    "plt.figure()\n",
    "plt.plot(w4snr,sbHa,'bo',label='$CFHT \\ Targets$')\n",
    "plt.gca().set_yscale('log')\n",
    "plt.xlabel('$22 \\mu m \\ SNR$',fontsize=20)\n",
    "plt.ylabel(r'$\\mu (H \\alpha)  \\ (erg \\ cm^{-2} s^{-1} \\ arcsec^{-2} )$',fontsize=20)\n",
    "plt.axhline(y=1.7e-18,label='$1 \\sigma \\ limit $',color='k')\n",
    "plt.axhline(y=3.*1.7e-18,label='$3 \\sigma \\ limit $',color='k',ls='--')\n",
    "plt.axhline(y=1.3e-17,label='$min \\ sb $',color='r',ls='--')\n",
    "plt.legend(numpoints=1,loc='lower right',scatterpoints=1)\n",
    "plt.savefig('HalphaSB.png')"
   ]
  },
  {
   "cell_type": "code",
   "execution_count": 106,
   "metadata": {
    "collapsed": false
   },
   "outputs": [
    {
     "data": {
      "text/plain": [
       "<matplotlib.text.Text at 0x14437ea50>"
      ]
     },
     "execution_count": 106,
     "metadata": {},
     "output_type": "execute_result"
    },
    {
     "data": {
      "image/png": "[encoded data removed]",
      "text/plain": [
       "<matplotlib.figure.Figure at 0x144b3aa50>"
      ]
     },
     "metadata": {},
     "output_type": "display_data"
    }
   ],
   "source": [
    "plt.figure()\n",
    "plt.plot(jmass.MSTAR_50[wflag],1.8*ceSFR,'bo')\n",
    "plt.gca().set_yscale('log')\n",
    "xl=np.arange(8.5,10,.1)\n",
    "# M*=1.e9, SFR=0.25Msol/year\n",
    "yl = 10.**(xl - np.log10(4e9))\n",
    "#yl=1*(xl-np.log10(4.e9))\n",
    "plt.plot(xl,yl,'r-')\n",
    "plt.xlabel('log(M)')"
   ]
  },
  {
   "cell_type": "code",
   "execution_count": 115,
   "metadata": {
    "collapsed": false
   },
   "outputs": [
    {
     "data": {
      "text/plain": [
       "37"
      ]
     },
     "execution_count": 115,
     "metadata": {},
     "output_type": "execute_result"
    }
   ],
   "source": []
  },
  {
   "cell_type": "code",
   "execution_count": null,
   "metadata": {
    "collapsed": false
   },
   "outputs": [],
   "source": []
  }
 ],
 "metadata": {
  "kernelspec": {
   "display_name": "Python 2",
   "language": "python",
   "name": "python2"
  },
  "language_info": {
   "codemirror_mode": {
    "name": "ipython",
    "version": 2
   },
   "file_extension": ".py",
   "mimetype": "text/x-python",
   "name": "python",
   "nbconvert_exporter": "python",
   "pygments_lexer": "ipython2",
   "version": "2.7.11"
  }
 },
 "nbformat": 4,
 "nbformat_minor": 0
}
