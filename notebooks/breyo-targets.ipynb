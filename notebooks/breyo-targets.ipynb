{
 "cells": [
  {
   "cell_type": "code",
   "execution_count": 1,
   "metadata": {},
   "outputs": [],
   "source": [
    "from astropy.table import Table\n",
    "from matplotlib import pyplot as plt\n",
    "import numpy as np"
   ]
  },
  {
   "cell_type": "code",
   "execution_count": 2,
   "metadata": {},
   "outputs": [
    {
     "name": "stderr",
     "output_type": "stream",
     "text": [
      "/home/rfinn/github/Virgo/programs/readtables.py:122: RuntimeWarning: divide by zero encountered in log10\n",
      "  g = 22.5 - 2.5*np.log10(dr9['FLUX_G'])\n",
      "/home/rfinn/github/Virgo/programs/readtables.py:122: RuntimeWarning: invalid value encountered in log10\n",
      "  g = 22.5 - 2.5*np.log10(dr9['FLUX_G'])\n",
      "/home/rfinn/github/Virgo/programs/readtables.py:123: RuntimeWarning: divide by zero encountered in log10\n",
      "  r = 22.5 - 2.5*np.log10(dr9['FLUX_R'])\n",
      "/home/rfinn/github/Virgo/programs/readtables.py:123: RuntimeWarning: invalid value encountered in log10\n",
      "  r = 22.5 - 2.5*np.log10(dr9['FLUX_R'])\n",
      "/home/rfinn/github/Virgo/programs/readtables.py:124: RuntimeWarning: divide by zero encountered in log10\n",
      "  z = 22.5 - 2.5*np.log10(dr9['FLUX_Z'])\n",
      "/home/rfinn/github/Virgo/programs/readtables.py:124: RuntimeWarning: invalid value encountered in log10\n",
      "  z = 22.5 - 2.5*np.log10(dr9['FLUX_Z'])\n",
      "/home/rfinn/github/Virgo/programs/readtables.py:126: RuntimeWarning: invalid value encountered in log10\n",
      "  const = 5*np.log10(d_pc) - 5\n"
     ]
    }
   ],
   "source": [
    "%run ~/github/Virgo/programs/readtables.py"
   ]
  },
  {
   "cell_type": "code",
   "execution_count": 19,
   "metadata": {},
   "outputs": [],
   "source": [
    "RAflag = (v.main['RA'] < 190) & (v.main['RA'] > 180 )\n",
    "DECflag =  (v.main['DEC'] < 60) & (v.main['DEC'] > 20 )\n",
    "radius_flag = v.main['radius'] > 40\n",
    "siena_flag = (v.main['vr']< 1500.) & (v.main['A100flag']) & RAflag & DECflag & radius_flag & v.main['COflag'] & v.fil['filament_member']"
   ]
  },
  {
   "cell_type": "code",
   "execution_count": 20,
   "metadata": {},
   "outputs": [
    {
     "data": {
      "text/plain": [
       "2"
      ]
     },
     "execution_count": 20,
     "metadata": {},
     "output_type": "execute_result"
    }
   ],
   "source": [
    "sum(siena_flag)"
   ]
  },
  {
   "cell_type": "code",
   "execution_count": 21,
   "metadata": {},
   "outputs": [
    {
     "data": {
      "text/html": [
       "<i>Table length=2</i>\n",
       "<table id=\"table139862136641040\" class=\"table-striped table-bordered table-condensed\">\n",
       "<thead><tr><th>VFID</th><th>RA</th><th>DEC</th><th>vr</th><th>radius</th><th>radius_flag</th><th>objname</th><th>NSAID</th><th>NSAIDV0</th><th>AGC</th><th>NEDname</th><th>HLflag</th><th>NSAflag</th><th>NSAV0flag</th><th>A100flag</th><th>COflag</th><th>HAflag</th><th>HAobsflag</th><th>Z0MGSflag</th><th>Steerflag</th><th>unwiseflag</th><th>prefix</th><th>name</th></tr></thead>\n",
       "<thead><tr><th></th><th></th><th></th><th></th><th>arcsec</th><th></th><th></th><th></th><th></th><th></th><th></th><th></th><th></th><th></th><th></th><th></th><th></th><th></th><th></th><th></th><th></th><th></th><th></th></tr></thead>\n",
       "<thead><tr><th>bytes8</th><th>float64</th><th>float64</th><th>float64</th><th>float32</th><th>bool</th><th>bytes28</th><th>int32</th><th>int32</th><th>int64</th><th>bytes30</th><th>bool</th><th>bool</th><th>bool</th><th>bool</th><th>bool</th><th>bool</th><th>bool</th><th>bool</th><th>bool</th><th>bool</th><th>bytes36</th><th>bytes8</th></tr></thead>\n",
       "<tr><td>VFID2883</td><td>188.46306</td><td>30.2775211</td><td>1174.9</td><td>59.995857</td><td>True</td><td>NGC4525</td><td>668581</td><td>162019</td><td>7714</td><td>NGC 4525</td><td>True</td><td>True</td><td>True</td><td>True</td><td>True</td><td>False</td><td>False</td><td>True</td><td>True</td><td>True</td><td>VFID2883-NGC4525</td><td>VFID2883</td></tr>\n",
       "<tr><td>VFID3098</td><td>188.9903415</td><td>27.9596837</td><td>813.6</td><td>317.04526</td><td>True</td><td>NGC4559</td><td>0</td><td>0</td><td>7766</td><td>NGC 4559</td><td>True</td><td>False</td><td>False</td><td>True</td><td>True</td><td>False</td><td>False</td><td>True</td><td>True</td><td>False</td><td>VFID3098-NGC4559</td><td>VFID3098</td></tr>\n",
       "</table>"
      ],
      "text/plain": [
       "<Table length=2>\n",
       "  VFID        RA        DEC        vr   ... unwiseflag      prefix        name  \n",
       "                                        ...                                     \n",
       " bytes8    float64    float64   float64 ...    bool        bytes36       bytes8 \n",
       "-------- ----------- ---------- ------- ... ---------- ---------------- --------\n",
       "VFID2883   188.46306 30.2775211  1174.9 ...       True VFID2883-NGC4525 VFID2883\n",
       "VFID3098 188.9903415 27.9596837   813.6 ...      False VFID3098-NGC4559 VFID3098"
      ]
     },
     "execution_count": 21,
     "metadata": {},
     "output_type": "execute_result"
    }
   ],
   "source": [
    "v.main[siena_flag]"
   ]
  },
  {
   "cell_type": "code",
   "execution_count": 22,
   "metadata": {},
   "outputs": [
    {
     "data": {
      "text/html": [
       "<i>Table length=2</i>\n",
       "<table id=\"table139862088549776\" class=\"table-striped table-bordered table-condensed\">\n",
       "<thead><tr><th>NEDname</th><th>RA</th><th>DEC</th><th>vr</th><th>filament</th><th>filament_member</th><th>COflag</th><th>HAobsflag</th></tr></thead>\n",
       "<thead><tr><th>bytes30</th><th>float64</th><th>float64</th><th>float64</th><th>bytes40</th><th>bool</th><th>bool</th><th>bool</th></tr></thead>\n",
       "<tr><td>NGC 4525</td><td>188.46306</td><td>30.2775211</td><td>1174.9</td><td>Ursa_Major_Cloud</td><td>True</td><td>True</td><td>False</td></tr>\n",
       "<tr><td>NGC 4559</td><td>188.9903415</td><td>27.9596837</td><td>813.6</td><td>Ursa_Major_Cloud</td><td>True</td><td>True</td><td>False</td></tr>\n",
       "</table>"
      ],
      "text/plain": [
       "<Table length=2>\n",
       "NEDname       RA        DEC        vr   ... filament_member COflag HAobsflag\n",
       "bytes30    float64    float64   float64 ...       bool       bool     bool  \n",
       "-------- ----------- ---------- ------- ... --------------- ------ ---------\n",
       "NGC 4525   188.46306 30.2775211  1174.9 ...            True   True     False\n",
       "NGC 4559 188.9903415 27.9596837   813.6 ...            True   True     False"
      ]
     },
     "execution_count": 22,
     "metadata": {},
     "output_type": "execute_result"
    }
   ],
   "source": [
    "t = Table([v.main['NEDname'],v.main['RA'],v.main['DEC'],v.main['vr'],v.fil['filament'],v.fil['filament_member'],v.main['COflag'],v.main['HAobsflag']])\n",
    "t[siena_flag]"
   ]
  },
  {
   "cell_type": "code",
   "execution_count": null,
   "metadata": {},
   "outputs": [],
   "source": []
  }
 ],
 "metadata": {
  "kernelspec": {
   "display_name": "Python 3",
   "language": "python",
   "name": "python3"
  },
  "language_info": {
   "codemirror_mode": {
    "name": "ipython",
    "version": 3
   },
   "file_extension": ".py",
   "mimetype": "text/x-python",
   "name": "python",
   "nbconvert_exporter": "python",
   "pygments_lexer": "ipython3",
   "version": "3.7.4"
  }
 },
 "nbformat": 4,
 "nbformat_minor": 2
}
