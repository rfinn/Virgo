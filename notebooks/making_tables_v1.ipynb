{
 "cells": [
  {
   "cell_type": "markdown",
   "metadata": {},
   "source": [
    "# Version 1 of Tables (Final Final Final Version) - 10/25/2020#\n",
    "\n",
    "major updates include\n",
    "\n",
    "* cleaned sample after cross-matching with JM's siena galaxy atlas\n",
    "  - I matched the VF catalog to SGA using a match radius of 10 arcsec\n",
    "  - 1902 sources did not match\n",
    "    - sources are listed here https://docs.google.com/spreadsheets/d/1l9Ay1NSc7ovFglQCZ3PphaHmXep3LFMcdxCOwrXFHgQ/edit?usp=sharing\n",
    "  - we reviewed each source by eye\n",
    "  - then went back to by_eye classifications to update the codes on any galaxies that should be\n",
    "    - deleted\n",
    "    - recentered\n",
    "    - merged with another galaxy (e.g. alfalfa source with offset coordinates)\n",
    "    \n",
    "  - need to trace back to galnumber in the by-eye spreadsheet\n",
    "  \n",
    "* addition of any sources in Steer catalog with vr < 500 but redshift independent distance > vr/H0\n",
    "  - these will need to have NSA, HL and A100 matches as well :(\n",
    "  - this will require some more thought...\n",
    "  \n",
    "  \n",
    "* remove repeat NED names - this is just a problem with the NED names, not with the actual galaxies"
   ]
  },
  {
   "cell_type": "code",
   "execution_count": null,
   "metadata": {},
   "outputs": [],
   "source": [
    "from astropy.io import fits, ascii\n",
    "from matplotlib import pyplot as plt\n",
    "from astropy.table import Table\n",
    "import os\n",
    "import numpy as np\n",
    "%matplotlib inline"
   ]
  },
  {
   "cell_type": "markdown",
   "metadata": {},
   "source": [
    "\n",
    "## 1.  Comparison with Siena Galaxy Atlas ##\n",
    "\n",
    "**Description:**\n",
    "we have finished reviewing all the galaxies that didn't match to JM's Siena Galaxy Atlas.  The list of matching galaxies is at:\n",
    "https://docs.google.com/spreadsheets/d/1l9Ay1NSc7ovFglQCZ3PphaHmXep3LFMcdxCOwrXFHgQ/edit?usp=sharing\n",
    "\n",
    "**Remedy:**\n",
    "We will update the byeye classification spreadsheet.  The \n",
    "spreadsheet is at\n",
    "\n",
    "https://docs.google.com/spreadsheets/d/1GtvYTBU3tAXI7ngklFWms3WpnGhbzpp3Nn-_VO7sioc/edit?usp=sharing\n",
    "\n",
    "Download as a xlsx file.  Will get saved in ~/Downloads/\n",
    "\n",
    "**Action Items**\n",
    "* need to carry original galnumber from the kitchen_sink through to the vf_clean catalog.\n",
    "* added function add_byeye_galid in clean_kitchen_sink.py to add this column to the cleaned catalog\n",
    "* rerun clean_kitchen_sink.py\n",
    "  * creates vf_clean_sample.fits (9217 lines)\n",
    "* rerun get_NEDname.py\n",
    "  * creates vf_clean_sample_wNEDname.fits (9217 lines)\n",
    "  * previous version had 9214 :(\n",
    "* remove sources that have [KHL2017]S in name - updated byeye spreadsheet accordingly\n",
    "* download updated bye eye spreadsheet and save in research/Virgo/google-tables\n",
    "  * first download latest version of virgo_check_by_eye from google spreadsheet, save as excel file\n",
    "  * move to ~/research/Virgo/google-tables\n",
    "   ```\n",
    "   mv ~/Downloads/virgo_check_sample_by_eye.xlsx virgo_check_sample_by_eye_v1.finished.xlsx\n",
    "   ```\n",
    "  * run this program \n",
    "   ```\n",
    "   python ~/github/Virgo/programs/collate_check_by_eye_results.py\n",
    "   ```\n",
    "  * or from within ipython -pylab\n",
    "```\n",
    "%run ~/github/Virgo/programs/collate_check_by_eye_results.py\n",
    "```\n",
    "* download csv version of updated VF-notin-SGA \n",
    "\n",
    "```\n",
    "mv ~/Downloads/VF-notin-SGA-10arcsecmatch-bestmatch-symmetric\\ -\\ VF-notin-SGA.csv VF-notin-SGA-10arcsecmatch-bestmatch-symmetric.csv\n",
    "\n",
    "```\n",
    "* rerun clean_kitchen_sink.py\n",
    "  * will output v1 of files\n",
    "    * output_catalog = 'vf_clean_sample_v1.fits'\n",
    "    * output_clean = 'clean_sample_v1.fits' # I'm not sure why I have two output files, just a holdover I think\n",
    "    * ipac_table = 'clean_sample_v1.txt'\n",
    "\n",
    "**NOTES**\n",
    "I updated the original classification spreadsheet based on our assessments of the galaxies that don't match JM's catalog.  I need to preserve the kitchen sink catalog b/c this is our last link to the original classification spreadsheet and cutouts.  I am uploading it to the visual classification folder.  This notebook describes how I related VFID in v0 catalogs to the line number in smart_kitchen_sink_v2.fits.  \n",
    "\n",
    "We also noted galaxies that have a radius that was too big or too small.  I am going to incorporate this information into the write_subtables, where we merge different radial size estimates.  Added this to the function get_radius. \n",
    "\n",
    "We updated centers for some galaxies, but JM said not to both b/c his code will figure this out.\n",
    "  \n",
    "  \n",
    "  \n"
   ]
  },
  {
   "cell_type": "markdown",
   "metadata": {},
   "source": [
    "## 1a. Update byeye classifications ##\n",
    "\n",
    "* get galnumber for VFID for galaxies in the https://docs.google.com/spreadsheets/d/1l9Ay1NSc7ovFglQCZ3PphaHmXep3LFMcdxCOwrXFHgQ/edit?usp=sharing\n",
    "* update the by-eye classifications https://docs.google.com/spreadsheets/d/1GtvYTBU3tAXI7ngklFWms3WpnGhbzpp3Nn-_VO7sioc/edit?usp=sharing\n",
    "  * updating sheet on 2020-10-25\n",
    "  \n",
    "* having trouble reading the csv file into python - the headers are getting cutout.  This was b/c I had multiple columns with the same name.  Fixed this and now it loads fine.\n",
    "\n",
    "  \n",
    "### more Details on how I updated the byeye spreadsheet\n",
    "\n",
    "Basically, this involved linking the VFID with the galaxy number in the original spreadsheet\n",
    "\n",
    "* the number in the original spreadsheet is the line number in smart_kitchen_sink.v2.fits\n",
    "* however, when I reran clean_kitchen_sink in Oct 2020, I ended up with 3 extra galaxies (no idea why), and so the VFIDs were different.\n",
    "* figured things out eventually, but I ended up searching for objects by name."
   ]
  },
  {
   "cell_type": "markdown",
   "metadata": {},
   "source": [
    "### This is what worked in Oct 2020"
   ]
  },
  {
   "cell_type": "code",
   "execution_count": null,
   "metadata": {},
   "outputs": [],
   "source": [
    "badgals = Table.read('/home/rfinn/research/Virgo/google-tables/VF-notin-SGA-10arcsecmatch-bestmatch-symmetric.csv',format='ascii')\n",
    "# keep galaxies that we need to get rid of \n",
    "badflag = badgals['keep?'] == 0\n",
    "badgals = badgals[badflag]\n",
    "sink = Table.read('/home/rfinn/research/Virgo/supersample/smart_kitchen_sink_v2.fits')"
   ]
  },
  {
   "cell_type": "code",
   "execution_count": null,
   "metadata": {},
   "outputs": [],
   "source": [
    "# match galaxies according to their name\n",
    "sinkindex = np.arange(len(sink))\n",
    "match_field = ['objname','NSAID','NSAIDV0']\n",
    "sink_field = ['objname','NSAID','NSAID_2']\n",
    "outfile = open('/home/rfinn/research/Virgo/google-tables/byeye-crossmatch-ids.csv','w')\n",
    "for i in range(len(badgals)):\n",
    "    matchflag=False\n",
    "    for j in range(len(match_field)):\n",
    "        gname = badgals[match_field[j]][i]\n",
    "        if (gname != 'N/A'):# & (gname != 0):\n",
    "            gflag = sink[sink_field[j]] == gname\n",
    "            if sum(gflag) == 1:\n",
    "                #print(badgals['VFID'][i],sinkindex[gflag][0])\n",
    "                s = '%s, %i \\n'%(badgals['VFID'][i],sinkindex[gflag][0])\n",
    "                outfile.write(s)\n",
    "                matchflag=True\n",
    "                break\n",
    "            elif sum(gflag) == 2:\n",
    "                print(badgals['VFID'][i],sinkindex[gflag])\n",
    "                s = '%s, %i, %i \\n'%(badgals['VFID'][i],sinkindex[gflag][0],sinkindex[gflag][0])\n",
    "                outfile.write(s)\n",
    "                matchflag=True\n",
    "            elif sum(gflag) > 1:\n",
    "                pass\n",
    "        \n",
    "    if not(matchflag):\n",
    "        #print('HELP!!! no match for',badgals['VFID'][i],gname)\n",
    "        print(badgals['VFID'][i],-999)\n",
    "        outfile.write('%s, %i \\n'%(badgals['VFID'][i],-999))\n",
    "outfile.close()"
   ]
  },
  {
   "cell_type": "markdown",
   "metadata": {},
   "source": [
    "## 2.  BV has found additional galaxies to add from Steer and EVCC ##\n",
    "\n",
    "* galaxies in Steer with vr< 500 but redshift-independent distances that are consistent with our cut\n",
    "* a few from EVCC that are not included (from Kim paper)\n",
    "* these need to be added to the catalog\n",
    "* these additional galaxies include all but one of GL's 245 CO galaxies\n",
    "  * IC 3094 is not included.  It's redshift independent distance corresponds to a vr = 3478 (H0=74), so this shouldn't be in the sample.\n",
    "    - it's in the steer catalog\n",
    "    - vcomic = -237 km/s\n",
    "  * followed up with Gianluca, and this should NOT be included, so we are ok\n",
    "* file is in \n",
    "```\n",
    "research/Virgo/ancil-tables/Steer_EVCC_toadd_fromBV_2020Oct27.fits  \n",
    "```\n",
    "\n",
    "### possible options for implementing\n",
    "\n",
    "* using topcat, match steer catalog to \n",
    "  * HL, agc,NSAv1,NSAv0, a100-sdss-wise to produce a second table with columns that match the clean_kitchen_sink\n",
    "  * stilts - command line version of topcat - could be useful for repeating analysis multiple times\n",
    "\n",
    "* make new version of mksupersample, but use steer catalog as the input instead of HL?\n",
    "\n",
    "* download vr < 500 version of HL catalog, match to catalog of new galaxies (steer + EVCC), then use this as HL catalog in a new version of mksupersample that only matches this catalog to agc, NSAv1, NSAv0\n",
    "  - this catalog could be added in clean_kitchen_sink so that indices of previous sources don't change (for example, when I clean/merge the new a100 sources).  Although maybe this is not the way to go because the \"new\" A100 sources that we find in clean_kitchen_sink might match to one of new sources?\n",
    "  \n",
    "* these galaxies need to be added to the clean_kitchen_sink file\n",
    "  * GL's catalog has HL information\n",
    "  * write a separate program to match to HL, NSAv0, and NSAv1\n",
    "  * a100 matching will happen in clean_kitchen_sink\n",
    "  \n",
    "  \n",
    "### Approach\n",
    "\n",
    "* download new HL catalog, but remove low vr cut\n",
    "\n",
    "```\n",
    " Hyperleda query:  http://leda.univ-lyon1.fr/fullsql.html\n",
    "\n",
    "        parameters described here: http://leda.univ-lyon1.fr/leda/meandata.html\n",
    "\n",
    "        SQL QUERY:\n",
    "        \n",
    "        select\n",
    "        objname,objtype,de2000,al2000,v,e_v,vopt,e_vopt,vrad,e_vrad,bt,e_bt,type,bar,ring,multiple,compactness,t,e_t,logd25,e_logd25,logr25,e_logr25,pa,incl,logdc,btc,itc,ubtc,bvtc,m21c,hic,mabs,agnclass,kt,e_kt,it,e_it,ut,vt,mfir,e_ut,e_vt, modz, e_modz, mod0, e_mod0,vmaxg, e_vmaxg, vmaxs,e_vmaxs,vdis,e_vdis\n",
    "        \n",
    "        where\n",
    "\n",
    "        de2000 > -35 and de2000 < 75 and  al2000 < 280./360.*24.  and al2000 > 100./360.*24. and v < 3300 and objtype='G'\n",
    "\n",
    "        - output as csv, separator is other, ,\n",
    "\n",
    "        delete header lines at beginning and end\n",
    "\n",
    "        2020-10-28: downloaded again but removed the vr > 500 km/s cut.\n",
    "        we are adding galaxies with redshift-independent distances > 500/H0, and \n",
    "        they should be in this updated catalog\n",
    "\n",
    "          - will add this functionality in a separate function\n",
    "\n",
    "```\n",
    "\n",
    "## Matched BV's catalog with HL in topcat.  \n",
    "\n",
    "* Four galaxies don't match\n",
    "\n",
    "|RA | DEC | VH | NOTES |\n",
    "|---|----|-----|-------|\n",
    "| 176.1337 | 6.7041 | 1455.2 | NSA 067042, has a redshift of ~5800 km/ from several sources.  NED says no z-independent distance. AGC 215601 comes up in HL with vr=5700. |\n",
    "|187.8029 | 13.1243 | 1900 | in HL (PGC041416), and they list vr=1900, but they use sdss vr as primary (242316) |\n",
    "| 190.0388 | 6.8837 | 1007 | VCC 1821, PGC 042420.  HL has vr=7300, but it also lists 2 redshifts at 1007km/s |\n",
    "| 195.9078 | 7.904 | 2968 | CGCG 043-122, PGC 045112 and NSA 077423; again HL has vr=13700; sdss redshift is convincing |\n",
    "\n",
    "\n",
    "* Saving file as fits basic, Steer_EVCC_toadd_fromBV_2020Oct27_with_HL.fits, in ~/research/Virgo/ancil-tables\n",
    "\n",
    "* read in table and remove the columns from Benedetta's table so just HL is there.  but first use BV ra, dec and vr if galaxy doesn't match to HL\n",
    "\n",
    "\n"
   ]
  },
  {
   "cell_type": "code",
   "execution_count": null,
   "metadata": {
    "scrolled": true
   },
   "outputs": [],
   "source": [
    "os.chdir('/home/rfinn/research/Virgo/supersample/')\n",
    "%run ~/github/Virgo/programs/clean_kitchen_sink.py\n"
   ]
  },
  {
   "cell_type": "code",
   "execution_count": null,
   "metadata": {},
   "outputs": [],
   "source": [
    "infile = '/home/rfinn/research/Virgo/ancil-tables/Steer_EVCC_toadd_fromBV_2020Oct27_with_HL.fits'\n",
    "tab = Table.read(infile)"
   ]
  },
  {
   "cell_type": "code",
   "execution_count": null,
   "metadata": {},
   "outputs": [],
   "source": [
    "for i in range(len(tab)):\n",
    "    if tab['objname'][i] == '                            ': # no match to HL\n",
    "        ra = tab['RA'][i]/15. # convert ra from deg to hr\n",
    "        dec = tab['DEC'][i]\n",
    "        tab['al2000'][i] = ra\n",
    "        tab['de2000'][i] = dec\n",
    "        tab['v'][i] = tab['VH'][i]\n",
    "        print('fixing values for gal with no HL match')\n",
    "        "
   ]
  },
  {
   "cell_type": "code",
   "execution_count": null,
   "metadata": {},
   "outputs": [],
   "source": [
    "# this only works if you save the sorted table in topcat\n",
    "for i in range(4):\n",
    "    if i == 0:\n",
    "        tab['objname'][i]='AGC215601'\n",
    "    elif i == 1:\n",
    "        tab['objname'][i]='PGC041416'\n",
    "    elif i == 2:\n",
    "        tab['objname'][i]='PGC042420'\n",
    "    elif i == 3:\n",
    "        tab['objname'][i]='PGC045112'"
   ]
  },
  {
   "cell_type": "code",
   "execution_count": null,
   "metadata": {},
   "outputs": [],
   "source": [
    "# remove column\n",
    "col_names = tab.colnames[0:10]\n",
    "print(col_names)\n",
    "tab.remove_columns(col_names)\n",
    "# save file as a short HL table\n",
    "outfile = '/home/rfinn/research/Virgo/ancil-tables/Steer_EVCC_toadd_HL_cols.fits'\n",
    "tab.write(outfile,format='fits',overwrite=True)"
   ]
  },
  {
   "cell_type": "markdown",
   "metadata": {},
   "source": [
    "### updated mksupersample\n",
    "\n",
    "it now has --version and --evcc flags\n",
    "\n",
    "* set evcc to read in the file we just wrote, and create an independent smart_kitchen_sink_v2_v1_evcc.fits\n",
    "* version is v1 by default, until we move on to v2 tables\n",
    "\n"
   ]
  },
  {
   "cell_type": "code",
   "execution_count": null,
   "metadata": {},
   "outputs": [],
   "source": [
    "os.chdir('/home/rfinn/research/Virgo/supersample/')\n",
    "%run ~/github/Virgo/programs/mksupersample.py --evcc"
   ]
  },
  {
   "cell_type": "code",
   "execution_count": null,
   "metadata": {},
   "outputs": [],
   "source": [
    "s=sample()\n",
    "s.get_smart()"
   ]
  },
  {
   "cell_type": "markdown",
   "metadata": {},
   "source": [
    "### woo hoo!!!\n",
    "\n",
    "This worked!  \n",
    "\n",
    "wrote file smart_kitchen_sink_v2_v1_evcc.fits\n"
   ]
  },
  {
   "cell_type": "markdown",
   "metadata": {},
   "source": [
    "# 3. Moving toward final table -  Clean kitchen sink\n",
    "\n",
    "* don't need to clean any galaxies, but some extra columns get added in this program, so this is the best place to do the vertical stack of our main table with the table of extra galaxies from evcc and steer\n",
    "\n",
    "* I added command-line arguments --evcc and --version\n",
    "\n",
    "* produces vf_clean_sample_v1.fits\n",
    "\n"
   ]
  },
  {
   "cell_type": "code",
   "execution_count": 201,
   "metadata": {
    "scrolled": true
   },
   "outputs": [
    {
     "name": "stdout",
     "output_type": "stream",
     "text": [
      "number of A100-only before cleaning =  44\n",
      "number of duplicates =  1\n",
      "AGC-only galaxies with duplicate entries\n",
      "AGC \n",
      "----\n",
      "5844\n",
      "\tdouble entry for AGC  5020\n",
      "\tdouble entry for AGC  5078\n",
      "\tdouble entry for AGC  5522\n",
      "\tdouble entry for AGC  5844\n",
      "\tdouble entry for AGC  5844\n",
      "\tdouble entry for AGC  5898\n",
      "\tdouble entry for AGC  6300\n",
      "\tdouble entry for AGC  7170\n",
      "\tdouble entry for AGC  7547\n",
      "\tdouble entry for AGC  9991\n",
      "\tdouble entry for AGC  202240\n",
      "\tdouble entry for AGC  211006\n",
      "\tdouble entry for AGC  213175\n",
      "\tdouble entry for AGC  213312\n",
      "\tdouble entry for AGC  214730\n",
      "\tdouble entry for AGC  220432\n",
      "\tdouble entry for AGC  220616\n",
      "\tdouble entry for AGC  220863\n",
      "\tdouble entry for AGC  220865\n",
      "\tdouble entry for AGC  222214\n",
      "\tdouble entry for AGC  222671\n",
      "\tdouble entry for AGC  224236\n",
      "\tdouble entry for AGC  226606\n",
      "\tdouble entry for AGC  229200\n",
      "\tdouble entry for AGC  232162\n",
      "\tdouble entry for AGC  233575\n",
      "\tdouble entry for AGC  238771\n",
      "\tdouble entry for AGC  240021\n",
      "\tdouble entry for AGC  241947\n",
      "\tdouble entry for AGC  722731\n",
      "\tdouble entry for AGC  733735\n",
      "\tdouble entry for AGC  742125\n",
      "number of A100-only after removing duplicates =  12\n",
      "A100-only galaxies are:   AGC  \n",
      "------\n",
      "  5637\n",
      "  8290\n",
      "  8363\n",
      "  8630\n",
      "192950\n",
      "201970\n",
      "202044\n",
      "208736\n",
      "223361\n",
      "224219\n",
      "258535\n",
      "741416\n",
      "merging 7331 with 9031\n",
      "merging 9032 with 6483\n",
      "merging 9034 with 6546\n",
      "merging 8851 with 9038\n",
      "length of clean_a100 before adding UGC gal =  9155\n",
      "length of clean_a100 after adding UGC gal =  9156\n"
     ]
    }
   ],
   "source": [
    "os.chdir('/home/rfinn/research/Virgo/supersample/')\n",
    "%run ~/github/Virgo/programs/clean_kitchen_sink.py --evcc"
   ]
  },
  {
   "cell_type": "markdown",
   "metadata": {},
   "source": [
    "## Success!  But... a100 indices will be wrong in clean_new_a100"
   ]
  },
  {
   "cell_type": "markdown",
   "metadata": {},
   "source": [
    "### Updated code to review a100 galaxies #\n",
    "\n",
    "* previously, I had run check_new_a100 to review the a100 galaxies that were added.  \n",
    "* the function clean_new_a100 got rid of the duplicates, or merged them with the correct parent\n",
    "\n",
    "```\n",
    "        child = np.array([7423, 9207, 9209, 8952],'i')\n",
    "        parent = np.array([9206, 6575, 6638, 9213],'i')\n",
    "        for i in range(len(child)):\n",
    "            print('merging {} with {}'.format(child[i],parent[i]))\n",
    "            self.merge_sources(parent[i],child[i],cat=self.clean_a100,HL=False,NSA=False,AGC=False,A100=True)\n",
    "            self.clean_a100['A100flag'][parent[i]] = True\n",
    "```\n",
    "\n",
    "* the updated catalog has different order, so now I have to redo the a100 match\n",
    "\n",
    "* moving forward, I should match by some name rather than array index, in case we update the catalog again.\n",
    "\n",
    "\n",
    "### Solution\n",
    "\n",
    "* The solution is to uncomment **def check_new_a100** and comment out the rest of **runall**\n",
    "* review the galaxies\n",
    "* if they are part of a galaxy that is already in the catalog, then merge the sources.  if we have a new version, then the index numbers will need to be updated in the function **clean_new_a100**\n",
    "\n",
    "### NOTE\n",
    "* I also fixed an error in the allgals function - the y coordinate in the jpeg image was set to the y value that comes from the conversion from RA and DEC, but it needs to be y_image_size - y for the jpeg image.  I had fixed this in mksupersample.py, but didn't fix this in clean_kitchen_sink.py\n"
   ]
  },
  {
   "cell_type": "code",
   "execution_count": null,
   "metadata": {
    "scrolled": true
   },
   "outputs": [],
   "source": [
    "# got an error because indices in clean_new_a100 pointed to old indices\n"
   ]
  },
  {
   "cell_type": "code",
   "execution_count": 247,
   "metadata": {
    "scrolled": true
   },
   "outputs": [
    {
     "name": "stdout",
     "output_type": "stream",
     "text": [
      "number of A100-only before cleaning =  47\n",
      "number of duplicates =  1\n",
      "AGC-only galaxies with duplicate entries\n",
      "AGC \n",
      "----\n",
      "5844\n",
      "\tdouble entry for AGC  8276\n",
      "\tdouble entry for AGC  7227\n",
      "\tdouble entry for AGC  223771\n",
      "\tdouble entry for AGC  5020\n",
      "\tdouble entry for AGC  5078\n",
      "\tdouble entry for AGC  5522\n",
      "\tdouble entry for AGC  5844\n",
      "\tdouble entry for AGC  5844\n",
      "\tdouble entry for AGC  5898\n",
      "\tdouble entry for AGC  6300\n",
      "\tdouble entry for AGC  7170\n",
      "\tdouble entry for AGC  7547\n",
      "\tdouble entry for AGC  9991\n",
      "\tdouble entry for AGC  202240\n",
      "\tdouble entry for AGC  211006\n",
      "\tdouble entry for AGC  213175\n",
      "\tdouble entry for AGC  213312\n",
      "\tdouble entry for AGC  214730\n",
      "\tdouble entry for AGC  220432\n",
      "\tdouble entry for AGC  220616\n",
      "\tdouble entry for AGC  220863\n",
      "\tdouble entry for AGC  220865\n",
      "\tdouble entry for AGC  222214\n",
      "\tdouble entry for AGC  222671\n",
      "\tdouble entry for AGC  224236\n",
      "\tdouble entry for AGC  226606\n",
      "\tdouble entry for AGC  229200\n",
      "\tdouble entry for AGC  232162\n",
      "\tdouble entry for AGC  233575\n",
      "\tdouble entry for AGC  238771\n",
      "\tdouble entry for AGC  240021\n",
      "\tdouble entry for AGC  241947\n",
      "\tdouble entry for AGC  722731\n",
      "\tdouble entry for AGC  733735\n",
      "\tdouble entry for AGC  742125\n",
      "number of A100-only after removing duplicates =  12\n",
      "A100-only galaxies are:   AGC  \n",
      "------\n",
      "  5637\n",
      "  8290\n",
      "  8363\n",
      "  8630\n",
      "192950\n",
      "201970\n",
      "202044\n",
      "208736\n",
      "223361\n",
      "224219\n",
      "258535\n",
      "741416\n",
      "merging 7331 with 9145\n",
      "merging 9146 with 6483\n",
      "merging 9148 with 6546\n",
      "merging 8851 with 9152\n",
      "length of clean_a100 before adding UGC gal =  9152\n",
      "length of clean_a100 after adding UGC gal =  9153\n"
     ]
    }
   ],
   "source": [
    "# running again with check_new_a100 uncommented in runall\n",
    "os.chdir('/home/rfinn/research/Virgo/supersample/')\n",
    "%run ~/github/Virgo/programs/clean_kitchen_sink.py --evcc\n",
    "plt.show()"
   ]
  },
  {
   "cell_type": "markdown",
   "metadata": {},
   "source": [
    "### Then update clean_new_a100 sources and update indices of AGC-only sources that need to be merged\n",
    "\n",
    "* can uncomment check_new_a100 when done\n",
    "* you get the indices from the cutout images (and the printout of which images are in FOV, if text overlaps or is hard to read)\n",
    "* uncomment the rest of runall, and comment out check_new_a100\n",
    "* Then run again\n"
   ]
  },
  {
   "cell_type": "code",
   "execution_count": 248,
   "metadata": {
    "scrolled": true
   },
   "outputs": [
    {
     "name": "stdout",
     "output_type": "stream",
     "text": [
      "number of A100-only before cleaning =  47\n",
      "number of duplicates =  1\n",
      "AGC-only galaxies with duplicate entries\n",
      "AGC \n",
      "----\n",
      "5844\n",
      "\tdouble entry for AGC  8276\n",
      "\tdouble entry for AGC  7227\n",
      "\tdouble entry for AGC  223771\n",
      "\tdouble entry for AGC  5020\n",
      "\tdouble entry for AGC  5078\n",
      "\tdouble entry for AGC  5522\n",
      "\tdouble entry for AGC  5844\n",
      "\tdouble entry for AGC  5844\n",
      "\tdouble entry for AGC  5898\n",
      "\tdouble entry for AGC  6300\n",
      "\tdouble entry for AGC  7170\n",
      "\tdouble entry for AGC  7547\n",
      "\tdouble entry for AGC  9991\n",
      "\tdouble entry for AGC  202240\n",
      "\tdouble entry for AGC  211006\n",
      "\tdouble entry for AGC  213175\n",
      "\tdouble entry for AGC  213312\n",
      "\tdouble entry for AGC  214730\n",
      "\tdouble entry for AGC  220432\n",
      "\tdouble entry for AGC  220616\n",
      "\tdouble entry for AGC  220863\n",
      "\tdouble entry for AGC  220865\n",
      "\tdouble entry for AGC  222214\n",
      "\tdouble entry for AGC  222671\n",
      "\tdouble entry for AGC  224236\n",
      "\tdouble entry for AGC  226606\n",
      "\tdouble entry for AGC  229200\n",
      "\tdouble entry for AGC  232162\n",
      "\tdouble entry for AGC  233575\n",
      "\tdouble entry for AGC  238771\n",
      "\tdouble entry for AGC  240021\n",
      "\tdouble entry for AGC  241947\n",
      "\tdouble entry for AGC  722731\n",
      "\tdouble entry for AGC  733735\n",
      "\tdouble entry for AGC  742125\n",
      "number of A100-only after removing duplicates =  12\n",
      "A100-only galaxies are:   AGC  \n",
      "------\n",
      "  5637\n",
      "  8290\n",
      "  8363\n",
      "  8630\n",
      "192950\n",
      "201970\n",
      "202044\n",
      "208736\n",
      "223361\n",
      "224219\n",
      "258535\n",
      "741416\n",
      "merging 7331 with 9145\n",
      "merging 9146 with 6483\n",
      "merging 9148 with 6546\n",
      "merging 8851 with 9152\n",
      "length of clean_a100 before adding UGC gal =  9152\n",
      "length of clean_a100 after adding UGC gal =  9153\n"
     ]
    }
   ],
   "source": [
    "os.chdir('/home/rfinn/research/Virgo/supersample/')\n",
    "%run ~/github/Virgo/programs/clean_kitchen_sink.py --evcc\n"
   ]
  },
  {
   "cell_type": "markdown",
   "metadata": {},
   "source": [
    "# 4. Match to external catalogs\n",
    "\n",
    "* clean_kitchen_sink makes an ipac table in Virgo/supersample called clean_sample_v1.txt\n",
    "* this has 9154 sources\n",
    "\n",
    "## Match catalog to z0MGS\n",
    "* upload this to IRSA https://irsa.ipac.caltech.edu/data/WISE/z0MGS/overview.html\n",
    "  * catalog search Tool\n",
    "  * z0MGS DR1 (not 7.5 arcsec Simple Index)\n",
    "  * gets here https://irsa.ipac.caltech.edu/cgi-bin/Gator/nph-dd\n",
    "  * multi-object search\n",
    "    * 30 arcsec\n",
    "    * 1-to-1 match\n",
    "    * run query\n",
    "    * 9156 sources found (that's how many are in input table)\n",
    "  * shows results, then click save icon\n",
    "    * save as ipac table.  \n",
    "    ```\n",
    "    cd ~/research/Virgo/tables\n",
    "    mv ~/Downloads/irsa_catalog_search_results_tbl.tbl vf_v1_z0mgs_30arcsec_102820.tbl\n",
    "    ```\n",
    "    * NOTE: we used 30 arcsec last time...\n",
    "  * update filename in write_subtables, get_z0MGS_flag()\n",
    "  \n",
    "## Match to AllWISE\n",
    "* upload table to IRSA, AllWISE Source Catalog\n",
    "    * multi-object search\n",
    "    * 30 arcsec\n",
    "    * 1-to-1 match\n",
    "    * run query\n",
    "    * 9156 sources found (that's how many are in input table)\n",
    "  * shows results, then click save icon\n",
    "    * save as ipac table.  \n",
    "    ```\n",
    "    cd ~/research/Virgo/tables\n",
    "    mv ~/Downloads/irsa_catalog_search_results_tbl.tbl vf_v1_allwise_30arcsec_102820.tbl\n",
    "    ```\n",
    "    \n",
    "## Match to WISE All-sky \n",
    "* upload table to IRSA, AllWISE Source Catalog\n",
    "    * multi-object search\n",
    "    * 30 arcsec\n",
    "    * 1-to-1 match\n",
    "    * run query\n",
    "    * 9156 sources found (that's how many are in input table)\n",
    "  * shows results, then click save icon\n",
    "    * save as ipac table.  \n",
    "    ```\n",
    "    cd ~/research/Virgo/tables\n",
    "    mv ~/Downloads/irsa_catalog_search_results_tbl.tbl vf_v1_allwise_30arcsec_102820.tbl\n",
    "    ```"
   ]
  },
  {
   "cell_type": "markdown",
   "metadata": {},
   "source": [
    "# 5. Updating NED names\n",
    "\n",
    "Ended up running the NED query again - good to do for new version\n",
    "\n",
    "* file with NED names ned_names_v1_evcc.fits\n",
    "  * the program should read this in the next time it is run"
   ]
  },
  {
   "cell_type": "code",
   "execution_count": 249,
   "metadata": {},
   "outputs": [
    {
     "name": "stdout",
     "output_type": "stream",
     "text": [
      "found file ned_names_v1_evcc.fits\n",
      "Using this instead of querying NED\n",
      "[False False False ... False False False]\n"
     ]
    }
   ],
   "source": [
    "os.chdir('/home/rfinn/research/Virgo/supersample/')\n",
    "%run ~/github/Virgo/programs/get_NEDname.py --evcc"
   ]
  },
  {
   "cell_type": "markdown",
   "metadata": {},
   "source": []
  },
  {
   "cell_type": "code",
   "execution_count": null,
   "metadata": {},
   "outputs": [],
   "source": []
  },
  {
   "cell_type": "code",
   "execution_count": null,
   "metadata": {},
   "outputs": [],
   "source": []
  },
  {
   "cell_type": "code",
   "execution_count": null,
   "metadata": {},
   "outputs": [],
   "source": []
  },
  {
   "cell_type": "markdown",
   "metadata": {},
   "source": [
    "## 2b. Check to see if all Gianluca's CO sources are in the catalog\n",
    "\n",
    "* Benedetta is cross-matching the vf_clean_sample_wNEDnames_v1_evcc.fits with GL's catalog.\n",
    "\n",
    "* from email on 9/22/2020\n",
    "\n",
    "```\n",
    "Hi Rose,\n",
    "\n",
    "thanks for having checked!\n",
    "\n",
    "here are the redshifts from NED : vr>500 km/s means z >~ 0.00166, so none of them are at vr>500 km/s, which is good! The drawback is that now we miss galaxies in the Virgo cluster. I personally find it a bit weird since we are specifically building a catalog of galaxies around Virgo, but if we explain our selection criteria maybe it should be convincing.\n",
    "\n",
    "cheers\n",
    "\n",
    "gianluca\n",
    "\n",
    "1  | |IC 3094                   | -0.000530|   \n",
    "2  | |IC 3476                   | -0.000564|   \n",
    "3  | |MESSIER 059               |  0.001558|   \n",
    "4  | |MESSIER 086               | -0.000747|   \n",
    "5  | |MESSIER 089               |  0.001134|   \n",
    "6  | |MESSIER 090               | -0.000784|   \n",
    "7  | |MESSIER 091               |  0.001621|   \n",
    "8  | |MESSIER 098               | -0.000474|   \n",
    "9  | |NGC 4178                  |  0.001248|   \n",
    "10 | |NGC 4208                  | -0.000270|   \n",
    "11 | |NGC 4216                  |  0.000437|   \n",
    "12 | |NGC 4222                  |  0.000767|   \n",
    "13 | |NGC 4294                  |  0.001184|   \n",
    "14 | |NGC 4312                  |  0.000510|   \n",
    "15 | |NGC 4396                  | -0.000427|   \n",
    "16 | |NGC 4402                  |  0.000774|   \n",
    "17 | |NGC 4407                  |  0.000340|   \n",
    "18 | |NGC 4419                  | -0.000871|   \n",
    "19 | |NGC 4424                  |  0.001458|   \n",
    "20 | |NGC 4438                  |  0.000237|   \n",
    "21 | |NGC 4445                  |  0.001181|   \n",
    "22 | |NGC 4550                  |  0.001531|   \n",
    "23 | |NGC 4634                  |  0.000991|    \n",
    "\n",
    "```\n",
    "\n",
    "Benedetta checked this and we are ok except for IC 3094, which is not actually in Gianluca's catalog.\n",
    "\n",
    "### DONE"
   ]
  },
  {
   "cell_type": "markdown",
   "metadata": {},
   "source": [
    "## 3. Galaxies that point to the same NED name ##"
   ]
  },
  {
   "cell_type": "code",
   "execution_count": 214,
   "metadata": {},
   "outputs": [
    {
     "name": "stdout",
     "output_type": "stream",
     "text": [
      "abc\n"
     ]
    }
   ],
   "source": [
    "t = 'a b c'\n",
    "s=t.replace(' ','')\n",
    "print(s)"
   ]
  },
  {
   "cell_type": "markdown",
   "metadata": {},
   "source": [
    "## 5. Make new version of sub-tables ##\n",
    "\n",
    "\n",
    "### Need to add code for Galaxies with updated radius measurements from by-eye\n",
    "\n",
    "* update input filename in write_subtables - masterfile (didn't update this the first time through)\n",
    "* I updated the function **get_radius** to do this!\n",
    "\n",
    "### Still to do\n",
    "\n",
    "* check for repeats of NED name (or any other id)\n",
    "* update unwise - ask Dustin to match to the new version v1\n",
    "* use Gianluca's updated CO file with 245 galaxies (I'm currrently using an older one with 217)\n",
    "\n"
   ]
  },
  {
   "cell_type": "code",
   "execution_count": null,
   "metadata": {},
   "outputs": [],
   "source": [
    "# match to unwise\n",
    "# send catalog to Dustin Lang"
   ]
  },
  {
   "cell_type": "code",
   "execution_count": 257,
   "metadata": {},
   "outputs": [
    {
     "name": "stdout",
     "output_type": "stream",
     "text": [
      "CO sources with no match in mastertable:\n",
      "        NEDname                source_name      \n",
      "------------------------ -----------------------\n",
      " 2MASX J13522492+3933269               ASK322610\n",
      " 2MASX J15053582+5905371               ASK110438\n",
      "                NGC 4214                 NGC4214\n",
      "                NGC 4244                 NGC4244\n",
      "SDSS J120958.40+462726.6 SDSSJ120958.40+462726.6\n",
      "               SHOC 206b                SHOC206b\n",
      "number of galaxies with CO matches =  239\n",
      "number of duplicates =  2\n",
      "CO sources that are matched to multiple galaxies in the mastertable:\n",
      " NEDname \n",
      "---------\n",
      "      N/A\n",
      "UGC 10770\n",
      "number of duplicates =  10\n",
      "Halpha sources that are listed multiple times in the halpha file:\n",
      "  VFID  \n",
      "--------\n",
      "VFID2060\n",
      "VFID2076\n",
      "VFID2080\n",
      "VFID2089\n",
      "VFID2095\n",
      "VFID2136\n",
      "VFID2141\n",
      "VFID2145\n",
      "VFID2154\n",
      "VFID2157\n",
      "number of lines in ha file after deleting rows =  100\n",
      "number of columns after removing cols =  224\n",
      "calculating snr\n"
     ]
    },
    {
     "name": "stderr",
     "output_type": "stream",
     "text": [
      "/home/rfinn/github/Virgo/programs/write_subtables.py:733: RuntimeWarning: invalid value encountered in true_divide\n",
      "  self.haflag = ((self.hatable['HF_R24']/self.hatable['HF_R24_ERR']) > 1.)\n",
      "/home/rfinn/anaconda3/lib/python3.7/site-packages/astropy/table/column.py:984: RuntimeWarning: invalid value encountered in greater\n",
      "  result = getattr(super(), op)(other)\n"
     ]
    },
    {
     "name": "stdout",
     "output_type": "stream",
     "text": [
      "setting HAflag\n",
      "writing hafile\n",
      "finished writing hafile\n",
      "number of galaxies with D25 measurement = 5732 (0.84%)\n",
      "number of galaxies using NSA V1 Petro TH90 = 476 (0.07%)\n",
      "number of galaxies using NSA V1 Petro TH90 = 65 (0.01%)\n",
      "number of galaxies using A100 sdss Petro TH90 = 262 (0.04%)\n",
      "number of galaxies with no size measurement = 264 (0.04%)\n",
      "adjusting radius for  --  galaxies based on legacy images\n",
      "number of galaxies with updated values of radius =  146\n",
      "CALCULATING SFRS\n"
     ]
    },
    {
     "name": "stderr",
     "output_type": "stream",
     "text": [
      "/home/rfinn/anaconda3/lib/python3.7/site-packages/astropy/table/column.py:984: RuntimeWarning: invalid value encountered in greater\n",
      "  result = getattr(super(), op)(other)\n"
     ]
    },
    {
     "name": "stdout",
     "output_type": "stream",
     "text": [
      "1.1938664705522868\n"
     ]
    },
    {
     "name": "stderr",
     "output_type": "stream",
     "text": [
      "/home/rfinn/github/Virgo/programs/write_subtables.py:417: RuntimeWarning: divide by zero encountered in log10\n",
      "  self.logMHI = np.log10(2.36e5*self.cat['HIflux'])+2*np.log10(self.cat['Dist']) #Dist^2\n",
      "/home/rfinn/github/Virgo/programs/write_subtables.py:443: RuntimeWarning: divide by zero encountered in log10\n",
      "  logD25kpc=np.log10(D25obskpc.value) + 0.35*np.log10(self.cat['expAB_r'])\n",
      "/home/rfinn/github/Virgo/programs/write_subtables.py:463: RuntimeWarning: invalid value encountered in subtract\n",
      "  self.HIdef_bos = logh2MHIref - self.logMHI\n"
     ]
    },
    {
     "name": "stdout",
     "output_type": "stream",
     "text": [
      "number of lines in z0MGS cat =  9153\n",
      "length of keepnorth_flag =  9153\n"
     ]
    },
    {
     "name": "stderr",
     "output_type": "stream",
     "text": [
      "WARNING: UnitsWarning: ''dex'' did not parse as fits unit: At col 0, Unit ''dex'' not supported by the FITS standard.  [astropy.units.core]\n",
      "WARNING: UnitsWarning: 'log(solMass)' did not parse as fits unit: 'log' is not a recognized function [astropy.units.core]\n",
      "WARNING: UnitsWarning: 'log(solMass/yr)' did not parse as fits unit: 'log' is not a recognized function [astropy.units.core]\n",
      "WARNING: Attribute `keywords` of type <class 'collections.OrderedDict'> cannot be added to FITS Header - skipping [astropy.io.fits.convenience]\n"
     ]
    },
    {
     "name": "stdout",
     "output_type": "stream",
     "text": [
      "Number in sample =  6799\n",
      "Number with CO data =  239\n",
      "Number with A100 data = 2336 (0.344)\n",
      "Number with z0MGS matches = 2370 (0.349)\n",
      "Number with steer17 matches = 1884 (0.277)\n",
      "CO SOURCES\n",
      "\tNumber of CO sources in z0MGS = 234 (0.98)\n",
      "\tNumber of CO sources in Steer = 178 (0.74)\n",
      "\tNumber of CO sources in z0MGS+Steer = 177 (0.74)\n",
      "FYI: no unwise flag\n"
     ]
    },
    {
     "ename": "FileNotFoundError",
     "evalue": "[Errno 2] No such file or directory: '/home/rfinn/research/Virgo/tables-north/v1/vf_north_v0_main_unwise.fits'",
     "output_type": "error",
     "traceback": [
      "\u001b[0;31m---------------------------------------------------------------------------\u001b[0m",
      "\u001b[0;31mFileNotFoundError\u001b[0m                         Traceback (most recent call last)",
      "\u001b[0;32m<ipython-input-257-da1fa8a07222>\u001b[0m in \u001b[0;36m<module>\u001b[0;34m\u001b[0m\n\u001b[1;32m      4\u001b[0m \u001b[0mos\u001b[0m\u001b[0;34m.\u001b[0m\u001b[0mchdir\u001b[0m\u001b[0;34m(\u001b[0m\u001b[0;34m'/home/rfinn/research/Virgo/supersample/'\u001b[0m\u001b[0;34m)\u001b[0m\u001b[0;34m\u001b[0m\u001b[0;34m\u001b[0m\u001b[0m\n\u001b[1;32m      5\u001b[0m \u001b[0mget_ipython\u001b[0m\u001b[0;34m(\u001b[0m\u001b[0;34m)\u001b[0m\u001b[0;34m.\u001b[0m\u001b[0mrun_line_magic\u001b[0m\u001b[0;34m(\u001b[0m\u001b[0;34m'run'\u001b[0m\u001b[0;34m,\u001b[0m \u001b[0;34m'~/github/Virgo/programs/write_subtables.py --north '\u001b[0m\u001b[0;34m)\u001b[0m\u001b[0;34m\u001b[0m\u001b[0;34m\u001b[0m\u001b[0m\n\u001b[0;32m----> 6\u001b[0;31m \u001b[0mc\u001b[0m\u001b[0;34m.\u001b[0m\u001b[0mrunall\u001b[0m\u001b[0;34m(\u001b[0m\u001b[0;34m)\u001b[0m\u001b[0;34m\u001b[0m\u001b[0;34m\u001b[0m\u001b[0m\n\u001b[0m",
      "\u001b[0;32m~/github/Virgo/programs/write_subtables.py\u001b[0m in \u001b[0;36mrunall\u001b[0;34m(self)\u001b[0m\n\u001b[1;32m    161\u001b[0m         \u001b[0mself\u001b[0m\u001b[0;34m.\u001b[0m\u001b[0mned_table\u001b[0m\u001b[0;34m(\u001b[0m\u001b[0;34m)\u001b[0m \u001b[0;31m# NED input, ra, dec, and NEDname\u001b[0m\u001b[0;34m\u001b[0m\u001b[0;34m\u001b[0m\u001b[0m\n\u001b[1;32m    162\u001b[0m         \u001b[0mself\u001b[0m\u001b[0;34m.\u001b[0m\u001b[0mprint_stats\u001b[0m\u001b[0;34m(\u001b[0m\u001b[0;34m)\u001b[0m\u001b[0;34m\u001b[0m\u001b[0;34m\u001b[0m\u001b[0m\n\u001b[0;32m--> 163\u001b[0;31m         \u001b[0mself\u001b[0m\u001b[0;34m.\u001b[0m\u001b[0mget_unwise\u001b[0m\u001b[0;34m(\u001b[0m\u001b[0;34m)\u001b[0m\u001b[0;34m\u001b[0m\u001b[0;34m\u001b[0m\u001b[0m\n\u001b[0m\u001b[1;32m    164\u001b[0m \u001b[0;34m\u001b[0m\u001b[0m\n\u001b[1;32m    165\u001b[0m         \u001b[0;32mpass\u001b[0m\u001b[0;34m\u001b[0m\u001b[0;34m\u001b[0m\u001b[0m\n",
      "\u001b[0;32m~/github/Virgo/programs/write_subtables.py\u001b[0m in \u001b[0;36mget_unwise\u001b[0;34m(self)\u001b[0m\n\u001b[1;32m    128\u001b[0m     \u001b[0;32mdef\u001b[0m \u001b[0mget_unwise\u001b[0m\u001b[0;34m(\u001b[0m\u001b[0mself\u001b[0m\u001b[0;34m)\u001b[0m\u001b[0;34m:\u001b[0m\u001b[0;34m\u001b[0m\u001b[0;34m\u001b[0m\u001b[0m\n\u001b[1;32m    129\u001b[0m \u001b[0;34m\u001b[0m\u001b[0m\n\u001b[0;32m--> 130\u001b[0;31m         \u001b[0mself\u001b[0m\u001b[0;34m.\u001b[0m\u001b[0munwise\u001b[0m \u001b[0;34m=\u001b[0m \u001b[0mTable\u001b[0m\u001b[0;34m.\u001b[0m\u001b[0mread\u001b[0m\u001b[0;34m(\u001b[0m\u001b[0moutdir\u001b[0m\u001b[0;34m+\u001b[0m\u001b[0;34m'vf_north_v0_main_unwise.fits'\u001b[0m\u001b[0;34m)\u001b[0m\u001b[0;34m\u001b[0m\u001b[0;34m\u001b[0m\u001b[0m\n\u001b[0m\u001b[1;32m    131\u001b[0m         \u001b[0mself\u001b[0m\u001b[0;34m.\u001b[0m\u001b[0munwiseFlag\u001b[0m \u001b[0;34m=\u001b[0m \u001b[0;34m(\u001b[0m\u001b[0mself\u001b[0m\u001b[0;34m.\u001b[0m\u001b[0munwise\u001b[0m\u001b[0;34m[\u001b[0m\u001b[0;34m'x'\u001b[0m\u001b[0;34m]\u001b[0m \u001b[0;34m>\u001b[0m \u001b[0;36m0\u001b[0m\u001b[0;34m)\u001b[0m\u001b[0;34m\u001b[0m\u001b[0;34m\u001b[0m\u001b[0m\n\u001b[1;32m    132\u001b[0m     \u001b[0;32mdef\u001b[0m \u001b[0mkeep_north\u001b[0m\u001b[0;34m(\u001b[0m\u001b[0mself\u001b[0m\u001b[0;34m,\u001b[0m \u001b[0mcat\u001b[0m\u001b[0;34m=\u001b[0m\u001b[0;32mNone\u001b[0m\u001b[0;34m)\u001b[0m\u001b[0;34m:\u001b[0m\u001b[0;34m\u001b[0m\u001b[0;34m\u001b[0m\u001b[0m\n",
      "\u001b[0;32m~/anaconda3/lib/python3.7/site-packages/astropy/table/connect.py\u001b[0m in \u001b[0;36m__call__\u001b[0;34m(self, *args, **kwargs)\u001b[0m\n\u001b[1;32m     50\u001b[0m     \u001b[0;32mdef\u001b[0m \u001b[0m__call__\u001b[0m\u001b[0;34m(\u001b[0m\u001b[0mself\u001b[0m\u001b[0;34m,\u001b[0m \u001b[0;34m*\u001b[0m\u001b[0margs\u001b[0m\u001b[0;34m,\u001b[0m \u001b[0;34m**\u001b[0m\u001b[0mkwargs\u001b[0m\u001b[0;34m)\u001b[0m\u001b[0;34m:\u001b[0m\u001b[0;34m\u001b[0m\u001b[0;34m\u001b[0m\u001b[0m\n\u001b[1;32m     51\u001b[0m         \u001b[0mcls\u001b[0m \u001b[0;34m=\u001b[0m \u001b[0mself\u001b[0m\u001b[0;34m.\u001b[0m\u001b[0m_cls\u001b[0m\u001b[0;34m\u001b[0m\u001b[0;34m\u001b[0m\u001b[0m\n\u001b[0;32m---> 52\u001b[0;31m         \u001b[0mout\u001b[0m \u001b[0;34m=\u001b[0m \u001b[0mregistry\u001b[0m\u001b[0;34m.\u001b[0m\u001b[0mread\u001b[0m\u001b[0;34m(\u001b[0m\u001b[0mcls\u001b[0m\u001b[0;34m,\u001b[0m \u001b[0;34m*\u001b[0m\u001b[0margs\u001b[0m\u001b[0;34m,\u001b[0m \u001b[0;34m**\u001b[0m\u001b[0mkwargs\u001b[0m\u001b[0;34m)\u001b[0m\u001b[0;34m\u001b[0m\u001b[0;34m\u001b[0m\u001b[0m\n\u001b[0m\u001b[1;32m     53\u001b[0m \u001b[0;34m\u001b[0m\u001b[0m\n\u001b[1;32m     54\u001b[0m         \u001b[0;31m# For some readers (e.g., ascii.ecsv), the returned `out` class is not\u001b[0m\u001b[0;34m\u001b[0m\u001b[0;34m\u001b[0m\u001b[0;34m\u001b[0m\u001b[0m\n",
      "\u001b[0;32m~/anaconda3/lib/python3.7/site-packages/astropy/io/registry.py\u001b[0m in \u001b[0;36mread\u001b[0;34m(cls, format, *args, **kwargs)\u001b[0m\n\u001b[1;32m    506\u001b[0m                     \u001b[0;32mtry\u001b[0m\u001b[0;34m:\u001b[0m\u001b[0;34m\u001b[0m\u001b[0;34m\u001b[0m\u001b[0m\n\u001b[1;32m    507\u001b[0m                         \u001b[0mctx\u001b[0m \u001b[0;34m=\u001b[0m \u001b[0mget_readable_fileobj\u001b[0m\u001b[0;34m(\u001b[0m\u001b[0margs\u001b[0m\u001b[0;34m[\u001b[0m\u001b[0;36m0\u001b[0m\u001b[0;34m]\u001b[0m\u001b[0;34m,\u001b[0m \u001b[0mencoding\u001b[0m\u001b[0;34m=\u001b[0m\u001b[0;34m'binary'\u001b[0m\u001b[0;34m)\u001b[0m\u001b[0;34m\u001b[0m\u001b[0;34m\u001b[0m\u001b[0m\n\u001b[0;32m--> 508\u001b[0;31m                         \u001b[0mfileobj\u001b[0m \u001b[0;34m=\u001b[0m \u001b[0mctx\u001b[0m\u001b[0;34m.\u001b[0m\u001b[0m__enter__\u001b[0m\u001b[0;34m(\u001b[0m\u001b[0;34m)\u001b[0m\u001b[0;34m\u001b[0m\u001b[0;34m\u001b[0m\u001b[0m\n\u001b[0m\u001b[1;32m    509\u001b[0m                     \u001b[0;32mexcept\u001b[0m \u001b[0mOSError\u001b[0m\u001b[0;34m:\u001b[0m\u001b[0;34m\u001b[0m\u001b[0;34m\u001b[0m\u001b[0m\n\u001b[1;32m    510\u001b[0m                         \u001b[0;32mraise\u001b[0m\u001b[0;34m\u001b[0m\u001b[0;34m\u001b[0m\u001b[0m\n",
      "\u001b[0;32m~/anaconda3/lib/python3.7/contextlib.py\u001b[0m in \u001b[0;36m__enter__\u001b[0;34m(self)\u001b[0m\n\u001b[1;32m    110\u001b[0m         \u001b[0;32mdel\u001b[0m \u001b[0mself\u001b[0m\u001b[0;34m.\u001b[0m\u001b[0margs\u001b[0m\u001b[0;34m,\u001b[0m \u001b[0mself\u001b[0m\u001b[0;34m.\u001b[0m\u001b[0mkwds\u001b[0m\u001b[0;34m,\u001b[0m \u001b[0mself\u001b[0m\u001b[0;34m.\u001b[0m\u001b[0mfunc\u001b[0m\u001b[0;34m\u001b[0m\u001b[0;34m\u001b[0m\u001b[0m\n\u001b[1;32m    111\u001b[0m         \u001b[0;32mtry\u001b[0m\u001b[0;34m:\u001b[0m\u001b[0;34m\u001b[0m\u001b[0;34m\u001b[0m\u001b[0m\n\u001b[0;32m--> 112\u001b[0;31m             \u001b[0;32mreturn\u001b[0m \u001b[0mnext\u001b[0m\u001b[0;34m(\u001b[0m\u001b[0mself\u001b[0m\u001b[0;34m.\u001b[0m\u001b[0mgen\u001b[0m\u001b[0;34m)\u001b[0m\u001b[0;34m\u001b[0m\u001b[0;34m\u001b[0m\u001b[0m\n\u001b[0m\u001b[1;32m    113\u001b[0m         \u001b[0;32mexcept\u001b[0m \u001b[0mStopIteration\u001b[0m\u001b[0;34m:\u001b[0m\u001b[0;34m\u001b[0m\u001b[0;34m\u001b[0m\u001b[0m\n\u001b[1;32m    114\u001b[0m             \u001b[0;32mraise\u001b[0m \u001b[0mRuntimeError\u001b[0m\u001b[0;34m(\u001b[0m\u001b[0;34m\"generator didn't yield\"\u001b[0m\u001b[0;34m)\u001b[0m \u001b[0;32mfrom\u001b[0m \u001b[0;32mNone\u001b[0m\u001b[0;34m\u001b[0m\u001b[0;34m\u001b[0m\u001b[0m\n",
      "\u001b[0;32m~/anaconda3/lib/python3.7/site-packages/astropy/utils/data.py\u001b[0m in \u001b[0;36mget_readable_fileobj\u001b[0;34m(name_or_obj, encoding, cache, show_progress, remote_timeout)\u001b[0m\n\u001b[1;32m    191\u001b[0m                 \u001b[0mname_or_obj\u001b[0m\u001b[0;34m,\u001b[0m \u001b[0mcache\u001b[0m\u001b[0;34m=\u001b[0m\u001b[0mcache\u001b[0m\u001b[0;34m,\u001b[0m \u001b[0mshow_progress\u001b[0m\u001b[0;34m=\u001b[0m\u001b[0mshow_progress\u001b[0m\u001b[0;34m,\u001b[0m\u001b[0;34m\u001b[0m\u001b[0;34m\u001b[0m\u001b[0m\n\u001b[1;32m    192\u001b[0m                 timeout=remote_timeout)\n\u001b[0;32m--> 193\u001b[0;31m         \u001b[0mfileobj\u001b[0m \u001b[0;34m=\u001b[0m \u001b[0mio\u001b[0m\u001b[0;34m.\u001b[0m\u001b[0mFileIO\u001b[0m\u001b[0;34m(\u001b[0m\u001b[0mname_or_obj\u001b[0m\u001b[0;34m,\u001b[0m \u001b[0;34m'r'\u001b[0m\u001b[0;34m)\u001b[0m\u001b[0;34m\u001b[0m\u001b[0;34m\u001b[0m\u001b[0m\n\u001b[0m\u001b[1;32m    194\u001b[0m         \u001b[0;32mif\u001b[0m \u001b[0mis_url\u001b[0m \u001b[0;32mand\u001b[0m \u001b[0;32mnot\u001b[0m \u001b[0mcache\u001b[0m\u001b[0;34m:\u001b[0m\u001b[0;34m\u001b[0m\u001b[0;34m\u001b[0m\u001b[0m\n\u001b[1;32m    195\u001b[0m             \u001b[0mdelete_fds\u001b[0m\u001b[0;34m.\u001b[0m\u001b[0mappend\u001b[0m\u001b[0;34m(\u001b[0m\u001b[0mfileobj\u001b[0m\u001b[0;34m)\u001b[0m\u001b[0;34m\u001b[0m\u001b[0;34m\u001b[0m\u001b[0m\n",
      "\u001b[0;31mFileNotFoundError\u001b[0m: [Errno 2] No such file or directory: '/home/rfinn/research/Virgo/tables-north/v1/vf_north_v0_main_unwise.fits'"
     ]
    },
    {
     "data": {
      "text/plain": [
       "<Figure size 432x288 with 0 Axes>"
      ]
     },
     "metadata": {},
     "output_type": "display_data"
    },
    {
     "data": {
      "image/png": "[encoded data removed]",
      "text/plain": [
       "<Figure size 432x288 with 1 Axes>"
      ]
     },
     "metadata": {
      "needs_background": "light"
     },
     "output_type": "display_data"
    }
   ],
   "source": [
    "# write sub tables\n",
    "\n",
    "# commenting out get_unwise, because I'll have to match to new table\n",
    "os.chdir('/home/rfinn/research/Virgo/supersample/')\n",
    "%run ~/github/Virgo/programs/write_subtables.py --north \n",
    "c.runall()"
   ]
  },
  {
   "cell_type": "code",
   "execution_count": null,
   "metadata": {},
   "outputs": [],
   "source": [
    "t = Table.read(homedir+'/research/Virgo/google-tables/VF-notin-SGA-10arcsecmatch-bestmatch-symmetric.csv',format='ascii')"
   ]
  },
  {
   "cell_type": "markdown",
   "metadata": {},
   "source": []
  },
  {
   "cell_type": "code",
   "execution_count": null,
   "metadata": {},
   "outputs": [],
   "source": []
  },
  {
   "cell_type": "code",
   "execution_count": null,
   "metadata": {},
   "outputs": [],
   "source": []
  },
  {
   "cell_type": "code",
   "execution_count": null,
   "metadata": {},
   "outputs": [],
   "source": []
  },
  {
   "cell_type": "code",
   "execution_count": null,
   "metadata": {},
   "outputs": [],
   "source": []
  },
  {
   "cell_type": "markdown",
   "metadata": {},
   "source": [
    "# Creating other tables\n",
    "\n",
    "* first round through subtables will create a table with\n",
    "  - RA, DEC,\n",
    "\n",
    "* z0MGS\n",
    "\n",
    "* unWISE\n",
    "\n",
    "* cross-match to Tempel catalog \n",
    "  * BV has program to cross match mastertable with Tempel catalog\n",
    "  * create a line-matched table with group 1 and properties of the parent halo for each galaxy that matches to Tempel\n",
    "  * it will also include a field/filament/cluster identifier\n",
    "  \n",
    "* Gianluca's environment table\n",
    "  * where is the best place to put this, does it need to run again?\n",
    "  \n",
    "* legacy photometry"
   ]
  },
  {
   "cell_type": "markdown",
   "metadata": {},
   "source": [
    "# Final step - create main table with flags for all data products\n",
    "\n"
   ]
  },
  {
   "cell_type": "markdown",
   "metadata": {},
   "source": [
    "# Old stuff - keeping in case it's useful"
   ]
  },
  {
   "cell_type": "code",
   "execution_count": null,
   "metadata": {},
   "outputs": [],
   "source": [
    "d = fits.getdata('/home/rfinn/research/Virgo/supersample/vf_clean_sample.fits')"
   ]
  },
  {
   "cell_type": "code",
   "execution_count": null,
   "metadata": {},
   "outputs": [],
   "source": [
    "vfdict = dict((a,b) for a,b in zip(d['VFID'],d['galnumber']))"
   ]
  },
  {
   "cell_type": "code",
   "execution_count": null,
   "metadata": {},
   "outputs": [],
   "source": [
    "dd = Table.read('/home/rfinn/research/Virgo/tables-north/v1/vfid-2delete.txt',format='ascii',data_start=0)"
   ]
  },
  {
   "cell_type": "code",
   "execution_count": null,
   "metadata": {},
   "outputs": [],
   "source": [
    "# old stuff that might be useful, but didn't work for making version 1\n",
    "outfile = open('/home/rfinn/research/Virgo/tables-north/v1/byeyeid-2delete.txt','w')\n",
    "for d in dd:\n",
    "    print(d[0],vfdict[d[0]])\n",
    "    s = str(str(vfdict[d[0]])+'\\n')\n",
    "    outfile.write(s)\n",
    "outfile.close()"
   ]
  }
 ],
 "metadata": {
  "kernelspec": {
   "display_name": "Python 3",
   "language": "python",
   "name": "python3"
  },
  "language_info": {
   "codemirror_mode": {
    "name": "ipython",
    "version": 3
   },
   "file_extension": ".py",
   "mimetype": "text/x-python",
   "name": "python",
   "nbconvert_exporter": "python",
   "pygments_lexer": "ipython3",
   "version": "3.7.4"
  }
 },
 "nbformat": 4,
 "nbformat_minor": 2
}
