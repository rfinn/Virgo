{
 "cells": [
  {
   "cell_type": "markdown",
   "metadata": {},
   "source": [
    "# Making Version 1 of Tables #\n",
    "\n",
    "major updates include\n",
    "\n",
    "* cleaned sample after cross-matching with JM's siena galaxy atlas\n",
    "  - I matched the VF catalog to SGA using a match radius of 10 arcsec\n",
    "  - 1902 sources did not match\n",
    "    - sources are listed here https://docs.google.com/spreadsheets/d/1l9Ay1NSc7ovFglQCZ3PphaHmXep3LFMcdxCOwrXFHgQ/edit?usp=sharing\n",
    "  - we reviewed each source by eye\n",
    "  - then went back to by_eye classifications to update the codes on any galaxies that should be\n",
    "    - deleted\n",
    "    - recentered\n",
    "    - merged with another galaxy (e.g. alfalfa source with offset coordinates)\n",
    "    \n",
    "  - need to trace back to galnumber in the by-eye spreadsheet\n",
    "  \n",
    "* addition of any sources in Steer catalog with vr < 500 but redshift independent distance > vr/H0\n",
    "  - these will need to have NSA, HL and A100 matches as well :(\n",
    "  - this will require some more thought..."
   ]
  },
  {
   "cell_type": "code",
   "execution_count": 31,
   "metadata": {},
   "outputs": [],
   "source": [
    "from astropy.io import fits,ascii\n",
    "from astropy.table import Table\n",
    "import numpy as np"
   ]
  },
  {
   "cell_type": "markdown",
   "metadata": {},
   "source": [
    "# tracing back from VFID to number in by-eye spreadsheet #\n",
    "\n",
    "- the "
   ]
  },
  {
   "cell_type": "code",
   "execution_count": 2,
   "metadata": {},
   "outputs": [],
   "source": [
    "d = fits.getdata('/home/rfinn/research/Virgo/supersample/vf_clean_sample.fits')"
   ]
  },
  {
   "cell_type": "markdown",
   "metadata": {},
   "source": [
    "## make a dictionary to relate VFID to number in bye-eye spreadsheet"
   ]
  },
  {
   "cell_type": "code",
   "execution_count": 3,
   "metadata": {},
   "outputs": [],
   "source": [
    "vfdict = dict((a,b) for a,b in zip(d['VFID'],d['galnumber']))"
   ]
  },
  {
   "cell_type": "code",
   "execution_count": 6,
   "metadata": {},
   "outputs": [
    {
     "data": {
      "text/plain": [
       "8247"
      ]
     },
     "execution_count": 6,
     "metadata": {},
     "output_type": "execute_result"
    }
   ],
   "source": [
    "vfdict['VFID0298']"
   ]
  },
  {
   "cell_type": "code",
   "execution_count": 37,
   "metadata": {},
   "outputs": [],
   "source": [
    "dd = Table.read('/home/rfinn/research/Virgo/tables-north/v1/vfid-2delete.txt',format='ascii',data_start=1)"
   ]
  },
  {
   "cell_type": "code",
   "execution_count": 38,
   "metadata": {},
   "outputs": [
    {
     "data": {
      "text/html": [
       "<i>Table length=152</i>\n",
       "<table id=\"table139994372464592\" class=\"table-striped table-bordered table-condensed\">\n",
       "<thead><tr><th>VFID</th></tr></thead>\n",
       "<thead><tr><th>str8</th></tr></thead>\n",
       "<tr><td>VFID0091</td></tr>\n",
       "<tr><td>VFID0288</td></tr>\n",
       "<tr><td>VFID0379</td></tr>\n",
       "<tr><td>VFID0385</td></tr>\n",
       "<tr><td>VFID0396</td></tr>\n",
       "<tr><td>VFID0544</td></tr>\n",
       "<tr><td>VFID0657</td></tr>\n",
       "<tr><td>VFID0769</td></tr>\n",
       "<tr><td>VFID0843</td></tr>\n",
       "<tr><td>VFID0985</td></tr>\n",
       "<tr><td>...</td></tr>\n",
       "<tr><td>VFID6638</td></tr>\n",
       "<tr><td>VFID6642</td></tr>\n",
       "<tr><td>VFID6662</td></tr>\n",
       "<tr><td>VFID6712</td></tr>\n",
       "<tr><td>VFID6721</td></tr>\n",
       "<tr><td>VFID6744</td></tr>\n",
       "<tr><td>VFID6762</td></tr>\n",
       "<tr><td>VFID6771</td></tr>\n",
       "<tr><td>VFID6794</td></tr>\n",
       "<tr><td>VFID6842</td></tr>\n",
       "</table>"
      ],
      "text/plain": [
       "<Table length=152>\n",
       "  VFID  \n",
       "  str8  \n",
       "--------\n",
       "VFID0091\n",
       "VFID0288\n",
       "VFID0379\n",
       "VFID0385\n",
       "VFID0396\n",
       "VFID0544\n",
       "VFID0657\n",
       "VFID0769\n",
       "VFID0843\n",
       "VFID0985\n",
       "     ...\n",
       "VFID6638\n",
       "VFID6642\n",
       "VFID6662\n",
       "VFID6712\n",
       "VFID6721\n",
       "VFID6744\n",
       "VFID6762\n",
       "VFID6771\n",
       "VFID6794\n",
       "VFID6842"
      ]
     },
     "execution_count": 38,
     "metadata": {},
     "output_type": "execute_result"
    }
   ],
   "source": [
    "dd"
   ]
  },
  {
   "cell_type": "code",
   "execution_count": 39,
   "metadata": {},
   "outputs": [
    {
     "name": "stdout",
     "output_type": "stream",
     "text": [
      "VFID0091 1505\n",
      "VFID0288 9578\n",
      "VFID0379 9241\n",
      "VFID0385 3200\n",
      "VFID0396 1121\n",
      "VFID0544 7600\n",
      "VFID0657 1470\n",
      "VFID0769 8764\n",
      "VFID0843 1180\n",
      "VFID0985 4481\n",
      "VFID0986 7473\n",
      "VFID1029 7605\n",
      "VFID1140 1556\n",
      "VFID1144 8357\n",
      "VFID1203 3721\n",
      "VFID1233 728\n",
      "VFID1271 2770\n",
      "VFID1300 3635\n",
      "VFID1306 8988\n",
      "VFID1541 8311\n",
      "VFID1550 8806\n",
      "VFID1553 759\n",
      "VFID1613 8930\n",
      "VFID1715 3507\n",
      "VFID1743 8335\n",
      "VFID1808 2760\n",
      "VFID1815 8368\n",
      "VFID1868 388\n",
      "VFID1886 7479\n",
      "VFID1888 3466\n",
      "VFID1912 7697\n",
      "VFID1985 762\n",
      "VFID2070 7120\n",
      "VFID2112 9246\n",
      "VFID2304 8513\n",
      "VFID2360 6903\n",
      "VFID2376 4919\n",
      "VFID2540 2287\n",
      "VFID2543 2626\n",
      "VFID2661 3340\n",
      "VFID2700 2892\n",
      "VFID2716 2493\n",
      "VFID2738 4047\n",
      "VFID2799 6511\n",
      "VFID2810 1085\n",
      "VFID2847 5530\n",
      "VFID2885 3742\n",
      "VFID2895 6086\n",
      "VFID2929 4544\n",
      "VFID2958 6381\n",
      "VFID2991 343\n",
      "VFID3001 6648\n",
      "VFID3010 9420\n",
      "VFID3012 7334\n",
      "VFID3014 5326\n",
      "VFID3032 6524\n",
      "VFID3050 1166\n",
      "VFID3055 7821\n",
      "VFID3078 1267\n",
      "VFID3087 5357\n",
      "VFID3115 7981\n",
      "VFID3168 6650\n",
      "VFID3187 2115\n",
      "VFID3211 5918\n",
      "VFID3277 7449\n",
      "VFID3290 5696\n",
      "VFID3314 5331\n",
      "VFID3393 6098\n",
      "VFID3400 965\n",
      "VFID3420 6601\n",
      "VFID3431 6822\n",
      "VFID3448 7329\n",
      "VFID3467 7507\n",
      "VFID3518 8260\n",
      "VFID3546 9191\n",
      "VFID3547 6716\n",
      "VFID3650 6715\n",
      "VFID3683 7815\n",
      "VFID3774 1999\n",
      "VFID3835 1198\n",
      "VFID4002 6671\n",
      "VFID4003 7324\n",
      "VFID4191 7200\n",
      "VFID4194 5522\n",
      "VFID4260 6304\n",
      "VFID4284 7089\n",
      "VFID4322 6959\n",
      "VFID4340 290\n",
      "VFID4399 289\n",
      "VFID4453 7194\n",
      "VFID4508 4668\n",
      "VFID4510 8600\n",
      "VFID4538 4599\n",
      "VFID4542 1822\n",
      "VFID4560 5723\n",
      "VFID4655 4748\n",
      "VFID4731 5187\n",
      "VFID4734 7580\n",
      "VFID4758 3984\n",
      "VFID4759 4744\n",
      "VFID4765 5549\n",
      "VFID4877 5029\n",
      "VFID4888 4656\n",
      "VFID4975 1836\n",
      "VFID5059 8680\n",
      "VFID5110 7196\n",
      "VFID5198 6052\n",
      "VFID5254 4344\n",
      "VFID5256 1759\n",
      "VFID5267 1052\n",
      "VFID5321 6038\n",
      "VFID5397 494\n",
      "VFID5421 6311\n",
      "VFID5514 6613\n",
      "VFID5525 1791\n",
      "VFID5548 4605\n",
      "VFID5608 5672\n",
      "VFID5637 1412\n",
      "VFID5666 6730\n",
      "VFID5705 6545\n",
      "VFID5734 7094\n",
      "VFID5746 5303\n",
      "VFID5768 3096\n",
      "VFID5779 6523\n",
      "VFID5801 4589\n",
      "VFID5934 8293\n",
      "VFID6018 8705\n",
      "VFID6111 7462\n",
      "VFID6126 5177\n",
      "VFID6187 6869\n",
      "VFID6228 5698\n",
      "VFID6257 749\n",
      "VFID6359 5824\n",
      "VFID6366 6447\n",
      "VFID6393 7494\n",
      "VFID6404 3775\n",
      "VFID6466 5508\n",
      "VFID6468 5716\n",
      "VFID6502 5646\n",
      "VFID6579 4094\n",
      "VFID6615 4138\n",
      "VFID6635 10105\n",
      "VFID6638 10106\n",
      "VFID6642 10056\n",
      "VFID6662 10137\n",
      "VFID6712 9851\n",
      "VFID6721 10113\n",
      "VFID6744 8743\n",
      "VFID6762 1613\n",
      "VFID6771 6974\n",
      "VFID6794 228\n",
      "VFID6842 3411\n"
     ]
    }
   ],
   "source": [
    "outfile = open('/home/rfinn/research/Virgo/tables-north/v1/byeyeid-2delete.txt','w')\n",
    "for d in dd:\n",
    "    print(d[0],vfdict[d[0]])\n",
    "    s = str(str(vfdict[d[0]])+'\\n')\n",
    "    outfile.write(s)\n",
    "outfile.close()"
   ]
  },
  {
   "cell_type": "code",
   "execution_count": 40,
   "metadata": {},
   "outputs": [
    {
     "data": {
      "text/plain": [
       "3411"
      ]
     },
     "execution_count": 40,
     "metadata": {},
     "output_type": "execute_result"
    }
   ],
   "source": [
    "vfdict['VFID6842']\n"
   ]
  },
  {
   "cell_type": "markdown",
   "metadata": {},
   "source": [
    "# Add NED name #"
   ]
  },
  {
   "cell_type": "code",
   "execution_count": null,
   "metadata": {},
   "outputs": [],
   "source": []
  },
  {
   "cell_type": "code",
   "execution_count": 11,
   "metadata": {},
   "outputs": [
    {
     "name": "stdout",
     "output_type": "stream",
     "text": [
      "byeyeid.txt  vfid-2delete.txt  vfid-2delete.txt~\r\n"
     ]
    }
   ],
   "source": [
    "\n",
    "!ls ~/research/Virgo/tables-north/v1"
   ]
  },
  {
   "cell_type": "markdown",
   "metadata": {},
   "source": [
    "# make subtables #"
   ]
  }
 ],
 "metadata": {
  "kernelspec": {
   "display_name": "Python 3",
   "language": "python",
   "name": "python3"
  },
  "language_info": {
   "codemirror_mode": {
    "name": "ipython",
    "version": 3
   },
   "file_extension": ".py",
   "mimetype": "text/x-python",
   "name": "python",
   "nbconvert_exporter": "python",
   "pygments_lexer": "ipython3",
   "version": "3.7.4"
  }
 },
 "nbformat": 4,
 "nbformat_minor": 2
}
