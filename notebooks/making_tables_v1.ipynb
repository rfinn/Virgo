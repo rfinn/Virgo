{
 "cells": [
  {
   "cell_type": "code",
   "execution_count": null,
   "metadata": {},
   "outputs": [],
   "source": []
  },
  {
   "cell_type": "markdown",
   "metadata": {},
   "source": [
    "# Version 1 of Tables (Final Final Final Version) - 10/25/2020#\n",
    "\n",
    "major updates include\n",
    "\n",
    "* cleaned sample after cross-matching with JM's siena galaxy atlas\n",
    "  - I matched the VF catalog to SGA using a match radius of 10 arcsec\n",
    "  - 1902 sources did not match\n",
    "    - sources are listed here https://docs.google.com/spreadsheets/d/1l9Ay1NSc7ovFglQCZ3PphaHmXep3LFMcdxCOwrXFHgQ/edit?usp=sharing\n",
    "  - we reviewed each source by eye\n",
    "  - then went back to by_eye classifications to update the codes on any galaxies that should be\n",
    "    - deleted\n",
    "    - recentered\n",
    "    - merged with another galaxy (e.g. alfalfa source with offset coordinates)\n",
    "    \n",
    "  - need to trace back to galnumber in the by-eye spreadsheet\n",
    "  \n",
    "* addition of any sources in Steer catalog with vr < 500 but redshift independent distance > vr/H0\n",
    "  - these will need to have NSA, HL and A100 matches as well :(\n",
    "  - this will require some more thought...\n",
    "  \n",
    "  \n",
    "* remove repeat NED names - this is just a problem with the NED names, not with the actual galaxies"
   ]
  },
  {
   "cell_type": "code",
   "execution_count": 8,
   "metadata": {},
   "outputs": [],
   "source": [
    "from astropy.io import fits, ascii\n",
    "from matplotlib import pyplot as plt\n",
    "from astropy.table import Table\n",
    "import os\n",
    "import numpy as np\n",
    "%matplotlib inline"
   ]
  },
  {
   "cell_type": "markdown",
   "metadata": {},
   "source": [
    "\n",
    "## 1.  Comparison with Siena Galaxy Atlas ##\n",
    "\n",
    "**Description:**\n",
    "we have finished reviewing all the galaxies that didn't match to JM's Siena Galaxy Atlas.  The list of matching galaxies is at:\n",
    "https://docs.google.com/spreadsheets/d/1l9Ay1NSc7ovFglQCZ3PphaHmXep3LFMcdxCOwrXFHgQ/edit?usp=sharing\n",
    "\n",
    "**Remedy:**\n",
    "We will update the byeye classification spreadsheet.  The \n",
    "spreadsheet is at\n",
    "\n",
    "https://docs.google.com/spreadsheets/d/1GtvYTBU3tAXI7ngklFWms3WpnGhbzpp3Nn-_VO7sioc/edit?usp=sharing\n",
    "\n",
    "Download as a xlsx file.  Will get saved in ~/Downloads/\n",
    "\n",
    "**Action Items**\n",
    "* need to carry original galnumber from the kitchen_sink through to the vf_clean catalog.\n",
    "* added function add_byeye_galid in clean_kitchen_sink.py to add this column to the cleaned catalog\n",
    "* rerun clean_kitchen_sink.py\n",
    "  * creates vf_clean_sample.fits (9217 lines)\n",
    "* rerun get_NEDname.py\n",
    "  * creates vf_clean_sample_wNEDname.fits (9217 lines)\n",
    "  * previous version had 9214 :(\n",
    "* remove sources that have [KHL2017]S in name - updated byeye spreadsheet accordingly\n",
    "* download updated bye eye spreadsheet and save in research/Virgo/google-tables\n",
    "  * first download latest version of virgo_check_by_eye from google spreadsheet, save as excel file\n",
    "  * move to ~/research/Virgo/google-tables\n",
    "   ```\n",
    "   mv ~/Downloads/virgo_check_sample_by_eye.xlsx virgo_check_sample_by_eye_v1.finished.xlsx\n",
    "   ```\n",
    "  * run this program \n",
    "   ```\n",
    "   python ~/github/Virgo/programs/collate_check_by_eye_results.py\n",
    "   ```\n",
    "  * or from within ipython -pylab\n",
    "```\n",
    "%run ~/github/Virgo/programs/collate_check_by_eye_results.py\n",
    "```\n",
    "* download csv version of updated VF-notin-SGA \n",
    "\n",
    "```\n",
    "mv ~/Downloads/VF-notin-SGA-10arcsecmatch-bestmatch-symmetric\\ -\\ VF-notin-SGA.csv VF-notin-SGA-10arcsecmatch-bestmatch-symmetric.csv\n",
    "\n",
    "```\n",
    "* rerun clean_kitchen_sink.py\n",
    "  * will output v1 of files\n",
    "    * output_catalog = 'vf_clean_sample_v1.fits'\n",
    "    * output_clean = 'clean_sample_v1.fits' # I'm not sure why I have two output files, just a holdover I think\n",
    "    * ipac_table = 'clean_sample_v1.txt'\n",
    "\n",
    "**NOTES**\n",
    "I updated the original classification spreadsheet based on our assessments of the galaxies that don't match JM's catalog.  I need to preserve the kitchen sink catalog b/c this is our last link to the original classification spreadsheet and cutouts.  I am uploading it to the visual classification folder.  This notebook describes how I related VFID in v0 catalogs to the line number in smart_kitchen_sink_v2.fits.  \n",
    "\n",
    "We also noted galaxies that have a radius that was too big or too small.  I am going to incorporate this information into the write_subtables, where we merge different radial size estimates.  Added this to the function get_radius. \n",
    "\n",
    "We updated centers for some galaxies, but JM said not to both b/c his code will figure this out.\n",
    "  \n",
    "  \n",
    "  \n"
   ]
  },
  {
   "cell_type": "markdown",
   "metadata": {},
   "source": [
    "## 1a. Update byeye classifications ##\n",
    "\n",
    "* get galnumber for VFID for galaxies in the https://docs.google.com/spreadsheets/d/1l9Ay1NSc7ovFglQCZ3PphaHmXep3LFMcdxCOwrXFHgQ/edit?usp=sharing\n",
    "* update the by-eye classifications https://docs.google.com/spreadsheets/d/1GtvYTBU3tAXI7ngklFWms3WpnGhbzpp3Nn-_VO7sioc/edit?usp=sharing\n",
    "  * updating sheet on 2020-10-25\n",
    "  * updated again on 2020-12-02 to remove one duplicate SDSSJ081736.81+352643.4\n",
    "  \n",
    "* having trouble reading the csv file into python - the headers are getting cutout.  This was b/c I had multiple columns with the same name.  Fixed this and now it loads fine.\n",
    "\n",
    "  \n",
    "### more Details on how I updated the byeye spreadsheet\n",
    "\n",
    "Basically, this involved linking the VFID with the galaxy number in the original spreadsheet\n",
    "\n",
    "* the number in the original spreadsheet is the line number in smart_kitchen_sink.v2.fits\n",
    "* however, when I reran clean_kitchen_sink in Oct 2020, I ended up with 3 extra galaxies (no idea why), and so the VFIDs were different.\n",
    "* figured things out eventually, but I ended up searching for objects by name."
   ]
  },
  {
   "cell_type": "markdown",
   "metadata": {},
   "source": [
    "### This is what worked in Oct 2020\n",
    "\n",
    "This shows how I got the id in v0 tables for the galaxies that don't match to John's SGA catalog.  For some reason, when I try to reconstruct the v0 tables, I get a different number of lines than I did originally.  so this led to some translation problems that I figured out.  These next few cells are for relating galaxies to the line number in the check_by_eye spreadsheet.\n",
    "\n",
    "**ONLY NEED TO DO THIS ONCE - DON'T NEED TO RERUN FOR MINOR UPDATES**\n",
    "\n",
    "Like removing two duplicates on 2020-12-02"
   ]
  },
  {
   "cell_type": "code",
   "execution_count": null,
   "metadata": {},
   "outputs": [],
   "source": [
    "badgals = Table.read('/home/rfinn/research/Virgo/google-tables/VF-notin-SGA-10arcsecmatch-bestmatch-symmetric.csv',format='ascii')\n",
    "# keep galaxies that we need to get rid of \n",
    "badflag = badgals['keep?'] == 0\n",
    "badgals = badgals[badflag]\n",
    "sink = Table.read('/home/rfinn/research/Virgo/supersample/smart_kitchen_sink_v2.fits')"
   ]
  },
  {
   "cell_type": "code",
   "execution_count": null,
   "metadata": {},
   "outputs": [],
   "source": [
    "# match galaxies according to their name\n",
    "sinkindex = np.arange(len(sink))\n",
    "match_field = ['objname','NSAID','NSAIDV0']\n",
    "sink_field = ['objname','NSAID','NSAID_2']\n",
    "outfile = open('/home/rfinn/research/Virgo/google-tables/byeye-crossmatch-ids.csv','w')\n",
    "for i in range(len(badgals)):\n",
    "    matchflag=False\n",
    "    for j in range(len(match_field)):\n",
    "        gname = badgals[match_field[j]][i]\n",
    "        if (gname != 'N/A'):# & (gname != 0):\n",
    "            gflag = sink[sink_field[j]] == gname\n",
    "            if sum(gflag) == 1:\n",
    "                #print(badgals['VFID'][i],sinkindex[gflag][0])\n",
    "                s = '%s, %i \\n'%(badgals['VFID'][i],sinkindex[gflag][0])\n",
    "                outfile.write(s)\n",
    "                matchflag=True\n",
    "                break\n",
    "            elif sum(gflag) == 2:\n",
    "                print(badgals['VFID'][i],sinkindex[gflag])\n",
    "                s = '%s, %i, %i \\n'%(badgals['VFID'][i],sinkindex[gflag][0],sinkindex[gflag][0])\n",
    "                outfile.write(s)\n",
    "                matchflag=True\n",
    "            elif sum(gflag) > 1:\n",
    "                pass\n",
    "        \n",
    "    if not(matchflag):\n",
    "        #print('HELP!!! no match for',badgals['VFID'][i],gname)\n",
    "        print(badgals['VFID'][i],-999)\n",
    "        outfile.write('%s, %i \\n'%(badgals['VFID'][i],-999))\n",
    "outfile.close()"
   ]
  },
  {
   "cell_type": "markdown",
   "metadata": {},
   "source": [
    "## 1b. Download updated by-eye classifications and merge sheets"
   ]
  },
  {
   "cell_type": "code",
   "execution_count": null,
   "metadata": {},
   "outputs": [],
   "source": [
    "download updated bye eye spreadsheet and save in research/Virgo/google-tables\n",
    "  * first download latest version of virgo_check_by_eye from google spreadsheet, save as excel file\n",
    "  * move to ~/research/Virgo/google-tables\n",
    "   ```\n",
    "   mv ~/Downloads/virgo_check_sample_by_eye.xlsx virgo_check_sample_by_eye_v1.finished.xlsx\n",
    "   ```\n",
    "  * run this program \n",
    "   ```\n",
    "   python ~/github/Virgo/programs/collate_check_by_eye_results.py\n",
    "   ```\n",
    "  * or from within ipython -pylab\n",
    "```\n",
    "%run ~/github/Virgo/programs/collate_check_by_eye_results.py\n",
    "```"
   ]
  },
  {
   "cell_type": "code",
   "execution_count": 49,
   "metadata": {},
   "outputs": [],
   "source": [
    "os.chdir('/home/rfinn/research/Virgo/google-tables')\n",
    "!mv ~/Downloads/virgo_check_sample_by_eye.xlsx virgo_check_sample_by_eye_v1.finished.xlsx"
   ]
  },
  {
   "cell_type": "code",
   "execution_count": 50,
   "metadata": {},
   "outputs": [
    {
     "name": "stdout",
     "output_type": "stream",
     "text": [
      "number of objects with class=1 =  8597\n",
      "number of objects to be removed (class=0, 2, 4) =  1014\n",
      "number of objects with class 0  =  365\n",
      "number of objects with class 1  =  8597\n",
      "number of objects with class 2  =  604\n",
      "number of objects with class 3  =  0\n",
      "number of objects with class 4  =  45\n",
      "number of objects with class 5  =  0\n",
      "number of objects with class 6  =  0\n",
      "number of objects with class 7  =  496\n",
      "number of objects with class 8  =  8\n",
      "number of objects with class 9  =  3\n",
      "number of objects with class 16  =  18\n",
      "percent of sample removed = 10.0\n",
      "DEC > -1 galaxies only\n",
      "number of objects with class=1 =  6426\n",
      "number of objects to be removed (class=0, 2, 4) =  884\n",
      "number of objects with class 0  =  290\n",
      "number of objects with class 1  =  6426\n",
      "number of objects with class 2  =  551\n",
      "number of objects with class 3  =  0\n",
      "number of objects with class 4  =  43\n",
      "number of objects with class 5  =  0\n",
      "number of objects with class 6  =  0\n",
      "number of objects with class 7  =  292\n",
      "number of objects with class 8  =  4\n",
      "number of objects with class 9  =  3\n",
      "number of objects with class 16  =  8\n",
      "percent of sample removed = 11.6\n"
     ]
    },
    {
     "data": {
      "text/plain": [
       "<Figure size 432x288 with 0 Axes>"
      ]
     },
     "metadata": {},
     "output_type": "display_data"
    }
   ],
   "source": [
    "%run ~/github/Virgo/programs/collate_check_by_eye_results.py"
   ]
  },
  {
   "cell_type": "markdown",
   "metadata": {},
   "source": [
    "## 2.  BV has found additional galaxies to add from Steer and EVCC ##\n",
    "\n",
    "* galaxies in Steer with vr< 500 but redshift-independent distances that are consistent with our cut\n",
    "* a few from EVCC that are not included (from Kim paper)\n",
    "* these need to be added to the catalog\n",
    "* these additional galaxies include all but one of GL's 245 CO galaxies\n",
    "  * IC 3094 is not included.  It's redshift independent distance corresponds to a vr = 3478 (H0=74), so this shouldn't be in the sample.\n",
    "    - it's in the steer catalog\n",
    "    - vcomic = -237 km/s\n",
    "  * followed up with Gianluca, and this should NOT be included, so we are ok\n",
    "* file is in \n",
    "```\n",
    "research/Virgo/ancil-tables/Steer_EVCC_toadd_fromBV_2020Oct27.fits  \n",
    "```\n",
    "\n",
    "### possible options for implementing\n",
    "\n",
    "* using topcat, match steer catalog to \n",
    "  * HL, agc,NSAv1,NSAv0, a100-sdss-wise to produce a second table with columns that match the clean_kitchen_sink\n",
    "  * stilts - command line version of topcat - could be useful for repeating analysis multiple times\n",
    "\n",
    "* make new version of mksupersample, but use steer catalog as the input instead of HL?\n",
    "\n",
    "* download vr < 500 version of HL catalog, match to catalog of new galaxies (steer + EVCC), then use this as HL catalog in a new version of mksupersample that only matches this catalog to agc, NSAv1, NSAv0\n",
    "  - this catalog could be added in clean_kitchen_sink so that indices of previous sources don't change (for example, when I clean/merge the new a100 sources).  Although maybe this is not the way to go because the \"new\" A100 sources that we find in clean_kitchen_sink might match to one of new sources?\n",
    "  \n",
    "* these galaxies need to be added to the clean_kitchen_sink file\n",
    "  * GL's catalog has HL information\n",
    "  * write a separate program to match to HL, NSAv0, and NSAv1\n",
    "  * a100 matching will happen in clean_kitchen_sink\n",
    "  \n",
    "  \n",
    "### Approach\n",
    "\n",
    "* download new HL catalog, but remove low vr cut\n",
    "\n",
    "```\n",
    " Hyperleda query:  http://leda.univ-lyon1.fr/fullsql.html\n",
    "\n",
    "        parameters described here: http://leda.univ-lyon1.fr/leda/meandata.html\n",
    "\n",
    "        SQL QUERY:\n",
    "        \n",
    "        select\n",
    "        objname,objtype,de2000,al2000,v,e_v,vopt,e_vopt,vrad,e_vrad,bt,e_bt,type,bar,ring,multiple,compactness,t,e_t,logd25,e_logd25,logr25,e_logr25,pa,incl,logdc,btc,itc,ubtc,bvtc,m21c,hic,mabs,agnclass,kt,e_kt,it,e_it,ut,vt,mfir,e_ut,e_vt, modz, e_modz, mod0, e_mod0,vmaxg, e_vmaxg, vmaxs,e_vmaxs,vdis,e_vdis\n",
    "        \n",
    "        where\n",
    "\n",
    "        de2000 > -35 and de2000 < 75 and  al2000 < 280./360.*24.  and al2000 > 100./360.*24. and v < 3300 and objtype='G'\n",
    "\n",
    "        - output as csv, separator is other, ,\n",
    "\n",
    "        delete header lines at beginning and end\n",
    "\n",
    "        2020-10-28: downloaded again but removed the vr > 500 km/s cut.\n",
    "        we are adding galaxies with redshift-independent distances > 500/H0, and \n",
    "        they should be in this updated catalog\n",
    "\n",
    "          - will add this functionality in a separate function\n",
    "\n",
    "```\n",
    "\n",
    "## Matched BV's catalog with HL in topcat.  \n",
    "\n",
    "* Four galaxies don't match\n",
    "\n",
    "|RA | DEC | VH | NOTES |\n",
    "|---|----|-----|-------|\n",
    "| 176.1337 | 6.7041 | 1455.2 | NSA 067042, has a redshift of ~5800 km/ from several sources.  NED says no z-independent distance. AGC 215601 comes up in HL with vr=5700. |\n",
    "|187.8029 | 13.1243 | 1900 | in HL (PGC041416), and they list vr=1900, but they use sdss vr as primary (242316) |\n",
    "| 190.0388 | 6.8837 | 1007 | VCC 1821, PGC 042420.  HL has vr=7300, but it also lists 2 redshifts at 1007km/s |\n",
    "| 195.9078 | 7.904 | 2968 | CGCG 043-122, PGC 045112 and NSA 077423; again HL has vr=13700; sdss redshift is convincing |\n",
    "\n",
    "\n",
    "* Saving file as fits basic, Steer_EVCC_toadd_fromBV_2020Oct27_with_HL.fits, in ~/research/Virgo/ancil-tables\n",
    "\n",
    "* read in table and remove the columns from Benedetta's table so just HL is there.  but first use BV ra, dec and vr if galaxy doesn't match to HL\n",
    "\n",
    "\n"
   ]
  },
  {
   "cell_type": "code",
   "execution_count": null,
   "metadata": {
    "scrolled": true
   },
   "outputs": [],
   "source": [
    "os.chdir('/home/rfinn/research/Virgo/supersample/')\n",
    "%run ~/github/Virgo/programs/clean_kitchen_sink.py\n"
   ]
  },
  {
   "cell_type": "code",
   "execution_count": null,
   "metadata": {},
   "outputs": [],
   "source": [
    "infile = '/home/rfinn/research/Virgo/ancil-tables/Steer_EVCC_toadd_fromBV_2020Oct27_with_HL.fits'\n",
    "tab = Table.read(infile)"
   ]
  },
  {
   "cell_type": "code",
   "execution_count": null,
   "metadata": {},
   "outputs": [],
   "source": [
    "for i in range(len(tab)):\n",
    "    if tab['objname'][i] == '                            ': # no match to HL\n",
    "        ra = tab['RA'][i]/15. # convert ra from deg to hr\n",
    "        dec = tab['DEC'][i]\n",
    "        tab['al2000'][i] = ra\n",
    "        tab['de2000'][i] = dec\n",
    "        tab['v'][i] = tab['VH'][i]\n",
    "        print('fixing values for gal with no HL match')\n",
    "        "
   ]
  },
  {
   "cell_type": "code",
   "execution_count": null,
   "metadata": {},
   "outputs": [],
   "source": [
    "# this only works if you save the sorted table in topcat\n",
    "for i in range(4):\n",
    "    if i == 0:\n",
    "        tab['objname'][i]='AGC215601'\n",
    "    elif i == 1:\n",
    "        tab['objname'][i]='PGC041416'\n",
    "    elif i == 2:\n",
    "        tab['objname'][i]='PGC042420'\n",
    "    elif i == 3:\n",
    "        tab['objname'][i]='PGC045112'"
   ]
  },
  {
   "cell_type": "code",
   "execution_count": null,
   "metadata": {},
   "outputs": [],
   "source": [
    "# remove column\n",
    "col_names = tab.colnames[0:10]\n",
    "print(col_names)\n",
    "tab.remove_columns(col_names)\n",
    "# save file as a short HL table\n",
    "outfile = '/home/rfinn/research/Virgo/ancil-tables/Steer_EVCC_toadd_HL_cols.fits'\n",
    "tab.write(outfile,format='fits',overwrite=True)"
   ]
  },
  {
   "cell_type": "markdown",
   "metadata": {},
   "source": [
    "### updated mksupersample\n",
    "\n",
    "it now has --version and --evcc flags\n",
    "\n",
    "* set evcc to read in the file we just wrote, and create an independent smart_kitchen_sink_v2_v1_evcc.fits\n",
    "* version is v1 by default, until we move on to v2 tables\n",
    "\n"
   ]
  },
  {
   "cell_type": "code",
   "execution_count": 53,
   "metadata": {},
   "outputs": [
    {
     "name": "stdout",
     "output_type": "stream",
     "text": [
      "Welcome!\n",
      "\n",
      "To build catalogs, try: \n",
      "\n",
      " \t s=sample()\n",
      " \t s.get_smart() \n",
      "\n",
      "\n",
      "\n",
      "To read table and plot images, try: \n",
      "\n",
      " \t t=fulltable()\n",
      " \t t.agc_only() )\n"
     ]
    }
   ],
   "source": [
    "os.chdir('/home/rfinn/research/Virgo/supersample/')\n",
    "%run ~/github/Virgo/programs/mksupersample.py --evcc"
   ]
  },
  {
   "cell_type": "code",
   "execution_count": 54,
   "metadata": {},
   "outputs": [
    {
     "name": "stdout",
     "output_type": "stream",
     "text": [
      "METHOD 2: AFTER FIRST MERGE\n",
      "checking HL  HL  name\n",
      "checking HL  AGC  name\n",
      "MATCH HL+AGC to NSA\n",
      "sum of HL, AGC, and NSA flags =  117 3658 5973\n",
      "MATCH HL+AGC+NSA to NSA2\n",
      "writing temp file\n"
     ]
    }
   ],
   "source": [
    "s=sample()\n",
    "s.get_smart(matchThirdFlag=True)"
   ]
  },
  {
   "cell_type": "markdown",
   "metadata": {},
   "source": [
    "### woo hoo!!!\n",
    "\n",
    "This worked!  \n",
    "\n",
    "wrote file smart_kitchen_sink_v2_v1_evcc.fits\n"
   ]
  },
  {
   "cell_type": "markdown",
   "metadata": {},
   "source": [
    "# 3. Moving toward final table -  Clean kitchen sink\n",
    "\n",
    "* don't need to clean any galaxies, but some extra columns get added in this program, so this is the best place to do the vertical stack of our main table with the table of extra galaxies from evcc and steer\n",
    "\n",
    "* I added command-line arguments --evcc and --version\n",
    "\n",
    "* produces vf_clean_sample_v1.fits\n",
    "\n"
   ]
  },
  {
   "cell_type": "code",
   "execution_count": 116,
   "metadata": {
    "scrolled": true
   },
   "outputs": [
    {
     "name": "stdout",
     "output_type": "stream",
     "text": [
      "number of A100-only before cleaning =  47\n",
      "number of duplicates =  1\n",
      "AGC-only galaxies with duplicate entries\n",
      "AGC \n",
      "----\n",
      "5844\n",
      "\tdouble entry for AGC  8276\n",
      "\tdouble entry for AGC  7227\n",
      "\tdouble entry for AGC  223771\n",
      "\tdouble entry for AGC  5020\n",
      "\tdouble entry for AGC  5078\n",
      "\tdouble entry for AGC  5522\n",
      "\tdouble entry for AGC  5844\n",
      "\tdouble entry for AGC  5844\n",
      "\tdouble entry for AGC  5898\n",
      "\tdouble entry for AGC  6300\n",
      "\tdouble entry for AGC  7170\n",
      "\tdouble entry for AGC  7547\n",
      "\tdouble entry for AGC  9991\n",
      "\tdouble entry for AGC  202240\n",
      "\tdouble entry for AGC  211006\n",
      "\tdouble entry for AGC  213175\n",
      "\tdouble entry for AGC  213312\n",
      "\tdouble entry for AGC  214730\n",
      "\tdouble entry for AGC  220432\n",
      "\tdouble entry for AGC  220616\n",
      "\tdouble entry for AGC  220863\n",
      "\tdouble entry for AGC  220865\n",
      "\tdouble entry for AGC  222214\n",
      "\tdouble entry for AGC  222671\n",
      "\tdouble entry for AGC  224236\n",
      "\tdouble entry for AGC  226606\n",
      "\tdouble entry for AGC  229200\n",
      "\tdouble entry for AGC  232162\n",
      "\tdouble entry for AGC  233575\n",
      "\tdouble entry for AGC  238771\n",
      "\tdouble entry for AGC  240021\n",
      "\tdouble entry for AGC  241947\n",
      "\tdouble entry for AGC  722731\n",
      "\tdouble entry for AGC  733735\n",
      "\tdouble entry for AGC  742125\n",
      "number of A100-only after removing duplicates =  12\n",
      "A100-only galaxies are:   AGC  \n",
      "------\n",
      "  5637\n",
      "  8290\n",
      "  8363\n",
      "  8630\n",
      "192950\n",
      "201970\n",
      "202044\n",
      "208736\n",
      "223361\n",
      "224219\n",
      "258535\n",
      "741416\n",
      "merging 7330 with 9143\n",
      "merging 9144 with 6482\n",
      "merging 9146 with 6545\n",
      "merging 8850 with 9150\n",
      "length of clean_a100 before adding UGC gal =  9150\n",
      "length of clean_a100 after adding UGC gal =  9151\n"
     ]
    },
    {
     "data": {
      "text/plain": [
       "<Figure size 432x288 with 0 Axes>"
      ]
     },
     "metadata": {},
     "output_type": "display_data"
    }
   ],
   "source": [
    "os.chdir('/home/rfinn/research/Virgo/supersample/')\n",
    "%run ~/github/Virgo/programs/clean_kitchen_sink.py --evcc"
   ]
  },
  {
   "cell_type": "markdown",
   "metadata": {},
   "source": [
    "## Success!  But... a100 indices will be wrong in clean_new_a100"
   ]
  },
  {
   "cell_type": "markdown",
   "metadata": {},
   "source": [
    "### Updated code to review a100 galaxies #\n",
    "\n",
    "* previously, I had run check_new_a100 to review the a100 galaxies that were added.  \n",
    "* the function clean_new_a100 got rid of the duplicates, or merged them with the correct parent\n",
    "\n",
    "```\n",
    "        child = np.array([7423, 9207, 9209, 8952],'i')\n",
    "        parent = np.array([9206, 6575, 6638, 9213],'i')\n",
    "        for i in range(len(child)):\n",
    "            print('merging {} with {}'.format(child[i],parent[i]))\n",
    "            self.merge_sources(parent[i],child[i],cat=self.clean_a100,HL=False,NSA=False,AGC=False,A100=True)\n",
    "            self.clean_a100['A100flag'][parent[i]] = True\n",
    "```\n",
    "\n",
    "* the updated catalog has different order, so now I have to redo the a100 match\n",
    "\n",
    "* moving forward, I should match by some name rather than array index, in case we update the catalog again.\n",
    "\n",
    "\n",
    "### Solution\n",
    "\n",
    "* The solution is to uncomment **def check_new_a100** and comment out the rest of **runall**\n",
    "* review the galaxies\n",
    "* if they are part of a galaxy that is already in the catalog, then merge the sources.  if we have a new version, then the index numbers will need to be updated in the function **clean_new_a100**\n",
    "\n",
    "### NOTE\n",
    "* I also fixed an error in the allgals function - the y coordinate in the jpeg image was set to the y value that comes from the conversion from RA and DEC, but it needs to be y_image_size - y for the jpeg image.  I had fixed this in mksupersample.py, but didn't fix this in clean_kitchen_sink.py\n"
   ]
  },
  {
   "cell_type": "code",
   "execution_count": 56,
   "metadata": {
    "scrolled": true
   },
   "outputs": [
    {
     "name": "stdout",
     "output_type": "stream",
     "text": [
      "number of A100-only before cleaning =  47\n",
      "number of duplicates =  1\n",
      "AGC-only galaxies with duplicate entries\n",
      "AGC \n",
      "----\n",
      "5844\n",
      "\tdouble entry for AGC  8276\n",
      "\tdouble entry for AGC  7227\n",
      "\tdouble entry for AGC  223771\n",
      "\tdouble entry for AGC  5020\n",
      "\tdouble entry for AGC  5078\n",
      "\tdouble entry for AGC  5522\n",
      "\tdouble entry for AGC  5844\n",
      "\tdouble entry for AGC  5844\n",
      "\tdouble entry for AGC  5898\n",
      "\tdouble entry for AGC  6300\n",
      "\tdouble entry for AGC  7170\n",
      "\tdouble entry for AGC  7547\n",
      "\tdouble entry for AGC  9991\n",
      "\tdouble entry for AGC  202240\n",
      "\tdouble entry for AGC  211006\n",
      "\tdouble entry for AGC  213175\n",
      "\tdouble entry for AGC  213312\n",
      "\tdouble entry for AGC  214730\n",
      "\tdouble entry for AGC  220432\n",
      "\tdouble entry for AGC  220616\n",
      "\tdouble entry for AGC  220863\n",
      "\tdouble entry for AGC  220865\n",
      "\tdouble entry for AGC  222214\n",
      "\tdouble entry for AGC  222671\n",
      "\tdouble entry for AGC  224236\n",
      "\tdouble entry for AGC  226606\n",
      "\tdouble entry for AGC  229200\n",
      "\tdouble entry for AGC  232162\n",
      "\tdouble entry for AGC  233575\n",
      "\tdouble entry for AGC  238771\n",
      "\tdouble entry for AGC  240021\n",
      "\tdouble entry for AGC  241947\n",
      "\tdouble entry for AGC  722731\n",
      "\tdouble entry for AGC  733735\n",
      "\tdouble entry for AGC  742125\n",
      "number of A100-only after removing duplicates =  12\n",
      "A100-only galaxies are:   AGC  \n",
      "------\n",
      "  5637\n",
      "  8290\n",
      "  8363\n",
      "  8630\n",
      "192950\n",
      "201970\n",
      "202044\n",
      "208736\n",
      "223361\n",
      "224219\n",
      "258535\n",
      "741416\n",
      "inside check_new_a100:  12\n",
      "MAKING LAST PLOT\n",
      "0000 0012\n",
      "1, 0, x=64.5, y=56.8, gnumb=7330\n",
      "1, 1, x=45.5, y=45.5, gnumb=9143\n",
      "9143 AGC  5637 :  [7330, 9143]\n",
      "1, 0, x=59.6, y=34.7, gnumb=6482\n",
      "1, 1, x=45.5, y=45.5, gnumb=9144\n",
      "9144 AGC  8290 :  [6482, 9144]\n",
      "1, 0, x=45.5, y=45.5, gnumb=9145\n",
      "9145 AGC  8363 :  [9145]\n",
      "1, 0, x=62.3, y=49.6, gnumb=6545\n",
      "1, 1, x=45.5, y=45.5, gnumb=9146\n",
      "9146 AGC  8630 :  [6545, 9146]\n",
      "1, 0, x=45.5, y=45.5, gnumb=9147\n",
      "9147 AGC  192950 :  [9147]\n",
      "1, 0, x=45.5, y=45.5, gnumb=9148\n",
      "9148 AGC  201970 :  [9148]\n",
      "1, 0, x=45.5, y=45.5, gnumb=9149\n",
      "9149 AGC  202044 :  [9149]\n",
      "1, 0, x=26.4, y=44.7, gnumb=8850\n",
      "1, 1, x=45.5, y=45.5, gnumb=9150\n",
      "9150 AGC  208736 :  [8850, 9150]\n",
      "1, 0, x=45.5, y=45.5, gnumb=9151\n",
      "9151 AGC  223361 :  [9151]\n",
      "1, 0, x=45.5, y=45.5, gnumb=9152\n",
      "9152 AGC  224219 :  [9152]\n",
      "1, 0, x=45.5, y=45.5, gnumb=9153\n",
      "9153 AGC  258535 :  [9153]\n",
      "1, 0, x=45.5, y=45.5, gnumb=9154\n",
      "9154 AGC  741416 :  [9154]\n",
      "merging 7331 with 9145\n",
      "merging 9146 with 6483\n",
      "merging 9148 with 6546\n",
      "merging 8851 with 9152\n",
      "length of clean_a100 before adding UGC gal =  9150\n",
      "length of clean_a100 after adding UGC gal =  9151\n"
     ]
    },
    {
     "data": {
      "image/png": "[encoded data removed]",
      "text/plain": [
       "<Figure size 864x504 with 12 Axes>"
      ]
     },
     "metadata": {
      "needs_background": "light"
     },
     "output_type": "display_data"
    }
   ],
   "source": [
    "# running again with check_new_a100 uncommented in runall\n",
    "os.chdir('/home/rfinn/research/Virgo/supersample/')\n",
    "%run ~/github/Virgo/programs/clean_kitchen_sink.py --evcc\n",
    "plt.show()"
   ]
  },
  {
   "cell_type": "markdown",
   "metadata": {},
   "source": [
    "### Then update clean_new_a100 sources and update indices of AGC-only sources that need to be merged\n",
    "\n",
    "* can uncomment check_new_a100 when done\n",
    "* you get the indices from the cutout images (and the printout of which images are in FOV, if text overlaps or is hard to read)\n",
    "* uncomment the rest of runall, and comment out check_new_a100\n",
    "* Then run again\n"
   ]
  },
  {
   "cell_type": "code",
   "execution_count": 57,
   "metadata": {
    "scrolled": true
   },
   "outputs": [
    {
     "name": "stdout",
     "output_type": "stream",
     "text": [
      "number of A100-only before cleaning =  47\n",
      "number of duplicates =  1\n",
      "AGC-only galaxies with duplicate entries\n",
      "AGC \n",
      "----\n",
      "5844\n",
      "\tdouble entry for AGC  8276\n",
      "\tdouble entry for AGC  7227\n",
      "\tdouble entry for AGC  223771\n",
      "\tdouble entry for AGC  5020\n",
      "\tdouble entry for AGC  5078\n",
      "\tdouble entry for AGC  5522\n",
      "\tdouble entry for AGC  5844\n",
      "\tdouble entry for AGC  5844\n",
      "\tdouble entry for AGC  5898\n",
      "\tdouble entry for AGC  6300\n",
      "\tdouble entry for AGC  7170\n",
      "\tdouble entry for AGC  7547\n",
      "\tdouble entry for AGC  9991\n",
      "\tdouble entry for AGC  202240\n",
      "\tdouble entry for AGC  211006\n",
      "\tdouble entry for AGC  213175\n",
      "\tdouble entry for AGC  213312\n",
      "\tdouble entry for AGC  214730\n",
      "\tdouble entry for AGC  220432\n",
      "\tdouble entry for AGC  220616\n",
      "\tdouble entry for AGC  220863\n",
      "\tdouble entry for AGC  220865\n",
      "\tdouble entry for AGC  222214\n",
      "\tdouble entry for AGC  222671\n",
      "\tdouble entry for AGC  224236\n",
      "\tdouble entry for AGC  226606\n",
      "\tdouble entry for AGC  229200\n",
      "\tdouble entry for AGC  232162\n",
      "\tdouble entry for AGC  233575\n",
      "\tdouble entry for AGC  238771\n",
      "\tdouble entry for AGC  240021\n",
      "\tdouble entry for AGC  241947\n",
      "\tdouble entry for AGC  722731\n",
      "\tdouble entry for AGC  733735\n",
      "\tdouble entry for AGC  742125\n",
      "number of A100-only after removing duplicates =  12\n",
      "A100-only galaxies are:   AGC  \n",
      "------\n",
      "  5637\n",
      "  8290\n",
      "  8363\n",
      "  8630\n",
      "192950\n",
      "201970\n",
      "202044\n",
      "208736\n",
      "223361\n",
      "224219\n",
      "258535\n",
      "741416\n",
      "merging 7330 with 9143\n",
      "merging 9144 with 6482\n",
      "merging 9146 with 6545\n",
      "merging 8850 with 9150\n",
      "length of clean_a100 before adding UGC gal =  9150\n",
      "length of clean_a100 after adding UGC gal =  9151\n"
     ]
    }
   ],
   "source": [
    "os.chdir('/home/rfinn/research/Virgo/supersample/')\n",
    "%run ~/github/Virgo/programs/clean_kitchen_sink.py --evcc\n"
   ]
  },
  {
   "cell_type": "code",
   "execution_count": 118,
   "metadata": {
    "scrolled": true
   },
   "outputs": [
    {
     "name": "stdout",
     "output_type": "stream",
     "text": [
      "number of A100-only before cleaning =  47\n",
      "number of duplicates =  1\n",
      "AGC-only galaxies with duplicate entries\n",
      "AGC \n",
      "----\n",
      "5844\n",
      "\tdouble entry for AGC  8276\n",
      "\tdouble entry for AGC  7227\n",
      "\tdouble entry for AGC  223771\n",
      "\tdouble entry for AGC  5020\n",
      "\tdouble entry for AGC  5078\n",
      "\tdouble entry for AGC  5522\n",
      "\tdouble entry for AGC  5844\n",
      "\tdouble entry for AGC  5844\n",
      "\tdouble entry for AGC  5898\n",
      "\tdouble entry for AGC  6300\n",
      "\tdouble entry for AGC  7170\n",
      "\tdouble entry for AGC  7547\n",
      "\tdouble entry for AGC  9991\n",
      "\tdouble entry for AGC  202240\n",
      "\tdouble entry for AGC  211006\n",
      "\tdouble entry for AGC  213175\n",
      "\tdouble entry for AGC  213312\n",
      "\tdouble entry for AGC  214730\n",
      "\tdouble entry for AGC  220432\n",
      "\tdouble entry for AGC  220616\n",
      "\tdouble entry for AGC  220863\n",
      "\tdouble entry for AGC  220865\n",
      "\tdouble entry for AGC  222214\n",
      "\tdouble entry for AGC  222671\n",
      "\tdouble entry for AGC  224236\n",
      "\tdouble entry for AGC  226606\n",
      "\tdouble entry for AGC  229200\n",
      "\tdouble entry for AGC  232162\n",
      "\tdouble entry for AGC  233575\n",
      "\tdouble entry for AGC  238771\n",
      "\tdouble entry for AGC  240021\n",
      "\tdouble entry for AGC  241947\n",
      "\tdouble entry for AGC  722731\n",
      "\tdouble entry for AGC  733735\n",
      "\tdouble entry for AGC  742125\n",
      "number of A100-only after removing duplicates =  12\n",
      "A100-only galaxies are:   AGC  \n",
      "------\n",
      "  5637\n",
      "  8290\n",
      "  8363\n",
      "  8630\n",
      "192950\n",
      "201970\n",
      "202044\n",
      "208736\n",
      "223361\n",
      "224219\n",
      "258535\n",
      "741416\n",
      "merging 7330 with 9143\n",
      "merging 9144 with 6482\n",
      "merging 9146 with 6545\n",
      "merging 8850 with 9150\n",
      "length of clean_a100 before adding UGC gal =  9150\n",
      "length of clean_a100 after adding UGC gal =  9151\n"
     ]
    }
   ],
   "source": [
    "os.chdir('/home/rfinn/research/Virgo/supersample/')\n",
    "%run ~/github/Virgo/programs/clean_kitchen_sink.py --evcc"
   ]
  },
  {
   "cell_type": "code",
   "execution_count": 124,
   "metadata": {},
   "outputs": [
    {
     "name": "stdout",
     "output_type": "stream",
     "text": [
      "float64\n",
      "float64\n"
     ]
    }
   ],
   "source": [
    "print(c.clean_kitchen['RAtemp'].dtype)\n",
    "print(c.clean_a100['RA'].dtype)\n"
   ]
  },
  {
   "cell_type": "code",
   "execution_count": 131,
   "metadata": {},
   "outputs": [
    {
     "name": "stdout",
     "output_type": "stream",
     "text": [
      ">f8\n",
      ">f8\n",
      ">f4\n"
     ]
    }
   ],
   "source": []
  },
  {
   "cell_type": "code",
   "execution_count": 128,
   "metadata": {},
   "outputs": [
    {
     "name": "stdout",
     "output_type": "stream",
     "text": [
      ">f8\n",
      ">f8\n"
     ]
    }
   ],
   "source": [
    "t = Table.read('/home/rfinn/research/Virgo/supersample/vf_clean_sample_v1.fits')\n",
    "print(n.clean_a100['RA'].dtype)\n",
    "print(t['RA'].dtype)"
   ]
  },
  {
   "cell_type": "markdown",
   "metadata": {},
   "source": [
    "# 4. Match to external catalogs\n",
    "\n",
    "* clean_kitchen_sink makes an ipac table in Virgo/supersample called clean_sample_v1.txt\n",
    "* this has 9154 sources\n",
    "\n",
    "## Match catalog to z0MGS\n",
    "* upload this to IRSA https://irsa.ipac.caltech.edu/data/WISE/z0MGS/overview.html\n",
    "  * catalog search Tool\n",
    "  * z0MGS DR1 (not 7.5 arcsec Simple Index)\n",
    "  * gets here https://irsa.ipac.caltech.edu/cgi-bin/Gator/nph-dd\n",
    "  * multi-object search\n",
    "    * 30 arcsec\n",
    "    * 1-to-1 match\n",
    "    * run query\n",
    "    * 9156 sources found (that's how many are in input table)\n",
    "  * shows results, then click save icon\n",
    "    * save as ipac table.  \n",
    "    ```\n",
    "    cd ~/research/Virgo/tables\n",
    "    mv ~/Downloads/irsa_catalog_search_results_tbl.tbl vf_v1_z0mgs_30arcsec_102820.tbl\n",
    "    ```\n",
    "    * NOTE: we used 30 arcsec last time...\n",
    "  * update filename in write_subtables, get_z0MGS_flag()\n",
    "  \n",
    "## Match to unWISE (now served by IRSA!)\n",
    "\n",
    "* upload table to IRSA\n",
    "  * multi-object search\n",
    "  * 10 arcsec\n",
    "  * 1-to-1 match\n",
    "* save results\n",
    "```\n",
    "mv ~/Downloads/irsa_catalog_search_results_tbl.tbl vf_north_v1_unwise_10arcsec_20201205.tbl\n",
    "```\n",
    "* NOTE - this might be the point source catalog, not the extended catalog, in which case it's not useful for Virgo\n",
    "\n",
    "\n",
    "* Instead, I matched to the unwise file from v0.  this doesn't deal with objects that have multiple matches.\n",
    "\n",
    "## Match to AllWISE (not using this yet)\n",
    "* upload table to IRSA, AllWISE Source Catalog\n",
    "    * multi-object search\n",
    "    * 30 arcsec\n",
    "    * 1-to-1 match\n",
    "    * run query\n",
    "    * 9156 sources found (that's how many are in input table)\n",
    "  * shows results, then click save icon\n",
    "    * save as ipac table.  \n",
    "    ```\n",
    "    cd ~/research/Virgo/tables\n",
    "    mv ~/Downloads/irsa_catalog_search_results_tbl.tbl vf_north_v1_allwise_30arcsec_102820.tbl\n",
    "    ```\n",
    "    \n",
    "## Match to WISE All-sky (not using this yet)\n",
    "* upload table to IRSA, AllWISE Source Catalog\n",
    "    * multi-object search\n",
    "    * 30 arcsec\n",
    "    * 1-to-1 match\n",
    "    * run query\n",
    "    * 9156 sources found (that's how many are in input table)\n",
    "  * shows results, then click save icon\n",
    "    * save as ipac table.  \n",
    "    ```\n",
    "    cd ~/research/Virgo/tables\n",
    "    mv ~/Downloads/irsa_catalog_search_results_tbl.tbl vf_v1_allwise_30arcsec_102820.tbl\n",
    "    ```\n",
    "    "
   ]
  },
  {
   "cell_type": "markdown",
   "metadata": {},
   "source": [
    "# 5. Updating NED names\n",
    "\n",
    "Ended up running the NED query again - good to do for new version\n",
    "\n",
    "* file with NED names ned_names_v1_evcc.fits\n",
    "  * the program should read this in the next time it is run\n",
    "  \n",
    "  \n",
    "### Update in Feb 23, 2021\n",
    "\n",
    "* some of the NED names are missing when they should be there\n",
    "* need to rerun get_NEDname.py and force it to query the results rather than use an existing file\n",
    "\n",
    "* will rewrite program to start from v1_main table rather than start mid-process as this did.\n",
    "  * use HL, NSA v0, or AGC names from the main table\n",
    "  * if all of those fail, then use RA and DEC in main table\n",
    "  \n",
    "* **I do this at the end of the notebook - skip ahead**"
   ]
  },
  {
   "cell_type": "code",
   "execution_count": 139,
   "metadata": {},
   "outputs": [
    {
     "name": "stdout",
     "output_type": "stream",
     "text": [
      "found file ned_names_v1_evcc.fits\n",
      "Using this instead of querying NED\n",
      "[False False False ... False False False]\n"
     ]
    }
   ],
   "source": [
    "os.chdir('/home/rfinn/research/Virgo/supersample/')\n",
    "%run ~/github/Virgo/programs/get_NEDname.py --evcc"
   ]
  },
  {
   "cell_type": "code",
   "execution_count": 142,
   "metadata": {},
   "outputs": [
    {
     "name": "stdout",
     "output_type": "stream",
     "text": [
      ">f8\n",
      ">f8\n",
      ">f8\n"
     ]
    }
   ],
   "source": [
    "os.chdir('/home/rfinn/research/Virgo/supersample/')\n",
    "t = Table.read('/home/rfinn/research/Virgo/supersample/vf_clean_sample_wNEDname_v1_evcc.fits')\n",
    "print(n.clean_a100['RA'].dtype)\n",
    "print(n.newtab['RA'].dtype)\n",
    "print(t['RA'].dtype)\n",
    "#n.newtab.dtype"
   ]
  },
  {
   "cell_type": "markdown",
   "metadata": {},
   "source": [
    "# 6. Check to see if all Gianluca's CO sources are in the catalog\n",
    "\n",
    "* Benedetta is cross-matching the vf_clean_sample_wNEDnames_v1_evcc.fits with GL's catalog.\n",
    "\n",
    "* from email on 9/22/2020\n",
    "\n",
    "```\n",
    "Hi Rose,\n",
    "\n",
    "thanks for having checked!\n",
    "\n",
    "here are the redshifts from NED : vr>500 km/s means z >~ 0.00166, so none of them are at vr>500 km/s, which is good! The drawback is that now we miss galaxies in the Virgo cluster. I personally find it a bit weird since we are specifically building a catalog of galaxies around Virgo, but if we explain our selection criteria maybe it should be convincing.\n",
    "\n",
    "cheers\n",
    "\n",
    "gianluca\n",
    "\n",
    "1  | |IC 3094                   | -0.000530|   \n",
    "2  | |IC 3476                   | -0.000564|   \n",
    "3  | |MESSIER 059               |  0.001558|   \n",
    "4  | |MESSIER 086               | -0.000747|   \n",
    "5  | |MESSIER 089               |  0.001134|   \n",
    "6  | |MESSIER 090               | -0.000784|   \n",
    "7  | |MESSIER 091               |  0.001621|   \n",
    "8  | |MESSIER 098               | -0.000474|   \n",
    "9  | |NGC 4178                  |  0.001248|   \n",
    "10 | |NGC 4208                  | -0.000270|   \n",
    "11 | |NGC 4216                  |  0.000437|   \n",
    "12 | |NGC 4222                  |  0.000767|   \n",
    "13 | |NGC 4294                  |  0.001184|   \n",
    "14 | |NGC 4312                  |  0.000510|   \n",
    "15 | |NGC 4396                  | -0.000427|   \n",
    "16 | |NGC 4402                  |  0.000774|   \n",
    "17 | |NGC 4407                  |  0.000340|   \n",
    "18 | |NGC 4419                  | -0.000871|   \n",
    "19 | |NGC 4424                  |  0.001458|   \n",
    "20 | |NGC 4438                  |  0.000237|   \n",
    "21 | |NGC 4445                  |  0.001181|   \n",
    "22 | |NGC 4550                  |  0.001531|   \n",
    "23 | |NGC 4634                  |  0.000991|    \n",
    "\n",
    "```\n",
    "\n",
    "Benedetta checked this and we are ok except for IC 3094, which is not actually in Gianluca's catalog.\n",
    "\n",
    "### DONE\n",
    "\n",
    "# Running fix_CO_NEDname.py \n",
    "\n",
    "* this will query ned for each galaxy to get the official NEDname\n",
    "* then we can match to CO catalog\n",
    "* I'm using the updated file with 245 sources"
   ]
  },
  {
   "cell_type": "code",
   "execution_count": 272,
   "metadata": {
    "scrolled": true
   },
   "outputs": [
    {
     "name": "stdout",
     "output_type": "stream",
     "text": [
      "cheating on SHOC206b\n"
     ]
    },
    {
     "data": {
      "text/plain": [
       "<Figure size 432x288 with 0 Axes>"
      ]
     },
     "metadata": {},
     "output_type": "display_data"
    }
   ],
   "source": [
    "%run ~/github/Virgo/programs/fix_CO_NEDname.py"
   ]
  },
  {
   "cell_type": "code",
   "execution_count": 143,
   "metadata": {
    "scrolled": true
   },
   "outputs": [
    {
     "name": "stderr",
     "output_type": "stream",
     "text": [
      "/home/rfinn/anaconda3/lib/python3.7/site-packages/astropy/table/column.py:984: RuntimeWarning: invalid value encountered in greater\n",
      "  result = getattr(super(), op)(other)\n"
     ]
    },
    {
     "name": "stdout",
     "output_type": "stream",
     "text": [
      "CO sources with no match in mastertable:\n",
      "        NEDname                source_name         VH \n",
      "------------------------ ----------------------- -----\n",
      "                NGC 4214                 NGC4214 291.0\n",
      "                NGC 4244                 NGC4244 244.0\n",
      "SDSS J120958.40+462726.6 SDSSJ120958.40+462726.6 265.0\n",
      "number of galaxies with CO matches =  242\n",
      "number of duplicates =  2\n",
      "CO sources that are matched to multiple galaxies in the mastertable:\n",
      " NEDname \n",
      "---------\n",
      "      N/A\n",
      "UGC 10770\n",
      "number of duplicates =  10\n",
      "Halpha sources that are listed multiple times in the halpha file:\n",
      "  VFID  \n",
      "--------\n",
      "VFID2060\n",
      "VFID2076\n",
      "VFID2080\n",
      "VFID2089\n",
      "VFID2095\n",
      "VFID2136\n",
      "VFID2141\n",
      "VFID2145\n",
      "VFID2154\n",
      "VFID2157\n",
      "number of lines in ha file after deleting rows =  100\n",
      "number of columns after removing cols =  224\n",
      "calculating snr\n"
     ]
    },
    {
     "name": "stderr",
     "output_type": "stream",
     "text": [
      "/home/rfinn/github/Virgo/programs/write_subtables.py:800: RuntimeWarning: invalid value encountered in true_divide\n",
      "  self.haflag = ((self.hatable['HF_R24']/self.hatable['HF_R24_ERR']) > 1.)\n",
      "/home/rfinn/anaconda3/lib/python3.7/site-packages/astropy/table/column.py:984: RuntimeWarning: invalid value encountered in greater\n",
      "  result = getattr(super(), op)(other)\n"
     ]
    },
    {
     "name": "stdout",
     "output_type": "stream",
     "text": [
      "setting HAflag\n",
      "writing hafile\n",
      "finished writing hafile\n",
      "number of galaxies with D25 measurement = 5732 (0.84%)\n",
      "number of galaxies using NSA V1 Petro TH90 = 474 (0.07%)\n",
      "number of galaxies using NSA V1 Petro TH90 = 56 (0.01%)\n",
      "number of galaxies using A100 sdss Petro TH90 = 262 (0.04%)\n",
      "number of galaxies with no size measurement = 273 (0.04%)\n",
      "adjusting radius for  --  galaxies based on legacy images\n",
      "number of galaxies with updated values of radius =  146\n",
      "CALCULATING SFRS\n",
      "1.1938664808532806\n"
     ]
    },
    {
     "name": "stderr",
     "output_type": "stream",
     "text": [
      "/home/rfinn/github/Virgo/programs/write_subtables.py:453: RuntimeWarning: divide by zero encountered in log10\n",
      "  self.logMHI = np.log10(2.3566e5*self.cat['HIflux'])+2*np.log10(self.cat['Dist']) #Dist^2\n",
      "/home/rfinn/github/Virgo/programs/write_subtables.py:479: RuntimeWarning: divide by zero encountered in log10\n",
      "  logD25kpc=np.log10(D25obskpc.value) + 0.35*np.log10(self.cat['expAB_r'])\n",
      "/home/rfinn/anaconda3/lib/python3.7/site-packages/astropy/table/column.py:984: RuntimeWarning: invalid value encountered in less\n",
      "  result = getattr(super(), op)(other)\n",
      "/home/rfinn/github/Virgo/programs/write_subtables.py:509: RuntimeWarning: invalid value encountered in subtract\n",
      "  self.HIdef_jones_bytype[flag] = 6.44 + 1.04*(2*logD25kpc[flag])- self.logMHI[flag]\n",
      "/home/rfinn/github/Virgo/programs/write_subtables.py:511: RuntimeWarning: invalid value encountered in subtract\n",
      "  self.HIdef_jones_bytype[flag] = 7.53 + .81*(2*logD25kpc[flag]) - self.logMHI[flag]\n",
      "/home/rfinn/anaconda3/lib/python3.7/site-packages/astropy/table/column.py:984: RuntimeWarning: invalid value encountered in less_equal\n",
      "  result = getattr(super(), op)(other)\n",
      "/home/rfinn/anaconda3/lib/python3.7/site-packages/astropy/table/column.py:984: RuntimeWarning: invalid value encountered in greater_equal\n",
      "  result = getattr(super(), op)(other)\n",
      "/home/rfinn/github/Virgo/programs/write_subtables.py:513: RuntimeWarning: invalid value encountered in subtract\n",
      "  self.HIdef_jones_bytype[flag] = 7.14 + .93*(2*logD25kpc[flag]) - self.logMHI[flag]\n",
      "/home/rfinn/github/Virgo/programs/write_subtables.py:524: RuntimeWarning: invalid value encountered in subtract\n",
      "  self.HIdef_bos = logh2MHIref - self.logMHI\n"
     ]
    },
    {
     "name": "stdout",
     "output_type": "stream",
     "text": [
      "number of lines in z0MGS cat =  9151\n",
      "length of keepnorth_flag =  9151\n"
     ]
    },
    {
     "name": "stderr",
     "output_type": "stream",
     "text": [
      "WARNING: UnitsWarning: ''dex'' did not parse as fits unit: At col 0, Unit ''dex'' not supported by the FITS standard.  [astropy.units.core]\n",
      "WARNING: UnitsWarning: 'log(solMass)' did not parse as fits unit: 'log' is not a recognized function [astropy.units.core]\n",
      "WARNING: UnitsWarning: 'log(solMass/yr)' did not parse as fits unit: 'log' is not a recognized function [astropy.units.core]\n",
      "WARNING: Attribute `keywords` of type <class 'collections.OrderedDict'> cannot be added to FITS Header - skipping [astropy.io.fits.convenience]\n"
     ]
    },
    {
     "name": "stdout",
     "output_type": "stream",
     "text": [
      "Number in sample =  6797\n",
      "Number with CO data =  242\n",
      "Number with A100 data = 2336 (0.344)\n",
      "Number with z0MGS matches = 2375 (0.349)\n",
      "Number with steer17 matches = 1959 (0.288)\n",
      "Number with unwise matches = 6126 (0.901)\n",
      "Number with unWISE and NSA = 5240 (0.771)\n",
      "CO SOURCES\n",
      "\tNumber of CO sources in z0MGS = 236 (0.98)\n",
      "\tNumber of CO sources in Steer = 179 (0.74)\n",
      "\tNumber of CO sources in z0MGS+Steer = 179 (0.74)\n",
      "\tNumber of CO sources with unWISE and NSA = 228 (0.94)\n"
     ]
    },
    {
     "data": {
      "image/png": "[encoded data removed]",
      "text/plain": [
       "<Figure size 432x288 with 1 Axes>"
      ]
     },
     "metadata": {
      "needs_background": "light"
     },
     "output_type": "display_data"
    }
   ],
   "source": [
    "# commenting out get_unwise, because I'll have to match to new table\n",
    "os.chdir('/home/rfinn/research/Virgo/supersample/')\n",
    "%run ~/github/Virgo/programs/write_subtables.py --north \n",
    "c.runall()"
   ]
  },
  {
   "cell_type": "markdown",
   "metadata": {},
   "source": [
    "c.steer"
   ]
  },
  {
   "cell_type": "code",
   "execution_count": 95,
   "metadata": {},
   "outputs": [
    {
     "data": {
      "text/plain": [
       "['Type_NED',\n",
       " 'Dall_err',\n",
       " 'decNED',\n",
       " 'Dmedian',\n",
       " 'Num. D Measures',\n",
       " 'NEDname',\n",
       " 'raNED',\n",
       " 'zNED',\n",
       " 'Dmedian_Steer',\n",
       " 'Dmean',\n",
       " 'Dmin',\n",
       " 'Dall',\n",
       " 'Dmax',\n",
       " 'Dmean_Steer',\n",
       " 'Galaxy ID']"
      ]
     },
     "execution_count": 95,
     "metadata": {},
     "output_type": "execute_result"
    }
   ],
   "source": [
    "c.steer.colnames"
   ]
  },
  {
   "cell_type": "code",
   "execution_count": 94,
   "metadata": {},
   "outputs": [
    {
     "name": "stdout",
     "output_type": "stream",
     "text": [
      "(6797,)\n",
      "('', '', 0., 0., 0, '', 0., 0., 0., 0., 0., '', 0., 0., '')\n"
     ]
    }
   ],
   "source": [
    "print(t.shape)\n",
    "print(t[0])"
   ]
  },
  {
   "cell_type": "markdown",
   "metadata": {},
   "source": [
    "# 7. Check for multiple galaxies that point to the same NED name ##\n",
    "\n",
    "* One found, but this is a merging galaxy that we are keeping as two separate sources"
   ]
  },
  {
   "cell_type": "markdown",
   "metadata": {},
   "source": [
    "# More Checks/Fixes - Dec 2, 2020\n",
    "\n",
    "* After first pass through v1, JM found internal matches\n",
    "* We did an internal match with topcat and found two matches\n",
    "  * VFID 1732, VFID 1731\n",
    "    * remove VFID 1732 (187.18985, 44.864204)\n",
    "    * came from NSA v1 612235\n",
    "    * vr 527.5747\n",
    "    * not in virgo_check_sample_by_eye - must be added by EVCC catalog?\n",
    "    * checked with BV - this in NOT in the EVCC catalog that Benedetta sent, so how did it get added to our catalog?\n",
    "    * somehow this galaxy is getting added twice\n",
    "    * 1731 has vr=the HL vr\n",
    "    * 1732 has vr set to Vcosmic from BV's catalog\n",
    "    * very strange!\n",
    "    * retrace steps in the matching process to see\n",
    "    * problem is not with matching HL to Benedetta's catalog.\n",
    "    * FOUND IT - it is 9680 in virgo_check_sample_by_eye.  The NSA redshift is 527.57, so this made the catalog because of the NSA velocity, which is different from the NED recession velocity.  I think the easiest solution is to set the class = 0 in the virgo_check_sample_by_eye spreadsheet, which I did.  Then reconstruct the catalogs.\n",
    "  \n",
    "  * VFID 2479,2480 \n",
    "    * remove 2480, SDSSJ081736.81+352643.4\n",
    "    * has different hyperleda name but they are matched to the same \n",
    "    * updated in virgo_check_sample_by_eye - set class to zero\n",
    "    * this should get eliminated once I rebuild the catalogs\n",
    "      * clean_kitchen_sink.py\n",
    "      * write_subtables.py\n",
    "    \n",
    "  * need to find these in the original classification sheet and remove them.\n",
    "* Found a bunch of galaxies with NSAIDv0 of 999999\n",
    "  * they are listed as having a NSAv0 match\n",
    "  * I think this arises when adding evcc.\n",
    "  * The smart_kitchen_sink_v2_v1_evcc.fits has 215 columns, whereas smart_kitchen_sink_v2 has 351 columns.\n",
    "  * fixed this by changing matchthirdflag when calling getsmart.\n",
    "\n",
    "\n",
    "## Still to do:\n",
    "\n",
    "* match to steer catalog by position instead of NEDname\n",
    "* improve precision of RA and DEC\n",
    "* make sure all the basictable columns keep the same names, so RA and DEC should always be that and not rewritten"
   ]
  },
  {
   "cell_type": "code",
   "execution_count": null,
   "metadata": {},
   "outputs": [],
   "source": []
  },
  {
   "cell_type": "markdown",
   "metadata": {},
   "source": [
    "# 8. Make new version of sub-tables ##\n",
    "\n",
    "\n",
    "### Need to add code for Galaxies with updated radius measurements from by-eye\n",
    "\n",
    "* update input filename in write_subtables - masterfile (didn't update this the first time through)\n",
    "* I updated the function **get_radius** to do this!\n",
    "\n",
    "### Still to do\n",
    "\n",
    "* check for repeats of NED name (or any other id)\n",
    "  * use Benedetta's google spreadsheet file\n",
    "* update unwise - ask Dustin to match to the new version v1\n",
    "* use Gianluca's updated CO file with 245 galaxies (I'm currrently using an older one with 217)\n",
    "  * fixed\n",
    "  \n",
    "* cluging fix_program to replace SHOC206b with SHOC206a - need to make sure everyone is on board with this\n",
    "\n"
   ]
  },
  {
   "cell_type": "code",
   "execution_count": null,
   "metadata": {},
   "outputs": [],
   "source": [
    "# match to unwise\n",
    "# send catalog to Dustin Lang\n",
    "# just rematched to v0 catalog by RA/DEC"
   ]
  },
  {
   "cell_type": "code",
   "execution_count": 9,
   "metadata": {},
   "outputs": [
    {
     "name": "stdout",
     "output_type": "stream",
     "text": [
      "CO sources with no match in mastertable:\n",
      "        NEDname                source_name         VH \n",
      "------------------------ ----------------------- -----\n",
      "                NGC 4214                 NGC4214 291.0\n",
      "                NGC 4244                 NGC4244 244.0\n",
      "SDSS J120958.40+462726.6 SDSSJ120958.40+462726.6 265.0\n",
      "number of galaxies with CO matches =  242\n",
      "number of duplicates =  2\n",
      "CO sources that are matched to multiple galaxies in the mastertable:\n",
      " NEDname \n",
      "---------\n",
      "      N/A\n",
      "UGC 10770\n",
      "number of duplicates =  10\n",
      "Halpha sources that are listed multiple times in the halpha file:\n",
      "  VFID  \n",
      "--------\n",
      "VFID2060\n",
      "VFID2076\n",
      "VFID2080\n",
      "VFID2089\n",
      "VFID2095\n",
      "VFID2136\n",
      "VFID2141\n",
      "VFID2145\n",
      "VFID2154\n",
      "VFID2157\n",
      "number of lines in ha file after deleting rows =  100\n",
      "number of columns after removing cols =  224\n",
      "number of Halpha matches =  100\n",
      "reading in halpha v1 table  /home/rfinn/research/Virgo/halpha-tables-v1/halpha-26Feb2021.fits\n",
      "number of columns after removing cols =  224\n",
      "found halpha v1 match  VFID2837  \n"
     ]
    },
    {
     "name": "stderr",
     "output_type": "stream",
     "text": [
      "/home/rfinn/anaconda3/lib/python3.7/site-packages/astropy/table/table.py:1473: StringTruncateWarning: truncated right side string(s) longer than 8 character(s) during assignment\n",
      "  col[item] = val\n"
     ]
    },
    {
     "name": "stdout",
     "output_type": "stream",
     "text": [
      "found halpha v1 match  VFID2842  \n"
     ]
    },
    {
     "name": "stderr",
     "output_type": "stream",
     "text": [
      "/home/rfinn/anaconda3/lib/python3.7/site-packages/astropy/table/table.py:1473: StringTruncateWarning: truncated right side string(s) longer than 8 character(s) during assignment\n",
      "  col[item] = val\n"
     ]
    },
    {
     "name": "stdout",
     "output_type": "stream",
     "text": [
      "found halpha v1 match  VFID2853  \n"
     ]
    },
    {
     "name": "stderr",
     "output_type": "stream",
     "text": [
      "/home/rfinn/anaconda3/lib/python3.7/site-packages/astropy/table/table.py:1473: StringTruncateWarning: truncated right side string(s) longer than 8 character(s) during assignment\n",
      "  col[item] = val\n"
     ]
    },
    {
     "name": "stdout",
     "output_type": "stream",
     "text": [
      "found halpha v1 match  VFID2550  \n"
     ]
    },
    {
     "name": "stderr",
     "output_type": "stream",
     "text": [
      "/home/rfinn/anaconda3/lib/python3.7/site-packages/astropy/table/table.py:1473: StringTruncateWarning: truncated right side string(s) longer than 8 character(s) during assignment\n",
      "  col[item] = val\n"
     ]
    },
    {
     "name": "stdout",
     "output_type": "stream",
     "text": [
      "found halpha v1 match  VFID2552  \n"
     ]
    },
    {
     "name": "stderr",
     "output_type": "stream",
     "text": [
      "/home/rfinn/anaconda3/lib/python3.7/site-packages/astropy/table/table.py:1473: StringTruncateWarning: truncated right side string(s) longer than 8 character(s) during assignment\n",
      "  col[item] = val\n"
     ]
    },
    {
     "name": "stdout",
     "output_type": "stream",
     "text": [
      "found halpha v1 match  VFID2553  \n"
     ]
    },
    {
     "name": "stderr",
     "output_type": "stream",
     "text": [
      "/home/rfinn/anaconda3/lib/python3.7/site-packages/astropy/table/table.py:1473: StringTruncateWarning: truncated right side string(s) longer than 8 character(s) during assignment\n",
      "  col[item] = val\n"
     ]
    },
    {
     "name": "stdout",
     "output_type": "stream",
     "text": [
      "found halpha v1 match  VFID2560  \n"
     ]
    },
    {
     "name": "stderr",
     "output_type": "stream",
     "text": [
      "/home/rfinn/anaconda3/lib/python3.7/site-packages/astropy/table/table.py:1473: StringTruncateWarning: truncated right side string(s) longer than 8 character(s) during assignment\n",
      "  col[item] = val\n"
     ]
    },
    {
     "name": "stdout",
     "output_type": "stream",
     "text": [
      "found halpha v1 match  VFID6367  \n"
     ]
    },
    {
     "name": "stderr",
     "output_type": "stream",
     "text": [
      "/home/rfinn/anaconda3/lib/python3.7/site-packages/astropy/table/table.py:1473: StringTruncateWarning: truncated right side string(s) longer than 8 character(s) during assignment\n",
      "  col[item] = val\n"
     ]
    },
    {
     "name": "stdout",
     "output_type": "stream",
     "text": [
      "found halpha v1 match  VFID6389  \n"
     ]
    },
    {
     "name": "stderr",
     "output_type": "stream",
     "text": [
      "/home/rfinn/anaconda3/lib/python3.7/site-packages/astropy/table/table.py:1473: StringTruncateWarning: truncated right side string(s) longer than 8 character(s) during assignment\n",
      "  col[item] = val\n"
     ]
    },
    {
     "name": "stdout",
     "output_type": "stream",
     "text": [
      "found halpha v1 match  VFID6403  \n"
     ]
    },
    {
     "name": "stderr",
     "output_type": "stream",
     "text": [
      "/home/rfinn/anaconda3/lib/python3.7/site-packages/astropy/table/table.py:1473: StringTruncateWarning: truncated right side string(s) longer than 8 character(s) during assignment\n",
      "  col[item] = val\n"
     ]
    },
    {
     "name": "stdout",
     "output_type": "stream",
     "text": [
      "found halpha v1 match  VFID6409  \n"
     ]
    },
    {
     "name": "stderr",
     "output_type": "stream",
     "text": [
      "/home/rfinn/anaconda3/lib/python3.7/site-packages/astropy/table/table.py:1473: StringTruncateWarning: truncated right side string(s) longer than 8 character(s) during assignment\n",
      "  col[item] = val\n"
     ]
    },
    {
     "name": "stdout",
     "output_type": "stream",
     "text": [
      "found halpha v1 match  VFID6420  \n"
     ]
    },
    {
     "name": "stderr",
     "output_type": "stream",
     "text": [
      "/home/rfinn/anaconda3/lib/python3.7/site-packages/astropy/table/table.py:1473: StringTruncateWarning: truncated right side string(s) longer than 8 character(s) during assignment\n",
      "  col[item] = val\n"
     ]
    },
    {
     "name": "stdout",
     "output_type": "stream",
     "text": [
      "found halpha v1 match  VFID6437  \n"
     ]
    },
    {
     "name": "stderr",
     "output_type": "stream",
     "text": [
      "/home/rfinn/anaconda3/lib/python3.7/site-packages/astropy/table/table.py:1473: StringTruncateWarning: truncated right side string(s) longer than 8 character(s) during assignment\n",
      "  col[item] = val\n"
     ]
    },
    {
     "name": "stdout",
     "output_type": "stream",
     "text": [
      "found halpha v1 match  VFID6451  \n"
     ]
    },
    {
     "name": "stderr",
     "output_type": "stream",
     "text": [
      "/home/rfinn/anaconda3/lib/python3.7/site-packages/astropy/table/table.py:1473: StringTruncateWarning: truncated right side string(s) longer than 8 character(s) during assignment\n",
      "  col[item] = val\n"
     ]
    },
    {
     "name": "stdout",
     "output_type": "stream",
     "text": [
      "found halpha v1 match  VFID6454  \n"
     ]
    },
    {
     "name": "stderr",
     "output_type": "stream",
     "text": [
      "/home/rfinn/anaconda3/lib/python3.7/site-packages/astropy/table/table.py:1473: StringTruncateWarning: truncated right side string(s) longer than 8 character(s) during assignment\n",
      "  col[item] = val\n"
     ]
    },
    {
     "name": "stdout",
     "output_type": "stream",
     "text": [
      "found halpha v1 match  VFID6464  \n"
     ]
    },
    {
     "name": "stderr",
     "output_type": "stream",
     "text": [
      "/home/rfinn/anaconda3/lib/python3.7/site-packages/astropy/table/table.py:1473: StringTruncateWarning: truncated right side string(s) longer than 8 character(s) during assignment\n",
      "  col[item] = val\n"
     ]
    },
    {
     "name": "stdout",
     "output_type": "stream",
     "text": [
      "found halpha v1 match  VFID6480  \n"
     ]
    },
    {
     "name": "stderr",
     "output_type": "stream",
     "text": [
      "/home/rfinn/anaconda3/lib/python3.7/site-packages/astropy/table/table.py:1473: StringTruncateWarning: truncated right side string(s) longer than 8 character(s) during assignment\n",
      "  col[item] = val\n"
     ]
    },
    {
     "name": "stdout",
     "output_type": "stream",
     "text": [
      "found halpha v1 match  VFID2758  \n"
     ]
    },
    {
     "name": "stderr",
     "output_type": "stream",
     "text": [
      "/home/rfinn/anaconda3/lib/python3.7/site-packages/astropy/table/table.py:1473: StringTruncateWarning: truncated right side string(s) longer than 8 character(s) during assignment\n",
      "  col[item] = val\n"
     ]
    },
    {
     "name": "stdout",
     "output_type": "stream",
     "text": [
      "found halpha v1 match  VFID2759  \n"
     ]
    },
    {
     "name": "stderr",
     "output_type": "stream",
     "text": [
      "/home/rfinn/anaconda3/lib/python3.7/site-packages/astropy/table/table.py:1473: StringTruncateWarning: truncated right side string(s) longer than 8 character(s) during assignment\n",
      "  col[item] = val\n"
     ]
    },
    {
     "name": "stdout",
     "output_type": "stream",
     "text": [
      "found halpha v1 match  VFID2762  \n"
     ]
    },
    {
     "name": "stderr",
     "output_type": "stream",
     "text": [
      "/home/rfinn/anaconda3/lib/python3.7/site-packages/astropy/table/table.py:1473: StringTruncateWarning: truncated right side string(s) longer than 8 character(s) during assignment\n",
      "  col[item] = val\n"
     ]
    },
    {
     "name": "stdout",
     "output_type": "stream",
     "text": [
      "found halpha v1 match  VFID2766  \n"
     ]
    },
    {
     "name": "stderr",
     "output_type": "stream",
     "text": [
      "/home/rfinn/anaconda3/lib/python3.7/site-packages/astropy/table/table.py:1473: StringTruncateWarning: truncated right side string(s) longer than 8 character(s) during assignment\n",
      "  col[item] = val\n"
     ]
    },
    {
     "name": "stdout",
     "output_type": "stream",
     "text": [
      "found halpha v1 match  VFID3440  \n"
     ]
    },
    {
     "name": "stderr",
     "output_type": "stream",
     "text": [
      "/home/rfinn/anaconda3/lib/python3.7/site-packages/astropy/table/table.py:1473: StringTruncateWarning: truncated right side string(s) longer than 8 character(s) during assignment\n",
      "  col[item] = val\n"
     ]
    },
    {
     "name": "stdout",
     "output_type": "stream",
     "text": [
      "found halpha v1 match  VFID3451  \n"
     ]
    },
    {
     "name": "stderr",
     "output_type": "stream",
     "text": [
      "/home/rfinn/anaconda3/lib/python3.7/site-packages/astropy/table/table.py:1473: StringTruncateWarning: truncated right side string(s) longer than 8 character(s) during assignment\n",
      "  col[item] = val\n"
     ]
    },
    {
     "name": "stdout",
     "output_type": "stream",
     "text": [
      "found halpha v1 match  VFID2655  \n"
     ]
    },
    {
     "name": "stderr",
     "output_type": "stream",
     "text": [
      "/home/rfinn/anaconda3/lib/python3.7/site-packages/astropy/table/table.py:1473: StringTruncateWarning: truncated right side string(s) longer than 8 character(s) during assignment\n",
      "  col[item] = val\n"
     ]
    },
    {
     "name": "stdout",
     "output_type": "stream",
     "text": [
      "found halpha v1 match  VFID2659  \n"
     ]
    },
    {
     "name": "stderr",
     "output_type": "stream",
     "text": [
      "/home/rfinn/anaconda3/lib/python3.7/site-packages/astropy/table/table.py:1473: StringTruncateWarning: truncated right side string(s) longer than 8 character(s) during assignment\n",
      "  col[item] = val\n"
     ]
    },
    {
     "name": "stdout",
     "output_type": "stream",
     "text": [
      "found halpha v1 match  VFID2660  \n"
     ]
    },
    {
     "name": "stderr",
     "output_type": "stream",
     "text": [
      "/home/rfinn/anaconda3/lib/python3.7/site-packages/astropy/table/table.py:1473: StringTruncateWarning: truncated right side string(s) longer than 8 character(s) during assignment\n",
      "  col[item] = val\n"
     ]
    },
    {
     "name": "stdout",
     "output_type": "stream",
     "text": [
      "found halpha v1 match  VFID2662  \n"
     ]
    },
    {
     "name": "stderr",
     "output_type": "stream",
     "text": [
      "/home/rfinn/anaconda3/lib/python3.7/site-packages/astropy/table/table.py:1473: StringTruncateWarning: truncated right side string(s) longer than 8 character(s) during assignment\n",
      "  col[item] = val\n"
     ]
    },
    {
     "name": "stdout",
     "output_type": "stream",
     "text": [
      "found halpha v1 match  VFID2673  \n"
     ]
    },
    {
     "name": "stderr",
     "output_type": "stream",
     "text": [
      "/home/rfinn/anaconda3/lib/python3.7/site-packages/astropy/table/table.py:1473: StringTruncateWarning: truncated right side string(s) longer than 8 character(s) during assignment\n",
      "  col[item] = val\n"
     ]
    },
    {
     "name": "stdout",
     "output_type": "stream",
     "text": [
      "found halpha v1 match  VFID3608  \n"
     ]
    },
    {
     "name": "stderr",
     "output_type": "stream",
     "text": [
      "/home/rfinn/anaconda3/lib/python3.7/site-packages/astropy/table/table.py:1473: StringTruncateWarning: truncated right side string(s) longer than 8 character(s) during assignment\n",
      "  col[item] = val\n"
     ]
    },
    {
     "name": "stdout",
     "output_type": "stream",
     "text": [
      "found halpha v1 match  VFID3610  \n"
     ]
    },
    {
     "name": "stderr",
     "output_type": "stream",
     "text": [
      "/home/rfinn/anaconda3/lib/python3.7/site-packages/astropy/table/table.py:1473: StringTruncateWarning: truncated right side string(s) longer than 8 character(s) during assignment\n",
      "  col[item] = val\n"
     ]
    },
    {
     "name": "stdout",
     "output_type": "stream",
     "text": [
      "found halpha v1 match  VFID2980  \n"
     ]
    },
    {
     "name": "stderr",
     "output_type": "stream",
     "text": [
      "/home/rfinn/anaconda3/lib/python3.7/site-packages/astropy/table/table.py:1473: StringTruncateWarning: truncated right side string(s) longer than 8 character(s) during assignment\n",
      "  col[item] = val\n"
     ]
    },
    {
     "name": "stdout",
     "output_type": "stream",
     "text": [
      "found halpha v1 match  VFID3272  \n"
     ]
    },
    {
     "name": "stderr",
     "output_type": "stream",
     "text": [
      "/home/rfinn/anaconda3/lib/python3.7/site-packages/astropy/table/table.py:1473: StringTruncateWarning: truncated right side string(s) longer than 8 character(s) during assignment\n",
      "  col[item] = val\n"
     ]
    },
    {
     "name": "stdout",
     "output_type": "stream",
     "text": [
      "found halpha v1 match  VFID2665  \n"
     ]
    },
    {
     "name": "stderr",
     "output_type": "stream",
     "text": [
      "/home/rfinn/anaconda3/lib/python3.7/site-packages/astropy/table/table.py:1473: StringTruncateWarning: truncated right side string(s) longer than 8 character(s) during assignment\n",
      "  col[item] = val\n"
     ]
    },
    {
     "name": "stdout",
     "output_type": "stream",
     "text": [
      "found halpha v1 match  VFID2674  \n"
     ]
    },
    {
     "name": "stderr",
     "output_type": "stream",
     "text": [
      "/home/rfinn/anaconda3/lib/python3.7/site-packages/astropy/table/table.py:1473: StringTruncateWarning: truncated right side string(s) longer than 8 character(s) during assignment\n",
      "  col[item] = val\n"
     ]
    },
    {
     "name": "stdout",
     "output_type": "stream",
     "text": [
      "found halpha v1 match  VFID3519  \n"
     ]
    },
    {
     "name": "stderr",
     "output_type": "stream",
     "text": [
      "/home/rfinn/anaconda3/lib/python3.7/site-packages/astropy/table/table.py:1473: StringTruncateWarning: truncated right side string(s) longer than 8 character(s) during assignment\n",
      "  col[item] = val\n"
     ]
    },
    {
     "name": "stdout",
     "output_type": "stream",
     "text": [
      "found halpha v1 match  VFID3535  \n"
     ]
    },
    {
     "name": "stderr",
     "output_type": "stream",
     "text": [
      "/home/rfinn/anaconda3/lib/python3.7/site-packages/astropy/table/table.py:1473: StringTruncateWarning: truncated right side string(s) longer than 8 character(s) during assignment\n",
      "  col[item] = val\n",
      "/home/rfinn/anaconda3/lib/python3.7/site-packages/astropy/table/table.py:1473: StringTruncateWarning: truncated right side string(s) longer than 8 character(s) during assignment\n",
      "  col[item] = val\n"
     ]
    },
    {
     "name": "stdout",
     "output_type": "stream",
     "text": [
      "found halpha v1 match  VFID3177  \n"
     ]
    },
    {
     "name": "stderr",
     "output_type": "stream",
     "text": [
      "/home/rfinn/anaconda3/lib/python3.7/site-packages/astropy/table/table.py:1473: StringTruncateWarning: truncated right side string(s) longer than 8 character(s) during assignment\n",
      "  col[item] = val\n"
     ]
    },
    {
     "name": "stdout",
     "output_type": "stream",
     "text": [
      "found halpha v1 match  VFID1925  \n"
     ]
    },
    {
     "name": "stderr",
     "output_type": "stream",
     "text": [
      "/home/rfinn/anaconda3/lib/python3.7/site-packages/astropy/table/table.py:1473: StringTruncateWarning: truncated right side string(s) longer than 8 character(s) during assignment\n",
      "  col[item] = val\n"
     ]
    },
    {
     "name": "stdout",
     "output_type": "stream",
     "text": [
      "found halpha v1 match  VFID1935  \n"
     ]
    },
    {
     "name": "stderr",
     "output_type": "stream",
     "text": [
      "/home/rfinn/anaconda3/lib/python3.7/site-packages/astropy/table/table.py:1473: StringTruncateWarning: truncated right side string(s) longer than 8 character(s) during assignment\n",
      "  col[item] = val\n"
     ]
    },
    {
     "name": "stdout",
     "output_type": "stream",
     "text": [
      "found halpha v1 match  VFID1936  \n"
     ]
    },
    {
     "name": "stderr",
     "output_type": "stream",
     "text": [
      "/home/rfinn/anaconda3/lib/python3.7/site-packages/astropy/table/table.py:1473: StringTruncateWarning: truncated right side string(s) longer than 8 character(s) during assignment\n",
      "  col[item] = val\n"
     ]
    },
    {
     "name": "stdout",
     "output_type": "stream",
     "text": [
      "found halpha v1 match  VFID1941  \n"
     ]
    },
    {
     "name": "stderr",
     "output_type": "stream",
     "text": [
      "/home/rfinn/anaconda3/lib/python3.7/site-packages/astropy/table/table.py:1473: StringTruncateWarning: truncated right side string(s) longer than 8 character(s) during assignment\n",
      "  col[item] = val\n",
      "/home/rfinn/anaconda3/lib/python3.7/site-packages/astropy/table/table.py:1473: StringTruncateWarning: truncated right side string(s) longer than 8 character(s) during assignment\n",
      "  col[item] = val\n",
      "/home/rfinn/anaconda3/lib/python3.7/site-packages/astropy/table/table.py:1473: StringTruncateWarning: truncated right side string(s) longer than 8 character(s) during assignment\n",
      "  col[item] = val\n",
      "/home/rfinn/anaconda3/lib/python3.7/site-packages/astropy/table/table.py:1473: StringTruncateWarning: truncated right side string(s) longer than 8 character(s) during assignment\n",
      "  col[item] = val\n"
     ]
    },
    {
     "name": "stdout",
     "output_type": "stream",
     "text": [
      "found halpha v1 match  VFID5872  \n"
     ]
    },
    {
     "name": "stderr",
     "output_type": "stream",
     "text": [
      "/home/rfinn/anaconda3/lib/python3.7/site-packages/astropy/table/table.py:1473: StringTruncateWarning: truncated right side string(s) longer than 8 character(s) during assignment\n",
      "  col[item] = val\n",
      "/home/rfinn/anaconda3/lib/python3.7/site-packages/astropy/table/table.py:1473: StringTruncateWarning: truncated right side string(s) longer than 8 character(s) during assignment\n",
      "  col[item] = val\n",
      "/home/rfinn/anaconda3/lib/python3.7/site-packages/astropy/table/table.py:1473: StringTruncateWarning: truncated right side string(s) longer than 8 character(s) during assignment\n",
      "  col[item] = val\n",
      "/home/rfinn/anaconda3/lib/python3.7/site-packages/astropy/table/table.py:1473: StringTruncateWarning: truncated right side string(s) longer than 8 character(s) during assignment\n",
      "  col[item] = val\n",
      "/home/rfinn/anaconda3/lib/python3.7/site-packages/astropy/table/table.py:1473: StringTruncateWarning: truncated right side string(s) longer than 8 character(s) during assignment\n",
      "  col[item] = val\n",
      "/home/rfinn/anaconda3/lib/python3.7/site-packages/astropy/table/table.py:1473: StringTruncateWarning: truncated right side string(s) longer than 8 character(s) during assignment\n",
      "  col[item] = val\n"
     ]
    },
    {
     "name": "stdout",
     "output_type": "stream",
     "text": [
      "found halpha v1 match  VFID3494  \n"
     ]
    },
    {
     "name": "stderr",
     "output_type": "stream",
     "text": [
      "/home/rfinn/anaconda3/lib/python3.7/site-packages/astropy/table/table.py:1473: StringTruncateWarning: truncated right side string(s) longer than 8 character(s) during assignment\n",
      "  col[item] = val\n"
     ]
    },
    {
     "name": "stdout",
     "output_type": "stream",
     "text": [
      "found halpha v1 match  VFID3506  \n"
     ]
    },
    {
     "name": "stderr",
     "output_type": "stream",
     "text": [
      "/home/rfinn/anaconda3/lib/python3.7/site-packages/astropy/table/table.py:1473: StringTruncateWarning: truncated right side string(s) longer than 8 character(s) during assignment\n",
      "  col[item] = val\n"
     ]
    },
    {
     "name": "stdout",
     "output_type": "stream",
     "text": [
      "found halpha v1 match  VFID3507  \n"
     ]
    },
    {
     "name": "stderr",
     "output_type": "stream",
     "text": [
      "/home/rfinn/anaconda3/lib/python3.7/site-packages/astropy/table/table.py:1473: StringTruncateWarning: truncated right side string(s) longer than 8 character(s) during assignment\n",
      "  col[item] = val\n"
     ]
    },
    {
     "name": "stdout",
     "output_type": "stream",
     "text": [
      "found halpha v1 match  VFID4097  \n"
     ]
    },
    {
     "name": "stderr",
     "output_type": "stream",
     "text": [
      "/home/rfinn/anaconda3/lib/python3.7/site-packages/astropy/table/table.py:1473: StringTruncateWarning: truncated right side string(s) longer than 8 character(s) during assignment\n",
      "  col[item] = val\n"
     ]
    },
    {
     "name": "stdout",
     "output_type": "stream",
     "text": [
      "found halpha v1 match  VFID4107  \n"
     ]
    },
    {
     "name": "stderr",
     "output_type": "stream",
     "text": [
      "/home/rfinn/anaconda3/lib/python3.7/site-packages/astropy/table/table.py:1473: StringTruncateWarning: truncated right side string(s) longer than 8 character(s) during assignment\n",
      "  col[item] = val\n"
     ]
    },
    {
     "name": "stdout",
     "output_type": "stream",
     "text": [
      "found halpha v1 match  VFID2723  \n"
     ]
    },
    {
     "name": "stderr",
     "output_type": "stream",
     "text": [
      "/home/rfinn/anaconda3/lib/python3.7/site-packages/astropy/table/table.py:1473: StringTruncateWarning: truncated right side string(s) longer than 8 character(s) during assignment\n",
      "  col[item] = val\n"
     ]
    },
    {
     "name": "stdout",
     "output_type": "stream",
     "text": [
      "found halpha v1 match  VFID1554  \n"
     ]
    },
    {
     "name": "stderr",
     "output_type": "stream",
     "text": [
      "/home/rfinn/anaconda3/lib/python3.7/site-packages/astropy/table/table.py:1473: StringTruncateWarning: truncated right side string(s) longer than 8 character(s) during assignment\n",
      "  col[item] = val\n"
     ]
    },
    {
     "name": "stdout",
     "output_type": "stream",
     "text": [
      "found halpha v1 match  VFID6045  \n"
     ]
    },
    {
     "name": "stderr",
     "output_type": "stream",
     "text": [
      "/home/rfinn/anaconda3/lib/python3.7/site-packages/astropy/table/table.py:1473: StringTruncateWarning: truncated right side string(s) longer than 8 character(s) during assignment\n",
      "  col[item] = val\n"
     ]
    },
    {
     "name": "stdout",
     "output_type": "stream",
     "text": [
      "found halpha v1 match  VFID2517  \n"
     ]
    },
    {
     "name": "stderr",
     "output_type": "stream",
     "text": [
      "/home/rfinn/anaconda3/lib/python3.7/site-packages/astropy/table/table.py:1473: StringTruncateWarning: truncated right side string(s) longer than 8 character(s) during assignment\n",
      "  col[item] = val\n"
     ]
    },
    {
     "name": "stdout",
     "output_type": "stream",
     "text": [
      "found halpha v1 match  VFID2519  \n"
     ]
    },
    {
     "name": "stderr",
     "output_type": "stream",
     "text": [
      "/home/rfinn/anaconda3/lib/python3.7/site-packages/astropy/table/table.py:1473: StringTruncateWarning: truncated right side string(s) longer than 8 character(s) during assignment\n",
      "  col[item] = val\n"
     ]
    },
    {
     "name": "stdout",
     "output_type": "stream",
     "text": [
      "found halpha v1 match  VFID2522  \n"
     ]
    },
    {
     "name": "stderr",
     "output_type": "stream",
     "text": [
      "/home/rfinn/anaconda3/lib/python3.7/site-packages/astropy/table/table.py:1473: StringTruncateWarning: truncated right side string(s) longer than 8 character(s) during assignment\n",
      "  col[item] = val\n"
     ]
    },
    {
     "name": "stdout",
     "output_type": "stream",
     "text": [
      "found halpha v1 match  VFID2528  \n"
     ]
    },
    {
     "name": "stderr",
     "output_type": "stream",
     "text": [
      "/home/rfinn/anaconda3/lib/python3.7/site-packages/astropy/table/table.py:1473: StringTruncateWarning: truncated right side string(s) longer than 8 character(s) during assignment\n",
      "  col[item] = val\n"
     ]
    },
    {
     "name": "stdout",
     "output_type": "stream",
     "text": [
      "found halpha v1 match  VFID2996  \n"
     ]
    },
    {
     "name": "stderr",
     "output_type": "stream",
     "text": [
      "/home/rfinn/anaconda3/lib/python3.7/site-packages/astropy/table/table.py:1473: StringTruncateWarning: truncated right side string(s) longer than 8 character(s) during assignment\n",
      "  col[item] = val\n"
     ]
    },
    {
     "name": "stdout",
     "output_type": "stream",
     "text": [
      "found halpha v1 match  VFID2777  \n"
     ]
    },
    {
     "name": "stderr",
     "output_type": "stream",
     "text": [
      "/home/rfinn/anaconda3/lib/python3.7/site-packages/astropy/table/table.py:1473: StringTruncateWarning: truncated right side string(s) longer than 8 character(s) during assignment\n",
      "  col[item] = val\n"
     ]
    },
    {
     "name": "stdout",
     "output_type": "stream",
     "text": [
      "found halpha v1 match  VFID2786  \n"
     ]
    },
    {
     "name": "stderr",
     "output_type": "stream",
     "text": [
      "/home/rfinn/anaconda3/lib/python3.7/site-packages/astropy/table/table.py:1473: StringTruncateWarning: truncated right side string(s) longer than 8 character(s) during assignment\n",
      "  col[item] = val\n"
     ]
    },
    {
     "name": "stdout",
     "output_type": "stream",
     "text": [
      "found halpha v1 match  VFID2792  \n"
     ]
    },
    {
     "name": "stderr",
     "output_type": "stream",
     "text": [
      "/home/rfinn/anaconda3/lib/python3.7/site-packages/astropy/table/table.py:1473: StringTruncateWarning: truncated right side string(s) longer than 8 character(s) during assignment\n",
      "  col[item] = val\n"
     ]
    },
    {
     "name": "stdout",
     "output_type": "stream",
     "text": [
      "found halpha v1 match  VFID5821  \n"
     ]
    },
    {
     "name": "stderr",
     "output_type": "stream",
     "text": [
      "/home/rfinn/anaconda3/lib/python3.7/site-packages/astropy/table/table.py:1473: StringTruncateWarning: truncated right side string(s) longer than 8 character(s) during assignment\n",
      "  col[item] = val\n"
     ]
    },
    {
     "name": "stdout",
     "output_type": "stream",
     "text": [
      "found halpha v1 match  VFID5852  \n"
     ]
    },
    {
     "name": "stderr",
     "output_type": "stream",
     "text": [
      "/home/rfinn/anaconda3/lib/python3.7/site-packages/astropy/table/table.py:1473: StringTruncateWarning: truncated right side string(s) longer than 8 character(s) during assignment\n",
      "  col[item] = val\n"
     ]
    },
    {
     "name": "stdout",
     "output_type": "stream",
     "text": [
      "found halpha v1 match  VFID5854  \n"
     ]
    },
    {
     "name": "stderr",
     "output_type": "stream",
     "text": [
      "/home/rfinn/anaconda3/lib/python3.7/site-packages/astropy/table/table.py:1473: StringTruncateWarning: truncated right side string(s) longer than 8 character(s) during assignment\n",
      "  col[item] = val\n"
     ]
    },
    {
     "name": "stdout",
     "output_type": "stream",
     "text": [
      "found halpha v1 match  VFID2087  \n"
     ]
    },
    {
     "name": "stderr",
     "output_type": "stream",
     "text": [
      "/home/rfinn/anaconda3/lib/python3.7/site-packages/astropy/table/table.py:1473: StringTruncateWarning: truncated right side string(s) longer than 8 character(s) during assignment\n",
      "  col[item] = val\n"
     ]
    },
    {
     "name": "stdout",
     "output_type": "stream",
     "text": [
      "found halpha v1 match  VFID2100  \n"
     ]
    },
    {
     "name": "stderr",
     "output_type": "stream",
     "text": [
      "/home/rfinn/anaconda3/lib/python3.7/site-packages/astropy/table/table.py:1473: StringTruncateWarning: truncated right side string(s) longer than 8 character(s) during assignment\n",
      "  col[item] = val\n"
     ]
    },
    {
     "name": "stdout",
     "output_type": "stream",
     "text": [
      "found halpha v1 match  VFID2106  \n"
     ]
    },
    {
     "name": "stderr",
     "output_type": "stream",
     "text": [
      "/home/rfinn/anaconda3/lib/python3.7/site-packages/astropy/table/table.py:1473: StringTruncateWarning: truncated right side string(s) longer than 8 character(s) during assignment\n",
      "  col[item] = val\n"
     ]
    },
    {
     "name": "stdout",
     "output_type": "stream",
     "text": [
      "found halpha v1 match  VFID2116  \n"
     ]
    },
    {
     "name": "stderr",
     "output_type": "stream",
     "text": [
      "/home/rfinn/anaconda3/lib/python3.7/site-packages/astropy/table/table.py:1473: StringTruncateWarning: truncated right side string(s) longer than 8 character(s) during assignment\n",
      "  col[item] = val\n",
      "/home/rfinn/anaconda3/lib/python3.7/site-packages/astropy/table/table.py:1473: StringTruncateWarning: truncated right side string(s) longer than 8 character(s) during assignment\n",
      "  col[item] = val\n",
      "/home/rfinn/anaconda3/lib/python3.7/site-packages/astropy/table/table.py:1473: StringTruncateWarning: truncated right side string(s) longer than 8 character(s) during assignment\n",
      "  col[item] = val\n",
      "/home/rfinn/anaconda3/lib/python3.7/site-packages/astropy/table/table.py:1473: StringTruncateWarning: truncated right side string(s) longer than 8 character(s) during assignment\n",
      "  col[item] = val\n",
      "/home/rfinn/anaconda3/lib/python3.7/site-packages/astropy/table/table.py:1473: StringTruncateWarning: truncated right side string(s) longer than 8 character(s) during assignment\n",
      "  col[item] = val\n",
      "/home/rfinn/anaconda3/lib/python3.7/site-packages/astropy/table/table.py:1473: StringTruncateWarning: truncated right side string(s) longer than 8 character(s) during assignment\n",
      "  col[item] = val\n"
     ]
    },
    {
     "name": "stdout",
     "output_type": "stream",
     "text": [
      "found halpha v1 match  VFID2791  \n"
     ]
    },
    {
     "name": "stderr",
     "output_type": "stream",
     "text": [
      "/home/rfinn/anaconda3/lib/python3.7/site-packages/astropy/table/table.py:1473: StringTruncateWarning: truncated right side string(s) longer than 8 character(s) during assignment\n",
      "  col[item] = val\n",
      "/home/rfinn/anaconda3/lib/python3.7/site-packages/astropy/table/table.py:1473: StringTruncateWarning: truncated right side string(s) longer than 8 character(s) during assignment\n",
      "  col[item] = val\n",
      "/home/rfinn/anaconda3/lib/python3.7/site-packages/astropy/table/table.py:1473: StringTruncateWarning: truncated right side string(s) longer than 8 character(s) during assignment\n",
      "  col[item] = val\n",
      "/home/rfinn/anaconda3/lib/python3.7/site-packages/astropy/table/table.py:1473: StringTruncateWarning: truncated right side string(s) longer than 8 character(s) during assignment\n",
      "  col[item] = val\n"
     ]
    },
    {
     "name": "stdout",
     "output_type": "stream",
     "text": [
      "found halpha v1 match  VFID2566  \n"
     ]
    },
    {
     "name": "stderr",
     "output_type": "stream",
     "text": [
      "/home/rfinn/anaconda3/lib/python3.7/site-packages/astropy/table/table.py:1473: StringTruncateWarning: truncated right side string(s) longer than 8 character(s) during assignment\n",
      "  col[item] = val\n"
     ]
    },
    {
     "name": "stdout",
     "output_type": "stream",
     "text": [
      "found halpha v1 match  VFID2237  \n"
     ]
    },
    {
     "name": "stderr",
     "output_type": "stream",
     "text": [
      "/home/rfinn/anaconda3/lib/python3.7/site-packages/astropy/table/table.py:1473: StringTruncateWarning: truncated right side string(s) longer than 8 character(s) during assignment\n",
      "  col[item] = val\n"
     ]
    },
    {
     "name": "stdout",
     "output_type": "stream",
     "text": [
      "found halpha v1 match  VFID3247  \n"
     ]
    },
    {
     "name": "stderr",
     "output_type": "stream",
     "text": [
      "/home/rfinn/anaconda3/lib/python3.7/site-packages/astropy/table/table.py:1473: StringTruncateWarning: truncated right side string(s) longer than 8 character(s) during assignment\n",
      "  col[item] = val\n"
     ]
    },
    {
     "name": "stdout",
     "output_type": "stream",
     "text": [
      "found halpha v1 match  VFID3254  \n"
     ]
    },
    {
     "name": "stderr",
     "output_type": "stream",
     "text": [
      "/home/rfinn/anaconda3/lib/python3.7/site-packages/astropy/table/table.py:1473: StringTruncateWarning: truncated right side string(s) longer than 8 character(s) during assignment\n",
      "  col[item] = val\n"
     ]
    },
    {
     "name": "stdout",
     "output_type": "stream",
     "text": [
      "found halpha v1 match  VFID3261  \n"
     ]
    },
    {
     "name": "stderr",
     "output_type": "stream",
     "text": [
      "/home/rfinn/anaconda3/lib/python3.7/site-packages/astropy/table/table.py:1473: StringTruncateWarning: truncated right side string(s) longer than 8 character(s) during assignment\n",
      "  col[item] = val\n"
     ]
    },
    {
     "name": "stdout",
     "output_type": "stream",
     "text": [
      "found halpha v1 match  VFID3292  \n"
     ]
    },
    {
     "name": "stderr",
     "output_type": "stream",
     "text": [
      "/home/rfinn/anaconda3/lib/python3.7/site-packages/astropy/table/table.py:1473: StringTruncateWarning: truncated right side string(s) longer than 8 character(s) during assignment\n",
      "  col[item] = val\n"
     ]
    },
    {
     "name": "stdout",
     "output_type": "stream",
     "text": [
      "found halpha v1 match  VFID4149  \n"
     ]
    },
    {
     "name": "stderr",
     "output_type": "stream",
     "text": [
      "/home/rfinn/anaconda3/lib/python3.7/site-packages/astropy/table/table.py:1473: StringTruncateWarning: truncated right side string(s) longer than 8 character(s) during assignment\n",
      "  col[item] = val\n"
     ]
    },
    {
     "name": "stdout",
     "output_type": "stream",
     "text": [
      "found halpha v1 match  VFID4180  \n"
     ]
    },
    {
     "name": "stderr",
     "output_type": "stream",
     "text": [
      "/home/rfinn/anaconda3/lib/python3.7/site-packages/astropy/table/table.py:1473: StringTruncateWarning: truncated right side string(s) longer than 8 character(s) during assignment\n",
      "  col[item] = val\n"
     ]
    },
    {
     "name": "stdout",
     "output_type": "stream",
     "text": [
      "found halpha v1 match  VFID4182  \n"
     ]
    },
    {
     "name": "stderr",
     "output_type": "stream",
     "text": [
      "/home/rfinn/anaconda3/lib/python3.7/site-packages/astropy/table/table.py:1473: StringTruncateWarning: truncated right side string(s) longer than 8 character(s) during assignment\n",
      "  col[item] = val\n"
     ]
    },
    {
     "name": "stdout",
     "output_type": "stream",
     "text": [
      "found halpha v1 match  VFID4190  \n"
     ]
    },
    {
     "name": "stderr",
     "output_type": "stream",
     "text": [
      "/home/rfinn/anaconda3/lib/python3.7/site-packages/astropy/table/table.py:1473: StringTruncateWarning: truncated right side string(s) longer than 8 character(s) during assignment\n",
      "  col[item] = val\n"
     ]
    },
    {
     "name": "stdout",
     "output_type": "stream",
     "text": [
      "found halpha v1 match  VFID4204  \n"
     ]
    },
    {
     "name": "stderr",
     "output_type": "stream",
     "text": [
      "/home/rfinn/anaconda3/lib/python3.7/site-packages/astropy/table/table.py:1473: StringTruncateWarning: truncated right side string(s) longer than 8 character(s) during assignment\n",
      "  col[item] = val\n"
     ]
    },
    {
     "name": "stdout",
     "output_type": "stream",
     "text": [
      "found halpha v1 match  VFID3337  \n"
     ]
    },
    {
     "name": "stderr",
     "output_type": "stream",
     "text": [
      "/home/rfinn/anaconda3/lib/python3.7/site-packages/astropy/table/table.py:1473: StringTruncateWarning: truncated right side string(s) longer than 8 character(s) during assignment\n",
      "  col[item] = val\n"
     ]
    },
    {
     "name": "stdout",
     "output_type": "stream",
     "text": [
      "found halpha v1 match  VFID3338  \n"
     ]
    },
    {
     "name": "stderr",
     "output_type": "stream",
     "text": [
      "/home/rfinn/anaconda3/lib/python3.7/site-packages/astropy/table/table.py:1473: StringTruncateWarning: truncated right side string(s) longer than 8 character(s) during assignment\n",
      "  col[item] = val\n"
     ]
    },
    {
     "name": "stdout",
     "output_type": "stream",
     "text": [
      "found halpha v1 match  VFID0569  \n"
     ]
    },
    {
     "name": "stderr",
     "output_type": "stream",
     "text": [
      "/home/rfinn/anaconda3/lib/python3.7/site-packages/astropy/table/table.py:1473: StringTruncateWarning: truncated right side string(s) longer than 8 character(s) during assignment\n",
      "  col[item] = val\n"
     ]
    },
    {
     "name": "stdout",
     "output_type": "stream",
     "text": [
      "found halpha v1 match  VFID3264  \n"
     ]
    },
    {
     "name": "stderr",
     "output_type": "stream",
     "text": [
      "/home/rfinn/anaconda3/lib/python3.7/site-packages/astropy/table/table.py:1473: StringTruncateWarning: truncated right side string(s) longer than 8 character(s) during assignment\n",
      "  col[item] = val\n"
     ]
    },
    {
     "name": "stdout",
     "output_type": "stream",
     "text": [
      "found halpha v1 match  VFID3279  \n"
     ]
    },
    {
     "name": "stderr",
     "output_type": "stream",
     "text": [
      "/home/rfinn/anaconda3/lib/python3.7/site-packages/astropy/table/table.py:1473: StringTruncateWarning: truncated right side string(s) longer than 8 character(s) during assignment\n",
      "  col[item] = val\n"
     ]
    },
    {
     "name": "stdout",
     "output_type": "stream",
     "text": [
      "found halpha v1 match  VFID3290  \n"
     ]
    },
    {
     "name": "stderr",
     "output_type": "stream",
     "text": [
      "/home/rfinn/anaconda3/lib/python3.7/site-packages/astropy/table/table.py:1473: StringTruncateWarning: truncated right side string(s) longer than 8 character(s) during assignment\n",
      "  col[item] = val\n"
     ]
    },
    {
     "name": "stdout",
     "output_type": "stream",
     "text": [
      "found halpha v1 match  VFID3318  \n"
     ]
    },
    {
     "name": "stderr",
     "output_type": "stream",
     "text": [
      "/home/rfinn/anaconda3/lib/python3.7/site-packages/astropy/table/table.py:1473: StringTruncateWarning: truncated right side string(s) longer than 8 character(s) during assignment\n",
      "  col[item] = val\n"
     ]
    },
    {
     "name": "stdout",
     "output_type": "stream",
     "text": [
      "found halpha v1 match  VFID3341  \n"
     ]
    },
    {
     "name": "stderr",
     "output_type": "stream",
     "text": [
      "/home/rfinn/anaconda3/lib/python3.7/site-packages/astropy/table/table.py:1473: StringTruncateWarning: truncated right side string(s) longer than 8 character(s) during assignment\n",
      "  col[item] = val\n"
     ]
    },
    {
     "name": "stdout",
     "output_type": "stream",
     "text": [
      "found halpha v1 match  VFID3349  \n"
     ]
    },
    {
     "name": "stderr",
     "output_type": "stream",
     "text": [
      "/home/rfinn/anaconda3/lib/python3.7/site-packages/astropy/table/table.py:1473: StringTruncateWarning: truncated right side string(s) longer than 8 character(s) during assignment\n",
      "  col[item] = val\n"
     ]
    },
    {
     "name": "stdout",
     "output_type": "stream",
     "text": [
      "found halpha v1 match  VFID3352  \n"
     ]
    },
    {
     "name": "stderr",
     "output_type": "stream",
     "text": [
      "/home/rfinn/anaconda3/lib/python3.7/site-packages/astropy/table/table.py:1473: StringTruncateWarning: truncated right side string(s) longer than 8 character(s) during assignment\n",
      "  col[item] = val\n"
     ]
    },
    {
     "name": "stdout",
     "output_type": "stream",
     "text": [
      "found halpha v1 match  VFID3357  \n"
     ]
    },
    {
     "name": "stderr",
     "output_type": "stream",
     "text": [
      "/home/rfinn/anaconda3/lib/python3.7/site-packages/astropy/table/table.py:1473: StringTruncateWarning: truncated right side string(s) longer than 8 character(s) during assignment\n",
      "  col[item] = val\n"
     ]
    },
    {
     "name": "stdout",
     "output_type": "stream",
     "text": [
      "found halpha v1 match  VFID3361  \n"
     ]
    },
    {
     "name": "stderr",
     "output_type": "stream",
     "text": [
      "/home/rfinn/anaconda3/lib/python3.7/site-packages/astropy/table/table.py:1473: StringTruncateWarning: truncated right side string(s) longer than 8 character(s) during assignment\n",
      "  col[item] = val\n"
     ]
    },
    {
     "name": "stdout",
     "output_type": "stream",
     "text": [
      "found halpha v1 match  VFID3365  \n"
     ]
    },
    {
     "name": "stderr",
     "output_type": "stream",
     "text": [
      "/home/rfinn/anaconda3/lib/python3.7/site-packages/astropy/table/table.py:1473: StringTruncateWarning: truncated right side string(s) longer than 8 character(s) during assignment\n",
      "  col[item] = val\n"
     ]
    },
    {
     "name": "stdout",
     "output_type": "stream",
     "text": [
      "found halpha v1 match  VFID3366  \n"
     ]
    },
    {
     "name": "stderr",
     "output_type": "stream",
     "text": [
      "/home/rfinn/anaconda3/lib/python3.7/site-packages/astropy/table/table.py:1473: StringTruncateWarning: truncated right side string(s) longer than 8 character(s) during assignment\n",
      "  col[item] = val\n"
     ]
    },
    {
     "name": "stdout",
     "output_type": "stream",
     "text": [
      "found halpha v1 match  VFID3372  \n"
     ]
    },
    {
     "name": "stderr",
     "output_type": "stream",
     "text": [
      "/home/rfinn/anaconda3/lib/python3.7/site-packages/astropy/table/table.py:1473: StringTruncateWarning: truncated right side string(s) longer than 8 character(s) during assignment\n",
      "  col[item] = val\n"
     ]
    },
    {
     "name": "stdout",
     "output_type": "stream",
     "text": [
      "found halpha v1 match  VFID3017  \n"
     ]
    },
    {
     "name": "stderr",
     "output_type": "stream",
     "text": [
      "/home/rfinn/anaconda3/lib/python3.7/site-packages/astropy/table/table.py:1473: StringTruncateWarning: truncated right side string(s) longer than 8 character(s) during assignment\n",
      "  col[item] = val\n"
     ]
    },
    {
     "name": "stdout",
     "output_type": "stream",
     "text": [
      "found halpha v1 match  VFID3022  \n"
     ]
    },
    {
     "name": "stderr",
     "output_type": "stream",
     "text": [
      "/home/rfinn/anaconda3/lib/python3.7/site-packages/astropy/table/table.py:1473: StringTruncateWarning: truncated right side string(s) longer than 8 character(s) during assignment\n",
      "  col[item] = val\n"
     ]
    },
    {
     "name": "stdout",
     "output_type": "stream",
     "text": [
      "found halpha v1 match  VFID3040  \n"
     ]
    },
    {
     "name": "stderr",
     "output_type": "stream",
     "text": [
      "/home/rfinn/anaconda3/lib/python3.7/site-packages/astropy/table/table.py:1473: StringTruncateWarning: truncated right side string(s) longer than 8 character(s) during assignment\n",
      "  col[item] = val\n",
      "/home/rfinn/anaconda3/lib/python3.7/site-packages/astropy/table/table.py:1473: StringTruncateWarning: truncated right side string(s) longer than 8 character(s) during assignment\n",
      "  col[item] = val\n",
      "/home/rfinn/anaconda3/lib/python3.7/site-packages/astropy/table/table.py:1473: StringTruncateWarning: truncated right side string(s) longer than 8 character(s) during assignment\n",
      "  col[item] = val\n"
     ]
    },
    {
     "name": "stdout",
     "output_type": "stream",
     "text": [
      "found halpha v1 match  VFID3623  \n"
     ]
    },
    {
     "name": "stderr",
     "output_type": "stream",
     "text": [
      "/home/rfinn/anaconda3/lib/python3.7/site-packages/astropy/table/table.py:1473: StringTruncateWarning: truncated right side string(s) longer than 8 character(s) during assignment\n",
      "  col[item] = val\n"
     ]
    },
    {
     "name": "stdout",
     "output_type": "stream",
     "text": [
      "found halpha v1 match  VFID2550  \n"
     ]
    },
    {
     "name": "stderr",
     "output_type": "stream",
     "text": [
      "/home/rfinn/anaconda3/lib/python3.7/site-packages/astropy/table/table.py:1473: StringTruncateWarning: truncated right side string(s) longer than 8 character(s) during assignment\n",
      "  col[item] = val\n"
     ]
    },
    {
     "name": "stdout",
     "output_type": "stream",
     "text": [
      "found halpha v1 match  VFID2552  \n"
     ]
    },
    {
     "name": "stderr",
     "output_type": "stream",
     "text": [
      "/home/rfinn/anaconda3/lib/python3.7/site-packages/astropy/table/table.py:1473: StringTruncateWarning: truncated right side string(s) longer than 8 character(s) during assignment\n",
      "  col[item] = val\n"
     ]
    },
    {
     "name": "stdout",
     "output_type": "stream",
     "text": [
      "found halpha v1 match  VFID2553  \n"
     ]
    },
    {
     "name": "stderr",
     "output_type": "stream",
     "text": [
      "/home/rfinn/anaconda3/lib/python3.7/site-packages/astropy/table/table.py:1473: StringTruncateWarning: truncated right side string(s) longer than 8 character(s) during assignment\n",
      "  col[item] = val\n"
     ]
    },
    {
     "name": "stdout",
     "output_type": "stream",
     "text": [
      "found halpha v1 match  VFID2560  \n"
     ]
    },
    {
     "name": "stderr",
     "output_type": "stream",
     "text": [
      "/home/rfinn/anaconda3/lib/python3.7/site-packages/astropy/table/table.py:1473: StringTruncateWarning: truncated right side string(s) longer than 8 character(s) during assignment\n",
      "  col[item] = val\n"
     ]
    },
    {
     "name": "stdout",
     "output_type": "stream",
     "text": [
      "found halpha v1 match  VFID2575  \n"
     ]
    },
    {
     "name": "stderr",
     "output_type": "stream",
     "text": [
      "/home/rfinn/anaconda3/lib/python3.7/site-packages/astropy/table/table.py:1473: StringTruncateWarning: truncated right side string(s) longer than 8 character(s) during assignment\n",
      "  col[item] = val\n"
     ]
    },
    {
     "name": "stdout",
     "output_type": "stream",
     "text": [
      "found halpha v1 match  VFID2213  \n"
     ]
    },
    {
     "name": "stderr",
     "output_type": "stream",
     "text": [
      "/home/rfinn/anaconda3/lib/python3.7/site-packages/astropy/table/table.py:1473: StringTruncateWarning: truncated right side string(s) longer than 8 character(s) during assignment\n",
      "  col[item] = val\n"
     ]
    },
    {
     "name": "stdout",
     "output_type": "stream",
     "text": [
      "found halpha v1 match  VFID2219  \n"
     ]
    },
    {
     "name": "stderr",
     "output_type": "stream",
     "text": [
      "/home/rfinn/anaconda3/lib/python3.7/site-packages/astropy/table/table.py:1473: StringTruncateWarning: truncated right side string(s) longer than 8 character(s) during assignment\n",
      "  col[item] = val\n"
     ]
    },
    {
     "name": "stdout",
     "output_type": "stream",
     "text": [
      "found halpha v1 match  VFID2223  \n"
     ]
    },
    {
     "name": "stderr",
     "output_type": "stream",
     "text": [
      "/home/rfinn/anaconda3/lib/python3.7/site-packages/astropy/table/table.py:1473: StringTruncateWarning: truncated right side string(s) longer than 8 character(s) during assignment\n",
      "  col[item] = val\n"
     ]
    },
    {
     "name": "stdout",
     "output_type": "stream",
     "text": [
      "found halpha v1 match  VFID2225  \n"
     ]
    },
    {
     "name": "stderr",
     "output_type": "stream",
     "text": [
      "/home/rfinn/anaconda3/lib/python3.7/site-packages/astropy/table/table.py:1473: StringTruncateWarning: truncated right side string(s) longer than 8 character(s) during assignment\n",
      "  col[item] = val\n"
     ]
    },
    {
     "name": "stdout",
     "output_type": "stream",
     "text": [
      "found halpha v1 match  VFID2226  \n"
     ]
    },
    {
     "name": "stderr",
     "output_type": "stream",
     "text": [
      "/home/rfinn/anaconda3/lib/python3.7/site-packages/astropy/table/table.py:1473: StringTruncateWarning: truncated right side string(s) longer than 8 character(s) during assignment\n",
      "  col[item] = val\n"
     ]
    },
    {
     "name": "stdout",
     "output_type": "stream",
     "text": [
      "found halpha v1 match  VFID2228  \n"
     ]
    },
    {
     "name": "stderr",
     "output_type": "stream",
     "text": [
      "/home/rfinn/anaconda3/lib/python3.7/site-packages/astropy/table/table.py:1473: StringTruncateWarning: truncated right side string(s) longer than 8 character(s) during assignment\n",
      "  col[item] = val\n"
     ]
    },
    {
     "name": "stdout",
     "output_type": "stream",
     "text": [
      "found halpha v1 match  VFID2239  \n"
     ]
    },
    {
     "name": "stderr",
     "output_type": "stream",
     "text": [
      "/home/rfinn/anaconda3/lib/python3.7/site-packages/astropy/table/table.py:1473: StringTruncateWarning: truncated right side string(s) longer than 8 character(s) during assignment\n",
      "  col[item] = val\n"
     ]
    },
    {
     "name": "stdout",
     "output_type": "stream",
     "text": [
      "found halpha v1 match  VFID2240  \n"
     ]
    },
    {
     "name": "stderr",
     "output_type": "stream",
     "text": [
      "/home/rfinn/anaconda3/lib/python3.7/site-packages/astropy/table/table.py:1473: StringTruncateWarning: truncated right side string(s) longer than 8 character(s) during assignment\n",
      "  col[item] = val\n"
     ]
    },
    {
     "name": "stdout",
     "output_type": "stream",
     "text": [
      "found halpha v1 match  VFID2241  \n"
     ]
    },
    {
     "name": "stderr",
     "output_type": "stream",
     "text": [
      "/home/rfinn/anaconda3/lib/python3.7/site-packages/astropy/table/table.py:1473: StringTruncateWarning: truncated right side string(s) longer than 8 character(s) during assignment\n",
      "  col[item] = val\n"
     ]
    },
    {
     "name": "stdout",
     "output_type": "stream",
     "text": [
      "found halpha v1 match  VFID2248  \n"
     ]
    },
    {
     "name": "stderr",
     "output_type": "stream",
     "text": [
      "/home/rfinn/anaconda3/lib/python3.7/site-packages/astropy/table/table.py:1473: StringTruncateWarning: truncated right side string(s) longer than 8 character(s) during assignment\n",
      "  col[item] = val\n"
     ]
    },
    {
     "name": "stdout",
     "output_type": "stream",
     "text": [
      "found halpha v1 match  VFID6111  \n"
     ]
    },
    {
     "name": "stderr",
     "output_type": "stream",
     "text": [
      "/home/rfinn/anaconda3/lib/python3.7/site-packages/astropy/table/table.py:1473: StringTruncateWarning: truncated right side string(s) longer than 8 character(s) during assignment\n",
      "  col[item] = val\n"
     ]
    },
    {
     "name": "stdout",
     "output_type": "stream",
     "text": [
      "found halpha v1 match  VFID6121  \n"
     ]
    },
    {
     "name": "stderr",
     "output_type": "stream",
     "text": [
      "/home/rfinn/anaconda3/lib/python3.7/site-packages/astropy/table/table.py:1473: StringTruncateWarning: truncated right side string(s) longer than 8 character(s) during assignment\n",
      "  col[item] = val\n"
     ]
    },
    {
     "name": "stdout",
     "output_type": "stream",
     "text": [
      "found halpha v1 match  VFID6125  \n"
     ]
    },
    {
     "name": "stderr",
     "output_type": "stream",
     "text": [
      "/home/rfinn/anaconda3/lib/python3.7/site-packages/astropy/table/table.py:1473: StringTruncateWarning: truncated right side string(s) longer than 8 character(s) during assignment\n",
      "  col[item] = val\n"
     ]
    },
    {
     "name": "stdout",
     "output_type": "stream",
     "text": [
      "found halpha v1 match  VFID6135  \n"
     ]
    },
    {
     "name": "stderr",
     "output_type": "stream",
     "text": [
      "/home/rfinn/anaconda3/lib/python3.7/site-packages/astropy/table/table.py:1473: StringTruncateWarning: truncated right side string(s) longer than 8 character(s) during assignment\n",
      "  col[item] = val\n"
     ]
    },
    {
     "name": "stdout",
     "output_type": "stream",
     "text": [
      "found halpha v1 match  VFID6139  \n"
     ]
    },
    {
     "name": "stderr",
     "output_type": "stream",
     "text": [
      "/home/rfinn/anaconda3/lib/python3.7/site-packages/astropy/table/table.py:1473: StringTruncateWarning: truncated right side string(s) longer than 8 character(s) during assignment\n",
      "  col[item] = val\n"
     ]
    },
    {
     "name": "stdout",
     "output_type": "stream",
     "text": [
      "found halpha v1 match  VFID6174  \n"
     ]
    },
    {
     "name": "stderr",
     "output_type": "stream",
     "text": [
      "/home/rfinn/anaconda3/lib/python3.7/site-packages/astropy/table/table.py:1473: StringTruncateWarning: truncated right side string(s) longer than 8 character(s) during assignment\n",
      "  col[item] = val\n"
     ]
    },
    {
     "name": "stdout",
     "output_type": "stream",
     "text": [
      "found halpha v1 match  VFID6192  \n"
     ]
    },
    {
     "name": "stderr",
     "output_type": "stream",
     "text": [
      "/home/rfinn/anaconda3/lib/python3.7/site-packages/astropy/table/table.py:1473: StringTruncateWarning: truncated right side string(s) longer than 8 character(s) during assignment\n",
      "  col[item] = val\n"
     ]
    },
    {
     "name": "stdout",
     "output_type": "stream",
     "text": [
      "found halpha v1 match  VFID2464  \n"
     ]
    },
    {
     "name": "stderr",
     "output_type": "stream",
     "text": [
      "/home/rfinn/anaconda3/lib/python3.7/site-packages/astropy/table/table.py:1473: StringTruncateWarning: truncated right side string(s) longer than 8 character(s) during assignment\n",
      "  col[item] = val\n"
     ]
    },
    {
     "name": "stdout",
     "output_type": "stream",
     "text": [
      "found halpha v1 match  VFID2493  \n"
     ]
    },
    {
     "name": "stderr",
     "output_type": "stream",
     "text": [
      "/home/rfinn/anaconda3/lib/python3.7/site-packages/astropy/table/table.py:1473: StringTruncateWarning: truncated right side string(s) longer than 8 character(s) during assignment\n",
      "  col[item] = val\n"
     ]
    },
    {
     "name": "stdout",
     "output_type": "stream",
     "text": [
      "found halpha v1 match  VFID2499  \n"
     ]
    },
    {
     "name": "stderr",
     "output_type": "stream",
     "text": [
      "/home/rfinn/anaconda3/lib/python3.7/site-packages/astropy/table/table.py:1473: StringTruncateWarning: truncated right side string(s) longer than 8 character(s) during assignment\n",
      "  col[item] = val\n"
     ]
    },
    {
     "name": "stdout",
     "output_type": "stream",
     "text": [
      "found halpha v1 match  VFID1995  \n"
     ]
    },
    {
     "name": "stderr",
     "output_type": "stream",
     "text": [
      "/home/rfinn/anaconda3/lib/python3.7/site-packages/astropy/table/table.py:1473: StringTruncateWarning: truncated right side string(s) longer than 8 character(s) during assignment\n",
      "  col[item] = val\n"
     ]
    },
    {
     "name": "stdout",
     "output_type": "stream",
     "text": [
      "found halpha v1 match  VFID2013  \n"
     ]
    },
    {
     "name": "stderr",
     "output_type": "stream",
     "text": [
      "/home/rfinn/anaconda3/lib/python3.7/site-packages/astropy/table/table.py:1473: StringTruncateWarning: truncated right side string(s) longer than 8 character(s) during assignment\n",
      "  col[item] = val\n"
     ]
    },
    {
     "name": "stdout",
     "output_type": "stream",
     "text": [
      "found halpha v1 match  VFID3318  \n"
     ]
    },
    {
     "name": "stderr",
     "output_type": "stream",
     "text": [
      "/home/rfinn/anaconda3/lib/python3.7/site-packages/astropy/table/table.py:1473: StringTruncateWarning: truncated right side string(s) longer than 8 character(s) during assignment\n",
      "  col[item] = val\n"
     ]
    },
    {
     "name": "stdout",
     "output_type": "stream",
     "text": [
      "found halpha v1 match  VFID3328  \n"
     ]
    },
    {
     "name": "stderr",
     "output_type": "stream",
     "text": [
      "/home/rfinn/anaconda3/lib/python3.7/site-packages/astropy/table/table.py:1473: StringTruncateWarning: truncated right side string(s) longer than 8 character(s) during assignment\n",
      "  col[item] = val\n"
     ]
    },
    {
     "name": "stdout",
     "output_type": "stream",
     "text": [
      "found halpha v1 match  VFID0473  \n"
     ]
    },
    {
     "name": "stderr",
     "output_type": "stream",
     "text": [
      "/home/rfinn/anaconda3/lib/python3.7/site-packages/astropy/table/table.py:1473: StringTruncateWarning: truncated right side string(s) longer than 8 character(s) during assignment\n",
      "  col[item] = val\n"
     ]
    },
    {
     "name": "stdout",
     "output_type": "stream",
     "text": [
      "found halpha v1 match  VFID0481  \n"
     ]
    },
    {
     "name": "stderr",
     "output_type": "stream",
     "text": [
      "/home/rfinn/anaconda3/lib/python3.7/site-packages/astropy/table/table.py:1473: StringTruncateWarning: truncated right side string(s) longer than 8 character(s) during assignment\n",
      "  col[item] = val\n"
     ]
    },
    {
     "name": "stdout",
     "output_type": "stream",
     "text": [
      "found halpha v1 match  VFID0483  \n"
     ]
    },
    {
     "name": "stderr",
     "output_type": "stream",
     "text": [
      "/home/rfinn/anaconda3/lib/python3.7/site-packages/astropy/table/table.py:1473: StringTruncateWarning: truncated right side string(s) longer than 8 character(s) during assignment\n",
      "  col[item] = val\n"
     ]
    },
    {
     "name": "stdout",
     "output_type": "stream",
     "text": [
      "found halpha v1 match  VFID2957  \n"
     ]
    },
    {
     "name": "stderr",
     "output_type": "stream",
     "text": [
      "/home/rfinn/anaconda3/lib/python3.7/site-packages/astropy/table/table.py:1473: StringTruncateWarning: truncated right side string(s) longer than 8 character(s) during assignment\n",
      "  col[item] = val\n"
     ]
    },
    {
     "name": "stdout",
     "output_type": "stream",
     "text": [
      "found halpha v1 match  VFID2960  \n"
     ]
    },
    {
     "name": "stderr",
     "output_type": "stream",
     "text": [
      "/home/rfinn/anaconda3/lib/python3.7/site-packages/astropy/table/table.py:1473: StringTruncateWarning: truncated right side string(s) longer than 8 character(s) during assignment\n",
      "  col[item] = val\n"
     ]
    },
    {
     "name": "stdout",
     "output_type": "stream",
     "text": [
      "found halpha v1 match  VFID2962  \n"
     ]
    },
    {
     "name": "stderr",
     "output_type": "stream",
     "text": [
      "/home/rfinn/anaconda3/lib/python3.7/site-packages/astropy/table/table.py:1473: StringTruncateWarning: truncated right side string(s) longer than 8 character(s) during assignment\n",
      "  col[item] = val\n"
     ]
    },
    {
     "name": "stdout",
     "output_type": "stream",
     "text": [
      "found halpha v1 match  VFID2964  \n"
     ]
    },
    {
     "name": "stderr",
     "output_type": "stream",
     "text": [
      "/home/rfinn/anaconda3/lib/python3.7/site-packages/astropy/table/table.py:1473: StringTruncateWarning: truncated right side string(s) longer than 8 character(s) during assignment\n",
      "  col[item] = val\n"
     ]
    },
    {
     "name": "stdout",
     "output_type": "stream",
     "text": [
      "found halpha v1 match  VFID2970  \n"
     ]
    },
    {
     "name": "stderr",
     "output_type": "stream",
     "text": [
      "/home/rfinn/anaconda3/lib/python3.7/site-packages/astropy/table/table.py:1473: StringTruncateWarning: truncated right side string(s) longer than 8 character(s) during assignment\n",
      "  col[item] = val\n"
     ]
    },
    {
     "name": "stdout",
     "output_type": "stream",
     "text": [
      "found halpha v1 match  VFID2950  \n"
     ]
    },
    {
     "name": "stderr",
     "output_type": "stream",
     "text": [
      "/home/rfinn/anaconda3/lib/python3.7/site-packages/astropy/table/table.py:1473: StringTruncateWarning: truncated right side string(s) longer than 8 character(s) during assignment\n",
      "  col[item] = val\n"
     ]
    },
    {
     "name": "stdout",
     "output_type": "stream",
     "text": [
      "found halpha v1 match  VFID3391  \n"
     ]
    },
    {
     "name": "stderr",
     "output_type": "stream",
     "text": [
      "/home/rfinn/anaconda3/lib/python3.7/site-packages/astropy/table/table.py:1473: StringTruncateWarning: truncated right side string(s) longer than 8 character(s) during assignment\n",
      "  col[item] = val\n"
     ]
    },
    {
     "name": "stdout",
     "output_type": "stream",
     "text": [
      "found halpha v1 match  VFID0603  \n"
     ]
    },
    {
     "name": "stderr",
     "output_type": "stream",
     "text": [
      "/home/rfinn/anaconda3/lib/python3.7/site-packages/astropy/table/table.py:1473: StringTruncateWarning: truncated right side string(s) longer than 8 character(s) during assignment\n",
      "  col[item] = val\n"
     ]
    },
    {
     "name": "stdout",
     "output_type": "stream",
     "text": [
      "found halpha v1 match  VFID0611  \n"
     ]
    },
    {
     "name": "stderr",
     "output_type": "stream",
     "text": [
      "/home/rfinn/anaconda3/lib/python3.7/site-packages/astropy/table/table.py:1473: StringTruncateWarning: truncated right side string(s) longer than 8 character(s) during assignment\n",
      "  col[item] = val\n"
     ]
    },
    {
     "name": "stdout",
     "output_type": "stream",
     "text": [
      "found halpha v1 match  VFID2678  \n"
     ]
    },
    {
     "name": "stderr",
     "output_type": "stream",
     "text": [
      "/home/rfinn/anaconda3/lib/python3.7/site-packages/astropy/table/table.py:1473: StringTruncateWarning: truncated right side string(s) longer than 8 character(s) during assignment\n",
      "  col[item] = val\n"
     ]
    },
    {
     "name": "stdout",
     "output_type": "stream",
     "text": [
      "found halpha v1 match  VFID2681  \n"
     ]
    },
    {
     "name": "stderr",
     "output_type": "stream",
     "text": [
      "/home/rfinn/anaconda3/lib/python3.7/site-packages/astropy/table/table.py:1473: StringTruncateWarning: truncated right side string(s) longer than 8 character(s) during assignment\n",
      "  col[item] = val\n"
     ]
    },
    {
     "name": "stdout",
     "output_type": "stream",
     "text": [
      "found halpha v1 match  VFID2465  \n"
     ]
    },
    {
     "name": "stderr",
     "output_type": "stream",
     "text": [
      "/home/rfinn/anaconda3/lib/python3.7/site-packages/astropy/table/table.py:1473: StringTruncateWarning: truncated right side string(s) longer than 8 character(s) during assignment\n",
      "  col[item] = val\n"
     ]
    },
    {
     "name": "stdout",
     "output_type": "stream",
     "text": [
      "found halpha v1 match  VFID6017  \n"
     ]
    },
    {
     "name": "stderr",
     "output_type": "stream",
     "text": [
      "/home/rfinn/anaconda3/lib/python3.7/site-packages/astropy/table/table.py:1473: StringTruncateWarning: truncated right side string(s) longer than 8 character(s) during assignment\n",
      "  col[item] = val\n"
     ]
    },
    {
     "name": "stdout",
     "output_type": "stream",
     "text": [
      "found halpha v1 match  VFID6035  \n"
     ]
    },
    {
     "name": "stderr",
     "output_type": "stream",
     "text": [
      "/home/rfinn/anaconda3/lib/python3.7/site-packages/astropy/table/table.py:1473: StringTruncateWarning: truncated right side string(s) longer than 8 character(s) during assignment\n",
      "  col[item] = val\n"
     ]
    },
    {
     "name": "stdout",
     "output_type": "stream",
     "text": [
      "found halpha v1 match  VFID6037  \n"
     ]
    },
    {
     "name": "stderr",
     "output_type": "stream",
     "text": [
      "/home/rfinn/anaconda3/lib/python3.7/site-packages/astropy/table/table.py:1473: StringTruncateWarning: truncated right side string(s) longer than 8 character(s) during assignment\n",
      "  col[item] = val\n"
     ]
    },
    {
     "name": "stdout",
     "output_type": "stream",
     "text": [
      "found halpha v1 match  VFID6050  \n"
     ]
    },
    {
     "name": "stderr",
     "output_type": "stream",
     "text": [
      "/home/rfinn/anaconda3/lib/python3.7/site-packages/astropy/table/table.py:1473: StringTruncateWarning: truncated right side string(s) longer than 8 character(s) during assignment\n",
      "  col[item] = val\n"
     ]
    },
    {
     "name": "stdout",
     "output_type": "stream",
     "text": [
      "found halpha v1 match  VFID3486  \n"
     ]
    },
    {
     "name": "stderr",
     "output_type": "stream",
     "text": [
      "/home/rfinn/anaconda3/lib/python3.7/site-packages/astropy/table/table.py:1473: StringTruncateWarning: truncated right side string(s) longer than 8 character(s) during assignment\n",
      "  col[item] = val\n"
     ]
    },
    {
     "name": "stdout",
     "output_type": "stream",
     "text": [
      "found halpha v1 match  VFID3490  \n"
     ]
    },
    {
     "name": "stderr",
     "output_type": "stream",
     "text": [
      "/home/rfinn/anaconda3/lib/python3.7/site-packages/astropy/table/table.py:1473: StringTruncateWarning: truncated right side string(s) longer than 8 character(s) during assignment\n",
      "  col[item] = val\n"
     ]
    },
    {
     "name": "stdout",
     "output_type": "stream",
     "text": [
      "found halpha v1 match  VFID3511  \n"
     ]
    },
    {
     "name": "stderr",
     "output_type": "stream",
     "text": [
      "/home/rfinn/anaconda3/lib/python3.7/site-packages/astropy/table/table.py:1473: StringTruncateWarning: truncated right side string(s) longer than 8 character(s) during assignment\n",
      "  col[item] = val\n"
     ]
    },
    {
     "name": "stdout",
     "output_type": "stream",
     "text": [
      "found halpha v1 match  VFID3274  \n"
     ]
    },
    {
     "name": "stderr",
     "output_type": "stream",
     "text": [
      "/home/rfinn/anaconda3/lib/python3.7/site-packages/astropy/table/table.py:1473: StringTruncateWarning: truncated right side string(s) longer than 8 character(s) during assignment\n",
      "  col[item] = val\n"
     ]
    },
    {
     "name": "stdout",
     "output_type": "stream",
     "text": [
      "found halpha v1 match  VFID3277  \n"
     ]
    },
    {
     "name": "stderr",
     "output_type": "stream",
     "text": [
      "/home/rfinn/anaconda3/lib/python3.7/site-packages/astropy/table/table.py:1473: StringTruncateWarning: truncated right side string(s) longer than 8 character(s) during assignment\n",
      "  col[item] = val\n"
     ]
    },
    {
     "name": "stdout",
     "output_type": "stream",
     "text": [
      "found halpha v1 match  VFID3543  \n"
     ]
    },
    {
     "name": "stderr",
     "output_type": "stream",
     "text": [
      "/home/rfinn/anaconda3/lib/python3.7/site-packages/astropy/table/table.py:1473: StringTruncateWarning: truncated right side string(s) longer than 8 character(s) during assignment\n",
      "  col[item] = val\n"
     ]
    },
    {
     "name": "stdout",
     "output_type": "stream",
     "text": [
      "found halpha v1 match  VFID3549  \n"
     ]
    },
    {
     "name": "stderr",
     "output_type": "stream",
     "text": [
      "/home/rfinn/anaconda3/lib/python3.7/site-packages/astropy/table/table.py:1473: StringTruncateWarning: truncated right side string(s) longer than 8 character(s) during assignment\n",
      "  col[item] = val\n"
     ]
    },
    {
     "name": "stdout",
     "output_type": "stream",
     "text": [
      "found halpha v1 match  VFID3554  \n"
     ]
    },
    {
     "name": "stderr",
     "output_type": "stream",
     "text": [
      "/home/rfinn/anaconda3/lib/python3.7/site-packages/astropy/table/table.py:1473: StringTruncateWarning: truncated right side string(s) longer than 8 character(s) during assignment\n",
      "  col[item] = val\n"
     ]
    },
    {
     "name": "stdout",
     "output_type": "stream",
     "text": [
      "found halpha v1 match  VFID3557  \n"
     ]
    },
    {
     "name": "stderr",
     "output_type": "stream",
     "text": [
      "/home/rfinn/anaconda3/lib/python3.7/site-packages/astropy/table/table.py:1473: StringTruncateWarning: truncated right side string(s) longer than 8 character(s) during assignment\n",
      "  col[item] = val\n"
     ]
    },
    {
     "name": "stdout",
     "output_type": "stream",
     "text": [
      "found halpha v1 match  VFID3564  \n"
     ]
    },
    {
     "name": "stderr",
     "output_type": "stream",
     "text": [
      "/home/rfinn/anaconda3/lib/python3.7/site-packages/astropy/table/table.py:1473: StringTruncateWarning: truncated right side string(s) longer than 8 character(s) during assignment\n",
      "  col[item] = val\n"
     ]
    },
    {
     "name": "stdout",
     "output_type": "stream",
     "text": [
      "found halpha v1 match  VFID3477  \n"
     ]
    },
    {
     "name": "stderr",
     "output_type": "stream",
     "text": [
      "/home/rfinn/anaconda3/lib/python3.7/site-packages/astropy/table/table.py:1473: StringTruncateWarning: truncated right side string(s) longer than 8 character(s) during assignment\n",
      "  col[item] = val\n"
     ]
    },
    {
     "name": "stdout",
     "output_type": "stream",
     "text": [
      "found halpha v1 match  VFID3484  \n"
     ]
    },
    {
     "name": "stderr",
     "output_type": "stream",
     "text": [
      "/home/rfinn/anaconda3/lib/python3.7/site-packages/astropy/table/table.py:1473: StringTruncateWarning: truncated right side string(s) longer than 8 character(s) during assignment\n",
      "  col[item] = val\n"
     ]
    },
    {
     "name": "stdout",
     "output_type": "stream",
     "text": [
      "found halpha v1 match  VFID3488  \n"
     ]
    },
    {
     "name": "stderr",
     "output_type": "stream",
     "text": [
      "/home/rfinn/anaconda3/lib/python3.7/site-packages/astropy/table/table.py:1473: StringTruncateWarning: truncated right side string(s) longer than 8 character(s) during assignment\n",
      "  col[item] = val\n"
     ]
    },
    {
     "name": "stdout",
     "output_type": "stream",
     "text": [
      "found halpha v1 match  VFID3492  \n"
     ]
    },
    {
     "name": "stderr",
     "output_type": "stream",
     "text": [
      "/home/rfinn/anaconda3/lib/python3.7/site-packages/astropy/table/table.py:1473: StringTruncateWarning: truncated right side string(s) longer than 8 character(s) during assignment\n",
      "  col[item] = val\n"
     ]
    },
    {
     "name": "stdout",
     "output_type": "stream",
     "text": [
      "found halpha v1 match  VFID3493  \n"
     ]
    },
    {
     "name": "stderr",
     "output_type": "stream",
     "text": [
      "/home/rfinn/anaconda3/lib/python3.7/site-packages/astropy/table/table.py:1473: StringTruncateWarning: truncated right side string(s) longer than 8 character(s) during assignment\n",
      "  col[item] = val\n"
     ]
    },
    {
     "name": "stdout",
     "output_type": "stream",
     "text": [
      "found halpha v1 match  VFID3496  \n"
     ]
    },
    {
     "name": "stderr",
     "output_type": "stream",
     "text": [
      "/home/rfinn/anaconda3/lib/python3.7/site-packages/astropy/table/table.py:1473: StringTruncateWarning: truncated right side string(s) longer than 8 character(s) during assignment\n",
      "  col[item] = val\n"
     ]
    },
    {
     "name": "stdout",
     "output_type": "stream",
     "text": [
      "found halpha v1 match  VFID3503  \n"
     ]
    },
    {
     "name": "stderr",
     "output_type": "stream",
     "text": [
      "/home/rfinn/anaconda3/lib/python3.7/site-packages/astropy/table/table.py:1473: StringTruncateWarning: truncated right side string(s) longer than 8 character(s) during assignment\n",
      "  col[item] = val\n"
     ]
    },
    {
     "name": "stdout",
     "output_type": "stream",
     "text": [
      "found halpha v1 match  VFID2641  \n"
     ]
    },
    {
     "name": "stderr",
     "output_type": "stream",
     "text": [
      "/home/rfinn/anaconda3/lib/python3.7/site-packages/astropy/table/table.py:1473: StringTruncateWarning: truncated right side string(s) longer than 8 character(s) during assignment\n",
      "  col[item] = val\n"
     ]
    },
    {
     "name": "stdout",
     "output_type": "stream",
     "text": [
      "found halpha v1 match  VFID2651  \n"
     ]
    },
    {
     "name": "stderr",
     "output_type": "stream",
     "text": [
      "/home/rfinn/anaconda3/lib/python3.7/site-packages/astropy/table/table.py:1473: StringTruncateWarning: truncated right side string(s) longer than 8 character(s) during assignment\n",
      "  col[item] = val\n"
     ]
    },
    {
     "name": "stdout",
     "output_type": "stream",
     "text": [
      "found halpha v1 match  VFID3035  \n"
     ]
    },
    {
     "name": "stderr",
     "output_type": "stream",
     "text": [
      "/home/rfinn/anaconda3/lib/python3.7/site-packages/astropy/table/table.py:1473: StringTruncateWarning: truncated right side string(s) longer than 8 character(s) during assignment\n",
      "  col[item] = val\n"
     ]
    },
    {
     "name": "stdout",
     "output_type": "stream",
     "text": [
      "found halpha v1 match  VFID1365  \n"
     ]
    },
    {
     "name": "stderr",
     "output_type": "stream",
     "text": [
      "/home/rfinn/anaconda3/lib/python3.7/site-packages/astropy/table/table.py:1473: StringTruncateWarning: truncated right side string(s) longer than 8 character(s) during assignment\n",
      "  col[item] = val\n"
     ]
    },
    {
     "name": "stdout",
     "output_type": "stream",
     "text": [
      "found halpha v1 match  VFID3303  \n"
     ]
    },
    {
     "name": "stderr",
     "output_type": "stream",
     "text": [
      "/home/rfinn/anaconda3/lib/python3.7/site-packages/astropy/table/table.py:1473: StringTruncateWarning: truncated right side string(s) longer than 8 character(s) during assignment\n",
      "  col[item] = val\n"
     ]
    },
    {
     "name": "stdout",
     "output_type": "stream",
     "text": [
      "found halpha v1 match  VFID2088  \n"
     ]
    },
    {
     "name": "stderr",
     "output_type": "stream",
     "text": [
      "/home/rfinn/anaconda3/lib/python3.7/site-packages/astropy/table/table.py:1473: StringTruncateWarning: truncated right side string(s) longer than 8 character(s) during assignment\n",
      "  col[item] = val\n"
     ]
    },
    {
     "name": "stdout",
     "output_type": "stream",
     "text": [
      "found halpha v1 match  VFID2114  \n"
     ]
    },
    {
     "name": "stderr",
     "output_type": "stream",
     "text": [
      "/home/rfinn/anaconda3/lib/python3.7/site-packages/astropy/table/table.py:1473: StringTruncateWarning: truncated right side string(s) longer than 8 character(s) during assignment\n",
      "  col[item] = val\n"
     ]
    },
    {
     "name": "stdout",
     "output_type": "stream",
     "text": [
      "found halpha v1 match  VFID0783  \n"
     ]
    },
    {
     "name": "stderr",
     "output_type": "stream",
     "text": [
      "/home/rfinn/anaconda3/lib/python3.7/site-packages/astropy/table/table.py:1473: StringTruncateWarning: truncated right side string(s) longer than 8 character(s) during assignment\n",
      "  col[item] = val\n"
     ]
    },
    {
     "name": "stdout",
     "output_type": "stream",
     "text": [
      "found halpha v1 match  VFID3012  \n"
     ]
    },
    {
     "name": "stderr",
     "output_type": "stream",
     "text": [
      "/home/rfinn/anaconda3/lib/python3.7/site-packages/astropy/table/table.py:1473: StringTruncateWarning: truncated right side string(s) longer than 8 character(s) during assignment\n",
      "  col[item] = val\n"
     ]
    },
    {
     "name": "stdout",
     "output_type": "stream",
     "text": [
      "found halpha v1 match  VFID3044  \n"
     ]
    },
    {
     "name": "stderr",
     "output_type": "stream",
     "text": [
      "/home/rfinn/anaconda3/lib/python3.7/site-packages/astropy/table/table.py:1473: StringTruncateWarning: truncated right side string(s) longer than 8 character(s) during assignment\n",
      "  col[item] = val\n"
     ]
    },
    {
     "name": "stdout",
     "output_type": "stream",
     "text": [
      "found halpha v1 match  VFID3169  \n"
     ]
    },
    {
     "name": "stderr",
     "output_type": "stream",
     "text": [
      "/home/rfinn/anaconda3/lib/python3.7/site-packages/astropy/table/table.py:1473: StringTruncateWarning: truncated right side string(s) longer than 8 character(s) during assignment\n",
      "  col[item] = val\n"
     ]
    },
    {
     "name": "stdout",
     "output_type": "stream",
     "text": [
      "found halpha v1 match  VFID3172  \n"
     ]
    },
    {
     "name": "stderr",
     "output_type": "stream",
     "text": [
      "/home/rfinn/anaconda3/lib/python3.7/site-packages/astropy/table/table.py:1473: StringTruncateWarning: truncated right side string(s) longer than 8 character(s) during assignment\n",
      "  col[item] = val\n"
     ]
    },
    {
     "name": "stdout",
     "output_type": "stream",
     "text": [
      "found halpha v1 match  VFID3186  \n"
     ]
    },
    {
     "name": "stderr",
     "output_type": "stream",
     "text": [
      "/home/rfinn/anaconda3/lib/python3.7/site-packages/astropy/table/table.py:1473: StringTruncateWarning: truncated right side string(s) longer than 8 character(s) during assignment\n",
      "  col[item] = val\n"
     ]
    },
    {
     "name": "stdout",
     "output_type": "stream",
     "text": [
      "found halpha v1 match  VFID2617  \n"
     ]
    },
    {
     "name": "stderr",
     "output_type": "stream",
     "text": [
      "/home/rfinn/anaconda3/lib/python3.7/site-packages/astropy/table/table.py:1473: StringTruncateWarning: truncated right side string(s) longer than 8 character(s) during assignment\n",
      "  col[item] = val\n"
     ]
    },
    {
     "name": "stdout",
     "output_type": "stream",
     "text": [
      "found halpha v1 match  VFID2619  \n"
     ]
    },
    {
     "name": "stderr",
     "output_type": "stream",
     "text": [
      "/home/rfinn/anaconda3/lib/python3.7/site-packages/astropy/table/table.py:1473: StringTruncateWarning: truncated right side string(s) longer than 8 character(s) during assignment\n",
      "  col[item] = val\n"
     ]
    },
    {
     "name": "stdout",
     "output_type": "stream",
     "text": [
      "found halpha v1 match  VFID6307  \n"
     ]
    },
    {
     "name": "stderr",
     "output_type": "stream",
     "text": [
      "/home/rfinn/anaconda3/lib/python3.7/site-packages/astropy/table/table.py:1473: StringTruncateWarning: truncated right side string(s) longer than 8 character(s) during assignment\n",
      "  col[item] = val\n"
     ]
    },
    {
     "name": "stdout",
     "output_type": "stream",
     "text": [
      "found halpha v1 match  VFID6320  \n"
     ]
    },
    {
     "name": "stderr",
     "output_type": "stream",
     "text": [
      "/home/rfinn/anaconda3/lib/python3.7/site-packages/astropy/table/table.py:1473: StringTruncateWarning: truncated right side string(s) longer than 8 character(s) during assignment\n",
      "  col[item] = val\n"
     ]
    },
    {
     "name": "stdout",
     "output_type": "stream",
     "text": [
      "found halpha v1 match  VFID6324  \n"
     ]
    },
    {
     "name": "stderr",
     "output_type": "stream",
     "text": [
      "/home/rfinn/anaconda3/lib/python3.7/site-packages/astropy/table/table.py:1473: StringTruncateWarning: truncated right side string(s) longer than 8 character(s) during assignment\n",
      "  col[item] = val\n"
     ]
    },
    {
     "name": "stdout",
     "output_type": "stream",
     "text": [
      "found halpha v1 match  VFID6325  \n"
     ]
    },
    {
     "name": "stderr",
     "output_type": "stream",
     "text": [
      "/home/rfinn/anaconda3/lib/python3.7/site-packages/astropy/table/table.py:1473: StringTruncateWarning: truncated right side string(s) longer than 8 character(s) during assignment\n",
      "  col[item] = val\n"
     ]
    },
    {
     "name": "stdout",
     "output_type": "stream",
     "text": [
      "found halpha v1 match  VFID6344  \n"
     ]
    },
    {
     "name": "stderr",
     "output_type": "stream",
     "text": [
      "/home/rfinn/anaconda3/lib/python3.7/site-packages/astropy/table/table.py:1473: StringTruncateWarning: truncated right side string(s) longer than 8 character(s) during assignment\n",
      "  col[item] = val\n"
     ]
    },
    {
     "name": "stdout",
     "output_type": "stream",
     "text": [
      "found halpha v1 match  VFID6346  \n"
     ]
    },
    {
     "name": "stderr",
     "output_type": "stream",
     "text": [
      "/home/rfinn/anaconda3/lib/python3.7/site-packages/astropy/table/table.py:1473: StringTruncateWarning: truncated right side string(s) longer than 8 character(s) during assignment\n",
      "  col[item] = val\n"
     ]
    },
    {
     "name": "stdout",
     "output_type": "stream",
     "text": [
      "found halpha v1 match  VFID6351  \n"
     ]
    },
    {
     "name": "stderr",
     "output_type": "stream",
     "text": [
      "/home/rfinn/anaconda3/lib/python3.7/site-packages/astropy/table/table.py:1473: StringTruncateWarning: truncated right side string(s) longer than 8 character(s) during assignment\n",
      "  col[item] = val\n"
     ]
    },
    {
     "name": "stdout",
     "output_type": "stream",
     "text": [
      "found halpha v1 match  VFID6355  \n"
     ]
    },
    {
     "name": "stderr",
     "output_type": "stream",
     "text": [
      "/home/rfinn/anaconda3/lib/python3.7/site-packages/astropy/table/table.py:1473: StringTruncateWarning: truncated right side string(s) longer than 8 character(s) during assignment\n",
      "  col[item] = val\n"
     ]
    },
    {
     "name": "stdout",
     "output_type": "stream",
     "text": [
      "found halpha v1 match  VFID6366  \n"
     ]
    },
    {
     "name": "stderr",
     "output_type": "stream",
     "text": [
      "/home/rfinn/anaconda3/lib/python3.7/site-packages/astropy/table/table.py:1473: StringTruncateWarning: truncated right side string(s) longer than 8 character(s) during assignment\n",
      "  col[item] = val\n"
     ]
    },
    {
     "name": "stdout",
     "output_type": "stream",
     "text": [
      "found halpha v1 match  VFID2933  \n"
     ]
    },
    {
     "name": "stderr",
     "output_type": "stream",
     "text": [
      "/home/rfinn/anaconda3/lib/python3.7/site-packages/astropy/table/table.py:1473: StringTruncateWarning: truncated right side string(s) longer than 8 character(s) during assignment\n",
      "  col[item] = val\n"
     ]
    },
    {
     "name": "stdout",
     "output_type": "stream",
     "text": [
      "found halpha v1 match  VFID2945  \n"
     ]
    },
    {
     "name": "stderr",
     "output_type": "stream",
     "text": [
      "/home/rfinn/anaconda3/lib/python3.7/site-packages/astropy/table/table.py:1473: StringTruncateWarning: truncated right side string(s) longer than 8 character(s) during assignment\n",
      "  col[item] = val\n"
     ]
    },
    {
     "name": "stdout",
     "output_type": "stream",
     "text": [
      "found halpha v1 match  VFID2949  \n"
     ]
    },
    {
     "name": "stderr",
     "output_type": "stream",
     "text": [
      "/home/rfinn/anaconda3/lib/python3.7/site-packages/astropy/table/table.py:1473: StringTruncateWarning: truncated right side string(s) longer than 8 character(s) during assignment\n",
      "  col[item] = val\n"
     ]
    },
    {
     "name": "stdout",
     "output_type": "stream",
     "text": [
      "found halpha v1 match  VFID3224  \n"
     ]
    },
    {
     "name": "stderr",
     "output_type": "stream",
     "text": [
      "/home/rfinn/anaconda3/lib/python3.7/site-packages/astropy/table/table.py:1473: StringTruncateWarning: truncated right side string(s) longer than 8 character(s) during assignment\n",
      "  col[item] = val\n"
     ]
    },
    {
     "name": "stdout",
     "output_type": "stream",
     "text": [
      "found halpha v1 match  VFID3119  \n"
     ]
    },
    {
     "name": "stderr",
     "output_type": "stream",
     "text": [
      "/home/rfinn/anaconda3/lib/python3.7/site-packages/astropy/table/table.py:1473: StringTruncateWarning: truncated right side string(s) longer than 8 character(s) during assignment\n",
      "  col[item] = val\n"
     ]
    },
    {
     "name": "stdout",
     "output_type": "stream",
     "text": [
      "found halpha v1 match  VFID3123  \n"
     ]
    },
    {
     "name": "stderr",
     "output_type": "stream",
     "text": [
      "/home/rfinn/anaconda3/lib/python3.7/site-packages/astropy/table/table.py:1473: StringTruncateWarning: truncated right side string(s) longer than 8 character(s) during assignment\n",
      "  col[item] = val\n"
     ]
    },
    {
     "name": "stdout",
     "output_type": "stream",
     "text": [
      "found halpha v1 match  VFID2628  \n"
     ]
    },
    {
     "name": "stderr",
     "output_type": "stream",
     "text": [
      "/home/rfinn/anaconda3/lib/python3.7/site-packages/astropy/table/table.py:1473: StringTruncateWarning: truncated right side string(s) longer than 8 character(s) during assignment\n",
      "  col[item] = val\n"
     ]
    },
    {
     "name": "stdout",
     "output_type": "stream",
     "text": [
      "found halpha v1 match  VFID5308  \n"
     ]
    },
    {
     "name": "stderr",
     "output_type": "stream",
     "text": [
      "/home/rfinn/anaconda3/lib/python3.7/site-packages/astropy/table/table.py:1473: StringTruncateWarning: truncated right side string(s) longer than 8 character(s) during assignment\n",
      "  col[item] = val\n"
     ]
    },
    {
     "name": "stdout",
     "output_type": "stream",
     "text": [
      "found halpha v1 match  VFID1951  \n"
     ]
    },
    {
     "name": "stderr",
     "output_type": "stream",
     "text": [
      "/home/rfinn/anaconda3/lib/python3.7/site-packages/astropy/table/table.py:1473: StringTruncateWarning: truncated right side string(s) longer than 8 character(s) during assignment\n",
      "  col[item] = val\n"
     ]
    },
    {
     "name": "stdout",
     "output_type": "stream",
     "text": [
      "found halpha v1 match  VFID1955  \n"
     ]
    },
    {
     "name": "stderr",
     "output_type": "stream",
     "text": [
      "/home/rfinn/anaconda3/lib/python3.7/site-packages/astropy/table/table.py:1473: StringTruncateWarning: truncated right side string(s) longer than 8 character(s) during assignment\n",
      "  col[item] = val\n"
     ]
    },
    {
     "name": "stdout",
     "output_type": "stream",
     "text": [
      "found halpha v1 match  VFID1959  \n"
     ]
    },
    {
     "name": "stderr",
     "output_type": "stream",
     "text": [
      "/home/rfinn/anaconda3/lib/python3.7/site-packages/astropy/table/table.py:1473: StringTruncateWarning: truncated right side string(s) longer than 8 character(s) during assignment\n",
      "  col[item] = val\n"
     ]
    },
    {
     "name": "stdout",
     "output_type": "stream",
     "text": [
      "found halpha v1 match  VFID1964  \n"
     ]
    },
    {
     "name": "stderr",
     "output_type": "stream",
     "text": [
      "/home/rfinn/anaconda3/lib/python3.7/site-packages/astropy/table/table.py:1473: StringTruncateWarning: truncated right side string(s) longer than 8 character(s) during assignment\n",
      "  col[item] = val\n"
     ]
    },
    {
     "name": "stdout",
     "output_type": "stream",
     "text": [
      "found halpha v1 match  VFID1976  \n"
     ]
    },
    {
     "name": "stderr",
     "output_type": "stream",
     "text": [
      "/home/rfinn/anaconda3/lib/python3.7/site-packages/astropy/table/table.py:1473: StringTruncateWarning: truncated right side string(s) longer than 8 character(s) during assignment\n",
      "  col[item] = val\n"
     ]
    },
    {
     "name": "stdout",
     "output_type": "stream",
     "text": [
      "found halpha v1 match  VFID1979  \n"
     ]
    },
    {
     "name": "stderr",
     "output_type": "stream",
     "text": [
      "/home/rfinn/anaconda3/lib/python3.7/site-packages/astropy/table/table.py:1473: StringTruncateWarning: truncated right side string(s) longer than 8 character(s) during assignment\n",
      "  col[item] = val\n"
     ]
    },
    {
     "name": "stdout",
     "output_type": "stream",
     "text": [
      "found halpha v1 match  VFID2824  \n"
     ]
    },
    {
     "name": "stderr",
     "output_type": "stream",
     "text": [
      "/home/rfinn/anaconda3/lib/python3.7/site-packages/astropy/table/table.py:1473: StringTruncateWarning: truncated right side string(s) longer than 8 character(s) during assignment\n",
      "  col[item] = val\n"
     ]
    },
    {
     "name": "stdout",
     "output_type": "stream",
     "text": [
      "found halpha v1 match  VFID6138  \n"
     ]
    },
    {
     "name": "stderr",
     "output_type": "stream",
     "text": [
      "/home/rfinn/anaconda3/lib/python3.7/site-packages/astropy/table/table.py:1473: StringTruncateWarning: truncated right side string(s) longer than 8 character(s) during assignment\n",
      "  col[item] = val\n"
     ]
    },
    {
     "name": "stdout",
     "output_type": "stream",
     "text": [
      "found halpha v1 match  VFID6143  \n"
     ]
    },
    {
     "name": "stderr",
     "output_type": "stream",
     "text": [
      "/home/rfinn/anaconda3/lib/python3.7/site-packages/astropy/table/table.py:1473: StringTruncateWarning: truncated right side string(s) longer than 8 character(s) during assignment\n",
      "  col[item] = val\n"
     ]
    },
    {
     "name": "stdout",
     "output_type": "stream",
     "text": [
      "found halpha v1 match  VFID6147  \n"
     ]
    },
    {
     "name": "stderr",
     "output_type": "stream",
     "text": [
      "/home/rfinn/anaconda3/lib/python3.7/site-packages/astropy/table/table.py:1473: StringTruncateWarning: truncated right side string(s) longer than 8 character(s) during assignment\n",
      "  col[item] = val\n"
     ]
    },
    {
     "name": "stdout",
     "output_type": "stream",
     "text": [
      "found halpha v1 match  VFID6152  \n"
     ]
    },
    {
     "name": "stderr",
     "output_type": "stream",
     "text": [
      "/home/rfinn/anaconda3/lib/python3.7/site-packages/astropy/table/table.py:1473: StringTruncateWarning: truncated right side string(s) longer than 8 character(s) during assignment\n",
      "  col[item] = val\n"
     ]
    },
    {
     "name": "stdout",
     "output_type": "stream",
     "text": [
      "found halpha v1 match  VFID2657  \n"
     ]
    },
    {
     "name": "stderr",
     "output_type": "stream",
     "text": [
      "/home/rfinn/anaconda3/lib/python3.7/site-packages/astropy/table/table.py:1473: StringTruncateWarning: truncated right side string(s) longer than 8 character(s) during assignment\n",
      "  col[item] = val\n"
     ]
    },
    {
     "name": "stdout",
     "output_type": "stream",
     "text": [
      "found halpha v1 match  VFID2675  \n"
     ]
    },
    {
     "name": "stderr",
     "output_type": "stream",
     "text": [
      "/home/rfinn/anaconda3/lib/python3.7/site-packages/astropy/table/table.py:1473: StringTruncateWarning: truncated right side string(s) longer than 8 character(s) during assignment\n",
      "  col[item] = val\n"
     ]
    },
    {
     "name": "stdout",
     "output_type": "stream",
     "text": [
      "found halpha v1 match  VFID6357  \n"
     ]
    },
    {
     "name": "stderr",
     "output_type": "stream",
     "text": [
      "/home/rfinn/anaconda3/lib/python3.7/site-packages/astropy/table/table.py:1473: StringTruncateWarning: truncated right side string(s) longer than 8 character(s) during assignment\n",
      "  col[item] = val\n"
     ]
    },
    {
     "name": "stdout",
     "output_type": "stream",
     "text": [
      "found halpha v1 match  VFID6411  \n"
     ]
    },
    {
     "name": "stderr",
     "output_type": "stream",
     "text": [
      "/home/rfinn/anaconda3/lib/python3.7/site-packages/astropy/table/table.py:1473: StringTruncateWarning: truncated right side string(s) longer than 8 character(s) during assignment\n",
      "  col[item] = val\n"
     ]
    },
    {
     "name": "stdout",
     "output_type": "stream",
     "text": [
      "found halpha v1 match  VFID6439  \n"
     ]
    },
    {
     "name": "stderr",
     "output_type": "stream",
     "text": [
      "/home/rfinn/anaconda3/lib/python3.7/site-packages/astropy/table/table.py:1473: StringTruncateWarning: truncated right side string(s) longer than 8 character(s) during assignment\n",
      "  col[item] = val\n"
     ]
    },
    {
     "name": "stdout",
     "output_type": "stream",
     "text": [
      "found halpha v1 match  VFID6461  \n"
     ]
    },
    {
     "name": "stderr",
     "output_type": "stream",
     "text": [
      "/home/rfinn/anaconda3/lib/python3.7/site-packages/astropy/table/table.py:1473: StringTruncateWarning: truncated right side string(s) longer than 8 character(s) during assignment\n",
      "  col[item] = val\n"
     ]
    },
    {
     "name": "stdout",
     "output_type": "stream",
     "text": [
      "found halpha v1 match  VFID2596  \n"
     ]
    },
    {
     "name": "stderr",
     "output_type": "stream",
     "text": [
      "/home/rfinn/anaconda3/lib/python3.7/site-packages/astropy/table/table.py:1473: StringTruncateWarning: truncated right side string(s) longer than 8 character(s) during assignment\n",
      "  col[item] = val\n"
     ]
    },
    {
     "name": "stdout",
     "output_type": "stream",
     "text": [
      "found halpha v1 match  VFID2603  \n"
     ]
    },
    {
     "name": "stderr",
     "output_type": "stream",
     "text": [
      "/home/rfinn/anaconda3/lib/python3.7/site-packages/astropy/table/table.py:1473: StringTruncateWarning: truncated right side string(s) longer than 8 character(s) during assignment\n",
      "  col[item] = val\n"
     ]
    },
    {
     "name": "stdout",
     "output_type": "stream",
     "text": [
      "found halpha v1 match  VFID2630  \n"
     ]
    },
    {
     "name": "stderr",
     "output_type": "stream",
     "text": [
      "/home/rfinn/anaconda3/lib/python3.7/site-packages/astropy/table/table.py:1473: StringTruncateWarning: truncated right side string(s) longer than 8 character(s) during assignment\n",
      "  col[item] = val\n"
     ]
    },
    {
     "name": "stdout",
     "output_type": "stream",
     "text": [
      "found halpha v1 match  VFID2667  \n"
     ]
    },
    {
     "name": "stderr",
     "output_type": "stream",
     "text": [
      "/home/rfinn/anaconda3/lib/python3.7/site-packages/astropy/table/table.py:1473: StringTruncateWarning: truncated right side string(s) longer than 8 character(s) during assignment\n",
      "  col[item] = val\n"
     ]
    },
    {
     "name": "stdout",
     "output_type": "stream",
     "text": [
      "found halpha v1 match  VFID2669  \n"
     ]
    },
    {
     "name": "stderr",
     "output_type": "stream",
     "text": [
      "/home/rfinn/anaconda3/lib/python3.7/site-packages/astropy/table/table.py:1473: StringTruncateWarning: truncated right side string(s) longer than 8 character(s) during assignment\n",
      "  col[item] = val\n"
     ]
    },
    {
     "name": "stdout",
     "output_type": "stream",
     "text": [
      "found halpha v1 match  VFID2672  \n"
     ]
    },
    {
     "name": "stderr",
     "output_type": "stream",
     "text": [
      "/home/rfinn/anaconda3/lib/python3.7/site-packages/astropy/table/table.py:1473: StringTruncateWarning: truncated right side string(s) longer than 8 character(s) during assignment\n",
      "  col[item] = val\n"
     ]
    },
    {
     "name": "stdout",
     "output_type": "stream",
     "text": [
      "found halpha v1 match  VFID2679  \n"
     ]
    },
    {
     "name": "stderr",
     "output_type": "stream",
     "text": [
      "/home/rfinn/anaconda3/lib/python3.7/site-packages/astropy/table/table.py:1473: StringTruncateWarning: truncated right side string(s) longer than 8 character(s) during assignment\n",
      "  col[item] = val\n"
     ]
    },
    {
     "name": "stdout",
     "output_type": "stream",
     "text": [
      "found halpha v1 match  VFID2692  \n"
     ]
    },
    {
     "name": "stderr",
     "output_type": "stream",
     "text": [
      "/home/rfinn/anaconda3/lib/python3.7/site-packages/astropy/table/table.py:1473: StringTruncateWarning: truncated right side string(s) longer than 8 character(s) during assignment\n",
      "  col[item] = val\n"
     ]
    },
    {
     "name": "stdout",
     "output_type": "stream",
     "text": [
      "found halpha v1 match  VFID2693  \n"
     ]
    },
    {
     "name": "stderr",
     "output_type": "stream",
     "text": [
      "/home/rfinn/anaconda3/lib/python3.7/site-packages/astropy/table/table.py:1473: StringTruncateWarning: truncated right side string(s) longer than 8 character(s) during assignment\n",
      "  col[item] = val\n"
     ]
    },
    {
     "name": "stdout",
     "output_type": "stream",
     "text": [
      "found halpha v1 match  VFID2703  \n"
     ]
    },
    {
     "name": "stderr",
     "output_type": "stream",
     "text": [
      "/home/rfinn/anaconda3/lib/python3.7/site-packages/astropy/table/table.py:1473: StringTruncateWarning: truncated right side string(s) longer than 8 character(s) during assignment\n",
      "  col[item] = val\n"
     ]
    },
    {
     "name": "stdout",
     "output_type": "stream",
     "text": [
      "found halpha v1 match  VFID3239  \n"
     ]
    },
    {
     "name": "stderr",
     "output_type": "stream",
     "text": [
      "/home/rfinn/anaconda3/lib/python3.7/site-packages/astropy/table/table.py:1473: StringTruncateWarning: truncated right side string(s) longer than 8 character(s) during assignment\n",
      "  col[item] = val\n"
     ]
    },
    {
     "name": "stdout",
     "output_type": "stream",
     "text": [
      "found halpha v1 match  VFID3248  \n"
     ]
    },
    {
     "name": "stderr",
     "output_type": "stream",
     "text": [
      "/home/rfinn/anaconda3/lib/python3.7/site-packages/astropy/table/table.py:1473: StringTruncateWarning: truncated right side string(s) longer than 8 character(s) during assignment\n",
      "  col[item] = val\n"
     ]
    },
    {
     "name": "stdout",
     "output_type": "stream",
     "text": [
      "found halpha v1 match  VFID3264  \n"
     ]
    },
    {
     "name": "stderr",
     "output_type": "stream",
     "text": [
      "/home/rfinn/anaconda3/lib/python3.7/site-packages/astropy/table/table.py:1473: StringTruncateWarning: truncated right side string(s) longer than 8 character(s) during assignment\n",
      "  col[item] = val\n"
     ]
    },
    {
     "name": "stdout",
     "output_type": "stream",
     "text": [
      "found halpha v1 match  VFID3279  \n"
     ]
    },
    {
     "name": "stderr",
     "output_type": "stream",
     "text": [
      "/home/rfinn/anaconda3/lib/python3.7/site-packages/astropy/table/table.py:1473: StringTruncateWarning: truncated right side string(s) longer than 8 character(s) during assignment\n",
      "  col[item] = val\n"
     ]
    },
    {
     "name": "stdout",
     "output_type": "stream",
     "text": [
      "found halpha v1 match  VFID3290  \n"
     ]
    },
    {
     "name": "stderr",
     "output_type": "stream",
     "text": [
      "/home/rfinn/anaconda3/lib/python3.7/site-packages/astropy/table/table.py:1473: StringTruncateWarning: truncated right side string(s) longer than 8 character(s) during assignment\n",
      "  col[item] = val\n"
     ]
    },
    {
     "name": "stdout",
     "output_type": "stream",
     "text": [
      "found halpha v1 match  VFID2058  \n"
     ]
    },
    {
     "name": "stderr",
     "output_type": "stream",
     "text": [
      "/home/rfinn/anaconda3/lib/python3.7/site-packages/astropy/table/table.py:1473: StringTruncateWarning: truncated right side string(s) longer than 8 character(s) during assignment\n",
      "  col[item] = val\n"
     ]
    },
    {
     "name": "stdout",
     "output_type": "stream",
     "text": [
      "found halpha v1 match  VFID2082  \n"
     ]
    },
    {
     "name": "stderr",
     "output_type": "stream",
     "text": [
      "/home/rfinn/anaconda3/lib/python3.7/site-packages/astropy/table/table.py:1473: StringTruncateWarning: truncated right side string(s) longer than 8 character(s) during assignment\n",
      "  col[item] = val\n"
     ]
    },
    {
     "name": "stdout",
     "output_type": "stream",
     "text": [
      "found halpha v1 match  VFID2086  \n"
     ]
    },
    {
     "name": "stderr",
     "output_type": "stream",
     "text": [
      "/home/rfinn/anaconda3/lib/python3.7/site-packages/astropy/table/table.py:1473: StringTruncateWarning: truncated right side string(s) longer than 8 character(s) during assignment\n",
      "  col[item] = val\n"
     ]
    },
    {
     "name": "stdout",
     "output_type": "stream",
     "text": [
      "found halpha v1 match  VFID2088  \n"
     ]
    },
    {
     "name": "stderr",
     "output_type": "stream",
     "text": [
      "/home/rfinn/anaconda3/lib/python3.7/site-packages/astropy/table/table.py:1473: StringTruncateWarning: truncated right side string(s) longer than 8 character(s) during assignment\n",
      "  col[item] = val\n"
     ]
    },
    {
     "name": "stdout",
     "output_type": "stream",
     "text": [
      "found halpha v1 match  VFID2092  \n"
     ]
    },
    {
     "name": "stderr",
     "output_type": "stream",
     "text": [
      "/home/rfinn/anaconda3/lib/python3.7/site-packages/astropy/table/table.py:1473: StringTruncateWarning: truncated right side string(s) longer than 8 character(s) during assignment\n",
      "  col[item] = val\n"
     ]
    },
    {
     "name": "stdout",
     "output_type": "stream",
     "text": [
      "found halpha v1 match  VFID6108  \n"
     ]
    },
    {
     "name": "stderr",
     "output_type": "stream",
     "text": [
      "/home/rfinn/anaconda3/lib/python3.7/site-packages/astropy/table/table.py:1473: StringTruncateWarning: truncated right side string(s) longer than 8 character(s) during assignment\n",
      "  col[item] = val\n"
     ]
    },
    {
     "name": "stdout",
     "output_type": "stream",
     "text": [
      "found halpha v1 match  VFID6137  \n"
     ]
    },
    {
     "name": "stderr",
     "output_type": "stream",
     "text": [
      "/home/rfinn/anaconda3/lib/python3.7/site-packages/astropy/table/table.py:1473: StringTruncateWarning: truncated right side string(s) longer than 8 character(s) during assignment\n",
      "  col[item] = val\n"
     ]
    },
    {
     "name": "stdout",
     "output_type": "stream",
     "text": [
      "found halpha v1 match  VFID6141  \n"
     ]
    },
    {
     "name": "stderr",
     "output_type": "stream",
     "text": [
      "/home/rfinn/anaconda3/lib/python3.7/site-packages/astropy/table/table.py:1473: StringTruncateWarning: truncated right side string(s) longer than 8 character(s) during assignment\n",
      "  col[item] = val\n"
     ]
    },
    {
     "name": "stdout",
     "output_type": "stream",
     "text": [
      "found halpha v1 match  VFID3000  \n"
     ]
    },
    {
     "name": "stderr",
     "output_type": "stream",
     "text": [
      "/home/rfinn/anaconda3/lib/python3.7/site-packages/astropy/table/table.py:1473: StringTruncateWarning: truncated right side string(s) longer than 8 character(s) during assignment\n",
      "  col[item] = val\n"
     ]
    },
    {
     "name": "stdout",
     "output_type": "stream",
     "text": [
      "found halpha v1 match  VFID3006  \n"
     ]
    },
    {
     "name": "stderr",
     "output_type": "stream",
     "text": [
      "/home/rfinn/anaconda3/lib/python3.7/site-packages/astropy/table/table.py:1473: StringTruncateWarning: truncated right side string(s) longer than 8 character(s) during assignment\n",
      "  col[item] = val\n"
     ]
    },
    {
     "name": "stdout",
     "output_type": "stream",
     "text": [
      "found halpha v1 match  VFID3036  \n"
     ]
    },
    {
     "name": "stderr",
     "output_type": "stream",
     "text": [
      "/home/rfinn/anaconda3/lib/python3.7/site-packages/astropy/table/table.py:1473: StringTruncateWarning: truncated right side string(s) longer than 8 character(s) during assignment\n",
      "  col[item] = val\n"
     ]
    },
    {
     "name": "stdout",
     "output_type": "stream",
     "text": [
      "found halpha v1 match  VFID3039  \n"
     ]
    },
    {
     "name": "stderr",
     "output_type": "stream",
     "text": [
      "/home/rfinn/anaconda3/lib/python3.7/site-packages/astropy/table/table.py:1473: StringTruncateWarning: truncated right side string(s) longer than 8 character(s) during assignment\n",
      "  col[item] = val\n"
     ]
    },
    {
     "name": "stdout",
     "output_type": "stream",
     "text": [
      "found halpha v1 match  VFID3043  \n"
     ]
    },
    {
     "name": "stderr",
     "output_type": "stream",
     "text": [
      "/home/rfinn/anaconda3/lib/python3.7/site-packages/astropy/table/table.py:1473: StringTruncateWarning: truncated right side string(s) longer than 8 character(s) during assignment\n",
      "  col[item] = val\n"
     ]
    },
    {
     "name": "stdout",
     "output_type": "stream",
     "text": [
      "found halpha v1 match  VFID3365  \n"
     ]
    },
    {
     "name": "stderr",
     "output_type": "stream",
     "text": [
      "/home/rfinn/anaconda3/lib/python3.7/site-packages/astropy/table/table.py:1473: StringTruncateWarning: truncated right side string(s) longer than 8 character(s) during assignment\n",
      "  col[item] = val\n"
     ]
    },
    {
     "name": "stdout",
     "output_type": "stream",
     "text": [
      "found halpha v1 match  VFID3366  \n"
     ]
    },
    {
     "name": "stderr",
     "output_type": "stream",
     "text": [
      "/home/rfinn/anaconda3/lib/python3.7/site-packages/astropy/table/table.py:1473: StringTruncateWarning: truncated right side string(s) longer than 8 character(s) during assignment\n",
      "  col[item] = val\n"
     ]
    },
    {
     "name": "stdout",
     "output_type": "stream",
     "text": [
      "found halpha v1 match  VFID3372  \n"
     ]
    },
    {
     "name": "stderr",
     "output_type": "stream",
     "text": [
      "/home/rfinn/anaconda3/lib/python3.7/site-packages/astropy/table/table.py:1473: StringTruncateWarning: truncated right side string(s) longer than 8 character(s) during assignment\n",
      "  col[item] = val\n"
     ]
    },
    {
     "name": "stdout",
     "output_type": "stream",
     "text": [
      "found halpha v1 match  VFID3384  \n"
     ]
    },
    {
     "name": "stderr",
     "output_type": "stream",
     "text": [
      "/home/rfinn/anaconda3/lib/python3.7/site-packages/astropy/table/table.py:1473: StringTruncateWarning: truncated right side string(s) longer than 8 character(s) during assignment\n",
      "  col[item] = val\n"
     ]
    },
    {
     "name": "stdout",
     "output_type": "stream",
     "text": [
      "found halpha v1 match  VFID2521  \n"
     ]
    },
    {
     "name": "stderr",
     "output_type": "stream",
     "text": [
      "/home/rfinn/anaconda3/lib/python3.7/site-packages/astropy/table/table.py:1473: StringTruncateWarning: truncated right side string(s) longer than 8 character(s) during assignment\n",
      "  col[item] = val\n"
     ]
    },
    {
     "name": "stdout",
     "output_type": "stream",
     "text": [
      "calculating snr\n"
     ]
    },
    {
     "name": "stderr",
     "output_type": "stream",
     "text": [
      "/home/rfinn/github/Virgo/programs/write_subtables.py:797: RuntimeWarning: invalid value encountered in true_divide\n",
      "  #self.hatable['HAflag'].description = 'halpha snr > 1'\n",
      "/home/rfinn/anaconda3/lib/python3.7/site-packages/astropy/table/column.py:984: RuntimeWarning: invalid value encountered in greater\n",
      "  result = getattr(super(), op)(other)\n"
     ]
    },
    {
     "name": "stdout",
     "output_type": "stream",
     "text": [
      "setting HAflag\n",
      "writing hafile\n",
      "finished writing hafile\n",
      "number of galaxies with D25 measurement = 5732 (0.84%)\n",
      "number of galaxies using NSA V1 Petro TH90 = 474 (0.07%)\n",
      "number of galaxies using NSA V1 Petro TH90 = 56 (0.01%)\n",
      "number of galaxies using A100 sdss Petro TH90 = 262 (0.04%)\n",
      "number of galaxies with no size measurement = 273 (0.04%)\n",
      "adjusting radius for  --  galaxies based on legacy images\n",
      "number of galaxies with updated values of radius =  146\n",
      "CALCULATING SFRS\n",
      "1.1938664808532806\n"
     ]
    },
    {
     "name": "stderr",
     "output_type": "stream",
     "text": [
      "/home/rfinn/github/Virgo/programs/write_subtables.py:416: RuntimeWarning: divide by zero encountered in log10\n",
      "  self.logMHI = np.log10(2.3566e5*self.cat['HIflux'])+2*np.log10(self.cat['Dist']) #Dist^2\n",
      "/home/rfinn/github/Virgo/programs/write_subtables.py:442: RuntimeWarning: divide by zero encountered in log10\n",
      "  logD25kpc=np.log10(D25obskpc.value) + 0.35*np.log10(self.cat['expAB_r'])\n",
      "/home/rfinn/anaconda3/lib/python3.7/site-packages/astropy/table/column.py:984: RuntimeWarning: invalid value encountered in less\n",
      "  result = getattr(super(), op)(other)\n",
      "/home/rfinn/github/Virgo/programs/write_subtables.py:472: RuntimeWarning: invalid value encountered in subtract\n",
      "  self.HIdef_jones_bytype[flag] = 6.44 + 1.04*(2*logD25kpc[flag])- self.logMHI[flag]\n",
      "/home/rfinn/github/Virgo/programs/write_subtables.py:474: RuntimeWarning: invalid value encountered in subtract\n",
      "  self.HIdef_jones_bytype[flag] = 7.53 + .81*(2*logD25kpc[flag]) - self.logMHI[flag]\n",
      "/home/rfinn/anaconda3/lib/python3.7/site-packages/astropy/table/column.py:984: RuntimeWarning: invalid value encountered in less_equal\n",
      "  result = getattr(super(), op)(other)\n",
      "/home/rfinn/anaconda3/lib/python3.7/site-packages/astropy/table/column.py:984: RuntimeWarning: invalid value encountered in greater_equal\n",
      "  result = getattr(super(), op)(other)\n",
      "/home/rfinn/github/Virgo/programs/write_subtables.py:476: RuntimeWarning: invalid value encountered in subtract\n",
      "  self.HIdef_jones_bytype[flag] = 7.14 + .93*(2*logD25kpc[flag]) - self.logMHI[flag]\n",
      "/home/rfinn/github/Virgo/programs/write_subtables.py:487: RuntimeWarning: invalid value encountered in subtract\n",
      "  self.HIdef_bos = logh2MHIref - self.logMHI\n"
     ]
    },
    {
     "name": "stdout",
     "output_type": "stream",
     "text": [
      "number of lines in z0MGS cat =  9151\n",
      "length of keepnorth_flag =  9151\n"
     ]
    },
    {
     "name": "stderr",
     "output_type": "stream",
     "text": [
      "WARNING: UnitsWarning: ''dex'' did not parse as fits unit: At col 0, Unit ''dex'' not supported by the FITS standard.  [astropy.units.core]\n",
      "WARNING: UnitsWarning: 'log(solMass)' did not parse as fits unit: 'log' is not a recognized function [astropy.units.core]\n",
      "WARNING: UnitsWarning: 'log(solMass/yr)' did not parse as fits unit: 'log' is not a recognized function [astropy.units.core]\n",
      "WARNING: Attribute `keywords` of type <class 'collections.OrderedDict'> cannot be added to FITS Header - skipping [astropy.io.fits.convenience]\n"
     ]
    },
    {
     "name": "stdout",
     "output_type": "stream",
     "text": [
      "Number in sample =  6797\n",
      "Number with CO data =  242\n",
      "Number with A100 data = 2336 (0.344)\n",
      "Number with z0MGS matches = 2375 (0.349)\n",
      "Number with steer17 matches = 1959 (0.288)\n",
      "Number with unwise matches = 6126 (0.901)\n",
      "Number with unWISE and NSA = 5240 (0.771)\n",
      "CO SOURCES\n",
      "\tNumber of CO sources in z0MGS = 236 (0.98)\n",
      "\tNumber of CO sources in Steer = 179 (0.74)\n",
      "\tNumber of CO sources in z0MGS+Steer = 179 (0.74)\n",
      "\tNumber of CO sources with unWISE and NSA = 228 (0.94)\n"
     ]
    },
    {
     "data": {
      "text/plain": [
       "<Figure size 432x288 with 0 Axes>"
      ]
     },
     "metadata": {},
     "output_type": "display_data"
    },
    {
     "data": {
      "image/png": "[encoded data removed]",
      "text/plain": [
       "<Figure size 432x288 with 1 Axes>"
      ]
     },
     "metadata": {
      "needs_background": "light"
     },
     "output_type": "display_data"
    }
   ],
   "source": [
    "# write sub tables\n",
    "\n",
    "# commenting out get_unwise, because I'll have to match to new table\n",
    "os.chdir('/home/rfinn/research/Virgo/supersample/')\n",
    "%run ~/github/Virgo/programs/write_subtables.py --north --hav1\n",
    "c.runall()"
   ]
  },
  {
   "cell_type": "code",
   "execution_count": 6,
   "metadata": {},
   "outputs": [
    {
     "data": {
      "text/plain": [
       "262"
      ]
     },
     "execution_count": 6,
     "metadata": {},
     "output_type": "execute_result"
    }
   ],
   "source": [
    "len(c.hav1)"
   ]
  },
  {
   "cell_type": "code",
   "execution_count": 8,
   "metadata": {},
   "outputs": [
    {
     "data": {
      "text/plain": [
       "'VFID2837'"
      ]
     },
     "execution_count": 8,
     "metadata": {},
     "output_type": "execute_result"
    }
   ],
   "source": [
    "c.hav1['VFID'][0].rstrip()"
   ]
  },
  {
   "cell_type": "code",
   "execution_count": null,
   "metadata": {},
   "outputs": [],
   "source": [
    "t = Table.read(homedir+'/research/Virgo/google-tables/VF-notin-SGA-10arcsecmatch-bestmatch-symmetric.csv',format='ascii')"
   ]
  },
  {
   "cell_type": "code",
   "execution_count": null,
   "metadata": {},
   "outputs": [],
   "source": []
  },
  {
   "cell_type": "markdown",
   "metadata": {},
   "source": [
    "# Creating other tables\n",
    "\n",
    "* first round through subtables will create a table with\n",
    "  - RA, DEC,\n",
    "\n",
    "* z0MGS\n",
    "\n",
    "* unWISE\n",
    "\n",
    "* cross-match to Tempel catalog \n",
    "  * BV has program to cross match mastertable with Tempel catalog\n",
    "  * create a line-matched table with group 1 and properties of the parent halo for each galaxy that matches to Tempel\n",
    "  * it will also include a field/filament/cluster identifier\n",
    "  \n",
    "* Gianluca's environment table\n",
    "  * where is the best place to put this, does it need to run again?\n",
    "  \n",
    "* legacy photometry"
   ]
  },
  {
   "cell_type": "markdown",
   "metadata": {},
   "source": [
    "# Old stuff - keeping in case it's useful"
   ]
  },
  {
   "cell_type": "code",
   "execution_count": null,
   "metadata": {},
   "outputs": [],
   "source": [
    "d = fits.getdata('/home/rfinn/research/Virgo/supersample/vf_clean_sample.fits')"
   ]
  },
  {
   "cell_type": "code",
   "execution_count": null,
   "metadata": {},
   "outputs": [],
   "source": [
    "vfdict = dict((a,b) for a,b in zip(d['VFID'],d['galnumber']))"
   ]
  },
  {
   "cell_type": "code",
   "execution_count": null,
   "metadata": {},
   "outputs": [],
   "source": [
    "dd = Table.read('/home/rfinn/research/Virgo/tables-north/v1/vfid-2delete.txt',format='ascii',data_start=0)"
   ]
  },
  {
   "cell_type": "code",
   "execution_count": null,
   "metadata": {},
   "outputs": [],
   "source": [
    "# old stuff that might be useful, but didn't work for making version 1\n",
    "outfile = open('/home/rfinn/research/Virgo/tables-north/v1/byeyeid-2delete.txt','w')\n",
    "for d in dd:\n",
    "    print(d[0],vfdict[d[0]])\n",
    "    s = str(str(vfdict[d[0]])+'\\n')\n",
    "    outfile.write(s)\n",
    "outfile.close()"
   ]
  },
  {
   "cell_type": "markdown",
   "metadata": {},
   "source": [
    "# Problem with NED names\n",
    "\n",
    "* I noticed that a lot of galaxies are missing a NED name. in table in overleaf paper, for example:\n",
    "  *  VFID3001, PGC1849931 is listed as NEDname=N/A\n",
    "  * but a NED search shows the name is SDSS J121703.43+285449.2.\n",
    "  \n",
    "* I moved the NED file to for the program to query NED names again\n",
    " \n",
    "```\n",
    "mv ned_names_v1_evcc.fits ned_names_v1_evcc_old.fits\n",
    "```\n",
    "  "
   ]
  },
  {
   "cell_type": "code",
   "execution_count": 1,
   "metadata": {},
   "outputs": [],
   "source": [
    "import time"
   ]
  },
  {
   "cell_type": "code",
   "execution_count": 10,
   "metadata": {},
   "outputs": [
    {
     "name": "stdout",
     "output_type": "stream",
     "text": [
      "Help on built-in function sleep in module time:\n",
      "\n",
      "sleep(...)\n",
      "    sleep(seconds)\n",
      "    \n",
      "    Delay execution for a given number of seconds.  The argument may be\n",
      "    a floating point number for subsecond precision.\n",
      "\n"
     ]
    }
   ],
   "source": [
    "help(time.sleep)"
   ]
  },
  {
   "cell_type": "code",
   "execution_count": 9,
   "metadata": {
    "scrolled": true
   },
   "outputs": [
    {
     "name": "stdout",
     "output_type": "stream",
     "text": [
      "Running on Rose's computer\n",
      "querying NED names from database\n",
      "156 2 NED did not like  [CKT2009]D1019+69\n",
      "156 154.97050199999998 69.1885825\n",
      "No.        Object Name            RA     ... Diameter Points Associations\n",
      "                               degrees   ...                             \n",
      "--- ------------------------- ---------- ... --------------- ------------\n",
      "  1 WISEA J101952.44+691119.7  154.97042 ...               0            0\n",
      "  2 WISEA J101953.15+691128.3  154.97147 ...               0            0\n",
      "161 2 NED did not like  [CKT2009]D0946+68\n",
      "161 146.554182 68.7153262\n",
      "No.         Object Name              RA     ... Diameter Points Associations\n",
      "                                  degrees   ...                             \n",
      "--- ---------------------------- ---------- ... --------------- ------------\n",
      "  1           PGC1 5056945 GROUP  146.55414 ...               0            0\n",
      "  2 GALEXMSC J094613.00+684258.4  146.55417 ...               0            0\n",
      "  3    WISEA J094613.97+684303.0  146.55812 ...               4            0\n",
      "180 141.6526275 67.4112907\n",
      "No.         Object Name              RA     ... Diameter Points Associations\n",
      "                                  degrees   ...                             \n",
      "--- ---------------------------- ---------- ... --------------- ------------\n",
      "  1     SDSS J092636.63+672440.6  141.65265 ...               4            0\n",
      "  2    WISEA J092636.81+672442.7  141.65339 ...               0            0\n",
      "  3 GALEXASC J092637.44+672448.5  141.65601 ...               0            0\n",
      "  4     SDSS J092637.64+672444.5  141.65687 ...               4            0\n",
      "385 245.21731112326881 62.433934050249185\n",
      "No.  Object Name       RA     ... Redshift Points Diameter Points Associations\n",
      "                    degrees   ...                                             \n",
      "--- -------------- ---------- ... --------------- --------------- ------------\n",
      "  1 MCG +10-23-067  245.21758 ...               0               2            0\n",
      "469 175.4438415 60.9945906\n",
      "No.        Object Name            RA     ... Diameter Points Associations\n",
      "                               degrees   ...                             \n",
      "--- ------------------------- ---------- ... --------------- ------------\n",
      "  1  SDSS J114145.90+605931.9  175.44126 ...               4            0\n",
      "  2 WISEA J114146.48+605940.6  175.44401 ...               0            0\n"
     ]
    },
    {
     "ename": "KeyboardInterrupt",
     "evalue": "",
     "output_type": "error",
     "traceback": [
      "\u001b[0;31m---------------------------------------------------------------------------\u001b[0m",
      "\u001b[0;31mKeyboardInterrupt\u001b[0m                         Traceback (most recent call last)",
      "\u001b[0;32m~/github/Virgo/programs/get_NEDname.py\u001b[0m in \u001b[0;36m<module>\u001b[0;34m\u001b[0m\n\u001b[1;32m    380\u001b[0m     \u001b[0;31m#n = getNED('vf_clean_sample.fits') # for v0\u001b[0m\u001b[0;34m\u001b[0m\u001b[0;34m\u001b[0m\u001b[0;34m\u001b[0m\u001b[0m\n\u001b[1;32m    381\u001b[0m     \u001b[0mn\u001b[0m \u001b[0;34m=\u001b[0m \u001b[0mgetNED\u001b[0m\u001b[0;34m(\u001b[0m\u001b[0;34m'vf_clean_sample_v1.fits'\u001b[0m\u001b[0;34m)\u001b[0m \u001b[0;31m# for v1\u001b[0m\u001b[0;34m\u001b[0m\u001b[0;34m\u001b[0m\u001b[0m\n\u001b[0;32m--> 382\u001b[0;31m     \u001b[0mn\u001b[0m\u001b[0;34m.\u001b[0m\u001b[0mget_NEDname\u001b[0m\u001b[0;34m(\u001b[0m\u001b[0;34m)\u001b[0m\u001b[0;34m\u001b[0m\u001b[0;34m\u001b[0m\u001b[0m\n\u001b[0m\u001b[1;32m    383\u001b[0m     \u001b[0;31m#n.query_unmatched()\u001b[0m\u001b[0;34m\u001b[0m\u001b[0;34m\u001b[0m\u001b[0;34m\u001b[0m\u001b[0m\n\u001b[1;32m    384\u001b[0m     \u001b[0;31m#n.write_NEDnames()\u001b[0m\u001b[0;34m\u001b[0m\u001b[0;34m\u001b[0m\u001b[0;34m\u001b[0m\u001b[0m\n",
      "\u001b[0;32m~/github/Virgo/programs/get_NEDname.py\u001b[0m in \u001b[0;36mget_NEDname\u001b[0;34m(self)\u001b[0m\n\u001b[1;32m     61\u001b[0m             \u001b[0;31m#sys.exit() # for testing purposes\u001b[0m\u001b[0;34m\u001b[0m\u001b[0;34m\u001b[0m\u001b[0;34m\u001b[0m\u001b[0m\n\u001b[1;32m     62\u001b[0m             \u001b[0mprint\u001b[0m\u001b[0;34m(\u001b[0m\u001b[0;34m'querying NED names from database'\u001b[0m\u001b[0;34m)\u001b[0m\u001b[0;34m\u001b[0m\u001b[0;34m\u001b[0m\u001b[0m\n\u001b[0;32m---> 63\u001b[0;31m             \u001b[0mself\u001b[0m\u001b[0;34m.\u001b[0m\u001b[0mget_NEDname_query\u001b[0m\u001b[0;34m(\u001b[0m\u001b[0;34m)\u001b[0m\u001b[0;34m\u001b[0m\u001b[0;34m\u001b[0m\u001b[0m\n\u001b[0m\u001b[1;32m     64\u001b[0m     \u001b[0;32mdef\u001b[0m \u001b[0mget_NEDname_from_file\u001b[0m\u001b[0;34m(\u001b[0m\u001b[0mself\u001b[0m\u001b[0;34m)\u001b[0m\u001b[0;34m:\u001b[0m\u001b[0;34m\u001b[0m\u001b[0;34m\u001b[0m\u001b[0m\n\u001b[1;32m     65\u001b[0m \u001b[0;34m\u001b[0m\u001b[0m\n",
      "\u001b[0;32m~/github/Virgo/programs/get_NEDname.py\u001b[0m in \u001b[0;36mget_NEDname_query\u001b[0;34m(self, startindex)\u001b[0m\n\u001b[1;32m    219\u001b[0m             \u001b[0mfoundit\u001b[0m\u001b[0;34m=\u001b[0m\u001b[0;32mFalse\u001b[0m\u001b[0;34m\u001b[0m\u001b[0;34m\u001b[0m\u001b[0m\n\u001b[1;32m    220\u001b[0m             \u001b[0;32mif\u001b[0m \u001b[0mself\u001b[0m\u001b[0;34m.\u001b[0m\u001b[0mclean_a100\u001b[0m\u001b[0;34m[\u001b[0m\u001b[0;34m'HLflag'\u001b[0m\u001b[0;34m]\u001b[0m\u001b[0;34m[\u001b[0m\u001b[0mi\u001b[0m\u001b[0;34m]\u001b[0m\u001b[0;34m:\u001b[0m\u001b[0;34m\u001b[0m\u001b[0;34m\u001b[0m\u001b[0m\n\u001b[0;32m--> 221\u001b[0;31m                 \u001b[0mtime\u001b[0m\u001b[0;34m.\u001b[0m\u001b[0msleep\u001b[0m\u001b[0;34m(\u001b[0m\u001b[0;36m1\u001b[0m\u001b[0;34m)\u001b[0m\u001b[0;34m\u001b[0m\u001b[0;34m\u001b[0m\u001b[0m\n\u001b[0m\u001b[1;32m    222\u001b[0m                 \u001b[0;32mtry\u001b[0m\u001b[0;34m:\u001b[0m\u001b[0;34m\u001b[0m\u001b[0;34m\u001b[0m\u001b[0m\n\u001b[1;32m    223\u001b[0m                     \u001b[0mt\u001b[0m \u001b[0;34m=\u001b[0m \u001b[0mNed\u001b[0m\u001b[0;34m.\u001b[0m\u001b[0mquery_object\u001b[0m\u001b[0;34m(\u001b[0m\u001b[0mself\u001b[0m\u001b[0;34m.\u001b[0m\u001b[0mclean_a100\u001b[0m\u001b[0;34m[\u001b[0m\u001b[0;34m'objname'\u001b[0m\u001b[0;34m]\u001b[0m\u001b[0;34m[\u001b[0m\u001b[0mi\u001b[0m\u001b[0;34m]\u001b[0m\u001b[0;34m)\u001b[0m\u001b[0;34m\u001b[0m\u001b[0;34m\u001b[0m\u001b[0m\n",
      "\u001b[0;31mKeyboardInterrupt\u001b[0m: "
     ]
    },
    {
     "name": "stdout",
     "output_type": "stream",
     "text": [
      "elapsed time = 733.5984244059946\n"
     ]
    }
   ],
   "source": [
    "start_time = time.perf_counter()\n",
    "os.chdir('/home/rfinn/research/Virgo/supersample/')\n",
    "%run ~/github/Virgo/programs/get_NEDname.py --evcc\n",
    "print('elapsed time = {}'.format(time.perf_counter()-start_time))"
   ]
  },
  {
   "cell_type": "markdown",
   "metadata": {},
   "source": [
    "## Ran this in a terminal instead.\n",
    "\n",
    "* output tables\n",
    "\n",
    "| Tables | Contents |\n",
    "|--------|-----------|\n",
    "| ned_names_v1_evcc.fits | NEDinput, NEDname, RA, DEC |\n",
    "| vf_clean_sample_wNEDname_v1_evcc.fits | |\n",
    "\n",
    "* checked galaxy from table, VFID3001, and it now has the right NED name - yay, yay, yay!!!\n",
    "\n",
    "\n",
    "## Need to remake the v1 tables and upload them to drive\n",
    "\n",
    "* there are 12 duplicates in the vf_clean_sample_wNEDname_v1_evcc.fits\n",
    "\n",
    "* going to check to see what happens when I make the subtables.\n",
    "\n",
    "* still have 7 pairs - saved these in a separate table\n",
    "```\n",
    "~/research/Virgo/tables-north/duplicates-v1-after-rematching-nedname.fits\n",
    "```\n",
    "\n",
    "\n"
   ]
  },
  {
   "cell_type": "code",
   "execution_count": 11,
   "metadata": {},
   "outputs": [
    {
     "name": "stderr",
     "output_type": "stream",
     "text": [
      "/home/rfinn/anaconda3/lib/python3.7/site-packages/astropy/table/column.py:984: RuntimeWarning: invalid value encountered in greater\n",
      "  result = getattr(super(), op)(other)\n"
     ]
    },
    {
     "name": "stdout",
     "output_type": "stream",
     "text": [
      "CO sources with no match in mastertable:\n",
      "        NEDname                source_name         VH \n",
      "------------------------ ----------------------- -----\n",
      "                NGC 4214                 NGC4214 291.0\n",
      "                NGC 4244                 NGC4244 244.0\n",
      "SDSS J120958.40+462726.6 SDSSJ120958.40+462726.6 265.0\n",
      "number of galaxies with CO matches =  242\n",
      "number of duplicates =  7\n",
      "CO sources that are matched to multiple galaxies in the mastertable:\n",
      "         NEDname         \n",
      "-------------------------\n",
      "                 FGC 2028\n",
      "                UGC 06782\n",
      "                UGC 10770\n",
      "                 VCC 0632\n",
      "                 VCC 0967\n",
      "                 VCC 1550\n",
      "WISEA J080947.89+222730.3\n",
      "number of duplicates =  10\n",
      "Halpha sources that are listed multiple times in the halpha file:\n",
      "  VFID  \n",
      "--------\n",
      "VFID2060\n",
      "VFID2076\n",
      "VFID2080\n",
      "VFID2089\n",
      "VFID2095\n",
      "VFID2136\n",
      "VFID2141\n",
      "VFID2145\n",
      "VFID2154\n",
      "VFID2157\n",
      "number of lines in ha file after deleting rows =  100\n",
      "number of columns after removing cols =  224\n",
      "number of Halpha matches =  100\n",
      "reading in halpha v1 table  /home/rfinn/research/Virgo/halpha-tables-v1/halpha-26Feb2021.fits\n",
      "number of columns after removing cols =  224\n",
      "found halpha v1 match  VFID2837  \n"
     ]
    },
    {
     "name": "stderr",
     "output_type": "stream",
     "text": [
      "/home/rfinn/anaconda3/lib/python3.7/site-packages/astropy/table/table.py:1473: StringTruncateWarning: truncated right side string(s) longer than 8 character(s) during assignment\n",
      "  col[item] = val\n"
     ]
    },
    {
     "name": "stdout",
     "output_type": "stream",
     "text": [
      "found halpha v1 match  VFID2842  \n"
     ]
    },
    {
     "name": "stderr",
     "output_type": "stream",
     "text": [
      "/home/rfinn/anaconda3/lib/python3.7/site-packages/astropy/table/table.py:1473: StringTruncateWarning: truncated right side string(s) longer than 8 character(s) during assignment\n",
      "  col[item] = val\n"
     ]
    },
    {
     "name": "stdout",
     "output_type": "stream",
     "text": [
      "found halpha v1 match  VFID2853  \n"
     ]
    },
    {
     "name": "stderr",
     "output_type": "stream",
     "text": [
      "/home/rfinn/anaconda3/lib/python3.7/site-packages/astropy/table/table.py:1473: StringTruncateWarning: truncated right side string(s) longer than 8 character(s) during assignment\n",
      "  col[item] = val\n"
     ]
    },
    {
     "name": "stdout",
     "output_type": "stream",
     "text": [
      "found halpha v1 match  VFID2550  \n"
     ]
    },
    {
     "name": "stderr",
     "output_type": "stream",
     "text": [
      "/home/rfinn/anaconda3/lib/python3.7/site-packages/astropy/table/table.py:1473: StringTruncateWarning: truncated right side string(s) longer than 8 character(s) during assignment\n",
      "  col[item] = val\n"
     ]
    },
    {
     "name": "stdout",
     "output_type": "stream",
     "text": [
      "found halpha v1 match  VFID2552  \n"
     ]
    },
    {
     "name": "stderr",
     "output_type": "stream",
     "text": [
      "/home/rfinn/anaconda3/lib/python3.7/site-packages/astropy/table/table.py:1473: StringTruncateWarning: truncated right side string(s) longer than 8 character(s) during assignment\n",
      "  col[item] = val\n"
     ]
    },
    {
     "name": "stdout",
     "output_type": "stream",
     "text": [
      "found halpha v1 match  VFID2553  \n"
     ]
    },
    {
     "name": "stderr",
     "output_type": "stream",
     "text": [
      "/home/rfinn/anaconda3/lib/python3.7/site-packages/astropy/table/table.py:1473: StringTruncateWarning: truncated right side string(s) longer than 8 character(s) during assignment\n",
      "  col[item] = val\n"
     ]
    },
    {
     "name": "stdout",
     "output_type": "stream",
     "text": [
      "found halpha v1 match  VFID2560  \n"
     ]
    },
    {
     "name": "stderr",
     "output_type": "stream",
     "text": [
      "/home/rfinn/anaconda3/lib/python3.7/site-packages/astropy/table/table.py:1473: StringTruncateWarning: truncated right side string(s) longer than 8 character(s) during assignment\n",
      "  col[item] = val\n"
     ]
    },
    {
     "name": "stdout",
     "output_type": "stream",
     "text": [
      "found halpha v1 match  VFID6367  \n"
     ]
    },
    {
     "name": "stderr",
     "output_type": "stream",
     "text": [
      "/home/rfinn/anaconda3/lib/python3.7/site-packages/astropy/table/table.py:1473: StringTruncateWarning: truncated right side string(s) longer than 8 character(s) during assignment\n",
      "  col[item] = val\n"
     ]
    },
    {
     "name": "stdout",
     "output_type": "stream",
     "text": [
      "found halpha v1 match  VFID6389  \n"
     ]
    },
    {
     "name": "stderr",
     "output_type": "stream",
     "text": [
      "/home/rfinn/anaconda3/lib/python3.7/site-packages/astropy/table/table.py:1473: StringTruncateWarning: truncated right side string(s) longer than 8 character(s) during assignment\n",
      "  col[item] = val\n"
     ]
    },
    {
     "name": "stdout",
     "output_type": "stream",
     "text": [
      "found halpha v1 match  VFID6403  \n"
     ]
    },
    {
     "name": "stderr",
     "output_type": "stream",
     "text": [
      "/home/rfinn/anaconda3/lib/python3.7/site-packages/astropy/table/table.py:1473: StringTruncateWarning: truncated right side string(s) longer than 8 character(s) during assignment\n",
      "  col[item] = val\n"
     ]
    },
    {
     "name": "stdout",
     "output_type": "stream",
     "text": [
      "found halpha v1 match  VFID6409  \n"
     ]
    },
    {
     "name": "stderr",
     "output_type": "stream",
     "text": [
      "/home/rfinn/anaconda3/lib/python3.7/site-packages/astropy/table/table.py:1473: StringTruncateWarning: truncated right side string(s) longer than 8 character(s) during assignment\n",
      "  col[item] = val\n"
     ]
    },
    {
     "name": "stdout",
     "output_type": "stream",
     "text": [
      "found halpha v1 match  VFID6420  \n"
     ]
    },
    {
     "name": "stderr",
     "output_type": "stream",
     "text": [
      "/home/rfinn/anaconda3/lib/python3.7/site-packages/astropy/table/table.py:1473: StringTruncateWarning: truncated right side string(s) longer than 8 character(s) during assignment\n",
      "  col[item] = val\n"
     ]
    },
    {
     "name": "stdout",
     "output_type": "stream",
     "text": [
      "found halpha v1 match  VFID6437  \n"
     ]
    },
    {
     "name": "stderr",
     "output_type": "stream",
     "text": [
      "/home/rfinn/anaconda3/lib/python3.7/site-packages/astropy/table/table.py:1473: StringTruncateWarning: truncated right side string(s) longer than 8 character(s) during assignment\n",
      "  col[item] = val\n"
     ]
    },
    {
     "name": "stdout",
     "output_type": "stream",
     "text": [
      "found halpha v1 match  VFID6451  \n"
     ]
    },
    {
     "name": "stderr",
     "output_type": "stream",
     "text": [
      "/home/rfinn/anaconda3/lib/python3.7/site-packages/astropy/table/table.py:1473: StringTruncateWarning: truncated right side string(s) longer than 8 character(s) during assignment\n",
      "  col[item] = val\n"
     ]
    },
    {
     "name": "stdout",
     "output_type": "stream",
     "text": [
      "found halpha v1 match  VFID6454  \n"
     ]
    },
    {
     "name": "stderr",
     "output_type": "stream",
     "text": [
      "/home/rfinn/anaconda3/lib/python3.7/site-packages/astropy/table/table.py:1473: StringTruncateWarning: truncated right side string(s) longer than 8 character(s) during assignment\n",
      "  col[item] = val\n"
     ]
    },
    {
     "name": "stdout",
     "output_type": "stream",
     "text": [
      "found halpha v1 match  VFID6464  \n"
     ]
    },
    {
     "name": "stderr",
     "output_type": "stream",
     "text": [
      "/home/rfinn/anaconda3/lib/python3.7/site-packages/astropy/table/table.py:1473: StringTruncateWarning: truncated right side string(s) longer than 8 character(s) during assignment\n",
      "  col[item] = val\n"
     ]
    },
    {
     "name": "stdout",
     "output_type": "stream",
     "text": [
      "found halpha v1 match  VFID6480  \n"
     ]
    },
    {
     "name": "stderr",
     "output_type": "stream",
     "text": [
      "/home/rfinn/anaconda3/lib/python3.7/site-packages/astropy/table/table.py:1473: StringTruncateWarning: truncated right side string(s) longer than 8 character(s) during assignment\n",
      "  col[item] = val\n"
     ]
    },
    {
     "name": "stdout",
     "output_type": "stream",
     "text": [
      "found halpha v1 match  VFID2758  \n"
     ]
    },
    {
     "name": "stderr",
     "output_type": "stream",
     "text": [
      "/home/rfinn/anaconda3/lib/python3.7/site-packages/astropy/table/table.py:1473: StringTruncateWarning: truncated right side string(s) longer than 8 character(s) during assignment\n",
      "  col[item] = val\n"
     ]
    },
    {
     "name": "stdout",
     "output_type": "stream",
     "text": [
      "found halpha v1 match  VFID2759  \n"
     ]
    },
    {
     "name": "stderr",
     "output_type": "stream",
     "text": [
      "/home/rfinn/anaconda3/lib/python3.7/site-packages/astropy/table/table.py:1473: StringTruncateWarning: truncated right side string(s) longer than 8 character(s) during assignment\n",
      "  col[item] = val\n"
     ]
    },
    {
     "name": "stdout",
     "output_type": "stream",
     "text": [
      "found halpha v1 match  VFID2762  \n"
     ]
    },
    {
     "name": "stderr",
     "output_type": "stream",
     "text": [
      "/home/rfinn/anaconda3/lib/python3.7/site-packages/astropy/table/table.py:1473: StringTruncateWarning: truncated right side string(s) longer than 8 character(s) during assignment\n",
      "  col[item] = val\n"
     ]
    },
    {
     "name": "stdout",
     "output_type": "stream",
     "text": [
      "found halpha v1 match  VFID2766  \n"
     ]
    },
    {
     "name": "stderr",
     "output_type": "stream",
     "text": [
      "/home/rfinn/anaconda3/lib/python3.7/site-packages/astropy/table/table.py:1473: StringTruncateWarning: truncated right side string(s) longer than 8 character(s) during assignment\n",
      "  col[item] = val\n"
     ]
    },
    {
     "name": "stdout",
     "output_type": "stream",
     "text": [
      "found halpha v1 match  VFID3440  \n"
     ]
    },
    {
     "name": "stderr",
     "output_type": "stream",
     "text": [
      "/home/rfinn/anaconda3/lib/python3.7/site-packages/astropy/table/table.py:1473: StringTruncateWarning: truncated right side string(s) longer than 8 character(s) during assignment\n",
      "  col[item] = val\n"
     ]
    },
    {
     "name": "stdout",
     "output_type": "stream",
     "text": [
      "found halpha v1 match  VFID3451  \n"
     ]
    },
    {
     "name": "stderr",
     "output_type": "stream",
     "text": [
      "/home/rfinn/anaconda3/lib/python3.7/site-packages/astropy/table/table.py:1473: StringTruncateWarning: truncated right side string(s) longer than 8 character(s) during assignment\n",
      "  col[item] = val\n"
     ]
    },
    {
     "name": "stdout",
     "output_type": "stream",
     "text": [
      "found halpha v1 match  VFID2655  \n"
     ]
    },
    {
     "name": "stderr",
     "output_type": "stream",
     "text": [
      "/home/rfinn/anaconda3/lib/python3.7/site-packages/astropy/table/table.py:1473: StringTruncateWarning: truncated right side string(s) longer than 8 character(s) during assignment\n",
      "  col[item] = val\n"
     ]
    },
    {
     "name": "stdout",
     "output_type": "stream",
     "text": [
      "found halpha v1 match  VFID2659  \n"
     ]
    },
    {
     "name": "stderr",
     "output_type": "stream",
     "text": [
      "/home/rfinn/anaconda3/lib/python3.7/site-packages/astropy/table/table.py:1473: StringTruncateWarning: truncated right side string(s) longer than 8 character(s) during assignment\n",
      "  col[item] = val\n"
     ]
    },
    {
     "name": "stdout",
     "output_type": "stream",
     "text": [
      "found halpha v1 match  VFID2660  \n"
     ]
    },
    {
     "name": "stderr",
     "output_type": "stream",
     "text": [
      "/home/rfinn/anaconda3/lib/python3.7/site-packages/astropy/table/table.py:1473: StringTruncateWarning: truncated right side string(s) longer than 8 character(s) during assignment\n",
      "  col[item] = val\n"
     ]
    },
    {
     "name": "stdout",
     "output_type": "stream",
     "text": [
      "found halpha v1 match  VFID2662  \n"
     ]
    },
    {
     "name": "stderr",
     "output_type": "stream",
     "text": [
      "/home/rfinn/anaconda3/lib/python3.7/site-packages/astropy/table/table.py:1473: StringTruncateWarning: truncated right side string(s) longer than 8 character(s) during assignment\n",
      "  col[item] = val\n"
     ]
    },
    {
     "name": "stdout",
     "output_type": "stream",
     "text": [
      "found halpha v1 match  VFID2673  \n"
     ]
    },
    {
     "name": "stderr",
     "output_type": "stream",
     "text": [
      "/home/rfinn/anaconda3/lib/python3.7/site-packages/astropy/table/table.py:1473: StringTruncateWarning: truncated right side string(s) longer than 8 character(s) during assignment\n",
      "  col[item] = val\n"
     ]
    },
    {
     "name": "stdout",
     "output_type": "stream",
     "text": [
      "found halpha v1 match  VFID3608  \n"
     ]
    },
    {
     "name": "stderr",
     "output_type": "stream",
     "text": [
      "/home/rfinn/anaconda3/lib/python3.7/site-packages/astropy/table/table.py:1473: StringTruncateWarning: truncated right side string(s) longer than 8 character(s) during assignment\n",
      "  col[item] = val\n"
     ]
    },
    {
     "name": "stdout",
     "output_type": "stream",
     "text": [
      "found halpha v1 match  VFID3610  \n"
     ]
    },
    {
     "name": "stderr",
     "output_type": "stream",
     "text": [
      "/home/rfinn/anaconda3/lib/python3.7/site-packages/astropy/table/table.py:1473: StringTruncateWarning: truncated right side string(s) longer than 8 character(s) during assignment\n",
      "  col[item] = val\n"
     ]
    },
    {
     "name": "stdout",
     "output_type": "stream",
     "text": [
      "found halpha v1 match  VFID2980  \n"
     ]
    },
    {
     "name": "stderr",
     "output_type": "stream",
     "text": [
      "/home/rfinn/anaconda3/lib/python3.7/site-packages/astropy/table/table.py:1473: StringTruncateWarning: truncated right side string(s) longer than 8 character(s) during assignment\n",
      "  col[item] = val\n"
     ]
    },
    {
     "name": "stdout",
     "output_type": "stream",
     "text": [
      "found halpha v1 match  VFID3272  \n"
     ]
    },
    {
     "name": "stderr",
     "output_type": "stream",
     "text": [
      "/home/rfinn/anaconda3/lib/python3.7/site-packages/astropy/table/table.py:1473: StringTruncateWarning: truncated right side string(s) longer than 8 character(s) during assignment\n",
      "  col[item] = val\n"
     ]
    },
    {
     "name": "stdout",
     "output_type": "stream",
     "text": [
      "found halpha v1 match  VFID2665  \n"
     ]
    },
    {
     "name": "stderr",
     "output_type": "stream",
     "text": [
      "/home/rfinn/anaconda3/lib/python3.7/site-packages/astropy/table/table.py:1473: StringTruncateWarning: truncated right side string(s) longer than 8 character(s) during assignment\n",
      "  col[item] = val\n"
     ]
    },
    {
     "name": "stdout",
     "output_type": "stream",
     "text": [
      "found halpha v1 match  VFID2674  \n"
     ]
    },
    {
     "name": "stderr",
     "output_type": "stream",
     "text": [
      "/home/rfinn/anaconda3/lib/python3.7/site-packages/astropy/table/table.py:1473: StringTruncateWarning: truncated right side string(s) longer than 8 character(s) during assignment\n",
      "  col[item] = val\n"
     ]
    },
    {
     "name": "stdout",
     "output_type": "stream",
     "text": [
      "found halpha v1 match  VFID3519  \n"
     ]
    },
    {
     "name": "stderr",
     "output_type": "stream",
     "text": [
      "/home/rfinn/anaconda3/lib/python3.7/site-packages/astropy/table/table.py:1473: StringTruncateWarning: truncated right side string(s) longer than 8 character(s) during assignment\n",
      "  col[item] = val\n"
     ]
    },
    {
     "name": "stdout",
     "output_type": "stream",
     "text": [
      "found halpha v1 match  VFID3535  \n"
     ]
    },
    {
     "name": "stderr",
     "output_type": "stream",
     "text": [
      "/home/rfinn/anaconda3/lib/python3.7/site-packages/astropy/table/table.py:1473: StringTruncateWarning: truncated right side string(s) longer than 8 character(s) during assignment\n",
      "  col[item] = val\n",
      "/home/rfinn/anaconda3/lib/python3.7/site-packages/astropy/table/table.py:1473: StringTruncateWarning: truncated right side string(s) longer than 8 character(s) during assignment\n",
      "  col[item] = val\n"
     ]
    },
    {
     "name": "stdout",
     "output_type": "stream",
     "text": [
      "found halpha v1 match  VFID3177  \n"
     ]
    },
    {
     "name": "stderr",
     "output_type": "stream",
     "text": [
      "/home/rfinn/anaconda3/lib/python3.7/site-packages/astropy/table/table.py:1473: StringTruncateWarning: truncated right side string(s) longer than 8 character(s) during assignment\n",
      "  col[item] = val\n"
     ]
    },
    {
     "name": "stdout",
     "output_type": "stream",
     "text": [
      "found halpha v1 match  VFID1925  \n"
     ]
    },
    {
     "name": "stderr",
     "output_type": "stream",
     "text": [
      "/home/rfinn/anaconda3/lib/python3.7/site-packages/astropy/table/table.py:1473: StringTruncateWarning: truncated right side string(s) longer than 8 character(s) during assignment\n",
      "  col[item] = val\n"
     ]
    },
    {
     "name": "stdout",
     "output_type": "stream",
     "text": [
      "found halpha v1 match  VFID1935  \n"
     ]
    },
    {
     "name": "stderr",
     "output_type": "stream",
     "text": [
      "/home/rfinn/anaconda3/lib/python3.7/site-packages/astropy/table/table.py:1473: StringTruncateWarning: truncated right side string(s) longer than 8 character(s) during assignment\n",
      "  col[item] = val\n"
     ]
    },
    {
     "name": "stdout",
     "output_type": "stream",
     "text": [
      "found halpha v1 match  VFID1936  \n"
     ]
    },
    {
     "name": "stderr",
     "output_type": "stream",
     "text": [
      "/home/rfinn/anaconda3/lib/python3.7/site-packages/astropy/table/table.py:1473: StringTruncateWarning: truncated right side string(s) longer than 8 character(s) during assignment\n",
      "  col[item] = val\n"
     ]
    },
    {
     "name": "stdout",
     "output_type": "stream",
     "text": [
      "found halpha v1 match  VFID1941  \n"
     ]
    },
    {
     "name": "stderr",
     "output_type": "stream",
     "text": [
      "/home/rfinn/anaconda3/lib/python3.7/site-packages/astropy/table/table.py:1473: StringTruncateWarning: truncated right side string(s) longer than 8 character(s) during assignment\n",
      "  col[item] = val\n",
      "/home/rfinn/anaconda3/lib/python3.7/site-packages/astropy/table/table.py:1473: StringTruncateWarning: truncated right side string(s) longer than 8 character(s) during assignment\n",
      "  col[item] = val\n",
      "/home/rfinn/anaconda3/lib/python3.7/site-packages/astropy/table/table.py:1473: StringTruncateWarning: truncated right side string(s) longer than 8 character(s) during assignment\n",
      "  col[item] = val\n",
      "/home/rfinn/anaconda3/lib/python3.7/site-packages/astropy/table/table.py:1473: StringTruncateWarning: truncated right side string(s) longer than 8 character(s) during assignment\n",
      "  col[item] = val\n"
     ]
    },
    {
     "name": "stdout",
     "output_type": "stream",
     "text": [
      "found halpha v1 match  VFID5872  \n"
     ]
    },
    {
     "name": "stderr",
     "output_type": "stream",
     "text": [
      "/home/rfinn/anaconda3/lib/python3.7/site-packages/astropy/table/table.py:1473: StringTruncateWarning: truncated right side string(s) longer than 8 character(s) during assignment\n",
      "  col[item] = val\n",
      "/home/rfinn/anaconda3/lib/python3.7/site-packages/astropy/table/table.py:1473: StringTruncateWarning: truncated right side string(s) longer than 8 character(s) during assignment\n",
      "  col[item] = val\n",
      "/home/rfinn/anaconda3/lib/python3.7/site-packages/astropy/table/table.py:1473: StringTruncateWarning: truncated right side string(s) longer than 8 character(s) during assignment\n",
      "  col[item] = val\n",
      "/home/rfinn/anaconda3/lib/python3.7/site-packages/astropy/table/table.py:1473: StringTruncateWarning: truncated right side string(s) longer than 8 character(s) during assignment\n",
      "  col[item] = val\n",
      "/home/rfinn/anaconda3/lib/python3.7/site-packages/astropy/table/table.py:1473: StringTruncateWarning: truncated right side string(s) longer than 8 character(s) during assignment\n",
      "  col[item] = val\n",
      "/home/rfinn/anaconda3/lib/python3.7/site-packages/astropy/table/table.py:1473: StringTruncateWarning: truncated right side string(s) longer than 8 character(s) during assignment\n",
      "  col[item] = val\n"
     ]
    },
    {
     "name": "stdout",
     "output_type": "stream",
     "text": [
      "found halpha v1 match  VFID3494  \n"
     ]
    },
    {
     "name": "stderr",
     "output_type": "stream",
     "text": [
      "/home/rfinn/anaconda3/lib/python3.7/site-packages/astropy/table/table.py:1473: StringTruncateWarning: truncated right side string(s) longer than 8 character(s) during assignment\n",
      "  col[item] = val\n"
     ]
    },
    {
     "name": "stdout",
     "output_type": "stream",
     "text": [
      "found halpha v1 match  VFID3506  \n"
     ]
    },
    {
     "name": "stderr",
     "output_type": "stream",
     "text": [
      "/home/rfinn/anaconda3/lib/python3.7/site-packages/astropy/table/table.py:1473: StringTruncateWarning: truncated right side string(s) longer than 8 character(s) during assignment\n",
      "  col[item] = val\n"
     ]
    },
    {
     "name": "stdout",
     "output_type": "stream",
     "text": [
      "found halpha v1 match  VFID3507  \n"
     ]
    },
    {
     "name": "stderr",
     "output_type": "stream",
     "text": [
      "/home/rfinn/anaconda3/lib/python3.7/site-packages/astropy/table/table.py:1473: StringTruncateWarning: truncated right side string(s) longer than 8 character(s) during assignment\n",
      "  col[item] = val\n"
     ]
    },
    {
     "name": "stdout",
     "output_type": "stream",
     "text": [
      "found halpha v1 match  VFID4097  \n"
     ]
    },
    {
     "name": "stderr",
     "output_type": "stream",
     "text": [
      "/home/rfinn/anaconda3/lib/python3.7/site-packages/astropy/table/table.py:1473: StringTruncateWarning: truncated right side string(s) longer than 8 character(s) during assignment\n",
      "  col[item] = val\n"
     ]
    },
    {
     "name": "stdout",
     "output_type": "stream",
     "text": [
      "found halpha v1 match  VFID4107  \n"
     ]
    },
    {
     "name": "stderr",
     "output_type": "stream",
     "text": [
      "/home/rfinn/anaconda3/lib/python3.7/site-packages/astropy/table/table.py:1473: StringTruncateWarning: truncated right side string(s) longer than 8 character(s) during assignment\n",
      "  col[item] = val\n"
     ]
    },
    {
     "name": "stdout",
     "output_type": "stream",
     "text": [
      "found halpha v1 match  VFID2723  \n"
     ]
    },
    {
     "name": "stderr",
     "output_type": "stream",
     "text": [
      "/home/rfinn/anaconda3/lib/python3.7/site-packages/astropy/table/table.py:1473: StringTruncateWarning: truncated right side string(s) longer than 8 character(s) during assignment\n",
      "  col[item] = val\n"
     ]
    },
    {
     "name": "stdout",
     "output_type": "stream",
     "text": [
      "found halpha v1 match  VFID1554  \n"
     ]
    },
    {
     "name": "stderr",
     "output_type": "stream",
     "text": [
      "/home/rfinn/anaconda3/lib/python3.7/site-packages/astropy/table/table.py:1473: StringTruncateWarning: truncated right side string(s) longer than 8 character(s) during assignment\n",
      "  col[item] = val\n"
     ]
    },
    {
     "name": "stdout",
     "output_type": "stream",
     "text": [
      "found halpha v1 match  VFID6045  \n"
     ]
    },
    {
     "name": "stderr",
     "output_type": "stream",
     "text": [
      "/home/rfinn/anaconda3/lib/python3.7/site-packages/astropy/table/table.py:1473: StringTruncateWarning: truncated right side string(s) longer than 8 character(s) during assignment\n",
      "  col[item] = val\n"
     ]
    },
    {
     "name": "stdout",
     "output_type": "stream",
     "text": [
      "found halpha v1 match  VFID2517  \n"
     ]
    },
    {
     "name": "stderr",
     "output_type": "stream",
     "text": [
      "/home/rfinn/anaconda3/lib/python3.7/site-packages/astropy/table/table.py:1473: StringTruncateWarning: truncated right side string(s) longer than 8 character(s) during assignment\n",
      "  col[item] = val\n"
     ]
    },
    {
     "name": "stdout",
     "output_type": "stream",
     "text": [
      "found halpha v1 match  VFID2519  \n"
     ]
    },
    {
     "name": "stderr",
     "output_type": "stream",
     "text": [
      "/home/rfinn/anaconda3/lib/python3.7/site-packages/astropy/table/table.py:1473: StringTruncateWarning: truncated right side string(s) longer than 8 character(s) during assignment\n",
      "  col[item] = val\n"
     ]
    },
    {
     "name": "stdout",
     "output_type": "stream",
     "text": [
      "found halpha v1 match  VFID2522  \n"
     ]
    },
    {
     "name": "stderr",
     "output_type": "stream",
     "text": [
      "/home/rfinn/anaconda3/lib/python3.7/site-packages/astropy/table/table.py:1473: StringTruncateWarning: truncated right side string(s) longer than 8 character(s) during assignment\n",
      "  col[item] = val\n"
     ]
    },
    {
     "name": "stdout",
     "output_type": "stream",
     "text": [
      "found halpha v1 match  VFID2528  \n"
     ]
    },
    {
     "name": "stderr",
     "output_type": "stream",
     "text": [
      "/home/rfinn/anaconda3/lib/python3.7/site-packages/astropy/table/table.py:1473: StringTruncateWarning: truncated right side string(s) longer than 8 character(s) during assignment\n",
      "  col[item] = val\n"
     ]
    },
    {
     "name": "stdout",
     "output_type": "stream",
     "text": [
      "found halpha v1 match  VFID2996  \n"
     ]
    },
    {
     "name": "stderr",
     "output_type": "stream",
     "text": [
      "/home/rfinn/anaconda3/lib/python3.7/site-packages/astropy/table/table.py:1473: StringTruncateWarning: truncated right side string(s) longer than 8 character(s) during assignment\n",
      "  col[item] = val\n"
     ]
    },
    {
     "name": "stdout",
     "output_type": "stream",
     "text": [
      "found halpha v1 match  VFID2777  \n"
     ]
    },
    {
     "name": "stderr",
     "output_type": "stream",
     "text": [
      "/home/rfinn/anaconda3/lib/python3.7/site-packages/astropy/table/table.py:1473: StringTruncateWarning: truncated right side string(s) longer than 8 character(s) during assignment\n",
      "  col[item] = val\n"
     ]
    },
    {
     "name": "stdout",
     "output_type": "stream",
     "text": [
      "found halpha v1 match  VFID2786  \n"
     ]
    },
    {
     "name": "stderr",
     "output_type": "stream",
     "text": [
      "/home/rfinn/anaconda3/lib/python3.7/site-packages/astropy/table/table.py:1473: StringTruncateWarning: truncated right side string(s) longer than 8 character(s) during assignment\n",
      "  col[item] = val\n"
     ]
    },
    {
     "name": "stdout",
     "output_type": "stream",
     "text": [
      "found halpha v1 match  VFID2792  \n"
     ]
    },
    {
     "name": "stderr",
     "output_type": "stream",
     "text": [
      "/home/rfinn/anaconda3/lib/python3.7/site-packages/astropy/table/table.py:1473: StringTruncateWarning: truncated right side string(s) longer than 8 character(s) during assignment\n",
      "  col[item] = val\n"
     ]
    },
    {
     "name": "stdout",
     "output_type": "stream",
     "text": [
      "found halpha v1 match  VFID5821  \n"
     ]
    },
    {
     "name": "stderr",
     "output_type": "stream",
     "text": [
      "/home/rfinn/anaconda3/lib/python3.7/site-packages/astropy/table/table.py:1473: StringTruncateWarning: truncated right side string(s) longer than 8 character(s) during assignment\n",
      "  col[item] = val\n"
     ]
    },
    {
     "name": "stdout",
     "output_type": "stream",
     "text": [
      "found halpha v1 match  VFID5852  \n"
     ]
    },
    {
     "name": "stderr",
     "output_type": "stream",
     "text": [
      "/home/rfinn/anaconda3/lib/python3.7/site-packages/astropy/table/table.py:1473: StringTruncateWarning: truncated right side string(s) longer than 8 character(s) during assignment\n",
      "  col[item] = val\n"
     ]
    },
    {
     "name": "stdout",
     "output_type": "stream",
     "text": [
      "found halpha v1 match  VFID5854  \n"
     ]
    },
    {
     "name": "stderr",
     "output_type": "stream",
     "text": [
      "/home/rfinn/anaconda3/lib/python3.7/site-packages/astropy/table/table.py:1473: StringTruncateWarning: truncated right side string(s) longer than 8 character(s) during assignment\n",
      "  col[item] = val\n"
     ]
    },
    {
     "name": "stdout",
     "output_type": "stream",
     "text": [
      "found halpha v1 match  VFID2087  \n"
     ]
    },
    {
     "name": "stderr",
     "output_type": "stream",
     "text": [
      "/home/rfinn/anaconda3/lib/python3.7/site-packages/astropy/table/table.py:1473: StringTruncateWarning: truncated right side string(s) longer than 8 character(s) during assignment\n",
      "  col[item] = val\n"
     ]
    },
    {
     "name": "stdout",
     "output_type": "stream",
     "text": [
      "found halpha v1 match  VFID2100  \n"
     ]
    },
    {
     "name": "stderr",
     "output_type": "stream",
     "text": [
      "/home/rfinn/anaconda3/lib/python3.7/site-packages/astropy/table/table.py:1473: StringTruncateWarning: truncated right side string(s) longer than 8 character(s) during assignment\n",
      "  col[item] = val\n"
     ]
    },
    {
     "name": "stdout",
     "output_type": "stream",
     "text": [
      "found halpha v1 match  VFID2106  \n"
     ]
    },
    {
     "name": "stderr",
     "output_type": "stream",
     "text": [
      "/home/rfinn/anaconda3/lib/python3.7/site-packages/astropy/table/table.py:1473: StringTruncateWarning: truncated right side string(s) longer than 8 character(s) during assignment\n",
      "  col[item] = val\n"
     ]
    },
    {
     "name": "stdout",
     "output_type": "stream",
     "text": [
      "found halpha v1 match  VFID2116  \n"
     ]
    },
    {
     "name": "stderr",
     "output_type": "stream",
     "text": [
      "/home/rfinn/anaconda3/lib/python3.7/site-packages/astropy/table/table.py:1473: StringTruncateWarning: truncated right side string(s) longer than 8 character(s) during assignment\n",
      "  col[item] = val\n",
      "/home/rfinn/anaconda3/lib/python3.7/site-packages/astropy/table/table.py:1473: StringTruncateWarning: truncated right side string(s) longer than 8 character(s) during assignment\n",
      "  col[item] = val\n",
      "/home/rfinn/anaconda3/lib/python3.7/site-packages/astropy/table/table.py:1473: StringTruncateWarning: truncated right side string(s) longer than 8 character(s) during assignment\n",
      "  col[item] = val\n",
      "/home/rfinn/anaconda3/lib/python3.7/site-packages/astropy/table/table.py:1473: StringTruncateWarning: truncated right side string(s) longer than 8 character(s) during assignment\n",
      "  col[item] = val\n",
      "/home/rfinn/anaconda3/lib/python3.7/site-packages/astropy/table/table.py:1473: StringTruncateWarning: truncated right side string(s) longer than 8 character(s) during assignment\n",
      "  col[item] = val\n",
      "/home/rfinn/anaconda3/lib/python3.7/site-packages/astropy/table/table.py:1473: StringTruncateWarning: truncated right side string(s) longer than 8 character(s) during assignment\n",
      "  col[item] = val\n"
     ]
    },
    {
     "name": "stdout",
     "output_type": "stream",
     "text": [
      "found halpha v1 match  VFID2791  \n"
     ]
    },
    {
     "name": "stderr",
     "output_type": "stream",
     "text": [
      "/home/rfinn/anaconda3/lib/python3.7/site-packages/astropy/table/table.py:1473: StringTruncateWarning: truncated right side string(s) longer than 8 character(s) during assignment\n",
      "  col[item] = val\n",
      "/home/rfinn/anaconda3/lib/python3.7/site-packages/astropy/table/table.py:1473: StringTruncateWarning: truncated right side string(s) longer than 8 character(s) during assignment\n",
      "  col[item] = val\n",
      "/home/rfinn/anaconda3/lib/python3.7/site-packages/astropy/table/table.py:1473: StringTruncateWarning: truncated right side string(s) longer than 8 character(s) during assignment\n",
      "  col[item] = val\n",
      "/home/rfinn/anaconda3/lib/python3.7/site-packages/astropy/table/table.py:1473: StringTruncateWarning: truncated right side string(s) longer than 8 character(s) during assignment\n",
      "  col[item] = val\n"
     ]
    },
    {
     "name": "stdout",
     "output_type": "stream",
     "text": [
      "found halpha v1 match  VFID2566  \n"
     ]
    },
    {
     "name": "stderr",
     "output_type": "stream",
     "text": [
      "/home/rfinn/anaconda3/lib/python3.7/site-packages/astropy/table/table.py:1473: StringTruncateWarning: truncated right side string(s) longer than 8 character(s) during assignment\n",
      "  col[item] = val\n"
     ]
    },
    {
     "name": "stdout",
     "output_type": "stream",
     "text": [
      "found halpha v1 match  VFID2237  \n"
     ]
    },
    {
     "name": "stderr",
     "output_type": "stream",
     "text": [
      "/home/rfinn/anaconda3/lib/python3.7/site-packages/astropy/table/table.py:1473: StringTruncateWarning: truncated right side string(s) longer than 8 character(s) during assignment\n",
      "  col[item] = val\n"
     ]
    },
    {
     "name": "stdout",
     "output_type": "stream",
     "text": [
      "found halpha v1 match  VFID3247  \n"
     ]
    },
    {
     "name": "stderr",
     "output_type": "stream",
     "text": [
      "/home/rfinn/anaconda3/lib/python3.7/site-packages/astropy/table/table.py:1473: StringTruncateWarning: truncated right side string(s) longer than 8 character(s) during assignment\n",
      "  col[item] = val\n"
     ]
    },
    {
     "name": "stdout",
     "output_type": "stream",
     "text": [
      "found halpha v1 match  VFID3254  \n"
     ]
    },
    {
     "name": "stderr",
     "output_type": "stream",
     "text": [
      "/home/rfinn/anaconda3/lib/python3.7/site-packages/astropy/table/table.py:1473: StringTruncateWarning: truncated right side string(s) longer than 8 character(s) during assignment\n",
      "  col[item] = val\n"
     ]
    },
    {
     "name": "stdout",
     "output_type": "stream",
     "text": [
      "found halpha v1 match  VFID3261  \n"
     ]
    },
    {
     "name": "stderr",
     "output_type": "stream",
     "text": [
      "/home/rfinn/anaconda3/lib/python3.7/site-packages/astropy/table/table.py:1473: StringTruncateWarning: truncated right side string(s) longer than 8 character(s) during assignment\n",
      "  col[item] = val\n"
     ]
    },
    {
     "name": "stdout",
     "output_type": "stream",
     "text": [
      "found halpha v1 match  VFID3292  \n"
     ]
    },
    {
     "name": "stderr",
     "output_type": "stream",
     "text": [
      "/home/rfinn/anaconda3/lib/python3.7/site-packages/astropy/table/table.py:1473: StringTruncateWarning: truncated right side string(s) longer than 8 character(s) during assignment\n",
      "  col[item] = val\n"
     ]
    },
    {
     "name": "stdout",
     "output_type": "stream",
     "text": [
      "found halpha v1 match  VFID4149  \n"
     ]
    },
    {
     "name": "stderr",
     "output_type": "stream",
     "text": [
      "/home/rfinn/anaconda3/lib/python3.7/site-packages/astropy/table/table.py:1473: StringTruncateWarning: truncated right side string(s) longer than 8 character(s) during assignment\n",
      "  col[item] = val\n"
     ]
    },
    {
     "name": "stdout",
     "output_type": "stream",
     "text": [
      "found halpha v1 match  VFID4180  \n"
     ]
    },
    {
     "name": "stderr",
     "output_type": "stream",
     "text": [
      "/home/rfinn/anaconda3/lib/python3.7/site-packages/astropy/table/table.py:1473: StringTruncateWarning: truncated right side string(s) longer than 8 character(s) during assignment\n",
      "  col[item] = val\n"
     ]
    },
    {
     "name": "stdout",
     "output_type": "stream",
     "text": [
      "found halpha v1 match  VFID4182  \n"
     ]
    },
    {
     "name": "stderr",
     "output_type": "stream",
     "text": [
      "/home/rfinn/anaconda3/lib/python3.7/site-packages/astropy/table/table.py:1473: StringTruncateWarning: truncated right side string(s) longer than 8 character(s) during assignment\n",
      "  col[item] = val\n"
     ]
    },
    {
     "name": "stdout",
     "output_type": "stream",
     "text": [
      "found halpha v1 match  VFID4190  \n"
     ]
    },
    {
     "name": "stderr",
     "output_type": "stream",
     "text": [
      "/home/rfinn/anaconda3/lib/python3.7/site-packages/astropy/table/table.py:1473: StringTruncateWarning: truncated right side string(s) longer than 8 character(s) during assignment\n",
      "  col[item] = val\n"
     ]
    },
    {
     "name": "stdout",
     "output_type": "stream",
     "text": [
      "found halpha v1 match  VFID4204  \n"
     ]
    },
    {
     "name": "stderr",
     "output_type": "stream",
     "text": [
      "/home/rfinn/anaconda3/lib/python3.7/site-packages/astropy/table/table.py:1473: StringTruncateWarning: truncated right side string(s) longer than 8 character(s) during assignment\n",
      "  col[item] = val\n"
     ]
    },
    {
     "name": "stdout",
     "output_type": "stream",
     "text": [
      "found halpha v1 match  VFID3337  \n"
     ]
    },
    {
     "name": "stderr",
     "output_type": "stream",
     "text": [
      "/home/rfinn/anaconda3/lib/python3.7/site-packages/astropy/table/table.py:1473: StringTruncateWarning: truncated right side string(s) longer than 8 character(s) during assignment\n",
      "  col[item] = val\n"
     ]
    },
    {
     "name": "stdout",
     "output_type": "stream",
     "text": [
      "found halpha v1 match  VFID3338  \n"
     ]
    },
    {
     "name": "stderr",
     "output_type": "stream",
     "text": [
      "/home/rfinn/anaconda3/lib/python3.7/site-packages/astropy/table/table.py:1473: StringTruncateWarning: truncated right side string(s) longer than 8 character(s) during assignment\n",
      "  col[item] = val\n"
     ]
    },
    {
     "name": "stdout",
     "output_type": "stream",
     "text": [
      "found halpha v1 match  VFID0569  \n"
     ]
    },
    {
     "name": "stderr",
     "output_type": "stream",
     "text": [
      "/home/rfinn/anaconda3/lib/python3.7/site-packages/astropy/table/table.py:1473: StringTruncateWarning: truncated right side string(s) longer than 8 character(s) during assignment\n",
      "  col[item] = val\n"
     ]
    },
    {
     "name": "stdout",
     "output_type": "stream",
     "text": [
      "found halpha v1 match  VFID3264  \n"
     ]
    },
    {
     "name": "stderr",
     "output_type": "stream",
     "text": [
      "/home/rfinn/anaconda3/lib/python3.7/site-packages/astropy/table/table.py:1473: StringTruncateWarning: truncated right side string(s) longer than 8 character(s) during assignment\n",
      "  col[item] = val\n"
     ]
    },
    {
     "name": "stdout",
     "output_type": "stream",
     "text": [
      "found halpha v1 match  VFID3279  \n"
     ]
    },
    {
     "name": "stderr",
     "output_type": "stream",
     "text": [
      "/home/rfinn/anaconda3/lib/python3.7/site-packages/astropy/table/table.py:1473: StringTruncateWarning: truncated right side string(s) longer than 8 character(s) during assignment\n",
      "  col[item] = val\n"
     ]
    },
    {
     "name": "stdout",
     "output_type": "stream",
     "text": [
      "found halpha v1 match  VFID3290  \n"
     ]
    },
    {
     "name": "stderr",
     "output_type": "stream",
     "text": [
      "/home/rfinn/anaconda3/lib/python3.7/site-packages/astropy/table/table.py:1473: StringTruncateWarning: truncated right side string(s) longer than 8 character(s) during assignment\n",
      "  col[item] = val\n"
     ]
    },
    {
     "name": "stdout",
     "output_type": "stream",
     "text": [
      "found halpha v1 match  VFID3318  \n"
     ]
    },
    {
     "name": "stderr",
     "output_type": "stream",
     "text": [
      "/home/rfinn/anaconda3/lib/python3.7/site-packages/astropy/table/table.py:1473: StringTruncateWarning: truncated right side string(s) longer than 8 character(s) during assignment\n",
      "  col[item] = val\n"
     ]
    },
    {
     "name": "stdout",
     "output_type": "stream",
     "text": [
      "found halpha v1 match  VFID3341  \n"
     ]
    },
    {
     "name": "stderr",
     "output_type": "stream",
     "text": [
      "/home/rfinn/anaconda3/lib/python3.7/site-packages/astropy/table/table.py:1473: StringTruncateWarning: truncated right side string(s) longer than 8 character(s) during assignment\n",
      "  col[item] = val\n"
     ]
    },
    {
     "name": "stdout",
     "output_type": "stream",
     "text": [
      "found halpha v1 match  VFID3349  \n"
     ]
    },
    {
     "name": "stderr",
     "output_type": "stream",
     "text": [
      "/home/rfinn/anaconda3/lib/python3.7/site-packages/astropy/table/table.py:1473: StringTruncateWarning: truncated right side string(s) longer than 8 character(s) during assignment\n",
      "  col[item] = val\n"
     ]
    },
    {
     "name": "stdout",
     "output_type": "stream",
     "text": [
      "found halpha v1 match  VFID3352  \n"
     ]
    },
    {
     "name": "stderr",
     "output_type": "stream",
     "text": [
      "/home/rfinn/anaconda3/lib/python3.7/site-packages/astropy/table/table.py:1473: StringTruncateWarning: truncated right side string(s) longer than 8 character(s) during assignment\n",
      "  col[item] = val\n"
     ]
    },
    {
     "name": "stdout",
     "output_type": "stream",
     "text": [
      "found halpha v1 match  VFID3357  \n"
     ]
    },
    {
     "name": "stderr",
     "output_type": "stream",
     "text": [
      "/home/rfinn/anaconda3/lib/python3.7/site-packages/astropy/table/table.py:1473: StringTruncateWarning: truncated right side string(s) longer than 8 character(s) during assignment\n",
      "  col[item] = val\n"
     ]
    },
    {
     "name": "stdout",
     "output_type": "stream",
     "text": [
      "found halpha v1 match  VFID3361  \n"
     ]
    },
    {
     "name": "stderr",
     "output_type": "stream",
     "text": [
      "/home/rfinn/anaconda3/lib/python3.7/site-packages/astropy/table/table.py:1473: StringTruncateWarning: truncated right side string(s) longer than 8 character(s) during assignment\n",
      "  col[item] = val\n"
     ]
    },
    {
     "name": "stdout",
     "output_type": "stream",
     "text": [
      "found halpha v1 match  VFID3365  \n"
     ]
    },
    {
     "name": "stderr",
     "output_type": "stream",
     "text": [
      "/home/rfinn/anaconda3/lib/python3.7/site-packages/astropy/table/table.py:1473: StringTruncateWarning: truncated right side string(s) longer than 8 character(s) during assignment\n",
      "  col[item] = val\n"
     ]
    },
    {
     "name": "stdout",
     "output_type": "stream",
     "text": [
      "found halpha v1 match  VFID3366  \n"
     ]
    },
    {
     "name": "stderr",
     "output_type": "stream",
     "text": [
      "/home/rfinn/anaconda3/lib/python3.7/site-packages/astropy/table/table.py:1473: StringTruncateWarning: truncated right side string(s) longer than 8 character(s) during assignment\n",
      "  col[item] = val\n"
     ]
    },
    {
     "name": "stdout",
     "output_type": "stream",
     "text": [
      "found halpha v1 match  VFID3372  \n"
     ]
    },
    {
     "name": "stderr",
     "output_type": "stream",
     "text": [
      "/home/rfinn/anaconda3/lib/python3.7/site-packages/astropy/table/table.py:1473: StringTruncateWarning: truncated right side string(s) longer than 8 character(s) during assignment\n",
      "  col[item] = val\n"
     ]
    },
    {
     "name": "stdout",
     "output_type": "stream",
     "text": [
      "found halpha v1 match  VFID3017  \n"
     ]
    },
    {
     "name": "stderr",
     "output_type": "stream",
     "text": [
      "/home/rfinn/anaconda3/lib/python3.7/site-packages/astropy/table/table.py:1473: StringTruncateWarning: truncated right side string(s) longer than 8 character(s) during assignment\n",
      "  col[item] = val\n"
     ]
    },
    {
     "name": "stdout",
     "output_type": "stream",
     "text": [
      "found halpha v1 match  VFID3022  \n"
     ]
    },
    {
     "name": "stderr",
     "output_type": "stream",
     "text": [
      "/home/rfinn/anaconda3/lib/python3.7/site-packages/astropy/table/table.py:1473: StringTruncateWarning: truncated right side string(s) longer than 8 character(s) during assignment\n",
      "  col[item] = val\n"
     ]
    },
    {
     "name": "stdout",
     "output_type": "stream",
     "text": [
      "found halpha v1 match  VFID3040  \n"
     ]
    },
    {
     "name": "stderr",
     "output_type": "stream",
     "text": [
      "/home/rfinn/anaconda3/lib/python3.7/site-packages/astropy/table/table.py:1473: StringTruncateWarning: truncated right side string(s) longer than 8 character(s) during assignment\n",
      "  col[item] = val\n",
      "/home/rfinn/anaconda3/lib/python3.7/site-packages/astropy/table/table.py:1473: StringTruncateWarning: truncated right side string(s) longer than 8 character(s) during assignment\n",
      "  col[item] = val\n",
      "/home/rfinn/anaconda3/lib/python3.7/site-packages/astropy/table/table.py:1473: StringTruncateWarning: truncated right side string(s) longer than 8 character(s) during assignment\n",
      "  col[item] = val\n"
     ]
    },
    {
     "name": "stdout",
     "output_type": "stream",
     "text": [
      "found halpha v1 match  VFID3623  \n"
     ]
    },
    {
     "name": "stderr",
     "output_type": "stream",
     "text": [
      "/home/rfinn/anaconda3/lib/python3.7/site-packages/astropy/table/table.py:1473: StringTruncateWarning: truncated right side string(s) longer than 8 character(s) during assignment\n",
      "  col[item] = val\n"
     ]
    },
    {
     "name": "stdout",
     "output_type": "stream",
     "text": [
      "found halpha v1 match  VFID2550  \n"
     ]
    },
    {
     "name": "stderr",
     "output_type": "stream",
     "text": [
      "/home/rfinn/anaconda3/lib/python3.7/site-packages/astropy/table/table.py:1473: StringTruncateWarning: truncated right side string(s) longer than 8 character(s) during assignment\n",
      "  col[item] = val\n"
     ]
    },
    {
     "name": "stdout",
     "output_type": "stream",
     "text": [
      "found halpha v1 match  VFID2552  \n"
     ]
    },
    {
     "name": "stderr",
     "output_type": "stream",
     "text": [
      "/home/rfinn/anaconda3/lib/python3.7/site-packages/astropy/table/table.py:1473: StringTruncateWarning: truncated right side string(s) longer than 8 character(s) during assignment\n",
      "  col[item] = val\n"
     ]
    },
    {
     "name": "stdout",
     "output_type": "stream",
     "text": [
      "found halpha v1 match  VFID2553  \n"
     ]
    },
    {
     "name": "stderr",
     "output_type": "stream",
     "text": [
      "/home/rfinn/anaconda3/lib/python3.7/site-packages/astropy/table/table.py:1473: StringTruncateWarning: truncated right side string(s) longer than 8 character(s) during assignment\n",
      "  col[item] = val\n"
     ]
    },
    {
     "name": "stdout",
     "output_type": "stream",
     "text": [
      "found halpha v1 match  VFID2560  \n"
     ]
    },
    {
     "name": "stderr",
     "output_type": "stream",
     "text": [
      "/home/rfinn/anaconda3/lib/python3.7/site-packages/astropy/table/table.py:1473: StringTruncateWarning: truncated right side string(s) longer than 8 character(s) during assignment\n",
      "  col[item] = val\n"
     ]
    },
    {
     "name": "stdout",
     "output_type": "stream",
     "text": [
      "found halpha v1 match  VFID2575  \n"
     ]
    },
    {
     "name": "stderr",
     "output_type": "stream",
     "text": [
      "/home/rfinn/anaconda3/lib/python3.7/site-packages/astropy/table/table.py:1473: StringTruncateWarning: truncated right side string(s) longer than 8 character(s) during assignment\n",
      "  col[item] = val\n"
     ]
    },
    {
     "name": "stdout",
     "output_type": "stream",
     "text": [
      "found halpha v1 match  VFID2213  \n"
     ]
    },
    {
     "name": "stderr",
     "output_type": "stream",
     "text": [
      "/home/rfinn/anaconda3/lib/python3.7/site-packages/astropy/table/table.py:1473: StringTruncateWarning: truncated right side string(s) longer than 8 character(s) during assignment\n",
      "  col[item] = val\n"
     ]
    },
    {
     "name": "stdout",
     "output_type": "stream",
     "text": [
      "found halpha v1 match  VFID2219  \n"
     ]
    },
    {
     "name": "stderr",
     "output_type": "stream",
     "text": [
      "/home/rfinn/anaconda3/lib/python3.7/site-packages/astropy/table/table.py:1473: StringTruncateWarning: truncated right side string(s) longer than 8 character(s) during assignment\n",
      "  col[item] = val\n"
     ]
    },
    {
     "name": "stdout",
     "output_type": "stream",
     "text": [
      "found halpha v1 match  VFID2223  \n"
     ]
    },
    {
     "name": "stderr",
     "output_type": "stream",
     "text": [
      "/home/rfinn/anaconda3/lib/python3.7/site-packages/astropy/table/table.py:1473: StringTruncateWarning: truncated right side string(s) longer than 8 character(s) during assignment\n",
      "  col[item] = val\n"
     ]
    },
    {
     "name": "stdout",
     "output_type": "stream",
     "text": [
      "found halpha v1 match  VFID2225  \n"
     ]
    },
    {
     "name": "stderr",
     "output_type": "stream",
     "text": [
      "/home/rfinn/anaconda3/lib/python3.7/site-packages/astropy/table/table.py:1473: StringTruncateWarning: truncated right side string(s) longer than 8 character(s) during assignment\n",
      "  col[item] = val\n"
     ]
    },
    {
     "name": "stdout",
     "output_type": "stream",
     "text": [
      "found halpha v1 match  VFID2226  \n"
     ]
    },
    {
     "name": "stderr",
     "output_type": "stream",
     "text": [
      "/home/rfinn/anaconda3/lib/python3.7/site-packages/astropy/table/table.py:1473: StringTruncateWarning: truncated right side string(s) longer than 8 character(s) during assignment\n",
      "  col[item] = val\n"
     ]
    },
    {
     "name": "stdout",
     "output_type": "stream",
     "text": [
      "found halpha v1 match  VFID2228  \n"
     ]
    },
    {
     "name": "stderr",
     "output_type": "stream",
     "text": [
      "/home/rfinn/anaconda3/lib/python3.7/site-packages/astropy/table/table.py:1473: StringTruncateWarning: truncated right side string(s) longer than 8 character(s) during assignment\n",
      "  col[item] = val\n"
     ]
    },
    {
     "name": "stdout",
     "output_type": "stream",
     "text": [
      "found halpha v1 match  VFID2239  \n"
     ]
    },
    {
     "name": "stderr",
     "output_type": "stream",
     "text": [
      "/home/rfinn/anaconda3/lib/python3.7/site-packages/astropy/table/table.py:1473: StringTruncateWarning: truncated right side string(s) longer than 8 character(s) during assignment\n",
      "  col[item] = val\n"
     ]
    },
    {
     "name": "stdout",
     "output_type": "stream",
     "text": [
      "found halpha v1 match  VFID2240  \n"
     ]
    },
    {
     "name": "stderr",
     "output_type": "stream",
     "text": [
      "/home/rfinn/anaconda3/lib/python3.7/site-packages/astropy/table/table.py:1473: StringTruncateWarning: truncated right side string(s) longer than 8 character(s) during assignment\n",
      "  col[item] = val\n"
     ]
    },
    {
     "name": "stdout",
     "output_type": "stream",
     "text": [
      "found halpha v1 match  VFID2241  \n"
     ]
    },
    {
     "name": "stderr",
     "output_type": "stream",
     "text": [
      "/home/rfinn/anaconda3/lib/python3.7/site-packages/astropy/table/table.py:1473: StringTruncateWarning: truncated right side string(s) longer than 8 character(s) during assignment\n",
      "  col[item] = val\n"
     ]
    },
    {
     "name": "stdout",
     "output_type": "stream",
     "text": [
      "found halpha v1 match  VFID2248  \n"
     ]
    },
    {
     "name": "stderr",
     "output_type": "stream",
     "text": [
      "/home/rfinn/anaconda3/lib/python3.7/site-packages/astropy/table/table.py:1473: StringTruncateWarning: truncated right side string(s) longer than 8 character(s) during assignment\n",
      "  col[item] = val\n"
     ]
    },
    {
     "name": "stdout",
     "output_type": "stream",
     "text": [
      "found halpha v1 match  VFID6111  \n"
     ]
    },
    {
     "name": "stderr",
     "output_type": "stream",
     "text": [
      "/home/rfinn/anaconda3/lib/python3.7/site-packages/astropy/table/table.py:1473: StringTruncateWarning: truncated right side string(s) longer than 8 character(s) during assignment\n",
      "  col[item] = val\n"
     ]
    },
    {
     "name": "stdout",
     "output_type": "stream",
     "text": [
      "found halpha v1 match  VFID6121  \n"
     ]
    },
    {
     "name": "stderr",
     "output_type": "stream",
     "text": [
      "/home/rfinn/anaconda3/lib/python3.7/site-packages/astropy/table/table.py:1473: StringTruncateWarning: truncated right side string(s) longer than 8 character(s) during assignment\n",
      "  col[item] = val\n"
     ]
    },
    {
     "name": "stdout",
     "output_type": "stream",
     "text": [
      "found halpha v1 match  VFID6125  \n"
     ]
    },
    {
     "name": "stderr",
     "output_type": "stream",
     "text": [
      "/home/rfinn/anaconda3/lib/python3.7/site-packages/astropy/table/table.py:1473: StringTruncateWarning: truncated right side string(s) longer than 8 character(s) during assignment\n",
      "  col[item] = val\n"
     ]
    },
    {
     "name": "stdout",
     "output_type": "stream",
     "text": [
      "found halpha v1 match  VFID6135  \n"
     ]
    },
    {
     "name": "stderr",
     "output_type": "stream",
     "text": [
      "/home/rfinn/anaconda3/lib/python3.7/site-packages/astropy/table/table.py:1473: StringTruncateWarning: truncated right side string(s) longer than 8 character(s) during assignment\n",
      "  col[item] = val\n"
     ]
    },
    {
     "name": "stdout",
     "output_type": "stream",
     "text": [
      "found halpha v1 match  VFID6139  \n"
     ]
    },
    {
     "name": "stderr",
     "output_type": "stream",
     "text": [
      "/home/rfinn/anaconda3/lib/python3.7/site-packages/astropy/table/table.py:1473: StringTruncateWarning: truncated right side string(s) longer than 8 character(s) during assignment\n",
      "  col[item] = val\n"
     ]
    },
    {
     "name": "stdout",
     "output_type": "stream",
     "text": [
      "found halpha v1 match  VFID6174  \n"
     ]
    },
    {
     "name": "stderr",
     "output_type": "stream",
     "text": [
      "/home/rfinn/anaconda3/lib/python3.7/site-packages/astropy/table/table.py:1473: StringTruncateWarning: truncated right side string(s) longer than 8 character(s) during assignment\n",
      "  col[item] = val\n"
     ]
    },
    {
     "name": "stdout",
     "output_type": "stream",
     "text": [
      "found halpha v1 match  VFID6192  \n"
     ]
    },
    {
     "name": "stderr",
     "output_type": "stream",
     "text": [
      "/home/rfinn/anaconda3/lib/python3.7/site-packages/astropy/table/table.py:1473: StringTruncateWarning: truncated right side string(s) longer than 8 character(s) during assignment\n",
      "  col[item] = val\n"
     ]
    },
    {
     "name": "stdout",
     "output_type": "stream",
     "text": [
      "found halpha v1 match  VFID2464  \n"
     ]
    },
    {
     "name": "stderr",
     "output_type": "stream",
     "text": [
      "/home/rfinn/anaconda3/lib/python3.7/site-packages/astropy/table/table.py:1473: StringTruncateWarning: truncated right side string(s) longer than 8 character(s) during assignment\n",
      "  col[item] = val\n"
     ]
    },
    {
     "name": "stdout",
     "output_type": "stream",
     "text": [
      "found halpha v1 match  VFID2493  \n"
     ]
    },
    {
     "name": "stderr",
     "output_type": "stream",
     "text": [
      "/home/rfinn/anaconda3/lib/python3.7/site-packages/astropy/table/table.py:1473: StringTruncateWarning: truncated right side string(s) longer than 8 character(s) during assignment\n",
      "  col[item] = val\n"
     ]
    },
    {
     "name": "stdout",
     "output_type": "stream",
     "text": [
      "found halpha v1 match  VFID2499  \n"
     ]
    },
    {
     "name": "stderr",
     "output_type": "stream",
     "text": [
      "/home/rfinn/anaconda3/lib/python3.7/site-packages/astropy/table/table.py:1473: StringTruncateWarning: truncated right side string(s) longer than 8 character(s) during assignment\n",
      "  col[item] = val\n"
     ]
    },
    {
     "name": "stdout",
     "output_type": "stream",
     "text": [
      "found halpha v1 match  VFID1995  \n"
     ]
    },
    {
     "name": "stderr",
     "output_type": "stream",
     "text": [
      "/home/rfinn/anaconda3/lib/python3.7/site-packages/astropy/table/table.py:1473: StringTruncateWarning: truncated right side string(s) longer than 8 character(s) during assignment\n",
      "  col[item] = val\n"
     ]
    },
    {
     "name": "stdout",
     "output_type": "stream",
     "text": [
      "found halpha v1 match  VFID2013  \n"
     ]
    },
    {
     "name": "stderr",
     "output_type": "stream",
     "text": [
      "/home/rfinn/anaconda3/lib/python3.7/site-packages/astropy/table/table.py:1473: StringTruncateWarning: truncated right side string(s) longer than 8 character(s) during assignment\n",
      "  col[item] = val\n"
     ]
    },
    {
     "name": "stdout",
     "output_type": "stream",
     "text": [
      "found halpha v1 match  VFID3318  \n"
     ]
    },
    {
     "name": "stderr",
     "output_type": "stream",
     "text": [
      "/home/rfinn/anaconda3/lib/python3.7/site-packages/astropy/table/table.py:1473: StringTruncateWarning: truncated right side string(s) longer than 8 character(s) during assignment\n",
      "  col[item] = val\n"
     ]
    },
    {
     "name": "stdout",
     "output_type": "stream",
     "text": [
      "found halpha v1 match  VFID3328  \n"
     ]
    },
    {
     "name": "stderr",
     "output_type": "stream",
     "text": [
      "/home/rfinn/anaconda3/lib/python3.7/site-packages/astropy/table/table.py:1473: StringTruncateWarning: truncated right side string(s) longer than 8 character(s) during assignment\n",
      "  col[item] = val\n"
     ]
    },
    {
     "name": "stdout",
     "output_type": "stream",
     "text": [
      "found halpha v1 match  VFID0473  \n"
     ]
    },
    {
     "name": "stderr",
     "output_type": "stream",
     "text": [
      "/home/rfinn/anaconda3/lib/python3.7/site-packages/astropy/table/table.py:1473: StringTruncateWarning: truncated right side string(s) longer than 8 character(s) during assignment\n",
      "  col[item] = val\n"
     ]
    },
    {
     "name": "stdout",
     "output_type": "stream",
     "text": [
      "found halpha v1 match  VFID0481  \n"
     ]
    },
    {
     "name": "stderr",
     "output_type": "stream",
     "text": [
      "/home/rfinn/anaconda3/lib/python3.7/site-packages/astropy/table/table.py:1473: StringTruncateWarning: truncated right side string(s) longer than 8 character(s) during assignment\n",
      "  col[item] = val\n"
     ]
    },
    {
     "name": "stdout",
     "output_type": "stream",
     "text": [
      "found halpha v1 match  VFID0483  \n"
     ]
    },
    {
     "name": "stderr",
     "output_type": "stream",
     "text": [
      "/home/rfinn/anaconda3/lib/python3.7/site-packages/astropy/table/table.py:1473: StringTruncateWarning: truncated right side string(s) longer than 8 character(s) during assignment\n",
      "  col[item] = val\n"
     ]
    },
    {
     "name": "stdout",
     "output_type": "stream",
     "text": [
      "found halpha v1 match  VFID2957  \n"
     ]
    },
    {
     "name": "stderr",
     "output_type": "stream",
     "text": [
      "/home/rfinn/anaconda3/lib/python3.7/site-packages/astropy/table/table.py:1473: StringTruncateWarning: truncated right side string(s) longer than 8 character(s) during assignment\n",
      "  col[item] = val\n"
     ]
    },
    {
     "name": "stdout",
     "output_type": "stream",
     "text": [
      "found halpha v1 match  VFID2960  \n"
     ]
    },
    {
     "name": "stderr",
     "output_type": "stream",
     "text": [
      "/home/rfinn/anaconda3/lib/python3.7/site-packages/astropy/table/table.py:1473: StringTruncateWarning: truncated right side string(s) longer than 8 character(s) during assignment\n",
      "  col[item] = val\n"
     ]
    },
    {
     "name": "stdout",
     "output_type": "stream",
     "text": [
      "found halpha v1 match  VFID2962  \n"
     ]
    },
    {
     "name": "stderr",
     "output_type": "stream",
     "text": [
      "/home/rfinn/anaconda3/lib/python3.7/site-packages/astropy/table/table.py:1473: StringTruncateWarning: truncated right side string(s) longer than 8 character(s) during assignment\n",
      "  col[item] = val\n"
     ]
    },
    {
     "name": "stdout",
     "output_type": "stream",
     "text": [
      "found halpha v1 match  VFID2964  \n"
     ]
    },
    {
     "name": "stderr",
     "output_type": "stream",
     "text": [
      "/home/rfinn/anaconda3/lib/python3.7/site-packages/astropy/table/table.py:1473: StringTruncateWarning: truncated right side string(s) longer than 8 character(s) during assignment\n",
      "  col[item] = val\n"
     ]
    },
    {
     "name": "stdout",
     "output_type": "stream",
     "text": [
      "found halpha v1 match  VFID2970  \n"
     ]
    },
    {
     "name": "stderr",
     "output_type": "stream",
     "text": [
      "/home/rfinn/anaconda3/lib/python3.7/site-packages/astropy/table/table.py:1473: StringTruncateWarning: truncated right side string(s) longer than 8 character(s) during assignment\n",
      "  col[item] = val\n"
     ]
    },
    {
     "name": "stdout",
     "output_type": "stream",
     "text": [
      "found halpha v1 match  VFID2950  \n"
     ]
    },
    {
     "name": "stderr",
     "output_type": "stream",
     "text": [
      "/home/rfinn/anaconda3/lib/python3.7/site-packages/astropy/table/table.py:1473: StringTruncateWarning: truncated right side string(s) longer than 8 character(s) during assignment\n",
      "  col[item] = val\n"
     ]
    },
    {
     "name": "stdout",
     "output_type": "stream",
     "text": [
      "found halpha v1 match  VFID3391  \n"
     ]
    },
    {
     "name": "stderr",
     "output_type": "stream",
     "text": [
      "/home/rfinn/anaconda3/lib/python3.7/site-packages/astropy/table/table.py:1473: StringTruncateWarning: truncated right side string(s) longer than 8 character(s) during assignment\n",
      "  col[item] = val\n"
     ]
    },
    {
     "name": "stdout",
     "output_type": "stream",
     "text": [
      "found halpha v1 match  VFID0603  \n"
     ]
    },
    {
     "name": "stderr",
     "output_type": "stream",
     "text": [
      "/home/rfinn/anaconda3/lib/python3.7/site-packages/astropy/table/table.py:1473: StringTruncateWarning: truncated right side string(s) longer than 8 character(s) during assignment\n",
      "  col[item] = val\n"
     ]
    },
    {
     "name": "stdout",
     "output_type": "stream",
     "text": [
      "found halpha v1 match  VFID0611  \n"
     ]
    },
    {
     "name": "stderr",
     "output_type": "stream",
     "text": [
      "/home/rfinn/anaconda3/lib/python3.7/site-packages/astropy/table/table.py:1473: StringTruncateWarning: truncated right side string(s) longer than 8 character(s) during assignment\n",
      "  col[item] = val\n"
     ]
    },
    {
     "name": "stdout",
     "output_type": "stream",
     "text": [
      "found halpha v1 match  VFID2678  \n"
     ]
    },
    {
     "name": "stderr",
     "output_type": "stream",
     "text": [
      "/home/rfinn/anaconda3/lib/python3.7/site-packages/astropy/table/table.py:1473: StringTruncateWarning: truncated right side string(s) longer than 8 character(s) during assignment\n",
      "  col[item] = val\n"
     ]
    },
    {
     "name": "stdout",
     "output_type": "stream",
     "text": [
      "found halpha v1 match  VFID2681  \n"
     ]
    },
    {
     "name": "stderr",
     "output_type": "stream",
     "text": [
      "/home/rfinn/anaconda3/lib/python3.7/site-packages/astropy/table/table.py:1473: StringTruncateWarning: truncated right side string(s) longer than 8 character(s) during assignment\n",
      "  col[item] = val\n"
     ]
    },
    {
     "name": "stdout",
     "output_type": "stream",
     "text": [
      "found halpha v1 match  VFID2465  \n"
     ]
    },
    {
     "name": "stderr",
     "output_type": "stream",
     "text": [
      "/home/rfinn/anaconda3/lib/python3.7/site-packages/astropy/table/table.py:1473: StringTruncateWarning: truncated right side string(s) longer than 8 character(s) during assignment\n",
      "  col[item] = val\n"
     ]
    },
    {
     "name": "stdout",
     "output_type": "stream",
     "text": [
      "found halpha v1 match  VFID6017  \n"
     ]
    },
    {
     "name": "stderr",
     "output_type": "stream",
     "text": [
      "/home/rfinn/anaconda3/lib/python3.7/site-packages/astropy/table/table.py:1473: StringTruncateWarning: truncated right side string(s) longer than 8 character(s) during assignment\n",
      "  col[item] = val\n"
     ]
    },
    {
     "name": "stdout",
     "output_type": "stream",
     "text": [
      "found halpha v1 match  VFID6035  \n"
     ]
    },
    {
     "name": "stderr",
     "output_type": "stream",
     "text": [
      "/home/rfinn/anaconda3/lib/python3.7/site-packages/astropy/table/table.py:1473: StringTruncateWarning: truncated right side string(s) longer than 8 character(s) during assignment\n",
      "  col[item] = val\n"
     ]
    },
    {
     "name": "stdout",
     "output_type": "stream",
     "text": [
      "found halpha v1 match  VFID6037  \n"
     ]
    },
    {
     "name": "stderr",
     "output_type": "stream",
     "text": [
      "/home/rfinn/anaconda3/lib/python3.7/site-packages/astropy/table/table.py:1473: StringTruncateWarning: truncated right side string(s) longer than 8 character(s) during assignment\n",
      "  col[item] = val\n"
     ]
    },
    {
     "name": "stdout",
     "output_type": "stream",
     "text": [
      "found halpha v1 match  VFID6050  \n"
     ]
    },
    {
     "name": "stderr",
     "output_type": "stream",
     "text": [
      "/home/rfinn/anaconda3/lib/python3.7/site-packages/astropy/table/table.py:1473: StringTruncateWarning: truncated right side string(s) longer than 8 character(s) during assignment\n",
      "  col[item] = val\n"
     ]
    },
    {
     "name": "stdout",
     "output_type": "stream",
     "text": [
      "found halpha v1 match  VFID3486  \n"
     ]
    },
    {
     "name": "stderr",
     "output_type": "stream",
     "text": [
      "/home/rfinn/anaconda3/lib/python3.7/site-packages/astropy/table/table.py:1473: StringTruncateWarning: truncated right side string(s) longer than 8 character(s) during assignment\n",
      "  col[item] = val\n"
     ]
    },
    {
     "name": "stdout",
     "output_type": "stream",
     "text": [
      "found halpha v1 match  VFID3490  \n"
     ]
    },
    {
     "name": "stderr",
     "output_type": "stream",
     "text": [
      "/home/rfinn/anaconda3/lib/python3.7/site-packages/astropy/table/table.py:1473: StringTruncateWarning: truncated right side string(s) longer than 8 character(s) during assignment\n",
      "  col[item] = val\n"
     ]
    },
    {
     "name": "stdout",
     "output_type": "stream",
     "text": [
      "found halpha v1 match  VFID3511  \n"
     ]
    },
    {
     "name": "stderr",
     "output_type": "stream",
     "text": [
      "/home/rfinn/anaconda3/lib/python3.7/site-packages/astropy/table/table.py:1473: StringTruncateWarning: truncated right side string(s) longer than 8 character(s) during assignment\n",
      "  col[item] = val\n"
     ]
    },
    {
     "name": "stdout",
     "output_type": "stream",
     "text": [
      "found halpha v1 match  VFID3274  \n"
     ]
    },
    {
     "name": "stderr",
     "output_type": "stream",
     "text": [
      "/home/rfinn/anaconda3/lib/python3.7/site-packages/astropy/table/table.py:1473: StringTruncateWarning: truncated right side string(s) longer than 8 character(s) during assignment\n",
      "  col[item] = val\n"
     ]
    },
    {
     "name": "stdout",
     "output_type": "stream",
     "text": [
      "found halpha v1 match  VFID3277  \n"
     ]
    },
    {
     "name": "stderr",
     "output_type": "stream",
     "text": [
      "/home/rfinn/anaconda3/lib/python3.7/site-packages/astropy/table/table.py:1473: StringTruncateWarning: truncated right side string(s) longer than 8 character(s) during assignment\n",
      "  col[item] = val\n"
     ]
    },
    {
     "name": "stdout",
     "output_type": "stream",
     "text": [
      "found halpha v1 match  VFID3543  \n"
     ]
    },
    {
     "name": "stderr",
     "output_type": "stream",
     "text": [
      "/home/rfinn/anaconda3/lib/python3.7/site-packages/astropy/table/table.py:1473: StringTruncateWarning: truncated right side string(s) longer than 8 character(s) during assignment\n",
      "  col[item] = val\n"
     ]
    },
    {
     "name": "stdout",
     "output_type": "stream",
     "text": [
      "found halpha v1 match  VFID3549  \n"
     ]
    },
    {
     "name": "stderr",
     "output_type": "stream",
     "text": [
      "/home/rfinn/anaconda3/lib/python3.7/site-packages/astropy/table/table.py:1473: StringTruncateWarning: truncated right side string(s) longer than 8 character(s) during assignment\n",
      "  col[item] = val\n"
     ]
    },
    {
     "name": "stdout",
     "output_type": "stream",
     "text": [
      "found halpha v1 match  VFID3554  \n"
     ]
    },
    {
     "name": "stderr",
     "output_type": "stream",
     "text": [
      "/home/rfinn/anaconda3/lib/python3.7/site-packages/astropy/table/table.py:1473: StringTruncateWarning: truncated right side string(s) longer than 8 character(s) during assignment\n",
      "  col[item] = val\n"
     ]
    },
    {
     "name": "stdout",
     "output_type": "stream",
     "text": [
      "found halpha v1 match  VFID3557  \n"
     ]
    },
    {
     "name": "stderr",
     "output_type": "stream",
     "text": [
      "/home/rfinn/anaconda3/lib/python3.7/site-packages/astropy/table/table.py:1473: StringTruncateWarning: truncated right side string(s) longer than 8 character(s) during assignment\n",
      "  col[item] = val\n"
     ]
    },
    {
     "name": "stdout",
     "output_type": "stream",
     "text": [
      "found halpha v1 match  VFID3564  \n"
     ]
    },
    {
     "name": "stderr",
     "output_type": "stream",
     "text": [
      "/home/rfinn/anaconda3/lib/python3.7/site-packages/astropy/table/table.py:1473: StringTruncateWarning: truncated right side string(s) longer than 8 character(s) during assignment\n",
      "  col[item] = val\n"
     ]
    },
    {
     "name": "stdout",
     "output_type": "stream",
     "text": [
      "found halpha v1 match  VFID3477  \n"
     ]
    },
    {
     "name": "stderr",
     "output_type": "stream",
     "text": [
      "/home/rfinn/anaconda3/lib/python3.7/site-packages/astropy/table/table.py:1473: StringTruncateWarning: truncated right side string(s) longer than 8 character(s) during assignment\n",
      "  col[item] = val\n"
     ]
    },
    {
     "name": "stdout",
     "output_type": "stream",
     "text": [
      "found halpha v1 match  VFID3484  \n"
     ]
    },
    {
     "name": "stderr",
     "output_type": "stream",
     "text": [
      "/home/rfinn/anaconda3/lib/python3.7/site-packages/astropy/table/table.py:1473: StringTruncateWarning: truncated right side string(s) longer than 8 character(s) during assignment\n",
      "  col[item] = val\n"
     ]
    },
    {
     "name": "stdout",
     "output_type": "stream",
     "text": [
      "found halpha v1 match  VFID3488  \n"
     ]
    },
    {
     "name": "stderr",
     "output_type": "stream",
     "text": [
      "/home/rfinn/anaconda3/lib/python3.7/site-packages/astropy/table/table.py:1473: StringTruncateWarning: truncated right side string(s) longer than 8 character(s) during assignment\n",
      "  col[item] = val\n"
     ]
    },
    {
     "name": "stdout",
     "output_type": "stream",
     "text": [
      "found halpha v1 match  VFID3492  \n"
     ]
    },
    {
     "name": "stderr",
     "output_type": "stream",
     "text": [
      "/home/rfinn/anaconda3/lib/python3.7/site-packages/astropy/table/table.py:1473: StringTruncateWarning: truncated right side string(s) longer than 8 character(s) during assignment\n",
      "  col[item] = val\n"
     ]
    },
    {
     "name": "stdout",
     "output_type": "stream",
     "text": [
      "found halpha v1 match  VFID3493  \n"
     ]
    },
    {
     "name": "stderr",
     "output_type": "stream",
     "text": [
      "/home/rfinn/anaconda3/lib/python3.7/site-packages/astropy/table/table.py:1473: StringTruncateWarning: truncated right side string(s) longer than 8 character(s) during assignment\n",
      "  col[item] = val\n"
     ]
    },
    {
     "name": "stdout",
     "output_type": "stream",
     "text": [
      "found halpha v1 match  VFID3496  \n"
     ]
    },
    {
     "name": "stderr",
     "output_type": "stream",
     "text": [
      "/home/rfinn/anaconda3/lib/python3.7/site-packages/astropy/table/table.py:1473: StringTruncateWarning: truncated right side string(s) longer than 8 character(s) during assignment\n",
      "  col[item] = val\n"
     ]
    },
    {
     "name": "stdout",
     "output_type": "stream",
     "text": [
      "found halpha v1 match  VFID3503  \n"
     ]
    },
    {
     "name": "stderr",
     "output_type": "stream",
     "text": [
      "/home/rfinn/anaconda3/lib/python3.7/site-packages/astropy/table/table.py:1473: StringTruncateWarning: truncated right side string(s) longer than 8 character(s) during assignment\n",
      "  col[item] = val\n"
     ]
    },
    {
     "name": "stdout",
     "output_type": "stream",
     "text": [
      "found halpha v1 match  VFID2641  \n"
     ]
    },
    {
     "name": "stderr",
     "output_type": "stream",
     "text": [
      "/home/rfinn/anaconda3/lib/python3.7/site-packages/astropy/table/table.py:1473: StringTruncateWarning: truncated right side string(s) longer than 8 character(s) during assignment\n",
      "  col[item] = val\n"
     ]
    },
    {
     "name": "stdout",
     "output_type": "stream",
     "text": [
      "found halpha v1 match  VFID2651  \n"
     ]
    },
    {
     "name": "stderr",
     "output_type": "stream",
     "text": [
      "/home/rfinn/anaconda3/lib/python3.7/site-packages/astropy/table/table.py:1473: StringTruncateWarning: truncated right side string(s) longer than 8 character(s) during assignment\n",
      "  col[item] = val\n"
     ]
    },
    {
     "name": "stdout",
     "output_type": "stream",
     "text": [
      "found halpha v1 match  VFID3035  \n"
     ]
    },
    {
     "name": "stderr",
     "output_type": "stream",
     "text": [
      "/home/rfinn/anaconda3/lib/python3.7/site-packages/astropy/table/table.py:1473: StringTruncateWarning: truncated right side string(s) longer than 8 character(s) during assignment\n",
      "  col[item] = val\n"
     ]
    },
    {
     "name": "stdout",
     "output_type": "stream",
     "text": [
      "found halpha v1 match  VFID1365  \n"
     ]
    },
    {
     "name": "stderr",
     "output_type": "stream",
     "text": [
      "/home/rfinn/anaconda3/lib/python3.7/site-packages/astropy/table/table.py:1473: StringTruncateWarning: truncated right side string(s) longer than 8 character(s) during assignment\n",
      "  col[item] = val\n"
     ]
    },
    {
     "name": "stdout",
     "output_type": "stream",
     "text": [
      "found halpha v1 match  VFID3303  \n"
     ]
    },
    {
     "name": "stderr",
     "output_type": "stream",
     "text": [
      "/home/rfinn/anaconda3/lib/python3.7/site-packages/astropy/table/table.py:1473: StringTruncateWarning: truncated right side string(s) longer than 8 character(s) during assignment\n",
      "  col[item] = val\n"
     ]
    },
    {
     "name": "stdout",
     "output_type": "stream",
     "text": [
      "found halpha v1 match  VFID2088  \n"
     ]
    },
    {
     "name": "stderr",
     "output_type": "stream",
     "text": [
      "/home/rfinn/anaconda3/lib/python3.7/site-packages/astropy/table/table.py:1473: StringTruncateWarning: truncated right side string(s) longer than 8 character(s) during assignment\n",
      "  col[item] = val\n"
     ]
    },
    {
     "name": "stdout",
     "output_type": "stream",
     "text": [
      "found halpha v1 match  VFID2114  \n"
     ]
    },
    {
     "name": "stderr",
     "output_type": "stream",
     "text": [
      "/home/rfinn/anaconda3/lib/python3.7/site-packages/astropy/table/table.py:1473: StringTruncateWarning: truncated right side string(s) longer than 8 character(s) during assignment\n",
      "  col[item] = val\n"
     ]
    },
    {
     "name": "stdout",
     "output_type": "stream",
     "text": [
      "found halpha v1 match  VFID0783  \n"
     ]
    },
    {
     "name": "stderr",
     "output_type": "stream",
     "text": [
      "/home/rfinn/anaconda3/lib/python3.7/site-packages/astropy/table/table.py:1473: StringTruncateWarning: truncated right side string(s) longer than 8 character(s) during assignment\n",
      "  col[item] = val\n"
     ]
    },
    {
     "name": "stdout",
     "output_type": "stream",
     "text": [
      "found halpha v1 match  VFID3012  \n"
     ]
    },
    {
     "name": "stderr",
     "output_type": "stream",
     "text": [
      "/home/rfinn/anaconda3/lib/python3.7/site-packages/astropy/table/table.py:1473: StringTruncateWarning: truncated right side string(s) longer than 8 character(s) during assignment\n",
      "  col[item] = val\n"
     ]
    },
    {
     "name": "stdout",
     "output_type": "stream",
     "text": [
      "found halpha v1 match  VFID3044  \n"
     ]
    },
    {
     "name": "stderr",
     "output_type": "stream",
     "text": [
      "/home/rfinn/anaconda3/lib/python3.7/site-packages/astropy/table/table.py:1473: StringTruncateWarning: truncated right side string(s) longer than 8 character(s) during assignment\n",
      "  col[item] = val\n"
     ]
    },
    {
     "name": "stdout",
     "output_type": "stream",
     "text": [
      "found halpha v1 match  VFID3169  \n"
     ]
    },
    {
     "name": "stderr",
     "output_type": "stream",
     "text": [
      "/home/rfinn/anaconda3/lib/python3.7/site-packages/astropy/table/table.py:1473: StringTruncateWarning: truncated right side string(s) longer than 8 character(s) during assignment\n",
      "  col[item] = val\n"
     ]
    },
    {
     "name": "stdout",
     "output_type": "stream",
     "text": [
      "found halpha v1 match  VFID3172  \n"
     ]
    },
    {
     "name": "stderr",
     "output_type": "stream",
     "text": [
      "/home/rfinn/anaconda3/lib/python3.7/site-packages/astropy/table/table.py:1473: StringTruncateWarning: truncated right side string(s) longer than 8 character(s) during assignment\n",
      "  col[item] = val\n"
     ]
    },
    {
     "name": "stdout",
     "output_type": "stream",
     "text": [
      "found halpha v1 match  VFID3186  \n"
     ]
    },
    {
     "name": "stderr",
     "output_type": "stream",
     "text": [
      "/home/rfinn/anaconda3/lib/python3.7/site-packages/astropy/table/table.py:1473: StringTruncateWarning: truncated right side string(s) longer than 8 character(s) during assignment\n",
      "  col[item] = val\n"
     ]
    },
    {
     "name": "stdout",
     "output_type": "stream",
     "text": [
      "found halpha v1 match  VFID2617  \n"
     ]
    },
    {
     "name": "stderr",
     "output_type": "stream",
     "text": [
      "/home/rfinn/anaconda3/lib/python3.7/site-packages/astropy/table/table.py:1473: StringTruncateWarning: truncated right side string(s) longer than 8 character(s) during assignment\n",
      "  col[item] = val\n"
     ]
    },
    {
     "name": "stdout",
     "output_type": "stream",
     "text": [
      "found halpha v1 match  VFID2619  \n"
     ]
    },
    {
     "name": "stderr",
     "output_type": "stream",
     "text": [
      "/home/rfinn/anaconda3/lib/python3.7/site-packages/astropy/table/table.py:1473: StringTruncateWarning: truncated right side string(s) longer than 8 character(s) during assignment\n",
      "  col[item] = val\n"
     ]
    },
    {
     "name": "stdout",
     "output_type": "stream",
     "text": [
      "found halpha v1 match  VFID6307  \n"
     ]
    },
    {
     "name": "stderr",
     "output_type": "stream",
     "text": [
      "/home/rfinn/anaconda3/lib/python3.7/site-packages/astropy/table/table.py:1473: StringTruncateWarning: truncated right side string(s) longer than 8 character(s) during assignment\n",
      "  col[item] = val\n"
     ]
    },
    {
     "name": "stdout",
     "output_type": "stream",
     "text": [
      "found halpha v1 match  VFID6320  \n"
     ]
    },
    {
     "name": "stderr",
     "output_type": "stream",
     "text": [
      "/home/rfinn/anaconda3/lib/python3.7/site-packages/astropy/table/table.py:1473: StringTruncateWarning: truncated right side string(s) longer than 8 character(s) during assignment\n",
      "  col[item] = val\n"
     ]
    },
    {
     "name": "stdout",
     "output_type": "stream",
     "text": [
      "found halpha v1 match  VFID6324  \n"
     ]
    },
    {
     "name": "stderr",
     "output_type": "stream",
     "text": [
      "/home/rfinn/anaconda3/lib/python3.7/site-packages/astropy/table/table.py:1473: StringTruncateWarning: truncated right side string(s) longer than 8 character(s) during assignment\n",
      "  col[item] = val\n"
     ]
    },
    {
     "name": "stdout",
     "output_type": "stream",
     "text": [
      "found halpha v1 match  VFID6325  \n"
     ]
    },
    {
     "name": "stderr",
     "output_type": "stream",
     "text": [
      "/home/rfinn/anaconda3/lib/python3.7/site-packages/astropy/table/table.py:1473: StringTruncateWarning: truncated right side string(s) longer than 8 character(s) during assignment\n",
      "  col[item] = val\n"
     ]
    },
    {
     "name": "stdout",
     "output_type": "stream",
     "text": [
      "found halpha v1 match  VFID6344  \n"
     ]
    },
    {
     "name": "stderr",
     "output_type": "stream",
     "text": [
      "/home/rfinn/anaconda3/lib/python3.7/site-packages/astropy/table/table.py:1473: StringTruncateWarning: truncated right side string(s) longer than 8 character(s) during assignment\n",
      "  col[item] = val\n"
     ]
    },
    {
     "name": "stdout",
     "output_type": "stream",
     "text": [
      "found halpha v1 match  VFID6346  \n"
     ]
    },
    {
     "name": "stderr",
     "output_type": "stream",
     "text": [
      "/home/rfinn/anaconda3/lib/python3.7/site-packages/astropy/table/table.py:1473: StringTruncateWarning: truncated right side string(s) longer than 8 character(s) during assignment\n",
      "  col[item] = val\n"
     ]
    },
    {
     "name": "stdout",
     "output_type": "stream",
     "text": [
      "found halpha v1 match  VFID6351  \n"
     ]
    },
    {
     "name": "stderr",
     "output_type": "stream",
     "text": [
      "/home/rfinn/anaconda3/lib/python3.7/site-packages/astropy/table/table.py:1473: StringTruncateWarning: truncated right side string(s) longer than 8 character(s) during assignment\n",
      "  col[item] = val\n"
     ]
    },
    {
     "name": "stdout",
     "output_type": "stream",
     "text": [
      "found halpha v1 match  VFID6355  \n"
     ]
    },
    {
     "name": "stderr",
     "output_type": "stream",
     "text": [
      "/home/rfinn/anaconda3/lib/python3.7/site-packages/astropy/table/table.py:1473: StringTruncateWarning: truncated right side string(s) longer than 8 character(s) during assignment\n",
      "  col[item] = val\n"
     ]
    },
    {
     "name": "stdout",
     "output_type": "stream",
     "text": [
      "found halpha v1 match  VFID6366  \n"
     ]
    },
    {
     "name": "stderr",
     "output_type": "stream",
     "text": [
      "/home/rfinn/anaconda3/lib/python3.7/site-packages/astropy/table/table.py:1473: StringTruncateWarning: truncated right side string(s) longer than 8 character(s) during assignment\n",
      "  col[item] = val\n"
     ]
    },
    {
     "name": "stdout",
     "output_type": "stream",
     "text": [
      "found halpha v1 match  VFID2933  \n"
     ]
    },
    {
     "name": "stderr",
     "output_type": "stream",
     "text": [
      "/home/rfinn/anaconda3/lib/python3.7/site-packages/astropy/table/table.py:1473: StringTruncateWarning: truncated right side string(s) longer than 8 character(s) during assignment\n",
      "  col[item] = val\n"
     ]
    },
    {
     "name": "stdout",
     "output_type": "stream",
     "text": [
      "found halpha v1 match  VFID2945  \n"
     ]
    },
    {
     "name": "stderr",
     "output_type": "stream",
     "text": [
      "/home/rfinn/anaconda3/lib/python3.7/site-packages/astropy/table/table.py:1473: StringTruncateWarning: truncated right side string(s) longer than 8 character(s) during assignment\n",
      "  col[item] = val\n"
     ]
    },
    {
     "name": "stdout",
     "output_type": "stream",
     "text": [
      "found halpha v1 match  VFID2949  \n"
     ]
    },
    {
     "name": "stderr",
     "output_type": "stream",
     "text": [
      "/home/rfinn/anaconda3/lib/python3.7/site-packages/astropy/table/table.py:1473: StringTruncateWarning: truncated right side string(s) longer than 8 character(s) during assignment\n",
      "  col[item] = val\n"
     ]
    },
    {
     "name": "stdout",
     "output_type": "stream",
     "text": [
      "found halpha v1 match  VFID3224  \n"
     ]
    },
    {
     "name": "stderr",
     "output_type": "stream",
     "text": [
      "/home/rfinn/anaconda3/lib/python3.7/site-packages/astropy/table/table.py:1473: StringTruncateWarning: truncated right side string(s) longer than 8 character(s) during assignment\n",
      "  col[item] = val\n"
     ]
    },
    {
     "name": "stdout",
     "output_type": "stream",
     "text": [
      "found halpha v1 match  VFID3119  \n"
     ]
    },
    {
     "name": "stderr",
     "output_type": "stream",
     "text": [
      "/home/rfinn/anaconda3/lib/python3.7/site-packages/astropy/table/table.py:1473: StringTruncateWarning: truncated right side string(s) longer than 8 character(s) during assignment\n",
      "  col[item] = val\n"
     ]
    },
    {
     "name": "stdout",
     "output_type": "stream",
     "text": [
      "found halpha v1 match  VFID3123  \n"
     ]
    },
    {
     "name": "stderr",
     "output_type": "stream",
     "text": [
      "/home/rfinn/anaconda3/lib/python3.7/site-packages/astropy/table/table.py:1473: StringTruncateWarning: truncated right side string(s) longer than 8 character(s) during assignment\n",
      "  col[item] = val\n"
     ]
    },
    {
     "name": "stdout",
     "output_type": "stream",
     "text": [
      "found halpha v1 match  VFID2628  \n"
     ]
    },
    {
     "name": "stderr",
     "output_type": "stream",
     "text": [
      "/home/rfinn/anaconda3/lib/python3.7/site-packages/astropy/table/table.py:1473: StringTruncateWarning: truncated right side string(s) longer than 8 character(s) during assignment\n",
      "  col[item] = val\n"
     ]
    },
    {
     "name": "stdout",
     "output_type": "stream",
     "text": [
      "found halpha v1 match  VFID5308  \n"
     ]
    },
    {
     "name": "stderr",
     "output_type": "stream",
     "text": [
      "/home/rfinn/anaconda3/lib/python3.7/site-packages/astropy/table/table.py:1473: StringTruncateWarning: truncated right side string(s) longer than 8 character(s) during assignment\n",
      "  col[item] = val\n"
     ]
    },
    {
     "name": "stdout",
     "output_type": "stream",
     "text": [
      "found halpha v1 match  VFID1951  \n"
     ]
    },
    {
     "name": "stderr",
     "output_type": "stream",
     "text": [
      "/home/rfinn/anaconda3/lib/python3.7/site-packages/astropy/table/table.py:1473: StringTruncateWarning: truncated right side string(s) longer than 8 character(s) during assignment\n",
      "  col[item] = val\n"
     ]
    },
    {
     "name": "stdout",
     "output_type": "stream",
     "text": [
      "found halpha v1 match  VFID1955  \n"
     ]
    },
    {
     "name": "stderr",
     "output_type": "stream",
     "text": [
      "/home/rfinn/anaconda3/lib/python3.7/site-packages/astropy/table/table.py:1473: StringTruncateWarning: truncated right side string(s) longer than 8 character(s) during assignment\n",
      "  col[item] = val\n"
     ]
    },
    {
     "name": "stdout",
     "output_type": "stream",
     "text": [
      "found halpha v1 match  VFID1959  \n"
     ]
    },
    {
     "name": "stderr",
     "output_type": "stream",
     "text": [
      "/home/rfinn/anaconda3/lib/python3.7/site-packages/astropy/table/table.py:1473: StringTruncateWarning: truncated right side string(s) longer than 8 character(s) during assignment\n",
      "  col[item] = val\n"
     ]
    },
    {
     "name": "stdout",
     "output_type": "stream",
     "text": [
      "found halpha v1 match  VFID1964  \n"
     ]
    },
    {
     "name": "stderr",
     "output_type": "stream",
     "text": [
      "/home/rfinn/anaconda3/lib/python3.7/site-packages/astropy/table/table.py:1473: StringTruncateWarning: truncated right side string(s) longer than 8 character(s) during assignment\n",
      "  col[item] = val\n"
     ]
    },
    {
     "name": "stdout",
     "output_type": "stream",
     "text": [
      "found halpha v1 match  VFID1976  \n"
     ]
    },
    {
     "name": "stderr",
     "output_type": "stream",
     "text": [
      "/home/rfinn/anaconda3/lib/python3.7/site-packages/astropy/table/table.py:1473: StringTruncateWarning: truncated right side string(s) longer than 8 character(s) during assignment\n",
      "  col[item] = val\n"
     ]
    },
    {
     "name": "stdout",
     "output_type": "stream",
     "text": [
      "found halpha v1 match  VFID1979  \n"
     ]
    },
    {
     "name": "stderr",
     "output_type": "stream",
     "text": [
      "/home/rfinn/anaconda3/lib/python3.7/site-packages/astropy/table/table.py:1473: StringTruncateWarning: truncated right side string(s) longer than 8 character(s) during assignment\n",
      "  col[item] = val\n"
     ]
    },
    {
     "name": "stdout",
     "output_type": "stream",
     "text": [
      "found halpha v1 match  VFID2824  \n"
     ]
    },
    {
     "name": "stderr",
     "output_type": "stream",
     "text": [
      "/home/rfinn/anaconda3/lib/python3.7/site-packages/astropy/table/table.py:1473: StringTruncateWarning: truncated right side string(s) longer than 8 character(s) during assignment\n",
      "  col[item] = val\n"
     ]
    },
    {
     "name": "stdout",
     "output_type": "stream",
     "text": [
      "found halpha v1 match  VFID6138  \n"
     ]
    },
    {
     "name": "stderr",
     "output_type": "stream",
     "text": [
      "/home/rfinn/anaconda3/lib/python3.7/site-packages/astropy/table/table.py:1473: StringTruncateWarning: truncated right side string(s) longer than 8 character(s) during assignment\n",
      "  col[item] = val\n"
     ]
    },
    {
     "name": "stdout",
     "output_type": "stream",
     "text": [
      "found halpha v1 match  VFID6143  \n"
     ]
    },
    {
     "name": "stderr",
     "output_type": "stream",
     "text": [
      "/home/rfinn/anaconda3/lib/python3.7/site-packages/astropy/table/table.py:1473: StringTruncateWarning: truncated right side string(s) longer than 8 character(s) during assignment\n",
      "  col[item] = val\n"
     ]
    },
    {
     "name": "stdout",
     "output_type": "stream",
     "text": [
      "found halpha v1 match  VFID6147  \n"
     ]
    },
    {
     "name": "stderr",
     "output_type": "stream",
     "text": [
      "/home/rfinn/anaconda3/lib/python3.7/site-packages/astropy/table/table.py:1473: StringTruncateWarning: truncated right side string(s) longer than 8 character(s) during assignment\n",
      "  col[item] = val\n"
     ]
    },
    {
     "name": "stdout",
     "output_type": "stream",
     "text": [
      "found halpha v1 match  VFID6152  \n"
     ]
    },
    {
     "name": "stderr",
     "output_type": "stream",
     "text": [
      "/home/rfinn/anaconda3/lib/python3.7/site-packages/astropy/table/table.py:1473: StringTruncateWarning: truncated right side string(s) longer than 8 character(s) during assignment\n",
      "  col[item] = val\n"
     ]
    },
    {
     "name": "stdout",
     "output_type": "stream",
     "text": [
      "found halpha v1 match  VFID2657  \n"
     ]
    },
    {
     "name": "stderr",
     "output_type": "stream",
     "text": [
      "/home/rfinn/anaconda3/lib/python3.7/site-packages/astropy/table/table.py:1473: StringTruncateWarning: truncated right side string(s) longer than 8 character(s) during assignment\n",
      "  col[item] = val\n"
     ]
    },
    {
     "name": "stdout",
     "output_type": "stream",
     "text": [
      "found halpha v1 match  VFID2675  \n"
     ]
    },
    {
     "name": "stderr",
     "output_type": "stream",
     "text": [
      "/home/rfinn/anaconda3/lib/python3.7/site-packages/astropy/table/table.py:1473: StringTruncateWarning: truncated right side string(s) longer than 8 character(s) during assignment\n",
      "  col[item] = val\n"
     ]
    },
    {
     "name": "stdout",
     "output_type": "stream",
     "text": [
      "found halpha v1 match  VFID6357  \n"
     ]
    },
    {
     "name": "stderr",
     "output_type": "stream",
     "text": [
      "/home/rfinn/anaconda3/lib/python3.7/site-packages/astropy/table/table.py:1473: StringTruncateWarning: truncated right side string(s) longer than 8 character(s) during assignment\n",
      "  col[item] = val\n"
     ]
    },
    {
     "name": "stdout",
     "output_type": "stream",
     "text": [
      "found halpha v1 match  VFID6411  \n"
     ]
    },
    {
     "name": "stderr",
     "output_type": "stream",
     "text": [
      "/home/rfinn/anaconda3/lib/python3.7/site-packages/astropy/table/table.py:1473: StringTruncateWarning: truncated right side string(s) longer than 8 character(s) during assignment\n",
      "  col[item] = val\n"
     ]
    },
    {
     "name": "stdout",
     "output_type": "stream",
     "text": [
      "found halpha v1 match  VFID6439  \n"
     ]
    },
    {
     "name": "stderr",
     "output_type": "stream",
     "text": [
      "/home/rfinn/anaconda3/lib/python3.7/site-packages/astropy/table/table.py:1473: StringTruncateWarning: truncated right side string(s) longer than 8 character(s) during assignment\n",
      "  col[item] = val\n"
     ]
    },
    {
     "name": "stdout",
     "output_type": "stream",
     "text": [
      "found halpha v1 match  VFID6461  \n"
     ]
    },
    {
     "name": "stderr",
     "output_type": "stream",
     "text": [
      "/home/rfinn/anaconda3/lib/python3.7/site-packages/astropy/table/table.py:1473: StringTruncateWarning: truncated right side string(s) longer than 8 character(s) during assignment\n",
      "  col[item] = val\n"
     ]
    },
    {
     "name": "stdout",
     "output_type": "stream",
     "text": [
      "found halpha v1 match  VFID2596  \n"
     ]
    },
    {
     "name": "stderr",
     "output_type": "stream",
     "text": [
      "/home/rfinn/anaconda3/lib/python3.7/site-packages/astropy/table/table.py:1473: StringTruncateWarning: truncated right side string(s) longer than 8 character(s) during assignment\n",
      "  col[item] = val\n"
     ]
    },
    {
     "name": "stdout",
     "output_type": "stream",
     "text": [
      "found halpha v1 match  VFID2603  \n"
     ]
    },
    {
     "name": "stderr",
     "output_type": "stream",
     "text": [
      "/home/rfinn/anaconda3/lib/python3.7/site-packages/astropy/table/table.py:1473: StringTruncateWarning: truncated right side string(s) longer than 8 character(s) during assignment\n",
      "  col[item] = val\n"
     ]
    },
    {
     "name": "stdout",
     "output_type": "stream",
     "text": [
      "found halpha v1 match  VFID2630  \n"
     ]
    },
    {
     "name": "stderr",
     "output_type": "stream",
     "text": [
      "/home/rfinn/anaconda3/lib/python3.7/site-packages/astropy/table/table.py:1473: StringTruncateWarning: truncated right side string(s) longer than 8 character(s) during assignment\n",
      "  col[item] = val\n"
     ]
    },
    {
     "name": "stdout",
     "output_type": "stream",
     "text": [
      "found halpha v1 match  VFID2667  \n"
     ]
    },
    {
     "name": "stderr",
     "output_type": "stream",
     "text": [
      "/home/rfinn/anaconda3/lib/python3.7/site-packages/astropy/table/table.py:1473: StringTruncateWarning: truncated right side string(s) longer than 8 character(s) during assignment\n",
      "  col[item] = val\n"
     ]
    },
    {
     "name": "stdout",
     "output_type": "stream",
     "text": [
      "found halpha v1 match  VFID2669  \n"
     ]
    },
    {
     "name": "stderr",
     "output_type": "stream",
     "text": [
      "/home/rfinn/anaconda3/lib/python3.7/site-packages/astropy/table/table.py:1473: StringTruncateWarning: truncated right side string(s) longer than 8 character(s) during assignment\n",
      "  col[item] = val\n"
     ]
    },
    {
     "name": "stdout",
     "output_type": "stream",
     "text": [
      "found halpha v1 match  VFID2672  \n"
     ]
    },
    {
     "name": "stderr",
     "output_type": "stream",
     "text": [
      "/home/rfinn/anaconda3/lib/python3.7/site-packages/astropy/table/table.py:1473: StringTruncateWarning: truncated right side string(s) longer than 8 character(s) during assignment\n",
      "  col[item] = val\n"
     ]
    },
    {
     "name": "stdout",
     "output_type": "stream",
     "text": [
      "found halpha v1 match  VFID2679  \n"
     ]
    },
    {
     "name": "stderr",
     "output_type": "stream",
     "text": [
      "/home/rfinn/anaconda3/lib/python3.7/site-packages/astropy/table/table.py:1473: StringTruncateWarning: truncated right side string(s) longer than 8 character(s) during assignment\n",
      "  col[item] = val\n"
     ]
    },
    {
     "name": "stdout",
     "output_type": "stream",
     "text": [
      "found halpha v1 match  VFID2692  \n"
     ]
    },
    {
     "name": "stderr",
     "output_type": "stream",
     "text": [
      "/home/rfinn/anaconda3/lib/python3.7/site-packages/astropy/table/table.py:1473: StringTruncateWarning: truncated right side string(s) longer than 8 character(s) during assignment\n",
      "  col[item] = val\n"
     ]
    },
    {
     "name": "stdout",
     "output_type": "stream",
     "text": [
      "found halpha v1 match  VFID2693  \n"
     ]
    },
    {
     "name": "stderr",
     "output_type": "stream",
     "text": [
      "/home/rfinn/anaconda3/lib/python3.7/site-packages/astropy/table/table.py:1473: StringTruncateWarning: truncated right side string(s) longer than 8 character(s) during assignment\n",
      "  col[item] = val\n"
     ]
    },
    {
     "name": "stdout",
     "output_type": "stream",
     "text": [
      "found halpha v1 match  VFID2703  \n"
     ]
    },
    {
     "name": "stderr",
     "output_type": "stream",
     "text": [
      "/home/rfinn/anaconda3/lib/python3.7/site-packages/astropy/table/table.py:1473: StringTruncateWarning: truncated right side string(s) longer than 8 character(s) during assignment\n",
      "  col[item] = val\n"
     ]
    },
    {
     "name": "stdout",
     "output_type": "stream",
     "text": [
      "found halpha v1 match  VFID3239  \n"
     ]
    },
    {
     "name": "stderr",
     "output_type": "stream",
     "text": [
      "/home/rfinn/anaconda3/lib/python3.7/site-packages/astropy/table/table.py:1473: StringTruncateWarning: truncated right side string(s) longer than 8 character(s) during assignment\n",
      "  col[item] = val\n"
     ]
    },
    {
     "name": "stdout",
     "output_type": "stream",
     "text": [
      "found halpha v1 match  VFID3248  \n"
     ]
    },
    {
     "name": "stderr",
     "output_type": "stream",
     "text": [
      "/home/rfinn/anaconda3/lib/python3.7/site-packages/astropy/table/table.py:1473: StringTruncateWarning: truncated right side string(s) longer than 8 character(s) during assignment\n",
      "  col[item] = val\n"
     ]
    },
    {
     "name": "stdout",
     "output_type": "stream",
     "text": [
      "found halpha v1 match  VFID3264  \n"
     ]
    },
    {
     "name": "stderr",
     "output_type": "stream",
     "text": [
      "/home/rfinn/anaconda3/lib/python3.7/site-packages/astropy/table/table.py:1473: StringTruncateWarning: truncated right side string(s) longer than 8 character(s) during assignment\n",
      "  col[item] = val\n"
     ]
    },
    {
     "name": "stdout",
     "output_type": "stream",
     "text": [
      "found halpha v1 match  VFID3279  \n"
     ]
    },
    {
     "name": "stderr",
     "output_type": "stream",
     "text": [
      "/home/rfinn/anaconda3/lib/python3.7/site-packages/astropy/table/table.py:1473: StringTruncateWarning: truncated right side string(s) longer than 8 character(s) during assignment\n",
      "  col[item] = val\n"
     ]
    },
    {
     "name": "stdout",
     "output_type": "stream",
     "text": [
      "found halpha v1 match  VFID3290  \n"
     ]
    },
    {
     "name": "stderr",
     "output_type": "stream",
     "text": [
      "/home/rfinn/anaconda3/lib/python3.7/site-packages/astropy/table/table.py:1473: StringTruncateWarning: truncated right side string(s) longer than 8 character(s) during assignment\n",
      "  col[item] = val\n"
     ]
    },
    {
     "name": "stdout",
     "output_type": "stream",
     "text": [
      "found halpha v1 match  VFID2058  \n"
     ]
    },
    {
     "name": "stderr",
     "output_type": "stream",
     "text": [
      "/home/rfinn/anaconda3/lib/python3.7/site-packages/astropy/table/table.py:1473: StringTruncateWarning: truncated right side string(s) longer than 8 character(s) during assignment\n",
      "  col[item] = val\n"
     ]
    },
    {
     "name": "stdout",
     "output_type": "stream",
     "text": [
      "found halpha v1 match  VFID2082  \n"
     ]
    },
    {
     "name": "stderr",
     "output_type": "stream",
     "text": [
      "/home/rfinn/anaconda3/lib/python3.7/site-packages/astropy/table/table.py:1473: StringTruncateWarning: truncated right side string(s) longer than 8 character(s) during assignment\n",
      "  col[item] = val\n"
     ]
    },
    {
     "name": "stdout",
     "output_type": "stream",
     "text": [
      "found halpha v1 match  VFID2086  \n"
     ]
    },
    {
     "name": "stderr",
     "output_type": "stream",
     "text": [
      "/home/rfinn/anaconda3/lib/python3.7/site-packages/astropy/table/table.py:1473: StringTruncateWarning: truncated right side string(s) longer than 8 character(s) during assignment\n",
      "  col[item] = val\n"
     ]
    },
    {
     "name": "stdout",
     "output_type": "stream",
     "text": [
      "found halpha v1 match  VFID2088  \n"
     ]
    },
    {
     "name": "stderr",
     "output_type": "stream",
     "text": [
      "/home/rfinn/anaconda3/lib/python3.7/site-packages/astropy/table/table.py:1473: StringTruncateWarning: truncated right side string(s) longer than 8 character(s) during assignment\n",
      "  col[item] = val\n"
     ]
    },
    {
     "name": "stdout",
     "output_type": "stream",
     "text": [
      "found halpha v1 match  VFID2092  \n"
     ]
    },
    {
     "name": "stderr",
     "output_type": "stream",
     "text": [
      "/home/rfinn/anaconda3/lib/python3.7/site-packages/astropy/table/table.py:1473: StringTruncateWarning: truncated right side string(s) longer than 8 character(s) during assignment\n",
      "  col[item] = val\n"
     ]
    },
    {
     "name": "stdout",
     "output_type": "stream",
     "text": [
      "found halpha v1 match  VFID6108  \n"
     ]
    },
    {
     "name": "stderr",
     "output_type": "stream",
     "text": [
      "/home/rfinn/anaconda3/lib/python3.7/site-packages/astropy/table/table.py:1473: StringTruncateWarning: truncated right side string(s) longer than 8 character(s) during assignment\n",
      "  col[item] = val\n"
     ]
    },
    {
     "name": "stdout",
     "output_type": "stream",
     "text": [
      "found halpha v1 match  VFID6137  \n"
     ]
    },
    {
     "name": "stderr",
     "output_type": "stream",
     "text": [
      "/home/rfinn/anaconda3/lib/python3.7/site-packages/astropy/table/table.py:1473: StringTruncateWarning: truncated right side string(s) longer than 8 character(s) during assignment\n",
      "  col[item] = val\n"
     ]
    },
    {
     "name": "stdout",
     "output_type": "stream",
     "text": [
      "found halpha v1 match  VFID6141  \n"
     ]
    },
    {
     "name": "stderr",
     "output_type": "stream",
     "text": [
      "/home/rfinn/anaconda3/lib/python3.7/site-packages/astropy/table/table.py:1473: StringTruncateWarning: truncated right side string(s) longer than 8 character(s) during assignment\n",
      "  col[item] = val\n"
     ]
    },
    {
     "name": "stdout",
     "output_type": "stream",
     "text": [
      "found halpha v1 match  VFID3000  \n"
     ]
    },
    {
     "name": "stderr",
     "output_type": "stream",
     "text": [
      "/home/rfinn/anaconda3/lib/python3.7/site-packages/astropy/table/table.py:1473: StringTruncateWarning: truncated right side string(s) longer than 8 character(s) during assignment\n",
      "  col[item] = val\n"
     ]
    },
    {
     "name": "stdout",
     "output_type": "stream",
     "text": [
      "found halpha v1 match  VFID3006  \n"
     ]
    },
    {
     "name": "stderr",
     "output_type": "stream",
     "text": [
      "/home/rfinn/anaconda3/lib/python3.7/site-packages/astropy/table/table.py:1473: StringTruncateWarning: truncated right side string(s) longer than 8 character(s) during assignment\n",
      "  col[item] = val\n"
     ]
    },
    {
     "name": "stdout",
     "output_type": "stream",
     "text": [
      "found halpha v1 match  VFID3036  \n"
     ]
    },
    {
     "name": "stderr",
     "output_type": "stream",
     "text": [
      "/home/rfinn/anaconda3/lib/python3.7/site-packages/astropy/table/table.py:1473: StringTruncateWarning: truncated right side string(s) longer than 8 character(s) during assignment\n",
      "  col[item] = val\n"
     ]
    },
    {
     "name": "stdout",
     "output_type": "stream",
     "text": [
      "found halpha v1 match  VFID3039  \n"
     ]
    },
    {
     "name": "stderr",
     "output_type": "stream",
     "text": [
      "/home/rfinn/anaconda3/lib/python3.7/site-packages/astropy/table/table.py:1473: StringTruncateWarning: truncated right side string(s) longer than 8 character(s) during assignment\n",
      "  col[item] = val\n"
     ]
    },
    {
     "name": "stdout",
     "output_type": "stream",
     "text": [
      "found halpha v1 match  VFID3043  \n"
     ]
    },
    {
     "name": "stderr",
     "output_type": "stream",
     "text": [
      "/home/rfinn/anaconda3/lib/python3.7/site-packages/astropy/table/table.py:1473: StringTruncateWarning: truncated right side string(s) longer than 8 character(s) during assignment\n",
      "  col[item] = val\n"
     ]
    },
    {
     "name": "stdout",
     "output_type": "stream",
     "text": [
      "found halpha v1 match  VFID3365  \n"
     ]
    },
    {
     "name": "stderr",
     "output_type": "stream",
     "text": [
      "/home/rfinn/anaconda3/lib/python3.7/site-packages/astropy/table/table.py:1473: StringTruncateWarning: truncated right side string(s) longer than 8 character(s) during assignment\n",
      "  col[item] = val\n"
     ]
    },
    {
     "name": "stdout",
     "output_type": "stream",
     "text": [
      "found halpha v1 match  VFID3366  \n"
     ]
    },
    {
     "name": "stderr",
     "output_type": "stream",
     "text": [
      "/home/rfinn/anaconda3/lib/python3.7/site-packages/astropy/table/table.py:1473: StringTruncateWarning: truncated right side string(s) longer than 8 character(s) during assignment\n",
      "  col[item] = val\n"
     ]
    },
    {
     "name": "stdout",
     "output_type": "stream",
     "text": [
      "found halpha v1 match  VFID3372  \n"
     ]
    },
    {
     "name": "stderr",
     "output_type": "stream",
     "text": [
      "/home/rfinn/anaconda3/lib/python3.7/site-packages/astropy/table/table.py:1473: StringTruncateWarning: truncated right side string(s) longer than 8 character(s) during assignment\n",
      "  col[item] = val\n"
     ]
    },
    {
     "name": "stdout",
     "output_type": "stream",
     "text": [
      "found halpha v1 match  VFID3384  \n"
     ]
    },
    {
     "name": "stderr",
     "output_type": "stream",
     "text": [
      "/home/rfinn/anaconda3/lib/python3.7/site-packages/astropy/table/table.py:1473: StringTruncateWarning: truncated right side string(s) longer than 8 character(s) during assignment\n",
      "  col[item] = val\n"
     ]
    },
    {
     "name": "stdout",
     "output_type": "stream",
     "text": [
      "found halpha v1 match  VFID2521  \n"
     ]
    },
    {
     "name": "stderr",
     "output_type": "stream",
     "text": [
      "/home/rfinn/anaconda3/lib/python3.7/site-packages/astropy/table/table.py:1473: StringTruncateWarning: truncated right side string(s) longer than 8 character(s) during assignment\n",
      "  col[item] = val\n"
     ]
    },
    {
     "name": "stdout",
     "output_type": "stream",
     "text": [
      "calculating snr\n"
     ]
    },
    {
     "name": "stderr",
     "output_type": "stream",
     "text": [
      "/home/rfinn/github/Virgo/programs/write_subtables.py:797: RuntimeWarning: invalid value encountered in true_divide\n",
      "  self.haflag = ((self.hatable['HF_R24']/self.hatable['HF_R24_ERR']) > 1.)\n",
      "/home/rfinn/anaconda3/lib/python3.7/site-packages/astropy/table/column.py:984: RuntimeWarning: invalid value encountered in greater\n",
      "  result = getattr(super(), op)(other)\n"
     ]
    },
    {
     "name": "stdout",
     "output_type": "stream",
     "text": [
      "setting HAflag\n",
      "writing hafile\n",
      "finished writing hafile\n",
      "number of galaxies with D25 measurement = 5732 (0.84%)\n",
      "number of galaxies using NSA V1 Petro TH90 = 474 (0.07%)\n",
      "number of galaxies using NSA V1 Petro TH90 = 56 (0.01%)\n",
      "number of galaxies using A100 sdss Petro TH90 = 262 (0.04%)\n",
      "number of galaxies with no size measurement = 273 (0.04%)\n",
      "adjusting radius for  --  galaxies based on legacy images\n",
      "number of galaxies with updated values of radius =  146\n",
      "CALCULATING SFRS\n",
      "1.1938664808532806\n"
     ]
    },
    {
     "name": "stderr",
     "output_type": "stream",
     "text": [
      "/home/rfinn/github/Virgo/programs/write_subtables.py:416: RuntimeWarning: divide by zero encountered in log10\n",
      "  self.logMHI = np.log10(2.3566e5*self.cat['HIflux'])+2*np.log10(self.cat['Dist']) #Dist^2\n",
      "/home/rfinn/github/Virgo/programs/write_subtables.py:442: RuntimeWarning: divide by zero encountered in log10\n",
      "  logD25kpc=np.log10(D25obskpc.value) + 0.35*np.log10(self.cat['expAB_r'])\n",
      "/home/rfinn/anaconda3/lib/python3.7/site-packages/astropy/table/column.py:984: RuntimeWarning: invalid value encountered in less\n",
      "  result = getattr(super(), op)(other)\n",
      "/home/rfinn/github/Virgo/programs/write_subtables.py:472: RuntimeWarning: invalid value encountered in subtract\n",
      "  self.HIdef_jones_bytype[flag] = 6.44 + 1.04*(2*logD25kpc[flag])- self.logMHI[flag]\n",
      "/home/rfinn/github/Virgo/programs/write_subtables.py:474: RuntimeWarning: invalid value encountered in subtract\n",
      "  self.HIdef_jones_bytype[flag] = 7.53 + .81*(2*logD25kpc[flag]) - self.logMHI[flag]\n",
      "/home/rfinn/anaconda3/lib/python3.7/site-packages/astropy/table/column.py:984: RuntimeWarning: invalid value encountered in less_equal\n",
      "  result = getattr(super(), op)(other)\n",
      "/home/rfinn/anaconda3/lib/python3.7/site-packages/astropy/table/column.py:984: RuntimeWarning: invalid value encountered in greater_equal\n",
      "  result = getattr(super(), op)(other)\n",
      "/home/rfinn/github/Virgo/programs/write_subtables.py:476: RuntimeWarning: invalid value encountered in subtract\n",
      "  self.HIdef_jones_bytype[flag] = 7.14 + .93*(2*logD25kpc[flag]) - self.logMHI[flag]\n",
      "/home/rfinn/github/Virgo/programs/write_subtables.py:487: RuntimeWarning: invalid value encountered in subtract\n",
      "  self.HIdef_bos = logh2MHIref - self.logMHI\n"
     ]
    },
    {
     "name": "stdout",
     "output_type": "stream",
     "text": [
      "number of lines in z0MGS cat =  9151\n",
      "length of keepnorth_flag =  9151\n"
     ]
    },
    {
     "name": "stderr",
     "output_type": "stream",
     "text": [
      "WARNING: UnitsWarning: ''dex'' did not parse as fits unit: At col 0, Unit ''dex'' not supported by the FITS standard.  [astropy.units.core]\n",
      "WARNING: UnitsWarning: 'log(solMass)' did not parse as fits unit: 'log' is not a recognized function [astropy.units.core]\n",
      "WARNING: UnitsWarning: 'log(solMass/yr)' did not parse as fits unit: 'log' is not a recognized function [astropy.units.core]\n",
      "WARNING: Attribute `keywords` of type <class 'collections.OrderedDict'> cannot be added to FITS Header - skipping [astropy.io.fits.convenience]\n"
     ]
    },
    {
     "name": "stdout",
     "output_type": "stream",
     "text": [
      "Number in sample =  6797\n",
      "Number with CO data =  242\n",
      "Number with A100 data = 2336 (0.344)\n",
      "Number with z0MGS matches = 2375 (0.349)\n",
      "Number with steer17 matches = 1959 (0.288)\n",
      "Number with unwise matches = 6126 (0.901)\n",
      "Number with unWISE and NSA = 5240 (0.771)\n",
      "CO SOURCES\n",
      "\tNumber of CO sources in z0MGS = 236 (0.98)\n",
      "\tNumber of CO sources in Steer = 179 (0.74)\n",
      "\tNumber of CO sources in z0MGS+Steer = 179 (0.74)\n",
      "\tNumber of CO sources with unWISE and NSA = 228 (0.94)\n"
     ]
    },
    {
     "data": {
      "image/png": "[encoded data removed]",
      "text/plain": [
       "<Figure size 432x288 with 1 Axes>"
      ]
     },
     "metadata": {
      "needs_background": "light"
     },
     "output_type": "display_data"
    }
   ],
   "source": [
    "\n",
    "# commenting out get_unwise, because I'll have to match to new table\n",
    "os.chdir('/home/rfinn/research/Virgo/supersample/')\n",
    "%run ~/github/Virgo/programs/write_subtables.py --north --hav1\n",
    "c.runall()"
   ]
  },
  {
   "cell_type": "code",
   "execution_count": null,
   "metadata": {},
   "outputs": [],
   "source": []
  }
 ],
 "metadata": {
  "kernelspec": {
   "display_name": "Python 3",
   "language": "python",
   "name": "python3"
  },
  "language_info": {
   "codemirror_mode": {
    "name": "ipython",
    "version": 3
   },
   "file_extension": ".py",
   "mimetype": "text/x-python",
   "name": "python",
   "nbconvert_exporter": "python",
   "pygments_lexer": "ipython3",
   "version": "3.7.4"
  }
 },
 "nbformat": 4,
 "nbformat_minor": 2
}
