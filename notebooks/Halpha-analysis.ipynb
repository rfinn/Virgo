{
 "cells": [
  {
   "cell_type": "code",
   "execution_count": 17,
   "metadata": {},
   "outputs": [],
   "source": [
    "import os\n",
    "from astropy.io import fits\n",
    "import time\n",
    "from matplotlib import pyplot as plt\n",
    "%matplotlib inline\n",
    "import glob\n",
    "import numpy as np\n",
    "from astropy.io import ascii"
   ]
  },
  {
   "cell_type": "markdown",
   "metadata": {},
   "source": [
    "## Reducing 2019 Data From INT\n",
    "\n",
    "* create mosaics with theli.  \n",
    "  * notes are here: https://docs.google.com/document/d/1RvXv-4K5p9EMDesxOOPoQoCIBwRo2NpHD7hstGAOLgk/edit?usp=sharing\n",
    "  * reduction log: https://docs.google.com/spreadsheets/d/175ya3b6pd3sc_uHtmR6vmNi1wPBC4bSV9DMTG8od4_E/edit?usp=sharing\n",
    "  * doing reduction on linux laptop b/c I could install theli here\n",
    "  \n",
    "* gather coadds in a directory \n",
    "\n",
    "* zeropoint calibration\n",
    "  * where is the best place to do this?  in each coadd directory, or gather all coadds first, then run altogether\n",
    "  * the advantage of the latter is that all of the diagnostic plots will be in the same directory\n",
    "  * TO DO\n",
    "      * need to make a plots subdirectory, and save plots from getzp there. - DONE\n",
    "      * also need to rename plots to include coadd name - DONE\n",
    "* at this point, we can move the reduced data to virgo vms virgo-gdrive and also backup on an external harddrive\n",
    "* cp coadds to virgo vms, virgo-gdrive\n",
    "\n",
    "## Update on INT reduction as of Feb 2020\n",
    "\n",
    "* used theli v3 through flatfielding\n",
    "* moved images from virgo vms to laptop b/c file i/o on vms was super slow\n",
    "  * ~/data/reduced/scratch-int-feb2019/\n",
    "  * attempt2 subdirectory is the *final* version\n",
    "* then pooled all images to one directory and ran scamp on all images at once\n",
    "  * INT_scamp_swarp.py\n",
    "* then split images into directories, one for each pointing\n",
    "  * INT_gather_pointing_images.py\n",
    "* create mosaics\n",
    "  * subtracted the median sky value from each chip using: \n",
    "    * HalphaImaging/python3/subtract_median.py\n",
    "    * INT_scamp_swarp.py\n",
    "  * then ran swarp to create the mosaics\n",
    "    * INT_scamp_swarp.py\n",
    "    \n",
    "* solved for ZP in individual directories\n",
    "  * github/HalphaImaging/python3/INT_batch_getzp.py\n",
    "    * this also divides by exposure time - swarp used to do this, but \n",
    "* move images to a coadd directory\n",
    "  * ~/data/reduced/virgo-coadds-feb2019-int\n",
    "  * INT_gathercoadds_notheli.py\n",
    "    * this creates image name that contains RA, DEC, date, pointing number\n",
    "    * also adds AIRMASS and DATE-OBS to the header of the coadd by grabbing the info from one of the individual exposures\n",
    "      * I would like my students to make plots of ZP versus time/date and airmass\n",
    "\n",
    "\n",
    "\n",
    "## Next Steps\n",
    "* align images - write batch for this \n",
    "  * **INT_align_images.py**\n",
    "  * DONE\n",
    "* get psf for each image\n",
    "  * doing this ahead of running gui\n",
    "  * **INT_batch_buildpsf.py**\n",
    "  * DONE?\n",
    "  \n"
   ]
  },
  {
   "cell_type": "markdown",
   "metadata": {},
   "source": [
    "# Align Images\n",
    "\n",
    "* could not get reproject_exact to work, so I'm sticking with reproject_interp\n",
    "* the shifted weight image was ended up double the size of the unshifted.  trying to figure out how to preserve the data type. DONE"
   ]
  },
  {
   "cell_type": "code",
   "execution_count": 7,
   "metadata": {},
   "outputs": [],
   "source": [
    "os.chdir('/home/rfinn/data/reduced/virgo-coadds-feb2019-int')"
   ]
  },
  {
   "cell_type": "code",
   "execution_count": 27,
   "metadata": {},
   "outputs": [
    {
     "name": "stdout",
     "output_type": "stream",
     "text": [
      "##########################################\n",
      "##########################################\n",
      "WORKING ON IMAGE:  VF-118.1817+20.9822-INT-20190205-p001-r.fits\n",
      "##########################################\n",
      "##########################################\n",
      "matching ha image:  VF-118.1817+20.9822-INT-20190205-p001-Halpha.fits\n",
      "running :  python ~/github/HalphaImaging/python3/INT_align_images.py --image1 VF-118.1817+20.9822-INT-20190205-p001-Halpha.fits --image2 VF-118.1817+20.9822-INT-20190205-p001-r.fits --weight2 VF-118.1817+20.9822-INT-20190205-p001-r.weight.fits\n",
      "##########################################\n",
      "##########################################\n",
      "WORKING ON IMAGE:  VF-122.3860+22.6797-INT-20190207-lmp001-r.fits\n",
      "##########################################\n",
      "##########################################\n",
      "matching ha image:  VF-122.3860+22.6797-INT-20190207-lmp001-Halpha.fits\n",
      "running :  python ~/github/HalphaImaging/python3/INT_align_images.py --image1 VF-122.3860+22.6797-INT-20190207-lmp001-Halpha.fits --image2 VF-122.3860+22.6797-INT-20190207-lmp001-r.fits --weight2 VF-122.3860+22.6797-INT-20190207-lmp001-r.weight.fits\n",
      "##########################################\n",
      "##########################################\n",
      "WORKING ON IMAGE:  VF-124.2617+21.1746-INT-20190211-lmp004-r.fits\n",
      "##########################################\n",
      "##########################################\n",
      "matching ha image:  VF-124.2617+21.1746-INT-20190211-lmp004-Halpha.fits\n",
      "running :  python ~/github/HalphaImaging/python3/INT_align_images.py --image1 VF-124.2617+21.1746-INT-20190211-lmp004-Halpha.fits --image2 VF-124.2617+21.1746-INT-20190211-lmp004-r.fits --weight2 VF-124.2617+21.1746-INT-20190211-lmp004-r.weight.fits\n",
      "##########################################\n",
      "##########################################\n",
      "WORKING ON IMAGE:  VF-124.3586+24.3678-INT-20190205-p002-r.fits\n",
      "##########################################\n",
      "##########################################\n",
      "matching ha image:  VF-124.3586+24.3678-INT-20190205-p002-Halpha.fits\n",
      "running :  python ~/github/HalphaImaging/python3/INT_align_images.py --image1 VF-124.3586+24.3678-INT-20190205-p002-Halpha.fits --image2 VF-124.3586+24.3678-INT-20190205-p002-r.fits --weight2 VF-124.3586+24.3678-INT-20190205-p002-r.weight.fits\n",
      "##########################################\n",
      "##########################################\n",
      "WORKING ON IMAGE:  VF-124.5227+22.6248-INT-20190208-lmp005-r.fits\n",
      "##########################################\n",
      "##########################################\n",
      "matching ha image:  VF-124.5227+22.6248-INT-20190208-lmp005-Halpha.fits\n",
      "running :  python ~/github/HalphaImaging/python3/INT_align_images.py --image1 VF-124.5227+22.6248-INT-20190208-lmp005-Halpha.fits --image2 VF-124.5227+22.6248-INT-20190208-lmp005-r.fits --weight2 VF-124.5227+22.6248-INT-20190208-lmp005-r.weight.fits\n",
      "##########################################\n",
      "##########################################\n",
      "WORKING ON IMAGE:  VF-124.5374+24.7162-INT-20190207-lmp002-r.fits\n",
      "##########################################\n",
      "##########################################\n",
      "matching ha image:  VF-124.5374+24.7162-INT-20190207-lmp002-Halpha.fits\n",
      "running :  python ~/github/HalphaImaging/python3/INT_align_images.py --image1 VF-124.5374+24.7162-INT-20190207-lmp002-Halpha.fits --image2 VF-124.5374+24.7162-INT-20190207-lmp002-r.fits --weight2 VF-124.5374+24.7162-INT-20190207-lmp002-r.weight.fits\n",
      "##########################################\n",
      "##########################################\n",
      "WORKING ON IMAGE:  VF-125.7133+22.6776-INT-20190205-p004-r.fits\n",
      "##########################################\n",
      "##########################################\n",
      "matching ha image:  VF-125.7133+22.6776-INT-20190205-p004-Halpha.fits\n",
      "running :  python ~/github/HalphaImaging/python3/INT_align_images.py --image1 VF-125.7133+22.6776-INT-20190205-p004-Halpha.fits --image2 VF-125.7133+22.6776-INT-20190205-p004-r.fits --weight2 VF-125.7133+22.6776-INT-20190205-p004-r.weight.fits\n",
      "##########################################\n",
      "##########################################\n",
      "WORKING ON IMAGE:  VF-125.7302+22.0248-INT-20190208-lmp009-r.fits\n",
      "##########################################\n",
      "##########################################\n",
      "matching ha image:  VF-125.7302+22.0248-INT-20190208-lmp009-Halpha.fits\n",
      "running :  python ~/github/HalphaImaging/python3/INT_align_images.py --image1 VF-125.7302+22.0248-INT-20190208-lmp009-Halpha.fits --image2 VF-125.7302+22.0248-INT-20190208-lmp009-r.fits --weight2 VF-125.7302+22.0248-INT-20190208-lmp009-r.weight.fits\n",
      "##########################################\n",
      "##########################################\n",
      "WORKING ON IMAGE:  VF-126.6889+25.4762-INT-20190208-lmp010-r.fits\n",
      "##########################################\n",
      "##########################################\n",
      "matching ha image:  VF-126.6889+25.4762-INT-20190208-lmp010-Halpha.fits\n",
      "running :  python ~/github/HalphaImaging/python3/INT_align_images.py --image1 VF-126.6889+25.4762-INT-20190208-lmp010-Halpha.fits --image2 VF-126.6889+25.4762-INT-20190208-lmp010-r.fits --weight2 VF-126.6889+25.4762-INT-20190208-lmp010-r.weight.fits\n",
      "##########################################\n",
      "##########################################\n",
      "WORKING ON IMAGE:  VF-126.7055+25.7304-INT-20190209-lmp011-r.fits\n",
      "##########################################\n",
      "##########################################\n",
      "matching ha image:  VF-126.7055+25.7304-INT-20190209-lmp011-Halpha.fits\n",
      "running :  python ~/github/HalphaImaging/python3/INT_align_images.py --image1 VF-126.7055+25.7304-INT-20190209-lmp011-Halpha.fits --image2 VF-126.7055+25.7304-INT-20190209-lmp011-r.fits --weight2 VF-126.7055+25.7304-INT-20190209-lmp011-r.weight.fits\n",
      "##########################################\n",
      "##########################################\n",
      "WORKING ON IMAGE:  VF-126.8693+25.0815-INT-20190209-lmp012-r.fits\n",
      "##########################################\n",
      "##########################################\n",
      "matching ha image:  VF-126.8693+25.0815-INT-20190209-lmp012-Halpha.fits\n",
      "running :  python ~/github/HalphaImaging/python3/INT_align_images.py --image1 VF-126.8693+25.0815-INT-20190209-lmp012-Halpha.fits --image2 VF-126.8693+25.0815-INT-20190209-lmp012-r.fits --weight2 VF-126.8693+25.0815-INT-20190209-lmp012-r.weight.fits\n",
      "##########################################\n",
      "##########################################\n",
      "WORKING ON IMAGE:  VF-127.2500+25.7113-INT-20190210-lmp013-r.fits\n",
      "##########################################\n",
      "##########################################\n",
      "matching ha image:  VF-127.2500+25.7113-INT-20190210-lmp013-Halpha.fits\n",
      "running :  python ~/github/HalphaImaging/python3/INT_align_images.py --image1 VF-127.2500+25.7113-INT-20190210-lmp013-Halpha.fits --image2 VF-127.2500+25.7113-INT-20190210-lmp013-r.fits --weight2 VF-127.2500+25.7113-INT-20190210-lmp013-r.weight.fits\n",
      "##########################################\n",
      "##########################################\n",
      "WORKING ON IMAGE:  VF-128.1638+29.4966-INT-20190204-p010-r.fits\n",
      "##########################################\n",
      "##########################################\n",
      "matching ha image:  VF-128.1638+29.4966-INT-20190204-p010-Halpha.fits\n",
      "running :  python ~/github/HalphaImaging/python3/INT_align_images.py --image1 VF-128.1638+29.4966-INT-20190204-p010-Halpha.fits --image2 VF-128.1638+29.4966-INT-20190204-p010-r.fits --weight2 VF-128.1638+29.4966-INT-20190204-p010-r.weight.fits\n",
      "##########################################\n",
      "##########################################\n",
      "WORKING ON IMAGE:  VF-128.6569+28.5186-INT-20190205-p012-r.fits\n",
      "##########################################\n",
      "##########################################\n",
      "matching ha image:  VF-128.6569+28.5186-INT-20190205-p012-Halpha.fits\n",
      "running :  python ~/github/HalphaImaging/python3/INT_align_images.py --image1 VF-128.6569+28.5186-INT-20190205-p012-Halpha.fits --image2 VF-128.6569+28.5186-INT-20190205-p012-r.fits --weight2 VF-128.6569+28.5186-INT-20190205-p012-r.weight.fits\n",
      "##########################################\n",
      "##########################################\n",
      "WORKING ON IMAGE:  VF-130.8695+49.7834-INT-20190206-p013-r.fits\n",
      "##########################################\n",
      "##########################################\n",
      "matching ha image:  VF-130.8695+49.7834-INT-20190206-p013-Halpha.fits\n",
      "running :  python ~/github/HalphaImaging/python3/INT_align_images.py --image1 VF-130.8695+49.7834-INT-20190206-p013-Halpha.fits --image2 VF-130.8695+49.7834-INT-20190206-p013-r.fits --weight2 VF-130.8695+49.7834-INT-20190206-p013-r.weight.fits\n"
     ]
    },
    {
     "name": "stdout",
     "output_type": "stream",
     "text": [
      "##########################################\n",
      "##########################################\n",
      "WORKING ON IMAGE:  VF-132.7700+30.8192-INT-20190205-p016-r.fits\n",
      "##########################################\n",
      "##########################################\n",
      "matching ha image:  VF-132.7700+30.8192-INT-20190205-p016-Halpha.fits\n",
      "running :  python ~/github/HalphaImaging/python3/INT_align_images.py --image1 VF-132.7700+30.8192-INT-20190205-p016-Halpha.fits --image2 VF-132.7700+30.8192-INT-20190205-p016-r.fits --weight2 VF-132.7700+30.8192-INT-20190205-p016-r.weight.fits\n",
      "##########################################\n",
      "##########################################\n",
      "WORKING ON IMAGE:  VF-133.3972+47.0954-INT-20190206-p017-r.fits\n",
      "##########################################\n",
      "##########################################\n",
      "matching ha image:  VF-133.3972+47.0954-INT-20190206-p017-Halpha.fits\n",
      "running :  python ~/github/HalphaImaging/python3/INT_align_images.py --image1 VF-133.3972+47.0954-INT-20190206-p017-Halpha.fits --image2 VF-133.3972+47.0954-INT-20190206-p017-r.fits --weight2 VF-133.3972+47.0954-INT-20190206-p017-r.weight.fits\n",
      "##########################################\n",
      "##########################################\n",
      "WORKING ON IMAGE:  VF-133.7730+31.2539-INT-20190206-p018-r.fits\n",
      "##########################################\n",
      "##########################################\n",
      "matching ha image:  VF-133.7730+31.2539-INT-20190206-p018-Halpha.fits\n",
      "running :  python ~/github/HalphaImaging/python3/INT_align_images.py --image1 VF-133.7730+31.2539-INT-20190206-p018-Halpha.fits --image2 VF-133.7730+31.2539-INT-20190206-p018-r.fits --weight2 VF-133.7730+31.2539-INT-20190206-p018-r.weight.fits\n",
      "##########################################\n",
      "##########################################\n",
      "WORKING ON IMAGE:  VF-134.7365+44.9063-INT-20190205-p019-r.fits\n",
      "##########################################\n",
      "##########################################\n",
      "matching ha image:  VF-134.7365+44.9063-INT-20190205-p019-Halpha.fits\n",
      "running :  python ~/github/HalphaImaging/python3/INT_align_images.py --image1 VF-134.7365+44.9063-INT-20190205-p019-Halpha.fits --image2 VF-134.7365+44.9063-INT-20190205-p019-r.fits --weight2 VF-134.7365+44.9063-INT-20190205-p019-r.weight.fits\n",
      "##########################################\n",
      "##########################################\n",
      "WORKING ON IMAGE:  VF-134.9395+31.9502-INT-20190206-p020-r.fits\n",
      "##########################################\n",
      "##########################################\n",
      "matching ha image:  VF-134.9395+31.9502-INT-20190206-p020-Halpha.fits\n",
      "running :  python ~/github/HalphaImaging/python3/INT_align_images.py --image1 VF-134.9395+31.9502-INT-20190206-p020-Halpha.fits --image2 VF-134.9395+31.9502-INT-20190206-p020-r.fits --weight2 VF-134.9395+31.9502-INT-20190206-p020-r.weight.fits\n",
      "##########################################\n",
      "##########################################\n",
      "WORKING ON IMAGE:  VF-135.0520+25.5958-INT-20190207-p021-r.fits\n",
      "##########################################\n",
      "##########################################\n",
      "matching ha image:  VF-135.0520+25.5958-INT-20190207-p021-Halpha.fits\n",
      "running :  python ~/github/HalphaImaging/python3/INT_align_images.py --image1 VF-135.0520+25.5958-INT-20190207-p021-Halpha.fits --image2 VF-135.0520+25.5958-INT-20190207-p021-r.fits --weight2 VF-135.0520+25.5958-INT-20190207-p021-r.weight.fits\n",
      "##########################################\n",
      "##########################################\n",
      "WORKING ON IMAGE:  VF-137.3409+33.1160-INT-20190210-lmp018-r.fits\n",
      "##########################################\n",
      "##########################################\n",
      "matching ha image:  VF-137.3409+33.1160-INT-20190210-lmp018-Halpha.fits\n",
      "running :  python ~/github/HalphaImaging/python3/INT_align_images.py --image1 VF-137.3409+33.1160-INT-20190210-lmp018-Halpha.fits --image2 VF-137.3409+33.1160-INT-20190210-lmp018-r.fits --weight2 VF-137.3409+33.1160-INT-20190210-lmp018-r.weight.fits\n",
      "##########################################\n",
      "##########################################\n",
      "WORKING ON IMAGE:  VF-138.1871+31.7994-INT-20190209-lmp020-r.fits\n",
      "##########################################\n",
      "##########################################\n",
      "matching ha image:  VF-138.1871+31.7994-INT-20190209-lmp020-Halpha.fits\n",
      "running :  python ~/github/HalphaImaging/python3/INT_align_images.py --image1 VF-138.1871+31.7994-INT-20190209-lmp020-Halpha.fits --image2 VF-138.1871+31.7994-INT-20190209-lmp020-r.fits --weight2 VF-138.1871+31.7994-INT-20190209-lmp020-r.weight.fits\n",
      "##########################################\n",
      "##########################################\n",
      "WORKING ON IMAGE:  VF-138.9734+34.4817-INT-20190207-p023-r.fits\n",
      "##########################################\n",
      "##########################################\n",
      "matching ha image:  VF-138.9734+34.4817-INT-20190207-p023-Halpha.fits\n",
      "running :  python ~/github/HalphaImaging/python3/INT_align_images.py --image1 VF-138.9734+34.4817-INT-20190207-p023-Halpha.fits --image2 VF-138.9734+34.4817-INT-20190207-p023-r.fits --weight2 VF-138.9734+34.4817-INT-20190207-p023-r.weight.fits\n",
      "##########################################\n",
      "##########################################\n",
      "WORKING ON IMAGE:  VF-139.1637+25.4212-INT-20190208-p024-r.fits\n",
      "##########################################\n",
      "##########################################\n",
      "matching ha image:  VF-139.1637+25.4212-INT-20190208-p024-Halpha.fits\n",
      "running :  python ~/github/HalphaImaging/python3/INT_align_images.py --image1 VF-139.1637+25.4212-INT-20190208-p024-Halpha.fits --image2 VF-139.1637+25.4212-INT-20190208-p024-r.fits --weight2 VF-139.1637+25.4212-INT-20190208-p024-r.weight.fits\n",
      "##########################################\n",
      "##########################################\n",
      "WORKING ON IMAGE:  VF-140.1684+40.1155-INT-20190206-p027-r.fits\n",
      "##########################################\n",
      "##########################################\n",
      "matching ha image:  VF-140.1684+40.1155-INT-20190206-p027-Halpha.fits\n",
      "running :  python ~/github/HalphaImaging/python3/INT_align_images.py --image1 VF-140.1684+40.1155-INT-20190206-p027-Halpha.fits --image2 VF-140.1684+40.1155-INT-20190206-p027-r.fits --weight2 VF-140.1684+40.1155-INT-20190206-p027-r.weight.fits\n",
      "##########################################\n",
      "##########################################\n",
      "WORKING ON IMAGE:  VF-140.7629+40.2083-INT-20190206-p028-r.fits\n",
      "##########################################\n",
      "##########################################\n",
      "matching ha image:  VF-140.7629+40.2083-INT-20190206-p028-Halpha.fits\n",
      "running :  python ~/github/HalphaImaging/python3/INT_align_images.py --image1 VF-140.7629+40.2083-INT-20190206-p028-Halpha.fits --image2 VF-140.7629+40.2083-INT-20190206-p028-r.fits --weight2 VF-140.7629+40.2083-INT-20190206-p028-r.weight.fits\n",
      "##########################################\n",
      "##########################################\n",
      "WORKING ON IMAGE:  VF-141.3141+34.6926-INT-20190208-p032-r.fits\n",
      "##########################################\n",
      "##########################################\n",
      "##########################################\n",
      "##########################################\n",
      "WORKING ON IMAGE:  VF-141.3273+34.4801-INT-20190208-p031-r.fits\n",
      "##########################################\n",
      "##########################################\n",
      "matching ha image:  VF-141.3273+34.4801-INT-20190208-p031-Halpha.fits\n",
      "running :  python ~/github/HalphaImaging/python3/INT_align_images.py --image1 VF-141.3273+34.4801-INT-20190208-p031-Halpha.fits --image2 VF-141.3273+34.4801-INT-20190208-p031-r.fits --weight2 VF-141.3273+34.4801-INT-20190208-p031-r.weight.fits\n",
      "##########################################\n",
      "##########################################\n",
      "WORKING ON IMAGE:  VF-141.3511+34.6850-INT-20190208-p032b-r.fits\n",
      "##########################################\n",
      "##########################################\n",
      "matching ha image:  VF-141.3511+34.6850-INT-20190208-p032b-Halpha.fits\n",
      "running :  python ~/github/HalphaImaging/python3/INT_align_images.py --image1 VF-141.3511+34.6850-INT-20190208-p032b-Halpha.fits --image2 VF-141.3511+34.6850-INT-20190208-p032b-r.fits --weight2 VF-141.3511+34.6850-INT-20190208-p032b-r.weight.fits\n",
      "##########################################\n",
      "##########################################\n",
      "WORKING ON IMAGE:  VF-143.9187+29.1033-INT-20190209-p034-r.fits\n",
      "##########################################\n",
      "##########################################\n",
      "matching ha image:  VF-143.9187+29.1033-INT-20190209-p034-Halpha.fits\n",
      "running :  python ~/github/HalphaImaging/python3/INT_align_images.py --image1 VF-143.9187+29.1033-INT-20190209-p034-Halpha.fits --image2 VF-143.9187+29.1033-INT-20190209-p034-r.fits --weight2 VF-143.9187+29.1033-INT-20190209-p034-r.weight.fits\n"
     ]
    },
    {
     "name": "stdout",
     "output_type": "stream",
     "text": [
      "##########################################\n",
      "##########################################\n",
      "WORKING ON IMAGE:  VF-145.6085+31.8632-INT-20190206-p035-r.fits\n",
      "##########################################\n",
      "##########################################\n",
      "matching ha image:  VF-145.6085+31.8632-INT-20190206-p035-Halpha.fits\n",
      "running :  python ~/github/HalphaImaging/python3/INT_align_images.py --image1 VF-145.6085+31.8632-INT-20190206-p035-Halpha.fits --image2 VF-145.6085+31.8632-INT-20190206-p035-r.fits --weight2 VF-145.6085+31.8632-INT-20190206-p035-r.weight.fits\n",
      "##########################################\n",
      "##########################################\n",
      "WORKING ON IMAGE:  VF-146.9011+32.9252-INT-20190207-p038-r.fits\n",
      "##########################################\n",
      "##########################################\n",
      "matching ha image:  VF-146.9011+32.9252-INT-20190207-p038-Halpha.fits\n",
      "running :  python ~/github/HalphaImaging/python3/INT_align_images.py --image1 VF-146.9011+32.9252-INT-20190207-p038-Halpha.fits --image2 VF-146.9011+32.9252-INT-20190207-p038-r.fits --weight2 VF-146.9011+32.9252-INT-20190207-p038-r.weight.fits\n",
      "##########################################\n",
      "##########################################\n",
      "WORKING ON IMAGE:  VF-147.0268+33.4155-INT-20190207-p039-r.fits\n",
      "##########################################\n",
      "##########################################\n",
      "matching ha image:  VF-147.0268+33.4155-INT-20190207-p039-Halpha.fits\n",
      "running :  python ~/github/HalphaImaging/python3/INT_align_images.py --image1 VF-147.0268+33.4155-INT-20190207-p039-Halpha.fits --image2 VF-147.0268+33.4155-INT-20190207-p039-r.fits --weight2 VF-147.0268+33.4155-INT-20190207-p039-r.weight.fits\n",
      "##########################################\n",
      "##########################################\n",
      "WORKING ON IMAGE:  VF-147.6172+28.5468-INT-20190207-p040-r.fits\n",
      "##########################################\n",
      "##########################################\n",
      "matching ha image:  VF-147.6172+28.5468-INT-20190207-p040-Halpha.fits\n",
      "running :  python ~/github/HalphaImaging/python3/INT_align_images.py --image1 VF-147.6172+28.5468-INT-20190207-p040-Halpha.fits --image2 VF-147.6172+28.5468-INT-20190207-p040-r.fits --weight2 VF-147.6172+28.5468-INT-20190207-p040-r.weight.fits\n",
      "##########################################\n",
      "##########################################\n",
      "WORKING ON IMAGE:  VF-147.6448+33.5458-INT-20190210-p041-r.fits\n",
      "##########################################\n",
      "##########################################\n",
      "matching ha image:  VF-147.6448+33.5458-INT-20190210-p041-Halpha.fits\n",
      "running :  python ~/github/HalphaImaging/python3/INT_align_images.py --image1 VF-147.6448+33.5458-INT-20190210-p041-Halpha.fits --image2 VF-147.6448+33.5458-INT-20190210-p041-r.fits --weight2 VF-147.6448+33.5458-INT-20190210-p041-r.weight.fits\n",
      "##########################################\n",
      "##########################################\n",
      "WORKING ON IMAGE:  VF-147.7499+32.9357-INT-20190209-p042-r.fits\n",
      "##########################################\n",
      "##########################################\n",
      "matching ha image:  VF-147.7499+32.9357-INT-20190209-p042-Halpha.fits\n",
      "running :  python ~/github/HalphaImaging/python3/INT_align_images.py --image1 VF-147.7499+32.9357-INT-20190209-p042-Halpha.fits --image2 VF-147.7499+32.9357-INT-20190209-p042-r.fits --weight2 VF-147.7499+32.9357-INT-20190209-p042-r.weight.fits\n",
      "##########################################\n",
      "##########################################\n",
      "WORKING ON IMAGE:  VF-147.9804+29.2799-INT-20190209-p043-r.fits\n",
      "##########################################\n",
      "##########################################\n",
      "matching ha image:  VF-147.9804+29.2799-INT-20190209-p043-Halpha.fits\n",
      "running :  python ~/github/HalphaImaging/python3/INT_align_images.py --image1 VF-147.9804+29.2799-INT-20190209-p043-Halpha.fits --image2 VF-147.9804+29.2799-INT-20190209-p043-r.fits --weight2 VF-147.9804+29.2799-INT-20190209-p043-r.weight.fits\n",
      "##########################################\n",
      "##########################################\n",
      "WORKING ON IMAGE:  VF-148.7343+33.2558-INT-20190210-p044-r.fits\n",
      "##########################################\n",
      "##########################################\n",
      "matching ha image:  VF-148.7343+33.2558-INT-20190210-p044-Halpha.fits\n",
      "running :  python ~/github/HalphaImaging/python3/INT_align_images.py --image1 VF-148.7343+33.2558-INT-20190210-p044-Halpha.fits --image2 VF-148.7343+33.2558-INT-20190210-p044-r.fits --weight2 VF-148.7343+33.2558-INT-20190210-p044-r.weight.fits\n",
      "##########################################\n",
      "##########################################\n",
      "WORKING ON IMAGE:  VF-149.4715+32.3644-INT-20190211-p045-r.fits\n",
      "##########################################\n",
      "##########################################\n",
      "matching ha image:  VF-149.4715+32.3644-INT-20190211-p045-Halpha.fits\n",
      "running :  python ~/github/HalphaImaging/python3/INT_align_images.py --image1 VF-149.4715+32.3644-INT-20190211-p045-Halpha.fits --image2 VF-149.4715+32.3644-INT-20190211-p045-r.fits --weight2 VF-149.4715+32.3644-INT-20190211-p045-r.weight.fits\n",
      "##########################################\n",
      "##########################################\n",
      "WORKING ON IMAGE:  VF-151.3807+28.8988-INT-20190212-p047-r.fits\n",
      "##########################################\n",
      "##########################################\n",
      "matching ha image:  VF-151.3807+28.8988-INT-20190212-p047-Halpha.fits\n",
      "running :  python ~/github/HalphaImaging/python3/INT_align_images.py --image1 VF-151.3807+28.8988-INT-20190212-p047-Halpha.fits --image2 VF-151.3807+28.8988-INT-20190212-p047-r.fits --weight2 VF-151.3807+28.8988-INT-20190212-p047-r.weight.fits\n",
      "##########################################\n",
      "##########################################\n",
      "WORKING ON IMAGE:  VF-151.6809+32.9872-INT-20190210-p048-r.fits\n",
      "##########################################\n",
      "##########################################\n",
      "matching ha image:  VF-151.6809+32.9872-INT-20190210-p048-Halpha.fits\n",
      "running :  python ~/github/HalphaImaging/python3/INT_align_images.py --image1 VF-151.6809+32.9872-INT-20190210-p048-Halpha.fits --image2 VF-151.6809+32.9872-INT-20190210-p048-r.fits --weight2 VF-151.6809+32.9872-INT-20190210-p048-r.weight.fits\n",
      "##########################################\n",
      "##########################################\n",
      "WORKING ON IMAGE:  VF-154.4104+21.8436-INT-20190206-p050-r.fits\n",
      "##########################################\n",
      "##########################################\n",
      "matching ha image:  VF-154.4104+21.8436-INT-20190206-p050-Halpha.fits\n",
      "running :  python ~/github/HalphaImaging/python3/INT_align_images.py --image1 VF-154.4104+21.8436-INT-20190206-p050-Halpha.fits --image2 VF-154.4104+21.8436-INT-20190206-p050-r.fits --weight2 VF-154.4104+21.8436-INT-20190206-p050-r.weight.fits\n",
      "##########################################\n",
      "##########################################\n",
      "WORKING ON IMAGE:  VF-154.8895+38.6090-INT-20190210-p051-r.fits\n",
      "##########################################\n",
      "##########################################\n",
      "matching ha image:  VF-154.8895+38.6090-INT-20190210-p051-Halpha.fits\n",
      "running :  python ~/github/HalphaImaging/python3/INT_align_images.py --image1 VF-154.8895+38.6090-INT-20190210-p051-Halpha.fits --image2 VF-154.8895+38.6090-INT-20190210-p051-r.fits --weight2 VF-154.8895+38.6090-INT-20190210-p051-r.weight.fits\n",
      "##########################################\n",
      "##########################################\n",
      "WORKING ON IMAGE:  VF-155.1300+25.3613-INT-20190212-p052-r.fits\n",
      "##########################################\n",
      "##########################################\n",
      "matching ha image:  VF-155.1300+25.3613-INT-20190212-p052-Halpha.fits\n",
      "running :  python ~/github/HalphaImaging/python3/INT_align_images.py --image1 VF-155.1300+25.3613-INT-20190212-p052-Halpha.fits --image2 VF-155.1300+25.3613-INT-20190212-p052-r.fits --weight2 VF-155.1300+25.3613-INT-20190212-p052-r.weight.fits\n",
      "##########################################\n",
      "##########################################\n",
      "WORKING ON IMAGE:  VF-156.6435+28.6670-INT-20190209-p053-r.fits\n",
      "##########################################\n",
      "##########################################\n",
      "matching ha image:  VF-156.6435+28.6670-INT-20190209-p053-Halpha.fits\n",
      "running :  python ~/github/HalphaImaging/python3/INT_align_images.py --image1 VF-156.6435+28.6670-INT-20190209-p053-Halpha.fits --image2 VF-156.6435+28.6670-INT-20190209-p053-r.fits --weight2 VF-156.6435+28.6670-INT-20190209-p053-r.weight.fits\n"
     ]
    },
    {
     "name": "stdout",
     "output_type": "stream",
     "text": [
      "##########################################\n",
      "##########################################\n",
      "WORKING ON IMAGE:  VF-157.0871+29.4901-INT-20190212-p056-r.fits\n",
      "##########################################\n",
      "##########################################\n",
      "matching ha image:  VF-157.0871+29.4901-INT-20190212-p056-Halpha.fits\n",
      "running :  python ~/github/HalphaImaging/python3/INT_align_images.py --image1 VF-157.0871+29.4901-INT-20190212-p056-Halpha.fits --image2 VF-157.0871+29.4901-INT-20190212-p056-r.fits --weight2 VF-157.0871+29.4901-INT-20190212-p056-r.weight.fits\n",
      "##########################################\n",
      "##########################################\n",
      "WORKING ON IMAGE:  VF-157.9833+28.7406-INT-20190210-p057-r.fits\n",
      "##########################################\n",
      "##########################################\n",
      "matching ha image:  VF-157.9833+28.7406-INT-20190210-p057-Halpha.fits\n",
      "running :  python ~/github/HalphaImaging/python3/INT_align_images.py --image1 VF-157.9833+28.7406-INT-20190210-p057-Halpha.fits --image2 VF-157.9833+28.7406-INT-20190210-p057-r.fits --weight2 VF-157.9833+28.7406-INT-20190210-p057-r.weight.fits\n",
      "##########################################\n",
      "##########################################\n",
      "WORKING ON IMAGE:  VF-158.8058+37.4986-INT-20190210-p059-r.fits\n",
      "##########################################\n",
      "##########################################\n",
      "##########################################\n",
      "##########################################\n",
      "WORKING ON IMAGE:  VF-158.8165+26.1266-INT-20190212-p060-r.fits\n",
      "##########################################\n",
      "##########################################\n",
      "matching ha image:  VF-158.8165+26.1266-INT-20190212-p060-Halpha.fits\n",
      "running :  python ~/github/HalphaImaging/python3/INT_align_images.py --image1 VF-158.8165+26.1266-INT-20190212-p060-Halpha.fits --image2 VF-158.8165+26.1266-INT-20190212-p060-r.fits --weight2 VF-158.8165+26.1266-INT-20190212-p060-r.weight.fits\n",
      "##########################################\n",
      "##########################################\n",
      "WORKING ON IMAGE:  VF-161.2620+34.9593-INT-20190211-p062-r.fits\n",
      "##########################################\n",
      "##########################################\n",
      "matching ha image:  VF-161.2620+34.9593-INT-20190211-p062-Halpha.fits\n",
      "running :  python ~/github/HalphaImaging/python3/INT_align_images.py --image1 VF-161.2620+34.9593-INT-20190211-p062-Halpha.fits --image2 VF-161.2620+34.9593-INT-20190211-p062-r.fits --weight2 VF-161.2620+34.9593-INT-20190211-p062-r.weight.fits\n",
      "##########################################\n",
      "##########################################\n",
      "WORKING ON IMAGE:  VF-161.9836+34.7581-INT-20190209-p064-r.fits\n",
      "##########################################\n",
      "##########################################\n",
      "matching ha image:  VF-161.9836+34.7581-INT-20190209-p064-Halpha.fits\n",
      "running :  python ~/github/HalphaImaging/python3/INT_align_images.py --image1 VF-161.9836+34.7581-INT-20190209-p064-Halpha.fits --image2 VF-161.9836+34.7581-INT-20190209-p064-r.fits --weight2 VF-161.9836+34.7581-INT-20190209-p064-r.weight.fits\n",
      "##########################################\n",
      "##########################################\n",
      "WORKING ON IMAGE:  VF-162.7602+32.9341-INT-20190205-p065-r.fits\n",
      "##########################################\n",
      "##########################################\n",
      "matching ha image:  VF-162.7602+32.9341-INT-20190205-p065-Halpha.fits\n",
      "running :  python ~/github/HalphaImaging/python3/INT_align_images.py --image1 VF-162.7602+32.9341-INT-20190205-p065-Halpha.fits --image2 VF-162.7602+32.9341-INT-20190205-p065-r.fits --weight2 VF-162.7602+32.9341-INT-20190205-p065-r.weight.fits\n",
      "##########################################\n",
      "##########################################\n",
      "WORKING ON IMAGE:  VF-164.8755+33.3871-INT-20190210-p069-r.fits\n",
      "##########################################\n",
      "##########################################\n",
      "matching ha image:  VF-164.8755+33.3871-INT-20190210-p069-Halpha.fits\n",
      "running :  python ~/github/HalphaImaging/python3/INT_align_images.py --image1 VF-164.8755+33.3871-INT-20190210-p069-Halpha.fits --image2 VF-164.8755+33.3871-INT-20190210-p069-r.fits --weight2 VF-164.8755+33.3871-INT-20190210-p069-r.weight.fits\n",
      "##########################################\n",
      "##########################################\n",
      "WORKING ON IMAGE:  VF-165.7456+28.0014-INT-20190205-p070-r.fits\n",
      "##########################################\n",
      "##########################################\n",
      "matching ha image:  VF-165.7456+28.0014-INT-20190205-p070-Halpha.fits\n",
      "running :  python ~/github/HalphaImaging/python3/INT_align_images.py --image1 VF-165.7456+28.0014-INT-20190205-p070-Halpha.fits --image2 VF-165.7456+28.0014-INT-20190205-p070-r.fits --weight2 VF-165.7456+28.0014-INT-20190205-p070-r.weight.fits\n",
      "##########################################\n",
      "##########################################\n",
      "WORKING ON IMAGE:  VF-170.0221+26.9604-INT-20190211-p072-r.fits\n",
      "##########################################\n",
      "##########################################\n",
      "matching ha image:  VF-170.0221+26.9604-INT-20190211-p072-Halpha.fits\n",
      "running :  python ~/github/HalphaImaging/python3/INT_align_images.py --image1 VF-170.0221+26.9604-INT-20190211-p072-Halpha.fits --image2 VF-170.0221+26.9604-INT-20190211-p072-r.fits --weight2 VF-170.0221+26.9604-INT-20190211-p072-r.weight.fits\n",
      "##########################################\n",
      "##########################################\n",
      "WORKING ON IMAGE:  VF-170.4989+39.8639-INT-20190208-p073-r.fits\n",
      "##########################################\n",
      "##########################################\n",
      "matching ha image:  VF-170.4989+39.8639-INT-20190208-p073-Halpha.fits\n",
      "running :  python ~/github/HalphaImaging/python3/INT_align_images.py --image1 VF-170.4989+39.8639-INT-20190208-p073-Halpha.fits --image2 VF-170.4989+39.8639-INT-20190208-p073-r.fits --weight2 VF-170.4989+39.8639-INT-20190208-p073-r.weight.fits\n",
      "##########################################\n",
      "##########################################\n",
      "WORKING ON IMAGE:  VF-171.0636+38.7282-INT-20190206-p075-r.fits\n",
      "##########################################\n",
      "##########################################\n",
      "matching ha image:  VF-171.0636+38.7282-INT-20190206-p075-Halpha.fits\n",
      "running :  python ~/github/HalphaImaging/python3/INT_align_images.py --image1 VF-171.0636+38.7282-INT-20190206-p075-Halpha.fits --image2 VF-171.0636+38.7282-INT-20190206-p075-r.fits --weight2 VF-171.0636+38.7282-INT-20190206-p075-r.weight.fits\n",
      "##########################################\n",
      "##########################################\n",
      "WORKING ON IMAGE:  VF-171.9347+25.6547-INT-20190207-p078-r.fits\n",
      "##########################################\n",
      "##########################################\n",
      "matching ha image:  VF-171.9347+25.6547-INT-20190207-p078-Halpha.fits\n",
      "matching ha image:  VF-171.9347+25.6547-INT-20190207-p078-Ha6657.fits\n",
      "running :  python ~/github/HalphaImaging/python3/INT_align_images.py --image1 VF-171.9347+25.6547-INT-20190207-p078-Ha6657.fits --image2 VF-171.9347+25.6547-INT-20190207-p078-r.fits --weight2 VF-171.9347+25.6547-INT-20190207-p078-r.weight.fits\n",
      "##########################################\n",
      "##########################################\n",
      "WORKING ON IMAGE:  VF-172.8527+35.5528-INT-20190211-p081-r.fits\n",
      "##########################################\n",
      "##########################################\n",
      "matching ha image:  VF-172.8527+35.5528-INT-20190211-p081-Halpha.fits\n",
      "running :  python ~/github/HalphaImaging/python3/INT_align_images.py --image1 VF-172.8527+35.5528-INT-20190211-p081-Halpha.fits --image2 VF-172.8527+35.5528-INT-20190211-p081-r.fits --weight2 VF-172.8527+35.5528-INT-20190211-p081-r.weight.fits\n",
      "##########################################\n",
      "##########################################\n",
      "WORKING ON IMAGE:  VF-174.8122+31.9076-INT-20190211-p088-r.fits\n",
      "##########################################\n",
      "##########################################\n",
      "matching ha image:  VF-174.8122+31.9076-INT-20190211-p088-Ha6657.fits\n",
      "running :  python ~/github/HalphaImaging/python3/INT_align_images.py --image1 VF-174.8122+31.9076-INT-20190211-p088-Ha6657.fits --image2 VF-174.8122+31.9076-INT-20190211-p088-r.fits --weight2 VF-174.8122+31.9076-INT-20190211-p088-r.weight.fits\n",
      "##########################################\n",
      "##########################################\n",
      "WORKING ON IMAGE:  VF-177.1744+26.9550-INT-20190208-p091-r.fits\n",
      "##########################################\n",
      "##########################################\n",
      "matching ha image:  VF-177.1744+26.9550-INT-20190208-p091-Halpha.fits\n",
      "running :  python ~/github/HalphaImaging/python3/INT_align_images.py --image1 VF-177.1744+26.9550-INT-20190208-p091-Halpha.fits --image2 VF-177.1744+26.9550-INT-20190208-p091-r.fits --weight2 VF-177.1744+26.9550-INT-20190208-p091-r.weight.fits\n"
     ]
    },
    {
     "name": "stdout",
     "output_type": "stream",
     "text": [
      "##########################################\n",
      "##########################################\n",
      "WORKING ON IMAGE:  VF-182.3372+25.0253-INT-20190212-p095-r.fits\n",
      "##########################################\n",
      "##########################################\n",
      "matching ha image:  VF-182.3372+25.0253-INT-20190212-p095-Ha6657.fits\n",
      "running :  python ~/github/HalphaImaging/python3/INT_align_images.py --image1 VF-182.3372+25.0253-INT-20190212-p095-Ha6657.fits --image2 VF-182.3372+25.0253-INT-20190212-p095-r.fits --weight2 VF-182.3372+25.0253-INT-20190212-p095-r.weight.fits\n",
      "##########################################\n",
      "##########################################\n",
      "WORKING ON IMAGE:  VF-182.5556+16.0045-INT-20190210-p096-r.fits\n",
      "##########################################\n",
      "##########################################\n",
      "matching ha image:  VF-182.5556+16.0045-INT-20190210-p096-Halpha.fits\n",
      "running :  python ~/github/HalphaImaging/python3/INT_align_images.py --image1 VF-182.5556+16.0045-INT-20190210-p096-Halpha.fits --image2 VF-182.5556+16.0045-INT-20190210-p096-r.fits --weight2 VF-182.5556+16.0045-INT-20190210-p096-r.weight.fits\n",
      "##########################################\n",
      "##########################################\n",
      "WORKING ON IMAGE:  VF-196.3377+27.7304-INT-20190210-p101-r.fits\n",
      "##########################################\n",
      "##########################################\n",
      "matching ha image:  VF-196.3377+27.7304-INT-20190210-p101-Ha6657.fits\n",
      "running :  python ~/github/HalphaImaging/python3/INT_align_images.py --image1 VF-196.3377+27.7304-INT-20190210-p101-Ha6657.fits --image2 VF-196.3377+27.7304-INT-20190210-p101-r.fits --weight2 VF-196.3377+27.7304-INT-20190210-p101-r.weight.fits\n",
      "##########################################\n",
      "##########################################\n",
      "WORKING ON IMAGE:  VF-197.9212+24.0938-INT-20190212-p102-r.fits\n",
      "##########################################\n",
      "##########################################\n",
      "matching ha image:  VF-197.9212+24.0938-INT-20190212-p102-Ha6657.fits\n",
      "running :  python ~/github/HalphaImaging/python3/INT_align_images.py --image1 VF-197.9212+24.0938-INT-20190212-p102-Ha6657.fits --image2 VF-197.9212+24.0938-INT-20190212-p102-r.fits --weight2 VF-197.9212+24.0938-INT-20190212-p102-r.weight.fits\n",
      "##########################################\n",
      "##########################################\n",
      "WORKING ON IMAGE:  VF-203.8593+35.5802-INT-20190209-p106-r.fits\n",
      "##########################################\n",
      "##########################################\n",
      "matching ha image:  VF-203.8593+35.5802-INT-20190209-p106-Halpha.fits\n",
      "running :  python ~/github/HalphaImaging/python3/INT_align_images.py --image1 VF-203.8593+35.5802-INT-20190209-p106-Halpha.fits --image2 VF-203.8593+35.5802-INT-20190209-p106-r.fits --weight2 VF-203.8593+35.5802-INT-20190209-p106-r.weight.fits\n",
      "##########################################\n",
      "##########################################\n",
      "WORKING ON IMAGE:  VF-204.2815+8.8780-INT-20190207-p107-r.fits\n",
      "##########################################\n",
      "##########################################\n",
      "matching ha image:  VF-204.2815+8.8780-INT-20190207-p107-Halpha.fits\n",
      "running :  python ~/github/HalphaImaging/python3/INT_align_images.py --image1 VF-204.2815+8.8780-INT-20190207-p107-Halpha.fits --image2 VF-204.2815+8.8780-INT-20190207-p107-r.fits --weight2 VF-204.2815+8.8780-INT-20190207-p107-r.weight.fits\n",
      "##########################################\n",
      "##########################################\n",
      "WORKING ON IMAGE:  VF-205.1997+33.7916-INT-20190208-p109-r.fits\n",
      "##########################################\n",
      "##########################################\n",
      "matching ha image:  VF-205.1997+33.7916-INT-20190208-p109-Halpha.fits\n",
      "running :  python ~/github/HalphaImaging/python3/INT_align_images.py --image1 VF-205.1997+33.7916-INT-20190208-p109-Halpha.fits --image2 VF-205.1997+33.7916-INT-20190208-p109-r.fits --weight2 VF-205.1997+33.7916-INT-20190208-p109-r.weight.fits\n",
      "##########################################\n",
      "##########################################\n",
      "WORKING ON IMAGE:  VF-206.1214+41.6986-INT-20190211-p110-r.fits\n",
      "##########################################\n",
      "##########################################\n",
      "matching ha image:  VF-206.1214+41.6986-INT-20190211-p110-Ha6657.fits\n",
      "running :  python ~/github/HalphaImaging/python3/INT_align_images.py --image1 VF-206.1214+41.6986-INT-20190211-p110-Ha6657.fits --image2 VF-206.1214+41.6986-INT-20190211-p110-r.fits --weight2 VF-206.1214+41.6986-INT-20190211-p110-r.weight.fits\n",
      "##########################################\n",
      "##########################################\n",
      "WORKING ON IMAGE:  VF-206.9691+3.9514-INT-20190212-p113-r.fits\n",
      "##########################################\n",
      "##########################################\n",
      "matching ha image:  VF-206.9691+3.9514-INT-20190212-p113-Halpha.fits\n",
      "running :  python ~/github/HalphaImaging/python3/INT_align_images.py --image1 VF-206.9691+3.9514-INT-20190212-p113-Halpha.fits --image2 VF-206.9691+3.9514-INT-20190212-p113-r.fits --weight2 VF-206.9691+3.9514-INT-20190212-p113-r.weight.fits\n",
      "##########################################\n",
      "##########################################\n",
      "WORKING ON IMAGE:  VF-208.5907+41.3103-INT-20190211-p121-r.fits\n",
      "##########################################\n",
      "##########################################\n",
      "matching ha image:  VF-208.5907+41.3103-INT-20190211-p121-Halpha.fits\n",
      "running :  python ~/github/HalphaImaging/python3/INT_align_images.py --image1 VF-208.5907+41.3103-INT-20190211-p121-Halpha.fits --image2 VF-208.5907+41.3103-INT-20190211-p121-r.fits --weight2 VF-208.5907+41.3103-INT-20190211-p121-r.weight.fits\n",
      "##########################################\n",
      "##########################################\n",
      "WORKING ON IMAGE:  VF-208.8038+5.1870-INT-20190206-p120-r.fits\n",
      "##########################################\n",
      "##########################################\n",
      "matching ha image:  VF-208.8038+5.1870-INT-20190206-p120-Halpha.fits\n",
      "running :  python ~/github/HalphaImaging/python3/INT_align_images.py --image1 VF-208.8038+5.1870-INT-20190206-p120-Halpha.fits --image2 VF-208.8038+5.1870-INT-20190206-p120-r.fits --weight2 VF-208.8038+5.1870-INT-20190206-p120-r.weight.fits\n",
      "##########################################\n",
      "##########################################\n",
      "WORKING ON IMAGE:  VF-210.3944+36.7575-INT-20190211-p128-r.fits\n",
      "##########################################\n",
      "##########################################\n",
      "matching ha image:  VF-210.3944+36.7575-INT-20190211-p128-Ha6657.fits\n",
      "running :  python ~/github/HalphaImaging/python3/INT_align_images.py --image1 VF-210.3944+36.7575-INT-20190211-p128-Ha6657.fits --image2 VF-210.3944+36.7575-INT-20190211-p128-r.fits --weight2 VF-210.3944+36.7575-INT-20190211-p128-r.weight.fits\n",
      "##########################################\n",
      "##########################################\n",
      "WORKING ON IMAGE:  VF-215.0379+3.9552-INT-20190208-p131-r.fits\n",
      "##########################################\n",
      "##########################################\n",
      "matching ha image:  VF-215.0379+3.9552-INT-20190208-p131-Halpha.fits\n",
      "running :  python ~/github/HalphaImaging/python3/INT_align_images.py --image1 VF-215.0379+3.9552-INT-20190208-p131-Halpha.fits --image2 VF-215.0379+3.9552-INT-20190208-p131-r.fits --weight2 VF-215.0379+3.9552-INT-20190208-p131-r.weight.fits\n",
      "##########################################\n",
      "##########################################\n",
      "WORKING ON IMAGE:  VF-215.2034+3.4306-INT-20190207-p134-r.fits\n",
      "##########################################\n",
      "##########################################\n",
      "matching ha image:  VF-215.2034+3.4306-INT-20190207-p134-Halpha.fits\n",
      "running :  python ~/github/HalphaImaging/python3/INT_align_images.py --image1 VF-215.2034+3.4306-INT-20190207-p134-Halpha.fits --image2 VF-215.2034+3.4306-INT-20190207-p134-r.fits --weight2 VF-215.2034+3.4306-INT-20190207-p134-r.weight.fits\n",
      "##########################################\n",
      "##########################################\n",
      "WORKING ON IMAGE:  VF-217.3029+3.2093-INT-20190209-p137-r.fits\n",
      "##########################################\n",
      "##########################################\n",
      "matching ha image:  VF-217.3029+3.2093-INT-20190209-p137-Halpha.fits\n",
      "running :  python ~/github/HalphaImaging/python3/INT_align_images.py --image1 VF-217.3029+3.2093-INT-20190209-p137-Halpha.fits --image2 VF-217.3029+3.2093-INT-20190209-p137-r.fits --weight2 VF-217.3029+3.2093-INT-20190209-p137-r.weight.fits\n"
     ]
    },
    {
     "name": "stdout",
     "output_type": "stream",
     "text": [
      "##########################################\n",
      "##########################################\n",
      "WORKING ON IMAGE:  VF-217.9320+3.1796-INT-20190210-p140-r.fits\n",
      "##########################################\n",
      "##########################################\n",
      "matching ha image:  VF-217.9320+3.1796-INT-20190210-p140-Halpha.fits\n",
      "running :  python ~/github/HalphaImaging/python3/INT_align_images.py --image1 VF-217.9320+3.1796-INT-20190210-p140-Halpha.fits --image2 VF-217.9320+3.1796-INT-20190210-p140-r.fits --weight2 VF-217.9320+3.1796-INT-20190210-p140-r.weight.fits\n",
      "##########################################\n",
      "##########################################\n",
      "WORKING ON IMAGE:  VF-221.1016+1.7821-INT-20190209-p149-r.fits\n",
      "##########################################\n",
      "##########################################\n",
      "matching ha image:  VF-221.1016+1.7821-INT-20190209-p149-Halpha.fits\n",
      "running :  python ~/github/HalphaImaging/python3/INT_align_images.py --image1 VF-221.1016+1.7821-INT-20190209-p149-Halpha.fits --image2 VF-221.1016+1.7821-INT-20190209-p149-r.fits --weight2 VF-221.1016+1.7821-INT-20190209-p149-r.weight.fits\n",
      "\t total time =  6287.632790353848\n"
     ]
    }
   ],
   "source": [
    "start_time = time.perf_counter()\n",
    "%run ~/github/HalphaImaging/python3/INT_batch_align_images.py\n",
    "end_time = time.perf_counter()\n",
    "print('\\t total time = ',end_time - start_time)\n"
   ]
  },
  {
   "cell_type": "markdown",
   "metadata": {},
   "source": [
    "### didn't complete for p059 for some reason\n",
    "\n",
    "* Halpha and r-band data are taken on a different night - that must be why.\n",
    "* FIXED"
   ]
  },
  {
   "cell_type": "code",
   "execution_count": 30,
   "metadata": {},
   "outputs": [
    {
     "name": "stdout",
     "output_type": "stream",
     "text": [
      "VF-158.8058+37.4986-INT-20190210-p059-r.fits\r\n",
      "VF-158.8058+37.4986-INT-20190210-p059-r.weight.fits\r\n",
      "VF-158.8058+37.4986-INT-20190211-p059-Halpha.fits\r\n",
      "VF-158.8058+37.4986-INT-20190211-p059-Halpha.weight.fits\r\n"
     ]
    }
   ],
   "source": [
    "!ls *p059*"
   ]
  },
  {
   "cell_type": "code",
   "execution_count": 31,
   "metadata": {},
   "outputs": [
    {
     "name": "stdout",
     "output_type": "stream",
     "text": [
      "\t shifting image\n"
     ]
    },
    {
     "name": "stderr",
     "output_type": "stream",
     "text": [
      "WARNING: FITSFixedWarning: 'datfix' made the change 'Set DATE-OBS to '2019-02-10T23:53:05.124' from MJD-OBS'. [astropy.wcs.wcs]\n",
      "WARNING:astropy:FITSFixedWarning: 'datfix' made the change 'Set DATE-OBS to '2019-02-10T23:53:05.124' from MJD-OBS'.\n"
     ]
    },
    {
     "name": "stdout",
     "output_type": "stream",
     "text": [
      "\t elapsed time =  44.36852251109667\n",
      "\t shifting weight image\n",
      "\t total time =  89.70636794599704\n"
     ]
    }
   ],
   "source": [
    "%run ~/github/HalphaImaging/python3/INT_align_images.py --image1 VF-158.8058+37.4986-INT-20190211-p059-Halpha.fits  --image2 VF-158.8058+37.4986-INT-20190210-p059-r.fits --weight2 VF-158.8058+37.4986-INT-20190210-p059-r.weight.fits  "
   ]
  },
  {
   "cell_type": "markdown",
   "metadata": {},
   "source": [
    "# Build PSF models"
   ]
  },
  {
   "cell_type": "code",
   "execution_count": 28,
   "metadata": {},
   "outputs": [],
   "source": [
    "os.chdir(homedir+'/data/reduced/psf-images/')\n"
   ]
  },
  {
   "cell_type": "code",
   "execution_count": null,
   "metadata": {},
   "outputs": [],
   "source": [
    "%run ~/github/HalphaImaging/python3/INT_batch_buildpsf.py"
   ]
  },
  {
   "cell_type": "markdown",
   "metadata": {},
   "source": [
    "### Bad PSF models - FIXED\n",
    "\n",
    "* looking through fits images to see if there are any odd PSFs\n",
    "  * set display to z1=-.001, z2=.05\n",
    "  * then use pyraf.imexam to look at all images\n",
    "* found these\n",
    " \n",
    "| Image | Comments | Date |\n",
    "|-------|----------|-|\n",
    "|lmp001-Halpha | pixelated, mild| 20190207 |\n",
    "|p012-Halpha | pixelated, bumpier than normal | 20190205 |\n",
    "|p012-r | pixelated |  20190205 |\n",
    "|p013-Halpha | yuck - pixelated, triangular shape | 20190206|\n",
    "|p013-r | pixelated | 20190206|\n",
    "|p016-Halpha | pixelated, checkerboard (maybe an issue w/oversampling?| 20190205 |\n",
    "|p016-r | ditto | |\n",
    "|p017-Halpha | pixelated, barf| 20190206 |\n",
    "| p017-r | not as bad | |\n",
    "|p023-Halpha | pixelated, checkerboard| \n",
    "|p050-r | pixelated, checkerboard| 20190206 |\n",
    "|p059-r | pixelated, checkerboard| 20190210 |\n",
    "|p059-Halpha | pixelated, checkerboard| 20190210 |\n",
    "|p072-r | pixelated, barf; in coadd all stars have a hole in center| 20190211 | \n",
    "|p081-Halpha | pixelated, mild| 20190211 |\n",
    "|p081-r | ditto| 20190211 |\n",
    "\n",
    "* I redid psf measurements.  I added a smoothing kernal ('quadratic') and increased the box size from 35 to 39 b/c some of the more problematic psfs seems to have larger fwhm.\n",
    "\n",
    "    * p072-r looks great\n",
    "    * p013-Halpha looks good to (except for noise on rhs of psf image...)\n",
    "    \n",
    "* also decreased the saturation thresholds to 100 (r) and 30 (Halpha)\n",
    "\n",
    "\n",
    "#### Rebuilding all PSFs so they are made the same way\n",
    "\n",
    "Hopefully nothing else breaks...\n",
    "    "
   ]
  },
  {
   "cell_type": "code",
   "execution_count": null,
   "metadata": {},
   "outputs": [],
   "source": []
  },
  {
   "cell_type": "markdown",
   "metadata": {},
   "source": [
    "### Checking number of files - found problems\n",
    "\n",
    "* noticed in PSF folder that some images had multiple (>2) psf images\n",
    "  * first time I moved coadds using INT_gathercoadds_notheli.py, I used the first image in the stack to get the date of the observation\n",
    "  * second time I used the middle image.  In a few cases, this changed the date of the observation b/c the data were taken right around midnight UT.  \n",
    "  * I didn't delete the first set before running for the second time, so I ended up with a few double images.\n",
    "* pointing026 had Halpha only\n",
    "  * check logged, and r-band data had pointing022 as the object name\n",
    "      * I'm sure I changed that like 100 times, but ....\n",
    "      * rband coadds were 5G for pointing 022\n",
    "  * I moved the p026 rband images from p022 to p026\n",
    "  * then need to reconstruct the coadds for these two pointings\n",
    "      * run INT_scamp_swarp\n",
    "  "
   ]
  },
  {
   "cell_type": "code",
   "execution_count": 33,
   "metadata": {},
   "outputs": [
    {
     "name": "stdout",
     "output_type": "stream",
     "text": [
      "##########################################\n",
      "##########################################\n",
      "WORKING ON DIRECTORY:  pointing022\n",
      "##########################################\n",
      "##########################################\n",
      "##########################################\n",
      "##########################################\n",
      "WORKING ON DIRECTORY:  pointing026\n",
      "##########################################\n",
      "##########################################\n"
     ]
    }
   ],
   "source": [
    "os.chdir(homedir+'/data/reduced/scratch-int-feb2019/attempt2/')\n",
    "%run ~/github/HalphaImaging/python3/INT_scamp_swarp.py"
   ]
  },
  {
   "cell_type": "markdown",
   "metadata": {},
   "source": [
    "Then\n",
    "\n",
    "* getzp\n",
    "  * updated spreadsheet in reduction log https://docs.google.com/spreadsheets/d/175ya3b6pd3sc_uHtmR6vmNi1wPBC4bSV9DMTG8od4_E/edit?usp=sharing\n"
   ]
  },
  {
   "cell_type": "code",
   "execution_count": 34,
   "metadata": {},
   "outputs": [
    {
     "name": "stdout",
     "output_type": "stream",
     "text": [
      "##########################################\n",
      "##########################################\n",
      "WORKING ON DIRECTORY:  pointing022\n",
      "##########################################\n",
      "##########################################\n",
      "##########################################\n",
      "##########################################\n",
      "WORKING ON DIRECTORY:  pointing026\n",
      "##########################################\n",
      "##########################################\n"
     ]
    }
   ],
   "source": [
    "os.chdir(homedir+'/data/reduced/scratch-int-feb2019/attempt2/')\n",
    "%run ~/github/HalphaImaging/python3/INT_batch_getzp.py"
   ]
  },
  {
   "cell_type": "markdown",
   "metadata": {},
   "source": [
    "* move coadds\n",
    "  * set flist1 = ['pointing022','pointing026'] in INT_gathercoadds_notheli.py\n",
    "  \n",
    "  * then run"
   ]
  },
  {
   "cell_type": "code",
   "execution_count": 35,
   "metadata": {
    "scrolled": true
   },
   "outputs": [
    {
     "name": "stdout",
     "output_type": "stream",
     "text": [
      "\t   copy  fnpointing022_r.noback.coadd.fits  ->  /home/rfinn/data/reduced/virgo-coadds-feb2019-int/VF-138.0522+34.9737-INT-20190205-p022-r.fits\n",
      "\t   weight file =  pointing022_r.noback.coadd.weight.fits\n",
      "\t   copy  ffnpointing022_Halpha.noback.coadd.fits  ->  /home/rfinn/data/reduced/virgo-coadds-feb2019-int/VF-138.0522+34.9737-INT-20190205-p022-Halpha.fits\n",
      "\t   weight file =  pointing022_Halpha.noback.coadd.weight.fits\n",
      "\t   copy  fnpointing026_r.noback.coadd.fits  ->  /home/rfinn/data/reduced/virgo-coadds-feb2019-int/VF-139.1151+41.9577-INT-20190205-p026-r.fits\n",
      "\t   weight file =  pointing026_r.noback.coadd.weight.fits\n",
      "\t   copy  ffnpointing026_Halpha.noback.coadd.fits  ->  /home/rfinn/data/reduced/virgo-coadds-feb2019-int/VF-139.1151+41.9577-INT-20190205-p026-Halpha.fits\n",
      "\t   weight file =  pointing026_Halpha.noback.coadd.weight.fits\n"
     ]
    }
   ],
   "source": [
    "os.chdir(homedir+'/data/reduced/scratch-int-feb2019/attempt2/')\n",
    "%run ~/github/HalphaImaging/python3/INT_gathercoadds_notheli.py"
   ]
  },
  {
   "cell_type": "markdown",
   "metadata": {},
   "source": [
    "### align the images"
   ]
  },
  {
   "cell_type": "code",
   "execution_count": 38,
   "metadata": {},
   "outputs": [
    {
     "name": "stdout",
     "output_type": "stream",
     "text": [
      "##########################################\n",
      "##########################################\n",
      "WORKING ON IMAGE:  VF-138.0522+34.9737-INT-20190205-p022-r.fits\n",
      "##########################################\n",
      "##########################################\n",
      "matching ha image:  VF-138.0522+34.9737-INT-20190205-p022-Halpha.fits\n",
      "running :  python ~/github/HalphaImaging/python3/INT_align_images.py --image1 VF-138.0522+34.9737-INT-20190205-p022-Halpha.fits --image2 VF-138.0522+34.9737-INT-20190205-p022-r.fits --weight2 VF-138.0522+34.9737-INT-20190205-p022-r.weight.fits\n",
      "##########################################\n",
      "##########################################\n",
      "WORKING ON IMAGE:  VF-139.1151+41.9577-INT-20190205-p026-r.fits\n",
      "##########################################\n",
      "##########################################\n",
      "matching ha image:  VF-139.1151+41.9577-INT-20190205-p026-Halpha.fits\n",
      "running :  python ~/github/HalphaImaging/python3/INT_align_images.py --image1 VF-139.1151+41.9577-INT-20190205-p026-Halpha.fits --image2 VF-139.1151+41.9577-INT-20190205-p026-r.fits --weight2 VF-139.1151+41.9577-INT-20190205-p026-r.weight.fits\n"
     ]
    }
   ],
   "source": [
    "os.chdir(homedir+'/data/reduced/virgo-coadds-feb2019-int/')\n",
    "%run ~/github/HalphaImaging/python3/INT_batch_align_images.py"
   ]
  },
  {
   "cell_type": "markdown",
   "metadata": {},
   "source": [
    "# Adding INT Filters\n",
    "\n",
    "* the filter traces for the KPNO filters are in /home/rfinn/github/halphagui/filter_traces\n",
    "* need to get data for the INT filters\n",
    "http://catserver.ing.iac.es/filter/list.php?instrument=WFC\n",
    "\n",
    "## To Do\n",
    "\n",
    "* download filters - DONE\n",
    "* update filter_transmission.py - DONE\n",
    "* update connect_ha_menu in halphamain.py - DONE\n",
    "* update gui - DONE\n",
    "  * start ui\n",
    "  * add buttons\n",
    "  * save ui\n",
    "  * convert to python (see readme https://github.com/rfinn/halphagui)\n",
    "  * update library in photwrapper.py with central wavelength and width\n",
    "  * good to go!"
   ]
  },
  {
   "cell_type": "code",
   "execution_count": 8,
   "metadata": {},
   "outputs": [],
   "source": [
    "filterpath = '/home/rfinn/github/halphagui/filter_traces/'\n",
    "os.chdir(filterpath)"
   ]
  },
  {
   "cell_type": "code",
   "execution_count": 9,
   "metadata": {},
   "outputs": [
    {
     "name": "stdout",
     "output_type": "stream",
     "text": [
      "ha12-sim04.txt\tha8-sim04.txt\t\t wfc-int-197-halpha.txt\r\n",
      "ha16-sim04.txt\tkpno-harris-R-k1004.txt  wfc-int-227-ha6657.txt\r\n",
      "ha4-sim04.txt\tkpno-sdss-r-k1018.txt\t wfc-int-sloan-r.txt\r\n"
     ]
    }
   ],
   "source": [
    "!ls\n"
   ]
  },
  {
   "cell_type": "code",
   "execution_count": 12,
   "metadata": {},
   "outputs": [
    {
     "name": "stdout",
     "output_type": "stream",
     "text": [
      "['ha12-sim04.txt', 'ha16-sim04.txt', 'ha4-sim04.txt', 'ha8-sim04.txt', 'kpno-harris-R-k1004.txt', 'kpno-sdss-r-k1018.txt', 'wfc-int-197-halpha.txt', 'wfc-int-227-ha6657.txt', 'wfc-int-sloan-r.txt']\n"
     ]
    }
   ],
   "source": [
    "ffiles = glob.glob('*.txt')\n",
    "ffiles.sort()\n",
    "print(ffiles)"
   ]
  },
  {
   "cell_type": "code",
   "execution_count": 16,
   "metadata": {},
   "outputs": [
    {
     "name": "stdout",
     "output_type": "stream",
     "text": [
      "ha12-sim04.txt\n",
      "ha16-sim04.txt\n",
      "ha4-sim04.txt\n",
      "ha8-sim04.txt\n",
      "kpno-harris-R-k1004.txt\n",
      "kpno-sdss-r-k1018.txt\n",
      "wfc-int-197-halpha.txt\n",
      "wfc-int-227-ha6657.txt\n",
      "wfc-int-sloan-r.txt\n"
     ]
    },
    {
     "data": {
      "image/png": "[encoded data removed]",
      "text/plain": [
       "<Figure size 576x432 with 1 Axes>"
      ]
     },
     "metadata": {
      "needs_background": "light"
     },
     "output_type": "display_data"
    }
   ],
   "source": [
    "plt.figure(figsize=(8,6))\n",
    "for f in ffiles:\n",
    "    print(f)\n",
    "    wave,trans = np.loadtxt(f,unpack=True)\n",
    "    if f.startswith('ha1'): # skip ha12 and ha16\n",
    "        continue\n",
    "    if f.startswith('ha8'):\n",
    "        continue\n",
    "    if f.startswith('wfc'):\n",
    "        wave = wave*10\n",
    "    plt.plot(wave,trans,label=f)\n",
    "plt.legend(loc='lower left')\n",
    "plt.xlim(5500,7250)\n",
    "plt.title('Halpha and Broad Filters',fontsize=20)\n",
    "plt.xlabel('Wavelength (A)',fontsize=16)\n",
    "plt.ylabel('Transmission (%)',fontsize=16)\n",
    "plt.show()\n"
   ]
  },
  {
   "cell_type": "code",
   "execution_count": null,
   "metadata": {},
   "outputs": [],
   "source": []
  },
  {
   "cell_type": "code",
   "execution_count": 81,
   "metadata": {},
   "outputs": [
    {
     "name": "stdout",
     "output_type": "stream",
     "text": [
      "ha12-sim04.txt\n",
      "ha16-sim04.txt\n",
      "ha4-sim04.txt\n",
      "ha8-sim04.txt\n",
      "kpno-harris-R-k1004.txt\n",
      "kpno-sdss-r-k1018.txt\n",
      "wfc-int-197-halpha.txt\n",
      "wfc-int-227-ha6657.txt\n",
      "wfc-int-sloan-r.txt\n"
     ]
    },
    {
     "data": {
      "image/png": "[encoded data removed]",
      "text/plain": [
       "<Figure size 576x432 with 1 Axes>"
      ]
     },
     "metadata": {
      "needs_background": "light"
     },
     "output_type": "display_data"
    }
   ],
   "source": [
    "plt.figure(figsize=(8,6))\n",
    "for f in ffiles:\n",
    "    print(f)\n",
    "    wave,trans = np.loadtxt(f,unpack=True)\n",
    "    if f.startswith('ha1'): # skip ha12 and ha16\n",
    "        continue\n",
    "    if f.startswith('ha8'):\n",
    "        continue\n",
    "    if f.startswith('wfc'):\n",
    "        wave = wave*10\n",
    "    plt.plot(wave,trans,label=f)\n",
    "plt.legend(loc='lower left')\n",
    "plt.xlim(6475,6775)\n",
    "plt.title('Halpha and Broad Filters',fontsize=20)\n",
    "plt.xlabel('Wavelength (A)',fontsize=16)\n",
    "plt.ylabel('Transmission (%)',fontsize=16)\n",
    "plt.gca().grid(True)\n",
    "plt.show()\n"
   ]
  },
  {
   "cell_type": "code",
   "execution_count": 99,
   "metadata": {},
   "outputs": [
    {
     "name": "stdout",
     "output_type": "stream",
     "text": [
      "ha12-sim04.txt\n",
      "ha16-sim04.txt\n",
      "ha4-sim04.txt\n",
      "ha8-sim04.txt\n",
      "kpno-harris-R-k1004.txt\n",
      "kpno-sdss-r-k1018.txt\n",
      "wfc-int-197-halpha.txt\n",
      "wfc-int-227-ha6657.txt\n",
      "wfc-int-sloan-r.txt\n"
     ]
    },
    {
     "data": {
      "image/png": "[encoded data removed]",
      "text/plain": [
       "<Figure size 576x432 with 1 Axes>"
      ]
     },
     "metadata": {
      "needs_background": "light"
     },
     "output_type": "display_data"
    }
   ],
   "source": [
    "# show in terms of vr\n",
    "# vr = c*(wave/6563-1)\n",
    "plt.figure(figsize=(8,6))\n",
    "for f in ffiles:\n",
    "    print(f)\n",
    "    wave,trans = np.loadtxt(f,unpack=True)\n",
    "    if f.startswith('ha1'): # skip ha12 and ha16\n",
    "        continue\n",
    "    if f.startswith('ha8'):\n",
    "        continue\n",
    "    if f.find('r') > -1:\n",
    "        continue\n",
    "    if f.find('R') > -1:\n",
    "        continue\n",
    "    if f.startswith('wfc'):\n",
    "        wave = wave*10\n",
    "    vr = 3.e5*(wave/6563-1)\n",
    "    plt.plot(vr,trans,label=f.split('.txt')[0])\n",
    "plt.legend(loc='lower left')\n",
    "\n",
    "plt.xlim(0,5000)\n",
    "plt.title('Halpha Filters',fontsize=20)\n",
    "plt.xlabel('Recession Velocity (km/s)',fontsize=16)\n",
    "plt.ylabel('Transmission (%)',fontsize=16)\n",
    "plt.gca().grid(True)\n",
    "plt.axvline(x=2400,c='k',ls='--')\n",
    "plt.show()\n",
    "\n"
   ]
  },
  {
   "cell_type": "code",
   "execution_count": 84,
   "metadata": {},
   "outputs": [],
   "source": [
    "t = ascii.read(f)"
   ]
  },
  {
   "cell_type": "code",
   "execution_count": 85,
   "metadata": {},
   "outputs": [
    {
     "data": {
      "text/html": [
       "<i>Table length=500</i>\n",
       "<table id=\"table139978813184848\" class=\"table-striped table-bordered table-condensed\">\n",
       "<thead><tr><th>col1</th><th>col2</th></tr></thead>\n",
       "<thead><tr><th>float64</th><th>float64</th></tr></thead>\n",
       "<tr><td>500.5</td><td>0.0002</td></tr>\n",
       "<tr><td>501.0</td><td>0.0005</td></tr>\n",
       "<tr><td>501.5</td><td>-0.0003</td></tr>\n",
       "<tr><td>502.0</td><td>0.0005</td></tr>\n",
       "<tr><td>502.5</td><td>-0.0002</td></tr>\n",
       "<tr><td>503.0</td><td>0.0002</td></tr>\n",
       "<tr><td>503.5</td><td>0.0001</td></tr>\n",
       "<tr><td>504.0</td><td>0.0021</td></tr>\n",
       "<tr><td>504.5</td><td>0.0004</td></tr>\n",
       "<tr><td>505.0</td><td>0.0001</td></tr>\n",
       "<tr><td>...</td><td>...</td></tr>\n",
       "<tr><td>745.5</td><td>0.009</td></tr>\n",
       "<tr><td>746.0</td><td>0.0079</td></tr>\n",
       "<tr><td>746.5</td><td>0.0084</td></tr>\n",
       "<tr><td>747.0</td><td>0.0082</td></tr>\n",
       "<tr><td>747.5</td><td>0.0077</td></tr>\n",
       "<tr><td>748.0</td><td>0.0077</td></tr>\n",
       "<tr><td>748.5</td><td>0.0077</td></tr>\n",
       "<tr><td>749.0</td><td>0.0068</td></tr>\n",
       "<tr><td>749.5</td><td>0.0078</td></tr>\n",
       "<tr><td>750.0</td><td>0.0055</td></tr>\n",
       "</table>"
      ],
      "text/plain": [
       "<Table length=500>\n",
       "  col1    col2 \n",
       "float64 float64\n",
       "------- -------\n",
       "  500.5  0.0002\n",
       "  501.0  0.0005\n",
       "  501.5 -0.0003\n",
       "  502.0  0.0005\n",
       "  502.5 -0.0002\n",
       "  503.0  0.0002\n",
       "  503.5  0.0001\n",
       "  504.0  0.0021\n",
       "  504.5  0.0004\n",
       "  505.0  0.0001\n",
       "    ...     ...\n",
       "  745.5   0.009\n",
       "  746.0  0.0079\n",
       "  746.5  0.0084\n",
       "  747.0  0.0082\n",
       "  747.5  0.0077\n",
       "  748.0  0.0077\n",
       "  748.5  0.0077\n",
       "  749.0  0.0068\n",
       "  749.5  0.0078\n",
       "  750.0  0.0055"
      ]
     },
     "execution_count": 85,
     "metadata": {},
     "output_type": "execute_result"
    }
   ],
   "source": [
    "t"
   ]
  },
  {
   "cell_type": "code",
   "execution_count": null,
   "metadata": {},
   "outputs": [],
   "source": []
  },
  {
   "cell_type": "code",
   "execution_count": 77,
   "metadata": {},
   "outputs": [
    {
     "data": {
      "text/plain": [
       "2148.407740362639"
      ]
     },
     "execution_count": 77,
     "metadata": {},
     "output_type": "execute_result"
    }
   ],
   "source": [
    "(6610-6563)/6563*3e5"
   ]
  },
  {
   "cell_type": "markdown",
   "metadata": {},
   "source": [
    "# Next Steps\n",
    "\n",
    "## Halpha Analysis\n",
    "\n",
    "* add INT filters to halphagui\n",
    "* run halphagui\n",
    "    * create cutouts\n",
    "      * need to make sure we are using v1 of virgo filament catalog - DONE\n",
    "    * make masks\n",
    "    * run through photometry\n",
    "    * catalog any additional emitters\n",
    "        * make sure the continuum-subtracted mosaic is saved\n",
    "    * this is going to take A LONG TIME!!!\n",
    "    * I will check how long.  wondering if gui is not the right way to do this, because it is so interactive.  would be good to identify sources and create masks using the gui, but then run the photometry in a more automated way.\n",
    "    * would need code to gather output from photometry into tables, like is done in the gui.\n",
    "    * I've done 111 galaxies with the gui so far, from 33 pointings...\n",
    "    * INT data has about 90 pointings.\n",
    "* there is an auto switch on the gui - not sure what this does\n",
    "* tables from gui are in ~/research/Virgo/halpha-tables/\n",
    "* also need to update write_subtables to use match to the halpha output by RA and DEC, rather than VFID.  This will enable us to incorporate the results that were based on the v0 catalog, rather than having to redo them. DONE\n",
    "\n",
    "\n",
    "## Finishing INT Reduction\n",
    "\n",
    "* continue with data from Nelvy\n",
    "* abandon data from beginning of may - too many problems...\n",
    "* look into problematic pointings from Feb 2019\n",
    "  * pointing005 in /home/rfinn/data/reduced/scratch-int-feb2019/problems\n",
    "  * maybe others? NO!\n",
    "    * there is data from pointing004 from 0204, but we redid this on 0205\n",
    "    * lmpointing008 - only has r-band data\n",
    "\n",
    "## How to make the data available and viewable in a user-friendly way\n",
    "\n",
    "* siena faculty websites\n",
    "  * could host just the png images there\n",
    "* continue with cutout images on virgo vms \n",
    "  * the code has improved, so these images will look better"
   ]
  },
  {
   "cell_type": "markdown",
   "metadata": {},
   "source": [
    "# Running GUI on INT Coadds\n",
    "\n",
    "* I am now up to the point where I can run the gui on the coadded images!  \n",
    "* I am going to make some changes to halphagui.py to set up for running on the INT data, and then I will try running in auto mode.  We can then go through and check which masks are incorrect and redo the analysis for those galaxies."
   ]
  },
  {
   "cell_type": "code",
   "execution_count": 100,
   "metadata": {},
   "outputs": [],
   "source": [
    "os.chdir('/home/rfinn/research/Virgo/gui-output-2019/')"
   ]
  },
  {
   "cell_type": "code",
   "execution_count": null,
   "metadata": {},
   "outputs": [],
   "source": [
    "%run ~/github/halphagui/testing/halphamain.py --help"
   ]
  },
  {
   "cell_type": "markdown",
   "metadata": {},
   "source": [
    "# Checking photometry numbers of INT\n",
    "\n",
    "* ran first example v19p001.  photometry results say profile is not deep enough to high R23, R24, or R25\n",
    "* want to compare with galfit says\n",
    "* galaxy is CGCG 118-019\n",
    "* magnitudes\n",
    "  * galfit says m=10.39\n",
    "  * NED says sdss model mag in r is 14.14"
   ]
  },
  {
   "cell_type": "code",
   "execution_count": null,
   "metadata": {},
   "outputs": [],
   "source": [
    "galfit_mag = 10.3958\n",
    "fluxzp = 3631 # AB, JY\n"
   ]
  },
  {
   "cell_type": "markdown",
   "metadata": {},
   "source": [
    "# Update Halpha Data Tables\n",
    "\n",
    "* combine Halpha tables from different gui sessions\n",
    "\n",
    "* rebuild virgo filament v1 tables"
   ]
  }
 ],
 "metadata": {
  "kernelspec": {
   "display_name": "Python 3",
   "language": "python",
   "name": "python3"
  },
  "language_info": {
   "codemirror_mode": {
    "name": "ipython",
    "version": 3
   },
   "file_extension": ".py",
   "mimetype": "text/x-python",
   "name": "python",
   "nbconvert_exporter": "python",
   "pygments_lexer": "ipython3",
   "version": "3.7.4"
  }
 },
 "nbformat": 4,
 "nbformat_minor": 2
}
