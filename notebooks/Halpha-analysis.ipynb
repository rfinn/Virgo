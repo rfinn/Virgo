{
 "cells": [
  {
   "cell_type": "code",
   "execution_count": 3,
   "metadata": {},
   "outputs": [],
   "source": [
    "import os\n",
    "from astropy.io import fits\n",
    "import time\n",
    "from matplotlib import pyplot as plt\n",
    "%matplotlib inline\n",
    "import glob\n",
    "import numpy as np\n",
    "from astropy.io import ascii\n",
    "from astropy.table import Table"
   ]
  },
  {
   "cell_type": "markdown",
   "metadata": {},
   "source": [
    "## Reducing 2019 Data From INT\n",
    "\n",
    "* create mosaics with theli.  \n",
    "  * notes are here: https://docs.google.com/document/d/1RvXv-4K5p9EMDesxOOPoQoCIBwRo2NpHD7hstGAOLgk/edit?usp=sharing\n",
    "  * reduction log: https://docs.google.com/spreadsheets/d/175ya3b6pd3sc_uHtmR6vmNi1wPBC4bSV9DMTG8od4_E/edit?usp=sharing\n",
    "  * doing reduction on linux laptop b/c I could install theli here\n",
    "  \n",
    "* gather coadds in a directory \n",
    "\n",
    "* zeropoint calibration\n",
    "  * where is the best place to do this?  in each coadd directory, or gather all coadds first, then run altogether\n",
    "  * the advantage of the latter is that all of the diagnostic plots will be in the same directory\n",
    "  * TO DO\n",
    "      * need to make a plots subdirectory, and save plots from getzp there. - DONE\n",
    "      * also need to rename plots to include coadd name - DONE\n",
    "* at this point, we can move the reduced data to virgo vms virgo-gdrive and also backup on an external harddrive\n",
    "* cp coadds to virgo vms, virgo-gdrive\n",
    "\n",
    "## Update on INT reduction as of Feb 2020\n",
    "\n",
    "* used theli v3 through flatfielding\n",
    "* moved images from virgo vms to laptop b/c file i/o on vms was super slow\n",
    "  * ~/data/reduced/scratch-int-feb2019/\n",
    "  * attempt2 subdirectory is the *final* version\n",
    "* then pooled all images to one directory and ran scamp on all images at once\n",
    "  * INT_scamp_swarp.py\n",
    "* then split images into directories, one for each pointing\n",
    "  * INT_gather_pointing_images.py\n",
    "* create mosaics\n",
    "  * subtracted the median sky value from each chip using: \n",
    "    * HalphaImaging/python3/subtract_median.py\n",
    "    * INT_scamp_swarp.py\n",
    "    \n",
    "  * then ran swarp to create the mosaics\n",
    "    * INT_scamp_swarp.py\n",
    "    \n",
    "* solved for ZP in individual directories\n",
    "  * github/HalphaImaging/python3/INT_batch_getzp.py\n",
    "    * this also divides by exposure time - swarp used to do this, but \n",
    "* move images to a coadd directory\n",
    "  * ~/data/reduced/virgo-coadds-feb2019-int\n",
    "  * INT_gathercoadds_notheli.py\n",
    "    * this creates image name that contains RA, DEC, date, pointing number\n",
    "    * also adds AIRMASS and DATE-OBS to the header of the coadd by grabbing the info from one of the individual exposures\n",
    "      * I would like my students to make plots of ZP versus time/date and airmass\n",
    "\n",
    "\n",
    "\n",
    "## Next Steps\n",
    "* align images - write batch for this \n",
    "  * **INT_align_images.py**\n",
    "  * DONE\n",
    "* get psf for each image\n",
    "  * doing this ahead of running gui\n",
    "  * **INT_batch_buildpsf.py**\n",
    "  * DONE?\n",
    "  \n"
   ]
  },
  {
   "cell_type": "markdown",
   "metadata": {},
   "source": [
    "# Align Images\n",
    "\n",
    "* could not get reproject_exact to work, so I'm sticking with reproject_interp\n",
    "* the shifted weight image was ended up double the size of the unshifted.  trying to figure out how to preserve the data type. DONE"
   ]
  },
  {
   "cell_type": "code",
   "execution_count": null,
   "metadata": {},
   "outputs": [],
   "source": [
    "os.chdir('/home/rfinn/data/reduced/virgo-coadds-feb2019-int')"
   ]
  },
  {
   "cell_type": "code",
   "execution_count": null,
   "metadata": {},
   "outputs": [],
   "source": [
    "start_time = time.perf_counter()\n",
    "%run ~/github/HalphaImaging/python3/INT_batch_align_images.py\n",
    "end_time = time.perf_counter()\n",
    "print('\\t total time = ',end_time - start_time)\n"
   ]
  },
  {
   "cell_type": "markdown",
   "metadata": {},
   "source": [
    "### didn't complete for p059 for some reason\n",
    "\n",
    "* Halpha and r-band data are taken on a different night - that must be why.\n",
    "* FIXED"
   ]
  },
  {
   "cell_type": "code",
   "execution_count": null,
   "metadata": {},
   "outputs": [],
   "source": [
    "!ls *p059*"
   ]
  },
  {
   "cell_type": "code",
   "execution_count": null,
   "metadata": {},
   "outputs": [],
   "source": [
    "%run ~/github/HalphaImaging/python3/INT_align_images.py --image1 VF-158.8058+37.4986-INT-20190211-p059-Halpha.fits  --image2 VF-158.8058+37.4986-INT-20190210-p059-r.fits --weight2 VF-158.8058+37.4986-INT-20190210-p059-r.weight.fits  "
   ]
  },
  {
   "cell_type": "markdown",
   "metadata": {},
   "source": [
    "# Build PSF models"
   ]
  },
  {
   "cell_type": "code",
   "execution_count": null,
   "metadata": {},
   "outputs": [],
   "source": [
    "os.chdir(homedir+'/data/reduced/psf-images/')\n"
   ]
  },
  {
   "cell_type": "code",
   "execution_count": null,
   "metadata": {},
   "outputs": [],
   "source": [
    "%run ~/github/HalphaImaging/python3/INT_batch_buildpsf.py"
   ]
  },
  {
   "cell_type": "markdown",
   "metadata": {},
   "source": [
    "### Bad PSF models - FIXED\n",
    "\n",
    "* looking through fits images to see if there are any odd PSFs\n",
    "  * set display to z1=-.001, z2=.05\n",
    "  * then use pyraf.imexam to look at all images\n",
    "* found these\n",
    " \n",
    "| Image | Comments | Date |\n",
    "|-------|----------|-|\n",
    "|lmp001-Halpha | pixelated, mild| 20190207 |\n",
    "|p012-Halpha | pixelated, bumpier than normal | 20190205 |\n",
    "|p012-r | pixelated |  20190205 |\n",
    "|p013-Halpha | yuck - pixelated, triangular shape | 20190206|\n",
    "|p013-r | pixelated | 20190206|\n",
    "|p016-Halpha | pixelated, checkerboard (maybe an issue w/oversampling?| 20190205 |\n",
    "|p016-r | ditto | |\n",
    "|p017-Halpha | pixelated, barf| 20190206 |\n",
    "| p017-r | not as bad | |\n",
    "|p023-Halpha | pixelated, checkerboard| \n",
    "|p050-r | pixelated, checkerboard| 20190206 |\n",
    "|p059-r | pixelated, checkerboard| 20190210 |\n",
    "|p059-Halpha | pixelated, checkerboard| 20190210 |\n",
    "|p072-r | pixelated, barf; in coadd all stars have a hole in center| 20190211 | \n",
    "|p081-Halpha | pixelated, mild| 20190211 |\n",
    "|p081-r | ditto| 20190211 |\n",
    "\n",
    "* I redid psf measurements.  I added a smoothing kernal ('quadratic') and increased the box size from 35 to 39 b/c some of the more problematic psfs seems to have larger fwhm.\n",
    "\n",
    "    * p072-r looks great\n",
    "    * p013-Halpha looks good to (except for noise on rhs of psf image...)\n",
    "    \n",
    "* also decreased the saturation thresholds to 100 (r) and 30 (Halpha)\n",
    "\n",
    "\n",
    "#### Rebuilding all PSFs so they are made the same way\n",
    "\n",
    "Hopefully nothing else breaks...\n",
    "    "
   ]
  },
  {
   "cell_type": "code",
   "execution_count": null,
   "metadata": {},
   "outputs": [],
   "source": []
  },
  {
   "cell_type": "markdown",
   "metadata": {},
   "source": [
    "### Checking number of files - found problems\n",
    "\n",
    "* noticed in PSF folder that some images had multiple (>2) psf images\n",
    "  * first time I moved coadds using INT_gathercoadds_notheli.py, I used the first image in the stack to get the date of the observation\n",
    "  * second time I used the middle image.  In a few cases, this changed the date of the observation b/c the data were taken right around midnight UT.  \n",
    "  * I didn't delete the first set before running for the second time, so I ended up with a few double images.\n",
    "* pointing026 had Halpha only\n",
    "  * check logged, and r-band data had pointing022 as the object name\n",
    "      * I'm sure I changed that like 100 times, but ....\n",
    "      * rband coadds were 5G for pointing 022\n",
    "  * I moved the p026 rband images from p022 to p026\n",
    "  * then need to reconstruct the coadds for these two pointings\n",
    "      * run INT_scamp_swarp\n",
    "  "
   ]
  },
  {
   "cell_type": "code",
   "execution_count": null,
   "metadata": {},
   "outputs": [],
   "source": [
    "os.chdir(homedir+'/data/reduced/scratch-int-feb2019/attempt2/')\n",
    "%run ~/github/HalphaImaging/python3/INT_scamp_swarp.py"
   ]
  },
  {
   "cell_type": "markdown",
   "metadata": {},
   "source": [
    "Then\n",
    "\n",
    "* getzp\n",
    "  * updated spreadsheet in reduction log https://docs.google.com/spreadsheets/d/175ya3b6pd3sc_uHtmR6vmNi1wPBC4bSV9DMTG8od4_E/edit?usp=sharing\n"
   ]
  },
  {
   "cell_type": "code",
   "execution_count": null,
   "metadata": {},
   "outputs": [],
   "source": [
    "os.chdir(homedir+'/data/reduced/scratch-int-feb2019/attempt2/')\n",
    "%run ~/github/HalphaImaging/python3/INT_batch_getzp.py"
   ]
  },
  {
   "cell_type": "markdown",
   "metadata": {},
   "source": [
    "* move coadds\n",
    "  * set flist1 = ['pointing022','pointing026'] in INT_gathercoadds_notheli.py\n",
    "  \n",
    "  * then run"
   ]
  },
  {
   "cell_type": "code",
   "execution_count": null,
   "metadata": {
    "scrolled": true
   },
   "outputs": [],
   "source": [
    "os.chdir(homedir+'/data/reduced/scratch-int-feb2019/attempt2/')\n",
    "%run ~/github/HalphaImaging/python3/INT_gathercoadds_notheli.py"
   ]
  },
  {
   "cell_type": "markdown",
   "metadata": {},
   "source": [
    "### align the images"
   ]
  },
  {
   "cell_type": "code",
   "execution_count": null,
   "metadata": {},
   "outputs": [],
   "source": [
    "os.chdir(homedir+'/data/reduced/virgo-coadds-feb2019-int/')\n",
    "%run ~/github/HalphaImaging/python3/INT_batch_align_images.py"
   ]
  },
  {
   "cell_type": "markdown",
   "metadata": {},
   "source": [
    "# Adding INT Filters\n",
    "\n",
    "* the filter traces for the KPNO filters are in /home/rfinn/github/halphagui/filter_traces\n",
    "* need to get data for the INT filters\n",
    "http://catserver.ing.iac.es/filter/list.php?instrument=WFC\n",
    "\n",
    "## To Do\n",
    "\n",
    "* download filters - DONE\n",
    "* update filter_transmission.py - DONE\n",
    "* update connect_ha_menu in halphamain.py - DONE\n",
    "* update gui - DONE\n",
    "  * start ui\n",
    "  * add buttons\n",
    "  * save ui\n",
    "  * convert to python (see readme https://github.com/rfinn/halphagui)\n",
    "  * update library in photwrapper.py with central wavelength and width\n",
    "  * good to go!"
   ]
  },
  {
   "cell_type": "code",
   "execution_count": null,
   "metadata": {},
   "outputs": [],
   "source": [
    "filterpath = '/home/rfinn/github/halphagui/filter_traces/'\n",
    "os.chdir(filterpath)"
   ]
  },
  {
   "cell_type": "code",
   "execution_count": null,
   "metadata": {},
   "outputs": [],
   "source": [
    "!ls\n"
   ]
  },
  {
   "cell_type": "code",
   "execution_count": null,
   "metadata": {},
   "outputs": [],
   "source": [
    "ffiles = glob.glob('*.txt')\n",
    "ffiles.sort()\n",
    "print(ffiles)"
   ]
  },
  {
   "cell_type": "code",
   "execution_count": null,
   "metadata": {},
   "outputs": [],
   "source": [
    "plt.figure(figsize=(8,6))\n",
    "for f in ffiles:\n",
    "    print(f)\n",
    "    wave,trans = np.loadtxt(f,unpack=True)\n",
    "    if f.startswith('ha1'): # skip ha12 and ha16\n",
    "        continue\n",
    "    if f.startswith('ha8'):\n",
    "        continue\n",
    "    if f.startswith('wfc'):\n",
    "        wave = wave*10\n",
    "    plt.plot(wave,trans,label=f)\n",
    "plt.legend(loc='lower left')\n",
    "plt.xlim(5500,7250)\n",
    "plt.title('Halpha and Broad Filters',fontsize=20)\n",
    "plt.xlabel('Wavelength (A)',fontsize=16)\n",
    "plt.ylabel('Transmission (%)',fontsize=16)\n",
    "plt.show()\n"
   ]
  },
  {
   "cell_type": "code",
   "execution_count": null,
   "metadata": {},
   "outputs": [],
   "source": []
  },
  {
   "cell_type": "code",
   "execution_count": null,
   "metadata": {},
   "outputs": [],
   "source": [
    "plt.figure(figsize=(8,6))\n",
    "for f in ffiles:\n",
    "    print(f)\n",
    "    wave,trans = np.loadtxt(f,unpack=True)\n",
    "    if f.startswith('ha1'): # skip ha12 and ha16\n",
    "        continue\n",
    "    if f.startswith('ha8'):\n",
    "        continue\n",
    "    if f.startswith('wfc'):\n",
    "        wave = wave*10\n",
    "    plt.plot(wave,trans,label=f)\n",
    "plt.legend(loc='lower left')\n",
    "plt.xlim(6475,6775)\n",
    "plt.title('Halpha and Broad Filters',fontsize=20)\n",
    "plt.xlabel('Wavelength (A)',fontsize=16)\n",
    "plt.ylabel('Transmission (%)',fontsize=16)\n",
    "plt.gca().grid(True)\n",
    "plt.show()\n"
   ]
  },
  {
   "cell_type": "code",
   "execution_count": null,
   "metadata": {},
   "outputs": [],
   "source": [
    "# show in terms of vr\n",
    "# vr = c*(wave/6563-1)\n",
    "plt.figure(figsize=(8,6))\n",
    "for f in ffiles:\n",
    "    print(f)\n",
    "    wave,trans = np.loadtxt(f,unpack=True)\n",
    "    if f.startswith('ha1'): # skip ha12 and ha16\n",
    "        continue\n",
    "    if f.startswith('ha8'):\n",
    "        continue\n",
    "    if f.find('r') > -1:\n",
    "        continue\n",
    "    if f.find('R') > -1:\n",
    "        continue\n",
    "    if f.startswith('wfc'):\n",
    "        wave = wave*10\n",
    "    vr = 3.e5*(wave/6563-1)\n",
    "    plt.plot(vr,trans,label=f.split('.txt')[0])\n",
    "plt.legend(loc='lower left')\n",
    "\n",
    "plt.xlim(0,5000)\n",
    "plt.title('Halpha Filters',fontsize=20)\n",
    "plt.xlabel('Recession Velocity (km/s)',fontsize=16)\n",
    "plt.ylabel('Transmission (%)',fontsize=16)\n",
    "plt.gca().grid(True)\n",
    "plt.axvline(x=2400,c='k',ls='--')\n",
    "plt.show()\n",
    "\n"
   ]
  },
  {
   "cell_type": "code",
   "execution_count": null,
   "metadata": {},
   "outputs": [],
   "source": [
    "t = ascii.read(f)"
   ]
  },
  {
   "cell_type": "code",
   "execution_count": null,
   "metadata": {},
   "outputs": [],
   "source": [
    "t"
   ]
  },
  {
   "cell_type": "code",
   "execution_count": null,
   "metadata": {},
   "outputs": [],
   "source": []
  },
  {
   "cell_type": "code",
   "execution_count": null,
   "metadata": {},
   "outputs": [],
   "source": [
    "(6610-6563)/6563*3e5"
   ]
  },
  {
   "cell_type": "markdown",
   "metadata": {},
   "source": [
    "\n",
    "# Finishing INT Reduction\n",
    "\n",
    "\n",
    "* continue with data from Nelvy\n",
    "* data are on Virgo vms in /mnt/astrophysics/reduced/2019nelvy-all\n",
    "\n",
    "* abandon data from beginning of may - too many problems...\n"
   ]
  },
  {
   "cell_type": "markdown",
   "metadata": {},
   "source": [
    "# Next Steps\n",
    "\n",
    "## Last Steps of Reduction\n",
    "\n",
    "* look into problematic pointings from Feb 2019\n",
    "  * pointing005 in /home/rfinn/data/reduced/scratch-int-feb2019/problems\n",
    "  * maybe others? NO!\n",
    "    * there is data from pointing004 from 0204, but we redid this on 0205\n",
    "    * lmpointing008 - only has r-band data\n",
    "    \n",
    "## Halpha Analysis\n",
    "\n",
    "* add INT filters to halphagui\n",
    "* run halphagui\n",
    "    * create cutouts\n",
    "      * need to make sure we are using v1 of virgo filament catalog - DONE\n",
    "    * make masks\n",
    "    * run through photometry\n",
    "    * catalog any additional emitters\n",
    "        * make sure the continuum-subtracted mosaic is saved\n",
    "    * this is going to take A LONG TIME!!!\n",
    "    * I will check how long.  wondering if gui is not the right way to do this, because it is so interactive.  would be good to identify sources and create masks using the gui, but then run the photometry in a more automated way.\n",
    "    * would need code to gather output from photometry into tables, like is done in the gui.\n",
    "    * I've done 111 galaxies with the gui so far, from 33 pointings...\n",
    "    * INT data has about 90 pointings.\n",
    "* there is an auto switch on the gui - not sure what this does\n",
    "* tables from gui are in ~/research/Virgo/halpha-tables/\n",
    "* also need to update write_subtables to use match to the halpha output by RA and DEC, rather than VFID.  This will enable us to incorporate the results that were based on the v0 catalog, rather than having to redo them. DONE\n",
    "\n",
    "\n",
    "\n",
    "## How to make the data available and viewable in a user-friendly way\n",
    "\n",
    "* siena faculty websites\n",
    "  * could host just the png images there\n",
    "* continue with cutout images on virgo vms \n",
    "  * the code has improved, so these images will look better"
   ]
  },
  {
   "cell_type": "markdown",
   "metadata": {},
   "source": [
    "# Running GUI on INT Coadds\n",
    "\n",
    "* I am now up to the point where I can run the gui on the coadded images!  \n",
    "* I am going to make some changes to halphagui.py to set up for running on the INT data, and then I will try running in auto mode.  We can then go through and check which masks are incorrect and redo the analysis for those galaxies."
   ]
  },
  {
   "cell_type": "code",
   "execution_count": null,
   "metadata": {},
   "outputs": [],
   "source": [
    "os.chdir('/home/rfinn/research/Virgo/gui-output-2019/')"
   ]
  },
  {
   "cell_type": "code",
   "execution_count": null,
   "metadata": {},
   "outputs": [],
   "source": [
    "%run ~/github/halphagui/testing/halphamain.py --help"
   ]
  },
  {
   "cell_type": "markdown",
   "metadata": {},
   "source": [
    "# Checking photometry numbers of INT\n",
    "\n",
    "* ran first example v19p001.  photometry results say profile is not deep enough to high R23, R24, or R25\n",
    "* want to compare with galfit says\n",
    "* galaxy is CGCG 118-019\n",
    "* magnitudes\n",
    "  * galfit says m=10.39\n",
    "  * NED says sdss model mag in r is 14.14"
   ]
  },
  {
   "cell_type": "code",
   "execution_count": null,
   "metadata": {},
   "outputs": [],
   "source": [
    "galfit_mag = 10.3958\n",
    "fluxzp = 3631 # AB, JY\n"
   ]
  },
  {
   "cell_type": "markdown",
   "metadata": {},
   "source": [
    "# Update Halpha Data Tables\n",
    "\n",
    "* combine Halpha tables from different gui sessions\n",
    "\n",
    "* rebuild virgo filament v1 tables"
   ]
  },
  {
   "cell_type": "markdown",
   "metadata": {},
   "source": [
    "# Update as of March 8, 2021\n",
    "\n",
    "* I redid se, scamp and swarp on the HDI images - did this on virgovms, in /mnt/qnap_home/rfinn/Halpha/.  The reason was to NOT have swarp model the background in the images.\n",
    "* all HDI coadds from all years are in the same directory - this is easiest way to proceed\n",
    "* ran getzp in batch mode.  tried two cycles, but I think one is best because rms seems to increase after second pass.  need to check that for all images.  Figures created from getzp are in subdirectory of coadd folder called plots.\n",
    "* ran buildpsf in batch mode.  the psf files are on virgovms and on laptop in\n",
    "```\n",
    "~/data/reduced/psf-images/\n",
    "```\n",
    "\n",
    "## Displaying Results as Web pages\n",
    "* I have built webpages to display results from coadds\n",
    "```\n",
    "~/github/Virgo/programs/build_web_coadds.py\n",
    "```\n",
    "* and cutouts\n",
    "```\n",
    "~/github/Virgo/programs/build_web_cutouts.py\n",
    "```\n",
    "* and then make an index page for each\n",
    "```\n",
    "~/github/Virgo/programs/build_index_coadds.py\n",
    "~/github/Virgo/programs/build_index_cutouts.py\n",
    "```\n",
    "\n",
    "* I run both of these from ~/research/Virgo/html-dev\n",
    "* can then copy the resulting directories to facultyweb\n",
    "```\n",
    "scp -r * facultyweb.siena.edu:public_html/virgo\n",
    "```\n",
    "\n",
    "* results appear at https://facultyweb.siena.edu/~rfinn/virgo/\n",
    "\n",
    "## Naming conventions\n",
    "* I have updated the HDI coadd names to \n",
    "```\n",
    "VF-2017-05-20-HDI-p004\n",
    "```\n",
    "* I have updated the gui to append to the cutout directory name the dateobs, instrument, and pointing.  this will prevent the cutouts from different runs/telescopes from overwriting each other.\n",
    "\n",
    "## Still to do\n",
    "\n",
    "### COADDS\n",
    "* rename INT coadds to format\n",
    "```\n",
    "VF-2017-05-20-HDI-p004\n",
    "```\n",
    "  * get rid of \"shifted\" in r-band coadd name, or move it before coadd\n",
    "  \n",
    "* I have run the build_web_coadds.py on the HDI data - need to now run on the INT data\n",
    "  * I do not have the zp images readily available for the INT data - the files are in separate subdirectories in the data folder. \n",
    "  * so I either need to gather up the images and rename them, or rerun getzp\n",
    "  * problem with rerunning getzp is that the coadd images have already been flattened, so would have to go back to the data directories.\n",
    "  * **solution: gather up images**\n",
    "  \n",
    "* alternative to the above is to write a separate build command for the INT data, until I get the zp issue worked out.\n",
    "* when finished, scp results for coadds to facultyweb\n",
    "\n",
    "\n",
    "### CUTOUTS\n",
    "* run gui in auto mode on the updated HDI mosaics\n",
    "* run plot_cutouts_ha.py in batch mode to pull all the multiwavelength data\n",
    "```\n",
    "~/github/HalphaImaging/python3/generate_all_cutout_plots.py\n",
    "```\n",
    "* run \n",
    "```\n",
    "build_web_cutouts.py\n",
    "```\n",
    "* I can't think of any reason why this wouldn't work on the HDI data, so this might be the easier task to start with.\n",
    "\n",
    "* rerun gui on INT data because current directory names are not the final version.  I don't think this has to wait for the INT coadds to be renamed, because the output directory name is taken from galaxy properties and header info in the halpha image.\n",
    "\n",
    "### General\n",
    "* make a home page for ~/rfinn/virgo/\n",
    "* decide if we want to password-protect the Halpha cutout and coadd pages for now?"
   ]
  },
  {
   "cell_type": "markdown",
   "metadata": {},
   "source": [
    "# Running auto gui on HDI coadds\n",
    "\n",
    "* made a directory \n",
    "```\n",
    "/home/rfinn/research/Virgo/gui-output-all-hdi-20210308\n",
    "```\n",
    "\n",
    "* going to run auto gui here.\n",
    "\n",
    "```\n",
    "python ~/github/halphagui/batch_gui.py --coaddir /home/rfinn/data/reduced/virgo-coadds-HDI/ --hdi\n",
    "\n",
    "```\n",
    "\n",
    "* then\n",
    "\n",
    "```\n",
    "python ~/github/HalphaImaging/python3/generate_all_cutout_plots.py\n",
    "```\n",
    "\n",
    "and from cutouts directory\n",
    "\n",
    "```\n",
    "python ~/github/Virgo/programs/build_web_cutouts.py\n",
    "```"
   ]
  },
  {
   "cell_type": "markdown",
   "metadata": {},
   "source": [
    "# Looking for a new way to stack the tables from the halpha gui\n",
    "\n",
    "* For whatever reason, astropy.table.vstack is really slow.  \n",
    "* put most recent files in \n",
    "\n",
    "```\n",
    "~/research/Virgo/halpha-tables-20210311\n",
    "\n",
    "```\n"
   ]
  },
  {
   "cell_type": "code",
   "execution_count": null,
   "metadata": {},
   "outputs": [],
   "source": [
    "os.chdir('/home/rfinn/research/Virgo/halpha-tables-20210311/')"
   ]
  },
  {
   "cell_type": "code",
   "execution_count": null,
   "metadata": {},
   "outputs": [],
   "source": [
    "from astropy.io import fits"
   ]
  },
  {
   "cell_type": "code",
   "execution_count": null,
   "metadata": {},
   "outputs": [],
   "source": [
    "%run ~/github/Virgo/programs/stack-gui-halpha-tables.py"
   ]
  },
  {
   "cell_type": "markdown",
   "metadata": {},
   "source": [
    "# Inspecting Merged Halpha Table\n",
    "\n",
    "* opened in topcat\n",
    "\n",
    "```\n",
    "/home/rfinn/research/Virgo/halpha-tables-20210311/halphagui-output-combined-2021-Mar-11.fits\n",
    "\n",
    "```\n"
   ]
  },
  {
   "cell_type": "code",
   "execution_count": 9,
   "metadata": {},
   "outputs": [],
   "source": [
    "hcat = Table.read('/home/rfinn/research/Virgo/halpha-tables-20210311/halphagui-output-combined-2021-Mar-11.fits')"
   ]
  },
  {
   "cell_type": "code",
   "execution_count": 10,
   "metadata": {},
   "outputs": [
    {
     "data": {
      "text/html": [
       "<i>Table length=351</i>\n",
       "<table id=\"table140377650916560\" class=\"table-striped table-bordered table-condensed\">\n",
       "<thead><tr><th>VFID</th><th>RA</th><th>DEC</th><th>vr</th><th>radius</th><th>NEDname</th><th>prefix</th><th>HAflag</th><th>REDSHIFT</th><th>ZDIST</th><th>GAL_RA</th><th>GAL_DEC</th><th>GAL_HRA</th><th>GAL_HDEC</th><th>ELLIP_RA</th><th>ELLIP_DEC</th><th>HA_FLAG</th><th>FILT_COR</th><th>R_FWHM</th><th>H_FWHM</th><th>POINTING</th><th>BBOX</th><th>FILTER_RATIO</th><th>GAL_XC</th><th>GAL_XC_ERR</th><th>GAL_YC</th><th>GAL_YC_ERR</th><th>GAL_MAG</th><th>GAL_MAG_ERR</th><th>GAL_RE</th><th>GAL_RE_ERR</th><th>GAL_N</th><th>GAL_N_ERR</th><th>GAL_BA</th><th>GAL_BA_ERR</th><th>GAL_PA</th><th>GAL_PA_ERR</th><th>GAL_SKY</th><th>GAL_CHISQ</th><th>GAL_2SERSIC [15]</th><th>GAL_2SERSIC_ERR [15]</th><th>GAL_2SERSIC_ERROR</th><th>GAL_2SERSIC_CHISQ</th><th>GAL_SERSASYM [10]</th><th>GAL_SERSASYM_ERR [10]</th><th>GAL_SERSASYM_ERROR</th><th>GAL_SERSASYM_CHISQ</th><th>GAL_SERSASYM_RA</th><th>GAL_SERSASYM_DEC</th><th>GAL_HXC</th><th>GAL_HXC_ERR</th><th>GAL_HYC</th><th>GAL_HYC_ERR</th><th>GAL_HMAG</th><th>GAL_HMAG_ERR</th><th>GAL_HRE</th><th>GAL_HRE_ERR</th><th>GAL_HN</th><th>GAL_HN_ERR</th><th>GAL_HBA</th><th>GAL_HBA_ERR</th><th>GAL_HPA</th><th>GAL_HPA_ERR</th><th>GAL_HSKY</th><th>GAL_HCHISQ</th><th>GAL_H2SERSIC [15]</th><th>GAL_H2SERSIC_ERR [15]</th><th>GAL_H2SERSIC_ERROR</th><th>GAL_H2SERSIC_CHISQ</th><th>GAL_HSERSASYM [10]</th><th>GAL_HSERSASYM_ERR [10]</th><th>GAL_HSERSASYM_ERROR</th><th>GAL_HSERSASYM_CHISQ</th><th>GAL_HSERSASYM_RA</th><th>GAL_HSERSASYM_DEC</th><th>ELLIP_XCENTROID</th><th>ELLIP_YCENTROID</th><th>ELLIP_EPS</th><th>ELLIP_THETA</th><th>ELLIP_GINI</th><th>ELLIP_GINI2</th><th>ELLIP_AREA</th><th>ELLIP_SUM</th><th>ELLIP_SUM_MAG</th><th>ELLIP_ASYM</th><th>ELLIP_ASYM_ERR</th><th>ELLIP_HSUM</th><th>ELLIP_HSUM_MAG</th><th>ELLIP_HASYM</th><th>ELLIP_HASYM_ERR</th><th>R_SKYNOISE</th><th>H_SKYNOISE</th><th>GAL_R24</th><th>GAL_R24_ERR</th><th>GAL_R25</th><th>GAL_R25_ERR</th><th>GAL_R26</th><th>GAL_R26_ERR</th><th>GAL_R_F25</th><th>GAL_R_F25_ERR</th><th>GAL_R24V</th><th>GAL_R24V_ERR</th><th>GAL_R25V</th><th>GAL_R25V_ERR</th><th>GAL_R_F50</th><th>GAL_R_F50_ERR</th><th>GAL_R_F75</th><th>GAL_R_F75_ERR</th><th>GAL_M24</th><th>GAL_M24_ERR</th><th>GAL_M25</th><th>GAL_M25_ERR</th><th>GAL_M26</th><th>GAL_M26_ERR</th><th>GAL_F_30R24</th><th>GAL_F_30R24_ERR</th><th>GAL_F_R24</th><th>GAL_F_R24_ERR</th><th>GAL_C30</th><th>GAL_C30_ERR</th><th>GAL_PETRO_R</th><th>GAL_PETRO_R_ERR</th><th>GAL_PETRO_FLUX</th><th>GAL_PETRO_FLUX_ERR</th><th>GAL_PETRO_R50</th><th>GAL_PETRO_R50_ERR</th><th>GAL_PETRO_R90</th><th>GAL_PETRO_R90_ERR</th><th>GAL_PETRO_CON</th><th>GAL_PETRO_CON_ERR</th><th>GAL_PETRO_MAG</th><th>GAL_PETRO_MAG_ERR</th><th>GAL_HR16</th><th>GAL_HR16_ERR</th><th>GAL_HR17</th><th>GAL_HR17_ERR</th><th>GAL_HR_F25</th><th>GAL_HR_F25_ERR</th><th>GAL_HR_F50</th><th>GAL_HR_F50_ERR</th><th>GAL_HR_F75</th><th>GAL_HR_F75_ERR</th><th>GAL_HM16</th><th>GAL_HM16_ERR</th><th>GAL_HM17</th><th>GAL_HM17_ERR</th><th>GAL_HF_30R24</th><th>GAL_HF_30R24_ERR</th><th>GAL_HF_R24</th><th>GAL_HF_R24_ERR</th><th>GAL_HC30</th><th>GAL_HC30_ERR</th><th>GAL_HR_F95R24</th><th>GAL_HR_F95R24_ERR</th><th>GAL_HF_TOT</th><th>GAL_HF_TOT_ERR</th><th>GAL_HPETRO_R</th><th>GAL_HPETRO_R_ERR</th><th>GAL_HPETRO_FLUX</th><th>GAL_HPETRO_FLUX_ERR</th><th>GAL_HPETRO_R50</th><th>GAL_HPETRO_R50_ERR</th><th>GAL_HPETRO_R90</th><th>GAL_HPETRO_R90_ERR</th><th>GAL_HPETRO_CON</th><th>GAL_HPETRO_CON_ERR</th><th>GAL_HPETRO_MAG</th><th>GAL_HPETRO_MAG_ERR</th><th>GAL_LOG_SFR_HA</th><th>GAL_LOG_SFR_HA_ERR</th><th>GAL_SSFR_IN</th><th>GAL_SSFR_IN_ERR</th><th>GAL_SSFR_OUT</th><th>GAL_SSFR_OUT_ERR</th><th>R24</th><th>R24_ERR</th><th>R25</th><th>R25_ERR</th><th>R26</th><th>R26_ERR</th><th>R_F25</th><th>R_F25_ERR</th><th>R24V</th><th>R24V_ERR</th><th>R25V</th><th>R25V_ERR</th><th>R_F50</th><th>R_F50_ERR</th><th>R_F75</th><th>R_F75_ERR</th><th>M24</th><th>M24_ERR</th><th>M25</th><th>M25_ERR</th><th>M26</th><th>M26_ERR</th><th>F_30R24</th><th>F_30R24_ERR</th><th>F_R24</th><th>F_R24_ERR</th><th>C30</th><th>C30_ERR</th><th>PETRO_R</th><th>PETRO_R_ERR</th><th>PETRO_FLUX</th><th>PETRO_FLUX_ERR</th><th>PETRO_R50</th><th>PETRO_R50_ERR</th><th>PETRO_R90</th><th>PETRO_R90_ERR</th><th>PETRO_CON</th><th>PETRO_CON_ERR</th><th>PETRO_MAG</th><th>PETRO_MAG_ERR</th><th>HR16</th><th>HR16_ERR</th><th>HR17</th><th>HR17_ERR</th><th>HR_F25</th><th>HR_F25_ERR</th><th>HR_F50</th><th>HR_F50_ERR</th><th>HR_F75</th><th>HR_F75_ERR</th><th>HM16</th><th>HM16_ERR</th><th>HM17</th><th>HM17_ERR</th><th>HF_30R24</th><th>HF_30R24_ERR</th><th>HF_R24</th><th>HF_R24_ERR</th><th>HC30</th><th>HC30_ERR</th><th>HR_F95R24</th><th>HR_F95R24_ERR</th><th>HF_TOT</th><th>HF_TOT_ERR</th><th>HPETRO_R</th><th>HPETRO_R_ERR</th><th>HPETRO_FLUX</th><th>HPETRO_FLUX_ERR</th><th>HPETRO_R50</th><th>HPETRO_R50_ERR</th><th>HPETRO_R90</th><th>HPETRO_R90_ERR</th><th>HPETRO_CON</th><th>HPETRO_CON_ERR</th><th>HPETRO_MAG</th><th>HPETRO_MAG_ERR</th><th>LOG_SFR_HA</th><th>LOG_SFR_HA_ERR</th><th>SSFR_IN</th><th>SSFR_IN_ERR</th><th>SSFR_OUT</th><th>SSFR_OUT_ERR</th><th>CONTSUB_FLAG</th><th>MERGER_FLAG</th><th>SCATLIGHT_FLAG</th><th>ASYMR_FLAG</th><th>ASYMHA_FLAG</th><th>OVERSTAR_FLAG</th><th>OVERGAL_FLAG</th><th>PARTIAL_FLAG</th><th>EDGEON_FLAG</th><th>NUC_HA</th><th>COMMENT</th></tr></thead>\n",
       "<thead><tr><th>bytes8</th><th>float64</th><th>float64</th><th>float64</th><th>float32</th><th>bytes30</th><th>bytes38</th><th>bool</th><th>float64</th><th>float64</th><th>float32</th><th>float32</th><th>float32</th><th>float32</th><th>float32</th><th>float32</th><th>bool</th><th>float32</th><th>float32</th><th>float32</th><th>bytes10</th><th>bytes22</th><th>float32</th><th>float32</th><th>float32</th><th>float32</th><th>float32</th><th>float32</th><th>float32</th><th>float32</th><th>float32</th><th>float32</th><th>float32</th><th>float32</th><th>float32</th><th>float32</th><th>float32</th><th>float32</th><th>float32</th><th>float32</th><th>float32</th><th>float64</th><th>float64</th><th>float32</th><th>float32</th><th>float64</th><th>float64</th><th>float64</th><th>float64</th><th>float32</th><th>float32</th><th>float32</th><th>float32</th><th>float32</th><th>float32</th><th>float32</th><th>float32</th><th>float32</th><th>float32</th><th>float32</th><th>float32</th><th>float32</th><th>float32</th><th>float32</th><th>float32</th><th>float32</th><th>float32</th><th>float64</th><th>float64</th><th>float32</th><th>float32</th><th>float64</th><th>float64</th><th>float64</th><th>float64</th><th>float32</th><th>float32</th><th>float32</th><th>float32</th><th>float32</th><th>float64</th><th>float32</th><th>float32</th><th>float32</th><th>float32</th><th>float32</th><th>float32</th><th>float32</th><th>float32</th><th>float32</th><th>float32</th><th>float32</th><th>float32</th><th>float32</th><th>float32</th><th>float32</th><th>float32</th><th>float32</th><th>float32</th><th>float32</th><th>float32</th><th>float32</th><th>float32</th><th>float32</th><th>float32</th><th>float32</th><th>float32</th><th>float32</th><th>float32</th><th>float32</th><th>float32</th><th>float32</th><th>float32</th><th>float32</th><th>float32</th><th>float32</th><th>float32</th><th>float32</th><th>float32</th><th>float32</th><th>float32</th><th>float32</th><th>float32</th><th>float32</th><th>float32</th><th>float32</th><th>float32</th><th>float32</th><th>float32</th><th>float32</th><th>float32</th><th>float32</th><th>float32</th><th>float32</th><th>float32</th><th>float32</th><th>float32</th><th>float32</th><th>float32</th><th>float32</th><th>float32</th><th>float32</th><th>float32</th><th>float32</th><th>float32</th><th>float32</th><th>float32</th><th>float32</th><th>float32</th><th>float32</th><th>float32</th><th>float32</th><th>float32</th><th>float32</th><th>float32</th><th>float32</th><th>float32</th><th>float32</th><th>float32</th><th>float32</th><th>float32</th><th>float32</th><th>float32</th><th>float32</th><th>float32</th><th>float32</th><th>float32</th><th>float32</th><th>float32</th><th>float32</th><th>float32</th><th>float32</th><th>float32</th><th>float32</th><th>float32</th><th>float32</th><th>float32</th><th>float32</th><th>float32</th><th>float32</th><th>float32</th><th>float32</th><th>float32</th><th>float32</th><th>float32</th><th>float32</th><th>float32</th><th>float32</th><th>float32</th><th>float32</th><th>float32</th><th>float32</th><th>float32</th><th>float32</th><th>float32</th><th>float32</th><th>float32</th><th>float32</th><th>float32</th><th>float32</th><th>float32</th><th>float32</th><th>float32</th><th>float32</th><th>float32</th><th>float32</th><th>float32</th><th>float32</th><th>float32</th><th>float32</th><th>float32</th><th>float32</th><th>float32</th><th>float32</th><th>float32</th><th>float32</th><th>float32</th><th>float32</th><th>float32</th><th>float32</th><th>float32</th><th>float32</th><th>float32</th><th>float32</th><th>float32</th><th>float32</th><th>float32</th><th>float32</th><th>float32</th><th>float32</th><th>float32</th><th>float32</th><th>float32</th><th>float32</th><th>float32</th><th>float32</th><th>float32</th><th>float32</th><th>float32</th><th>float32</th><th>float32</th><th>float32</th><th>float32</th><th>float32</th><th>float32</th><th>float32</th><th>float32</th><th>float32</th><th>float32</th><th>float32</th><th>float32</th><th>float32</th><th>float32</th><th>float32</th><th>float32</th><th>float32</th><th>bool</th><th>bool</th><th>bool</th><th>bool</th><th>bool</th><th>bool</th><th>bool</th><th>bool</th><th>bool</th><th>bool</th><th>bytes50</th></tr></thead>\n",
       "<tr><td>VFID3603</td><td>196.734219</td><td>21.2283983</td><td>2664.5</td><td>9.956834</td><td>WISEA J130656.23+211342.5</td><td>VFID3603-WISEAJ130656.23+211342.5</td><td>True</td><td>0.008881666666666666</td><td>0.008881666666666666</td><td>196.73413</td><td>21.228495</td><td>0.0</td><td>0.0</td><td>196.73428</td><td>21.22843</td><td>True</td><td>1.0171158</td><td>1.7228904</td><td>1.7228904</td><td>VF-2017-05</td><td>[3694:3834,3328:3468]</td><td>0.040585298</td><td>70.6186</td><td>0.2255</td><td>71.1021</td><td>0.3498</td><td>16.9073</td><td>0.0368</td><td>11.5645</td><td>0.379</td><td>0.865</td><td>0.0668</td><td>0.6123</td><td>0.0229</td><td>-9.3532</td><td>2.4687</td><td>0.0</td><td>0.7230663</td><td>0.0 .. 0.0</td><td>0.0 .. 0.0</td><td>0.0</td><td>0.0</td><td>0.0 .. 0.0</td><td>0.0 .. 0.0</td><td>0.0</td><td>0.0</td><td>0.0</td><td>0.0</td><td>0.0</td><td>0.0</td><td>0.0</td><td>0.0</td><td>0.0</td><td>0.0</td><td>0.0</td><td>0.0</td><td>0.0</td><td>0.0</td><td>0.0</td><td>0.0</td><td>0.0</td><td>0.0</td><td>0.0</td><td>0.0</td><td>0.0 .. 0.0</td><td>0.0 .. 0.0</td><td>0.0</td><td>0.0</td><td>0.0 .. 0.0</td><td>0.0 .. 0.0</td><td>0.0</td><td>0.0</td><td>0.0</td><td>0.0</td><td>69.4</td><td>70.5</td><td>0.429</td><td>78.9</td><td>0.431</td><td>0.572</td><td>1060.0</td><td>6.27e-13</td><td>17.0</td><td>0.26</td><td>0.0671</td><td>2.18e-14</td><td>17.2</td><td>0.909</td><td>5.108979e-17</td><td>0.0</td><td>0.0</td><td>9.79</td><td>0.931</td><td>13.8</td><td>1.08</td><td>13.8</td><td>1.08</td><td>3.15</td><td>1.39e-07</td><td>9.79</td><td>0.931</td><td>13.8</td><td>1.08</td><td>5.17</td><td>1.39e-07</td><td>8.15</td><td>1.39e-07</td><td>17.1</td><td>17.1</td><td>16.9</td><td>17.0</td><td>16.9</td><td>17.0</td><td>1.59e-13</td><td>1.37e-14</td><td>5.99e-13</td><td>2.8e-14</td><td>0.265</td><td>0.0261</td><td>10.8</td><td>0.0</td><td>7.12e-13</td><td>0.0</td><td>5.14</td><td>0.0</td><td>11.4</td><td>0.0</td><td>2.22</td><td>0.0</td><td>16.9</td><td>0.0</td><td>8.0</td><td>0.856</td><td>11.7</td><td>1.01</td><td>3.87</td><td>2.04e-07</td><td>5.49</td><td>2.04e-07</td><td>14.5</td><td>2.04e-07</td><td>17.1</td><td>17.2</td><td>17.0</td><td>17.0</td><td>4.58e-15</td><td>4.52e-15</td><td>3e-14</td><td>1.41e-14</td><td>0.153</td><td>0.167</td><td>8.56</td><td>19.4</td><td>0.0</td><td>0.0</td><td>18.3</td><td>0.0</td><td>4.52e-14</td><td>4.52e-14</td><td>5.49</td><td>0.0</td><td>22.8</td><td>0.0</td><td>4.15</td><td>0.0</td><td>16.6</td><td>0.0</td><td>-inf</td><td>-inf</td><td>0.0288</td><td>0.0286</td><td>0.0577</td><td>0.034</td><td>9.79</td><td>0.931</td><td>13.8</td><td>1.08</td><td>16.0</td><td>1.15</td><td>3.2</td><td>1.25e-07</td><td>11.7</td><td>1.01</td><td>13.8</td><td>1.08</td><td>5.29</td><td>1.25e-07</td><td>8.37</td><td>1.25e-07</td><td>17.1</td><td>17.1</td><td>17.0</td><td>17.0</td><td>16.9</td><td>16.9</td><td>1.56e-13</td><td>1.36e-14</td><td>5.91e-13</td><td>2.77e-14</td><td>0.263</td><td>0.0261</td><td>11.0</td><td>0.0</td><td>7.11e-13</td><td>0.0</td><td>5.25</td><td>0.0</td><td>11.8</td><td>0.0</td><td>2.24</td><td>0.0</td><td>16.9</td><td>0.0</td><td>8.0</td><td>0.856</td><td>13.8</td><td>1.08</td><td>4.06</td><td>2.03e-07</td><td>5.51</td><td>2.03e-07</td><td>14.0</td><td>2.03e-07</td><td>17.2</td><td>17.2</td><td>17.0</td><td>17.0</td><td>4.05e-15</td><td>4.24e-15</td><td>2.9e-14</td><td>1.34e-14</td><td>0.14</td><td>0.16</td><td>8.55</td><td>19.4</td><td>0.0</td><td>0.0</td><td>20.1</td><td>0.0</td><td>4.32e-14</td><td>4.32e-14</td><td>5.51</td><td>0.0</td><td>22.8</td><td>0.0</td><td>4.15</td><td>0.0</td><td>16.6</td><td>0.0</td><td>-inf</td><td>-inf</td><td>0.0261</td><td>0.0273</td><td>0.0574</td><td>0.0325</td><td>True</td><td>True</td><td>True</td><td>True</td><td>True</td><td>True</td><td>True</td><td>True</td><td>True</td><td>True</td><td></td></tr>\n",
       "<tr><td>VFID3621</td><td>197.142888</td><td>21.0498927</td><td>2622.4</td><td>33.89388</td><td>IC 0851</td><td>VFID3621-IC0851</td><td>True</td><td>0.008741333333333334</td><td>0.008741333333333334</td><td>197.14273</td><td>21.049913</td><td>0.0</td><td>0.0</td><td>197.14285</td><td>21.049704</td><td>True</td><td>1.0148386</td><td>1.7228904</td><td>1.7228904</td><td>VF-2017-05</td><td>[379:698,1728:2047]</td><td>0.040585298</td><td>160.3712</td><td>0.0993</td><td>160.097</td><td>0.1883</td><td>13.675</td><td>0.0077</td><td>35.8122</td><td>0.2305</td><td>0.838</td><td>0.0109</td><td>0.4746</td><td>0.003</td><td>-27.2791</td><td>0.287</td><td>0.0</td><td>0.6219284</td><td>0.0 .. 0.0</td><td>0.0 .. 0.0</td><td>0.0</td><td>0.0</td><td>0.0 .. 0.0</td><td>0.0 .. 0.0</td><td>0.0</td><td>0.0</td><td>0.0</td><td>0.0</td><td>0.0</td><td>0.0</td><td>0.0</td><td>0.0</td><td>0.0</td><td>0.0</td><td>0.0</td><td>0.0</td><td>0.0</td><td>0.0</td><td>0.0</td><td>0.0</td><td>0.0</td><td>0.0</td><td>0.0</td><td>0.0</td><td>0.0 .. 0.0</td><td>0.0 .. 0.0</td><td>0.0</td><td>0.0</td><td>0.0 .. 0.0</td><td>0.0 .. 0.0</td><td>0.0</td><td>0.0</td><td>0.0</td><td>0.0</td><td>159.0</td><td>158.0</td><td>0.559</td><td>62.1</td><td>0.518</td><td>0.446</td><td>11200.0</td><td>1.36e-11</td><td>13.7</td><td>0.218</td><td>0.029</td><td>2.32e-13</td><td>14.6</td><td>0.851</td><td>5.108979e-17</td><td>0.0</td><td>0.0</td><td>39.3</td><td>1.75</td><td>46.6</td><td>1.9</td><td>54.5</td><td>2.05</td><td>9.6</td><td>3.38e-07</td><td>39.3</td><td>1.75</td><td>50.4</td><td>1.97</td><td>16.4</td><td>3.38e-07</td><td>25.6</td><td>3.38e-07</td><td>13.7</td><td>13.7</td><td>13.6</td><td>13.6</td><td>13.6</td><td>13.6</td><td>5.02e-12</td><td>7.61e-14</td><td>1.37e-11</td><td>1.31e-13</td><td>0.366</td><td>0.00656</td><td>32.8</td><td>0.0</td><td>1.49e-11</td><td>0.0</td><td>16.2</td><td>0.0</td><td>36.1</td><td>0.0</td><td>2.22</td><td>0.0</td><td>13.6</td><td>0.0</td><td>29.4</td><td>1.53</td><td>32.6</td><td>1.6</td><td>9.45</td><td>6.42e-07</td><td>13.9</td><td>6.42e-07</td><td>21.0</td><td>6.42e-07</td><td>14.6</td><td>14.6</td><td>14.6</td><td>14.6</td><td>1.14e-13</td><td>1.94e-14</td><td>2.91e-13</td><td>5.36e-14</td><td>0.391</td><td>0.0982</td><td>74.4</td><td>51.0</td><td>2.59e-13</td><td>3.68e-14</td><td>29.1</td><td>0.0</td><td>2.65e-13</td><td>0.0</td><td>12.9</td><td>0.0</td><td>74.4</td><td>0.0</td><td>5.76</td><td>0.0</td><td>14.7</td><td>0.0</td><td>-0.618</td><td>-1.46</td><td>0.0227</td><td>0.00388</td><td>0.0204</td><td>0.00657</td><td>39.3</td><td>1.75</td><td>50.4</td><td>1.97</td><td>54.5</td><td>2.05</td><td>9.97</td><td>8.88e-07</td><td>42.8</td><td>1.82</td><td>50.4</td><td>1.97</td><td>16.9</td><td>8.88e-07</td><td>26.3</td><td>8.88e-07</td><td>13.7</td><td>13.7</td><td>13.6</td><td>13.6</td><td>13.6</td><td>13.6</td><td>4.76e-12</td><td>7.41e-14</td><td>1.36e-11</td><td>1.3e-13</td><td>0.35</td><td>0.00641</td><td>33.7</td><td>0.0</td><td>1.48e-11</td><td>0.0</td><td>16.8</td><td>0.0</td><td>37.1</td><td>0.0</td><td>2.21</td><td>0.0</td><td>13.6</td><td>0.0</td><td>29.4</td><td>1.53</td><td>32.6</td><td>1.6</td><td>9.86</td><td>9.53e-07</td><td>14.4</td><td>9.53e-07</td><td>21.2</td><td>9.53e-07</td><td>14.6</td><td>14.6</td><td>14.6</td><td>14.6</td><td>1.03e-13</td><td>1.82e-14</td><td>2.84e-13</td><td>5.06e-14</td><td>0.361</td><td>0.0909</td><td>74.4</td><td>50.9</td><td>2.54e-13</td><td>3.5e-14</td><td>29.0</td><td>0.0</td><td>2.62e-13</td><td>0.0</td><td>13.6</td><td>0.0</td><td>74.4</td><td>0.0</td><td>5.47</td><td>0.0</td><td>14.7</td><td>0.0</td><td>-0.626</td><td>-1.49</td><td>0.0216</td><td>0.00385</td><td>0.0206</td><td>0.00611</td><td>True</td><td>True</td><td>True</td><td>True</td><td>True</td><td>True</td><td>True</td><td>True</td><td>True</td><td>True</td><td></td></tr>\n",
       "<tr><td>VFID3018</td><td>200.4706185</td><td>28.6688125</td><td>2446.9</td><td>24.78114</td><td>UGC 08401</td><td>VFID3018-UGC08401</td><td>True</td><td>0.008156333333333333</td><td>0.008156333333333333</td><td>200.47159</td><td>28.669239</td><td>0.0</td><td>0.0</td><td>200.47179</td><td>28.668686</td><td>True</td><td>1.0117445</td><td>1.8718058</td><td>2.3057244</td><td>VF-2017-05</td><td>[3254:3394,3934:4074]</td><td>0.04026378</td><td>62.642</td><td>0.3114</td><td>73.1149</td><td>0.3171</td><td>15.6553</td><td>0.1886</td><td>46.3166</td><td>9.3726</td><td>2.0246</td><td>0.2872</td><td>0.8887</td><td>0.0165</td><td>-43.7038</td><td>6.1053</td><td>0.0</td><td>0.5762414</td><td>0.0 .. 0.0</td><td>0.0 .. 0.0</td><td>0.0</td><td>0.0</td><td>0.0 .. 0.0</td><td>0.0 .. 0.0</td><td>0.0</td><td>0.0</td><td>0.0</td><td>0.0</td><td>0.0</td><td>0.0</td><td>0.0</td><td>0.0</td><td>0.0</td><td>0.0</td><td>0.0</td><td>0.0</td><td>0.0</td><td>0.0</td><td>0.0</td><td>0.0</td><td>0.0</td><td>0.0</td><td>0.0</td><td>0.0</td><td>0.0 .. 0.0</td><td>0.0 .. 0.0</td><td>0.0</td><td>0.0</td><td>0.0 .. 0.0</td><td>0.0 .. 0.0</td><td>0.0</td><td>0.0</td><td>0.0</td><td>0.0</td><td>61.2</td><td>68.4</td><td>0.257</td><td>45.8</td><td>0.386</td><td>0.256</td><td>1410.0</td><td>7.99e-13</td><td>16.8</td><td>0.776</td><td>0.0132</td><td>9.28e-15</td><td>18.1</td><td>0.767</td><td>6.544138e-17</td><td>0.0</td><td>0.0</td><td>11.7</td><td>1.01</td><td>16.0</td><td>1.15</td><td>21.0</td><td>1.3</td><td>4.71</td><td>2.09e-07</td><td>11.7</td><td>1.01</td><td>18.4</td><td>1.23</td><td>8.32</td><td>2.09e-07</td><td>14.3</td><td>2.09e-07</td><td>16.7</td><td>16.7</td><td>16.5</td><td>16.5</td><td>16.3</td><td>16.3</td><td>1.78e-13</td><td>1.5e-14</td><td>8.66e-13</td><td>3.68e-14</td><td>0.205</td><td>0.0194</td><td>20.5</td><td>0.0</td><td>1.32e-12</td><td>1.32e-12</td><td>8.32</td><td>0.0</td><td>20.3</td><td>0.0</td><td>2.44</td><td>0.0</td><td>16.2</td><td>0.0</td><td>8.0</td><td>0.856</td><td>13.8</td><td>1.08</td><td>5.51</td><td>3.96e-07</td><td>10.6</td><td>3.96e-07</td><td>19.0</td><td>3.96e-07</td><td>17.9</td><td>18.0</td><td>17.3</td><td>17.4</td><td>5.87e-15</td><td>7.73e-15</td><td>2.09e-14</td><td>2.45e-14</td><td>0.281</td><td>0.495</td><td>11.0</td><td>26.5</td><td>0.0</td><td>0.0</td><td>29.5</td><td>0.0</td><td>3.82e-14</td><td>3.82e-14</td><td>10.6</td><td>0.0</td><td>27.3</td><td>0.0</td><td>2.59</td><td>0.0</td><td>16.8</td><td>0.0</td><td>-inf</td><td>-inf</td><td>0.0331</td><td>0.0436</td><td>0.0218</td><td>0.0373</td><td>11.7</td><td>1.01</td><td>18.4</td><td>1.23</td><td>23.6</td><td>1.38</td><td>4.35</td><td>4.71e-07</td><td>13.8</td><td>1.08</td><td>18.4</td><td>1.23</td><td>8.77</td><td>4.71e-07</td><td>14.8</td><td>4.71e-07</td><td>16.7</td><td>16.8</td><td>16.4</td><td>16.5</td><td>16.3</td><td>16.3</td><td>2.25e-13</td><td>1.67e-14</td><td>8.23e-13</td><td>3.53e-14</td><td>0.273</td><td>0.0234</td><td>21.1</td><td>0.0</td><td>1.29e-12</td><td>1.29e-12</td><td>8.77</td><td>0.0</td><td>21.5</td><td>0.0</td><td>2.45</td><td>0.0</td><td>16.2</td><td>0.0</td><td>9.79</td><td>0.931</td><td>16.0</td><td>1.15</td><td>6.52</td><td>2.23e-07</td><td>11.7</td><td>2.23e-07</td><td>21.8</td><td>2.23e-07</td><td>17.7</td><td>17.8</td><td>17.3</td><td>17.3</td><td>4.19e-15</td><td>6.83e-15</td><td>1.87e-14</td><td>2.19e-14</td><td>0.224</td><td>0.45</td><td>11.1</td><td>29.9</td><td>0.0</td><td>0.0</td><td>32.9</td><td>0.0</td><td>3.72e-14</td><td>3.72e-14</td><td>11.7</td><td>0.0</td><td>30.2</td><td>0.0</td><td>2.59</td><td>0.0</td><td>16.8</td><td>0.0</td><td>-inf</td><td>-inf</td><td>0.0186</td><td>0.0304</td><td>0.0242</td><td>0.0383</td><td>True</td><td>True</td><td>True</td><td>True</td><td>True</td><td>True</td><td>True</td><td>True</td><td>True</td><td>True</td><td></td></tr>\n",
       "<tr><td>VFID3065</td><td>200.735277</td><td>28.3164451</td><td>2390.1</td><td>46.251015</td><td>NGC 5117</td><td>VFID3065-NGC5117</td><td>True</td><td>0.007967</td><td>0.007967</td><td>200.73486</td><td>28.317238</td><td>0.0</td><td>0.0</td><td>200.73491</td><td>28.317188</td><td>True</td><td>1.0210912</td><td>1.8718058</td><td>2.3057244</td><td>VF-2017-05</td><td>[1135:1577,801:1243]</td><td>0.04026378</td><td>223.5857</td><td>0.1456</td><td>227.3065</td><td>0.3044</td><td>13.4923</td><td>0.0074</td><td>57.2234</td><td>0.4106</td><td>1.0157</td><td>0.015</td><td>0.4515</td><td>0.0031</td><td>-25.3024</td><td>0.271</td><td>0.0</td><td>0.6536862</td><td>0.0 .. 0.0</td><td>0.0 .. 0.0</td><td>0.0</td><td>0.0</td><td>0.0 .. 0.0</td><td>0.0 .. 0.0</td><td>0.0</td><td>0.0</td><td>0.0</td><td>0.0</td><td>0.0</td><td>0.0</td><td>0.0</td><td>0.0</td><td>0.0</td><td>0.0</td><td>0.0</td><td>0.0</td><td>0.0</td><td>0.0</td><td>0.0</td><td>0.0</td><td>0.0</td><td>0.0</td><td>0.0</td><td>0.0</td><td>0.0 .. 0.0</td><td>0.0 .. 0.0</td><td>0.0</td><td>0.0</td><td>0.0 .. 0.0</td><td>0.0 .. 0.0</td><td>0.0</td><td>0.0</td><td>0.0</td><td>0.0</td><td>223.0</td><td>227.0</td><td>0.507</td><td>61.9</td><td>0.427</td><td>0.365</td><td>19200.0</td><td>1.55e-11</td><td>13.5</td><td>0.3</td><td>0.0139</td><td>2.32e-13</td><td>14.6</td><td>0.805</td><td>6.544138e-17</td><td>0.0</td><td>0.0</td><td>54.5</td><td>2.05</td><td>72.0</td><td>2.35</td><td>76.8</td><td>2.42</td><td>14.5</td><td>7.1e-07</td><td>54.5</td><td>2.05</td><td>72.0</td><td>2.35</td><td>27.2</td><td>7.1e-07</td><td>44.7</td><td>7.1e-07</td><td>13.5</td><td>13.5</td><td>13.4</td><td>13.4</td><td>13.4</td><td>13.4</td><td>5.46e-12</td><td>8.13e-14</td><td>1.58e-11</td><td>1.49e-13</td><td>0.345</td><td>0.00607</td><td>58.9</td><td>0.0</td><td>1.88e-11</td><td>1.88e-11</td><td>27.2</td><td>0.0</td><td>64.2</td><td>0.0</td><td>2.36</td><td>0.0</td><td>13.3</td><td>0.0</td><td>46.6</td><td>1.9</td><td>54.5</td><td>2.05</td><td>14.3</td><td>1.15e-06</td><td>27.2</td><td>1.15e-06</td><td>38.2</td><td>1.15e-06</td><td>14.5</td><td>14.5</td><td>14.4</td><td>14.4</td><td>1.09e-13</td><td>2.66e-14</td><td>3.53e-13</td><td>8.14e-14</td><td>0.309</td><td>0.104</td><td>100.0</td><td>60.7</td><td>2.16e-13</td><td>4.78e-14</td><td>52.4</td><td>0.0</td><td>3.58e-13</td><td>3.58e-13</td><td>27.2</td><td>0.0</td><td>100.0</td><td>0.0</td><td>3.67</td><td>0.0</td><td>14.4</td><td>0.0</td><td>-0.778</td><td>-1.43</td><td>0.02</td><td>0.00488</td><td>0.0235</td><td>0.00826</td><td>50.4</td><td>1.97</td><td>67.4</td><td>2.27</td><td>76.8</td><td>2.42</td><td>14.1</td><td>1.23e-06</td><td>54.5</td><td>2.05</td><td>72.0</td><td>2.35</td><td>26.5</td><td>1.23e-06</td><td>43.2</td><td>1.23e-06</td><td>13.5</td><td>13.6</td><td>13.4</td><td>13.4</td><td>13.4</td><td>13.4</td><td>5.2e-12</td><td>7.93e-14</td><td>1.56e-11</td><td>1.47e-13</td><td>0.333</td><td>0.00596</td><td>55.7</td><td>0.0</td><td>1.9e-11</td><td>1.9e-11</td><td>26.5</td><td>0.0</td><td>63.6</td><td>0.0</td><td>2.4</td><td>0.0</td><td>13.3</td><td>0.0</td><td>46.6</td><td>1.9</td><td>50.4</td><td>1.97</td><td>14.0</td><td>2.67e-07</td><td>27.0</td><td>2.67e-07</td><td>36.4</td><td>2.67e-07</td><td>14.4</td><td>14.4</td><td>14.4</td><td>14.4</td><td>9.72e-14</td><td>2.5e-14</td><td>3.42e-13</td><td>7.69e-14</td><td>0.285</td><td>0.0973</td><td>100.0</td><td>63.0</td><td>2.13e-13</td><td>4.85e-14</td><td>49.5</td><td>0.0</td><td>2.8e-13</td><td>0.0</td><td>20.1</td><td>0.0</td><td>35.0</td><td>0.0</td><td>1.74</td><td>0.0</td><td>14.6</td><td>0.0</td><td>-0.783</td><td>-1.43</td><td>0.0187</td><td>0.00482</td><td>0.0234</td><td>0.00776</td><td>True</td><td>True</td><td>True</td><td>True</td><td>True</td><td>True</td><td>True</td><td>True</td><td>True</td><td>True</td><td></td></tr>\n",
       "<tr><td>VFID2136</td><td>208.417842</td><td>39.7242957</td><td>2235.7</td><td>13.903408</td><td>WISEA J135340.31+394327.2</td><td>VFID2136-WISEAJ135340.31+394327.2</td><td>True</td><td>0.0074523333333333325</td><td>0.0074523333333333325</td><td>208.41768</td><td>39.724384</td><td>0.0</td><td>0.0</td><td>208.41763</td><td>39.724396</td><td>True</td><td>1.0184581</td><td>1.8889487</td><td>1.323115</td><td>VF-2017-05</td><td>[1350:1490,3148:3288]</td><td>0.044761848</td><td>71.002</td><td>0.0961</td><td>71.0557</td><td>0.1278</td><td>15.2743</td><td>0.0176</td><td>15.3843</td><td>0.3579</td><td>2.2094</td><td>0.0967</td><td>0.5587</td><td>0.0104</td><td>35.545</td><td>0.9358</td><td>0.0</td><td>0.5513961</td><td>0.0 .. 0.0</td><td>0.0 .. 0.0</td><td>0.0</td><td>0.0</td><td>0.0 .. 0.0</td><td>0.0 .. 0.0</td><td>0.0</td><td>0.0</td><td>0.0</td><td>0.0</td><td>0.0</td><td>0.0</td><td>0.0</td><td>0.0</td><td>0.0</td><td>0.0</td><td>0.0</td><td>0.0</td><td>0.0</td><td>0.0</td><td>0.0</td><td>0.0</td><td>0.0</td><td>0.0</td><td>0.0</td><td>0.0</td><td>0.0 .. 0.0</td><td>0.0 .. 0.0</td><td>0.0</td><td>0.0</td><td>0.0 .. 0.0</td><td>0.0 .. 0.0</td><td>0.0</td><td>0.0</td><td>0.0</td><td>0.0</td><td>71.3</td><td>71.2</td><td>0.495</td><td>123.0</td><td>0.562</td><td>0.643</td><td>2160.0</td><td>2.34e-12</td><td>15.6</td><td>0.171</td><td>0.169</td><td>4.93e-14</td><td>16.4</td><td>0.551</td><td>5.579145e-17</td><td>0.0</td><td>0.0</td><td>16.0</td><td>1.15</td><td>21.0</td><td>1.3</td><td>23.6</td><td>1.38</td><td>3.15</td><td>4.27e-07</td><td>16.0</td><td>1.15</td><td>23.6</td><td>1.38</td><td>6.01</td><td>4.27e-07</td><td>11.4</td><td>4.27e-07</td><td>15.6</td><td>15.6</td><td>15.5</td><td>15.5</td><td>15.5</td><td>15.5</td><td>1.07e-12</td><td>3.66e-14</td><td>2.3e-12</td><td>5.65e-14</td><td>0.465</td><td>0.0195</td><td>14.1</td><td>0.0</td><td>2.61e-12</td><td>0.0</td><td>5.94</td><td>0.0</td><td>17.0</td><td>0.0</td><td>2.87</td><td>0.0</td><td>15.5</td><td>0.0</td><td>6.37</td><td>0.782</td><td>8.0</td><td>0.856</td><td>1.29</td><td>8.61e-08</td><td>2.17</td><td>8.61e-08</td><td>3.27</td><td>8.61e-08</td><td>16.4</td><td>16.4</td><td>16.4</td><td>16.4</td><td>5.12e-14</td><td>1.07e-14</td><td>5.43e-14</td><td>2.36e-14</td><td>0.943</td><td>0.455</td><td>4.92</td><td>29.2</td><td>4.9e-14</td><td>1e-14</td><td>4.55</td><td>0.0</td><td>5.5e-14</td><td>0.0</td><td>2.17</td><td>0.0</td><td>4.34</td><td>0.0</td><td>2.0</td><td>0.0</td><td>16.4</td><td>0.0</td><td>-1.48</td><td>-2.17</td><td>0.0477</td><td>0.0101</td><td>0.00251</td><td>0.021</td><td>16.0</td><td>1.15</td><td>23.6</td><td>1.38</td><td>26.5</td><td>1.45</td><td>3.39</td><td>1.91e-07</td><td>18.4</td><td>1.23</td><td>23.6</td><td>1.38</td><td>6.37</td><td>1.91e-07</td><td>11.9</td><td>1.91e-07</td><td>15.6</td><td>15.7</td><td>15.5</td><td>15.5</td><td>15.5</td><td>15.5</td><td>1e-12</td><td>3.53e-14</td><td>2.27e-12</td><td>5.58e-14</td><td>0.441</td><td>0.019</td><td>14.7</td><td>0.0</td><td>2.61e-12</td><td>0.0</td><td>6.3</td><td>0.0</td><td>17.7</td><td>0.0</td><td>2.82</td><td>0.0</td><td>15.5</td><td>0.0</td><td>8.0</td><td>0.856</td><td>8.0</td><td>0.856</td><td>1.47</td><td>8.54e-08</td><td>2.45</td><td>8.54e-08</td><td>3.67</td><td>8.54e-08</td><td>16.4</td><td>16.4</td><td>16.4</td><td>16.4</td><td>4.77e-14</td><td>1.01e-14</td><td>5.29e-14</td><td>2.2e-14</td><td>0.902</td><td>0.422</td><td>5.4</td><td>28.8</td><td>4.49e-14</td><td>9.41e-15</td><td>5.08</td><td>0.0</td><td>5.35e-14</td><td>0.0</td><td>2.45</td><td>0.0</td><td>4.91</td><td>0.0</td><td>2.01</td><td>0.0</td><td>16.4</td><td>0.0</td><td>-1.52</td><td>-2.2</td><td>0.0477</td><td>0.0102</td><td>0.00407</td><td>0.0191</td><td>True</td><td>True</td><td>True</td><td>True</td><td>True</td><td>True</td><td>True</td><td>True</td><td>True</td><td>True</td><td></td></tr>\n",
       "<tr><td>VFID2137</td><td>208.2433125</td><td>39.7186742</td><td>2640.6</td><td>11.644511</td><td>KUG 1350+399</td><td>VFID2137-KUG1350+399</td><td>True</td><td>0.008801999999999999</td><td>0.008801999999999999</td><td>208.24292</td><td>39.718624</td><td>0.0</td><td>0.0</td><td>208.24304</td><td>39.7185</td><td>True</td><td>1.0170052</td><td>1.8889487</td><td>1.323115</td><td>VF-2017-05</td><td>[2486:2626,3100:3240]</td><td>0.044761848</td><td>72.3897</td><td>0.1556</td><td>69.7396</td><td>0.1364</td><td>15.4242</td><td>0.0179</td><td>14.0088</td><td>0.2064</td><td>0.5825</td><td>0.0198</td><td>0.8562</td><td>0.0105</td><td>-50.7485</td><td>3.4225</td><td>0.0</td><td>0.6218233</td><td>0.0 .. 0.0</td><td>0.0 .. 0.0</td><td>0.0</td><td>0.0</td><td>0.0 .. 0.0</td><td>0.0 .. 0.0</td><td>0.0</td><td>0.0</td><td>0.0</td><td>0.0</td><td>0.0</td><td>0.0</td><td>0.0</td><td>0.0</td><td>0.0</td><td>0.0</td><td>0.0</td><td>0.0</td><td>0.0</td><td>0.0</td><td>0.0</td><td>0.0</td><td>0.0</td><td>0.0</td><td>0.0</td><td>0.0</td><td>0.0 .. 0.0</td><td>0.0 .. 0.0</td><td>0.0</td><td>0.0</td><td>0.0 .. 0.0</td><td>0.0 .. 0.0</td><td>0.0</td><td>0.0</td><td>0.0</td><td>0.0</td><td>71.5</td><td>68.7</td><td>0.128</td><td>43.1</td><td>0.445</td><td>0.508</td><td>2530.0</td><td>2.66e-12</td><td>15.5</td><td>0.202</td><td>0.0387</td><td>5.58e-14</td><td>16.3</td><td>1.11</td><td>5.579145e-17</td><td>0.0</td><td>0.0</td><td>13.8</td><td>1.08</td><td>16.0</td><td>1.15</td><td>18.4</td><td>1.23</td><td>3.93</td><td>3.04e-07</td><td>13.8</td><td>1.08</td><td>16.0</td><td>1.15</td><td>6.42</td><td>3.04e-07</td><td>9.33</td><td>3.04e-07</td><td>15.5</td><td>15.5</td><td>15.4</td><td>15.4</td><td>15.4</td><td>15.4</td><td>7.79e-13</td><td>3.14e-14</td><td>2.67e-12</td><td>6.06e-14</td><td>0.291</td><td>0.0135</td><td>12.5</td><td>0.0</td><td>2.86e-12</td><td>0.0</td><td>6.38</td><td>0.0</td><td>12.3</td><td>0.0</td><td>1.93</td><td>0.0</td><td>15.4</td><td>0.0</td><td>9.79</td><td>0.931</td><td>11.7</td><td>1.01</td><td>2.37</td><td>1.96e-07</td><td>4.1</td><td>1.96e-07</td><td>7.24</td><td>1.96e-07</td><td>16.3</td><td>16.3</td><td>16.2</td><td>16.2</td><td>3.55e-14</td><td>9.74e-15</td><td>6.49e-14</td><td>2.45e-14</td><td>0.547</td><td>0.255</td><td>9.8</td><td>24.4</td><td>3.57e-14</td><td>9.79e-15</td><td>9.25</td><td>0.0</td><td>6.55e-14</td><td>0.0</td><td>3.81</td><td>0.0</td><td>8.78</td><td>0.0</td><td>2.31</td><td>0.0</td><td>16.2</td><td>0.0</td><td>-1.47</td><td>-2.03</td><td>0.0455</td><td>0.0126</td><td>0.0155</td><td>0.0139</td><td>13.8</td><td>1.08</td><td>16.0</td><td>1.15</td><td>18.4</td><td>1.23</td><td>3.88</td><td>1.54e-07</td><td>13.8</td><td>1.08</td><td>16.0</td><td>1.15</td><td>6.38</td><td>1.54e-07</td><td>9.26</td><td>1.54e-07</td><td>15.4</td><td>15.5</td><td>15.4</td><td>15.4</td><td>15.4</td><td>15.4</td><td>7.95e-13</td><td>3.17e-14</td><td>2.68e-12</td><td>6.07e-14</td><td>0.296</td><td>0.0136</td><td>12.3</td><td>0.0</td><td>2.86e-12</td><td>0.0</td><td>6.32</td><td>0.0</td><td>12.2</td><td>0.0</td><td>1.93</td><td>0.0</td><td>15.4</td><td>0.0</td><td>9.79</td><td>0.931</td><td>11.7</td><td>1.01</td><td>2.49</td><td>6.78e-08</td><td>4.19</td><td>6.78e-08</td><td>7.17</td><td>6.78e-08</td><td>16.3</td><td>16.3</td><td>16.2</td><td>16.2</td><td>3.42e-14</td><td>9.51e-15</td><td>6.33e-14</td><td>2.41e-14</td><td>0.541</td><td>0.255</td><td>9.21</td><td>28.3</td><td>3.45e-14</td><td>9.56e-15</td><td>8.99</td><td>0.0</td><td>6.37e-14</td><td>0.0</td><td>3.88</td><td>0.0</td><td>8.38</td><td>0.0</td><td>2.16</td><td>0.0</td><td>16.2</td><td>0.0</td><td>-1.49</td><td>-2.04</td><td>0.043</td><td>0.0121</td><td>0.0154</td><td>0.0137</td><td>True</td><td>True</td><td>True</td><td>True</td><td>True</td><td>True</td><td>True</td><td>True</td><td>True</td><td>True</td><td></td></tr>\n",
       "<tr><td>VFID2139</td><td>208.49805</td><td>39.7154593</td><td>2601.1</td><td>16.948109</td><td>CGCG 219-021</td><td>VFID2139-CGCG219-021</td><td>True</td><td>0.008670333333333334</td><td>0.008670333333333334</td><td>208.49792</td><td>39.715492</td><td>0.0</td><td>0.0</td><td>208.49802</td><td>39.715378</td><td>True</td><td>1.0112851</td><td>1.8889487</td><td>1.323115</td><td>VF-2017-05</td><td>[819:976,3066:3223]</td><td>0.044761848</td><td>79.5241</td><td>0.139</td><td>78.8384</td><td>0.105</td><td>14.6995</td><td>0.0101</td><td>19.092</td><td>0.2228</td><td>1.5065</td><td>0.0396</td><td>0.8028</td><td>0.0077</td><td>79.3154</td><td>1.4063</td><td>0.0</td><td>0.380898</td><td>0.0 .. 0.0</td><td>0.0 .. 0.0</td><td>0.0</td><td>0.0</td><td>0.0 .. 0.0</td><td>0.0 .. 0.0</td><td>0.0</td><td>0.0</td><td>0.0</td><td>0.0</td><td>0.0</td><td>0.0</td><td>0.0</td><td>0.0</td><td>0.0</td><td>0.0</td><td>0.0</td><td>0.0</td><td>0.0</td><td>0.0</td><td>0.0</td><td>0.0</td><td>0.0</td><td>0.0</td><td>0.0</td><td>0.0</td><td>0.0 .. 0.0</td><td>0.0 .. 0.0</td><td>0.0</td><td>0.0</td><td>0.0 .. 0.0</td><td>0.0 .. 0.0</td><td>0.0</td><td>0.0</td><td>0.0</td><td>0.0</td><td>78.9</td><td>77.9</td><td>0.27</td><td>174.0</td><td>0.516</td><td>0.271</td><td>3920.0</td><td>4.64e-12</td><td>14.9</td><td>0.19</td><td>0.0846</td><td>4.19e-15</td><td>19.1</td><td>0.673</td><td>5.579145e-17</td><td>0.0</td><td>0.0</td><td>21.0</td><td>1.3</td><td>23.6</td><td>1.38</td><td>26.5</td><td>1.45</td><td>4.31</td><td>3.51e-07</td><td>21.0</td><td>1.3</td><td>23.6</td><td>1.38</td><td>7.7</td><td>3.51e-07</td><td>12.7</td><td>3.51e-07</td><td>14.8</td><td>14.8</td><td>14.8</td><td>14.8</td><td>14.7</td><td>14.7</td><td>2.11e-12</td><td>5.18e-14</td><td>4.95e-12</td><td>8.52e-14</td><td>0.427</td><td>0.0128</td><td>17.6</td><td>0.0</td><td>5.27e-12</td><td>5.27e-12</td><td>7.7</td><td>0.0</td><td>18.6</td><td>0.0</td><td>2.42</td><td>0.0</td><td>14.7</td><td>0.0</td><td>2.35</td><td>0.558</td><td>3.54</td><td>0.633</td><td>31.0</td><td>7.21e-07</td><td>31.0</td><td>7.21e-07</td><td>31.0</td><td>7.21e-07</td><td>20.3</td><td>20.5</td><td>20.1</td><td>20.1</td><td>8.07e-16</td><td>1.18e-14</td><td>-9.28e-15</td><td>3.9e-14</td><td>-0.087</td><td>1.32</td><td>31.0</td><td>30.2</td><td>0.0</td><td>0.0</td><td>11.1</td><td>0.0</td><td>-9.62e-15</td><td>0.0</td><td>12.9</td><td>0.0</td><td>19.0</td><td>0.0</td><td>1.47</td><td>0.0</td><td>nan</td><td>0.0</td><td>-inf</td><td>-inf</td><td>0.000382</td><td>0.00559</td><td>-0.00355</td><td>0.0144</td><td>21.0</td><td>1.3</td><td>26.5</td><td>1.45</td><td>26.5</td><td>1.45</td><td>4.44</td><td>2.92e-07</td><td>21.0</td><td>1.3</td><td>26.5</td><td>1.45</td><td>7.92</td><td>2.92e-07</td><td>13.2</td><td>2.92e-07</td><td>14.8</td><td>14.8</td><td>14.7</td><td>14.8</td><td>14.7</td><td>14.8</td><td>2.04e-12</td><td>5.08e-14</td><td>4.86e-12</td><td>8.39e-14</td><td>0.419</td><td>0.0127</td><td>18.2</td><td>0.0</td><td>5.25e-12</td><td>5.25e-12</td><td>7.92</td><td>0.0</td><td>19.3</td><td>0.0</td><td>2.44</td><td>0.0</td><td>14.7</td><td>0.0</td><td>3.54</td><td>0.633</td><td>3.54</td><td>0.633</td><td>31.0</td><td>7.21e-07</td><td>31.0</td><td>7.21e-07</td><td>31.0</td><td>7.21e-07</td><td>20.0</td><td>20.0</td><td>20.0</td><td>20.0</td><td>1.21e-15</td><td>1.1e-14</td><td>-8.78e-15</td><td>3.63e-14</td><td>-0.138</td><td>1.38</td><td>31.0</td><td>30.2</td><td>0.0</td><td>0.0</td><td>26.1</td><td>0.0</td><td>2.1e-15</td><td>2.1e-15</td><td>31.0</td><td>0.0</td><td>31.0</td><td>0.0</td><td>1.0</td><td>0.0</td><td>19.9</td><td>0.0</td><td>-inf</td><td>-inf</td><td>0.000596</td><td>0.00541</td><td>-0.00353</td><td>0.0134</td><td>True</td><td>True</td><td>True</td><td>True</td><td>True</td><td>True</td><td>True</td><td>True</td><td>True</td><td>True</td><td></td></tr>\n",
       "<tr><td>VFID2146</td><td>208.09592099999998</td><td>39.6872502</td><td>2126.9</td><td>49.78761</td><td>NGC 5337</td><td>VFID2146-NGC5337</td><td>True</td><td>0.007089666666666667</td><td>0.007089666666666667</td><td>208.09576</td><td>39.68742</td><td>0.0</td><td>0.0</td><td>208.09589</td><td>39.68728</td><td>True</td><td>1.0246881</td><td>1.8889487</td><td>1.323115</td><td>VF-2017-05</td><td>[3305:3726,2695:3116]</td><td>0.044761848</td><td>211.6738</td><td>0.0665</td><td>211.8943</td><td>0.1382</td><td>12.6063</td><td>0.0049</td><td>39.3804</td><td>0.1799</td><td>1.0438</td><td>0.0082</td><td>0.4669</td><td>0.002</td><td>22.3548</td><td>0.172</td><td>0.0</td><td>0.6208273</td><td>0.0 .. 0.0</td><td>0.0 .. 0.0</td><td>0.0</td><td>0.0</td><td>0.0 .. 0.0</td><td>0.0 .. 0.0</td><td>0.0</td><td>0.0</td><td>0.0</td><td>0.0</td><td>0.0</td><td>0.0</td><td>0.0</td><td>0.0</td><td>0.0</td><td>0.0</td><td>0.0</td><td>0.0</td><td>0.0</td><td>0.0</td><td>0.0</td><td>0.0</td><td>0.0</td><td>0.0</td><td>0.0</td><td>0.0</td><td>0.0 .. 0.0</td><td>0.0 .. 0.0</td><td>0.0</td><td>0.0</td><td>0.0 .. 0.0</td><td>0.0 .. 0.0</td><td>0.0</td><td>0.0</td><td>0.0</td><td>0.0</td><td>211.0</td><td>211.0</td><td>0.535</td><td>112.0</td><td>0.604</td><td>0.444</td><td>21400.0</td><td>3.73e-11</td><td>12.6</td><td>0.143</td><td>0.0498</td><td>1.21e-13</td><td>15.4</td><td>1.0</td><td>5.579145e-17</td><td>0.0</td><td>0.0</td><td>54.5</td><td>2.05</td><td>62.9</td><td>2.2</td><td>67.4</td><td>2.27</td><td>9.35</td><td>7.62e-07</td><td>54.5</td><td>2.05</td><td>62.9</td><td>2.2</td><td>17.8</td><td>7.62e-07</td><td>29.8</td><td>7.62e-07</td><td>12.6</td><td>12.6</td><td>12.6</td><td>12.6</td><td>12.6</td><td>12.6</td><td>1.79e-11</td><td>1.49e-13</td><td>3.75e-11</td><td>2.22e-13</td><td>0.478</td><td>0.00488</td><td>40.2</td><td>0.0</td><td>3.87e-11</td><td>0.0</td><td>17.7</td><td>0.0</td><td>42.0</td><td>0.0</td><td>2.37</td><td>0.0</td><td>12.6</td><td>0.0</td><td>19.2</td><td>15.0</td><td>22.6</td><td>18.4</td><td>24.0</td><td>2.76e-06</td><td>35.7</td><td>2.76e-06</td><td>67.9</td><td>2.76e-06</td><td>16.3</td><td>21.1</td><td>16.1</td><td>21.1</td><td>4.23e-16</td><td>1.99e-14</td><td>1.67e-13</td><td>6.82e-14</td><td>0.00254</td><td>0.119</td><td>49.1</td><td>45.5</td><td>0.0</td><td>0.0</td><td>94.4</td><td>0.0</td><td>2.59e-13</td><td>2.59e-13</td><td>35.7</td><td>0.0</td><td>85.1</td><td>0.0</td><td>2.39</td><td>0.0</td><td>14.7</td><td>0.0</td><td>-inf</td><td>-inf</td><td>2.36e-05</td><td>0.00111</td><td>0.0085</td><td>0.00363</td><td>54.5</td><td>2.05</td><td>62.9</td><td>2.2</td><td>67.4</td><td>2.27</td><td>9.33</td><td>8.21e-07</td><td>54.5</td><td>2.05</td><td>62.9</td><td>2.2</td><td>17.8</td><td>8.21e-07</td><td>29.7</td><td>8.21e-07</td><td>12.6</td><td>12.6</td><td>12.6</td><td>12.6</td><td>12.6</td><td>12.6</td><td>1.79e-11</td><td>1.49e-13</td><td>3.75e-11</td><td>2.22e-13</td><td>0.478</td><td>0.00488</td><td>40.2</td><td>0.0</td><td>3.87e-11</td><td>0.0</td><td>17.7</td><td>0.0</td><td>42.0</td><td>0.0</td><td>2.37</td><td>0.0</td><td>12.6</td><td>0.0</td><td>16.9</td><td>14.0</td><td>20.2</td><td>17.3</td><td>23.9</td><td>3.4e-06</td><td>35.7</td><td>3.4e-06</td><td>68.1</td><td>3.4e-06</td><td>16.4</td><td>19.7</td><td>16.2</td><td>19.7</td><td>-1.65e-15</td><td>1.93e-14</td><td>1.63e-13</td><td>6.63e-14</td><td>-0.0102</td><td>0.119</td><td>49.4</td><td>45.3</td><td>0.0</td><td>0.0</td><td>94.4</td><td>0.0</td><td>2.52e-13</td><td>2.52e-13</td><td>35.7</td><td>0.0</td><td>85.0</td><td>0.0</td><td>2.38</td><td>0.0</td><td>14.7</td><td>0.0</td><td>-inf</td><td>-inf</td><td>-9.23e-05</td><td>0.00108</td><td>0.00838</td><td>0.00353</td><td>True</td><td>True</td><td>True</td><td>True</td><td>True</td><td>True</td><td>True</td><td>True</td><td>True</td><td>True</td><td></td></tr>\n",
       "<tr><td>VFID2155</td><td>208.257831</td><td>39.5807535</td><td>2503.6</td><td>46.786575</td><td>NGC 5346</td><td>VFID2155-NGC5346</td><td>True</td><td>0.008345333333333333</td><td>0.008345333333333333</td><td>208.25764</td><td>39.581356</td><td>0.0</td><td>0.0</td><td>208.25763</td><td>39.581432</td><td>True</td><td>1.0067221</td><td>1.8889487</td><td>1.323115</td><td>VF-2017-05</td><td>[2227:2697,1768:2238]</td><td>0.044761848</td><td>235.8393</td><td>0.1613</td><td>240.1609</td><td>0.324</td><td>13.5098</td><td>0.0077</td><td>59.0061</td><td>0.3895</td><td>0.7776</td><td>0.0112</td><td>0.4585</td><td>0.0029</td><td>-19.6959</td><td>0.2736</td><td>0.0</td><td>0.6662581</td><td>0.0 .. 0.0</td><td>0.0 .. 0.0</td><td>0.0</td><td>0.0</td><td>0.0 .. 0.0</td><td>0.0 .. 0.0</td><td>0.0</td><td>0.0</td><td>0.0</td><td>0.0</td><td>0.0</td><td>0.0</td><td>0.0</td><td>0.0</td><td>0.0</td><td>0.0</td><td>0.0</td><td>0.0</td><td>0.0</td><td>0.0</td><td>0.0</td><td>0.0</td><td>0.0</td><td>0.0</td><td>0.0</td><td>0.0</td><td>0.0 .. 0.0</td><td>0.0 .. 0.0</td><td>0.0</td><td>0.0</td><td>0.0 .. 0.0</td><td>0.0 .. 0.0</td><td>0.0</td><td>0.0</td><td>0.0</td><td>0.0</td><td>236.0</td><td>241.0</td><td>0.563</td><td>71.5</td><td>0.395</td><td>0.371</td><td>21800.0</td><td>1.65e-11</td><td>13.5</td><td>0.269</td><td>0.0158</td><td>8.95e-14</td><td>15.7</td><td>0.947</td><td>5.579145e-17</td><td>0.0</td><td>0.0</td><td>54.5</td><td>2.05</td><td>67.4</td><td>2.27</td><td>92.0</td><td>2.64</td><td>16.1</td><td>8.24e-07</td><td>58.6</td><td>2.12</td><td>76.8</td><td>2.42</td><td>30.6</td><td>8.24e-07</td><td>46.7</td><td>8.24e-07</td><td>13.5</td><td>13.5</td><td>13.4</td><td>13.4</td><td>13.3</td><td>13.3</td><td>5.13e-12</td><td>8.13e-14</td><td>1.65e-11</td><td>1.55e-13</td><td>0.31</td><td>0.00572</td><td>59.6</td><td>0.0</td><td>2.01e-11</td><td>2.01e-11</td><td>30.6</td><td>0.0</td><td>69.3</td><td>0.0</td><td>2.26</td><td>0.0</td><td>13.3</td><td>0.0</td><td>12.9</td><td>12.1</td><td>20.9</td><td>20.1</td><td>100.0</td><td>3.8e-06</td><td>100.0</td><td>3.8e-06</td><td>100.0</td><td>3.8e-06</td><td>nan</td><td>nan</td><td>nan</td><td>nan</td><td>1.45e-14</td><td>2.16e-14</td><td>9.35e-14</td><td>7.15e-14</td><td>0.155</td><td>0.26</td><td>100.0</td><td>72.4</td><td>0.0</td><td>0.0</td><td>45.7</td><td>0.0</td><td>3.77e-14</td><td>0.0</td><td>17.9</td><td>0.0</td><td>100.0</td><td>0.0</td><td>5.57</td><td>0.0</td><td>16.8</td><td>0.0</td><td>-inf</td><td>-inf</td><td>0.00283</td><td>0.00422</td><td>0.00693</td><td>0.00655</td><td>58.6</td><td>2.12</td><td>72.0</td><td>2.35</td><td>92.0</td><td>2.64</td><td>16.4</td><td>1.69e-06</td><td>58.6</td><td>2.12</td><td>76.8</td><td>2.42</td><td>31.2</td><td>1.69e-06</td><td>47.2</td><td>1.69e-06</td><td>13.4</td><td>13.5</td><td>13.4</td><td>13.4</td><td>13.3</td><td>13.3</td><td>5.42e-12</td><td>8.37e-14</td><td>1.69e-11</td><td>1.58e-13</td><td>0.32</td><td>0.00578</td><td>60.7</td><td>0.0</td><td>1.99e-11</td><td>1.99e-11</td><td>31.2</td><td>0.0</td><td>69.1</td><td>0.0</td><td>2.22</td><td>0.0</td><td>13.3</td><td>0.0</td><td>12.9</td><td>12.1</td><td>22.7</td><td>21.9</td><td>20.5</td><td>3.8e-06</td><td>100.0</td><td>3.8e-06</td><td>100.0</td><td>3.8e-06</td><td>nan</td><td>nan</td><td>nan</td><td>nan</td><td>1.67e-14</td><td>2.22e-14</td><td>8.77e-14</td><td>7.31e-14</td><td>0.191</td><td>0.299</td><td>100.0</td><td>72.4</td><td>0.0</td><td>0.0</td><td>32.8</td><td>0.0</td><td>8.01e-14</td><td>0.0</td><td>100.0</td><td>0.0</td><td>100.0</td><td>0.0</td><td>1.0</td><td>0.0</td><td>16.0</td><td>0.0</td><td>-inf</td><td>-inf</td><td>0.00309</td><td>0.0041</td><td>0.00616</td><td>0.00664</td><td>True</td><td>True</td><td>True</td><td>True</td><td>True</td><td>True</td><td>True</td><td>True</td><td>True</td><td>True</td><td></td></tr>\n",
       "<tr><td>VFID2158</td><td>208.103664</td><td>39.557592</td><td>2750.2</td><td>11.752256</td><td>WISEA J135224.88+393327.3</td><td>VFID2158-WISEAJ135224.88+393327.3</td><td>True</td><td>0.009167333333333333</td><td>0.009167333333333333</td><td>208.10359</td><td>39.55768</td><td>0.0</td><td>0.0</td><td>208.10382</td><td>39.55753</td><td>True</td><td>1.0061711</td><td>1.8889487</td><td>1.323115</td><td>VF-2017-05</td><td>[3397:3537,1738:1878]</td><td>0.044761848</td><td>70.9532</td><td>0.1032</td><td>70.9299</td><td>0.1064</td><td>15.223</td><td>0.0148</td><td>13.398</td><td>0.227</td><td>1.6616</td><td>0.0628</td><td>0.7636</td><td>0.0116</td><td>-40.6996</td><td>1.7227</td><td>0.0</td><td>0.5065245</td><td>0.0 .. 0.0</td><td>0.0 .. 0.0</td><td>0.0</td><td>0.0</td><td>0.0 .. 0.0</td><td>0.0 .. 0.0</td><td>0.0</td><td>0.0</td><td>0.0</td><td>0.0</td><td>0.0</td><td>0.0</td><td>0.0</td><td>0.0</td><td>0.0</td><td>0.0</td><td>0.0</td><td>0.0</td><td>0.0</td><td>0.0</td><td>0.0</td><td>0.0</td><td>0.0</td><td>0.0</td><td>0.0</td><td>0.0</td><td>0.0 .. 0.0</td><td>0.0 .. 0.0</td><td>0.0</td><td>0.0</td><td>0.0 .. 0.0</td><td>0.0 .. 0.0</td><td>0.0</td><td>0.0</td><td>0.0</td><td>0.0</td><td>69.5</td><td>69.7</td><td>0.159</td><td>35.2</td><td>0.517</td><td>0.511</td><td>2780.0</td><td>3.02e-12</td><td>15.3</td><td>0.196</td><td>0.0734</td><td>2.26e-14</td><td>17.2</td><td>0.443</td><td>5.579145e-17</td><td>0.0</td><td>0.0</td><td>16.0</td><td>1.15</td><td>23.6</td><td>1.38</td><td>26.5</td><td>1.45</td><td>3.58</td><td>7.56e-08</td><td>18.4</td><td>1.23</td><td>23.6</td><td>1.38</td><td>7.13</td><td>7.56e-08</td><td>13.5</td><td>7.56e-08</td><td>15.3</td><td>15.3</td><td>15.2</td><td>15.2</td><td>15.1</td><td>15.2</td><td>1.33e-12</td><td>4.09e-14</td><td>3.09e-12</td><td>6.66e-14</td><td>0.43</td><td>0.0162</td><td>15.2</td><td>0.0</td><td>3.67e-12</td><td>0.0</td><td>6.8</td><td>0.0</td><td>19.4</td><td>0.0</td><td>2.85</td><td>0.0</td><td>15.1</td><td>0.0</td><td>4.88</td><td>0.707</td><td>6.37</td><td>0.782</td><td>1.35</td><td>6.2e-08</td><td>2.37</td><td>6.2e-08</td><td>4.09</td><td>6.2e-08</td><td>17.3</td><td>17.3</td><td>17.2</td><td>17.2</td><td>2.51e-14</td><td>1.05e-14</td><td>2.7e-14</td><td>2.95e-14</td><td>0.928</td><td>1.09</td><td>5.44</td><td>32.1</td><td>0.0</td><td>0.0</td><td>3.99</td><td>0.0</td><td>2.65e-14</td><td>0.0</td><td>1.97</td><td>0.0</td><td>3.99</td><td>0.0</td><td>2.03</td><td>0.0</td><td>17.2</td><td>0.0</td><td>-inf</td><td>-inf</td><td>0.0189</td><td>0.00792</td><td>0.0011</td><td>0.0178</td><td>16.0</td><td>1.15</td><td>21.0</td><td>1.3</td><td>23.6</td><td>1.38</td><td>3.37</td><td>2.2e-07</td><td>16.0</td><td>1.15</td><td>23.6</td><td>1.38</td><td>6.76</td><td>2.2e-07</td><td>12.6</td><td>2.2e-07</td><td>15.3</td><td>15.3</td><td>15.2</td><td>15.2</td><td>15.2</td><td>15.2</td><td>1.4e-12</td><td>4.21e-14</td><td>3.15e-12</td><td>6.77e-14</td><td>0.445</td><td>0.0164</td><td>14.3</td><td>0.0</td><td>3.64e-12</td><td>0.0</td><td>6.42</td><td>0.0</td><td>18.1</td><td>0.0</td><td>2.82</td><td>0.0</td><td>15.1</td><td>0.0</td><td>4.88</td><td>0.707</td><td>6.37</td><td>0.782</td><td>1.26</td><td>1e-07</td><td>2.22</td><td>1e-07</td><td>3.91</td><td>1e-07</td><td>17.2</td><td>17.3</td><td>17.2</td><td>17.2</td><td>2.48e-14</td><td>1.06e-14</td><td>2.61e-14</td><td>3.02e-14</td><td>0.948</td><td>1.17</td><td>4.88</td><td>29.3</td><td>0.0</td><td>0.0</td><td>3.85</td><td>0.0</td><td>2.58e-14</td><td>0.0</td><td>1.82</td><td>0.0</td><td>3.84</td><td>0.0</td><td>2.11</td><td>0.0</td><td>17.2</td><td>0.0</td><td>-inf</td><td>-inf</td><td>0.0177</td><td>0.00758</td><td>0.000779</td><td>0.0183</td><td>True</td><td>True</td><td>True</td><td>True</td><td>True</td><td>True</td><td>True</td><td>True</td><td>True</td><td>True</td><td></td></tr>\n",
       "<tr><td>...</td><td>...</td><td>...</td><td>...</td><td>...</td><td>...</td><td>...</td><td>...</td><td>...</td><td>...</td><td>...</td><td>...</td><td>...</td><td>...</td><td>...</td><td>...</td><td>...</td><td>...</td><td>...</td><td>...</td><td>...</td><td>...</td><td>...</td><td>...</td><td>...</td><td>...</td><td>...</td><td>...</td><td>...</td><td>...</td><td>...</td><td>...</td><td>...</td><td>...</td><td>...</td><td>...</td><td>...</td><td>...</td><td>...</td><td>...</td><td>...</td><td>...</td><td>...</td><td>...</td><td>...</td><td>...</td><td>...</td><td>...</td><td>...</td><td>...</td><td>...</td><td>...</td><td>...</td><td>...</td><td>...</td><td>...</td><td>...</td><td>...</td><td>...</td><td>...</td><td>...</td><td>...</td><td>...</td><td>...</td><td>...</td><td>...</td><td>...</td><td>...</td><td>...</td><td>...</td><td>...</td><td>...</td><td>...</td><td>...</td><td>...</td><td>...</td><td>...</td><td>...</td><td>...</td><td>...</td><td>...</td><td>...</td><td>...</td><td>...</td><td>...</td><td>...</td><td>...</td><td>...</td><td>...</td><td>...</td><td>...</td><td>...</td><td>...</td><td>...</td><td>...</td><td>...</td><td>...</td><td>...</td><td>...</td><td>...</td><td>...</td><td>...</td><td>...</td><td>...</td><td>...</td><td>...</td><td>...</td><td>...</td><td>...</td><td>...</td><td>...</td><td>...</td><td>...</td><td>...</td><td>...</td><td>...</td><td>...</td><td>...</td><td>...</td><td>...</td><td>...</td><td>...</td><td>...</td><td>...</td><td>...</td><td>...</td><td>...</td><td>...</td><td>...</td><td>...</td><td>...</td><td>...</td><td>...</td><td>...</td><td>...</td><td>...</td><td>...</td><td>...</td><td>...</td><td>...</td><td>...</td><td>...</td><td>...</td><td>...</td><td>...</td><td>...</td><td>...</td><td>...</td><td>...</td><td>...</td><td>...</td><td>...</td><td>...</td><td>...</td><td>...</td><td>...</td><td>...</td><td>...</td><td>...</td><td>...</td><td>...</td><td>...</td><td>...</td><td>...</td><td>...</td><td>...</td><td>...</td><td>...</td><td>...</td><td>...</td><td>...</td><td>...</td><td>...</td><td>...</td><td>...</td><td>...</td><td>...</td><td>...</td><td>...</td><td>...</td><td>...</td><td>...</td><td>...</td><td>...</td><td>...</td><td>...</td><td>...</td><td>...</td><td>...</td><td>...</td><td>...</td><td>...</td><td>...</td><td>...</td><td>...</td><td>...</td><td>...</td><td>...</td><td>...</td><td>...</td><td>...</td><td>...</td><td>...</td><td>...</td><td>...</td><td>...</td><td>...</td><td>...</td><td>...</td><td>...</td><td>...</td><td>...</td><td>...</td><td>...</td><td>...</td><td>...</td><td>...</td><td>...</td><td>...</td><td>...</td><td>...</td><td>...</td><td>...</td><td>...</td><td>...</td><td>...</td><td>...</td><td>...</td><td>...</td><td>...</td><td>...</td><td>...</td><td>...</td><td>...</td><td>...</td><td>...</td><td>...</td><td>...</td><td>...</td><td>...</td><td>...</td><td>...</td><td>...</td><td>...</td><td>...</td><td>...</td><td>...</td><td>...</td><td>...</td><td>...</td><td>...</td><td>...</td><td>...</td><td>...</td><td>...</td><td>...</td><td>...</td><td>...</td><td>...</td><td>...</td><td>...</td><td>...</td><td>...</td><td>...</td><td>...</td><td>...</td><td>...</td></tr>\n",
       "<tr><td>VFID6121</td><td>217.9707675</td><td>3.3801019</td><td>1529.3</td><td>10.095347</td><td>SDSS J143152.98+032248.3</td><td>VFID6121-SDSSJ143152.98+032248.3</td><td>True</td><td>0.005097666666666666</td><td>0.005097666666666666</td><td>0.0</td><td>0.0</td><td>0.0</td><td>0.0</td><td>0.0</td><td>0.0</td><td>True</td><td>1.0800396</td><td>0.0</td><td>0.0</td><td>v19p140</td><td></td><td>0.0</td><td>0.0</td><td>0.0</td><td>0.0</td><td>0.0</td><td>0.0</td><td>0.0</td><td>0.0</td><td>0.0</td><td>0.0</td><td>0.0</td><td>0.0</td><td>0.0</td><td>0.0</td><td>0.0</td><td>0.0</td><td>0.0</td><td>0.0 .. 0.0</td><td>0.0 .. 0.0</td><td>0.0</td><td>0.0</td><td>0.0 .. 0.0</td><td>0.0 .. 0.0</td><td>0.0</td><td>0.0</td><td>0.0</td><td>0.0</td><td>0.0</td><td>0.0</td><td>0.0</td><td>0.0</td><td>0.0</td><td>0.0</td><td>0.0</td><td>0.0</td><td>0.0</td><td>0.0</td><td>0.0</td><td>0.0</td><td>0.0</td><td>0.0</td><td>0.0</td><td>0.0</td><td>0.0 .. 0.0</td><td>0.0 .. 0.0</td><td>0.0</td><td>0.0</td><td>0.0 .. 0.0</td><td>0.0 .. 0.0</td><td>0.0</td><td>0.0</td><td>0.0</td><td>0.0</td><td>0.0</td><td>0.0</td><td>0.0</td><td>0.0</td><td>0.0</td><td>0.0</td><td>0.0</td><td>0.0</td><td>0.0</td><td>0.0</td><td>0.0</td><td>0.0</td><td>0.0</td><td>0.0</td><td>0.0</td><td>0.0</td><td>0.0</td><td>0.0</td><td>0.0</td><td>0.0</td><td>0.0</td><td>0.0</td><td>0.0</td><td>0.0</td><td>0.0</td><td>0.0</td><td>0.0</td><td>0.0</td><td>0.0</td><td>0.0</td><td>0.0</td><td>0.0</td><td>0.0</td><td>0.0</td><td>0.0</td><td>0.0</td><td>0.0</td><td>0.0</td><td>0.0</td><td>0.0</td><td>0.0</td><td>0.0</td><td>0.0</td><td>0.0</td><td>0.0</td><td>0.0</td><td>0.0</td><td>0.0</td><td>0.0</td><td>0.0</td><td>0.0</td><td>0.0</td><td>0.0</td><td>0.0</td><td>0.0</td><td>0.0</td><td>0.0</td><td>0.0</td><td>0.0</td><td>0.0</td><td>0.0</td><td>0.0</td><td>0.0</td><td>0.0</td><td>0.0</td><td>0.0</td><td>0.0</td><td>0.0</td><td>0.0</td><td>0.0</td><td>0.0</td><td>0.0</td><td>0.0</td><td>0.0</td><td>0.0</td><td>0.0</td><td>0.0</td><td>0.0</td><td>0.0</td><td>0.0</td><td>0.0</td><td>0.0</td><td>0.0</td><td>0.0</td><td>0.0</td><td>0.0</td><td>0.0</td><td>0.0</td><td>0.0</td><td>0.0</td><td>0.0</td><td>0.0</td><td>0.0</td><td>0.0</td><td>0.0</td><td>0.0</td><td>0.0</td><td>0.0</td><td>0.0</td><td>0.0</td><td>0.0</td><td>0.0</td><td>0.0</td><td>0.0</td><td>0.0</td><td>0.0</td><td>0.0</td><td>0.0</td><td>0.0</td><td>0.0</td><td>0.0</td><td>0.0</td><td>0.0</td><td>0.0</td><td>0.0</td><td>0.0</td><td>0.0</td><td>0.0</td><td>0.0</td><td>0.0</td><td>0.0</td><td>0.0</td><td>0.0</td><td>0.0</td><td>0.0</td><td>0.0</td><td>0.0</td><td>0.0</td><td>0.0</td><td>0.0</td><td>0.0</td><td>0.0</td><td>0.0</td><td>0.0</td><td>0.0</td><td>0.0</td><td>0.0</td><td>0.0</td><td>0.0</td><td>0.0</td><td>0.0</td><td>0.0</td><td>0.0</td><td>0.0</td><td>0.0</td><td>0.0</td><td>0.0</td><td>0.0</td><td>0.0</td><td>0.0</td><td>0.0</td><td>0.0</td><td>0.0</td><td>0.0</td><td>0.0</td><td>0.0</td><td>0.0</td><td>0.0</td><td>0.0</td><td>0.0</td><td>0.0</td><td>0.0</td><td>0.0</td><td>0.0</td><td>0.0</td><td>0.0</td><td>0.0</td><td>0.0</td><td>0.0</td><td>0.0</td><td>0.0</td><td>0.0</td><td>0.0</td><td>0.0</td><td>0.0</td><td>0.0</td><td>0.0</td><td>0.0</td><td>0.0</td><td>0.0</td><td>0.0</td><td>True</td><td>True</td><td>True</td><td>True</td><td>True</td><td>True</td><td>True</td><td>True</td><td>True</td><td>True</td><td></td></tr>\n",
       "<tr><td>VFID6125</td><td>217.68124799999998</td><td>3.345</td><td>1526.0</td><td>24.5091</td><td>GALEXASC J143043.52+032043.4</td><td>VFID6125-GALEXASCJ143043.52+032043.4</td><td>True</td><td>0.005086666666666666</td><td>0.005086666666666666</td><td>0.0</td><td>0.0</td><td>0.0</td><td>0.0</td><td>0.0</td><td>0.0</td><td>True</td><td>1.0800492</td><td>0.0</td><td>0.0</td><td>v19p140</td><td></td><td>0.0</td><td>0.0</td><td>0.0</td><td>0.0</td><td>0.0</td><td>0.0</td><td>0.0</td><td>0.0</td><td>0.0</td><td>0.0</td><td>0.0</td><td>0.0</td><td>0.0</td><td>0.0</td><td>0.0</td><td>0.0</td><td>0.0</td><td>0.0 .. 0.0</td><td>0.0 .. 0.0</td><td>0.0</td><td>0.0</td><td>0.0 .. 0.0</td><td>0.0 .. 0.0</td><td>0.0</td><td>0.0</td><td>0.0</td><td>0.0</td><td>0.0</td><td>0.0</td><td>0.0</td><td>0.0</td><td>0.0</td><td>0.0</td><td>0.0</td><td>0.0</td><td>0.0</td><td>0.0</td><td>0.0</td><td>0.0</td><td>0.0</td><td>0.0</td><td>0.0</td><td>0.0</td><td>0.0 .. 0.0</td><td>0.0 .. 0.0</td><td>0.0</td><td>0.0</td><td>0.0 .. 0.0</td><td>0.0 .. 0.0</td><td>0.0</td><td>0.0</td><td>0.0</td><td>0.0</td><td>0.0</td><td>0.0</td><td>0.0</td><td>0.0</td><td>0.0</td><td>0.0</td><td>0.0</td><td>0.0</td><td>0.0</td><td>0.0</td><td>0.0</td><td>0.0</td><td>0.0</td><td>0.0</td><td>0.0</td><td>0.0</td><td>0.0</td><td>0.0</td><td>0.0</td><td>0.0</td><td>0.0</td><td>0.0</td><td>0.0</td><td>0.0</td><td>0.0</td><td>0.0</td><td>0.0</td><td>0.0</td><td>0.0</td><td>0.0</td><td>0.0</td><td>0.0</td><td>0.0</td><td>0.0</td><td>0.0</td><td>0.0</td><td>0.0</td><td>0.0</td><td>0.0</td><td>0.0</td><td>0.0</td><td>0.0</td><td>0.0</td><td>0.0</td><td>0.0</td><td>0.0</td><td>0.0</td><td>0.0</td><td>0.0</td><td>0.0</td><td>0.0</td><td>0.0</td><td>0.0</td><td>0.0</td><td>0.0</td><td>0.0</td><td>0.0</td><td>0.0</td><td>0.0</td><td>0.0</td><td>0.0</td><td>0.0</td><td>0.0</td><td>0.0</td><td>0.0</td><td>0.0</td><td>0.0</td><td>0.0</td><td>0.0</td><td>0.0</td><td>0.0</td><td>0.0</td><td>0.0</td><td>0.0</td><td>0.0</td><td>0.0</td><td>0.0</td><td>0.0</td><td>0.0</td><td>0.0</td><td>0.0</td><td>0.0</td><td>0.0</td><td>0.0</td><td>0.0</td><td>0.0</td><td>0.0</td><td>0.0</td><td>0.0</td><td>0.0</td><td>0.0</td><td>0.0</td><td>0.0</td><td>0.0</td><td>0.0</td><td>0.0</td><td>0.0</td><td>0.0</td><td>0.0</td><td>0.0</td><td>0.0</td><td>0.0</td><td>0.0</td><td>0.0</td><td>0.0</td><td>0.0</td><td>0.0</td><td>0.0</td><td>0.0</td><td>0.0</td><td>0.0</td><td>0.0</td><td>0.0</td><td>0.0</td><td>0.0</td><td>0.0</td><td>0.0</td><td>0.0</td><td>0.0</td><td>0.0</td><td>0.0</td><td>0.0</td><td>0.0</td><td>0.0</td><td>0.0</td><td>0.0</td><td>0.0</td><td>0.0</td><td>0.0</td><td>0.0</td><td>0.0</td><td>0.0</td><td>0.0</td><td>0.0</td><td>0.0</td><td>0.0</td><td>0.0</td><td>0.0</td><td>0.0</td><td>0.0</td><td>0.0</td><td>0.0</td><td>0.0</td><td>0.0</td><td>0.0</td><td>0.0</td><td>0.0</td><td>0.0</td><td>0.0</td><td>0.0</td><td>0.0</td><td>0.0</td><td>0.0</td><td>0.0</td><td>0.0</td><td>0.0</td><td>0.0</td><td>0.0</td><td>0.0</td><td>0.0</td><td>0.0</td><td>0.0</td><td>0.0</td><td>0.0</td><td>0.0</td><td>0.0</td><td>0.0</td><td>0.0</td><td>0.0</td><td>0.0</td><td>0.0</td><td>0.0</td><td>0.0</td><td>0.0</td><td>0.0</td><td>0.0</td><td>0.0</td><td>0.0</td><td>0.0</td><td>0.0</td><td>0.0</td><td>True</td><td>True</td><td>True</td><td>True</td><td>True</td><td>True</td><td>True</td><td>True</td><td>True</td><td>True</td><td></td></tr>\n",
       "<tr><td>VFID6135</td><td>218.147715</td><td>3.281035</td><td>1530.9</td><td>13.216646</td><td>2MASS J14323540+0316523</td><td>VFID6135-2MASSJ14323540+0316523</td><td>True</td><td>0.005103</td><td>0.005103</td><td>0.0</td><td>0.0</td><td>0.0</td><td>0.0</td><td>0.0</td><td>0.0</td><td>True</td><td>1.0800322</td><td>0.0</td><td>0.0</td><td>v19p140</td><td></td><td>0.0</td><td>0.0</td><td>0.0</td><td>0.0</td><td>0.0</td><td>0.0</td><td>0.0</td><td>0.0</td><td>0.0</td><td>0.0</td><td>0.0</td><td>0.0</td><td>0.0</td><td>0.0</td><td>0.0</td><td>0.0</td><td>0.0</td><td>0.0 .. 0.0</td><td>0.0 .. 0.0</td><td>0.0</td><td>0.0</td><td>0.0 .. 0.0</td><td>0.0 .. 0.0</td><td>0.0</td><td>0.0</td><td>0.0</td><td>0.0</td><td>0.0</td><td>0.0</td><td>0.0</td><td>0.0</td><td>0.0</td><td>0.0</td><td>0.0</td><td>0.0</td><td>0.0</td><td>0.0</td><td>0.0</td><td>0.0</td><td>0.0</td><td>0.0</td><td>0.0</td><td>0.0</td><td>0.0 .. 0.0</td><td>0.0 .. 0.0</td><td>0.0</td><td>0.0</td><td>0.0 .. 0.0</td><td>0.0 .. 0.0</td><td>0.0</td><td>0.0</td><td>0.0</td><td>0.0</td><td>0.0</td><td>0.0</td><td>0.0</td><td>0.0</td><td>0.0</td><td>0.0</td><td>0.0</td><td>0.0</td><td>0.0</td><td>0.0</td><td>0.0</td><td>0.0</td><td>0.0</td><td>0.0</td><td>0.0</td><td>0.0</td><td>0.0</td><td>0.0</td><td>0.0</td><td>0.0</td><td>0.0</td><td>0.0</td><td>0.0</td><td>0.0</td><td>0.0</td><td>0.0</td><td>0.0</td><td>0.0</td><td>0.0</td><td>0.0</td><td>0.0</td><td>0.0</td><td>0.0</td><td>0.0</td><td>0.0</td><td>0.0</td><td>0.0</td><td>0.0</td><td>0.0</td><td>0.0</td><td>0.0</td><td>0.0</td><td>0.0</td><td>0.0</td><td>0.0</td><td>0.0</td><td>0.0</td><td>0.0</td><td>0.0</td><td>0.0</td><td>0.0</td><td>0.0</td><td>0.0</td><td>0.0</td><td>0.0</td><td>0.0</td><td>0.0</td><td>0.0</td><td>0.0</td><td>0.0</td><td>0.0</td><td>0.0</td><td>0.0</td><td>0.0</td><td>0.0</td><td>0.0</td><td>0.0</td><td>0.0</td><td>0.0</td><td>0.0</td><td>0.0</td><td>0.0</td><td>0.0</td><td>0.0</td><td>0.0</td><td>0.0</td><td>0.0</td><td>0.0</td><td>0.0</td><td>0.0</td><td>0.0</td><td>0.0</td><td>0.0</td><td>0.0</td><td>0.0</td><td>0.0</td><td>0.0</td><td>0.0</td><td>0.0</td><td>0.0</td><td>0.0</td><td>0.0</td><td>0.0</td><td>0.0</td><td>0.0</td><td>0.0</td><td>0.0</td><td>0.0</td><td>0.0</td><td>0.0</td><td>0.0</td><td>0.0</td><td>0.0</td><td>0.0</td><td>0.0</td><td>0.0</td><td>0.0</td><td>0.0</td><td>0.0</td><td>0.0</td><td>0.0</td><td>0.0</td><td>0.0</td><td>0.0</td><td>0.0</td><td>0.0</td><td>0.0</td><td>0.0</td><td>0.0</td><td>0.0</td><td>0.0</td><td>0.0</td><td>0.0</td><td>0.0</td><td>0.0</td><td>0.0</td><td>0.0</td><td>0.0</td><td>0.0</td><td>0.0</td><td>0.0</td><td>0.0</td><td>0.0</td><td>0.0</td><td>0.0</td><td>0.0</td><td>0.0</td><td>0.0</td><td>0.0</td><td>0.0</td><td>0.0</td><td>0.0</td><td>0.0</td><td>0.0</td><td>0.0</td><td>0.0</td><td>0.0</td><td>0.0</td><td>0.0</td><td>0.0</td><td>0.0</td><td>0.0</td><td>0.0</td><td>0.0</td><td>0.0</td><td>0.0</td><td>0.0</td><td>0.0</td><td>0.0</td><td>0.0</td><td>0.0</td><td>0.0</td><td>0.0</td><td>0.0</td><td>0.0</td><td>0.0</td><td>0.0</td><td>0.0</td><td>0.0</td><td>0.0</td><td>0.0</td><td>0.0</td><td>0.0</td><td>0.0</td><td>0.0</td><td>0.0</td><td>0.0</td><td>0.0</td><td>0.0</td><td>0.0</td><td>0.0</td><td>True</td><td>True</td><td>True</td><td>True</td><td>True</td><td>True</td><td>True</td><td>True</td><td>True</td><td>True</td><td></td></tr>\n",
       "<tr><td>VFID6139</td><td>217.8189285</td><td>3.2567102</td><td>1517.7</td><td>15.780518</td><td>N/A</td><td>VFID6139-NA</td><td>True</td><td>0.005059</td><td>0.005059</td><td>0.0</td><td>0.0</td><td>0.0</td><td>0.0</td><td>0.0</td><td>0.0</td><td>True</td><td>1.080038</td><td>0.0</td><td>0.0</td><td>v19p140</td><td></td><td>0.0</td><td>0.0</td><td>0.0</td><td>0.0</td><td>0.0</td><td>0.0</td><td>0.0</td><td>0.0</td><td>0.0</td><td>0.0</td><td>0.0</td><td>0.0</td><td>0.0</td><td>0.0</td><td>0.0</td><td>0.0</td><td>0.0</td><td>0.0 .. 0.0</td><td>0.0 .. 0.0</td><td>0.0</td><td>0.0</td><td>0.0 .. 0.0</td><td>0.0 .. 0.0</td><td>0.0</td><td>0.0</td><td>0.0</td><td>0.0</td><td>0.0</td><td>0.0</td><td>0.0</td><td>0.0</td><td>0.0</td><td>0.0</td><td>0.0</td><td>0.0</td><td>0.0</td><td>0.0</td><td>0.0</td><td>0.0</td><td>0.0</td><td>0.0</td><td>0.0</td><td>0.0</td><td>0.0 .. 0.0</td><td>0.0 .. 0.0</td><td>0.0</td><td>0.0</td><td>0.0 .. 0.0</td><td>0.0 .. 0.0</td><td>0.0</td><td>0.0</td><td>0.0</td><td>0.0</td><td>0.0</td><td>0.0</td><td>0.0</td><td>0.0</td><td>0.0</td><td>0.0</td><td>0.0</td><td>0.0</td><td>0.0</td><td>0.0</td><td>0.0</td><td>0.0</td><td>0.0</td><td>0.0</td><td>0.0</td><td>0.0</td><td>0.0</td><td>0.0</td><td>0.0</td><td>0.0</td><td>0.0</td><td>0.0</td><td>0.0</td><td>0.0</td><td>0.0</td><td>0.0</td><td>0.0</td><td>0.0</td><td>0.0</td><td>0.0</td><td>0.0</td><td>0.0</td><td>0.0</td><td>0.0</td><td>0.0</td><td>0.0</td><td>0.0</td><td>0.0</td><td>0.0</td><td>0.0</td><td>0.0</td><td>0.0</td><td>0.0</td><td>0.0</td><td>0.0</td><td>0.0</td><td>0.0</td><td>0.0</td><td>0.0</td><td>0.0</td><td>0.0</td><td>0.0</td><td>0.0</td><td>0.0</td><td>0.0</td><td>0.0</td><td>0.0</td><td>0.0</td><td>0.0</td><td>0.0</td><td>0.0</td><td>0.0</td><td>0.0</td><td>0.0</td><td>0.0</td><td>0.0</td><td>0.0</td><td>0.0</td><td>0.0</td><td>0.0</td><td>0.0</td><td>0.0</td><td>0.0</td><td>0.0</td><td>0.0</td><td>0.0</td><td>0.0</td><td>0.0</td><td>0.0</td><td>0.0</td><td>0.0</td><td>0.0</td><td>0.0</td><td>0.0</td><td>0.0</td><td>0.0</td><td>0.0</td><td>0.0</td><td>0.0</td><td>0.0</td><td>0.0</td><td>0.0</td><td>0.0</td><td>0.0</td><td>0.0</td><td>0.0</td><td>0.0</td><td>0.0</td><td>0.0</td><td>0.0</td><td>0.0</td><td>0.0</td><td>0.0</td><td>0.0</td><td>0.0</td><td>0.0</td><td>0.0</td><td>0.0</td><td>0.0</td><td>0.0</td><td>0.0</td><td>0.0</td><td>0.0</td><td>0.0</td><td>0.0</td><td>0.0</td><td>0.0</td><td>0.0</td><td>0.0</td><td>0.0</td><td>0.0</td><td>0.0</td><td>0.0</td><td>0.0</td><td>0.0</td><td>0.0</td><td>0.0</td><td>0.0</td><td>0.0</td><td>0.0</td><td>0.0</td><td>0.0</td><td>0.0</td><td>0.0</td><td>0.0</td><td>0.0</td><td>0.0</td><td>0.0</td><td>0.0</td><td>0.0</td><td>0.0</td><td>0.0</td><td>0.0</td><td>0.0</td><td>0.0</td><td>0.0</td><td>0.0</td><td>0.0</td><td>0.0</td><td>0.0</td><td>0.0</td><td>0.0</td><td>0.0</td><td>0.0</td><td>0.0</td><td>0.0</td><td>0.0</td><td>0.0</td><td>0.0</td><td>0.0</td><td>0.0</td><td>0.0</td><td>0.0</td><td>0.0</td><td>0.0</td><td>0.0</td><td>0.0</td><td>0.0</td><td>0.0</td><td>0.0</td><td>0.0</td><td>0.0</td><td>0.0</td><td>0.0</td><td>0.0</td><td>0.0</td><td>0.0</td><td>0.0</td><td>0.0</td><td>0.0</td><td>0.0</td><td>True</td><td>True</td><td>True</td><td>True</td><td>True</td><td>True</td><td>True</td><td>True</td><td>True</td><td>True</td><td></td></tr>\n",
       "<tr><td>VFID6174</td><td>217.8626835</td><td>3.0081905</td><td>1419.6</td><td>33.275246</td><td>IC 1024</td><td>VFID6174-IC1024</td><td>True</td><td>0.004732</td><td>0.004732</td><td>0.0</td><td>0.0</td><td>0.0</td><td>0.0</td><td>0.0</td><td>0.0</td><td>True</td><td>1.0764915</td><td>0.0</td><td>0.0</td><td>v19p140</td><td></td><td>0.0</td><td>0.0</td><td>0.0</td><td>0.0</td><td>0.0</td><td>0.0</td><td>0.0</td><td>0.0</td><td>0.0</td><td>0.0</td><td>0.0</td><td>0.0</td><td>0.0</td><td>0.0</td><td>0.0</td><td>0.0</td><td>0.0</td><td>0.0 .. 0.0</td><td>0.0 .. 0.0</td><td>0.0</td><td>0.0</td><td>0.0 .. 0.0</td><td>0.0 .. 0.0</td><td>0.0</td><td>0.0</td><td>0.0</td><td>0.0</td><td>0.0</td><td>0.0</td><td>0.0</td><td>0.0</td><td>0.0</td><td>0.0</td><td>0.0</td><td>0.0</td><td>0.0</td><td>0.0</td><td>0.0</td><td>0.0</td><td>0.0</td><td>0.0</td><td>0.0</td><td>0.0</td><td>0.0 .. 0.0</td><td>0.0 .. 0.0</td><td>0.0</td><td>0.0</td><td>0.0 .. 0.0</td><td>0.0 .. 0.0</td><td>0.0</td><td>0.0</td><td>0.0</td><td>0.0</td><td>0.0</td><td>0.0</td><td>0.0</td><td>0.0</td><td>0.0</td><td>0.0</td><td>0.0</td><td>0.0</td><td>0.0</td><td>0.0</td><td>0.0</td><td>0.0</td><td>0.0</td><td>0.0</td><td>0.0</td><td>0.0</td><td>0.0</td><td>0.0</td><td>0.0</td><td>0.0</td><td>0.0</td><td>0.0</td><td>0.0</td><td>0.0</td><td>0.0</td><td>0.0</td><td>0.0</td><td>0.0</td><td>0.0</td><td>0.0</td><td>0.0</td><td>0.0</td><td>0.0</td><td>0.0</td><td>0.0</td><td>0.0</td><td>0.0</td><td>0.0</td><td>0.0</td><td>0.0</td><td>0.0</td><td>0.0</td><td>0.0</td><td>0.0</td><td>0.0</td><td>0.0</td><td>0.0</td><td>0.0</td><td>0.0</td><td>0.0</td><td>0.0</td><td>0.0</td><td>0.0</td><td>0.0</td><td>0.0</td><td>0.0</td><td>0.0</td><td>0.0</td><td>0.0</td><td>0.0</td><td>0.0</td><td>0.0</td><td>0.0</td><td>0.0</td><td>0.0</td><td>0.0</td><td>0.0</td><td>0.0</td><td>0.0</td><td>0.0</td><td>0.0</td><td>0.0</td><td>0.0</td><td>0.0</td><td>0.0</td><td>0.0</td><td>0.0</td><td>0.0</td><td>0.0</td><td>0.0</td><td>0.0</td><td>0.0</td><td>0.0</td><td>0.0</td><td>0.0</td><td>0.0</td><td>0.0</td><td>0.0</td><td>0.0</td><td>0.0</td><td>0.0</td><td>0.0</td><td>0.0</td><td>0.0</td><td>0.0</td><td>0.0</td><td>0.0</td><td>0.0</td><td>0.0</td><td>0.0</td><td>0.0</td><td>0.0</td><td>0.0</td><td>0.0</td><td>0.0</td><td>0.0</td><td>0.0</td><td>0.0</td><td>0.0</td><td>0.0</td><td>0.0</td><td>0.0</td><td>0.0</td><td>0.0</td><td>0.0</td><td>0.0</td><td>0.0</td><td>0.0</td><td>0.0</td><td>0.0</td><td>0.0</td><td>0.0</td><td>0.0</td><td>0.0</td><td>0.0</td><td>0.0</td><td>0.0</td><td>0.0</td><td>0.0</td><td>0.0</td><td>0.0</td><td>0.0</td><td>0.0</td><td>0.0</td><td>0.0</td><td>0.0</td><td>0.0</td><td>0.0</td><td>0.0</td><td>0.0</td><td>0.0</td><td>0.0</td><td>0.0</td><td>0.0</td><td>0.0</td><td>0.0</td><td>0.0</td><td>0.0</td><td>0.0</td><td>0.0</td><td>0.0</td><td>0.0</td><td>0.0</td><td>0.0</td><td>0.0</td><td>0.0</td><td>0.0</td><td>0.0</td><td>0.0</td><td>0.0</td><td>0.0</td><td>0.0</td><td>0.0</td><td>0.0</td><td>0.0</td><td>0.0</td><td>0.0</td><td>0.0</td><td>0.0</td><td>0.0</td><td>0.0</td><td>0.0</td><td>0.0</td><td>0.0</td><td>0.0</td><td>0.0</td><td>0.0</td><td>0.0</td><td>0.0</td><td>0.0</td><td>0.0</td><td>True</td><td>True</td><td>True</td><td>True</td><td>True</td><td>True</td><td>True</td><td>True</td><td>True</td><td>True</td><td></td></tr>\n",
       "<tr><td>VFID6192</td><td>218.187975</td><td>2.9147897</td><td>1527.7</td><td>19.912292</td><td>CGCG 047-085</td><td>VFID6192-CGCG047-085</td><td>True</td><td>0.005092333333333333</td><td>0.005092333333333333</td><td>0.0</td><td>0.0</td><td>0.0</td><td>0.0</td><td>0.0</td><td>0.0</td><td>True</td><td>1.0800452</td><td>0.0</td><td>0.0</td><td>v19p140</td><td></td><td>0.0</td><td>0.0</td><td>0.0</td><td>0.0</td><td>0.0</td><td>0.0</td><td>0.0</td><td>0.0</td><td>0.0</td><td>0.0</td><td>0.0</td><td>0.0</td><td>0.0</td><td>0.0</td><td>0.0</td><td>0.0</td><td>0.0</td><td>0.0 .. 0.0</td><td>0.0 .. 0.0</td><td>0.0</td><td>0.0</td><td>0.0 .. 0.0</td><td>0.0 .. 0.0</td><td>0.0</td><td>0.0</td><td>0.0</td><td>0.0</td><td>0.0</td><td>0.0</td><td>0.0</td><td>0.0</td><td>0.0</td><td>0.0</td><td>0.0</td><td>0.0</td><td>0.0</td><td>0.0</td><td>0.0</td><td>0.0</td><td>0.0</td><td>0.0</td><td>0.0</td><td>0.0</td><td>0.0 .. 0.0</td><td>0.0 .. 0.0</td><td>0.0</td><td>0.0</td><td>0.0 .. 0.0</td><td>0.0 .. 0.0</td><td>0.0</td><td>0.0</td><td>0.0</td><td>0.0</td><td>0.0</td><td>0.0</td><td>0.0</td><td>0.0</td><td>0.0</td><td>0.0</td><td>0.0</td><td>0.0</td><td>0.0</td><td>0.0</td><td>0.0</td><td>0.0</td><td>0.0</td><td>0.0</td><td>0.0</td><td>0.0</td><td>0.0</td><td>0.0</td><td>0.0</td><td>0.0</td><td>0.0</td><td>0.0</td><td>0.0</td><td>0.0</td><td>0.0</td><td>0.0</td><td>0.0</td><td>0.0</td><td>0.0</td><td>0.0</td><td>0.0</td><td>0.0</td><td>0.0</td><td>0.0</td><td>0.0</td><td>0.0</td><td>0.0</td><td>0.0</td><td>0.0</td><td>0.0</td><td>0.0</td><td>0.0</td><td>0.0</td><td>0.0</td><td>0.0</td><td>0.0</td><td>0.0</td><td>0.0</td><td>0.0</td><td>0.0</td><td>0.0</td><td>0.0</td><td>0.0</td><td>0.0</td><td>0.0</td><td>0.0</td><td>0.0</td><td>0.0</td><td>0.0</td><td>0.0</td><td>0.0</td><td>0.0</td><td>0.0</td><td>0.0</td><td>0.0</td><td>0.0</td><td>0.0</td><td>0.0</td><td>0.0</td><td>0.0</td><td>0.0</td><td>0.0</td><td>0.0</td><td>0.0</td><td>0.0</td><td>0.0</td><td>0.0</td><td>0.0</td><td>0.0</td><td>0.0</td><td>0.0</td><td>0.0</td><td>0.0</td><td>0.0</td><td>0.0</td><td>0.0</td><td>0.0</td><td>0.0</td><td>0.0</td><td>0.0</td><td>0.0</td><td>0.0</td><td>0.0</td><td>0.0</td><td>0.0</td><td>0.0</td><td>0.0</td><td>0.0</td><td>0.0</td><td>0.0</td><td>0.0</td><td>0.0</td><td>0.0</td><td>0.0</td><td>0.0</td><td>0.0</td><td>0.0</td><td>0.0</td><td>0.0</td><td>0.0</td><td>0.0</td><td>0.0</td><td>0.0</td><td>0.0</td><td>0.0</td><td>0.0</td><td>0.0</td><td>0.0</td><td>0.0</td><td>0.0</td><td>0.0</td><td>0.0</td><td>0.0</td><td>0.0</td><td>0.0</td><td>0.0</td><td>0.0</td><td>0.0</td><td>0.0</td><td>0.0</td><td>0.0</td><td>0.0</td><td>0.0</td><td>0.0</td><td>0.0</td><td>0.0</td><td>0.0</td><td>0.0</td><td>0.0</td><td>0.0</td><td>0.0</td><td>0.0</td><td>0.0</td><td>0.0</td><td>0.0</td><td>0.0</td><td>0.0</td><td>0.0</td><td>0.0</td><td>0.0</td><td>0.0</td><td>0.0</td><td>0.0</td><td>0.0</td><td>0.0</td><td>0.0</td><td>0.0</td><td>0.0</td><td>0.0</td><td>0.0</td><td>0.0</td><td>0.0</td><td>0.0</td><td>0.0</td><td>0.0</td><td>0.0</td><td>0.0</td><td>0.0</td><td>0.0</td><td>0.0</td><td>0.0</td><td>0.0</td><td>0.0</td><td>0.0</td><td>0.0</td><td>0.0</td><td>0.0</td><td>0.0</td><td>0.0</td><td>0.0</td><td>0.0</td><td>True</td><td>True</td><td>True</td><td>True</td><td>True</td><td>True</td><td>True</td><td>True</td><td>True</td><td>True</td><td></td></tr>\n",
       "<tr><td>VFID6357</td><td>221.23306200000002</td><td>1.9549057</td><td>1711.4</td><td>217.3308</td><td>NGC 5746</td><td>VFID6357-NGC5746</td><td>True</td><td>0.005704666666666667</td><td>0.005704666666666667</td><td>221.2321</td><td>1.9552078</td><td>0.0</td><td>0.0</td><td>221.23273</td><td>1.9544032</td><td>True</td><td>1.0634286</td><td>1.4309635</td><td>1.3746524</td><td>v19p149</td><td>[1175:2683,4521:6029]</td><td>0.03517246</td><td>764.3333</td><td>0.022</td><td>757.4073</td><td>0.118</td><td>10.3965</td><td>0.0008</td><td>214.9246</td><td>0.2105</td><td>1.3032</td><td>0.002</td><td>0.1715</td><td>1e-04</td><td>-10.5283</td><td>0.0092</td><td>0.0</td><td>0.6675577</td><td>0.0 .. 0.0</td><td>0.0 .. 0.0</td><td>0.0</td><td>0.0</td><td>0.0 .. 0.0</td><td>0.0 .. 0.0</td><td>0.0</td><td>0.0</td><td>0.0</td><td>0.0</td><td>0.0</td><td>0.0</td><td>0.0</td><td>0.0</td><td>0.0</td><td>0.0</td><td>0.0</td><td>0.0</td><td>0.0</td><td>0.0</td><td>0.0</td><td>0.0</td><td>0.0</td><td>0.0</td><td>0.0</td><td>0.0</td><td>0.0 .. 0.0</td><td>0.0 .. 0.0</td><td>0.0</td><td>0.0</td><td>0.0 .. 0.0</td><td>0.0 .. 0.0</td><td>0.0</td><td>0.0</td><td>0.0</td><td>0.0</td><td>758.0</td><td>749.0</td><td>0.833</td><td>80.3</td><td>0.665</td><td>0.497</td><td>270000.0</td><td>3.37e-10</td><td>10.2</td><td>0.483</td><td>0.014</td><td>1.15e-12</td><td>12.7</td><td>0.665</td><td>3.2893433e-17</td><td>0.0</td><td>0.0</td><td>225.0</td><td>3.62</td><td>247.0</td><td>3.8</td><td>0.0</td><td>0.0</td><td>39.5</td><td>2.26e-06</td><td>232.0</td><td>3.68</td><td>247.0</td><td>3.8</td><td>79.4</td><td>2.26e-06</td><td>128.0</td><td>2.26e-06</td><td>10.2</td><td>10.2</td><td>10.2</td><td>10.2</td><td>0.0</td><td>0.0</td><td>1.47e-10</td><td>1.85e-13</td><td>3.32e-10</td><td>2.82e-13</td><td>0.444</td><td>0.000674</td><td>182.0</td><td>0.0</td><td>3.36e-10</td><td>3.36e-10</td><td>79.4</td><td>0.0</td><td>172.0</td><td>0.0</td><td>2.17</td><td>0.0</td><td>10.2</td><td>0.0</td><td>135.0</td><td>2.81</td><td>184.0</td><td>3.28</td><td>36.9</td><td>2.25e-06</td><td>73.8</td><td>2.25e-06</td><td>122.0</td><td>2.25e-06</td><td>12.8</td><td>12.8</td><td>12.7</td><td>12.7</td><td>9.93e-13</td><td>3.21e-14</td><td>2.12e-12</td><td>8.89e-14</td><td>0.468</td><td>0.0248</td><td>168.0</td><td>29.8</td><td>2.01e-12</td><td>6.86e-14</td><td>159.0</td><td>0.0</td><td>2.13e-12</td><td>2.13e-12</td><td>73.8</td><td>0.0</td><td>149.0</td><td>0.0</td><td>2.02</td><td>0.0</td><td>12.6</td><td>0.0</td><td>-0.1</td><td>-1.57</td><td>0.00674</td><td>0.000218</td><td>0.00611</td><td>0.000512</td><td>225.0</td><td>3.62</td><td>0.0</td><td>0.0</td><td>0.0</td><td>0.0</td><td>40.6</td><td>1.77e-06</td><td>232.0</td><td>3.68</td><td>0.0</td><td>0.0</td><td>81.2</td><td>1.77e-06</td><td>127.0</td><td>1.77e-06</td><td>10.2</td><td>10.2</td><td>0.0</td><td>0.0</td><td>0.0</td><td>0.0</td><td>1.4e-10</td><td>1.81e-13</td><td>3.31e-10</td><td>2.81e-13</td><td>0.424</td><td>0.000655</td><td>181.0</td><td>0.0</td><td>3.35e-10</td><td>3.35e-10</td><td>81.2</td><td>0.0</td><td>172.0</td><td>0.0</td><td>2.12</td><td>0.0</td><td>10.2</td><td>0.0</td><td>129.0</td><td>2.75</td><td>171.0</td><td>3.16</td><td>35.8</td><td>2.58e-06</td><td>74.1</td><td>2.58e-06</td><td>122.0</td><td>2.58e-06</td><td>12.8</td><td>12.8</td><td>12.7</td><td>12.7</td><td>8.02e-13</td><td>2.58e-14</td><td>1.72e-12</td><td>7.13e-14</td><td>0.466</td><td>0.0245</td><td>167.0</td><td>27.6</td><td>1.64e-12</td><td>5.52e-14</td><td>158.0</td><td>0.0</td><td>1.73e-12</td><td>1.73e-12</td><td>74.1</td><td>0.0</td><td>149.0</td><td>0.0</td><td>2.01</td><td>0.0</td><td>12.6</td><td>0.0</td><td>-0.19</td><td>-1.66</td><td>0.00571</td><td>0.000184</td><td>0.00482</td><td>0.000398</td><td>True</td><td>True</td><td>True</td><td>True</td><td>True</td><td>True</td><td>True</td><td>True</td><td>True</td><td>True</td><td></td></tr>\n",
       "<tr><td>VFID6411</td><td>221.101833</td><td>1.6797606</td><td>1567.2</td><td>80.93218</td><td>NGC 5740</td><td>VFID6411-NGC5740</td><td>True</td><td>0.005224</td><td>0.005224</td><td>221.10173</td><td>1.6799322</td><td>0.0</td><td>0.0</td><td>221.10161</td><td>1.6800995</td><td>True</td><td>1.0792793</td><td>1.4309635</td><td>1.3746524</td><td>v19p149</td><td>[2600:4108,1531:3039]</td><td>0.03517246</td><td>755.3011</td><td>0.0445</td><td>755.595</td><td>0.0795</td><td>11.7515</td><td>0.0014</td><td>83.3331</td><td>0.117</td><td>1.1355</td><td>0.0027</td><td>0.5532</td><td>0.0007</td><td>-23.4174</td><td>0.0719</td><td>0.0</td><td>0.5726701</td><td>0.0 .. 0.0</td><td>0.0 .. 0.0</td><td>0.0</td><td>0.0</td><td>0.0 .. 0.0</td><td>0.0 .. 0.0</td><td>0.0</td><td>0.0</td><td>0.0</td><td>0.0</td><td>0.0</td><td>0.0</td><td>0.0</td><td>0.0</td><td>0.0</td><td>0.0</td><td>0.0</td><td>0.0</td><td>0.0</td><td>0.0</td><td>0.0</td><td>0.0</td><td>0.0</td><td>0.0</td><td>0.0</td><td>0.0</td><td>0.0 .. 0.0</td><td>0.0 .. 0.0</td><td>0.0</td><td>0.0</td><td>0.0 .. 0.0</td><td>0.0 .. 0.0</td><td>0.0</td><td>0.0</td><td>0.0</td><td>0.0</td><td>757.0</td><td>757.0</td><td>0.486</td><td>70.5</td><td>0.69</td><td>0.494</td><td>132000.0</td><td>8.27e-11</td><td>11.7</td><td>0.253</td><td>0.0203</td><td>4.26e-13</td><td>13.8</td><td>0.815</td><td>3.2893433e-17</td><td>0.0</td><td>0.0</td><td>75.8</td><td>2.12</td><td>84.5</td><td>2.23</td><td>98.4</td><td>2.41</td><td>13.9</td><td>6.22e-07</td><td>75.8</td><td>2.12</td><td>89.0</td><td>2.29</td><td>26.4</td><td>6.22e-07</td><td>42.5</td><td>6.22e-07</td><td>11.8</td><td>11.8</td><td>11.7</td><td>11.8</td><td>11.7</td><td>11.7</td><td>3.52e-11</td><td>9.04e-14</td><td>7.97e-11</td><td>1.37e-13</td><td>0.442</td><td>0.00137</td><td>56.7</td><td>0.0</td><td>8.26e-11</td><td>0.0</td><td>26.3</td><td>0.0</td><td>267.0</td><td>0.0</td><td>10.1</td><td>0.0</td><td>11.7</td><td>0.0</td><td>45.6</td><td>1.65</td><td>52.5</td><td>1.77</td><td>15.3</td><td>1.11e-05</td><td>24.3</td><td>1.11e-05</td><td>267.0</td><td>1.11e-05</td><td>13.9</td><td>13.9</td><td>13.9</td><td>13.9</td><td>3.19e-13</td><td>1.44e-14</td><td>7.2e-13</td><td>3.45e-14</td><td>0.443</td><td>0.0292</td><td>267.0</td><td>0.0</td><td>6.75e-13</td><td>2.49e-14</td><td>9.4</td><td>0.0</td><td>2.27e-13</td><td>0.0</td><td>5.36</td><td>0.0</td><td>17.4</td><td>0.0</td><td>3.25</td><td>0.0</td><td>15.1</td><td>0.0</td><td>-0.652</td><td>-2.08</td><td>0.00905</td><td>0.00041</td><td>0.00902</td><td>0.000842</td><td>80.1</td><td>2.17</td><td>89.0</td><td>2.29</td><td>98.4</td><td>2.41</td><td>14.5</td><td>1.49e-06</td><td>80.1</td><td>2.17</td><td>93.6</td><td>2.35</td><td>27.4</td><td>1.49e-06</td><td>43.9</td><td>1.49e-06</td><td>11.8</td><td>11.8</td><td>11.7</td><td>11.7</td><td>11.7</td><td>11.7</td><td>3.57e-11</td><td>9.11e-14</td><td>8.01e-11</td><td>1.37e-13</td><td>0.446</td><td>0.00137</td><td>59.0</td><td>0.0</td><td>8.25e-11</td><td>0.0</td><td>27.4</td><td>0.0</td><td>259.0</td><td>0.0</td><td>9.44</td><td>0.0</td><td>11.7</td><td>0.0</td><td>45.6</td><td>1.65</td><td>52.5</td><td>1.77</td><td>15.9</td><td>6.76e-07</td><td>25.7</td><td>6.76e-07</td><td>259.0</td><td>6.76e-07</td><td>13.9</td><td>13.9</td><td>13.9</td><td>13.9</td><td>2.61e-13</td><td>1.18e-14</td><td>5.86e-13</td><td>2.85e-14</td><td>0.446</td><td>0.0296</td><td>259.0</td><td>0.0</td><td>5.53e-13</td><td>2.07e-14</td><td>8.68</td><td>0.0</td><td>1.57e-13</td><td>0.0</td><td>4.23</td><td>0.0</td><td>15.2</td><td>0.0</td><td>3.58</td><td>0.0</td><td>15.2</td><td>0.0</td><td>-0.737</td><td>-2.17</td><td>0.00732</td><td>0.000332</td><td>0.00732</td><td>0.000695</td><td>True</td><td>True</td><td>True</td><td>True</td><td>True</td><td>True</td><td>True</td><td>True</td><td>True</td><td>True</td><td></td></tr>\n",
       "<tr><td>VFID6439</td><td>220.9849035</td><td>1.6041666</td><td>1722.7</td><td>28.1917</td><td>NGC 5738</td><td>VFID6439-NGC5738</td><td>True</td><td>0.005742333333333334</td><td>0.005742333333333334</td><td>220.98479</td><td>1.6042638</td><td>0.0</td><td>0.0</td><td>220.98485</td><td>1.6042098</td><td>True</td><td>1.0615902</td><td>1.4309635</td><td>1.3746524</td><td>v19p149</td><td>[4304:4945,1143:1784]</td><td>0.03517246</td><td>321.7929</td><td>0.0407</td><td>321.246</td><td>0.0217</td><td>13.6214</td><td>0.0037</td><td>19.7891</td><td>0.092</td><td>2.2095</td><td>0.015</td><td>0.3914</td><td>0.0018</td><td>61.137</td><td>0.127</td><td>0.0</td><td>0.7204796</td><td>0.0 .. 0.0</td><td>0.0 .. 0.0</td><td>0.0</td><td>0.0</td><td>0.0 .. 0.0</td><td>0.0 .. 0.0</td><td>0.0</td><td>0.0</td><td>0.0</td><td>0.0</td><td>0.0</td><td>0.0</td><td>0.0</td><td>0.0</td><td>0.0</td><td>0.0</td><td>0.0</td><td>0.0</td><td>0.0</td><td>0.0</td><td>0.0</td><td>0.0</td><td>0.0</td><td>0.0</td><td>0.0</td><td>0.0</td><td>0.0 .. 0.0</td><td>0.0 .. 0.0</td><td>0.0</td><td>0.0</td><td>0.0 .. 0.0</td><td>0.0 .. 0.0</td><td>0.0</td><td>0.0</td><td>0.0</td><td>0.0</td><td>321.0</td><td>321.0</td><td>0.54</td><td>151.0</td><td>0.8</td><td>0.484</td><td>16200.0</td><td>1.41e-11</td><td>13.6</td><td>0.129</td><td>0.0863</td><td>3.01e-14</td><td>16.7</td><td>0.34</td><td>3.2893433e-17</td><td>0.0</td><td>0.0</td><td>0.0</td><td>0.0</td><td>0.0</td><td>0.0</td><td>0.0</td><td>0.0</td><td>0.0</td><td>0.0</td><td>0.0</td><td>0.0</td><td>0.0</td><td>0.0</td><td>0.0</td><td>0.0</td><td>0.0</td><td>0.0</td><td>0.0</td><td>0.0</td><td>0.0</td><td>0.0</td><td>0.0</td><td>0.0</td><td>0.0</td><td>0.0</td><td>0.0</td><td>0.0</td><td>0.0</td><td>0.0</td><td>0.0</td><td>0.0</td><td>0.0</td><td>0.0</td><td>0.0</td><td>0.0</td><td>0.0</td><td>0.0</td><td>0.0</td><td>0.0</td><td>0.0</td><td>0.0</td><td>0.0</td><td>0.0</td><td>0.0</td><td>0.0</td><td>0.0</td><td>0.0</td><td>0.0</td><td>0.0</td><td>0.0</td><td>0.0</td><td>0.0</td><td>0.0</td><td>0.0</td><td>0.0</td><td>0.0</td><td>0.0</td><td>0.0</td><td>0.0</td><td>0.0</td><td>0.0</td><td>0.0</td><td>0.0</td><td>0.0</td><td>0.0</td><td>0.0</td><td>0.0</td><td>0.0</td><td>0.0</td><td>0.0</td><td>0.0</td><td>0.0</td><td>0.0</td><td>0.0</td><td>0.0</td><td>0.0</td><td>0.0</td><td>0.0</td><td>0.0</td><td>0.0</td><td>0.0</td><td>0.0</td><td>0.0</td><td>0.0</td><td>0.0</td><td>0.0</td><td>0.0</td><td>0.0</td><td>0.0</td><td>0.0</td><td>0.0</td><td>0.0</td><td>0.0</td><td>0.0</td><td>0.0</td><td>0.0</td><td>0.0</td><td>0.0</td><td>0.0</td><td>0.0</td><td>0.0</td><td>0.0</td><td>0.0</td><td>0.0</td><td>0.0</td><td>0.0</td><td>0.0</td><td>0.0</td><td>0.0</td><td>0.0</td><td>0.0</td><td>0.0</td><td>0.0</td><td>0.0</td><td>0.0</td><td>0.0</td><td>0.0</td><td>0.0</td><td>0.0</td><td>0.0</td><td>0.0</td><td>0.0</td><td>0.0</td><td>0.0</td><td>0.0</td><td>0.0</td><td>0.0</td><td>0.0</td><td>0.0</td><td>0.0</td><td>0.0</td><td>0.0</td><td>0.0</td><td>0.0</td><td>0.0</td><td>0.0</td><td>0.0</td><td>0.0</td><td>0.0</td><td>0.0</td><td>0.0</td><td>0.0</td><td>0.0</td><td>0.0</td><td>0.0</td><td>0.0</td><td>0.0</td><td>0.0</td><td>0.0</td><td>0.0</td><td>0.0</td><td>0.0</td><td>0.0</td><td>0.0</td><td>0.0</td><td>0.0</td><td>0.0</td><td>0.0</td><td>0.0</td><td>0.0</td><td>0.0</td><td>0.0</td><td>0.0</td><td>0.0</td><td>0.0</td><td>True</td><td>True</td><td>True</td><td>True</td><td>True</td><td>True</td><td>True</td><td>True</td><td>True</td><td>True</td><td></td></tr>\n",
       "<tr><td>VFID6461</td><td>221.1285045</td><td>1.522357</td><td>1479.4</td><td>16.486227</td><td>CGCG 020-010</td><td>VFID6461-CGCG020-010</td><td>True</td><td>0.004931333333333334</td><td>0.004931333333333334</td><td>221.12834</td><td>1.5226108</td><td>0.0</td><td>0.0</td><td>221.12833</td><td>1.5225574</td><td>True</td><td>1.0794083</td><td>1.4309635</td><td>1.3746524</td><td>v19p149</td><td>[2877:3252,387:762]</td><td>0.03517246</td><td>189.2643</td><td>0.0976</td><td>189.7777</td><td>0.1075</td><td>14.7807</td><td>0.0045</td><td>31.113</td><td>0.2541</td><td>1.9044</td><td>0.0251</td><td>0.9355</td><td>0.0043</td><td>12.0977</td><td>2.9821</td><td>0.0</td><td>0.5819393</td><td>0.0 .. 0.0</td><td>0.0 .. 0.0</td><td>0.0</td><td>0.0</td><td>0.0 .. 0.0</td><td>0.0 .. 0.0</td><td>0.0</td><td>0.0</td><td>0.0</td><td>0.0</td><td>0.0</td><td>0.0</td><td>0.0</td><td>0.0</td><td>0.0</td><td>0.0</td><td>0.0</td><td>0.0</td><td>0.0</td><td>0.0</td><td>0.0</td><td>0.0</td><td>0.0</td><td>0.0</td><td>0.0</td><td>0.0</td><td>0.0 .. 0.0</td><td>0.0 .. 0.0</td><td>0.0</td><td>0.0</td><td>0.0 .. 0.0</td><td>0.0 .. 0.0</td><td>0.0</td><td>0.0</td><td>0.0</td><td>0.0</td><td>189.0</td><td>189.0</td><td>0.0137</td><td>83.8</td><td>0.596</td><td>0.563</td><td>13800.0</td><td>3.79e-12</td><td>15.1</td><td>0.191</td><td>0.0501</td><td>1.59e-14</td><td>17.4</td><td>1.25</td><td>3.2893433e-17</td><td>0.0</td><td>0.0</td><td>16.3</td><td>1.01</td><td>22.9</td><td>1.19</td><td>25.4</td><td>1.25</td><td>4.13</td><td>3.3e-07</td><td>18.4</td><td>1.07</td><td>22.9</td><td>1.19</td><td>7.52</td><td>3.3e-07</td><td>13.4</td><td>3.3e-07</td><td>15.2</td><td>15.3</td><td>15.1</td><td>15.1</td><td>15.1</td><td>15.1</td><td>1.24e-12</td><td>1.7e-14</td><td>3.27e-12</td><td>2.83e-14</td><td>0.379</td><td>0.00614</td><td>18.0</td><td>0.0</td><td>3.95e-12</td><td>0.0</td><td>7.51</td><td>0.0</td><td>61.7</td><td>0.0</td><td>8.22</td><td>0.0</td><td>15.0</td><td>0.0</td><td>7.62</td><td>0.725</td><td>9.13</td><td>0.783</td><td>4.33</td><td>5.02e-07</td><td>27.1</td><td>5.02e-07</td><td>45.9</td><td>5.02e-07</td><td>17.4</td><td>17.4</td><td>17.3</td><td>17.3</td><td>2.01e-14</td><td>4.36e-15</td><td>2.97e-14</td><td>1.16e-14</td><td>0.678</td><td>0.302</td><td>8.19</td><td>52.1</td><td>2.28e-14</td><td>4.82e-15</td><td>21.6</td><td>0.0</td><td>5.1e-14</td><td>0.0</td><td>6.53</td><td>0.0</td><td>38.6</td><td>0.0</td><td>5.91</td><td>0.0</td><td>16.7</td><td>0.0</td><td>-2.17</td><td>-2.85</td><td>0.0162</td><td>0.00352</td><td>0.00471</td><td>0.00608</td><td>16.3</td><td>1.01</td><td>22.9</td><td>1.19</td><td>25.4</td><td>1.25</td><td>4.04</td><td>2.17e-07</td><td>18.4</td><td>1.07</td><td>22.9</td><td>1.19</td><td>7.34</td><td>2.17e-07</td><td>13.1</td><td>2.17e-07</td><td>15.2</td><td>15.3</td><td>15.1</td><td>15.1</td><td>15.1</td><td>15.1</td><td>1.27e-12</td><td>1.72e-14</td><td>3.32e-12</td><td>2.85e-14</td><td>0.384</td><td>0.00616</td><td>17.6</td><td>0.0</td><td>3.95e-12</td><td>0.0</td><td>7.33</td><td>0.0</td><td>61.7</td><td>0.0</td><td>8.42</td><td>0.0</td><td>15.0</td><td>0.0</td><td>7.62</td><td>0.725</td><td>9.13</td><td>0.783</td><td>4.29</td><td>1.76e-06</td><td>27.7</td><td>1.76e-06</td><td>46.5</td><td>1.76e-06</td><td>17.3</td><td>17.4</td><td>17.3</td><td>17.3</td><td>1.7e-14</td><td>3.62e-15</td><td>2.42e-14</td><td>9.65e-15</td><td>0.702</td><td>0.317</td><td>7.97</td><td>50.5</td><td>1.92e-14</td><td>4.01e-15</td><td>9.4</td><td>0.0</td><td>2.48e-14</td><td>0.0</td><td>3.64</td><td>0.0</td><td>7.16</td><td>0.0</td><td>1.97</td><td>0.0</td><td>17.2</td><td>0.0</td><td>-2.25</td><td>-2.93</td><td>0.0133</td><td>0.00285</td><td>0.00354</td><td>0.00505</td><td>True</td><td>True</td><td>True</td><td>True</td><td>True</td><td>True</td><td>True</td><td>True</td><td>True</td><td>True</td><td></td></tr>\n",
       "</table>"
      ],
      "text/plain": [
       "<Table length=351>\n",
       "  VFID           RA            DEC        vr   ... EDGEON_FLAG NUC_HA COMMENT\n",
       " bytes8       float64        float64   float64 ...     bool     bool  bytes50\n",
       "-------- ------------------ ---------- ------- ... ----------- ------ -------\n",
       "VFID3603         196.734219 21.2283983  2664.5 ...        True   True        \n",
       "VFID3621         197.142888 21.0498927  2622.4 ...        True   True        \n",
       "VFID3018        200.4706185 28.6688125  2446.9 ...        True   True        \n",
       "VFID3065         200.735277 28.3164451  2390.1 ...        True   True        \n",
       "VFID2136         208.417842 39.7242957  2235.7 ...        True   True        \n",
       "VFID2137        208.2433125 39.7186742  2640.6 ...        True   True        \n",
       "VFID2139          208.49805 39.7154593  2601.1 ...        True   True        \n",
       "VFID2146 208.09592099999998 39.6872502  2126.9 ...        True   True        \n",
       "VFID2155         208.257831 39.5807535  2503.6 ...        True   True        \n",
       "VFID2158         208.103664  39.557592  2750.2 ...        True   True        \n",
       "     ...                ...        ...     ... ...         ...    ...     ...\n",
       "VFID6121        217.9707675  3.3801019  1529.3 ...        True   True        \n",
       "VFID6125 217.68124799999998      3.345  1526.0 ...        True   True        \n",
       "VFID6135         218.147715   3.281035  1530.9 ...        True   True        \n",
       "VFID6139        217.8189285  3.2567102  1517.7 ...        True   True        \n",
       "VFID6174        217.8626835  3.0081905  1419.6 ...        True   True        \n",
       "VFID6192         218.187975  2.9147897  1527.7 ...        True   True        \n",
       "VFID6357 221.23306200000002  1.9549057  1711.4 ...        True   True        \n",
       "VFID6411         221.101833  1.6797606  1567.2 ...        True   True        \n",
       "VFID6439        220.9849035  1.6041666  1722.7 ...        True   True        \n",
       "VFID6461        221.1285045   1.522357  1479.4 ...        True   True        "
      ]
     },
     "execution_count": 10,
     "metadata": {},
     "output_type": "execute_result"
    }
   ],
   "source": [
    "hcat"
   ]
  },
  {
   "cell_type": "code",
   "execution_count": 23,
   "metadata": {},
   "outputs": [
    {
     "data": {
      "text/plain": [
       "Text(0, 0.5, 'Number of Galaxies')"
      ]
     },
     "execution_count": 23,
     "metadata": {},
     "output_type": "execute_result"
    },
    {
     "data": {
      "image/png": "[encoded data removed]",
      "text/plain": [
       "<Figure size 576x432 with 1 Axes>"
      ]
     },
     "metadata": {
      "needs_background": "light"
     },
     "output_type": "display_data"
    }
   ],
   "source": [
    "# seeing values\n",
    "plt.figure(figsize=(8,6))\n",
    "mybins = np.linspace(0,4,20)\n",
    "t = plt.hist(hcat['R_FWHM'],bins=mybins,label='$R/r$',alpha=.4)\n",
    "t = plt.hist(hcat['H_FWHM'],bins=mybins,label=r'$H\\alpha$',alpha=.4)\n",
    "plt.legend(fontsize=12)\n",
    "plt.xlabel('Seeing FWHM (arcsec)',fontsize=16)\n",
    "plt.ylabel('Number of Galaxies',fontsize=16)"
   ]
  },
  {
   "cell_type": "code",
   "execution_count": 28,
   "metadata": {},
   "outputs": [
    {
     "name": "stderr",
     "output_type": "stream",
     "text": [
      "/home/rfinn/anaconda3/lib/python3.7/site-packages/ipykernel_launcher.py:6: RuntimeWarning: divide by zero encountered in log10\n",
      "  \n",
      "/home/rfinn/anaconda3/lib/python3.7/site-packages/ipykernel_launcher.py:6: RuntimeWarning: invalid value encountered in log10\n",
      "  \n"
     ]
    },
    {
     "data": {
      "text/plain": [
       "Text(0, 0.5, 'Number of Galaxies')"
      ]
     },
     "execution_count": 28,
     "metadata": {},
     "output_type": "execute_result"
    },
    {
     "data": {
      "image/png": "[encoded data removed]",
      "text/plain": [
       "<Figure size 576x432 with 1 Axes>"
      ]
     },
     "metadata": {
      "needs_background": "light"
     },
     "output_type": "display_data"
    }
   ],
   "source": [
    "# hist of Halpha flux\n",
    "# use GAL_HF_TOT\n",
    "# seeing values\n",
    "plt.figure(figsize=(8,6))\n",
    "mybins = np.linspace(-15,-10,20)\n",
    "t = plt.hist(np.log10(hcat['GAL_HF_TOT']),bins=mybins,label=r'$H\\alpha$',alpha=.4)\n",
    "#t = plt.hist(hcat['H_FWHM'],bins=mybins,label=r'$H\\alpha$',alpha=.4)\n",
    "plt.legend(fontsize=12)\n",
    "plt.xlabel('$\\log_{10}(Total Flux/(erg~s^{-1}~cm^{-2}))$',fontsize=16)\n",
    "plt.ylabel('Number of Galaxies',fontsize=16)"
   ]
  },
  {
   "cell_type": "code",
   "execution_count": 40,
   "metadata": {},
   "outputs": [
    {
     "name": "stderr",
     "output_type": "stream",
     "text": [
      "/home/rfinn/anaconda3/lib/python3.7/site-packages/ipykernel_launcher.py:3: RuntimeWarning: invalid value encountered in true_divide\n",
      "  This is separate from the ipykernel package so we can avoid doing imports until\n"
     ]
    },
    {
     "data": {
      "text/plain": [
       "<matplotlib.lines.Line2D at 0x7fac3319f450>"
      ]
     },
     "execution_count": 40,
     "metadata": {},
     "output_type": "execute_result"
    },
    {
     "data": {
      "image/png": "[encoded data removed]",
      "text/plain": [
       "<Figure size 576x432 with 1 Axes>"
      ]
     },
     "metadata": {
      "needs_background": "light"
     },
     "output_type": "display_data"
    }
   ],
   "source": [
    "# SNR vs SFR\n",
    "\n",
    "snr = np.abs(hcat['GAL_HF_TOT']/hcat['GAL_HF_TOT_ERR'])\n",
    "plt.figure(figsize=(8,6))\n",
    "plt.plot(hacat['LOG_SFR_HA'],snr,marker='o',ls='None')\n",
    "plt.xlabel('$\\log_{10}(SFR/(M_\\odot/yr)$',fontsize=20)\n",
    "plt.ylabel(r'$H\\alpha ~ SNR$',fontsize=20)\n",
    "plt.axhline(y=5,ls='--')\n",
    "plt.axhline(y=10,ls='--')"
   ]
  },
  {
   "cell_type": "code",
   "execution_count": 42,
   "metadata": {},
   "outputs": [
    {
     "data": {
      "text/plain": [
       "183.7429111531191"
      ]
     },
     "execution_count": 42,
     "metadata": {},
     "output_type": "execute_result"
    }
   ],
   "source": [
    "(.9/2.3)**2*1200"
   ]
  },
  {
   "cell_type": "code",
   "execution_count": null,
   "metadata": {},
   "outputs": [],
   "source": []
  }
 ],
 "metadata": {
  "kernelspec": {
   "display_name": "Python 3",
   "language": "python",
   "name": "python3"
  },
  "language_info": {
   "codemirror_mode": {
    "name": "ipython",
    "version": 3
   },
   "file_extension": ".py",
   "mimetype": "text/x-python",
   "name": "python",
   "nbconvert_exporter": "python",
   "pygments_lexer": "ipython3",
   "version": "3.7.4"
  }
 },
 "nbformat": 4,
 "nbformat_minor": 2
}
