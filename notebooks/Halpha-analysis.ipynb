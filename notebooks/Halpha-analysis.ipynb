{
 "cells": [
  {
   "cell_type": "markdown",
   "metadata": {},
   "source": [
    "## Reducing 2019 Data From INT\n",
    "\n",
    "* create mosaics with theli.  \n",
    "  * notes are here: https://docs.google.com/document/d/1RvXv-4K5p9EMDesxOOPoQoCIBwRo2NpHD7hstGAOLgk/edit?usp=sharing\n",
    "  * reduction log: https://docs.google.com/spreadsheets/d/175ya3b6pd3sc_uHtmR6vmNi1wPBC4bSV9DMTG8od4_E/edit?usp=sharing\n",
    "  * doing reduction on linux laptop b/c I could install theli here\n",
    "  \n",
    "* gather coadds in a directory \n",
    "\n",
    "* zeropoint calibration\n",
    "  * where is the best place to do this?  in each coadd directory, or gather all coadds first, then run altogether\n",
    "  * the advantage of the latter is that all of the diagnostic plots will be in the same directory\n",
    "  * TO DO\n",
    "      * need to make a plots subdirectory, and save plots from getzp there. - DONE\n",
    "      * also need to rename plots to include coadd name - DONE\n",
    "* at this point, we can move the reduced data to virgo vms virgo-gdrive and also backup on an external harddrive\n",
    "* cp coadds to virgo vms, virgo-gdrive\n",
    "\n",
    "\n",
    "## Halpha Analysis\n",
    "* run halphagui\n",
    "    * create cutouts\n",
    "      * need to make sure we are using v1 of virgo filament catalog\n",
    "    * make masks\n",
    "    * run through photometry\n",
    "    * catalog any additional emitters\n",
    "    * this is going to take A LONG TIME!!!\n",
    "    * I will check how long.  wondering if gui is not the right way to do this, because it is so interactive.  would be good to identify sources and create masks using the gui, but then run the photometry in a more automated way.\n",
    "    * would need code to gather output from photometry into tables, like is done in the gui.\n",
    "    * I've done 111 galaxies with the gui so far, from 33 pointings...\n",
    "    * INT data has about 90 pointings.\n",
    "* tables from gui are in ~/research/Virgo/halpha-tables/\n",
    "* also need to update write_subtables to use match to the halpha output by RA and DEC, rather than VFID.  This will enable us to incorporate the results that were based on the v0 catalog, rather than having to redo them."
   ]
  },
  {
   "cell_type": "code",
   "execution_count": null,
   "metadata": {},
   "outputs": [],
   "source": []
  }
 ],
 "metadata": {
  "kernelspec": {
   "display_name": "Python 3",
   "language": "python",
   "name": "python3"
  },
  "language_info": {
   "codemirror_mode": {
    "name": "ipython",
    "version": 3
   },
   "file_extension": ".py",
   "mimetype": "text/x-python",
   "name": "python",
   "nbconvert_exporter": "python",
   "pygments_lexer": "ipython3",
   "version": "3.7.4"
  }
 },
 "nbformat": 4,
 "nbformat_minor": 2
}
