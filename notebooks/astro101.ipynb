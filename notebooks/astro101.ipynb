{
 "cells": [
  {
   "cell_type": "markdown",
   "metadata": {},
   "source": [
    "# ASTR101 Project\n",
    "\n",
    "* have students classify a sample of galaxies in field, filaments, cluster\n",
    "* morphology should include\n",
    "  * smooth vs feasures of disk\n",
    "  * smooth - round, elongated\n",
    "  * disk \n",
    "    * edge on vs face on\n",
    "    * bulge - s,m,l\n",
    "    * bar\n",
    "  * color\n",
    "    * red, yellow, some blue\n",
    " \n",
    "* compare morphologies as a function of environment\n",
    "\n",
    "* try to make other...  not sure where I was going with this... \n"
   ]
  },
  {
   "cell_type": "markdown",
   "metadata": {},
   "source": [
    "# Research Question 1 - Does morphology vary with environment?\n",
    "\n",
    "## Test sample of 25 galaxies for classification\n",
    "\n",
    "* get images from legacy and paste into google form\n",
    "\n",
    "* students will classify morphology\n",
    "* this is set up in a google form\n",
    "\n",
    "\n",
    "* VFID\n",
    "* NED name\n",
    "* smooth/rounded or disk\n",
    "* edge-on disk\n",
    "* bar?\n",
    "* spiral arms?\n",
    "* anything odd?\n",
    "* link to legacy viewer\n",
    "\n"
   ]
  },
  {
   "cell_type": "code",
   "execution_count": 231,
   "metadata": {},
   "outputs": [],
   "source": [
    "from matplotlib import pyplot as plt\n",
    "import numpy as np\n",
    "import os\n",
    "import sys\n",
    "from astropy.io import fits\n",
    "from astropy.table import Table"
   ]
  },
  {
   "cell_type": "code",
   "execution_count": 232,
   "metadata": {},
   "outputs": [],
   "source": [
    "homedir = os.getenv(\"HOME\")\n",
    "sys.path.append(os.path.join(homedir,'github/Virgo/programs/'))\n",
    "import virgoCommon"
   ]
  },
  {
   "cell_type": "code",
   "execution_count": 233,
   "metadata": {},
   "outputs": [],
   "source": [
    "outdir = homedir+'/research/Virgo/ASTR101/'"
   ]
  },
  {
   "cell_type": "code",
   "execution_count": 234,
   "metadata": {},
   "outputs": [
    {
     "name": "stderr",
     "output_type": "stream",
     "text": [
      "/home/rfinn/github/Virgo/programs/readtables.py:120: RuntimeWarning: divide by zero encountered in log10\n",
      "  g = 22.5 - 2.5*np.log10(dr9['FLUX_G'])\n",
      "/home/rfinn/github/Virgo/programs/readtables.py:120: RuntimeWarning: invalid value encountered in log10\n",
      "  g = 22.5 - 2.5*np.log10(dr9['FLUX_G'])\n",
      "/home/rfinn/github/Virgo/programs/readtables.py:121: RuntimeWarning: divide by zero encountered in log10\n",
      "  r = 22.5 - 2.5*np.log10(dr9['FLUX_R'])\n",
      "/home/rfinn/github/Virgo/programs/readtables.py:121: RuntimeWarning: invalid value encountered in log10\n",
      "  r = 22.5 - 2.5*np.log10(dr9['FLUX_R'])\n",
      "/home/rfinn/github/Virgo/programs/readtables.py:122: RuntimeWarning: divide by zero encountered in log10\n",
      "  z = 22.5 - 2.5*np.log10(dr9['FLUX_Z'])\n",
      "/home/rfinn/github/Virgo/programs/readtables.py:122: RuntimeWarning: invalid value encountered in log10\n",
      "  z = 22.5 - 2.5*np.log10(dr9['FLUX_Z'])\n",
      "/home/rfinn/github/Virgo/programs/readtables.py:124: RuntimeWarning: invalid value encountered in log10\n",
      "  const = 5*np.log10(d_pc) - 5\n"
     ]
    }
   ],
   "source": [
    "%run ~/github/Virgo/programs/readtables.py"
   ]
  },
  {
   "cell_type": "code",
   "execution_count": 278,
   "metadata": {},
   "outputs": [],
   "source": [
    "gzoo = Table.read('/home/rfinn/research/Virgo/ancil-tables/vf_v1_galaxyzoo2.fits')"
   ]
  },
  {
   "cell_type": "code",
   "execution_count": 279,
   "metadata": {},
   "outputs": [],
   "source": [
    "gzoo_flag = ~np.isnan(gzoo['ra_2'])"
   ]
  },
  {
   "cell_type": "code",
   "execution_count": 251,
   "metadata": {},
   "outputs": [
    {
     "data": {
      "text/plain": [
       "6797"
      ]
     },
     "execution_count": 251,
     "metadata": {},
     "output_type": "execute_result"
    }
   ],
   "source": [
    "len(gzoo_flag)"
   ]
  },
  {
   "cell_type": "markdown",
   "metadata": {},
   "source": [
    "# Classification of galaxies in different environemnt\n",
    "## Need to generate catalogs for them to use with google sheets\n",
    "\n",
    "* galaxy id\n",
    "* ned name\n",
    "* vr\n",
    "* SGX, SGY, SGZ\n",
    "* logMstar\n",
    "* logSFR\n",
    "* A100, HI mass\n",
    "* filament, field, cluster\n",
    "* group\n",
    "* local density\n",
    "\n",
    "\n",
    "### Criteria\n",
    "* has logMstar, logSFR estimate\n",
    "* radius flag\n",
    "* dec < 32 for alfalfa?\n",
    "* size > ?\n"
   ]
  },
  {
   "cell_type": "code",
   "execution_count": 219,
   "metadata": {},
   "outputs": [
    {
     "name": "stderr",
     "output_type": "stream",
     "text": [
      "/home/rfinn/anaconda3/lib/python3.7/site-packages/ipykernel_launcher.py:6: RuntimeWarning: invalid value encountered in subtract\n",
      "  \n"
     ]
    },
    {
     "name": "stdout",
     "output_type": "stream",
     "text": [
      "flag  944\n",
      "flag_all 944\n",
      "novirgo_flag  752\n"
     ]
    }
   ],
   "source": [
    "z0mgs_flag = (v.z0mgs['logmass'] > 8.5 ) & (v.z0mgs['logmass'] < 12 )   & v.main['Z0MGSflag']\n",
    "a100_flag = (v.main['DEC'] < 32)\n",
    "size_flag =  v.main['radius_flag'] & (v.main['radius'] < 150) & (v.main['radius'] > 40)\n",
    "weird_flag = np.abs(v.env['SGX'] < 40.) & (v.env['n5th_2D'] > -999) \n",
    "\n",
    "gr = v.dr9['Mg']-v.dr9['Mr']\n",
    "gr_flag = (gr > 0) & (gr < 1.2) & (~np.isnan(gr))\n",
    "\n",
    "legacy_flag = (v.main['RA'] > 122)& (v.main['RA'] < 250) & gr_flag\n",
    "\n",
    "flag = z0mgs_flag  & size_flag & weird_flag & legacy_flag\n",
    "flag_all = z0mgs_flag & size_flag & legacy_flag\n",
    "print('flag ',sum(flag))\n",
    "print('flag_all',sum(flag_all))\n",
    "novirgo_flag = flag &(v.env['flag_clus'] < .5)\n",
    "print('novirgo_flag ',sum(novirgo_flag))\n",
    "\n",
    "Nsample=50\n",
    "# filament members\n",
    "filament_flag = v.fil['filament_member'] & novirgo_flag\n",
    "filament_members = np.arange(len(v.main))[v.fil['filament_member'] & novirgo_flag]\n",
    "filament_members_subset = np.random.choice(filament_members,replace=False,size=Nsample)\n",
    "\n",
    "# field members\n",
    "field_flag = (v.env['flag_fie']>0.5) & novirgo_flag\n",
    "field_members = np.arange(len(v.main))[(v.env['flag_fie']>0.5) & novirgo_flag]\n",
    "field_members_subset = np.random.choice(field_members,replace=False,size=Nsample)\n",
    "\n",
    "# randomly select some cluster members\n",
    "cluster_flag = v.env['flag_clus']>0.5\n",
    "virgo_members = np.arange(len(v.main))[(v.env['flag_clus']>0.5) & flag]\n",
    "#print(gr[virgo_members])\n",
    "virgo_members_subset = np.random.choice(virgo_members,replace=False,size=Nsample)"
   ]
  },
  {
   "cell_type": "markdown",
   "metadata": {},
   "source": [
    "# Make and save tables for morphological classification exercise\n",
    "\n",
    "* VFID\n",
    "* NED name\n",
    "* smooth/rounded or disk\n",
    "* edge-on disk\n",
    "* bar?\n",
    "* spiral arms?\n",
    "* anything odd?\n",
    "* link to legacy viewer"
   ]
  },
  {
   "cell_type": "code",
   "execution_count": 223,
   "metadata": {},
   "outputs": [],
   "source": [
    "def legacy_link(ra,dec):\n",
    "    return \"https://www.legacysurvey.org/viewer?ra={:.4f}&dec={:.4f}&layer=ls-dr9&zoom=13\".format(ra,dec)    \n"
   ]
  },
  {
   "cell_type": "markdown",
   "metadata": {},
   "source": [
    "### Get legacy url for each galaxy in each of the three subsets\n",
    "\n",
    "* filament_members_subset\n",
    "* field_members_subset\n",
    "* virgo_members_subset"
   ]
  },
  {
   "cell_type": "code",
   "execution_count": 246,
   "metadata": {},
   "outputs": [],
   "source": [
    "legacy_urls = []\n",
    "for i in np.arange(len(v.main)):\n",
    "    legacy_urls.append(legacy_link(v.main['RA'][i],v.main['DEC'][i]))"
   ]
  },
  {
   "cell_type": "markdown",
   "metadata": {},
   "source": [
    "### Make empty columns for morph classification"
   ]
  },
  {
   "cell_type": "code",
   "execution_count": 158,
   "metadata": {},
   "outputs": [],
   "source": [
    "empty_col = np.zeros(len(v.main),'i')"
   ]
  },
  {
   "cell_type": "markdown",
   "metadata": {},
   "source": [
    "### Test writing out catalog.  Make sure links work in google sheets"
   ]
  },
  {
   "cell_type": "code",
   "execution_count": 169,
   "metadata": {},
   "outputs": [],
   "source": [
    "cols = [v.main['VFID'],v.main['NEDname'],empty_col,empty_col,empty_col,empty_col,empty_col,empty_col,empty_col,empty_col,empty_col,legacy_urls]\n",
    "names = ['name','NEDname','smooth/rounded','disk','edge-on','bar','spiral arms','odd/peculiar morph','red','blue','notes','legacy url']\n",
    "newtab = Table(cols,names=names)"
   ]
  },
  {
   "cell_type": "code",
   "execution_count": 170,
   "metadata": {
    "scrolled": true
   },
   "outputs": [
    {
     "data": {
      "text/html": [
       "<i>Table length=6797</i>\n",
       "<table id=\"table140299397351888\" class=\"table-striped table-bordered table-condensed\">\n",
       "<thead><tr><th>name</th><th>NEDname</th><th>smooth/rounded</th><th>disk</th><th>edge-on</th><th>bar</th><th>spiral arms</th><th>odd/peculiar morph</th><th>red</th><th>blue</th><th>notes</th><th>legacy url</th></tr></thead>\n",
       "<thead><tr><th>bytes8</th><th>bytes30</th><th>int32</th><th>int32</th><th>int32</th><th>int32</th><th>int32</th><th>int32</th><th>int32</th><th>int32</th><th>int32</th><th>str80</th></tr></thead>\n",
       "<tr><td>VFID0000</td><td>NGC 4363</td><td>0</td><td>0</td><td>0</td><td>0</td><td>0</td><td>0</td><td>0</td><td>0</td><td>0</td><td>https://www.legacysurvey.org/viewer?ra=185.8688&amp;dec=74.9522&amp;layer=ls-dr9&amp;zoom=13</td></tr>\n",
       "<tr><td>VFID0001</td><td>NGC 4133</td><td>0</td><td>0</td><td>0</td><td>0</td><td>0</td><td>0</td><td>0</td><td>0</td><td>0</td><td>https://www.legacysurvey.org/viewer?ra=182.2080&amp;dec=74.9043&amp;layer=ls-dr9&amp;zoom=13</td></tr>\n",
       "<tr><td>VFID0002</td><td>NGC 2977</td><td>0</td><td>0</td><td>0</td><td>0</td><td>0</td><td>0</td><td>0</td><td>0</td><td>0</td><td>https://www.legacysurvey.org/viewer?ra=145.9447&amp;dec=74.8596&amp;layer=ls-dr9&amp;zoom=13</td></tr>\n",
       "<tr><td>VFID0003</td><td>CGCG 352-030</td><td>0</td><td>0</td><td>0</td><td>0</td><td>0</td><td>0</td><td>0</td><td>0</td><td>0</td><td>https://www.legacysurvey.org/viewer?ra=185.5731&amp;dec=74.8384&amp;layer=ls-dr9&amp;zoom=13</td></tr>\n",
       "<tr><td>VFID0004</td><td>UGC 07189</td><td>0</td><td>0</td><td>0</td><td>0</td><td>0</td><td>0</td><td>0</td><td>0</td><td>0</td><td>https://www.legacysurvey.org/viewer?ra=182.8278&amp;dec=74.8082&amp;layer=ls-dr9&amp;zoom=13</td></tr>\n",
       "<tr><td>VFID0005</td><td>NGC 3752</td><td>0</td><td>0</td><td>0</td><td>0</td><td>0</td><td>0</td><td>0</td><td>0</td><td>0</td><td>https://www.legacysurvey.org/viewer?ra=173.1342&amp;dec=74.6275&amp;layer=ls-dr9&amp;zoom=13</td></tr>\n",
       "<tr><td>VFID0006</td><td>UGC 04202</td><td>0</td><td>0</td><td>0</td><td>0</td><td>0</td><td>0</td><td>0</td><td>0</td><td>0</td><td>https://www.legacysurvey.org/viewer?ra=121.9124&amp;dec=74.5846&amp;layer=ls-dr9&amp;zoom=13</td></tr>\n",
       "<tr><td>VFID0007</td><td>KUG 0746+747</td><td>0</td><td>0</td><td>0</td><td>0</td><td>0</td><td>0</td><td>0</td><td>0</td><td>0</td><td>https://www.legacysurvey.org/viewer?ra=118.2363&amp;dec=74.5765&amp;layer=ls-dr9&amp;zoom=13</td></tr>\n",
       "<tr><td>VFID0008</td><td>NGC 6643</td><td>0</td><td>0</td><td>0</td><td>0</td><td>0</td><td>0</td><td>0</td><td>0</td><td>0</td><td>https://www.legacysurvey.org/viewer?ra=274.9432&amp;dec=74.5684&amp;layer=ls-dr9&amp;zoom=13</td></tr>\n",
       "<tr><td>VFID0009</td><td>UGC 07238</td><td>0</td><td>0</td><td>0</td><td>0</td><td>0</td><td>0</td><td>0</td><td>0</td><td>0</td><td>https://www.legacysurvey.org/viewer?ra=183.4775&amp;dec=74.5014&amp;layer=ls-dr9&amp;zoom=13</td></tr>\n",
       "<tr><td>...</td><td>...</td><td>...</td><td>...</td><td>...</td><td>...</td><td>...</td><td>...</td><td>...</td><td>...</td><td>...</td><td>...</td></tr>\n",
       "<tr><td>VFID6787</td><td>UGC 07883</td><td>0</td><td>0</td><td>0</td><td>0</td><td>0</td><td>0</td><td>0</td><td>0</td><td>0</td><td>https://www.legacysurvey.org/viewer?ra=190.7386&amp;dec=-1.2294&amp;layer=ls-dr9&amp;zoom=13</td></tr>\n",
       "<tr><td>VFID6788</td><td>WISEA J142230.70-011345.2</td><td>0</td><td>0</td><td>0</td><td>0</td><td>0</td><td>0</td><td>0</td><td>0</td><td>0</td><td>https://www.legacysurvey.org/viewer?ra=215.6279&amp;dec=-1.2294&amp;layer=ls-dr9&amp;zoom=13</td></tr>\n",
       "<tr><td>VFID6789</td><td>WISEA J105245.44-011353.0</td><td>0</td><td>0</td><td>0</td><td>0</td><td>0</td><td>0</td><td>0</td><td>0</td><td>0</td><td>https://www.legacysurvey.org/viewer?ra=163.1893&amp;dec=-1.2314&amp;layer=ls-dr9&amp;zoom=13</td></tr>\n",
       "<tr><td>VFID6790</td><td>WISEA J124620.96-011500.3</td><td>0</td><td>0</td><td>0</td><td>0</td><td>0</td><td>0</td><td>0</td><td>0</td><td>0</td><td>https://www.legacysurvey.org/viewer?ra=191.5875&amp;dec=-1.2501&amp;layer=ls-dr9&amp;zoom=13</td></tr>\n",
       "<tr><td>VFID6791</td><td>UM 501</td><td>0</td><td>0</td><td>0</td><td>0</td><td>0</td><td>0</td><td>0</td><td>0</td><td>0</td><td>https://www.legacysurvey.org/viewer?ra=186.5945&amp;dec=-1.2543&amp;layer=ls-dr9&amp;zoom=13</td></tr>\n",
       "<tr><td>VFID6792</td><td>GAMA 143446</td><td>0</td><td>0</td><td>0</td><td>0</td><td>0</td><td>0</td><td>0</td><td>0</td><td>0</td><td>https://www.legacysurvey.org/viewer?ra=175.9398&amp;dec=-1.2766&amp;layer=ls-dr9&amp;zoom=13</td></tr>\n",
       "<tr><td>VFID6793</td><td>WISEA J112018.30-011650.6</td><td>0</td><td>0</td><td>0</td><td>0</td><td>0</td><td>0</td><td>0</td><td>0</td><td>0</td><td>https://www.legacysurvey.org/viewer?ra=170.0766&amp;dec=-1.2806&amp;layer=ls-dr9&amp;zoom=13</td></tr>\n",
       "<tr><td>VFID6794</td><td>WISEA J121338.81-011736.9</td><td>0</td><td>0</td><td>0</td><td>0</td><td>0</td><td>0</td><td>0</td><td>0</td><td>0</td><td>https://www.legacysurvey.org/viewer?ra=183.4117&amp;dec=-1.2935&amp;layer=ls-dr9&amp;zoom=13</td></tr>\n",
       "<tr><td>VFID6795</td><td>WISEA J122946.30-011741.6</td><td>0</td><td>0</td><td>0</td><td>0</td><td>0</td><td>0</td><td>0</td><td>0</td><td>0</td><td>https://www.legacysurvey.org/viewer?ra=187.4426&amp;dec=-1.2951&amp;layer=ls-dr9&amp;zoom=13</td></tr>\n",
       "<tr><td>VFID6796</td><td>UGC 07000</td><td>0</td><td>0</td><td>0</td><td>0</td><td>0</td><td>0</td><td>0</td><td>0</td><td>0</td><td>https://www.legacysurvey.org/viewer?ra=180.2962&amp;dec=-1.2961&amp;layer=ls-dr9&amp;zoom=13</td></tr>\n",
       "</table>"
      ],
      "text/plain": [
       "<Table length=6797>\n",
       "  name   ...\n",
       " bytes8  ...\n",
       "-------- ...\n",
       "VFID0000 ...\n",
       "VFID0001 ...\n",
       "VFID0002 ...\n",
       "VFID0003 ...\n",
       "VFID0004 ...\n",
       "VFID0005 ...\n",
       "VFID0006 ...\n",
       "VFID0007 ...\n",
       "VFID0008 ...\n",
       "VFID0009 ...\n",
       "     ... ...\n",
       "VFID6787 ...\n",
       "VFID6788 ...\n",
       "VFID6789 ...\n",
       "VFID6790 ...\n",
       "VFID6791 ...\n",
       "VFID6792 ...\n",
       "VFID6793 ...\n",
       "VFID6794 ...\n",
       "VFID6795 ...\n",
       "VFID6796 ..."
      ]
     },
     "execution_count": 170,
     "metadata": {},
     "output_type": "execute_result"
    }
   ],
   "source": [
    "newtab"
   ]
  },
  {
   "cell_type": "code",
   "execution_count": 171,
   "metadata": {},
   "outputs": [],
   "source": [
    "newtab[filament_members_subset].write(outdir+'astr101-morph-filaments.csv',overwrite=True,format='csv')\n",
    "newtab[field_members_subset].write(outdir+'astr101-morph-field.csv',overwrite=True,format='csv')\n",
    "newtab[virgo_members_subset].write(outdir+'astr101-morph-virgo.csv',overwrite=True,format='csv')\n",
    "\n"
   ]
  },
  {
   "cell_type": "markdown",
   "metadata": {},
   "source": [
    "### Save fits version so I can inspect with legacy viewer\n",
    "\n"
   ]
  },
  {
   "cell_type": "code",
   "execution_count": 174,
   "metadata": {},
   "outputs": [],
   "source": [
    "cols = [v.main['VFID'],v.main['NEDname'],v.main['RA'],v.main['DEC'],empty_col,empty_col,empty_col,empty_col,empty_col,empty_col,empty_col,empty_col,empty_col,legacy_urls]\n",
    "names = ['name','NEDname','RA','DEC','smooth/rounded','disk','edge-on','bar','spiral arms','odd/peculiar morph','red','blue','notes','legacy url']\n",
    "newtab = Table(cols,names=names)\n",
    "# write out fits version as well\n",
    "\n",
    "newtab[filament_members_subset].write(outdir+'astr101-morph-filaments.fits',overwrite=True,format='fits')\n",
    "newtab[field_members_subset].write(outdir+'astr101-morph-field.fits',overwrite=True,format='fits')\n",
    "newtab[virgo_members_subset].write(outdir+'astr101-morph-virgo.fits',overwrite=True,format='fits')\n",
    "\n",
    "# write out csv for importing into google sheets\n",
    "newtab[filament_members_subset].write(outdir+'astr101-morph-filaments.csv',overwrite=True,format='csv')\n",
    "newtab[field_members_subset].write(outdir+'astr101-morph-field.csv',overwrite=True,format='csv')\n",
    "newtab[virgo_members_subset].write(outdir+'astr101-morph-virgo.csv',overwrite=True,format='csv')\n",
    "\n"
   ]
  },
  {
   "cell_type": "markdown",
   "metadata": {},
   "source": [
    "### Visualizing the subsample for morphological classification"
   ]
  },
  {
   "cell_type": "code",
   "execution_count": 185,
   "metadata": {},
   "outputs": [
    {
     "data": {
      "image/png": "[encoded data removed]",
      "text/plain": [
       "<Figure size 720x432 with 2 Axes>"
      ]
     },
     "metadata": {
      "needs_background": "light"
     },
     "output_type": "display_data"
    }
   ],
   "source": [
    "plt.figure(figsize=(10,6))\n",
    "fflag = [virgo_members_subset,filament_members_subset,field_members_subset]\n",
    "labels = ['Virgo Cluster','Filament','Field']\n",
    "ssymbols = ['s','^','o']\n",
    "ssize = [20,30,20]\n",
    "colors = ['r','g','b']\n",
    "for i,f in enumerate(fflag):\n",
    "    plt.scatter(v.main['RA'][f],v.main['DEC'][f],s=ssize[i],c=colors[i],marker=ssymbols[i],label=labels[i])\n",
    "plt.colorbar()\n",
    "virgoCommon.plot_spines()\n",
    "plt.gca().invert_xaxis()\n",
    "#plt.legend()"
   ]
  },
  {
   "cell_type": "markdown",
   "metadata": {},
   "source": [
    "# Research Questions 2 - are all spirals blue?\n",
    "\n",
    "# NEED TO FIX LEGACY FILE - NOT RIGHT YET!!!\n",
    "\n",
    "* seems ok now.  \n",
    "\n",
    "## Need to create a separate file for this research question\n",
    "\n",
    "* this is the full sample of galaxies that have \n",
    "  * legacy phot\n",
    "  * galaxy zoo\n",
    "  * not worrying about ALFALFA for now\n",
    "* columns to include\n",
    "  * name, RA, DEC\n",
    "  * vr or distance\n",
    "  * local density\n",
    "  * g-r color\n",
    "  * prob spiral\n",
    "  * prob elliptical\n",
    "  * prob interaction\n",
    "  * prob bar\n",
    "  * stellar mass\n",
    "  * star formation rate\n",
    "  * field\n",
    "  * filament\n",
    "  * cluster"
   ]
  },
  {
   "cell_type": "code",
   "execution_count": 252,
   "metadata": {},
   "outputs": [
    {
     "data": {
      "text/plain": [
       "6797"
      ]
     },
     "execution_count": 252,
     "metadata": {},
     "output_type": "execute_result"
    }
   ],
   "source": [
    "len(gzoo)"
   ]
  },
  {
   "cell_type": "code",
   "execution_count": 257,
   "metadata": {},
   "outputs": [
    {
     "name": "stderr",
     "output_type": "stream",
     "text": [
      "/home/rfinn/anaconda3/lib/python3.7/site-packages/ipykernel_launcher.py:6: RuntimeWarning: invalid value encountered in subtract\n",
      "  \n"
     ]
    },
    {
     "name": "stdout",
     "output_type": "stream",
     "text": [
      "flag with a100  316\n",
      "flag and not in virgo  204\n",
      "flag_all 522\n",
      "flag_all and not in virgo  410\n"
     ]
    }
   ],
   "source": [
    "z0mgs_flag = (v.z0mgs['logmass'] > 8 ) & (v.z0mgs['logmass'] < 14 )   & v.main['Z0MGSflag']\n",
    "a100_flag = (v.main['DEC'] < 32)\n",
    "size_flag =  v.main['radius_flag'] & (v.main['radius'] < 150) & (v.main['radius'] > 40)\n",
    "weird_flag = np.abs(v.env['SGX'] < 40.) & (v.env['n5th_2D'] > -999) \n",
    "\n",
    "gr = v.dr9['Mg']-v.dr9['Mr']\n",
    "gr_flag = (gr > 0) & (gr < 1.2) & (~np.isnan(gr))\n",
    "\n",
    "legacy_flag = (v.main['RA'] > 122)& (v.main['RA'] < 250) & gr_flag\n",
    "flag = z0mgs_flag & a100_flag & size_flag & weird_flag & legacy_flag & gzoo_flag\n",
    "flag_all = z0mgs_flag & size_flag & legacy_flag & gzoo_flag & weird_flag\n",
    "print('flag with a100 ',sum(flag))\n",
    "print('flag and not in virgo ',sum(novirgo_flag))\n",
    "\n",
    "print('flag_all',sum(flag_all))\n",
    "novirgo_flag = flag &(v.env['flag_clus'] < .5)\n",
    "print('flag_all and not in virgo ',sum(flag_all & (v.env['flag_clus'] < .5)))\n",
    "\n"
   ]
  },
  {
   "cell_type": "code",
   "execution_count": 222,
   "metadata": {},
   "outputs": [],
   "source": []
  },
  {
   "cell_type": "markdown",
   "metadata": {},
   "source": [
    "### Define Galaxy Zoo Flags"
   ]
  },
  {
   "cell_type": "code",
   "execution_count": 277,
   "metadata": {},
   "outputs": [
    {
     "ename": "AttributeError",
     "evalue": "'list' object has no attribute 'colnames'",
     "output_type": "error",
     "traceback": [
      "\u001b[0;31m---------------------------------------------------------------------------\u001b[0m",
      "\u001b[0;31mAttributeError\u001b[0m                            Traceback (most recent call last)",
      "\u001b[0;32m<ipython-input-277-4ef379d73a92>\u001b[0m in \u001b[0;36m<module>\u001b[0;34m\u001b[0m\n\u001b[0;32m----> 1\u001b[0;31m \u001b[0mgzoo\u001b[0m\u001b[0;34m.\u001b[0m\u001b[0mcolnames\u001b[0m\u001b[0;34m\u001b[0m\u001b[0;34m\u001b[0m\u001b[0m\n\u001b[0m",
      "\u001b[0;31mAttributeError\u001b[0m: 'list' object has no attribute 'colnames'"
     ]
    }
   ],
   "source": [
    "gzoo.colnames"
   ]
  },
  {
   "cell_type": "code",
   "execution_count": 280,
   "metadata": {},
   "outputs": [
    {
     "name": "stderr",
     "output_type": "stream",
     "text": [
      "/home/rfinn/anaconda3/lib/python3.7/site-packages/astropy/table/column.py:984: RuntimeWarning: invalid value encountered in greater\n",
      "  result = getattr(super(), op)(other)\n"
     ]
    }
   ],
   "source": [
    "elliptical_flag =  (gzoo['t01_smooth_or_features_a01_smooth_debiased'] > 0.8)\n",
    "disk_flag =  (gzoo['t01_smooth_or_features_a02_features_or_disk_debiased'] > 0.8)\n",
    "spiral_flag =  (gzoo['t04_spiral_a08_spiral_debiased'] > 0.8)\n",
    "bar_flag = (gzoo['t03_bar_a06_bar_debiased'] > 0.8)\n",
    "ring_flag = (gzoo['t08_odd_feature_a19_ring_debiased'] > 0.8)\n",
    "disturbed_flag = (gzoo['t08_odd_feature_a21_disturbed_debiased'] > 0.8)\n",
    "merger_flag = (gzoo['t08_odd_feature_a24_merger_debiased'] > 0.8)"
   ]
  },
  {
   "cell_type": "code",
   "execution_count": 281,
   "metadata": {},
   "outputs": [],
   "source": [
    "interaction_flag = ring_flag | disturbed_flag | merger_flag"
   ]
  },
  {
   "cell_type": "code",
   "execution_count": 255,
   "metadata": {},
   "outputs": [
    {
     "data": {
      "text/plain": [
       "6797"
      ]
     },
     "execution_count": 255,
     "metadata": {},
     "output_type": "execute_result"
    }
   ],
   "source": [
    "len(elliptical_flag)"
   ]
  },
  {
   "cell_type": "markdown",
   "metadata": {},
   "source": [
    "### Write out file"
   ]
  },
  {
   "cell_type": "code",
   "execution_count": 282,
   "metadata": {},
   "outputs": [
    {
     "name": "stderr",
     "output_type": "stream",
     "text": [
      "/home/rfinn/anaconda3/lib/python3.7/site-packages/ipykernel_launcher.py:10: RuntimeWarning: invalid value encountered in log10\n",
      "  # Remove the CWD from sys.path while we load stuff.\n",
      "/home/rfinn/anaconda3/lib/python3.7/site-packages/ipykernel_launcher.py:13: RuntimeWarning: invalid value encountered in subtract\n",
      "  del sys.path[0]\n",
      "WARNING: UnitsWarning: 'log(solMass)' did not parse as fits unit: 'log' is not a recognized function [astropy.units.core]\n",
      "WARNING: UnitsWarning: 'log(solMass/yr)' did not parse as fits unit: 'log' is not a recognized function [astropy.units.core]\n"
     ]
    }
   ],
   "source": [
    "vfcols = [v.main['VFID'],v.main['RA'],v.main['DEC'],v.env['Vcosmic']/70,v.main['NEDname']]\n",
    "vfnames = ['name','RA','DEC','d_Mpc','NEDname']\n",
    "\n",
    "z0mgs = [v.z0mgs['logmass'],v.z0mgs['logsfr']]\n",
    "z0names = ['logMass','logSFR']\n",
    "\n",
    "gzoo_cols = [elliptical_flag,disk_flag,spiral_flag,bar_flag,interaction_flag]\n",
    "gzoo_names = ['elliptical','disk','spiral','bar','interaction']\n",
    "\n",
    "env = [field_flag,filament_flag,cluster_flag,np.log10(v.env['n5th_2D'])]\n",
    "env_names = ['field','filament','cluster','local_dens']\n",
    "\n",
    "legacy = [v.dr9['Mg'],v.dr9['Mr'],v.dr9['Mg']-v.dr9['Mr'],legacy_urls]\n",
    "legacy_names = ['Mg','Mr','g-r','legacy_url']\n",
    "\n",
    "all_cols = vfcols + z0mgs + gzoo_cols + env + legacy \n",
    "all_names = vfnames + z0names + gzoo_names + env_names + legacy_names \n",
    "\n",
    "newtab = Table(all_cols,names=all_names)\n",
    "newtab[flag_all].write(outdir+'astr101-all.fits',overwrite=True)\n",
    "\n",
    "ctab = newtab[flag_all]\n"
   ]
  },
  {
   "cell_type": "markdown",
   "metadata": {},
   "source": [
    "# red spirals"
   ]
  },
  {
   "cell_type": "code",
   "execution_count": 260,
   "metadata": {},
   "outputs": [
    {
     "data": {
      "text/plain": [
       "686"
      ]
     },
     "execution_count": 260,
     "metadata": {},
     "output_type": "execute_result"
    }
   ],
   "source": [
    "sum(elliptical_flag)"
   ]
  },
  {
   "cell_type": "code",
   "execution_count": 283,
   "metadata": {},
   "outputs": [],
   "source": [
    "s_flag = spiral_flag[flag_all]"
   ]
  },
  {
   "cell_type": "code",
   "execution_count": 268,
   "metadata": {},
   "outputs": [
    {
     "data": {
      "text/plain": [
       "[<matplotlib.lines.Line2D at 0x7f99ff6f1110>]"
      ]
     },
     "execution_count": 268,
     "metadata": {},
     "output_type": "execute_result"
    },
    {
     "data": {
      "image/png": "[encoded data removed]",
      "text/plain": [
       "<Figure size 432x288 with 1 Axes>"
      ]
     },
     "metadata": {
      "needs_background": "light"
     },
     "output_type": "display_data"
    }
   ],
   "source": [
    "plt.figure()\n",
    "plt.plot(ctab['logMass'][~s_flag],ctab['logSFR'][~s_flag],'k.')\n",
    "plt.plot(ctab['logMass'][s_flag],ctab['logSFR'][s_flag],'bo',alpha=.4)\n",
    "plt.xlabel('log Stellar Mass',fontsize=20)\n",
    "plt.ylabel('log SFR',fontsize=20)\n",
    "xline=np.linspace(7.5,11,20)\n",
    "yline = .53*xline-5.6\n",
    "plt.plot(xline,yline,'m--',lw=2)\n",
    "plt.plot(xline,yline-.6,'m--',lw=2)"
   ]
  },
  {
   "cell_type": "code",
   "execution_count": 103,
   "metadata": {},
   "outputs": [
    {
     "name": "stderr",
     "output_type": "stream",
     "text": [
      "/home/rfinn/anaconda3/lib/python3.7/site-packages/astropy/table/column.py:984: RuntimeWarning: invalid value encountered in less\n",
      "  result = getattr(super(), op)(other)\n"
     ]
    }
   ],
   "source": [
    "lowSFR_spiral_flag = s_flag & (ctab['logsfr'] < (0.53*ctab['logmass']-5.6-.6))"
   ]
  },
  {
   "cell_type": "code",
   "execution_count": 104,
   "metadata": {},
   "outputs": [
    {
     "data": {
      "text/plain": [
       "27"
      ]
     },
     "execution_count": 104,
     "metadata": {},
     "output_type": "execute_result"
    }
   ],
   "source": [
    "sum(lowSFR_spiral_flag)"
   ]
  },
  {
   "cell_type": "code",
   "execution_count": 269,
   "metadata": {},
   "outputs": [
    {
     "data": {
      "text/plain": [
       "(-0.5, 1.5)"
      ]
     },
     "execution_count": 269,
     "metadata": {},
     "output_type": "execute_result"
    },
    {
     "data": {
      "image/png": "[encoded data removed]",
      "text/plain": [
       "<Figure size 432x288 with 1 Axes>"
      ]
     },
     "metadata": {
      "needs_background": "light"
     },
     "output_type": "display_data"
    }
   ],
   "source": [
    "plt.figure()\n",
    "y = ctab['Mg']-ctab['Mr']\n",
    "plt.plot(ctab['logMass'][~s_flag],y[~s_flag],'k.')\n",
    "plt.plot(ctab['logMass'][s_flag],y[s_flag],'bo',alpha=.4)\n",
    "plt.xlabel('log Stellar Mass',fontsize=20)\n",
    "plt.ylabel('Mg-Mr',fontsize=20)\n",
    "xline=np.linspace(7.5,11,20)\n",
    "yline = 0*xline+.6\n",
    "plt.plot(xline,yline,'m--',lw=2)\n",
    "plt.plot(xline,yline+.2,'m--',lw=2)\n",
    "plt.ylim(-.5,1.5)"
   ]
  },
  {
   "cell_type": "code",
   "execution_count": 286,
   "metadata": {},
   "outputs": [
    {
     "name": "stdout",
     "output_type": "stream",
     "text": [
      " NEDname \n",
      "---------\n",
      " NGC 4332\n",
      " NGC 4238\n",
      " NGC 5218\n",
      " NGC 3835\n",
      " NGC 5376\n",
      " NGC 5678\n",
      " NGC 2870\n",
      " NGC 5443\n",
      "UGC 04906\n",
      " NGC 5676\n",
      "      ...\n",
      " NGC 4795\n",
      " NGC 4235\n",
      " NGC 4343\n",
      " NGC 3976\n",
      " NGC 4260\n",
      " NGC 4580\n",
      " NGC 5560\n",
      "  IC 1067\n",
      " NGC 4045\n",
      " NGC 5806\n",
      " NGC 5740\n",
      "Length = 60 rows\n",
      "60\n"
     ]
    }
   ],
   "source": [
    "red_spiral_flag = (y > .7) & s_flag\n",
    "print(ctab['NEDname'][red_spiral_flag])\n",
    "print(sum(red_spiral_flag))"
   ]
  },
  {
   "cell_type": "code",
   "execution_count": 287,
   "metadata": {},
   "outputs": [
    {
     "data": {
      "text/plain": [
       "[<matplotlib.lines.Line2D at 0x7f99fc55d510>]"
      ]
     },
     "execution_count": 287,
     "metadata": {},
     "output_type": "execute_result"
    },
    {
     "data": {
      "image/png": "[encoded data removed]",
      "text/plain": [
       "<Figure size 720x576 with 1 Axes>"
      ]
     },
     "metadata": {
      "needs_background": "light"
     },
     "output_type": "display_data"
    }
   ],
   "source": [
    "# plot positions of red spirals\n",
    "plt.figure(figsize=(10,8))\n",
    "plt.plot(ctab['RA'],ctab['DEC'],'k.')\n",
    "plt.plot(ctab['RA'][red_spiral_flag],ctab['DEC'][red_spiral_flag],'bo')"
   ]
  },
  {
   "cell_type": "code",
   "execution_count": 275,
   "metadata": {},
   "outputs": [
    {
     "data": {
      "text/plain": [
       "307"
      ]
     },
     "execution_count": 275,
     "metadata": {},
     "output_type": "execute_result"
    }
   ],
   "source": [
    "sum(spiral_flag[flag_all])"
   ]
  },
  {
   "cell_type": "code",
   "execution_count": null,
   "metadata": {},
   "outputs": [],
   "source": []
  }
 ],
 "metadata": {
  "kernelspec": {
   "display_name": "Python 3",
   "language": "python",
   "name": "python3"
  },
  "language_info": {
   "codemirror_mode": {
    "name": "ipython",
    "version": 3
   },
   "file_extension": ".py",
   "mimetype": "text/x-python",
   "name": "python",
   "nbconvert_exporter": "python",
   "pygments_lexer": "ipython3",
   "version": "3.7.4"
  }
 },
 "nbformat": 4,
 "nbformat_minor": 2
}
