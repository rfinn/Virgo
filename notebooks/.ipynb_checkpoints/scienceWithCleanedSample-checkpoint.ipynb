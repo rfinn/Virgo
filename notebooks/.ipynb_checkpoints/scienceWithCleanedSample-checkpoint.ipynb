{
 "cells": [
  {
   "cell_type": "code",
   "execution_count": null,
   "metadata": {},
   "outputs": [],
   "source": [
    "import os\n",
    "from matplotlib import pyplot as plt\n",
    "from astropy.io import fits"
   ]
  },
  {
   "cell_type": "markdown",
   "metadata": {},
   "source": [
    "# Plot SF Main Sequence #"
   ]
  },
  {
   "cell_type": "code",
   "execution_count": null,
   "metadata": {},
   "outputs": [],
   "source": [
    "os.chdir('/home/rfinn/research/Virgo/supersample/')\n",
    "c = fits.getdata('z0MGS_tbl.fits')\n",
    "c = Table(c)"
   ]
  },
  {
   "cell_type": "code",
   "execution_count": null,
   "metadata": {},
   "outputs": [],
   "source": [
    "c"
   ]
  },
  {
   "cell_type": "code",
   "execution_count": null,
   "metadata": {},
   "outputs": [],
   "source": [
    "# plot positions of matched sources\n",
    "v2 = int(3500./70)\n",
    "v1 = int(500./70)\n",
    "plt.figure(figsize=(10,6))\n",
    "plt.scatter(c['ra_01'],c['dec_01'],c=c['dist_mpc'],vmin=v1,vmax=v2,s=4)\n",
    "plt.gca().invert_xaxis()\n",
    "plt.colorbar()"
   ]
  },
  {
   "cell_type": "code",
   "execution_count": null,
   "metadata": {},
   "outputs": [],
   "source": [
    "plt.figure()\n",
    "\n",
    "\n",
    "cm = plt.cm.viridis\n",
    "cm.set_under((1,1,1))\n",
    "plt.hexbin(c['logmass'],c['logsfr'],gridsize=60,vmin=1,cmap=cm)#cmap='viridis')\n",
    "#colormass(c['logmass'],c['logsfr'])\n",
    "plt.xlabel('$\\log_{10}(M_\\star /M_\\odot)$',fontsize=20)\n",
    "plt.ylabel('$\\log_{10}(SFR/M_\\odot/yr)$',fontsize=20)\n",
    "ssfr_limit = -11\n",
    "xl = np.linspace(8,11.2,100)\n",
    "plt.plot(xl,xl-11,'m-',lw=4)\n",
    "plt.savefig('sfr-mstar.pdf')"
   ]
  },
  {
   "cell_type": "code",
   "execution_count": null,
   "metadata": {},
   "outputs": [],
   "source": [
    "plt.figure(figsize=(12,4))\n",
    "#flag =  (c['has_wise1'] == '1) & ((c['has_nuv'] == '1') |(c['has_wise4'] == '1'))\n",
    "#mybins = np.arange(0,350,50)\n",
    "t =plt.hist(c['logmass'],bins=50)#,bins=mybins)\n",
    "plt.xlabel('$\\log_{10}(M_\\star/M_\\odot)$',fontsize=16)\n",
    "plt.ylabel('N Galaxies',fontsize=16)\n",
    "#plt.xticks(np.arange(0,350,50))\n",
    "plt.savefig('mstar-hist.pdf')\n"
   ]
  },
  {
   "cell_type": "code",
   "execution_count": null,
   "metadata": {},
   "outputs": [],
   "source": [
    "plt.figure(figsize=(12,4))\n",
    "#flag =  (c['has_wise1'] == '1) & ((c['has_nuv'] == '1') |(c['has_wise4'] == '1'))\n",
    "#mybins = np.arange(0,350,50)\n",
    "t =plt.hist(c['logsfr'],bins=50)#,bins=mybins)\n",
    "#plt.xticks(np.arange(0,350,50))\n",
    "\n"
   ]
  },
  {
   "cell_type": "code",
   "execution_count": null,
   "metadata": {},
   "outputs": [],
   "source": [
    "plt.figure(figsize=(12,4))\n",
    "ssfr = c['logsfr'] - c['logmass']\n",
    "t =plt.hist(ssfr,bins=50)#,bins=mybins)\n",
    "plt.axvline(x=-11,c='k',lw=3)"
   ]
  },
  {
   "cell_type": "code",
   "execution_count": null,
   "metadata": {},
   "outputs": [],
   "source": []
  },
  {
   "cell_type": "code",
   "execution_count": null,
   "metadata": {},
   "outputs": [],
   "source": []
  },
  {
   "cell_type": "code",
   "execution_count": null,
   "metadata": {},
   "outputs": [],
   "source": []
  }
 ],
 "metadata": {
  "kernelspec": {
   "display_name": "Python 3",
   "language": "python",
   "name": "python3"
  },
  "language_info": {
   "codemirror_mode": {
    "name": "ipython",
    "version": 3
   },
   "file_extension": ".py",
   "mimetype": "text/x-python",
   "name": "python",
   "nbconvert_exporter": "python",
   "pygments_lexer": "ipython3",
   "version": "3.7.4"
  }
 },
 "nbformat": 4,
 "nbformat_minor": 2
}
