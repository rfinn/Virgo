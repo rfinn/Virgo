{
 "cells": [
  {
   "cell_type": "code",
   "execution_count": 2,
   "metadata": {},
   "outputs": [
    {
     "name": "stdout",
     "output_type": "stream",
     "text": [
      "Running on Rose's computer\n"
     ]
    }
   ],
   "source": [
    "from matplotlib import pyplot as plt\n",
    "%matplotlib inline\n",
    "from astropy.io import ascii\n",
    "import os\n",
    "import scipy.stats\n",
    "import numpy as np\n",
    "from astropy import units as u\n",
    "from astropy import constants as c\n",
    "from astropy.table import Table\n",
    "import sys\n",
    "import warnings\n",
    "warnings.filterwarnings('ignore')\n",
    "homedir = os.getenv(\"HOME\")\n",
    "gitdir = homedir+'/github/Virgo/'\n",
    "sys.path.append(homedir+'/github/Virgo/programs')\n",
    "from virgoCommon import *\n",
    "mycolors = plt.rcParams['axes.prop_cycle'].by_key()['color']"
   ]
  },
  {
   "cell_type": "code",
   "execution_count": null,
   "metadata": {},
   "outputs": [],
   "source": []
  },
  {
   "cell_type": "code",
   "execution_count": null,
   "metadata": {},
   "outputs": [],
   "source": [
    "filterpath = homedir+'/github/halphagui/filter_traces/'\n",
    "ffiles = glob.glob(filterpath+'wfc*ha*')\n",
    "print(ffiles)\n",
    "ha4 = filterpath+'ha4-sim04.txt'\n",
    "ffiles.append(ha4)"
   ]
  }
 ],
 "metadata": {
  "kernelspec": {
   "display_name": "Python 3",
   "language": "python",
   "name": "python3"
  },
  "language_info": {
   "codemirror_mode": {
    "name": "ipython",
    "version": 3
   },
   "file_extension": ".py",
   "mimetype": "text/x-python",
   "name": "python",
   "nbconvert_exporter": "python",
   "pygments_lexer": "ipython3",
   "version": "3.7.4"
  }
 },
 "nbformat": 4,
 "nbformat_minor": 2
}
