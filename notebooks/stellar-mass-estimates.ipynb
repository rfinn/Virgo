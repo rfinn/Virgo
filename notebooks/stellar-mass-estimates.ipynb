{
 "cells": [
  {
   "cell_type": "markdown",
   "metadata": {},
   "source": [
    "# Potential Ways to estimates Mstar #\n",
    "\n",
    "### z0MGS ###\n",
    "- around 3500 matches\n",
    "- logMstar provided in the catalog, so we can use this as a reference\n",
    "\n",
    "### GSWLC2 ###\n",
    "- 450 matches\n",
    "- this is not enough for our entire sample but we can use this as a reference\n",
    "\n",
    "### calculate Mstar from unWISE ###\n",
    "- 6500 matches\n",
    "- this only covers SDSS region \n",
    "- the photometry is optimized for extended sources\n",
    "- use the r-band data as prior (discussion in Salim+2016 that these fluxes didn't give as good a fit, but maybe this is only relevant for higher z sources within SDSS)\n",
    "\n",
    "### Allwise ###\n",
    "- 98% matches\n",
    "- we don't know if the fluxes are reliable for our galaxies\n",
    "- unwise vs allwise fluxes don't agree\n",
    "- this gives us largest coverage, but how many are actually reliable\n",
    "\n",
    "### Taylor+2011 Mstar ###\n",
    "- use SDSS g-i color to get stellar mass\n",
    "\n",
    "### 2MASS ###\n",
    "- J-K stellar mass estimates\n",
    "- not as reliable \n",
    "\n",
    "## Which gives us the largest sample? ##\n",
    "\n",
    "- this should be criteria for deciding \n",
    "\n",
    "# Related Issue #\n",
    "\n",
    "- we are adding so much complexity by extending sample below $Dec = -1$\n",
    "- is it worth it?"
   ]
  },
  {
   "cell_type": "code",
   "execution_count": null,
   "metadata": {},
   "outputs": [],
   "source": []
  }
 ],
 "metadata": {
  "kernelspec": {
   "display_name": "Python 3",
   "language": "python",
   "name": "python3"
  },
  "language_info": {
   "codemirror_mode": {
    "name": "ipython",
    "version": 3
   },
   "file_extension": ".py",
   "mimetype": "text/x-python",
   "name": "python",
   "nbconvert_exporter": "python",
   "pygments_lexer": "ipython3",
   "version": "3.7.4"
  }
 },
 "nbformat": 4,
 "nbformat_minor": 2
}
