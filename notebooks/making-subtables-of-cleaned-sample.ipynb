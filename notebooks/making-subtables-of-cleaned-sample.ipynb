{
 "cells": [
  {
   "cell_type": "markdown",
   "metadata": {},
   "source": [
    "# Creating subtables for the cleaned sample#\n",
    "\n",
    "- the goal of this notebook is to show how we create the various sample tables from the clean_kitchen_sink.fits table\n",
    "- the main program is **write_subtables.py**\n",
    "\n",
    "\n",
    "- a major goal is to match the CO table with the mastertable\n",
    "  - GL wants to do this using NED names, but this is complicated\n",
    "  - for example, for one galaxy, the hyperleda name points to a different galaxy in NED\n",
    "  - in another example, SHOC206b - the CO file is pointing to the second of a double nucleus in a galaxy, whereas the mastertable includes SHOC206a (this is the source in NSA, HL, etc)\n",
    "  - so as usual, what seemed to be a simple task has stretched on for weeks...\n",
    "\n",
    "## Cutting Catalog to Retain North Galaxies Only ##\n",
    "\n",
    "2020-Apr-07\n",
    "\n",
    "- decided in telecon today to keep north galaxies only for now\n",
    "- need to redo matching because I sorted clean_kitchen.fits by DEC so that we have continuous VFID numbers in the north.\n",
    "- need to rematch to:\n",
    "  - z0MGS\n",
    "  - 2MASS\n",
    "  - extinction\n",
    "  - legacy\n",
    "- updating write_subtables.py to cut catalogs\n",
    "\n"
   ]
  },
  {
   "cell_type": "code",
   "execution_count": 1,
   "metadata": {},
   "outputs": [],
   "source": [
    "from astropy.io import fits, ascii\n",
    "from matplotlib import pyplot as plt\n",
    "from astropy.table import Table\n",
    "import os\n",
    "import numpy as np\n",
    "%matplotlib inline"
   ]
  },
  {
   "cell_type": "code",
   "execution_count": 2,
   "metadata": {},
   "outputs": [],
   "source": [
    "import sys\n",
    "sys.path.append('/home/rfinn/github/APPSS/')\n",
    "from a100sdss import colormass"
   ]
  },
  {
   "cell_type": "code",
   "execution_count": 56,
   "metadata": {},
   "outputs": [],
   "source": [
    "def calc_offset(ra1, dec1, ra2, dec2):\n",
    "    d = np.sqrt((ra2-ra1)**2 + (dec2-dec1)**2)*3600\n",
    "    print('d in arcsec = {:.1f}'.format(d))"
   ]
  },
  {
   "cell_type": "markdown",
   "metadata": {},
   "source": [
    "# Challenge: match CO by name rather than position ##\n",
    "- this would be easy, except the NED names in the CO file are not the exact same as what NED considers the NED name.\n",
    "- for example:  for an NGC galaxy, NED would have a space between the NGC and number\n",
    "\n",
    "OPTIONS:\n",
    "- could look up NED name for each galaxy in the CO table\n",
    "- then match the real NED names to NEDname column in the master table\n",
    "- this might be the most efficient.\n",
    "- need to change UGC8656 to UGC8656 NOTES01 \n",
    "\n",
    "# Solution: Fixing NED names in the CO Catalog #\n",
    "\n",
    "- the CO catalog has NED names, but not in the exact format that NED uses\n",
    "- running a ned query for each galaxy to get the right name\n",
    "- then appending a column to CO mastertable called NEDname\n",
    "- write new table \n",
    "  - outfile = homedir+'/github/Virgo/tables/CO-MasterFile-2018Feb16-fixedNEDnames.fits'\n",
    "  \n",
    "  "
   ]
  },
  {
   "cell_type": "code",
   "execution_count": null,
   "metadata": {},
   "outputs": [],
   "source": [
    "%run ~/github/Virgo/programs/fix_CO_NEDname.py"
   ]
  },
  {
   "cell_type": "markdown",
   "metadata": {},
   "source": [
    "## Checking Precision of RA and DEC values ##\n",
    "\n",
    "- it seems like some of the values were truncated.\n",
    "- Dustin Lang mentioned this when he matched to unWISE\n",
    "- want to make sure they are ok"
   ]
  },
  {
   "cell_type": "code",
   "execution_count": 2,
   "metadata": {},
   "outputs": [],
   "source": [
    "os.chdir('/home/rfinn/research/Virgo/supersample/')\n",
    "cleancat = fits.getdata('vf_clean_sample.fits')"
   ]
  },
  {
   "cell_type": "code",
   "execution_count": 3,
   "metadata": {},
   "outputs": [
    {
     "data": {
      "text/plain": [
       "array([185.86877, 182.208  , 145.94466, ..., 169.26881, 157.98427,\n",
       "       158.10371], dtype=float32)"
      ]
     },
     "execution_count": 3,
     "metadata": {},
     "output_type": "execute_result"
    }
   ],
   "source": [
    "cleancat['RA']"
   ]
  },
  {
   "cell_type": "markdown",
   "metadata": {},
   "source": [
    "RA appears to preserve the significan digits in the table, but not when displayed in topcat."
   ]
  },
  {
   "cell_type": "markdown",
   "metadata": {},
   "source": [
    "# Matching to CO table #\n",
    "\n",
    "- added method in write_subtables.py\n",
    "  - get_CO\n",
    "  - creates vf_co.fits"
   ]
  },
  {
   "cell_type": "code",
   "execution_count": 25,
   "metadata": {},
   "outputs": [
    {
     "data": {
      "text/plain": [
       "<Figure size 432x288 with 0 Axes>"
      ]
     },
     "metadata": {},
     "output_type": "display_data"
    }
   ],
   "source": [
    "os.chdir('/home/rfinn/research/Virgo/supersample/')\n",
    "%run ~/github/Virgo/programs/write_subtables.py\n"
   ]
  },
  {
   "cell_type": "code",
   "execution_count": 26,
   "metadata": {},
   "outputs": [
    {
     "name": "stdout",
     "output_type": "stream",
     "text": [
      "all CO sources have been matched. CONGRATULATIONS!!!!!!!\n",
      "number of galaxies with CO matches =  227\n",
      "number of duplicates =  1\n",
      "CO sources that are matched to multiple galaxies in the mastertable:\n",
      "NED_name\n",
      "--------\n",
      "      --\n"
     ]
    }
   ],
   "source": [
    "c.get_CO()"
   ]
  },
  {
   "cell_type": "markdown",
   "metadata": {},
   "source": [
    "# Fixed Error: Needed to update indices of AGC sources in clean_kitchen_sink.py after adding NSA v0 #\n",
    "\n",
    "These are old notes.  I'm leaving them in case they are useful.\n",
    "\n",
    "- need to find the original id # in the kitchen_sink table so I can check the cutout\n",
    "- opened smart_kitchen_sink_v2.fits in topcat, and sorted first by objname - but AGC source is not in this file\n",
    "- it must be added when I match to A100.\n",
    "  - problem - both sources have A100 flag = True, but HL = UGC08290 has not data entries in the A100 columns. UGH!!!\n",
    "  - need to remember how I add A100 sources in clean_kitchen_sink.py\n",
    "  - I also moved the NED query to its own program - get_NEDname.py.  This will be run separately after clean_kitchen_sink.py.  The output from get_NEDname.py is **vf_clean_sample_wNEDname.fits**.\n",
    "  \n",
    "- need to get index in catalog, then galnumber for that index.  do this BEFORE sorting by RA.  The galnumber will correspond to the number of the galaxy in the 10k that we reviewed by eye.\n",
    "- I needed to update ID numbers in the clean_kitchen_sink - clean_new_a100 after adding NSA v2.  I did this on 5/15/20, and will now move on to solving for NED ids."
   ]
  },
  {
   "cell_type": "markdown",
   "metadata": {},
   "source": [
    "# Matching to NED sources #\n",
    "- moved this to a different program\n",
    "- it's run in get-NEDname notebook"
   ]
  },
  {
   "cell_type": "markdown",
   "metadata": {},
   "source": [
    "## Before adding nsa_v0_1_2 ##\n",
    "\n",
    "- galaxies with NED names (from query) that are significantly different from NED name in CO file"
   ]
  },
  {
   "cell_type": "code",
   "execution_count": null,
   "metadata": {},
   "outputs": [],
   "source": [
    "%run ~/github/Virgo/programs/write_subtables.py\n",
    "c.get_CO()"
   ]
  },
  {
   "cell_type": "code",
   "execution_count": 54,
   "metadata": {
    "scrolled": false
   },
   "outputs": [
    {
     "name": "stdout",
     "output_type": "stream",
     "text": [
      "WISEA J150535.77+590537.2 ASK110438\n",
      "MCG +08-25-006 PGC47274\n",
      "MCG +08-16-005 SHOC206b\n",
      "UGC8656 NOTES01 UGC8656\n",
      "SDSS J134944.34+395905.1 NGC5313\n",
      "WISEA J135224.88+393327.3 ASK322610\n",
      "UGC 08919 NOTES01 ARK435\n",
      "WISEA J113844.05+334817.2 UGC6610\n",
      "2MASX J09512804+3256337 UGC5287\n",
      "FBQS J085533.2+311242 PGC25063\n",
      "SDSS J090024.12+253653.0 UGC4722\n",
      "KUG 1209+203 PGC38859\n",
      "SDSS J142004.36+035933.8 NGC5560\n",
      "SDSS J150629.16+013620.9 NGC5846\n"
     ]
    }
   ],
   "source": [
    "n1 = c.cotable['NEDname'][c.coflag]\n",
    "n2 = c.cotable['NED_name'][c.coflag]\n",
    "for i in range(sum(c.coflag)):\n",
    "    if (n2[i][0:2] == n1[i][0:2]) & (n2[i][-2:] == n1[i][-2:]):\n",
    "        continue\n",
    "    else:\n",
    "        print(n1[i], n2[i])"
   ]
  },
  {
   "cell_type": "markdown",
   "metadata": {},
   "source": [
    "| n | VF Table NEDname| CO Table NEDname| OK? | Explanation |\n",
    "|---|----------|----------|-------------|----|\n",
    "|1|WISEA J150535.77+590537.2| ASK110438| Y | NED says these are the same; VF name is official |\n",
    "|2|MCG +08-25-006| PGC47274|Y | NED says these are the same; VF name is official |\n",
    "|3|MCG +08-16-005| SHOC206b|N | NED says MCG is SHOC 206a, SHOC 206b is not in VF catalog|\n",
    "|4|UGC8656 NOTES01| UGC8656|Y | this is named wrong in CO table; still need CO obs of UGC8656 |\n",
    "|5|SDSS J134944.34+395905.1| NGC5313 | N | NED says NGC5313 is SDSS J134944.34+395905.2\n",
    "|6|WISEA J135224.88+393327.3 |ASK322610|\n",
    "|7|UGC 08919 NOTES01| ARK435|\n",
    "|8|WISEA J113844.05+334817.2 |UGC6610|\n",
    "|9|2MASX J09512804+3256337| UGC5287|\n",
    "|10|FBQS J085533.2+311242 |PGC25063|\n",
    "|11|SDSS J090024.12+253653.0| UGC4722|\n",
    "|12|KUG 1209+203 |PGC38859|\n",
    "|13|SDSS J142004.36+035933.8 |NGC5560|\n",
    "|14|SDSS J150629.16+013620.9| NGC5846|\n",
    "\n",
    "\n",
    "## Looking at mismatches more closely ##\n",
    "\n",
    "|Pair|Object | NED Coords | offset (arcsec)| Conclusion | \n",
    "|--|-------|--------|----------|---|\n",
    "|1 |SHOC206a=MCG +08-16-005 | RA/Dec Equatorial (J2000.0)\t126.825060\t46.032613| 5.8 | same galaxy? |\n",
    "||SHOC206b   | RA/Dec Equatorial (J2000.0)\t126.825303\t46.034192|\n",
    "|||||||\n",
    "|2 |  NGC5313 = SDSS J134944.34+395905.2 | 207.434750\t39.984778 |0.1 | same galaxy |\n",
    "| | SDSS J134944.34+395905.1 |207.434766, 39.984776 |\n",
    "\n",
    "## Conclusions ##\n",
    "- seems like a problem when matching the main catalog to the NED catalog\n",
    "- maybe there are multiple matches with/10-15 arcsec(whatever we used for max offset), and we are choosing the wrong one.\n"
   ]
  },
  {
   "cell_type": "markdown",
   "metadata": {},
   "source": [
    "## After adding nsa_v0_1_2 ##\n",
    "\n",
    "- galaxies with NED names (from query) that are significantly different from NED name in CO file\n"
   ]
  },
  {
   "cell_type": "code",
   "execution_count": 43,
   "metadata": {},
   "outputs": [
    {
     "name": "stdout",
     "output_type": "stream",
     "text": [
      "FBQS J085533.2+311242 PGC25063\n",
      "KUG 1209+203 PGC38859\n",
      "MCG +08-25-006 PGC47274\n",
      "UGC 08919 NOTES01 ARK435\n",
      "WISEA J135224.88+393327.3 ASK322610\n"
     ]
    }
   ],
   "source": [
    "n1 = c.cotable['NEDname'][c.coflag]\n",
    "n2 = c.cotable['NED_name'][c.coflag]\n",
    "for i in range(sum(c.coflag)):\n",
    "    if (n2[i][0:2] == n1[i][0:2]) & (n2[i][-2:] == n1[i][-2:]):\n",
    "        continue\n",
    "    else:\n",
    "        print(n1[i], n2[i])"
   ]
  },
  {
   "cell_type": "markdown",
   "metadata": {},
   "source": [
    "## Write out subtables ##\n",
    "\n",
    "- rewriting subtables after CO Ned names are fixed"
   ]
  },
  {
   "cell_type": "code",
   "execution_count": 7,
   "metadata": {},
   "outputs": [
    {
     "name": "stdout",
     "output_type": "stream",
     "text": [
      "CO sources with no match in mastertable:\n",
      "         NEDname           NED_name\n",
      "------------------------- ---------\n",
      "                 NGC 2793   NGC2793\n",
      "                SHOC 206b  SHOC206b\n",
      "        UGC 08656 NOTES01   UGC8656\n",
      "                UGC 09348   UGC9348\n",
      "WISEA J150535.77+590537.2 ASK110438\n",
      "number of galaxies with CO matches =  222\n"
     ]
    },
    {
     "data": {
      "text/plain": [
       "<Figure size 432x288 with 0 Axes>"
      ]
     },
     "metadata": {},
     "output_type": "display_data"
    },
    {
     "data": {
      "image/png": "[encoded data removed]",
      "text/plain": [
       "<Figure size 432x288 with 1 Axes>"
      ]
     },
     "metadata": {
      "needs_background": "light"
     },
     "output_type": "display_data"
    }
   ],
   "source": [
    "%run ~/github/Virgo/programs/write_subtables.py\n",
    "c.get_CO()"
   ]
  },
  {
   "cell_type": "markdown",
   "metadata": {},
   "source": [
    "## After including nsa_v0_1_2 ##\n",
    "\n",
    "- 4 CO sources with no match in mastertable"
   ]
  },
  {
   "cell_type": "code",
   "execution_count": 1,
   "metadata": {},
   "outputs": [
    {
     "name": "stdout",
     "output_type": "stream",
     "text": [
      "CO sources with no match in mastertable:\n",
      "         NEDname           NED_name\n",
      "------------------------- ---------\n",
      "                SHOC 206b  SHOC206b\n",
      "        UGC 08656 NOTES01   UGC8656\n",
      "                UGC 09348   UGC9348\n",
      "WISEA J150535.77+590537.2 ASK110438\n",
      "number of galaxies with CO matches =  225\n"
     ]
    }
   ],
   "source": [
    "%run ~/github/Virgo/programs/write_subtables.py\n",
    "c.get_CO()"
   ]
  },
  {
   "cell_type": "markdown",
   "metadata": {},
   "source": [
    "## After Adding NSA v0_1_2, still have 4 CO sources that are not in mastertable ##\n",
    "\n",
    "|         NEDname         | NOTES | OTHER |\n",
    "|-------------------------|--------| ------|\n",
    "|                SHOC 206b| NSA 015877; this is the same source as SHOC 206a \n",
    "|        UGC 08656 NOTES01| LEDA 214137 |\n",
    "|                UGC 09348| in NSA 002473 (NSA version 2 vr = 27000!), SDSS, PGC 051957; should be in cat|\n",
    "|WISEA J150535.77+590537.2| NSA 019809 (in v2, ZDIST=.0459; v1, ZDIST=.008867)|\n",
    "\n",
    "\n",
    "### SHOC 206b ###\n",
    "\n",
    "-  NSA 015877; this is the same source as SHOC 206a\n",
    "- http://nsatlas.org/getAtlas.html?search=nsaid&nsaID=015877&submit_form=Submit \n",
    "- The NSA image shows that there is a double nucleus, so \"b\" is pointing to the southern nucleus and \"a\" is more central.  I'm assuming that the CO beam is the same.\n",
    "- The NSA photometry is for the combined source\n",
    "- The official NEDname of SHOC206a is MCG +08-16-005\n",
    "- These should be merged in our catalog\n",
    "- could reset the name in the CO table to be MCG +08-16-005, and then the matching should proceed ok.\n",
    "\n",
    "### UGC 08656 NOTES01 ###\n",
    "- This is the companion source to UGC 08656\n",
    "- this was accidentally observed instead of the main source\n",
    "- no cross id in NSA or AGC.  \n",
    "- https://ned.ipac.caltech.edu/byname?objname=UGC%2008656%20NOTES01&hconst=67.8&omegam=0.308&omegav=0.692&wmap=4&corr_z=1\n",
    "\n",
    "### UGC 09348 ###\n",
    "\n",
    "- NSA 002473\n",
    "- http://nsatlas.org/getAtlas.html?search=nsaid&nsaID=2473&submit_form=Submit\n",
    "- this is in the vf_clean_sample.fits\n",
    "  - NEDname is NGC 5658 in our table, but this is not the NED name of UGC 9348\n",
    "- NED link for UGC 09348: https://ned.ipac.caltech.edu/byname?objname=UGC%2009348&hconst=67.8&omegam=0.308&omegav=0.692&wmap=4&corr_z=1\n",
    "- NED link for NGC 5658: https://ned.ipac.caltech.edu/byname?objname=NGC%205658&hconst=67.8&omegam=0.308&omegav=0.692&wmap=4&corr_z=1\n",
    "\n",
    "| OBJECT | RA | DEC | Z | AKA |\n",
    "|--------|----|-----|----|---|\n",
    "| UGC 09348 | 14h32m28.507s/ 218.118779| +00d17m38.43s/\t0.294008 | 1672 | NSA 002473, PGC 051957 |\n",
    "| NGC 5658 | 14h31m55.288s/\t217.980366| -00d22m02.27s/-0.367298 | no z | WISEA J143155.28-002202.4 |\n",
    "\n",
    "- OK, this one is really odd.  Hyperleda gives the UGC09348 coordinates for NGC5658!\n",
    "  - http://leda.univ-lyon1.fr/ledacat.cgi?o=NGC%205658\n",
    "  - hyperleda says the alternate name is UGC09348!  but NED has completely different coordinates for these two.  Which is correct???\n",
    "  - both surveys agree on UGC09348, so best solution is to change Hyperleda name to UGC 09348\n",
    "  \n",
    "### WISEA J150535.77+590537.2 ###\n",
    "\n",
    "- NSA 019809 - this is in vf_clean_sample.fits\n",
    "- in our catalog, the NEDname of NSA source is 2MASX J13593307+3240534\n",
    "- HL name in our catalog is PGC2586382\n",
    "\n",
    "| OBJECT | RA | DEC | Z | AKA |\n",
    "|--------|----|-----|----|---|\n",
    "|  WISEA J150535.77+590537.2 | 15h05m35.727s, +59d05m37.56s | \t226.398865, 59.093766 | 2606 | NSA 019809 |\n",
    "\n",
    "| MASX J13593307+3240534  | 13h59m33.099s, +32d40m53.00s | \t209.887914, 32.681388 |     | NSA 094608 |\n",
    "\n",
    "| PGC2586382 | \tJ150535.74+590537.7 | \n",
    "\n",
    "- so somehow we got the wrong NEDname for this guy.\n",
    "- hmmm - looks like a lot of the ned names\n",
    "- going to gather ned names again, and also save the RA and DEC.  then I can check the RA and DEC against the values in our catalog to make sure its correct.\n",
    "\n",
    "I also just found an issue in how I was combining the RA and DEC values in clean_kitchen_sink.py, so I need to rerun this as well.\n",
    "\n",
    "# All CO sources are now in the mastertable #"
   ]
  },
  {
   "cell_type": "markdown",
   "metadata": {},
   "source": [
    "- 5 galaxies in CO table are not in mastertable.\n",
    "- Gianluca said he removed some sources as well because they were too distant.\n",
    "- going to check the sources that I can't match against his list\n",
    "- he emailed me a list on Friday 4/17: \n",
    "\n",
    "\n",
    "|         NEDname         | NOTES |\n",
    "|-------------------------|--------|\n",
    "|                 NGC 2793| NSA 135797 (not in version 2 of NSA!, in version 1), PG 026189|\n",
    "|                SHOC 206b| NSA 015877 (in v2, but ZDIST = .13!; v1 ZDIST=.0077) | \n",
    "|        UGC 08656 NOTES01| LEDA 214137 |\n",
    "|                UGC 09348| in NSA 002473 (NSA version 2 vr = 27000!), SDSS, PGC 051957; should be in cat|\n",
    "|WISEA J150535.77+590537.2| NSA 019809 (in v2, ZDIST=.0459; v1, ZDIST=.008867)|\n",
    "\n",
    "\n"
   ]
  },
  {
   "cell_type": "markdown",
   "metadata": {},
   "source": [
    "# Steer+17 Table with Redshift-independent distances #\n",
    "\n",
    "- Downloaded this from NED webpage\n",
    "- http://ned.ipac.caltech.edu/Library/Distances/\n",
    "- did a first matching in topcat, based on NED name\n",
    "  - best match, symmetric, all from 1\n",
    "  - found 2411 pairs\n",
    "  - saved as fits-basic\n",
    "  - ~/research/Virgo/tables/vf-steer17.fits\n",
    "  \n",
    "### Need to use Gianluca's catalog instead. ###\n",
    "\n",
    "- he has combined independent distance measurements for each galaxy (using median), and scaled to same value of H0\n",
    "  - /home/rfinn/research/Virgo/ancil-tables/Steer2017_cat_Virgo_field_H0_74_0.fits\n",
    "  \n",
    "- editing **write_subtables.py** to do the matching\n",
    "  - subroutine match_steer17\n",
    "  \n",
    "- match by NEDname\n"
   ]
  },
  {
   "cell_type": "code",
   "execution_count": 9,
   "metadata": {},
   "outputs": [],
   "source": [
    "steercat = '/home/rfinn/research/Virgo/ancil-tables/Steer2017_cat_Virgo_field_H0_74_0.fits'\n",
    "steer = Table(fits.getdata(steercat))"
   ]
  },
  {
   "cell_type": "code",
   "execution_count": 10,
   "metadata": {
    "scrolled": true
   },
   "outputs": [
    {
     "data": {
      "text/html": [
       "<i>Table length=4957</i>\n",
       "<table id=\"table140682790212304\" class=\"table-striped table-bordered table-condensed\">\n",
       "<thead><tr><th>Type_NED</th><th>Dall_err</th><th>decNED</th><th>Dmedian</th><th>Num. D Measures</th><th>NEDname</th><th>raNED</th><th>zNED</th><th>Dmedian_Steer</th><th>Dmean</th><th>Dmin</th><th>Dall</th><th>Dmax</th><th>Dmean_Steer</th><th>Galaxy ID</th></tr></thead>\n",
       "<thead><tr><th>str6</th><th>str755</th><th>float64</th><th>float64</th><th>int64</th><th>str29</th><th>float64</th><th>float64</th><th>float64</th><th>float64</th><th>float64</th><th>str825</th><th>float64</th><th>float64</th><th>str30</th></tr></thead>\n",
       "<tr><td>G</td><td>2.72</td><td>48.30375</td><td>73.740155000527</td><td>1</td><td>2MASX J07084401+4818132</td><td>107.18337</td><td>0.020731</td><td>78.1</td><td>73.740155000527</td><td>73.740155000527</td><td>73.74</td><td>73.740155000527</td><td>78.1</td><td>2MASX J07084401+4818132</td></tr>\n",
       "<tr><td>G</td><td>3.66</td><td>48.8315</td><td>79.37871170573928</td><td>1</td><td>2MASX J07085345+4849532</td><td>107.22275</td><td>0.020928</td><td>84.1</td><td>79.37871170573928</td><td>79.37871170573928</td><td>79.38</td><td>79.37871170573928</td><td>84.1</td><td>2MASX J07085345+4849532</td></tr>\n",
       "<tr><td>G</td><td>2.86-5.98-6.32</td><td>-5.42792</td><td>31.058390185656297</td><td>3</td><td>2MASX J07093459-0525404</td><td>107.39413</td><td>0.005724</td><td>30.9</td><td>31.04190514854785</td><td>30.176388999973135</td><td>31.06-30.18-31.89</td><td>31.89093626001412</td><td>30.733333333333334</td><td>2MASX J07093459-0525404</td></tr>\n",
       "<tr><td>G</td><td>-4841.16</td><td>-22.04481</td><td>10.512452492215363</td><td>1</td><td>2MASX J07300813-2201060</td><td>112.51767</td><td>0.002592</td><td>11.1</td><td>10.512452492215363</td><td>10.512452492215363</td><td>10.51</td><td>10.512452492215363</td><td>11.1</td><td>2MASX J07300813-2201060</td></tr>\n",
       "<tr><td>G</td><td>2.75-5.88-8.09-8.35-8.45</td><td>-30.11219</td><td>39.057464450683725</td><td>5</td><td>2MASX J07412825-3006436</td><td>115.36763</td><td>0.007032</td><td>41.4</td><td>35.07030918761221</td><td>25.924121376610223</td><td>25.92-31.89-39.06-39.42-39.06</td><td>39.418858719690135</td><td>37.14</td><td>2MASX J07412825-3006436</td></tr>\n",
       "<tr><td>G</td><td>10.85</td><td>13.43354</td><td>71.40095920428249</td><td>1</td><td>2MASX J07593778+1326003</td><td>119.90754</td><td>0.014935</td><td>75.6</td><td>71.40095920428249</td><td>71.40095920428249</td><td>71.40</td><td>71.40095920428249</td><td>75.6</td><td>2MASX J07593778+1326003</td></tr>\n",
       "<tr><td>G</td><td>12.83</td><td>-9.90174</td><td>58.036878524628676</td><td>1</td><td>2MASX J08001030-0954062</td><td>120.0429</td><td>0.022385</td><td>61.3</td><td>58.036878524628676</td><td>58.036878524628676</td><td>58.04</td><td>58.036878524628676</td><td>61.3</td><td>2MASX J08001030-0954062</td></tr>\n",
       "<tr><td>G</td><td>13.42</td><td>11.31945</td><td>63.34379022335643</td><td>1</td><td>2MASX J08002096+1119098</td><td>120.08741</td><td>0.01491</td><td>67.0</td><td>63.34379022335643</td><td>63.34379022335643</td><td>63.34</td><td>63.34379022335643</td><td>67.0</td><td>2MASX J08002096+1119098</td></tr>\n",
       "<tr><td>G</td><td>3.41-6.12-13.69-14.07</td><td>21.41867</td><td>68.19096704682063</td><td>4</td><td>2MASX J08235222+2125079</td><td>125.96771</td><td>0.016995</td><td>69.15</td><td>68.46261954412418</td><td>66.4016607779013</td><td>67.25-66.40-69.13-71.07</td><td>71.06688330495413</td><td>68.92499999999998</td><td>2MASX J08235222+2125079</td></tr>\n",
       "<tr><td>G</td><td>17.05</td><td>11.44909</td><td>80.48297958355853</td><td>1</td><td>2MASX J08253342+1126571</td><td>126.38922</td><td>0.030921</td><td>84.9</td><td>80.48297958355853</td><td>80.48297958355853</td><td>80.48</td><td>80.48297958355853</td><td>84.9</td><td>2MASX J08253342+1126571</td></tr>\n",
       "<tr><td>...</td><td>...</td><td>...</td><td>...</td><td>...</td><td>...</td><td>...</td><td>...</td><td>...</td><td>...</td><td>...</td><td>...</td><td>...</td><td>...</td><td>...</td></tr>\n",
       "<tr><td>G</td><td>17.39</td><td>-17.12169</td><td>78.6509633024801</td><td>1</td><td>VV 802 NED01</td><td>200.01943</td><td>0.020648</td><td>83.2</td><td>78.6509633024801</td><td>78.6509633024801</td><td>78.65</td><td>78.6509633024801</td><td>83.2</td><td>VV 802 NED01</td></tr>\n",
       "<tr><td>G</td><td>13.83-13.87-3.89</td><td>28.84847</td><td>36.61879475581925</td><td>3</td><td>VV 841</td><td>196.659</td><td>0.015841</td><td>38.7</td><td>38.395382182523704</td><td>36.28307162753754</td><td>36.62-36.28-42.28</td><td>42.28428016421432</td><td>39.73333333333333</td><td>VV 841</td></tr>\n",
       "<tr><td>G</td><td>-16.56--20.94-0.01-0.01-0.01</td><td>51.05</td><td>0.03595042642739656</td><td>5</td><td>WILLMAN 1</td><td>162.3375</td><td>-4.3e-05</td><td>0.038</td><td>0.03918959648657905</td><td>0.03595042642739656</td><td>0.04-0.05-0.04-0.04-0.04</td><td>0.045467811009815916</td><td>0.041400000000000006</td><td>WILLMAN 1</td></tr>\n",
       "<tr><td>G</td><td>1.12</td><td>13.37583</td><td>14.312122545202511</td><td>1</td><td>[C2006a] N dSph</td><td>186.67542</td><td>-1000.0</td><td>15.1</td><td>14.312122545202511</td><td>14.312122545202511</td><td>14.31</td><td>14.312122545202511</td><td>15.1</td><td>[C2006a] N dSph</td></tr>\n",
       "<tr><td>G</td><td>0.83</td><td>13.35486</td><td>14.986632100284469</td><td>1</td><td>[C2006a] N lsb10</td><td>186.70042</td><td>-1000.0</td><td>15.8</td><td>14.986632100284469</td><td>14.986632100284469</td><td>14.99</td><td>14.986632100284469</td><td>15.8</td><td>[C2006a] N lsb10</td></tr>\n",
       "<tr><td>G</td><td>-1678.61--1725.64-0.07-0.08</td><td>71.11417</td><td>3.6534670716322766</td><td>4</td><td>[HS98] 117</td><td>155.355</td><td>-0.000123</td><td>3.8600000000000003</td><td>3.6664365887061736</td><td>3.611636605620433</td><td>3.65-3.75-3.61-3.66</td><td>3.7471756059397086</td><td>3.875</td><td>[HS98] 117</td></tr>\n",
       "<tr><td>G</td><td>0.28</td><td>33.55911</td><td>8.663712781098097</td><td>1</td><td>[KK98] 070</td><td>133.84305</td><td>-1000.0</td><td>9.18</td><td>8.663712781098097</td><td>8.663712781098097</td><td>8.66</td><td>8.663712781098097</td><td>9.18</td><td>[KK98] 070</td></tr>\n",
       "<tr><td>G</td><td>-3349.27-1.35</td><td>-10.49611</td><td>7.306487595407564</td><td>2</td><td>[RC3] 1234.6-1014</td><td>189.30625</td><td>0.002522</td><td>7.695</td><td>7.306487595407564</td><td>7.2728402144285464</td><td>7.27-7.34</td><td>7.340134976386582</td><td>7.695</td><td>[RC3] 1234.6-1014</td></tr>\n",
       "<tr><td>*Cl</td><td>1.30</td><td>12.57381</td><td>16.661114390983002</td><td>1</td><td>[WCD2007] IGC-4</td><td>187.03629</td><td>-1000.0</td><td>17.6</td><td>16.661114390983002</td><td>16.661114390983002</td><td>16.66</td><td>16.661114390983002</td><td>17.6</td><td>[WCD2007] IGC-4</td></tr>\n",
       "<tr><td>G</td><td>-8412.98</td><td>47.5139</td><td>18.268548653160288</td><td>1</td><td>kkh 038</td><td>101.97868</td><td>0.001504</td><td>19.3</td><td>18.268548653160288</td><td>18.268548653160288</td><td>18.27</td><td>18.268548653160288</td><td>19.3</td><td>kkh 038</td></tr>\n",
       "</table>"
      ],
      "text/plain": [
       "<Table length=4957>\n",
       "Type_NED           Dall_err           ...        Galaxy ID       \n",
       "  str6              str755            ...          str30         \n",
       "-------- ---------------------------- ... -----------------------\n",
       "       G                         2.72 ... 2MASX J07084401+4818132\n",
       "       G                         3.66 ... 2MASX J07085345+4849532\n",
       "       G               2.86-5.98-6.32 ... 2MASX J07093459-0525404\n",
       "       G                     -4841.16 ... 2MASX J07300813-2201060\n",
       "       G     2.75-5.88-8.09-8.35-8.45 ... 2MASX J07412825-3006436\n",
       "       G                        10.85 ... 2MASX J07593778+1326003\n",
       "       G                        12.83 ... 2MASX J08001030-0954062\n",
       "       G                        13.42 ... 2MASX J08002096+1119098\n",
       "       G        3.41-6.12-13.69-14.07 ... 2MASX J08235222+2125079\n",
       "       G                        17.05 ... 2MASX J08253342+1126571\n",
       "     ...                          ... ...                     ...\n",
       "       G                        17.39 ...            VV 802 NED01\n",
       "       G             13.83-13.87-3.89 ...                  VV 841\n",
       "       G -16.56--20.94-0.01-0.01-0.01 ...               WILLMAN 1\n",
       "       G                         1.12 ...         [C2006a] N dSph\n",
       "       G                         0.83 ...        [C2006a] N lsb10\n",
       "       G  -1678.61--1725.64-0.07-0.08 ...              [HS98] 117\n",
       "       G                         0.28 ...              [KK98] 070\n",
       "       G                -3349.27-1.35 ...       [RC3] 1234.6-1014\n",
       "     *Cl                         1.30 ...         [WCD2007] IGC-4\n",
       "       G                     -8412.98 ...                 kkh 038"
      ]
     },
     "execution_count": 10,
     "metadata": {},
     "output_type": "execute_result"
    }
   ],
   "source": [
    "steer"
   ]
  },
  {
   "cell_type": "markdown",
   "metadata": {},
   "source": [
    "# Matching to IPAC catalogs #\n",
    "\n",
    "- run the method in write_subtables\n",
    "- then upload coordinate file to irsa\n",
    "- this creates coords_for_z0MGS.txt - an ipac table - in research/Virgo/tables/\n",
    "- https://irsa.ipac.caltech.edu/cgi-bin/Gator/nph-dd\n",
    "  - z0MGS DR1 (first catalog w/more sources)\n",
    "  - one-to-one match\n",
    "  - standard form\n",
    "  - then download as ipac table\n",
    "\n",
    "# Need to keep North only - write another method\n"
   ]
  },
  {
   "cell_type": "code",
   "execution_count": 29,
   "metadata": {},
   "outputs": [],
   "source": [
    "%run ~/github/Virgo/programs/write_subtables.py\n",
    "c.catalog_for_z0MGS()"
   ]
  },
  {
   "cell_type": "code",
   "execution_count": 128,
   "metadata": {
    "scrolled": true
   },
   "outputs": [
    {
     "name": "stderr",
     "output_type": "stream",
     "text": [
      "/home/rfinn/anaconda3/lib/python3.7/site-packages/astropy/table/column.py:984: RuntimeWarning: invalid value encountered in greater\n",
      "  result = getattr(super(), op)(other)\n",
      "WARNING: UnitsWarning: ''dex'' did not parse as fits unit: At col 0, Unit ''dex'' not supported by the FITS standard.  [astropy.units.core]\n",
      "WARNING: UnitsWarning: 'log(solMass)' did not parse as fits unit: 'log' is not a recognized function [astropy.units.core]\n",
      "WARNING: UnitsWarning: 'log(solMass/yr)' did not parse as fits unit: 'log' is not a recognized function [astropy.units.core]\n",
      "WARNING: Attribute `keywords` of type <class 'collections.OrderedDict'> cannot be added to FITS Header - skipping [astropy.io.fits.convenience]\n"
     ]
    },
    {
     "name": "stdout",
     "output_type": "stream",
     "text": [
      "all CO sources have been matched. CONGRATULATIONS!!!!!!!\n",
      "number of galaxies with CO matches =  227\n",
      "number of duplicates =  1\n",
      "CO sources that are matched to multiple galaxies in the mastertable:\n",
      "NED_name\n",
      "--------\n",
      "      --\n",
      "number of duplicates =  0\n",
      "Halpha sources that are listed multiple times in the halpha file:\n",
      "NSA ID\n",
      "------\n",
      "Halpha table lengths\n",
      "6860 294 6860\n",
      "Number in sample =  6860\n",
      "Number with CO data =  227\n",
      "Number with A100 data = 2341 (0.341)\n",
      "Number with z0MGS matches = 2323 (0.339)\n",
      "Number with steer17 matches = 1785 (0.260)\n",
      "Number with unwise matches = 6260 (0.913)\n",
      "Number with unWISE and NSA = 5332 (0.777)\n",
      "CO SOURCES\n",
      "\tNumber of CO sources in z0MGS = 221 (0.97)\n",
      "\tNumber of CO sources in Steer = 162 (0.71)\n",
      "\tNumber of CO sources in z0MGS+Steer = 162 (0.71)\n",
      "\tNumber of CO sources with unWISE and NSA = 218 (0.96)\n"
     ]
    }
   ],
   "source": [
    "%run ~/github/Virgo/programs/write_subtables.py --north"
   ]
  },
  {
   "cell_type": "code",
   "execution_count": 124,
   "metadata": {
    "scrolled": true
   },
   "outputs": [
    {
     "data": {
      "text/html": [
       "<i>Table masked=True length=6863</i>\n",
       "<table id=\"table140333842262288\" class=\"table-striped table-bordered table-condensed\">\n",
       "<thead><tr><th>VFID</th><th>RA</th><th>DEC</th><th>vr</th><th>objname</th><th>NSAID</th><th>NSAIDV0</th><th>AGC</th><th>NEDname</th><th>HLflag</th><th>NSAflag</th><th>NSAV0flag</th><th>A100flag</th><th>NED</th><th>RA_ha</th><th>DEC_ha</th><th>Vr</th><th>CO</th><th>HI</th><th>Halpha</th><th>Pointing</th><th>Date Obs</th><th>Date Obs2</th><th>Alt Point</th><th>Date Obs3</th><th>Filament</th><th>Group</th><th>Telescope</th><th>filter</th><th>Dithers</th><th>R expt (s)</th><th>Halpha expt (s)</th><th>R expt tot</th><th>Halpha exp tot</th><th>R FWHM (iraf)</th><th>R FWHM</th><th>Ha4 FWHM (iraf)</th><th>Ha4 FWHM</th><th>haflag</th></tr></thead>\n",
       "<thead><tr><th>str8</th><th>float32</th><th>float32</th><th>float32</th><th>str28</th><th>int32</th><th>int64</th><th>int64</th><th>str30</th><th>bool</th><th>bool</th><th>bool</th><th>bool</th><th>str12</th><th>float64</th><th>float64</th><th>float64</th><th>int64</th><th>int64</th><th>int64</th><th>str14</th><th>str10</th><th>str10</th><th>str6</th><th>str10</th><th>int64</th><th>int64</th><th>str9</th><th>str8</th><th>int64</th><th>int64</th><th>str13</th><th>int64</th><th>int64</th><th>float64</th><th>float64</th><th>float64</th><th>float64</th><th>bool</th></tr></thead>\n",
       "<tr><td>VFID0000</td><td>185.86877</td><td>74.95225</td><td>1418.8</td><td>NGC4363</td><td>0</td><td>0</td><td>0</td><td>NGC 4363</td><td>True</td><td>False</td><td>False</td><td>False</td><td>--</td><td>--</td><td>--</td><td>--</td><td>--</td><td>--</td><td>--</td><td>--</td><td>--</td><td>--</td><td>--</td><td>--</td><td>--</td><td>--</td><td>--</td><td>--</td><td>--</td><td>--</td><td>--</td><td>--</td><td>--</td><td>--</td><td>--</td><td>--</td><td>--</td><td>False</td></tr>\n",
       "<tr><td>VFID0001</td><td>182.208</td><td>74.904274</td><td>1331.5</td><td>NGC4133</td><td>0</td><td>0</td><td>0</td><td>NGC 4133</td><td>True</td><td>False</td><td>False</td><td>False</td><td>--</td><td>--</td><td>--</td><td>--</td><td>--</td><td>--</td><td>--</td><td>--</td><td>--</td><td>--</td><td>--</td><td>--</td><td>--</td><td>--</td><td>--</td><td>--</td><td>--</td><td>--</td><td>--</td><td>--</td><td>--</td><td>--</td><td>--</td><td>--</td><td>--</td><td>False</td></tr>\n",
       "<tr><td>VFID0002</td><td>145.94466</td><td>74.85958</td><td>3049.4</td><td>NGC2977</td><td>0</td><td>0</td><td>0</td><td>NGC 2977</td><td>True</td><td>False</td><td>False</td><td>False</td><td>--</td><td>--</td><td>--</td><td>--</td><td>--</td><td>--</td><td>--</td><td>--</td><td>--</td><td>--</td><td>--</td><td>--</td><td>--</td><td>--</td><td>--</td><td>--</td><td>--</td><td>--</td><td>--</td><td>--</td><td>--</td><td>--</td><td>--</td><td>--</td><td>--</td><td>False</td></tr>\n",
       "<tr><td>VFID0003</td><td>185.57309</td><td>74.83839</td><td>1833.0</td><td>PGC040048</td><td>0</td><td>0</td><td>0</td><td>CGCG 352-030</td><td>True</td><td>False</td><td>False</td><td>False</td><td>--</td><td>--</td><td>--</td><td>--</td><td>--</td><td>--</td><td>--</td><td>--</td><td>--</td><td>--</td><td>--</td><td>--</td><td>--</td><td>--</td><td>--</td><td>--</td><td>--</td><td>--</td><td>--</td><td>--</td><td>--</td><td>--</td><td>--</td><td>--</td><td>--</td><td>False</td></tr>\n",
       "<tr><td>VFID0004</td><td>182.82774</td><td>74.80822</td><td>1683.0</td><td>UGC07189</td><td>0</td><td>0</td><td>0</td><td>UGC 07189</td><td>True</td><td>False</td><td>False</td><td>False</td><td>--</td><td>--</td><td>--</td><td>--</td><td>--</td><td>--</td><td>--</td><td>--</td><td>--</td><td>--</td><td>--</td><td>--</td><td>--</td><td>--</td><td>--</td><td>--</td><td>--</td><td>--</td><td>--</td><td>--</td><td>--</td><td>--</td><td>--</td><td>--</td><td>--</td><td>False</td></tr>\n",
       "<tr><td>VFID0005</td><td>173.13419</td><td>74.62754</td><td>1920.1</td><td>NGC3752</td><td>0</td><td>0</td><td>0</td><td>NGC 3752</td><td>True</td><td>False</td><td>False</td><td>False</td><td>--</td><td>--</td><td>--</td><td>--</td><td>--</td><td>--</td><td>--</td><td>--</td><td>--</td><td>--</td><td>--</td><td>--</td><td>--</td><td>--</td><td>--</td><td>--</td><td>--</td><td>--</td><td>--</td><td>--</td><td>--</td><td>--</td><td>--</td><td>--</td><td>--</td><td>False</td></tr>\n",
       "<tr><td>VFID0006</td><td>121.91241</td><td>74.58463</td><td>2333.0</td><td>UGC04202</td><td>0</td><td>0</td><td>0</td><td>UGC 04202</td><td>True</td><td>False</td><td>False</td><td>False</td><td>--</td><td>--</td><td>--</td><td>--</td><td>--</td><td>--</td><td>--</td><td>--</td><td>--</td><td>--</td><td>--</td><td>--</td><td>--</td><td>--</td><td>--</td><td>--</td><td>--</td><td>--</td><td>--</td><td>--</td><td>--</td><td>--</td><td>--</td><td>--</td><td>--</td><td>False</td></tr>\n",
       "<tr><td>VFID0007</td><td>118.2363</td><td>74.57653</td><td>2346.0</td><td>PGC022064</td><td>0</td><td>0</td><td>0</td><td>KUG 0746+747</td><td>True</td><td>False</td><td>False</td><td>False</td><td>--</td><td>--</td><td>--</td><td>--</td><td>--</td><td>--</td><td>--</td><td>--</td><td>--</td><td>--</td><td>--</td><td>--</td><td>--</td><td>--</td><td>--</td><td>--</td><td>--</td><td>--</td><td>--</td><td>--</td><td>--</td><td>--</td><td>--</td><td>--</td><td>--</td><td>False</td></tr>\n",
       "<tr><td>VFID0008</td><td>274.94318</td><td>74.56839</td><td>1484.5</td><td>NGC6643</td><td>0</td><td>0</td><td>0</td><td>NGC 6643</td><td>True</td><td>False</td><td>False</td><td>False</td><td>--</td><td>--</td><td>--</td><td>--</td><td>--</td><td>--</td><td>--</td><td>--</td><td>--</td><td>--</td><td>--</td><td>--</td><td>--</td><td>--</td><td>--</td><td>--</td><td>--</td><td>--</td><td>--</td><td>--</td><td>--</td><td>--</td><td>--</td><td>--</td><td>--</td><td>False</td></tr>\n",
       "<tr><td>VFID0009</td><td>183.47745</td><td>74.5014</td><td>1702.1</td><td>UGC07238</td><td>0</td><td>0</td><td>0</td><td>UGC 07238</td><td>True</td><td>False</td><td>False</td><td>False</td><td>--</td><td>--</td><td>--</td><td>--</td><td>--</td><td>--</td><td>--</td><td>--</td><td>--</td><td>--</td><td>--</td><td>--</td><td>--</td><td>--</td><td>--</td><td>--</td><td>--</td><td>--</td><td>--</td><td>--</td><td>--</td><td>--</td><td>--</td><td>--</td><td>--</td><td>False</td></tr>\n",
       "<tr><td>...</td><td>...</td><td>...</td><td>...</td><td>...</td><td>...</td><td>...</td><td>...</td><td>...</td><td>...</td><td>...</td><td>...</td><td>...</td><td>...</td><td>...</td><td>...</td><td>...</td><td>...</td><td>...</td><td>...</td><td>...</td><td>...</td><td>...</td><td>...</td><td>...</td><td>...</td><td>...</td><td>...</td><td>...</td><td>...</td><td>...</td><td>...</td><td>...</td><td>...</td><td>...</td><td>...</td><td>...</td><td>...</td><td>...</td></tr>\n",
       "<tr><td>VFID6850</td><td>190.73863</td><td>-1.2293804</td><td>3213.8</td><td>UGC07883</td><td>8920</td><td>1568</td><td>0</td><td>UGC 07883</td><td>True</td><td>True</td><td>True</td><td>False</td><td>--</td><td>--</td><td>--</td><td>--</td><td>--</td><td>--</td><td>--</td><td>--</td><td>--</td><td>--</td><td>--</td><td>--</td><td>--</td><td>--</td><td>--</td><td>--</td><td>--</td><td>--</td><td>--</td><td>--</td><td>--</td><td>--</td><td>--</td><td>--</td><td>--</td><td>False</td></tr>\n",
       "<tr><td>VFID6851</td><td>215.62787</td><td>-1.2293984</td><td>1745.2</td><td>PGC1123741</td><td>631635</td><td>144960</td><td>0</td><td>WISEA J142230.70-011345.2</td><td>True</td><td>True</td><td>True</td><td>False</td><td>--</td><td>--</td><td>--</td><td>--</td><td>--</td><td>--</td><td>--</td><td>--</td><td>--</td><td>--</td><td>--</td><td>--</td><td>--</td><td>--</td><td>--</td><td>--</td><td>--</td><td>--</td><td>--</td><td>--</td><td>--</td><td>--</td><td>--</td><td>--</td><td>--</td><td>False</td></tr>\n",
       "<tr><td>VFID6852</td><td>163.18935</td><td>-1.2314</td><td>929.0</td><td>PGC3286596</td><td>625465</td><td>138257</td><td>0</td><td>WISEA J105245.44-011353.0</td><td>True</td><td>True</td><td>True</td><td>False</td><td>--</td><td>--</td><td>--</td><td>--</td><td>--</td><td>--</td><td>--</td><td>--</td><td>--</td><td>--</td><td>--</td><td>--</td><td>--</td><td>--</td><td>--</td><td>--</td><td>--</td><td>--</td><td>--</td><td>--</td><td>--</td><td>--</td><td>--</td><td>--</td><td>--</td><td>False</td></tr>\n",
       "<tr><td>VFID6853</td><td>191.5875</td><td>-1.2501285</td><td>2779.2</td><td>PGC1123239</td><td>8840</td><td>1564</td><td>0</td><td>WISEA J124620.96-011500.3</td><td>True</td><td>True</td><td>True</td><td>False</td><td>--</td><td>--</td><td>--</td><td>--</td><td>--</td><td>--</td><td>--</td><td>--</td><td>--</td><td>--</td><td>--</td><td>--</td><td>--</td><td>--</td><td>--</td><td>--</td><td>--</td><td>--</td><td>--</td><td>--</td><td>--</td><td>--</td><td>--</td><td>--</td><td>--</td><td>False</td></tr>\n",
       "<tr><td>VFID6854</td><td>186.59453</td><td>-1.2542672</td><td>1982.7</td><td>PGC040683</td><td>628312</td><td>141357</td><td>0</td><td>UM 501</td><td>True</td><td>True</td><td>True</td><td>False</td><td>--</td><td>--</td><td>--</td><td>--</td><td>--</td><td>--</td><td>--</td><td>--</td><td>--</td><td>--</td><td>--</td><td>--</td><td>--</td><td>--</td><td>--</td><td>--</td><td>--</td><td>--</td><td>--</td><td>--</td><td>--</td><td>--</td><td>--</td><td>--</td><td>--</td><td>False</td></tr>\n",
       "<tr><td>VFID6855</td><td>175.93983</td><td>-1.2766024</td><td>1699.8</td><td>GAMA143446</td><td>0</td><td>0</td><td>0</td><td>GAMA 143446</td><td>True</td><td>False</td><td>False</td><td>False</td><td>--</td><td>--</td><td>--</td><td>--</td><td>--</td><td>--</td><td>--</td><td>--</td><td>--</td><td>--</td><td>--</td><td>--</td><td>--</td><td>--</td><td>--</td><td>--</td><td>--</td><td>--</td><td>--</td><td>--</td><td>--</td><td>--</td><td>--</td><td>--</td><td>--</td><td>False</td></tr>\n",
       "<tr><td>VFID6856</td><td>170.0766</td><td>-1.2806</td><td>2758.0</td><td>PGC3288547</td><td>659271</td><td>159635</td><td>0</td><td>WISEA J112018.30-011650.6</td><td>True</td><td>True</td><td>True</td><td>False</td><td>--</td><td>--</td><td>--</td><td>--</td><td>--</td><td>--</td><td>--</td><td>--</td><td>--</td><td>--</td><td>--</td><td>--</td><td>--</td><td>--</td><td>--</td><td>--</td><td>--</td><td>--</td><td>--</td><td>--</td><td>--</td><td>--</td><td>--</td><td>--</td><td>--</td><td>False</td></tr>\n",
       "<tr><td>VFID6857</td><td>183.4117</td><td>-1.2935266</td><td>2430.5</td><td>PGC1122171</td><td>627938</td><td>140947</td><td>0</td><td>WISEA J121338.81-011736.9</td><td>True</td><td>True</td><td>True</td><td>False</td><td>--</td><td>--</td><td>--</td><td>--</td><td>--</td><td>--</td><td>--</td><td>--</td><td>--</td><td>--</td><td>--</td><td>--</td><td>--</td><td>--</td><td>--</td><td>--</td><td>--</td><td>--</td><td>--</td><td>--</td><td>--</td><td>--</td><td>--</td><td>--</td><td>--</td><td>False</td></tr>\n",
       "<tr><td>VFID6858</td><td>187.44257</td><td>-1.2951077</td><td>2260.5</td><td>PGC135806</td><td>19673</td><td>3481</td><td>0</td><td>WISEA J122946.30-011741.6</td><td>True</td><td>True</td><td>True</td><td>False</td><td>--</td><td>--</td><td>--</td><td>--</td><td>--</td><td>--</td><td>--</td><td>--</td><td>--</td><td>--</td><td>--</td><td>--</td><td>--</td><td>--</td><td>--</td><td>--</td><td>--</td><td>--</td><td>--</td><td>--</td><td>--</td><td>--</td><td>--</td><td>--</td><td>--</td><td>False</td></tr>\n",
       "<tr><td>VFID6859</td><td>180.2962</td><td>-1.2961195</td><td>1487.4</td><td>UGC07000</td><td>695480</td><td>171514</td><td>0</td><td>UGC 07000</td><td>True</td><td>True</td><td>True</td><td>False</td><td>--</td><td>--</td><td>--</td><td>--</td><td>--</td><td>--</td><td>--</td><td>--</td><td>--</td><td>--</td><td>--</td><td>--</td><td>--</td><td>--</td><td>--</td><td>--</td><td>--</td><td>--</td><td>--</td><td>--</td><td>--</td><td>--</td><td>--</td><td>--</td><td>--</td><td>False</td></tr>\n",
       "</table>"
      ],
      "text/plain": [
       "<Table masked=True length=6863>\n",
       "  VFID       RA       DEC        vr   ... Ha4 FWHM (iraf) Ha4 FWHM haflag\n",
       "  str8    float32   float32   float32 ...     float64     float64   bool \n",
       "-------- --------- ---------- ------- ... --------------- -------- ------\n",
       "VFID0000 185.86877   74.95225  1418.8 ...              --       --  False\n",
       "VFID0001   182.208  74.904274  1331.5 ...              --       --  False\n",
       "VFID0002 145.94466   74.85958  3049.4 ...              --       --  False\n",
       "VFID0003 185.57309   74.83839  1833.0 ...              --       --  False\n",
       "VFID0004 182.82774   74.80822  1683.0 ...              --       --  False\n",
       "VFID0005 173.13419   74.62754  1920.1 ...              --       --  False\n",
       "VFID0006 121.91241   74.58463  2333.0 ...              --       --  False\n",
       "VFID0007  118.2363   74.57653  2346.0 ...              --       --  False\n",
       "VFID0008 274.94318   74.56839  1484.5 ...              --       --  False\n",
       "VFID0009 183.47745    74.5014  1702.1 ...              --       --  False\n",
       "     ...       ...        ...     ... ...             ...      ...    ...\n",
       "VFID6850 190.73863 -1.2293804  3213.8 ...              --       --  False\n",
       "VFID6851 215.62787 -1.2293984  1745.2 ...              --       --  False\n",
       "VFID6852 163.18935    -1.2314   929.0 ...              --       --  False\n",
       "VFID6853  191.5875 -1.2501285  2779.2 ...              --       --  False\n",
       "VFID6854 186.59453 -1.2542672  1982.7 ...              --       --  False\n",
       "VFID6855 175.93983 -1.2766024  1699.8 ...              --       --  False\n",
       "VFID6856  170.0766    -1.2806  2758.0 ...              --       --  False\n",
       "VFID6857  183.4117 -1.2935266  2430.5 ...              --       --  False\n",
       "VFID6858 187.44257 -1.2951077  2260.5 ...              --       --  False\n",
       "VFID6859  180.2962 -1.2961195  1487.4 ...              --       --  False"
      ]
     },
     "execution_count": 124,
     "metadata": {},
     "output_type": "execute_result"
    }
   ],
   "source": [
    "c.hatable"
   ]
  },
  {
   "cell_type": "markdown",
   "metadata": {},
   "source": [
    "# Getting Size Measurement for Each Galaxy #\n",
    "- use D25 if it exists (from hyperleda)\n"
   ]
  },
  {
   "cell_type": "code",
   "execution_count": null,
   "metadata": {},
   "outputs": [],
   "source": []
  },
  {
   "cell_type": "markdown",
   "metadata": {},
   "source": [
    "# catalog statistics #"
   ]
  },
  {
   "cell_type": "code",
   "execution_count": 129,
   "metadata": {},
   "outputs": [
    {
     "ename": "NameError",
     "evalue": "name 'maintab' is not defined",
     "output_type": "error",
     "traceback": [
      "\u001b[0;31m---------------------------------------------------------------------------\u001b[0m",
      "\u001b[0;31mNameError\u001b[0m                                 Traceback (most recent call last)",
      "\u001b[0;32m<ipython-input-129-a1380c72c6df>\u001b[0m in \u001b[0;36m<module>\u001b[0;34m\u001b[0m\n\u001b[0;32m----> 1\u001b[0;31m \u001b[0mprint\u001b[0m\u001b[0;34m(\u001b[0m\u001b[0;34m'fraction with HL data = '\u001b[0m\u001b[0;34m,\u001b[0m\u001b[0msum\u001b[0m\u001b[0;34m(\u001b[0m\u001b[0mmaintab\u001b[0m\u001b[0;34m[\u001b[0m\u001b[0;34m'HLflag'\u001b[0m\u001b[0;34m]\u001b[0m\u001b[0;34m)\u001b[0m\u001b[0;34m/\u001b[0m\u001b[0mlen\u001b[0m\u001b[0;34m(\u001b[0m\u001b[0mmaintab\u001b[0m\u001b[0;34m)\u001b[0m\u001b[0;34m)\u001b[0m\u001b[0;34m\u001b[0m\u001b[0;34m\u001b[0m\u001b[0m\n\u001b[0m",
      "\u001b[0;31mNameError\u001b[0m: name 'maintab' is not defined"
     ]
    }
   ],
   "source": [
    "print('fraction with HL data = ',sum(maintab['HLflag'])/len(maintab))"
   ]
  },
  {
   "cell_type": "code",
   "execution_count": null,
   "metadata": {},
   "outputs": [],
   "source": []
  }
 ],
 "metadata": {
  "kernelspec": {
   "display_name": "Python 3",
   "language": "python",
   "name": "python3"
  },
  "language_info": {
   "codemirror_mode": {
    "name": "ipython",
    "version": 3
   },
   "file_extension": ".py",
   "mimetype": "text/x-python",
   "name": "python",
   "nbconvert_exporter": "python",
   "pygments_lexer": "ipython3",
   "version": "3.7.4"
  }
 },
 "nbformat": 4,
 "nbformat_minor": 2
}
